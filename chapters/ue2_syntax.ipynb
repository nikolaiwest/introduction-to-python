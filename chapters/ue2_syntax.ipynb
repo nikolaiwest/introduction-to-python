{
 "cells": [
  {
   "cell_type": "markdown",
   "metadata": {},
   "source": [
    "# UE2: Syntax\n",
    "\n",
    "<img src=\"https://upload.wikimedia.org/wikipedia/commons/thumb/f/f8/Python_logo_and_wordmark.svg/2560px-Python_logo_and_wordmark.svg.png\" height=\"200\">"
   ]
  },
  {
   "cell_type": "markdown",
   "metadata": {},
   "source": [
    "### **Introduction to Python Programming**\n",
    "\n",
    "Welcome to the Introduction to Python Programming course, where you'll learn the fundamentals of Python syntax and how to use Python for a wide range of programming tasks. \n",
    "\n",
    "This two-hour course unit *\"UE2: Syntax\"* is designed to provide beginners with a solid foundation in Python, covering everything from basic data types to complex concepts like object-oriented programming. We will often only scratch the surface of some concepts, but this course aims to provide references to support self-guided learning.\n",
    "\n",
    "---\n"
   ]
  },
  {
   "cell_type": "markdown",
   "metadata": {},
   "source": [
    "## **[Course Outline](#course-outline)**\n",
    "\n",
    "#### **Chapter 1. [Getting Started with Python](#1-getting-started-with-python)**\n",
    "- **Chapter 1.1 [Introduction to Python](#1.1-introduction-to-python):** Overview of Python and its place in the programming world.\n",
    "- **Chapter 1.2 [Setting Up Your Environment](#1.2-setting-up-your-environment):** How to install Python and set up a development environment.\n",
    "- **Chapter 1.3 [Your First Python Program](#1.3-your-first-python-program):** Writing and executing your first Python script.\n",
    "\n",
    "#### **Chapter 2. [Python Basics](#2-python-basics)**\n",
    "- **Chapter 2.1 [Variables and Data Types](#2.1-variables-and-data-types):** Understanding Python's basic data types and how to use variables.\n",
    "- **Chapter 2.2 [Operators](#2.2-operators):** Exploring Python's operators for arithmetic, comparison, and logical operations.\n",
    "- **Chapter 2.3 [Strings and Input](#2.3-strings-and-input):** Manipulating strings and getting user input.\n",
    "\n",
    "#### **Chapter 3. [Control Structures](#3-control-structures)**\n",
    "- **Chapter 3.1 [Conditionals](#3.1-conditionals):** Making decisions in your code with `if`, `elif`, and `else`.\n",
    "- **Chapter 3.2 [Loops](#3.2-loops):** Repeating tasks using `for` and `while` loops.\n",
    "- **Chapter 3.3 [Handling Errors and Exceptions](#3.3-handling-errors-and-exceptions):** Writing robust code by handling exceptions.\n",
    "\n",
    "#### **Chapter 4. [Data Structures](#4-data-structures)**\n",
    "- **Chapter 4.1 [Lists](#4.1-lists):** Working with lists for ordered data collections.\n",
    "- **Chapter 4.2 [Dictionaries](#4.2-dictionaries):** Using dictionaries for key-value pairs.\n",
    "- **Chapter 4.3 [Tuples and Sets](#4.3-tuples-and-sets):** Understanding tuples and sets for unique and immutable collections.\n",
    "\n",
    "#### **Chapter 5. [Functions and Modules](#5-functions-and-modules)**\n",
    "- **Chapter 5.1 [Defining Functions](#5.1-defining-functions):** Creating reusable code blocks with functions.\n",
    "- **Chapter 5.2 [Function Arguments](#5.2-function-arguments):** Passing data to functions through arguments.\n",
    "- **Chapter 5.3 [Modules and Packages](#5.3-modules-and-packages):** Organizing code into modules and using external packages.\n",
    "- **Chapter 5.4 [Coding Challenge](#5.4-coding-challenge)**\n",
    "\n",
    "#### **Chapter 6. [Object-Oriented Programming](#6-object-oriented-programming)**\n",
    "- **Chapter 6.1 [Classes and Objects](#6.1-classes-and-objects):** Introduction to object-oriented programming concepts.\n",
    "- **Chapter 6.2 [Inheritance and Polymorphism](#6.2-inheritance-and-polymorphism):** Extending classes and using polymorphism.\n",
    "- **Chapter 6.3 [Magic Methods and Decorators](#6.3-magic-methods-and-decorators):** Enhancing classes with special methods and decorators.\n",
    "\n",
    "#### **Chapter 7. [Best Practices and Resources](#8-best-practices-and-resources)**\n",
    "- **Chapter 7.1 [Writing Idiomatic Python](#8.1-writing-idiomatic-python):** Tips for writing clean and Pythonic code.\n",
    "- **Chapter 7.2 [Learning Resources](#8.2-learning-resources):** Further materials for deepening your Python knowledge.\n",
    "- **Chapter 7.3 [Q&A Session](#73-qa-session)** Opportunity to discuss and clarify doubts.\n",
    "\n",
    "\n",
    "---"
   ]
  },
  {
   "cell_type": "markdown",
   "metadata": {},
   "source": [
    "## **[1. Getting Started with Python](#1-getting-started-with-python)**"
   ]
  },
  {
   "cell_type": "markdown",
   "metadata": {},
   "source": [
    "### [1.1 Introduction to Python](#11-introduction-to-python)\n",
    "\n",
    "Python, created by *Guido van Rossum* and first released in 1991, has grown to become one of the most popular programming languages in the world. Renowned for its readability and efficiency, Python's design philosophy emphasizes code readability with its notable use of significant whitespace. You can start learning more [here](https://en.wikipedia.org/wiki/Python_(programming_language)). \n",
    "\n",
    "If you want to dive in the history of Python, you may start [here](https://www.youtube.com/watch?v=J0Aq44Pze-w). \n",
    "\n",
    "**Python** supports multiple programming paradigms, including procedural, object-oriented, and functional programming. \n",
    "\n",
    "Python's extensive standard library, combined with its comprehensive ecosystem of third-party packages, makes it a versatile tool for developing software in various domains, from web development and data analysis to artificial intelligence and scientific computing.\n",
    "\n"
   ]
  },
  {
   "cell_type": "markdown",
   "metadata": {},
   "source": [
    "### [1.2 Setting Up Your Environment](#12-setting-up-your-environment)\n",
    "\n",
    "To start coding in Python, you first need to set up your development environment. This process involves installing Python on your system and choosing an editor or IDE (Integrated Development Environment) for writing your code. \n",
    "\n",
    "*Please refer to the previous course unit if you are unfamiliar with these concepts.* "
   ]
  },
  {
   "cell_type": "markdown",
   "metadata": {},
   "source": [
    "### [1.3 Your First Python Program](#13-your-first-python-program)\n",
    "\n",
    "With your environment set up, it's time to write and execute your first Python script. The traditional first program in any programming language is \"Hello, World!\" - a simple script that outputs \"Hello, World!\" to the console. \n",
    "\n",
    "Instead of using the console, we can output python code in this Jupyter Notebook file (`+ Code`). "
   ]
  },
  {
   "cell_type": "code",
   "execution_count": null,
   "metadata": {},
   "outputs": [],
   "source": [
    "# This is your first Python script\n",
    "print(\"Hello, Kassel!\")"
   ]
  },
  {
   "cell_type": "markdown",
   "metadata": {},
   "source": [
    "### 👨‍💻 Practice tasks 1.3: Your First Python Program"
   ]
  },
  {
   "cell_type": "code",
   "execution_count": null,
   "metadata": {},
   "outputs": [],
   "source": [
    "# 1. Write a Python script that prints \"Hello, [Your Name]!\" replacing [Your Name] with your actual name\n",
    "# 2. Modify the script to print two separate lines: \"Hello!\" on the first line and your name on the second line\n",
    "# 3. Add a comment above your code explaining what the script does"
   ]
  },
  {
   "cell_type": "markdown",
   "metadata": {},
   "source": [
    "[--> Back to Outline](#course-outline)\n",
    "\n",
    "---\n"
   ]
  },
  {
   "cell_type": "markdown",
   "metadata": {},
   "source": [
    "## **[2. Python Basics](#2-python-basics)**\n"
   ]
  },
  {
   "cell_type": "markdown",
   "metadata": {},
   "source": [
    "### [2.1 Variables and Data Types](#21-variables-and-data-types)\n",
    "\n",
    "Variables in Python are like labels that you can attach to **values**. They allow you to store and manipulate data in your programs. \n",
    "\n",
    "Python is **dynamically** typed, which means you don't need to declare the type of a variable when you create one."
   ]
  },
  {
   "cell_type": "code",
   "execution_count": null,
   "metadata": {},
   "outputs": [],
   "source": [
    "# Integer\n",
    "x = 5 \n",
    "print(x)"
   ]
  },
  {
   "cell_type": "code",
   "execution_count": null,
   "metadata": {},
   "outputs": [],
   "source": [
    "# Float \n",
    "y = 5.\n",
    "print(y)"
   ]
  },
  {
   "cell_type": "code",
   "execution_count": null,
   "metadata": {},
   "outputs": [],
   "source": [
    "# Boolean\n",
    "is_active = False\n",
    "print(is_active)"
   ]
  },
  {
   "cell_type": "code",
   "execution_count": null,
   "metadata": {},
   "outputs": [],
   "source": [
    "# String\n",
    "name = \"Nick\"\n",
    "print(name)"
   ]
  },
  {
   "cell_type": "code",
   "execution_count": null,
   "metadata": {},
   "outputs": [],
   "source": [
    "# Inspecting the type\n",
    "print(type(x))\n",
    "print(type(y))\n",
    "print(type(is_active))\n",
    "print(type(name))"
   ]
  },
  {
   "cell_type": "code",
   "execution_count": null,
   "metadata": {},
   "outputs": [],
   "source": [
    "# Convert integer to float\n",
    "a = 10\n",
    "print(float(a))\n",
    "\n",
    "# Convert float to integer\n",
    "b = 7.7\n",
    "print(int(b))\n",
    "\n",
    "# Convert number to string\n",
    "c = 5\n",
    "print(5)"
   ]
  },
  {
   "cell_type": "markdown",
   "metadata": {},
   "source": [
    "### 👨‍💻 Practice tasks 2.1: Using variables and data types "
   ]
  },
  {
   "cell_type": "code",
   "execution_count": null,
   "metadata": {},
   "outputs": [],
   "source": [
    "# 1. Create an integer variable named 'age' and assign it your age\n",
    "# 2. Create a float variable named 'height' and assign it your height in meters\n",
    "# 3. Create a boolean variable named 'is_student' and assign it True if you're a student, False otherwise\n",
    "# 4. Create a string variable named 'favorite_color' and assign it your favorite color\n",
    "# 5. Print the type of each variable you created using the type() function\n",
    "# 6. Convert 'age' to a float and store it in a new variable 'age_float'\n",
    "# 7. Convert 'height' to an integer and store it in a new variable 'height_int'\n",
    "# 8. Convert 'age' to a string and store it in a new variable 'age_str'\n",
    "# 9. Print the values and types of 'age_float', 'height_int', and 'age_str'"
   ]
  },
  {
   "cell_type": "markdown",
   "metadata": {},
   "source": [
    "### [2.2 Operators](#22-operators)\n",
    "\n",
    "Operators allow you to perform **operations** on variables and values. \n",
    "\n",
    "Python divides the operators in the following groups: \n",
    "1. Arithmetic operators\n",
    "2. Comparison operators\n",
    "3. Logical operators\n",
    "4. Assignment operators"
   ]
  },
  {
   "cell_type": "markdown",
   "metadata": {},
   "source": [
    "#### Arithmetic operators"
   ]
  },
  {
   "cell_type": "code",
   "execution_count": null,
   "metadata": {},
   "outputs": [],
   "source": [
    "# Addition\n",
    "print(5 + 3)\n",
    "\n",
    "# Subtraction\n",
    "print(10 - 2)\n",
    "\n",
    "# Multiplication\n",
    "print(4 * 2)\n",
    "\n",
    "# Division\n",
    "print(16 / 2)\n",
    "\n",
    "# Modulus\n",
    "print(17 % 9) # rest 8\n",
    "\n",
    "# Exponentiation\n",
    "print(2 ** 3)\n",
    "\n",
    "# Floor division\n",
    "print(17 // 2)"
   ]
  },
  {
   "cell_type": "markdown",
   "metadata": {},
   "source": [
    "#### Comparison operators"
   ]
  },
  {
   "cell_type": "code",
   "execution_count": null,
   "metadata": {},
   "outputs": [],
   "source": [
    "# Equal\n",
    "print(5 == 3)\n",
    "\n",
    "# Not equal\n",
    "print(5 != 3)\n",
    "\n",
    "# Greater than\n",
    "print(5 > 3)\n",
    "\n",
    "# Less than\n",
    "print(5 < 3)\n",
    "\n",
    "# Greater than or equal to\n",
    "print(5 >= 3)\n",
    "\n",
    "# Less than or equal to\n",
    "print(5 <= 3)"
   ]
  },
  {
   "cell_type": "markdown",
   "metadata": {},
   "source": [
    "#### Logical operators "
   ]
  },
  {
   "cell_type": "code",
   "execution_count": null,
   "metadata": {},
   "outputs": [],
   "source": [
    "# and\n",
    "print(True and False)\n",
    "\n",
    "# or\n",
    "print(True or False)\n",
    "\n",
    "# not\n",
    "print(not True)"
   ]
  },
  {
   "cell_type": "markdown",
   "metadata": {},
   "source": [
    "#### Assignment operators"
   ]
  },
  {
   "cell_type": "code",
   "execution_count": null,
   "metadata": {},
   "outputs": [],
   "source": [
    "x = 5\n",
    "x += 3\n",
    "print(x)\n",
    "\n",
    "x -= 2\n",
    "print(x)\n",
    "\n",
    "x *= 2\n",
    "print(x)\n",
    "\n",
    "x /= 4\n",
    "print(x)"
   ]
  },
  {
   "cell_type": "markdown",
   "metadata": {},
   "source": [
    "### 👨‍💻 Practice tasks 2.2: Operators"
   ]
  },
  {
   "cell_type": "code",
   "execution_count": null,
   "metadata": {},
   "outputs": [],
   "source": [
    "# 1. Create two variables 'a' and 'b' with values 10 and 3 respectively\n",
    "# 2. Print the result of a + b, a - b, a * b, a / b, a % b, a ** b, and a // b\n",
    "# 3. Create two variables 'x' and 'y' with values 5 and 5.0 respectively\n",
    "# 4. Print the result of x == y, x != y, x > y, x < y, x >= y, and x <= y\n",
    "# 5. Create two boolean variables 'p' and 'q' with values True and False respectively\n",
    "# 6. Print the result of p and q, p or q, not p, and not q"
   ]
  },
  {
   "cell_type": "markdown",
   "metadata": {},
   "source": [
    "### [2.3 Strings and Input](#23-strings-and-input)\n",
    "\n",
    "Strings in Python are sequences of **characters**. Python has a set of built-in methods that you can use on strings."
   ]
  },
  {
   "cell_type": "markdown",
   "metadata": {},
   "source": [
    "#### String Basics"
   ]
  },
  {
   "cell_type": "code",
   "execution_count": null,
   "metadata": {},
   "outputs": [],
   "source": [
    "hello = \" Hello, InDaS 2! \"\n",
    "print(hello.upper())\n",
    "print(hello.lower())\n",
    "print(hello.strip()) # removes whitespace from the beginning or the end\n",
    "print(hello.split(\",\")) # returns ['Hello', ' World!']"
   ]
  },
  {
   "cell_type": "markdown",
   "metadata": {},
   "source": [
    "#### String Formatting"
   ]
  },
  {
   "cell_type": "code",
   "execution_count": null,
   "metadata": {},
   "outputs": [],
   "source": [
    "name = \"InDaS 2\"\n",
    "\n",
    "# Old-style string formatting\n",
    "print(\"Hello, %s!\" % name)\n",
    "\n",
    "# .format() method\n",
    "print(\"Hello, {}!\".format(name))\n",
    "\n",
    "# f-strings (formatted string literals)\n",
    "print(f\"Hello, {name}!\")"
   ]
  },
  {
   "cell_type": "code",
   "execution_count": null,
   "metadata": {},
   "outputs": [],
   "source": [
    "# More examples for f-string usage \n",
    "\n",
    "# Number formatting \n",
    "num1 = 123456789\n",
    "print(f\"{num1:_}\")\n",
    "num2 = 123456.789\n",
    "print(f\"{num2:.2f}\")\n",
    "\n",
    "# Inline conditional expressions\n",
    "age = 30\n",
    "print(f\"{'minor' if age < 21 else 'adult'}\")\n",
    "\n",
    "# Format specific bases \n",
    "number = 255\n",
    "print(f\"{number:b}\") # binary \n",
    "print(f\"{number:x}\") # hexadecimal\n",
    "\n",
    "# Alignment and padding\n",
    "name = \"InDaS\"\n",
    "print(f\"{name:>10}\") # right\n",
    "print(f\"{name:<10}\") # left\n",
    "print(f\"{name:^10}\") # center"
   ]
  },
  {
   "cell_type": "markdown",
   "metadata": {},
   "source": [
    "#### User Input"
   ]
  },
  {
   "cell_type": "code",
   "execution_count": null,
   "metadata": {},
   "outputs": [],
   "source": [
    "# Ask the user for their name\n",
    "user_name = input(\"Enter your name: \")\n",
    "\n",
    "# Ask the user for their age\n",
    "user_age = int(input(\"Enter your age: \")) # Convert string to integer\n",
    "\n",
    "print(f\"Hello, {user_name}!\")\n",
    "print(f\"You are {user_age} years old.\")"
   ]
  },
  {
   "cell_type": "markdown",
   "metadata": {},
   "source": [
    "### 👨‍💻 Practice tasks 2.3: Strings and Input"
   ]
  },
  {
   "cell_type": "code",
   "execution_count": null,
   "metadata": {},
   "outputs": [],
   "source": [
    "# 1. Create a string variable 'course_name' with the value \"Python Programming\"\n",
    "# 2. Print 'course_name' in all uppercase, then in all lowercase\n",
    "# 3. Create a string variable 'messy_string' with value \"  Python is fun!  \"\n",
    "# 4. Print 'messy_string' with leading and trailing whitespace removed\n",
    "# 5. Split 'course_name' into a list of words and print the result\n",
    "# 6. Create variables 'first_name' and 'last_name' with your first and last name\n",
    "# 7. Use string formatting to print \"My name is [first_name] [last_name]\" (try all three methods)\n",
    "# 8. Use input() to ask the user for their favorite programming language and store it in a variable 'fav_lang'\n",
    "# 9. Print \"Your favorite programming language is [fav_lang]!\" using an f-string"
   ]
  },
  {
   "cell_type": "markdown",
   "metadata": {},
   "source": [
    "### [2.4 Coding Challenge](#24-coding-challenge)\n",
    "\n",
    "#### Stress and Strain Calculator\n",
    "\n",
    "`Stress` and `strain` are two fundamental concepts in the field of materials science and engineering, describing how materials deform under applied forces. Stress is a measure of the internal forces acting within a material, while strain is a measure of the deformation of the material.\n",
    "\n",
    "* **Stress** is defined as the force applied per unit area of a material and is usually measured in Pascals (Pa) or pounds per square inch (psi). It describes the internal distribution of forces within a material that balance and react to the external loads applied to it.\n",
    "\n",
    "* **Strain** is a measure of the deformation of a material in response to an applied stress. It is a dimensionless quantity that represents the relative displacement between particles in the material. Strain can be expressed as a percentage or a fraction.\n",
    "\n",
    "\n",
    "| Attribute       | Stress                                         | Strain                                       |\n",
    "|-----------------|------------------------------------------------|----------------------------------------------|\n",
    "| Definition      | Force per unit area within a material          | Deformation of a material                    |\n",
    "| Measurement     | Pascals (Pa), pounds per square inch (psi)     | Dimensionless (ratio, percentage)            |\n",
    "| Units           | N/m², psi                                      | None (it's a ratio)                          |\n",
    "\n",
    "\n",
    "\n",
    "**Objective**: \n",
    "\n",
    "Create a basic program that calculates the **stress** and **strain** on a material based on user input. The program will prompt the user for the force applied to the `material` (in newtons) and the `cross-sectional area` (in square meters) to calculate stress. It will also ask for the `original length` and the `change in length` (both in meters) to calculate strain.\n",
    "\n",
    "**User Input:**\n",
    "* Prompt the user to enter the applied force (in newtons).\n",
    "* Ask for the cross-sectional area of the material (in square meters).\n",
    "* Request the original length of the material (in meters).\n",
    "* Ask for the change in length of the material (in meters).\n",
    "\n",
    "**Calculations:**\n",
    "* Calculate stress using the formula: `Stress` = `Force / Area`\n",
    "\n",
    "* Calculate strain using the formula: `Strain` = `Change in Length / Original Length`\n",
    "\n",
    "**Output:**\n",
    "* Display the calculated stress with an appropriate unit (Pascals).\n",
    "* Display the calculated strain (dimensionless).\n",
    "* Use additional text to explain the outputs to your user."
   ]
  },
  {
   "cell_type": "code",
   "execution_count": null,
   "metadata": {},
   "outputs": [],
   "source": [
    "# Stress and Strain Calculator\n",
    "\n",
    "# Prompt the user for input and convert the inputs to the appropriate data types\n",
    "# Use float() for conversions because we are dealing with decimal values\n",
    "\n",
    "# S T R E S S \n",
    "\n",
    "# Get the applied force in newtons from the user\n",
    "force = float(input(\"Enter the applied force (in newtons): \"))\n",
    "\n",
    "# Get the cross-sectional area of the material in square meters\n",
    "area = float(input(\"Enter the cross-sectional area (in square meters): \"))\n",
    "\n",
    "# Calculate stress using the formula: Stress = Force / Area\n",
    "# Stress is measured in Pascals (Pa), which is equivalent to N/m^2\n",
    "stress = force / area\n",
    "\n",
    "# Display the results and use string formatting to include the calculated values in the output messages\n",
    "print(f\"Calculated Stress: {stress} Pascals\")\n",
    "\n",
    "# S T R A I N \n",
    "\n",
    "# Get the original length of the material in meters\n",
    "original_length = float(input(\"Enter the original length of the material (in meters): \"))\n",
    "\n",
    "# Get the change in length of the material in meters\n",
    "change_in_length = float(input(\"Enter the change in length of the material (in meters): \"))\n",
    "\n",
    "# Calculate strain using the formula: Strain = Change in Length / Original Length\n",
    "# Strain is a dimensionless quantity (no units)\n",
    "strain = change_in_length / original_length\n",
    "\n",
    "# Again, display the results using string formatting \n",
    "print(f\"Calculated Strain: {strain}\")"
   ]
  },
  {
   "cell_type": "markdown",
   "metadata": {},
   "source": [
    "[--> Back to Outline](#course-outline)\n",
    "\n",
    "---\n"
   ]
  },
  {
   "cell_type": "markdown",
   "metadata": {},
   "source": [
    "## **[3. Control Structures](#3-control-structures)**\n"
   ]
  },
  {
   "cell_type": "markdown",
   "metadata": {},
   "source": [
    "### **[3.1 Conditionals](#31-conditionals)**\n",
    "\n",
    "Conditionals in Python allow you to execute different blocks of code based on certain conditions. The basic conditional statements in Python are `if`, `elif` (else if), and `else`."
   ]
  },
  {
   "cell_type": "markdown",
   "metadata": {},
   "source": [
    "#### if statement"
   ]
  },
  {
   "cell_type": "code",
   "execution_count": null,
   "metadata": {},
   "outputs": [],
   "source": [
    "# Example of if statement\n",
    "x = 10\n",
    "if x > 5:\n",
    "    print(\"x is greater than 5\")"
   ]
  },
  {
   "cell_type": "markdown",
   "metadata": {},
   "source": [
    "#### if-else statement"
   ]
  },
  {
   "cell_type": "code",
   "execution_count": null,
   "metadata": {},
   "outputs": [],
   "source": [
    "# Example of if-else statement\n",
    "y = 4\n",
    "if y > 5:\n",
    "    print(\"y is greater than 5\")\n",
    "else:\n",
    "    print(\"y is not greater than 5\")"
   ]
  },
  {
   "cell_type": "markdown",
   "metadata": {},
   "source": [
    "#### if-elif-else statement"
   ]
  },
  {
   "cell_type": "code",
   "execution_count": null,
   "metadata": {},
   "outputs": [],
   "source": [
    "# Example of if-elif-else statement\n",
    "z = 6\n",
    "if z > 5:\n",
    "    print(\"z is greater than 5\")\n",
    "elif z < 5:\n",
    "    print(\"z is less than 5\")\n",
    "else:\n",
    "    print(\"z is equal to 5\")"
   ]
  },
  {
   "cell_type": "markdown",
   "metadata": {},
   "source": [
    "### 👨‍💻 Practice tasks 3.1: Conditionals"
   ]
  },
  {
   "cell_type": "code",
   "execution_count": null,
   "metadata": {},
   "outputs": [],
   "source": [
    "# 1. Create a variable 'temperature' and assign it a value\n",
    "# 2. Write an if-elif-else statement that prints:\n",
    "#    - \"It's hot!\" if temperature is above 30\n",
    "#    - \"It's warm.\" if temperature is between 20 and 30 (inclusive)\n",
    "#    - \"It's cool.\" if temperature is between 10 and 19 (inclusive)\n",
    "#    - \"It's cold!\" if temperature is below 10\n",
    "# 3. Create two variables 'is_raining' and 'is_cold' with boolean values\n",
    "# 4. Write an if statement that prints \"Stay home!\" if it's raining and cold, and \"Go out!\" otherwise"
   ]
  },
  {
   "cell_type": "markdown",
   "metadata": {},
   "source": [
    "### **[3.2 Loops](#32-loops)**\n",
    "\n",
    "Loops are used in Python to repeat a block of code multiple times. Python provides two main types of loops: \n",
    "* `for` loops, for iterating over a sequence (such as a list, tuple, dictionary, set, or string)\n",
    "\n",
    "* `while` loops, for repeating a block of code as long as a condition is true"
   ]
  },
  {
   "cell_type": "markdown",
   "metadata": {},
   "source": [
    "#### for loop"
   ]
  },
  {
   "cell_type": "code",
   "execution_count": null,
   "metadata": {},
   "outputs": [],
   "source": [
    "# Example of a for loop\n",
    "for i in range(0,5):  # range(5) generates numbers from 0 to 4\n",
    "    print(i)"
   ]
  },
  {
   "cell_type": "code",
   "execution_count": null,
   "metadata": {},
   "outputs": [],
   "source": [
    "# Example of iterating over a list\n",
    "fruits = [\"apple\", \"banana\", \"cherry\"]\n",
    "for fruit in fruits:\n",
    "    print(fruit)"
   ]
  },
  {
   "cell_type": "markdown",
   "metadata": {},
   "source": [
    "#### while loop"
   ]
  },
  {
   "cell_type": "code",
   "execution_count": null,
   "metadata": {},
   "outputs": [],
   "source": [
    "# Example of a while loop\n",
    "count = 0\n",
    "while count < 5:\n",
    "    print(count)\n",
    "    count += 1  # Same as count = count + 1"
   ]
  },
  {
   "cell_type": "code",
   "execution_count": null,
   "metadata": {},
   "outputs": [],
   "source": [
    "# Example of a while loop with breat \n",
    "count = 0 \n",
    "while True: \n",
    "    print(count)\n",
    "    count += 1\n",
    "    if count >= 5:\n",
    "        break"
   ]
  },
  {
   "cell_type": "markdown",
   "metadata": {},
   "source": [
    "### 👨‍💻 Practice tasks 3.2: Loops"
   ]
  },
  {
   "cell_type": "code",
   "execution_count": null,
   "metadata": {},
   "outputs": [],
   "source": [
    "# Exercise 3.2: Loops\n",
    "# 1. Use a for loop with range() to print the numbers from 1 to 5\n",
    "# 2. Use a while loop to print the numbers from 1 to 5\n",
    "# 3. Use a for loop with range() to print the even numbers from 2 to 10\n",
    "# 4. Use a while loop to print the even numbers from 2 to 10\n",
    "# 5. Write a while loop that asks the user to enter a word and continues until they enter \"stop\"\n",
    "# 6. Create a for loop that iterates over the string \"hello\" and prints each character"
   ]
  },
  {
   "cell_type": "markdown",
   "metadata": {},
   "source": [
    "### **[3.3 Handling Errors and Exceptions](#33-handling-errors-and-exceptions)**\n",
    "\n",
    "Error handling in Python is done through the use of `try` and `except` blocks. This allows the program to continue running even if an error occurs. Exceptions are caught in the except block, where you can handle them or log them as needed."
   ]
  },
  {
   "cell_type": "markdown",
   "metadata": {},
   "source": [
    "#### try-except block"
   ]
  },
  {
   "cell_type": "code",
   "execution_count": null,
   "metadata": {},
   "outputs": [],
   "source": [
    "# Example of try-except block\n",
    "try:\n",
    "    x = input(\"Please enter a number: \")  # Keep it as string initially to be able to print it in case of an error\n",
    "    y = 1 / int(x)  # Convert x to int here for the division\n",
    "    print(y)\n",
    "except ValueError:\n",
    "    # This block catches if the conversion to int fails\n",
    "    print(f\"That was not a valid number. You entered: {x}\")\n",
    "except ZeroDivisionError:\n",
    "    # This block catches division by zero\n",
    "    print(\"Infinity. Division by zero is not allowed.\")\n",
    "finally:\n",
    "    # This block is executed no matter what and is a good place to put cleanup code\n",
    "    print(\"This block is executed no matter what.\")\n"
   ]
  },
  {
   "cell_type": "markdown",
   "metadata": {},
   "source": [
    "### 👨‍💻 Practice tasks 3.3: Handling Errors and Exceptions"
   ]
  },
  {
   "cell_type": "code",
   "execution_count": null,
   "metadata": {},
   "outputs": [],
   "source": [
    "# Exercise 3.3: Handling Errors and Exceptions\n",
    "# 1. Write a try-except block that asks the user for a number and prints its square, handling ValueError if the input is not a number\n",
    "# 2. Write a try-except block that attempts to divide 10 by a user-input number, handling ZeroDivisionError if the input is 0\n",
    "# 3. Create a try-except-else block that:\n",
    "#    - Tries to convert a user input to an integer\n",
    "#    - Catches ValueError if the input is not a valid integer\n",
    "#    - If successful, prints \"Valid integer entered\" in the else block\n",
    "# 4. Write a program that keeps asking the user for a number until they enter a valid integer, using a while loop and a try-except block\n",
    "# 5. Create a try-except-finally block that:\n",
    "#    - Tries to perform a calculation (like 10 divided by user input)\n",
    "#    - Catches and prints any exceptions that occur\n",
    "#    - Always prints \"Calculation attempted\" in the finally block"
   ]
  },
  {
   "cell_type": "markdown",
   "metadata": {},
   "source": [
    "### **[3.4 Coding Challenge](#34-coding-challenge)**\n",
    "\n",
    "#### Stress and Strain Calculator (Part 2)\n",
    "\n",
    "**Objective**: \n",
    "\n",
    "We will refine the stress and strain calculator from the previous [coding challenge](#2.4-coding-challenge) to enhance user interaction and error handling. This version will repeatedly prompt the user for input, allowing multiple calculations in one session. It will handle invalid inputs gracefully, ensuring the program remains user-friendly and robust.\n",
    "\n",
    "**User Input:**\n",
    "* Continuously prompt the user to enter the applied force (in newtons), cross-sectional area (in square meters), original length (in meters), and change in length (in meters) for each new material.\n",
    "* Provide an option to exit the program after each calculation cycle.\n",
    "\n",
    "**Calculations:**\n",
    "* Calculate stress using the formula: Stress = Force / Area.\n",
    "* Calculate strain using the formula: Strain = Change in Length / Original Length.\n",
    "\n",
    "**Output:**\n",
    "* Display the calculated stress with \"Pascals\" as the unit.\n",
    "* Display the calculated strain as a dimensionless quantity.\n",
    "\n",
    "**Error Handling and Repeated Calculations:**\n",
    "* Incorporate try-except blocks to catch and handle any input errors, ensuring that the program can manage non-numeric inputs without crashing.\n",
    "* Use a loop to allow the user to perform calculations repeatedly until they choose to exit the program.\n",
    "* Include conditionals to manage the flow of the program based on user decisions (e.g., continuing with another calculation or exiting)."
   ]
  },
  {
   "cell_type": "code",
   "execution_count": null,
   "metadata": {},
   "outputs": [],
   "source": [
    "# Welcome message to introduce the program\n",
    "print(\"Welcome to the Stress and Strain Calculator\")\n",
    "\n",
    "# Main program loop to allow for repeated calculations\n",
    "while True:\n",
    "    try:\n",
    "        # Collecting user inputs\n",
    "        force = float(input(\"Enter the applied force (in newtons): \"))\n",
    "        area = float(input(\"Enter the cross-sectional area (in square meters): \"))\n",
    "        original_length = float(input(\"Enter the original length of the material (in meters): \"))\n",
    "        change_in_length = float(input(\"Enter the change in length of the material (in meters): \"))\n",
    "        \n",
    "        # Calculating stress and strain\n",
    "        stress = force / area  # Stress calculation\n",
    "        strain = change_in_length / original_length  # Strain calculation\n",
    "        \n",
    "        # Outputting results\n",
    "        print(f\"Calculated Stress: {stress} Pascals (Pa)\")\n",
    "        print(f\"Calculated Strain: {strain} (dimensionless)\")\n",
    "        \n",
    "    except ValueError:\n",
    "        # Handling invalid numeric input\n",
    "        print(\"Invalid input. Please enter a valid number.\")\n",
    "        continue\n",
    "    \n",
    "    # Asking the user if they want to perform another calculation\n",
    "    repeat = input(\"Do you want to perform another calculation? (yes/no): \").lower()\n",
    "    if repeat != 'yes':\n",
    "        # Exiting message\n",
    "        print(\"Thank you for using the calculator. Goodbye!\")\n",
    "        break"
   ]
  },
  {
   "cell_type": "markdown",
   "metadata": {},
   "source": [
    "[--> Back to Outline](#course-outline)\n",
    "\n",
    "---"
   ]
  },
  {
   "cell_type": "markdown",
   "metadata": {},
   "source": [
    "## **[4. Data Structures](#4-data-structures)**\n"
   ]
  },
  {
   "cell_type": "markdown",
   "metadata": {},
   "source": [
    "### **[4.1 Lists](#41-lists)**\n",
    "\n",
    "Lists are one of the most versatile data structures in Python, allowing you to store a sequence of items. \n",
    "\n",
    "They are *mutable*, meaning you can modify them after their creation. \n",
    "\n",
    "Lists are defined by square brackets `[]` and can contain items of different types.\n"
   ]
  },
  {
   "cell_type": "markdown",
   "metadata": {},
   "source": [
    "#### Creating and Accessing Lists"
   ]
  },
  {
   "cell_type": "code",
   "execution_count": null,
   "metadata": {},
   "outputs": [],
   "source": [
    "# Creating a list\n",
    "fruits = [\"apple\", \"banana\", \"cherry\"]\n",
    "print(fruits)"
   ]
  },
  {
   "cell_type": "code",
   "execution_count": null,
   "metadata": {},
   "outputs": [],
   "source": [
    "# Accessing list items\n",
    "print(fruits[0])  # Outputs 'apple'"
   ]
  },
  {
   "cell_type": "markdown",
   "metadata": {},
   "source": [
    "#### Adding and Removing Elements"
   ]
  },
  {
   "cell_type": "code",
   "execution_count": null,
   "metadata": {},
   "outputs": [],
   "source": [
    "# Adding an item to the end\n",
    "fruits.append(\"orange\")\n",
    "print(fruits)"
   ]
  },
  {
   "cell_type": "code",
   "execution_count": null,
   "metadata": {},
   "outputs": [],
   "source": [
    "# Inserting an item at a specific position\n",
    "fruits.insert(1, \"blueberry\")\n",
    "print(fruits)"
   ]
  },
  {
   "cell_type": "code",
   "execution_count": null,
   "metadata": {},
   "outputs": [],
   "source": [
    "# Removing an item\n",
    "fruits.remove(\"banana\")\n",
    "print(fruits)"
   ]
  },
  {
   "cell_type": "markdown",
   "metadata": {},
   "source": [
    "#### List Comprehensions\n",
    "\n",
    "List comprehensions provide a concise way to create lists. It consists of brackets containing an expression followed by a for clause."
   ]
  },
  {
   "cell_type": "code",
   "execution_count": null,
   "metadata": {},
   "outputs": [],
   "source": [
    "# Creating a new list where each value is doubled\n",
    "numbers = [1, 2, 3, 4]\n",
    "doubled = [num*2 for num in numbers]\n",
    "print(doubled)"
   ]
  },
  {
   "cell_type": "code",
   "execution_count": null,
   "metadata": {},
   "outputs": [],
   "source": [
    "# Creating a new list where each value is doubled with if-condition\n",
    "numbers = [1, 2, 3, 4]\n",
    "doubled = [num * 2 for num in numbers if num%2==0]\n",
    "print(doubled)"
   ]
  },
  {
   "cell_type": "code",
   "execution_count": null,
   "metadata": {},
   "outputs": [],
   "source": [
    "# Creating a new list where each value is doubled with if-else-condition\n",
    "numbers = [1, 2, 3, 4]\n",
    "doubled = [num * 2 if num%2==0 else \"x\" for num in numbers]\n",
    "print(doubled)"
   ]
  },
  {
   "cell_type": "markdown",
   "metadata": {},
   "source": [
    "### 👨‍💻 Practice tasks 4.1: Lists"
   ]
  },
  {
   "cell_type": "code",
   "execution_count": null,
   "metadata": {},
   "outputs": [],
   "source": [
    "# 1. Create a list called 'colors' with at least 5 different color names\n",
    "# 2. Print the third color in the list\n",
    "# 3. Add a new color to the end of the list\n",
    "# 4. Change the second color in the list to a different color\n",
    "# 5. Remove the last color from the list\n",
    "# 6. Print the length of the list\n",
    "# 7. Create a new list containing the first three colors from your 'colors' list\n",
    "# 8. Use a for loop to print each color in the list\n",
    "# 9. Create a list of numbers from 1 to 10 using a list comprehension\n",
    "# 10. Use a list comprehension to create a new list with only the even numbers from the previous list"
   ]
  },
  {
   "cell_type": "markdown",
   "metadata": {},
   "source": [
    "### **[4.2 Dictionaries](#42-dictionaries)**\n",
    "\n",
    "Dictionaries store key-value pairs and are incredibly useful for accessing and managing data. Each key-value pair in a dictionary is separated by a colon :, and pairs are separated by commas."
   ]
  },
  {
   "cell_type": "markdown",
   "metadata": {},
   "source": [
    "#### Creating and Using Dictionaries"
   ]
  },
  {
   "cell_type": "code",
   "execution_count": null,
   "metadata": {},
   "outputs": [],
   "source": [
    "# Creating a dictionary\n",
    "person = {\"name\": \"John\", \"age\": 30, \"city\": \"Dortmund\"}\n",
    "print(person)"
   ]
  },
  {
   "cell_type": "code",
   "execution_count": null,
   "metadata": {},
   "outputs": [],
   "source": [
    "# Accessing dictionary values\n",
    "print(person[\"age\"])"
   ]
  },
  {
   "cell_type": "code",
   "execution_count": null,
   "metadata": {},
   "outputs": [],
   "source": [
    "# Adding or updating a value\n",
    "person[\"email\"] = \"john@example.com\"\n",
    "print(person)"
   ]
  },
  {
   "cell_type": "markdown",
   "metadata": {},
   "source": [
    "#### Dictionary Methods"
   ]
  },
  {
   "cell_type": "code",
   "execution_count": null,
   "metadata": {},
   "outputs": [],
   "source": [
    "# Getting keys and values\n",
    "print(person.keys())\n",
    "print(person.values())"
   ]
  },
  {
   "cell_type": "code",
   "execution_count": null,
   "metadata": {},
   "outputs": [],
   "source": [
    "# Removing a key-value pair\n",
    "del person[\"age\"]\n",
    "print(person)"
   ]
  },
  {
   "cell_type": "code",
   "execution_count": null,
   "metadata": {},
   "outputs": [],
   "source": [
    "# Iterating a dict\n",
    "for key, value in person.items():\n",
    "    print(f\"Key: {key}\")\n",
    "    print(f\"Value: {value}\")"
   ]
  },
  {
   "cell_type": "markdown",
   "metadata": {},
   "source": [
    "### 👨‍💻 Practice tasks 4.2: Dictionaries"
   ]
  },
  {
   "cell_type": "code",
   "execution_count": null,
   "metadata": {},
   "outputs": [],
   "source": [
    "# 1. Create a dictionary called 'student' with keys for 'name', 'age', and 'grade'\n",
    "# 2. Print the student's age\n",
    "# 3. Add a new key-value pair for the student's favorite subject\n",
    "# 4. Change the student's grade\n",
    "# 5. Remove the 'age' key-value pair from the dictionary\n",
    "# 6. Print all the keys in the dictionary\n",
    "# 7. Print all the values in the dictionary\n",
    "# 8. Check if 'name' is a key in the dictionary\n",
    "# 9. Use a for loop to print each key-value pair in the dictionary\n",
    "# 10. Create a new dictionary with the lengths of each value in the 'student' dictionary"
   ]
  },
  {
   "cell_type": "markdown",
   "metadata": {},
   "source": [
    "### **[4.3 Tuples and Sets](#43-tuples-and-sets)**\n",
    "\n",
    "Tuples are similar to lists, but they are *immutable*. \n",
    "\n",
    "You cannot change, add, or remove items after the tuple has been created. Tuples are defined by parentheses ()."
   ]
  },
  {
   "cell_type": "code",
   "execution_count": null,
   "metadata": {},
   "outputs": [],
   "source": [
    "# Creating a tuple\n",
    "dimensions = (200, 50)\n",
    "print(dimensions[1])"
   ]
  },
  {
   "cell_type": "code",
   "execution_count": null,
   "metadata": {},
   "outputs": [],
   "source": [
    "# Trying to change a value throws an error\n",
    "dimensions[0] = 250"
   ]
  },
  {
   "cell_type": "markdown",
   "metadata": {},
   "source": [
    "#### Sets\n",
    "\n",
    "Sets are collections of unique items. \n",
    "\n",
    "They are unordered, meaning they do not maintain any order of the items. Sets are defined by curly braces `{}`."
   ]
  },
  {
   "cell_type": "code",
   "execution_count": null,
   "metadata": {},
   "outputs": [],
   "source": [
    "# Creating a set\n",
    "fruits_set = {\"apple\", \"banana\", \"cherry\"}\n",
    "print(fruits_set)"
   ]
  },
  {
   "cell_type": "code",
   "execution_count": null,
   "metadata": {},
   "outputs": [],
   "source": [
    "# Adding an item to a set\n",
    "fruits_set.add(\"orange\")"
   ]
  },
  {
   "cell_type": "code",
   "execution_count": null,
   "metadata": {},
   "outputs": [],
   "source": [
    "# Removing an item from a set\n",
    "fruits_set.discard(\"banana\")\n",
    "print(fruits_set)"
   ]
  },
  {
   "cell_type": "markdown",
   "metadata": {},
   "source": [
    "### 👨‍💻 Practice tasks 4.3: Tuples and Sets"
   ]
  },
  {
   "cell_type": "code",
   "execution_count": null,
   "metadata": {},
   "outputs": [],
   "source": [
    "# 1. Create a tuple called 'coordinates' with x, y, and z values\n",
    "# 2. Print the second value in the tuple\n",
    "# 3. Try to change a value in the tuple (this should raise an error)\n",
    "# 4. Create a set called 'unique_numbers' with at least 5 different numbers\n",
    "# 5. Add a new number to the set\n",
    "# 6. Try to add a number that's already in the set (note that this won't raise an error, but won't change the set)\n",
    "# 7. Remove a number from the set\n",
    "# 8. Check if a specific number is in the set\n",
    "# 9. Create a new set with some numbers that overlap with 'unique_numbers'\n",
    "# 10. Find the intersection of the two sets (numbers that appear in both)"
   ]
  },
  {
   "cell_type": "markdown",
   "metadata": {},
   "source": [
    "This chapter has introduced you to Python's core data structures, essential for storing, accessing, and manipulating data in your programs."
   ]
  },
  {
   "cell_type": "markdown",
   "metadata": {},
   "source": [
    "### **[4.4 Coding Challenge](#43-tuples-and-sets)**\n",
    "\n",
    "#### Stress and Strain Calculator (Part 3) \n",
    "\n",
    "**Objective:** Enhance the stress and strain calculator to utilize Python's built-in data structures for improved data management and user experience. \n",
    "\n",
    "This version aims to introduce structured data storage and handling techniques while maintaining robust error handling and user interaction.\n",
    "\n",
    "**Features:**\n",
    "\n",
    "* **Data Storage:** Utilize Python lists, dictionaries, and sets for organizing calculation results, material identifiers, and unique calculations.\n",
    "* **Immutable Data Handling:** Apply tuples for storing unchangeable data such as measurement units.\n",
    "* **Session History:** Keep a detailed record of each calculation performed during the session.\n",
    "* **Unique Material Tracking:** Identify and track unique materials tested using a set.\n",
    "\n",
    "**Implementation Steps:**\n",
    "\n",
    "* Step 1: User Input and Program Flow:\n",
    "    * Continuously prompt the user to input material identifiers, forces, cross-sectional areas, original lengths, and changes in lengths.\n",
    "    * Offer an option to exit the program after each calculation, enhancing session control.\n",
    "\n",
    "* Step 2: Using Data Structures:\n",
    "    * **Lists:** Create a list named `calculations_history` to store the history of calculations. Each entry in the list will be a dictionary containing the details of one calculation.\n",
    "    * **Dictionaries:** Use dictionaries to store the details of each calculation, including material identifiers, inputs, and results.\n",
    "    * **Sets:** Utilize a set named `unique_materials` to track the unique materials tested during the session.\n",
    "    * **Tuples:** Define a tuple named `units` to store the units of measurement (immutable data).\n",
    "\n",
    "* Step 3: Calculations:    \n",
    "    * Perform stress and strain calculations using the previously used formulas. Store the results in the respective dictionary for each calculation.\n",
    "\n",
    "* Step 4: Error Handling:\n",
    "    * Implement try-except blocks to handle invalid inputs gracefully, ensuring the program's robustness.\n",
    "\n",
    "* Step 5: Outputs:\n",
    "    * After each calculation, display the results to the user, including stress and strain, formatted for readability.\n",
    "    * Upon exiting, provide a summary of the session, listing all calculations performed and highlighting unique materials tested.\n",
    "\n",
    "* Step 6: Session Summary:\n",
    "    * At the end of the session, loop through the calculations_history list and print each calculation's details.\n",
    "    * Display the set of unique materials to showcase the diversity of materials analyzed.\n",
    "\n",
    "\n",
    "Enhance the existing stress and strain calculator by incorporating the above features. Aim to make your code clean, readable, and well-commented. Focus on the practical application of lists, dictionaries, tuples, and sets to manage data effectively."
   ]
  },
  {
   "cell_type": "code",
   "execution_count": null,
   "metadata": {},
   "outputs": [],
   "source": [
    "# Initialize an empty list to store history of calculations\n",
    "calculations_history = []\n",
    "\n",
    "# Set for unique materials (assuming each material has a unique identifier)\n",
    "unique_materials = set()\n",
    "\n",
    "# Tuple for units (immutable data)\n",
    "units = (\"Newtons\", \"Square Meters\", \"Pascals\", \"Dimensionless\")\n",
    "\n",
    "# Welcome message\n",
    "print(\"Welcome to the Enhanced Stress and Strain Calculator\")\n",
    "\n",
    "while True:\n",
    "    try:\n",
    "        material_id = input(\"Enter material identifier (or type 'exit' to finish): \")\n",
    "        if material_id.lower() == 'exit':\n",
    "            break\n",
    "\n",
    "        # Add material to set of unique materials\n",
    "        unique_materials.add(material_id)\n",
    "\n",
    "        force = float(input(\"Enter the applied force (in newtons): \"))\n",
    "        area = float(input(\"Enter the cross-sectional area (in square meters): \"))\n",
    "        original_length = float(input(\"Enter the original length of the material (in meters): \"))\n",
    "        change_in_length = float(input(\"Enter the change in length of the material (in meters): \"))\n",
    "\n",
    "        # Perform calculations\n",
    "        stress = force / area\n",
    "        strain = change_in_length / original_length\n",
    "\n",
    "        # Store results in a dictionary\n",
    "        result = {\n",
    "            \"Material ID\": material_id,\n",
    "            \"Force (N)\": force,\n",
    "            \"Area (m^2)\": area,\n",
    "            \"Stress (Pa)\": stress,\n",
    "            \"Original Length (m)\": original_length,\n",
    "            \"Change in Length (m)\": change_in_length,\n",
    "            \"Strain\": strain\n",
    "        }\n",
    "\n",
    "        # Add the result dictionary to the history list\n",
    "        calculations_history.append(result)\n",
    "\n",
    "        # Display current calculation\n",
    "        print(f\"\\nMaterial ID: {material_id}\")\n",
    "        print(f\"Calculated Stress: {stress} {units[2]}\")\n",
    "        print(f\"Calculated Strain: {strain} {units[3]}\\n\")\n",
    "\n",
    "    except ValueError:\n",
    "        print(\"Invalid input. Please enter a valid number.\")\n",
    "\n",
    "# Displaying the session history and unique materials\n",
    "print(\"\\nSession Summary:\")\n",
    "for calculation in calculations_history:\n",
    "    print(calculation)\n",
    "\n",
    "print(\"\\nUnique Materials Tested:\")\n",
    "print(unique_materials)\n",
    "\n",
    "print(\"\\nThank you for using the calculator. Goodbye!\")"
   ]
  },
  {
   "cell_type": "markdown",
   "metadata": {},
   "source": [
    "[--> Back to Outline](#course-outline)\n",
    "\n",
    "---"
   ]
  },
  {
   "cell_type": "markdown",
   "metadata": {},
   "source": [
    "## **[5. Functions and Modules](#5-functions-and-modules)**\n",
    "\n",
    "In programming, especially in Python, breaking down your code into reusable chunks is crucial for both readability and efficiency. \n",
    "\n",
    "This chapter delves into the concepts of functions and modules, which are foundational to writing clean, maintainable, and scalable Python code."
   ]
  },
  {
   "cell_type": "markdown",
   "metadata": {},
   "source": [
    "### **[5.1 Defining Functions](#51-defining-functions)**\n",
    "\n",
    "Functions are the building blocks of Python programming, allowing you to encapsulate tasks into reusable units. Think of a function as a small machine that takes in some input, performs an operation, and then outputs the result.\n",
    "\n",
    "#### Creating a Function\n",
    "\n",
    "A function is created with the `def` keyword, followed by the function's name and parentheses. \n",
    "\n",
    "Any inputs to the function, known as `parameters`, are listed inside these parentheses. \n",
    "\n",
    "The function's body, which is indented beneath the definition, contains the code that defines what the function does."
   ]
  },
  {
   "cell_type": "code",
   "execution_count": null,
   "metadata": {},
   "outputs": [],
   "source": [
    "def say_hello(name):\n",
    "    \"\"\"A simple function to greet someone.\"\"\" \n",
    "    #\n",
    "    greeting = f\"Hello, {name}!\"\n",
    "    return greeting"
   ]
  },
  {
   "cell_type": "markdown",
   "metadata": {},
   "source": [
    "In the example above, `say_hello` is a function that takes one parameter, `name`, and returns a greeting message."
   ]
  },
  {
   "cell_type": "markdown",
   "metadata": {},
   "source": [
    "#### Calling a Function\n",
    "\n",
    "To execute the function, you call it by its name followed by parentheses. If the function requires parameters, you provide them within the parentheses."
   ]
  },
  {
   "cell_type": "code",
   "execution_count": null,
   "metadata": {},
   "outputs": [],
   "source": [
    "message = say_hello(\"Nick\")\n",
    "print(message)  # Output: Hello, Nick!"
   ]
  },
  {
   "cell_type": "markdown",
   "metadata": {},
   "source": [
    "### 👨‍💻 Practice tasks 5.1: Defining Functions\n"
   ]
  },
  {
   "cell_type": "code",
   "execution_count": null,
   "metadata": {},
   "outputs": [],
   "source": [
    "# 1. Define a function called 'greet' that takes a name as an argument and prints a greeting\n",
    "# 2. Define a function called 'square' that takes a number and returns its square\n",
    "# 3. Define a function called 'sum_two' that takes two numbers and returns their sum\n",
    "# 4. Define a function called 'absolute_difference' that takes two numbers and returns the absolute difference between them\n",
    "# 5. Define a function called 'is_even' that takes a number and returns True if it's even, False otherwise\n",
    "# 6. Call each of the functions you defined with appropriate arguments and print the results"
   ]
  },
  {
   "cell_type": "code",
   "execution_count": null,
   "metadata": {},
   "outputs": [],
   "source": [
    "# 1. Define a function called 'greet' that takes a name as an argument and prints a greeting\n",
    "def greet(name):\n",
    "    print(f\"Hello, {name}!\")\n",
    "\n",
    "# 2. Define a function called 'square' that takes a number and returns its square\n",
    "def square(number):\n",
    "    return number ** 2\n",
    "\n",
    "# 3. Define a function called 'sum_two' that takes two numbers and returns their sum\n",
    "def sum_two(a, b):\n",
    "    return a + b\n",
    "\n",
    "# 4. Define a function called 'absolute_difference' that takes two numbers and returns the absolute difference between them\n",
    "def absolute_difference(a, b):\n",
    "    return abs(a - b)\n",
    "\n",
    "# 5. Define a function called 'is_even' that takes a number and returns True if it's even, False otherwise\n",
    "def is_even(number):\n",
    "    return number % 2 == 0\n",
    "\n",
    "# 6. Call each of the functions you defined with appropriate arguments and print the results\n",
    "greet(\"Alice\")\n",
    "print(square(4))\n",
    "print(sum_two(3, 5))\n",
    "print(absolute_difference(10, 7))\n",
    "print(is_even(6))\n",
    "print(is_even(7))"
   ]
  },
  {
   "cell_type": "markdown",
   "metadata": {},
   "source": [
    "### **[5.2 Function Arguments](#52-function-arguments)**\n",
    "\n",
    "Arguments are the values you pass into the function when you call it. Python offers flexibility in how arguments can be passed to functions, catering to various scenarios.\n",
    "\n",
    "* **Positional Arguments:** These are arguments that need to be in order based on the function's definition. The first argument fills the first parameter, the second fills the second, and so on.\n",
    "\n",
    "* **Keyword Arguments:** Allow you to specify arguments by the parameter name, making your function calls more readable and allowing you to skip certain default parameters.\n",
    "\n",
    "* **Default Parameters:** You can assign default values to parameters, making them optional during a function call."
   ]
  },
  {
   "cell_type": "code",
   "execution_count": null,
   "metadata": {},
   "outputs": [],
   "source": [
    "def create_email(to, subject, body, cc=None):\n",
    "    \"\"\"Create a simple email structure.\"\"\"\n",
    "    email = f\"To: {to}\\nSubject: {subject}\\nBody: {body}\"\n",
    "    if cc:\n",
    "        email += f\"\\nCC: {cc}\"\n",
    "    return email"
   ]
  },
  {
   "cell_type": "markdown",
   "metadata": {},
   "source": [
    "In this function, cc is an optional parameter with a default value of `None`."
   ]
  },
  {
   "cell_type": "markdown",
   "metadata": {},
   "source": [
    "### 👨‍💻 Practice tasks 5.2: Function Arguments"
   ]
  },
  {
   "cell_type": "code",
   "execution_count": null,
   "metadata": {},
   "outputs": [],
   "source": [
    "# 1. Define a function called 'power' that takes two arguments: 'base' and 'exponent' (with a default value of 2)\n",
    "# 2. Define a function called 'introduce' that takes 'name', 'age', and 'city' (with a default value of \"Unknown\")\n",
    "# 3. Call the 'power' function with: \n",
    "#    a) Just the base argument\n",
    "#    b) Both base and exponent arguments\n",
    "# 4. Call the 'introduce' function with:\n",
    "#    a) Only name and age\n",
    "#    b) All three arguments\n",
    "#    c) Name and age as positional arguments, and city as a keyword argument"
   ]
  },
  {
   "cell_type": "code",
   "execution_count": null,
   "metadata": {},
   "outputs": [],
   "source": [
    "# 1. Define a function called 'power' that takes two arguments: 'base' and 'exponent' (with a default value of 2)\n",
    "def power(base, exponent=2):\n",
    "    return base ** exponent\n",
    "\n",
    "# 2. Define a function called 'introduce' that takes 'name', 'age', and 'city' (with a default value of \"Unknown\")\n",
    "def introduce(name, age, city=\"Unknown\"):\n",
    "    return f\"My name is {name}, I'm {age} years old, and I'm from {city}.\"\n",
    "\n",
    "# 3. Call the 'power' function with: \n",
    "#    a) Just the base argument\n",
    "print(power(3))\n",
    "#    b) Both base and exponent arguments\n",
    "print(power(3, 3))\n",
    "\n",
    "# 4. Call the 'introduce' function with:\n",
    "#    a) Only name and age\n",
    "print(introduce(\"John\", 30))\n",
    "#    b) All three arguments\n",
    "print(introduce(\"Jane\", 25, \"New York\"))\n",
    "#    c) Name and age as positional arguments, and city as a keyword argument\n",
    "print(introduce(\"Bob\", 35, city=\"Chicago\"))"
   ]
  },
  {
   "cell_type": "markdown",
   "metadata": {},
   "source": [
    "### **[5.3 Modules and Packages](#53-modules-and-packages)**\n",
    "\n",
    "As your codebase grows, keeping all your functions in one file becomes impractical. Python allows you to organize your code into modules and packages.\n",
    "\n",
    "* **Modules:** A module is a single Python file containing Python code. It can include functions, variables, and classes. Modules allow you to organize related code into a file that can be imported and used in other Python scripts.\n",
    "\n",
    "* **Packages:** A package is a collection of Python modules under a common namespace. In simpler terms, it's a directory that contains one or more modules. Packages allow for a hierarchical structuring of the module namespace using dot notation."
   ]
  },
  {
   "cell_type": "markdown",
   "metadata": {},
   "source": [
    "#### Creating a Module\n",
    "\n",
    "To create a module, simply save your code into a `.py` file. \n",
    "\n",
    "For example, `calculator.py` could contain several math-related functions. \n",
    "\n",
    "To use these functions in another file, you would import the module using the import statement:"
   ]
  },
  {
   "cell_type": "code",
   "execution_count": null,
   "metadata": {},
   "outputs": [],
   "source": [
    "import calculator\n",
    "\n",
    "result = calculator.add(5, 3)\n",
    "print(result)"
   ]
  },
  {
   "cell_type": "code",
   "execution_count": null,
   "metadata": {},
   "outputs": [],
   "source": [
    "import os\n",
    "\n",
    "curr_cwd = os.getcwd()\n",
    "\n",
    "print(curr_cwd)"
   ]
  },
  {
   "cell_type": "markdown",
   "metadata": {},
   "source": [
    "**Note:** When importing modules, Python looks in the directory where the input script was run from, then in the list of directories contained in its sys.path variable. \n",
    "\n",
    "If the module is not found, Python will throw a `ModuleNotFoundError`."
   ]
  },
  {
   "cell_type": "markdown",
   "metadata": {},
   "source": [
    "#### Understanding key terms\n",
    "\n",
    "In Python, the concepts of *modules*, *packages*, *libraries*, and *frameworks* are fundamental to understanding how reusable code is organized, shared, and utilized in projects. \n",
    "\n",
    "<img src=\"https://miro.medium.com/v2/resize:fit:1030/1*iL3Hq35sZ3sG26WGpjv8rg.png\" height=\"500\">\n",
    "\n",
    "**Source:** https://medium.com/pythoneers/6-must-know-words-in-python-ac87ab420ab7\n",
    "\n",
    "Here’s a brief explanation of each:\n",
    "\n",
    "* **Modules:**\n",
    "    * Definition: A module is a single Python file that contains definitions and implementations of functions, classes, and variables. Modules are designed to include related code functionality to be reused in other Python programs.\n",
    "    * Usage: You can import a module into your program using the `import` statement. Once imported, you can access its functions, classes, and variables.\n",
    "\n",
    "* **Packages:**\n",
    "    * Definition: A package is a collection of Python modules under a common namespace (typically a directory with a file named `__init__.py`). Packages allow for a hierarchical structuring of the module namespace.\n",
    "    * Usage: Packages are used to organize modules in a structured way, making it easier to manage and use complex code bases. You can import specific modules from a package.\n",
    "\n",
    "* **Libraries:**\n",
    "    * Definition: A library is a collection of modules and packages that offer a wide range of functionalities without dictating the application structure. Libraries usually provide APIs for tasks like file manipulation, network communication, and data analysis.\n",
    "    * Usage: You can include libraries in your projects to leverage existing solutions for common problems, thus reducing the amount of code you need to write. Examples include NumPy for numerical computations and Requests for HTTP requests.\n",
    "\n",
    "* **Frameworks:**\n",
    "    * Definition: A framework is a comprehensive codebase that dictates the structure of your application. It provides a foundation on which software developers can build programs for a specific platform. Frameworks often include libraries and APIs to streamline the development of applications.\n",
    "    * Usage: Frameworks are used when developing complex applications with standard structures and patterns. They provide tools and libraries to handle common tasks and encourage best practices. An example is [Django](https://www.djangoproject.com/), a high-level framework for web development in Python.\n",
    "\n",
    "In summary, modules and packages are about code organization and reuse at a lower level, allowing you to structure your Python code efficiently. Libraries provide sets of pre-written code snippets and functionalities to solve common programming tasks, enhancing productivity. Frameworks offer a more comprehensive solution, including libraries and tools to structure your entire application, enforcing a particular way of doing things while significantly speeding up the development process."
   ]
  },
  {
   "cell_type": "markdown",
   "metadata": {},
   "source": [
    "### 👨‍💻 Practice tasks 5.3: Modules and Packages"
   ]
  },
  {
   "cell_type": "code",
   "execution_count": null,
   "metadata": {},
   "outputs": [],
   "source": [
    "# 1. Import the 'random' module and use it to generate a random number between 1 and 10\n",
    "# 2. Import the 'datetime' module and use it to print the current date and time\n",
    "# 3. Create a new Python file called 'my_module.py' with a function called 'greeting' that returns \"Hello from my_module!\"\n",
    "# 4. Import your 'my_module' and call its 'greeting' function\n",
    "# 5. Try to import a module that doesn't exist and use a try-except block to handle the ImportError"
   ]
  },
  {
   "cell_type": "code",
   "execution_count": null,
   "metadata": {},
   "outputs": [],
   "source": [
    "# 1. Import the 'random' module and use it to generate a random number between 1 and 10\n",
    "import random\n",
    "print(random.randint(1, 10))\n",
    "\n",
    "# 2. From the 'math' module, import only the 'pi' constant and the 'sqrt' function\n",
    "from math import pi, sqrt\n",
    "\n",
    "# 3. Use the imported 'pi' to calculate the area of a circle with radius 5\n",
    "radius = 5\n",
    "area = pi * radius ** 2\n",
    "print(f\"Area of circle: {area}\")\n",
    "\n",
    "# 4. Use the imported 'sqrt' function to calculate the square root of 16\n",
    "print(sqrt(16))\n",
    "\n",
    "# 5. Import the 'datetime' module and use it to print the current date and time\n",
    "import datetime\n",
    "print(datetime.datetime.now())\n",
    "\n",
    "# 6. Create a new Python file called 'my_module.py' with a function called 'greeting' that returns \"Hello from my_module!\"\n",
    "# In my_module.py:\n",
    "# def greeting():\n",
    "#     return \"Hello from my_module!\"\n",
    "\n",
    "# 7. Import your 'my_module' and call its 'greeting' function\n",
    "import my_module\n",
    "print(my_module.greeting())\n",
    "\n",
    "# 8. Try to import a module that doesn't exist and use a try-except block to handle the ImportError\n",
    "try:\n",
    "    import non_existent_module\n",
    "except ImportError:\n",
    "    print(\"The module does not exist!\")"
   ]
  },
  {
   "cell_type": "markdown",
   "metadata": {},
   "source": [
    "### **[5.4 Coding Challenge](#54-coding-challenge)**\n",
    "\n",
    "#### Stress and Strain Calculator (Part 4)\n",
    "\n",
    "**Objective:**\n",
    "\n",
    "Refine your understanding of Python functions by creating a function named `calculate_stress_strain`. \n",
    "\n",
    "This function will calculate the stress and strain on a material based on provided parameters. \n",
    "\n",
    "Through this exercise, you will practice defining functions, working with arguments, and returning results in a structured format.\n",
    "\n",
    "**Function Requirements:**\n",
    "\n",
    "* Function Name: `calculate_stress_strain`\n",
    "    * Arguments:\n",
    "        * `material_id (str):` A unique identifier for the material.\n",
    "        * `force (float):` The force applied to the material (in newtons).\n",
    "        * `area (float):` The cross-sectional area of the material (in square meters).\n",
    "        * `original_length (float):` The original length of the material (in meters).\n",
    "        * `change_in_length (float):` The change in length of the material (in meters).\n",
    "    * Returns: A `dictionary` containing the following keys:\n",
    "        * `Material ID:` The unique identifier for the material.\n",
    "        * `Force (N):` The applied force in newtons.\n",
    "        * `Area (m^2):` The cross-sectional area in square meters.\n",
    "        * `Stress (Pa):` The calculated stress in Pascals.\n",
    "        * `Original Length (m):` The original length of the material in meters.\n",
    "        * `Change in Length (m):` The change in length of the material in meters.\n",
    "        * `Strain:` The calculated strain (dimensionless).\n",
    "\n",
    "Task:\n",
    "\n",
    "Define the `calculate_stress_strain` function according to the specifications above. Then, test your function by calling it with example values and printing the returned dictionary to verify the calculations."
   ]
  },
  {
   "cell_type": "code",
   "execution_count": null,
   "metadata": {},
   "outputs": [],
   "source": [
    "def calculate_stress_strain(material_id, force, area, original_length, change_in_length) -> dict:\n",
    "    \"\"\"\n",
    "    Calculate stress and strain for a given material.\n",
    "    \"\"\"\n",
    "    stress = force / area\n",
    "    strain = change_in_length / original_length\n",
    "    return {\n",
    "        \"Material ID\": material_id,\n",
    "        \"Force (N)\": force,\n",
    "        \"Area (m^2)\": area,\n",
    "        \"Stress (Pa)\": stress,\n",
    "        \"Original Length (m)\": original_length,\n",
    "        \"Change in Length (m)\": change_in_length,\n",
    "        \"Strain\": strain\n",
    "    }\n",
    "\n",
    "# Example usage\n",
    "result = calculate_stress_strain(\"Material-001\", 500, 0.05, 10, 0.01)\n",
    "print(result)\n"
   ]
  },
  {
   "cell_type": "markdown",
   "metadata": {},
   "source": [
    "[--> Back to Outline](#course-outline)\n",
    "\n",
    "---\n"
   ]
  },
  {
   "cell_type": "markdown",
   "metadata": {},
   "source": [
    "## **[6. Object-Oriented Programming](#6-object-oriented-programming)**\n",
    "\n",
    "Object-Oriented Programming (OOP) is a programming paradigm that uses `objects` to represent data and methods to manipulate that data. \n",
    "\n",
    "Python, being an *object-oriented programming language*, allows us to model real-world entities and relationships in a more intuitive way. \n",
    "\n",
    "This chapter will explore key OOP concepts such as classes, objects, inheritance, and polymorphism, using our stress and strain calculator as a case study."
   ]
  },
  {
   "cell_type": "markdown",
   "metadata": {},
   "source": [
    "### [6.1 Classes and Objects](#61-classes-and-objects)\n",
    "\n",
    "#### Overview\n",
    "\n",
    "At the heart of OOP are classes and objects. A class is a blueprint for creating objects (`instances`), providing initial values for state (`attributes`) and implementations of behavior (`methods`). An object is an instance of a class, created with specific data.\n",
    "\n",
    "#### Defining a Class\n",
    "\n",
    "Let's define a Material class for our stress and strain calculator. This class will represent different materials with unique attributes such as `material_id`, `force`, `area`, `original_length`, and `change_in_length`."
   ]
  },
  {
   "cell_type": "code",
   "execution_count": null,
   "metadata": {},
   "outputs": [],
   "source": [
    "class Material:\n",
    "    def __init__(self, material_id, force, area, original_length, change_in_length):\n",
    "        self.material_id = material_id\n",
    "        self.force = force\n",
    "        self.area = area\n",
    "        self.original_length = original_length\n",
    "        self.change_in_length = change_in_length"
   ]
  },
  {
   "cell_type": "markdown",
   "metadata": {},
   "source": [
    "#### Creating Objects\n",
    "\n",
    "To create an instance of a class, you call the class using class name and pass in the arguments that its `__init__` method accepts."
   ]
  },
  {
   "cell_type": "code",
   "execution_count": null,
   "metadata": {},
   "outputs": [],
   "source": [
    "# Creating an object of the Material class\n",
    "material_example = Material(\"A001\", 100, 0.05, 10, 0.01)\n",
    "\n",
    "print(material_example)"
   ]
  },
  {
   "cell_type": "markdown",
   "metadata": {},
   "source": [
    "### 👨‍💻 Practice tasks 6.1: Classes and Objects"
   ]
  },
  {
   "cell_type": "code",
   "execution_count": null,
   "metadata": {},
   "outputs": [],
   "source": [
    "# 1. Create a class called 'Car' with attributes for 'make', 'model', and 'year'\n",
    "# 2. Add a method to the Car class called 'describe' that prints out the car's attributes\n",
    "# 3. Create an instance of the Car class and call its 'describe' method\n",
    "# 4. Add a class attribute to Car called 'wheels' with a value of 4\n",
    "# 5. Create a method 'age' that returns how old the car is (assuming current year is 2024)\n",
    "# 6. Create several Car instances and experiment with their attributes and methods"
   ]
  },
  {
   "cell_type": "code",
   "execution_count": null,
   "metadata": {},
   "outputs": [],
   "source": [
    "# 1. Create a class called 'Car' with attributes for 'make', 'model', and 'year'\n",
    "class Car:\n",
    "    def __init__(self, make, model, year):\n",
    "        self.make = make\n",
    "        self.model = model\n",
    "        self.year = year\n",
    "\n",
    "# 2. Add a method to the Car class called 'describe' that prints out the car's attributes\n",
    "    def describe(self):\n",
    "        print(f\"This car is a {self.year} {self.make} {self.model}.\")\n",
    "\n",
    "# 3. Create an instance of the Car class and call its 'describe' method\n",
    "my_car = Car(\"Toyota\", \"Corolla\", 2020)\n",
    "my_car.describe()\n",
    "\n",
    "# 4. Add a class attribute to Car called 'wheels' with a value of 4\n",
    "Car.wheels = 4\n",
    "\n",
    "# 5. Create a method 'age' that returns how old the car is (assuming current year is 2024)\n",
    "import datetime\n",
    "class Car:\n",
    "    wheels = 4\n",
    "    def __init__(self, make, model, year):\n",
    "        self.make = make\n",
    "        self.model = model\n",
    "        self.year = year\n",
    "    \n",
    "    def describe(self):\n",
    "        print(f\"This car is a {self.year} {self.make} {self.model}.\")\n",
    "    \n",
    "    def age(self):\n",
    "        return datetime.datetime.now().year - self.year\n",
    "\n",
    "# 6. Create several Car instances and experiment with their attributes and methods\n",
    "car1 = Car(\"Honda\", \"Civic\", 2018)\n",
    "car2 = Car(\"Ford\", \"Mustang\", 2015)\n",
    "\n",
    "print(car1.age())\n",
    "print(Car.wheels)\n",
    "car2.describe()"
   ]
  },
  {
   "cell_type": "markdown",
   "metadata": {},
   "source": [
    "### [6.2 Inheritance and Polymorphism](#62-inheritance-and-polymorphism)\n",
    "\n",
    "#### Inheritance\n",
    "\n",
    "Inheritance allows us to define a class that inherits all the methods and properties from another class. The new class is called a `subclass`, and the class it inherits from is called its `superclass`.\n",
    "\n",
    "Let's create a `TestedMaterial` class that inherits from Material and adds a method to calculate stress and strain."
   ]
  },
  {
   "cell_type": "code",
   "execution_count": null,
   "metadata": {},
   "outputs": [],
   "source": [
    "class TestedMaterial(Material):\n",
    "    def calculate_stress(self):\n",
    "        return self.force / self.area\n",
    "\n",
    "    def calculate_strain(self):\n",
    "        return self.change_in_length / self.original_length"
   ]
  },
  {
   "cell_type": "markdown",
   "metadata": {},
   "source": [
    "#### Polymorphism\n",
    "\n",
    "Polymorphism allows us to define methods in the child class with the same name as defined in their parent class. \n",
    "\n",
    "Here, though, we'll use it to interact with objects of `Material` and `TestedMaterial` uniformly."
   ]
  },
  {
   "cell_type": "markdown",
   "metadata": {},
   "source": [
    "### 👨‍💻 Practice tasks 6.2: Inheritance and Polymorphism"
   ]
  },
  {
   "cell_type": "code",
   "execution_count": null,
   "metadata": {},
   "outputs": [],
   "source": [
    "# 1. Create a subclass of Car called 'ElectricCar'\n",
    "# 2. Add an attribute to ElectricCar for 'battery_size'\n",
    "# 3. Override the 'describe' method in ElectricCar to include battery size\n",
    "# 4. Create a method in ElectricCar called 'charge' that prints \"Charging...\"\n",
    "# 5. Create instances of both Car and ElectricCar and call their methods to see the differences\n",
    "# 6. Create a function that can take either a Car or ElectricCar object and call its 'describe' method"
   ]
  },
  {
   "cell_type": "code",
   "execution_count": null,
   "metadata": {},
   "outputs": [],
   "source": [
    "# 1. Create a subclass of Car called 'ElectricCar'\n",
    "class ElectricCar(Car):\n",
    "    pass\n",
    "\n",
    "# 2. Add an attribute to ElectricCar for 'battery_size'\n",
    "class ElectricCar(Car):\n",
    "    def __init__(self, make, model, year, battery_size):\n",
    "        super().__init__(make, model, year)\n",
    "        self.battery_size = battery_size\n",
    "\n",
    "# 3. Override the 'describe' method in ElectricCar to include battery size\n",
    "class ElectricCar(Car):\n",
    "    def __init__(self, make, model, year, battery_size):\n",
    "        super().__init__(make, model, year)\n",
    "        self.battery_size = battery_size\n",
    "    \n",
    "    def describe(self):\n",
    "        super().describe()\n",
    "        print(f\"It has a {self.battery_size} kWh battery.\")\n",
    "\n",
    "# 4. Create a method in ElectricCar called 'charge' that prints \"Charging...\"\n",
    "class ElectricCar(Car):\n",
    "    def __init__(self, make, model, year, battery_size):\n",
    "        super().__init__(make, model, year)\n",
    "        self.battery_size = battery_size\n",
    "    \n",
    "    def describe(self):\n",
    "        super().describe()\n",
    "        print(f\"It has a {self.battery_size} kWh battery.\")\n",
    "    \n",
    "    def charge(self):\n",
    "        print(\"Charging...\")\n",
    "\n",
    "# 5. Create instances of both Car and ElectricCar and call their methods to see the differences\n",
    "regular_car = Car(\"Toyota\", \"Camry\", 2022)\n",
    "electric_car = ElectricCar(\"Tesla\", \"Model 3\", 2023, 75)\n",
    "\n",
    "regular_car.describe()\n",
    "electric_car.describe()\n",
    "electric_car.charge()\n",
    "\n",
    "# 6. Create a function that can take either a Car or ElectricCar object and call its 'describe' method\n",
    "def describe_vehicle(vehicle):\n",
    "    vehicle.describe()\n",
    "\n",
    "describe_vehicle(regular_car)\n",
    "describe_vehicle(electric_car)"
   ]
  },
  {
   "cell_type": "markdown",
   "metadata": {},
   "source": [
    "### [6.3 Magic Methods and Decorators](#63-magic-methods-and-decorators)\n",
    "\n",
    "#### Magic Methods\n",
    "\n",
    "Magic methods in Python are the special methods which add *\"magic\"* to your class. They are easy to recognize because they start and end with double underscores, for example, `__init__` or `__str__`.\n",
    "\n",
    "Let's define a `__str__` method in our Material class to provide a friendly string representation."
   ]
  },
  {
   "cell_type": "code",
   "execution_count": null,
   "metadata": {},
   "outputs": [],
   "source": [
    "class Material:\n",
    "    def __init__(self, material_id, force, area, original_length, change_in_length):\n",
    "        self.material_id = material_id\n",
    "        self.force = force\n",
    "        self.area = area\n",
    "        self.original_length = original_length\n",
    "        self.change_in_length = change_in_length\n",
    "        \n",
    "    def __str__(self):\n",
    "        return f\"Material {self.material_id}: Force = {self.force}, Area = {self.area}\"\n",
    "    \n",
    "    \n",
    "# Creating an object of the Material class\n",
    "material_example = Material(\"A001\", 100, 0.05, 10, 0.01)\n",
    "\n",
    "print(material_example)"
   ]
  },
  {
   "cell_type": "markdown",
   "metadata": {},
   "source": [
    "#### Decorators\n",
    "\n",
    "Decorators provide a simple syntax for calling *higher-order functions*. \n",
    "\n",
    "A higher-order function takes one or more functions as arguments or returns one or more functions. A decorator takes in a function, adds some functionality, and returns it.\n",
    "\n",
    "Let's use a simple decorator to log calculations:"
   ]
  },
  {
   "cell_type": "code",
   "execution_count": null,
   "metadata": {},
   "outputs": [],
   "source": [
    "def log_calculation(func):\n",
    "    def wrapper(*args, **kwargs):\n",
    "        result = func(*args, **kwargs)\n",
    "        print(f\"Logging: {func.__name__} was called.\")\n",
    "        return result\n",
    "    return wrapper\n",
    "\n",
    "class TestedMaterial(Material):\n",
    "    @log_calculation\n",
    "    def calculate_stress(self):\n",
    "        return super().calculate_stress()\n",
    "\n",
    "    @log_calculation\n",
    "    def calculate_strain(self):\n",
    "        return super().calculate_strain()\n"
   ]
  },
  {
   "cell_type": "markdown",
   "metadata": {},
   "source": [
    "### 👨‍💻 Practice tasks 6.3: Magic Methods and Decorators\n"
   ]
  },
  {
   "cell_type": "code",
   "execution_count": null,
   "metadata": {},
   "outputs": [],
   "source": [
    "# 1. Add a __str__ method to your Car class that returns a string representation of the car\n",
    "# 2. Add a __len__ method to your Car class that returns the length of the model name\n",
    "# 3. Create a decorator called 'debug' that prints the method name and arguments whenever a method is called\n",
    "# 4. Apply your 'debug' decorator to the 'describe' method of your Car class\n",
    "# 5. Create a class method for Car that returns the number of wheels\n",
    "# 6. Create a static method for Car that takes two cars as arguments and returns the newer one"
   ]
  },
  {
   "cell_type": "code",
   "execution_count": null,
   "metadata": {},
   "outputs": [],
   "source": [
    "# 1. Add a __str__ method to your Car class that returns a string representation of the car\n",
    "class Car:\n",
    "    def __init__(self, make, model, year):\n",
    "        self.make = make\n",
    "        self.model = model\n",
    "        self.year = year\n",
    "    \n",
    "    def __str__(self):\n",
    "        return f\"{self.year} {self.make} {self.model}\"\n",
    "\n",
    "# 2. Add a __len__ method to your Car class that returns the length of the model name\n",
    "class Car:\n",
    "    def __init__(self, make, model, year):\n",
    "        self.make = make\n",
    "        self.model = model\n",
    "        self.year = year\n",
    "    \n",
    "    def __str__(self):\n",
    "        return f\"{self.year} {self.make} {self.model}\"\n",
    "    \n",
    "    def __len__(self):\n",
    "        return len(self.model)\n",
    "\n",
    "# 3. Create a decorator called 'debug' that prints the method name and arguments whenever a method is called\n",
    "def debug(func):\n",
    "    def wrapper(*args, **kwargs):\n",
    "        print(f\"Calling {func.__name__} with args: {args}, kwargs: {kwargs}\")\n",
    "        return func(*args, **kwargs)\n",
    "    return wrapper\n",
    "\n",
    "# 4. Apply your 'debug' decorator to the 'describe' method of your Car class\n",
    "class Car:\n",
    "    def __init__(self, make, model, year):\n",
    "        self.make = make\n",
    "        self.model = model\n",
    "        self.year = year\n",
    "    \n",
    "    @debug\n",
    "    def describe(self):\n",
    "        print(f\"This car is a {self.year} {self.make} {self.model}.\")\n",
    "\n",
    "# 5. Create a class method for Car that returns the number of wheels\n",
    "class Car:\n",
    "    wheels = 4\n",
    "    \n",
    "    @classmethod\n",
    "    def get_wheels(cls):\n",
    "        return cls.wheels\n",
    "\n",
    "# 6. Create a static method for Car that takes two cars as arguments and returns the newer one\n",
    "class Car:\n",
    "    @staticmethod\n",
    "    def get_newer_car(car1, car2):\n",
    "        return car1 if car1.year > car2.year else car2\n",
    "\n",
    "# Testing all the implementations\n",
    "car1 = Car(\"Toyota\", \"Corolla\", 2020)\n",
    "car2 = Car(\"Honda\", \"Civic\", 2018)\n",
    "\n",
    "print(str(car1))\n",
    "print(len(car1))\n",
    "car1.describe()\n",
    "print(Car.get_wheels())\n",
    "newer_car = Car.get_newer_car(car1, car2)\n",
    "print(f\"The newer car is: {newer_car}\")"
   ]
  },
  {
   "cell_type": "markdown",
   "metadata": {},
   "source": [
    "### [6.4 Coding Challenge](#64-coding-challenge)\n",
    "\n",
    "#### Stress and Strain Calculator (Part 4/4)\n",
    "\n",
    "**Objective:**\n",
    "\n",
    "Refine the stress and strain calculator to utilize object-oriented programming principles. Your task is to design a class that represents a material undergoing stress and strain tests. This class should encapsulate all relevant data (such as force, area, original length, and change in length) and include methods for calculating stress and strain.\n",
    "\n",
    "**Steps:**\n",
    "* **Step 1: Define a Material Class:**\n",
    "    * This class should have an initializer (__init__) that takes parameters for material_id, force, area, original_length, and change_in_length and stores them as attributes.\n",
    "    * Include the calculate_stress_strain method from Chapter 5 as a method of this class. It should calculate and return the stress and strain based on the object's attributes.\n",
    "\n",
    "* **Step 2: Implement Inheritance:**\n",
    "    * Create a subclass named TestedMaterial that inherits from Material.\n",
    "    * Add any additional attributes or methods that might be relevant for a material that has been specifically tested, such as a method to display the results in a formatted string.\n",
    "\n",
    "* **Step 3: Add Magic Methods:**\n",
    "    * Implement the __str__ magic method in your Material class to return a string representation of the material, including its ID and calculated stress and strain.\n",
    "\n",
    "* **Step 4: Use Decorators:**\n",
    "    * Create and apply a decorator that logs each time a calculation method is called. This should print a message to the console indicating that stress or strain calculation has been performed.\n",
    "\n",
    "\n",
    "**Example Code Structure:**\n",
    "\n",
    "```python\n",
    "# Define your decorator function here\n",
    "\n",
    "class Material:\n",
    "    def __init__(self, material_id, force, area, original_length, change_in_length):\n",
    "        # Initialize attributes\n",
    "\n",
    "    # Decorator applied to this method\n",
    "    def calculate_stress_strain(self):\n",
    "        # Perform calculations and return results\n",
    "\n",
    "    def __str__(self):\n",
    "        # Return string representation\n",
    "\n",
    "class TestedMaterial(Material):\n",
    "    # Optional: Additional attributes or methods\n",
    "\n",
    "# Example usage\n",
    "material = TestedMaterial(\"M001\", 100, 0.5, 10, 0.02)\n",
    "print(material)\n",
    "print(material.calculate_stress_strain())\n",
    "```\n",
    "\n",
    "**Tasks:**\n",
    "\n",
    "* Implement the `Material` and `TestedMaterial` classes as described.\n",
    "* Ensure your `calculate_stress_strain` method properly calculates and returns both stress and strain.\n",
    "* Test your classes by creating instances with sample data and calling the methods to verify correct behavior.\n",
    "\n",
    "This challenge will not only test your understanding of the concepts discussed in Chapter 6 but also give you practical experience with Python's OOP features. Remember, the goal is to model real-world problems in a more intuitive and manageable way using classes and objects."
   ]
  },
  {
   "cell_type": "code",
   "execution_count": null,
   "metadata": {},
   "outputs": [],
   "source": [
    "def log_calculation(func):\n",
    "    \"\"\"Decorator to log the calculation method calls.\"\"\"\n",
    "    def wrapper(*args, **kwargs):\n",
    "        result = func(*args, **kwargs)\n",
    "        print(f\"{func.__name__} was called with result: {result}\")\n",
    "        return result\n",
    "    return wrapper"
   ]
  },
  {
   "cell_type": "markdown",
   "metadata": {},
   "source": [
    "* **Decorator (`log_calculation`):** This function wraps another function (in this case, calculate_stress_strain) to log its calls. \n",
    "\n",
    "It's a simple example of how decorators can add functionality (like logging) to existing methods without modifying their implementation."
   ]
  },
  {
   "cell_type": "code",
   "execution_count": null,
   "metadata": {},
   "outputs": [],
   "source": [
    "class Material:\n",
    "    \"\"\"Represents a material undergoing stress and strain tests.\"\"\"\n",
    "    \n",
    "    def __init__(self, material_id, force, area, original_length, change_in_length):\n",
    "        \"\"\"Initialize the material with its properties.\"\"\"\n",
    "        self.material_id = material_id\n",
    "        self.force = force\n",
    "        self.area = area\n",
    "        self.original_length = original_length\n",
    "        self.change_in_length = change_in_length\n",
    "\n",
    "    @log_calculation\n",
    "    def calculate_stress_strain(self):\n",
    "        \"\"\"Calculate and return stress and strain based on material properties.\"\"\"\n",
    "        stress = self.force / self.area\n",
    "        strain = self.change_in_length / self.original_length\n",
    "        return stress, strain\n",
    "\n",
    "    def __str__(self):\n",
    "        \"\"\"Return a string representation of the material, including ID and calculated stress and strain.\"\"\"\n",
    "        stress, strain = self.calculate_stress_strain()\n",
    "        return f\"Material {self.material_id}: Stress = {stress} Pascals, Strain = {strain}\""
   ]
  },
  {
   "cell_type": "markdown",
   "metadata": {},
   "source": [
    "* **Material Class:** This class encapsulates the properties and behaviors related to a material under stress and strain tests. It includes:\n",
    "    * An initializer (`__init__`) that sets up the material's properties.\n",
    "    * A method (calculate_stress_strain) decorated with log_calculation to calculate stress and strain. This demonstrates method decoration for logging.\n",
    "    * A magic method (`__str__`) to provide a user-friendly string representation of the material object, showcasing the calculated stress and strain."
   ]
  },
  {
   "cell_type": "code",
   "execution_count": null,
   "metadata": {},
   "outputs": [],
   "source": [
    "class TestedMaterial(Material):\n",
    "    \"\"\"Subclass of Material that represents a tested material. Could include additional testing-related methods.\"\"\"\n",
    "    \n",
    "    # This subclass inherits everything from Material and can be extended with more functionality specific to tested materials.\n",
    "    pass"
   ]
  },
  {
   "cell_type": "markdown",
   "metadata": {},
   "source": [
    "* **TestedMaterial Subclass:** While it doesn't add additional functionality in this example, it shows how inheritance can be used to create specialized versions of a class (like a material that has passed certain tests)."
   ]
  },
  {
   "cell_type": "code",
   "execution_count": null,
   "metadata": {},
   "outputs": [],
   "source": [
    "# Create an instance of TestedMaterial with sample data\n",
    "material = TestedMaterial(\"M001\", 100, 0.5, 10, 0.02)\n",
    "\n",
    "# Print the material's string representation, triggering the calculation and log\n",
    "print(material)"
   ]
  },
  {
   "cell_type": "markdown",
   "metadata": {},
   "source": [
    "* **Example Usage:** Demonstrates creating an instance of TestedMaterial and printing its details, which implicitly calls the decorated calculate_stress_strain method and logs the action."
   ]
  },
  {
   "cell_type": "markdown",
   "metadata": {},
   "source": [
    "[--> Back to Outline](#course-outline)\n",
    "\n",
    "---\n"
   ]
  },
  {
   "cell_type": "markdown",
   "metadata": {},
   "source": [
    "## **[7. Best Practices and Resources](#7-best-practices-and-resources)**\n"
   ]
  },
  {
   "cell_type": "markdown",
   "metadata": {},
   "source": [
    "### [7.1 Writing Efficient Python Code](#71-writing-efficient-python-code)\n",
    "\n",
    "Writing efficient Python code is not just about making it run faster or using fewer resources; it's also about making your code more readable, maintainable, and, ultimately, more Pythonic. \n",
    "\n",
    "Here are some tips to help you write more efficient Python code:\n",
    "\n",
    "* **Use Built-in Functions and Libraries:** Python’s standard library is vast and offers built-in functions that are optimized for performance. Whenever possible, use these functions instead of writing your own from scratch.\n",
    "\n",
    "* **Understand Pythonic Idioms:** Python has a philosophy of simplicity and readability, often encapsulated in the phrase \"There should be one-- and preferably only one --obvious way to do it.\" Learning these idiomatic ways can make your code more Pythonic and efficient.\n",
    "\n",
    "* **Leverage List Comprehensions and Generator Expressions:** These are not only more concise but often faster than using loops for creating or transforming lists and iterables.\n",
    "\n",
    "* **Use the `with`  Statement for Resource Management:** When dealing with file operations or any resources that need to be properly closed after use, using the `with` statement ensures that resources are efficiently managed and released, even if an error occurs.\n",
    "\n",
    "* **Profile Your Code:** If you're looking to optimize your code, it's essential to know where the bottlenecks are. Python provides profiling tools, like `cProfile`, that can help you understand which parts of your code are the slowest."
   ]
  },
  {
   "cell_type": "markdown",
   "metadata": {},
   "source": [
    "### [7.2 Learning Resources](#72-learning-resources)\n",
    "\n",
    "Advancing your Python skills is a continuous journey. Here are some curated resources to help you along the way:\n",
    "\n",
    "* **Official Python Documentation:** Always a great place to start, the official Python documentation (docs.python.org) is comprehensive and includes tutorials, library references, and guides on language reference.\n",
    "\n",
    "* **Automate the Boring Stuff with Python:** A fantastic book for beginners by Al Sweigart, which teaches Python through practical projects. Available online for free at automatetheboringstuff.com.\n",
    "\n",
    "* **Python.org’s Python Developer’s Guide:** For those looking to contribute to Python’s development, this guide provides all the necessary information to get started. It’s a great way to give back to the community and learn more about the language’s internals.\n",
    "\n",
    "* **Stack Overflow:** A vital resource for any programmer. The Python tag on Stack Overflow has a wealth of information and community-driven solutions to common (and uncommon) issues."
   ]
  },
  {
   "cell_type": "markdown",
   "metadata": {},
   "source": [
    "### [7.3 Q&A Session](#73-q-and-a-session)\n",
    "\n",
    "This section is dedicated to addressing some frequently asked questions by beginners:\n",
    "\n",
    "Q: How do I choose between Python 2 and Python 3?\n",
    "\n",
    "A: As of January 1, 2020, Python 2 has reached the end of its life (EOL), and no further updates or security patches are being released for it. Always choose Python 3 for new projects.\n",
    "\n",
    "\n",
    "Q: What are some common pitfalls to avoid as a beginner in Python?\n",
    "\n",
    "A: Some common pitfalls include not using the proper data structures, neglecting Pythonic idioms, and underutilizing Python’s standard library. Also, ensure that you understand mutable vs. immutable types to avoid unexpected behavior in your programs.\n",
    "\n",
    "\n",
    "Q: Is it better to learn Python from books or online tutorials?\n",
    "\n",
    "A: This largely depends on your learning style. Books often provide a more structured approach to learning, while online tutorials can be more interactive and up to date. Combining both is a great strategy."
   ]
  },
  {
   "cell_type": "markdown",
   "metadata": {},
   "source": [
    "[--> Back to Outline](#course-outline)\n",
    "\n",
    "---"
   ]
  }
 ],
 "metadata": {
  "kernelspec": {
   "display_name": "Python 3 (ipykernel)",
   "language": "python",
   "name": "python3"
  },
  "language_info": {
   "codemirror_mode": {
    "name": "ipython",
    "version": 3
   },
   "file_extension": ".py",
   "mimetype": "text/x-python",
   "name": "python",
   "nbconvert_exporter": "python",
   "pygments_lexer": "ipython3",
   "version": "3.12.3"
  }
 },
 "nbformat": 4,
 "nbformat_minor": 2
}
