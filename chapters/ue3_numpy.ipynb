{
 "cells": [
  {
   "cell_type": "markdown",
   "metadata": {},
   "source": [
    "# UE3: NumPy\n",
    "\n",
    "<img src=\"https://miro.medium.com/v2/resize:fit:640/format:webp/1*RoqtXmJUIjRszkSN7WsK5A.png\" height=\"200\">"
   ]
  },
  {
   "cell_type": "markdown",
   "metadata": {},
   "source": [
    "### **Introduction to Numpy for Data Handling**\n",
    "\n",
    "Welcome to the \"Introduction to **Numpy**\" course, designed to equip you with the essential skills for efficient data handling and analysis in Python. \n",
    "\n",
    "This two-hour course is structured to balance theory with practical application, ensuring you're ready for real-world data science challenges.\n",
    "\n",
    "---"
   ]
  },
  {
   "cell_type": "markdown",
   "metadata": {},
   "source": [
    "## **Course Outline**\n",
    "\n",
    "#### **Chapter 1. [Introduction to NumPy](#1-introduction-to-numpy)**\n",
    "- **Chapter 1.1 [Overview of NumPy](#1.1-overview-of-numpy):** What is NumPy, and why is it important for data science?\n",
    "- **Chapter 1.2 [Installation and Setup](#1.2-installation-and-setup):** Step-by-step guide to getting NumPy up and running.\n",
    "- **Chapter 1.3 [Why Numpy?](#1.3-why-numpy):** The advantages of Numpy over traditional Python lists.\n",
    "\n",
    "#### **Chapter 2. [Numpy Basics](#2-numpy-basics)**\n",
    "- **Chapter 2.1 [Introduction to NumPy arrays](#2.1-introduction-to-numpy-arrays):** Learn the various methods to create Numpy arrays.\n",
    "- **Chapter 2.2 [Array Attributes](#2.2-array-attributes):** Understand essential array properties.\n",
    "- **Chapter 2.2 [Build-in functions](#2.2-array-attributes):** Understand essential array properties.\n",
    "- **Chapter 2.3 [Indexing techniques](#2.3-indexing-techniques):** Master techniques for accessing array elements.\n",
    "- **Chapter 2.4 [Slicing techniques](#2.4-slicing-techniques):** Master techniques for accessing array elements.\n",
    "- **Chapter 2.5 [Coding Challenge: Stress Analysis 1/3](#2.5-coding-challenge-stress-analysis-1/3):** Test your new skills with a practical exercise.  \n",
    "\n",
    "#### **Chapter 3. [Operations with Numpy Arrays](#3-operations-with-numpy-arrays)**\n",
    "- **Chapter 3.1 [Arithmetic operations](#3.1-arithmetic-operations):** Dive into arithmetic operations and broadcasting.\n",
    "- **Chapter 3.2 [Statistical Functions](#3.2-statistical-functions):** Summarize data using sum, mean, and other statistical functions.\n",
    "- **Chapter 3.3 [Broadcasting](#3.3-broadcasting):** Filter data efficiently with conditions.\n",
    "- **Chapter 3.4 [Coding Challenge: Stress Analysis 2/3](#3.4-coding-challenge-stress-analysis-2/3):** Deepen your skills with a continuation of the practical exercise.  \n",
    "\n",
    "#### **Chapter 4. [Advanced Numpy Techniques](#4-advanced-numpy-techniques)**\n",
    "- **Chapter 4.1 [Reshaping and Transposing](#4.1-reshaping-and-transposing):** Modify the shape and orientation of arrays.\n",
    "- **Chapter 4.2 [Stacking and Splitting](#4.2-stacking-and-splitting):** Combine and divide arrays for advanced data manipulation.\n",
    "- **Chapter 4.3 [Universal Functions (ufuncs)](#4.3-universal-functions-ufuncs):** Leverage fast, element-wise operations for performance.\n",
    "- **Chapter 4.4 [Advanced Indexing and Slicing](#4.4-advanced-indexing-and-slicing):** Utilize efficient indexing and slicing with conditions.\n",
    "- **Chapter 4.5 [Coding Challenge: Stress Analysis 3/3](#4.5-coding-challenge-stress-analysis-3/3):** Challenge your NumPy skills with this final practical exercise.\n",
    "\n",
    "#### **Chapter 5. [Best Practices and Resources](#5-best-practices-and-resources)**\n",
    "- **Chapter 5.1 [Writing Efficient Numpy Code](#5.1-writing-efficient-numpy-code):** Tips for optimizing your Numpy code.\n",
    "- **Chapter 5.2 [Learning Resources](#5.2-learning-resources):** Recommended documentation, tutorials, and books for further study.\n",
    "- **Chapter 5.3 [Q&A Session](#5.3-qa-session):** Your questions answered.\n",
    "\n",
    "---"
   ]
  },
  {
   "cell_type": "markdown",
   "metadata": {},
   "source": [
    "# **[1. Introduction to NumPy](#1-introduction-to-numpy)**\n",
    "\n",
    "**NumPy** is a fundamental package for scientific computing in Python. It introduces powerful capabilities for creating and manipulating `N-dimensional arrays`, which are more efficient and significantly faster than Python's built-in lists. \n",
    "\n",
    "Beyond its core array object, NumPy provides a comprehensive toolkit for mathematical functions, random number generation, linear algebra operations, Fourier transforms, and more. \n",
    "\n",
    "<img src=\"https://miro.medium.com/v2/resize:fit:640/format:webp/1*RoqtXmJUIjRszkSN7WsK5A.png\" height=\"100\">\n",
    "\n",
    "Originating to address the need for efficient numerical computation in Python, NumPy has become the cornerstone library for numerical and scientific computing in the Python ecosystem. Its `array` object is the de facto standard for data exchange in scientific and analytical libraries, making **NumPy** a critical component for data analysis, machine learning, and beyond."
   ]
  },
  {
   "cell_type": "markdown",
   "metadata": {},
   "source": [
    "### [1.1 Overview of Numpy](#1.1-overview-of-numpy)\n",
    "\n",
    "#### **NumPy**: Numerical Computing with Python\n",
    "\n",
    "NumPy (for **Num**erical **Py**thon) is an open source Python library that’s used in almost every field of science and engineering. It’s the universal standard for working with numerical data in Python, and it’s at the core of the scientific [Python](https://www.python.org/) and [PyData](https://pydata.org/) ecosystems. \n",
    "\n",
    "NumPy users include everyone from beginning coders to experienced researchers doing state-of-the-art scientific and industrial research and development. \n",
    "\n",
    "The NumPy API is used extensively in [Pandas](https://pandas.pydata.org/), [SciPy](https://scipy.org/), [Matplotlib](https://matplotlib.org/), [scikit-learn](https://scikit-learn.org/stable/), [scikit-image](https://scikit-image.org/) and most other data science and scientific Python packages.\n",
    "\n",
    "\n",
    "#### Core Feature: n-dimensional Array Object\n",
    "\n",
    "The NumPy library contains multidimensional **array** and matrix data structures (you’ll find more information about this in later sections). \n",
    "\n",
    "It provides `ndarray`, a homogeneous n-dimensional array object, with methods to efficiently operate on it. "
   ]
  },
  {
   "cell_type": "code",
   "execution_count": null,
   "metadata": {},
   "outputs": [],
   "source": [
    "import numpy as np\n",
    "\n",
    "np.ndarray(shape=(2,2), dtype=\"int32\")"
   ]
  },
  {
   "cell_type": "markdown",
   "metadata": {},
   "source": [
    "NumPy can be used to perform a wide variety of mathematical operations on arrays. It adds powerful data structures to Python that guarantee efficient calculations with arrays and matrices and it supplies an enormous library of high-level mathematical functions that operate on these arrays and matrices.\n",
    "\n",
    "\n",
    "#### Key Capabilities: Expanding the Scope of Data Analysis\n",
    "\n",
    "NumPy encompasses a range of functionalities that extend its application beyond mere data storage:\n",
    "\n",
    "* **Mathematical Functions:** NumPy offers an extensive collection of mathematical operations that can be applied directly to arrays, facilitating complex numerical computations with efficiency.\n",
    "* **Random Number Generation:** The library provides mechanisms for generating sequences of random numbers, essential for statistical analyses and algorithmic simulations.\n",
    "* **Fourier Transforms:** NumPy includes functions for performing Fourier transforms, crucial for applications in signal processing and harmonic analysis.\n",
    "* **Linear Algebra Operations:** It contains a suite for linear algebra, including operations such as matrix multiplications and eigenvalue decompositions, vital for numerous scientific computations.\n",
    "* **Integration with C/C++ and Fortran:** NumPy can integrate with code written in C, C++, and Fortran, enhancing computational efficiency through direct access to low-level language capabilities.\n",
    "\n",
    "\n",
    "#### Applications: Demonstrating Versatility\n",
    "\n",
    "NumPy's utility spans multiple disciplines and applications:\n",
    "\n",
    "* **Data Analysis:** It is extensively used for data preprocessing, transformation, and statistical analysis.\n",
    "Machine Learning: NumPy supports data manipulation for machine learning algorithms, including data preprocessing and feature extraction.\n",
    "* **Scientific Computing:** The library is essential for numerical simulations, implementing numerical methods, and conducting complex calculations in scientific research.\n",
    "* **Engineering and Beyond:** Its application is not limited to scientific research but extends to engineering, finance, and any field that relies on numerical data analysis.\n",
    "\n",
    "\n",
    "#### Learning Objectives\n",
    "\n",
    "By the end of this section, you will be able to:\n",
    "\n",
    "1. Understand the significance of Numpy in the Python data science ecosystem.\n",
    "2. Recognize the advantages of Numpy arrays over standard Python sequences.\n",
    "3. Identify the key features of Numpy that make it an essential tool for data manipulation and analysis.\n",
    "4. Utilize several different techniques for data handling and explore more advanced applications.\n",
    "\n",
    "In the following sections, we will dive deeper into how to create and manipulate Numpy arrays, perform operations with them, and use Numpy to solve real-world data analysis problems.\n",
    "\n",
    "\n",
    "To learn more about NumPy, visit the official [Numpy documentation](https://numpy.org/doc/stable/user/whatisnumpy.html#whatisnumpy)!"
   ]
  },
  {
   "cell_type": "markdown",
   "metadata": {},
   "source": [
    "### [1.2 Installation and Setup](#1.2-installation-and-setup)\n",
    "\n",
    "Installing NumPy is straightforward using Python's package manager, pip. \n",
    "\n",
    "Before installing NumPy, ensure you have Python installed on your system. NumPy supports Python 3.5 and newer.\n",
    "\n",
    "#### Installing NumPy\n",
    "\n",
    "Once Python is installed, you can install NumPy by opening your command line or terminal and running the following command:\n",
    "\n",
    "    pip install numpy \n",
    "\n",
    "This command downloads and installs the latest version of NumPy. If you are using a Python virtual environment (highly recommended for managing project-specific dependencies), make sure it is activated before running the pip command.\n",
    "\n",
    "#### Verifying the Installation\n",
    "\n",
    "To verify that NumPy is installed correctly, open a Python interpreter by typing python in your command line or terminal, and then run the following commands:"
   ]
  },
  {
   "cell_type": "code",
   "execution_count": null,
   "metadata": {},
   "outputs": [],
   "source": [
    "import numpy as np \n",
    "print(np.__version__)"
   ]
  },
  {
   "cell_type": "markdown",
   "metadata": {},
   "source": [
    "If NumPy is installed correctly, you will see the version number printed without errors.\n",
    "Upgrading NumPy\n",
    "\n",
    "If you need to upgrade NumPy to the latest version, you can use pip's upgrade option:\n",
    "\n",
    "    pip install --upgrade numpy\n",
    "\n",
    "#### Troubleshooting\n",
    "\n",
    "If you encounter any issues during the installation process, ensure your pip, setuptools, and wheel are up to date. You can upgrade these tools using pip:\n",
    "\n",
    "    pip install --upgrade pip setuptools wheel\n",
    "\n",
    "Then, try reinstalling NumPy.\n",
    "\n",
    "#### Getting Started\n",
    "\n",
    "Now that you have NumPy installed, you're ready to start using it to perform calculations and manipulate numerical data. "
   ]
  },
  {
   "cell_type": "markdown",
   "metadata": {},
   "source": [
    "### [1.3 Why Numpy?](#1.3-why-numpy)\n",
    "\n",
    "#### The Impact of NumPy\n",
    "\n",
    "The design and capabilities of NumPy have made it a critical tool for numerical computations in Python. Its impact is seen across various domains, from artificial intelligence and machine learning to genomics and astronomy. By providing an efficient and scalable array structure along with a rich collection of functions, NumPy enables researchers and professionals to perform complex mathematical operations and data analysis with ease.\n",
    "\n",
    "#### Why Numpy is Important for Data Science\n",
    "\n",
    "* **Performance:** Numpy arrays are stored at one continuous place in memory unlike lists, so processes can access and manipulate them very efficiently. This design choice optimizes processing speed and resource usage, providing a significant performance boost over standard Python lists.\n",
    "* **Functionality:** Numpy provides a comprehensive mathematical function library for operations on arrays, including mathematical, logical, shape manipulation, sorting, selecting, I/O, discrete Fourier transforms, basic linear algebra, basic statistical operations, random simulation, and much more.\n",
    "* **Interoperability:** Numpy arrays can be used as an efficient multi-dimensional container for generic data. Arbitrary data-types can be defined, allowing Numpy to seamlessly and speedily integrate with a wide variety of databases.\n",
    "\n",
    "#### Key Features of Numpy\n",
    "\n",
    "* **Arrays:** Numpy's main object is the homogeneous multidimensional array. It is a table of elements (usually numbers), all of the same type, indexed by a tuple of non-negative integers. In Numpy, dimensions are called `axes`.\n",
    "* **Broadcasting:** The term broadcasting describes how Numpy treats arrays with different `shapes` during arithmetic operations. Subject to certain constraints, the smaller array is “broadcast” across the larger array so that they have compatible shapes.\n",
    "* **Vectorization:** Numpy provides a concise and readable way to perform mathematical `operations` on arrays, allowing for vectorized operations. This means operations are performed on entire arrays rather than their individual elements, leading to concise and faster computations.\n",
    "\n",
    "Read more about the advantage of Numpy Arrays compared to Python lists [here](https://www.geeksforgeeks.org/python-lists-vs-numpy-arrays/).\n",
    "\n",
    "In the next sections, we'll dive deeper into the capabilities of NumPy, starting with creating and manipulating arrays, to help you leverage its full potential in your data science projects.\n"
   ]
  },
  {
   "cell_type": "markdown",
   "metadata": {},
   "source": [
    "[--> Back to Outline](#course-outline)\n",
    "\n",
    "---"
   ]
  },
  {
   "cell_type": "markdown",
   "metadata": {},
   "source": [
    "## **[2. Numpy Basics](#2-numpy-basics)**\n",
    "\n",
    "To begin working with NumPy arrays, you first need to import the NumPy library:"
   ]
  },
  {
   "cell_type": "code",
   "execution_count": 2,
   "metadata": {},
   "outputs": [],
   "source": [
    "import numpy as np"
   ]
  },
  {
   "cell_type": "markdown",
   "metadata": {},
   "source": [
    "### [2.1 Introduction to Numpy Arrays](#2.1-introduction-to-numpy-arrays)\n",
    "\n",
    "NumPy `arrays` are the foundation of numerical computing in Python. \n",
    "\n",
    "An array in NumPy is a grid of values, all of the same type, and is indexed by a tuple of nonnegative integers. The number of dimensions is the rank of the array, and the shape of an array is a tuple of integers giving the size of the array along each dimension.\n"
   ]
  },
  {
   "cell_type": "markdown",
   "metadata": {},
   "source": [
    "##### Basic Array Creation\n",
    "\n",
    "You can create a NumPy array directly from a Python `list` or from a Python `tuple` using the `np.array()` function. This method allows NumPy to automatically infer the type of the array based on the data provided.\n"
   ]
  },
  {
   "cell_type": "code",
   "execution_count": null,
   "metadata": {},
   "outputs": [],
   "source": [
    "# Create a NumPy array from a Python list\n",
    "python_list = [1, 2, 3, 4, 5]\n",
    "print(f\"Python list: {python_list}\")\n",
    "\n",
    "np_array_from_list = np.array(python_list)\n",
    "print(f\"Numpy array: {np_array_from_list}\")"
   ]
  },
  {
   "cell_type": "code",
   "execution_count": null,
   "metadata": {},
   "outputs": [],
   "source": [
    "# Create a NumPy array from a Python tuple\n",
    "python_tuple = (6, 7, 8, 9, 10)\n",
    "print(f\"Python tuple: {python_tuple}\")\n",
    "\n",
    "np_array_from_tuple = np.array(python_tuple)\n",
    "print(f\"Numpy array: {np_array_from_tuple}\")"
   ]
  },
  {
   "cell_type": "markdown",
   "metadata": {},
   "source": [
    "#### Array with mixed data types\n",
    "\n",
    "NumPy arrays aim to be homogeneous in nature, meaning all elements are typically of the same data type. However, you can create arrays with mixed data types, which results in an array where the data type is up-leveled to accommodate all elements in the array."
   ]
  },
  {
   "cell_type": "code",
   "execution_count": null,
   "metadata": {},
   "outputs": [],
   "source": [
    "# Create a NumPy array from a Python list with mixed types\n",
    "python_list_mixed = [1, 2, 3, 4, 5.1] # float\n",
    "print(f\"Python list: {python_list_mixed}\")\n",
    "\n",
    "np_array_from_list_mixed = np.array(python_list_mixed)\n",
    "print(f\"Numpy array: {np_array_from_list_mixed}\")"
   ]
  },
  {
   "cell_type": "code",
   "execution_count": null,
   "metadata": {},
   "outputs": [],
   "source": [
    "# Create a NumPy array from a Python tuple with mixed types\n",
    "python_tuple_mixed = (1, 2, 3, 4, \"5\") # string\n",
    "print(f\"Python list: {python_tuple_mixed}\")\n",
    "\n",
    "np_array_from_tuple_mixed = np.array(python_tuple_mixed)\n",
    "print(f\"Numpy array: {np_array_from_tuple_mixed}\")"
   ]
  },
  {
   "cell_type": "markdown",
   "metadata": {},
   "source": [
    "Please note, the entire array takes the data type of the \"biggest\" type provided. In this case, since the array contains both floats and strings, the data type of the entire array is upgraded to a string (`<U32` or a similar Unicode string type) to ensure all elements are of a type that can represent any of the values. This behavior underscores the principle that NumPy arrays are designed to be homogeneous, automatically converting all elements to a common data type that can represent all elements in the array without loss of information.\n",
    "Why Homogeneity Matters\n",
    "\n",
    "The homogeneity of data types in NumPy arrays is a key feature that enables the library to perform operations efficiently. By ensuring that all elements of an array are of the same type, NumPy can optimize memory usage and computational speed, leveraging vectorized operations and other optimizations that depend on consistent data type representation.\n",
    "\n",
    "This characteristic is particularly important for numerical computations where performance and precision are crucial. However, it also means that when working with mixed data types, one must be mindful of the automatic upcasting to the \"biggest\" data type, as it can affect both the array's memory footprint and the performance of operations performed on it."
   ]
  },
  {
   "cell_type": "markdown",
   "metadata": {},
   "source": [
    "#### Using Built-in Functions\n",
    "\n",
    "NumPy provides several built-in functions to create arrays with specific characteristics, which is particularly useful for initializing arrays in engineering computations.\n",
    "\n",
    "This section covers the following build-in functions:\n",
    "* zeros\n",
    "* ones\n",
    "* arrange\n",
    "* random\n",
    "* linspace"
   ]
  },
  {
   "cell_type": "markdown",
   "metadata": {},
   "source": [
    "**np.zeros():** Creates an array filled with zeros"
   ]
  },
  {
   "cell_type": "code",
   "execution_count": 11,
   "metadata": {},
   "outputs": [
    {
     "name": "stdout",
     "output_type": "stream",
     "text": [
      "[[0. 0. 0.]\n",
      " [0. 0. 0.]\n",
      " [0. 0. 0.]]\n"
     ]
    }
   ],
   "source": [
    "# Creating a 3x3 array of zeros\n",
    "zeros_array = np.zeros((3, 3))\n",
    "print(zeros_array)"
   ]
  },
  {
   "cell_type": "markdown",
   "metadata": {},
   "source": [
    "**np.ones():** Creates an array filled with ones"
   ]
  },
  {
   "cell_type": "code",
   "execution_count": null,
   "metadata": {},
   "outputs": [],
   "source": [
    "# Creating a 2x2 array of ones\n",
    "ones_array = np.ones((2, 2))\n",
    "print(ones_array)"
   ]
  },
  {
   "cell_type": "markdown",
   "metadata": {},
   "source": [
    "**np.arange():** Generates values within a specified range. Similar to Python's range() but returns a NumPy array."
   ]
  },
  {
   "cell_type": "code",
   "execution_count": null,
   "metadata": {},
   "outputs": [],
   "source": [
    "# Creating an array with a range from 0 to 9\n",
    "range_array = np.arange(0,10)\n",
    "print(range_array)\n"
   ]
  },
  {
   "cell_type": "markdown",
   "metadata": {},
   "source": [
    "**np.random():** Offers a way to create arrays with random numbers"
   ]
  },
  {
   "cell_type": "code",
   "execution_count": 3,
   "metadata": {},
   "outputs": [
    {
     "name": "stdout",
     "output_type": "stream",
     "text": [
      "[[0.04063035 0.48631921 0.338544  ]\n",
      " [0.41337492 0.91422386 0.31879499]\n",
      " [0.23718439 0.14385544 0.33721082]]\n"
     ]
    }
   ],
   "source": [
    "# Creating a 3x3 array with random values\n",
    "random_array = np.random.random((3, 3))\n",
    "print(random_array)"
   ]
  },
  {
   "cell_type": "markdown",
   "metadata": {},
   "source": [
    "**np.linspace()**: Generates linearly spaced values between a specified start and stop value."
   ]
  },
  {
   "cell_type": "code",
   "execution_count": 6,
   "metadata": {},
   "outputs": [
    {
     "name": "stdout",
     "output_type": "stream",
     "text": [
      "[0.   0.25 0.5  0.75 1.  ]\n"
     ]
    }
   ],
   "source": [
    "# Creating an array with 5 values linearly spaced between 0 and 1\n",
    "linear_array = np.linspace(0, 1, 5)\n",
    "print(linear_array)"
   ]
  },
  {
   "cell_type": "markdown",
   "metadata": {},
   "source": [
    "### [2.2 Array Attributes](#2.2-array-attributes)\n",
    "\n",
    "Understanding the attributes of NumPy arrays is crucial for effectively manipulating and analyzing data. \n",
    "\n",
    "This section covers key attributes that describe array characteristics: \n",
    "* shape\n",
    "* size\n",
    "* dtype\n",
    "* ndim"
   ]
  },
  {
   "cell_type": "code",
   "execution_count": 7,
   "metadata": {},
   "outputs": [
    {
     "name": "stdout",
     "output_type": "stream",
     "text": [
      "a: [1 2 3 4]\n",
      "b: [[1 2 3]\n",
      " [4 5 6]]\n",
      "c: [[1.5 2.  3. ]]\n"
     ]
    }
   ],
   "source": [
    "a = np.array([1, 2, 3, 4])\n",
    "b = np.array([[1, 2, 3], [4, 5, 6]])\n",
    "c = np.array([[1.5, 2, 3], ])\n",
    "\n",
    "print(f\"a: {a}\")\n",
    "print(f\"b: {b}\")\n",
    "print(f\"c: {c}\")"
   ]
  },
  {
   "cell_type": "markdown",
   "metadata": {},
   "source": [
    "**.shape:** The shape of an array tells you the dimensions of the array - how many rows, columns, and further dimensions the array contains."
   ]
  },
  {
   "cell_type": "code",
   "execution_count": 8,
   "metadata": {},
   "outputs": [
    {
     "name": "stdout",
     "output_type": "stream",
     "text": [
      "Shape of array a: (4,)\n",
      "Shape of array b: (2, 3)\n",
      "Shape of array c: (1, 3)\n"
     ]
    }
   ],
   "source": [
    "# Checking the shape of an array\n",
    "print(f\"Shape of array a: {a.shape}\")\n",
    "print(f\"Shape of array b: {b.shape}\")\n",
    "print(f\"Shape of array c: {c.shape}\")"
   ]
  },
  {
   "cell_type": "markdown",
   "metadata": {},
   "source": [
    "**.size:** The size attribute returns the total number of elements in the array."
   ]
  },
  {
   "cell_type": "code",
   "execution_count": 12,
   "metadata": {},
   "outputs": [
    {
     "name": "stdout",
     "output_type": "stream",
     "text": [
      "Size of array a: 4\n",
      "Size of array b: 6\n",
      "Size of array c: 3\n"
     ]
    }
   ],
   "source": [
    "# Checking the size of an array\n",
    "print(f\"Size of array a: {a.size}\")\n",
    "print(f\"Size of array b: {b.size}\")\n",
    "print(f\"Size of array c: {c.size}\")"
   ]
  },
  {
   "cell_type": "markdown",
   "metadata": {},
   "source": [
    "**.dtype:** Every NumPy array is a grid of elements of the same type. The dtype attribute tells you the data type of the elements in the array."
   ]
  },
  {
   "cell_type": "code",
   "execution_count": 13,
   "metadata": {},
   "outputs": [
    {
     "name": "stdout",
     "output_type": "stream",
     "text": [
      "a.dtype = dtype('int32')\n",
      "b.dtype = dtype('int32')\n",
      "c.dtype = dtype('float64')\n"
     ]
    }
   ],
   "source": [
    "print(f\"{a.dtype = }\")\n",
    "print(f\"{b.dtype = }\")\n",
    "print(f\"{c.dtype = }\")"
   ]
  },
  {
   "cell_type": "markdown",
   "metadata": {},
   "source": [
    "**.ndim:** The ndim attribute tells you the number of dimensions, or \"axes,\" the array has. A `1D array` has one dimension, a `2D array` has two dimensions, and so on."
   ]
  },
  {
   "cell_type": "code",
   "execution_count": 14,
   "metadata": {},
   "outputs": [
    {
     "name": "stdout",
     "output_type": "stream",
     "text": [
      "a.ndim = 1\n",
      "b.ndim = 2\n",
      "c.ndim = 2\n"
     ]
    }
   ],
   "source": [
    "print(f\"{a.ndim = }\")\n",
    "print(f\"{b.ndim = }\")\n",
    "print(f\"{c.ndim = }\")"
   ]
  },
  {
   "cell_type": "markdown",
   "metadata": {},
   "source": [
    "### [2.3 Indexing techniques](#2.3-indexing-techniques)\n",
    "\n",
    "Indexing is the mechanism by which individual elements of an array can be accessed and manipulated. NumPy offers versatile indexing techniques that cater to various needs, from simple, direct access to conditional and complex selections."
   ]
  },
  {
   "cell_type": "markdown",
   "metadata": {},
   "source": [
    "#### Simple Indexing\n",
    "\n",
    "Simple indexing involves accessing elements using their index position, similar to how you would access elements in a Python list.\n",
    "\n",
    "NumPy arrays follow zero-based indexing. You can access an individual element by specifying its position in each dimension within square brackets.\n",
    "\n",
    "<img src=https://nustat.github.io/DataScience_Intro_python/Datasets/numpy_image.png height=300>\n",
    "\n"
   ]
  },
  {
   "cell_type": "markdown",
   "metadata": {},
   "source": [
    "**Indexing for a 1D array**"
   ]
  },
  {
   "cell_type": "code",
   "execution_count": 15,
   "metadata": {},
   "outputs": [
    {
     "name": "stdout",
     "output_type": "stream",
     "text": [
      "[ 1  2  4  8 16 32 64]\n"
     ]
    }
   ],
   "source": [
    "# Get the example  \n",
    "some_array = np.array([1, 2, 4, 8, 16, 32, 64])\n",
    "print(some_array)"
   ]
  },
  {
   "cell_type": "code",
   "execution_count": 16,
   "metadata": {},
   "outputs": [
    {
     "name": "stdout",
     "output_type": "stream",
     "text": [
      "1\n"
     ]
    }
   ],
   "source": [
    "# Access first value \n",
    "print(some_array[0])"
   ]
  },
  {
   "cell_type": "code",
   "execution_count": 17,
   "metadata": {},
   "outputs": [
    {
     "name": "stdout",
     "output_type": "stream",
     "text": [
      "2\n"
     ]
    }
   ],
   "source": [
    "# Access second value \n",
    "print(some_array[1])"
   ]
  },
  {
   "cell_type": "code",
   "execution_count": 20,
   "metadata": {},
   "outputs": [
    {
     "name": "stdout",
     "output_type": "stream",
     "text": [
      "64\n"
     ]
    }
   ],
   "source": [
    "# Access last value \n",
    "print(some_array[-1])"
   ]
  },
  {
   "cell_type": "markdown",
   "metadata": {},
   "source": [
    "**Indexing for a 2D array**"
   ]
  },
  {
   "cell_type": "code",
   "execution_count": 21,
   "metadata": {},
   "outputs": [
    {
     "name": "stdout",
     "output_type": "stream",
     "text": [
      "[[1 2 3]\n",
      " [4 5 6]]\n"
     ]
    }
   ],
   "source": [
    "# Get the example\n",
    "another_array = np.array([[1, 2, 3], [4, 5, 6]])\n",
    "print(another_array)"
   ]
  },
  {
   "cell_type": "code",
   "execution_count": 22,
   "metadata": {},
   "outputs": [
    {
     "name": "stdout",
     "output_type": "stream",
     "text": [
      "2\n"
     ]
    }
   ],
   "source": [
    "# Access element at row 0, column 1\n",
    "print(another_array[0, 1])"
   ]
  },
  {
   "cell_type": "code",
   "execution_count": 23,
   "metadata": {},
   "outputs": [
    {
     "name": "stdout",
     "output_type": "stream",
     "text": [
      "6\n"
     ]
    }
   ],
   "source": [
    "# Access element at row 1, last column\n",
    "print(another_array[1, -1])"
   ]
  },
  {
   "cell_type": "code",
   "execution_count": 25,
   "metadata": {},
   "outputs": [
    {
     "name": "stdout",
     "output_type": "stream",
     "text": [
      "5\n"
     ]
    }
   ],
   "source": [
    "# Access element at last row, second last column\n",
    "print(another_array[-1, -2])"
   ]
  },
  {
   "cell_type": "markdown",
   "metadata": {},
   "source": [
    "#### Boolean Indexing\n",
    "\n",
    "Boolean indexing allows you to select elements based on conditions. This is particularly useful for filtering data."
   ]
  },
  {
   "cell_type": "code",
   "execution_count": 26,
   "metadata": {},
   "outputs": [
    {
     "name": "stdout",
     "output_type": "stream",
     "text": [
      "[[1 2 3]\n",
      " [4 5 6]\n",
      " [7 8 9]]\n"
     ]
    }
   ],
   "source": [
    "# Boolean Indexing Example\n",
    "boolean_indexing_array = np.array([[1, 2, 3], [4, 5, 6], [7, 8, 9]])\n",
    "print(boolean_indexing_array)"
   ]
  },
  {
   "cell_type": "code",
   "execution_count": 27,
   "metadata": {},
   "outputs": [
    {
     "name": "stdout",
     "output_type": "stream",
     "text": [
      "[6 7 8 9]\n"
     ]
    }
   ],
   "source": [
    "# Elements greater than 5\n",
    "boolean_indexing_example_1 = boolean_indexing_array[boolean_indexing_array > 5] \n",
    "print(boolean_indexing_example_1)\n"
   ]
  },
  {
   "cell_type": "code",
   "execution_count": 28,
   "metadata": {},
   "outputs": [
    {
     "name": "stdout",
     "output_type": "stream",
     "text": [
      "[2 4 6 8]\n"
     ]
    }
   ],
   "source": [
    "# Even elements\n",
    "boolean_indexing_example_2 = boolean_indexing_array[boolean_indexing_array % 2 == 0]  \n",
    "print(boolean_indexing_example_2)"
   ]
  },
  {
   "cell_type": "code",
   "execution_count": 29,
   "metadata": {},
   "outputs": [
    {
     "name": "stdout",
     "output_type": "stream",
     "text": [
      "[1 2 3]\n"
     ]
    }
   ],
   "source": [
    "# Elements less than or equal to 3\n",
    "boolean_indexing_example_3 = boolean_indexing_array[boolean_indexing_array <= 3]  \n",
    "print(boolean_indexing_example_3)"
   ]
  },
  {
   "cell_type": "markdown",
   "metadata": {},
   "source": [
    "#### Fancy Indexing\n",
    "\n",
    "Fancy indexing involves passing arrays of indices to access multiple array elements at once."
   ]
  },
  {
   "cell_type": "code",
   "execution_count": 30,
   "metadata": {},
   "outputs": [
    {
     "name": "stdout",
     "output_type": "stream",
     "text": [
      "[ 0 10 20 30 40 50 60 70 80 90]\n"
     ]
    }
   ],
   "source": [
    "# Fancy Indexing Example\n",
    "fancy_indexing_array = np.arange(0, 100, 10)\n",
    "print(fancy_indexing_array)"
   ]
  },
  {
   "cell_type": "code",
   "execution_count": 31,
   "metadata": {},
   "outputs": [
    {
     "name": "stdout",
     "output_type": "stream",
     "text": [
      "[10 30 50]\n"
     ]
    }
   ],
   "source": [
    "# Elements at indices 1, 3, 5\n",
    "fancy_indexing_example_1 = fancy_indexing_array[[1, 3, 5]]\n",
    "print(fancy_indexing_example_1)"
   ]
  },
  {
   "cell_type": "code",
   "execution_count": 32,
   "metadata": {},
   "outputs": [
    {
     "name": "stdout",
     "output_type": "stream",
     "text": [
      "[ 0 90]\n"
     ]
    }
   ],
   "source": [
    "# First and last elements\n",
    "fancy_indexing_example_2 = fancy_indexing_array[[0, -1]]\n",
    "print(fancy_indexing_example_2)"
   ]
  },
  {
   "cell_type": "code",
   "execution_count": 33,
   "metadata": {},
   "outputs": [
    {
     "name": "stdout",
     "output_type": "stream",
     "text": [
      "[[10 20]\n",
      " [30 40]]\n"
     ]
    }
   ],
   "source": [
    "# Elements at specified indices\n",
    "fancy_indexing_indices = np.array([[1, 2], [3, 4]])\n",
    "fancy_indexing_example_3 = fancy_indexing_array[fancy_indexing_indices]  \n",
    "print(fancy_indexing_example_3)"
   ]
  },
  {
   "cell_type": "markdown",
   "metadata": {},
   "source": [
    "### [2.4 Slicing techniques](#2.4-slicing-techniques)\n",
    "\n",
    "Indexing is the mechanism by which individual elements of an array can be accessed and manipulated. NumPy offers versatile indexing techniques that cater to various needs, from simple, direct access to conditional and complex selections."
   ]
  },
  {
   "cell_type": "markdown",
   "metadata": {},
   "source": [
    "#### Basic slicing\n",
    "\n",
    "Slicing allows you to access sub-arrays. It works by specifying slices for each dimension of the array: \n",
    "\n",
    "[`start`:`stop`:`step`(optional)]."
   ]
  },
  {
   "cell_type": "markdown",
   "metadata": {},
   "source": [
    "**Slicing for a 1D array**"
   ]
  },
  {
   "cell_type": "code",
   "execution_count": 34,
   "metadata": {},
   "outputs": [
    {
     "name": "stdout",
     "output_type": "stream",
     "text": [
      "[ 1  2  4  8 16 32 64]\n"
     ]
    }
   ],
   "source": [
    "# Get the example  \n",
    "some_array = np.array([1, 2, 4, 8, 16, 32, 64])\n",
    "print(some_array)"
   ]
  },
  {
   "cell_type": "code",
   "execution_count": 35,
   "metadata": {},
   "outputs": [
    {
     "name": "stdout",
     "output_type": "stream",
     "text": [
      "[ 4  8 16 32 64]\n"
     ]
    }
   ],
   "source": [
    "# Elements from index 2 to 6\n",
    "print(some_array[2:7]) "
   ]
  },
  {
   "cell_type": "code",
   "execution_count": 36,
   "metadata": {},
   "outputs": [
    {
     "name": "stdout",
     "output_type": "stream",
     "text": [
      "[ 1  2  4  8 16]\n"
     ]
    }
   ],
   "source": [
    "# First five elements\n",
    "print(some_array[:5])"
   ]
  },
  {
   "cell_type": "code",
   "execution_count": 39,
   "metadata": {},
   "outputs": [
    {
     "name": "stdout",
     "output_type": "stream",
     "text": [
      "[ 1  4 16 64]\n"
     ]
    }
   ],
   "source": [
    "# Every second element\n",
    "print(some_array[::2])"
   ]
  },
  {
   "cell_type": "markdown",
   "metadata": {},
   "source": [
    "**Slicing for a 2D array**"
   ]
  },
  {
   "cell_type": "code",
   "execution_count": 40,
   "metadata": {},
   "outputs": [
    {
     "name": "stdout",
     "output_type": "stream",
     "text": [
      "[[1 2 3]\n",
      " [4 5 6]]\n"
     ]
    }
   ],
   "source": [
    "# Get the example\n",
    "another_array = np.array([[1, 2, 3], [4, 5, 6]])\n",
    "print(another_array)"
   ]
  },
  {
   "cell_type": "code",
   "execution_count": 41,
   "metadata": {},
   "outputs": [
    {
     "name": "stdout",
     "output_type": "stream",
     "text": [
      "[[1 2]\n",
      " [4 5]]\n"
     ]
    }
   ],
   "source": [
    "# Top left corner 2x2\n",
    "print(another_array[:2, :2])"
   ]
  },
  {
   "cell_type": "code",
   "execution_count": 42,
   "metadata": {},
   "outputs": [
    {
     "name": "stdout",
     "output_type": "stream",
     "text": [
      "[[6]]\n"
     ]
    }
   ],
   "source": [
    "# Bottom right corner 2x2\n",
    "print(another_array[1:, 2:])"
   ]
  },
  {
   "cell_type": "code",
   "execution_count": 43,
   "metadata": {},
   "outputs": [
    {
     "name": "stdout",
     "output_type": "stream",
     "text": [
      "[[1 3]\n",
      " [4 6]]\n"
     ]
    }
   ],
   "source": [
    "# All rows, every other column\n",
    "print(another_array[:, ::2])"
   ]
  },
  {
   "cell_type": "code",
   "execution_count": null,
   "metadata": {},
   "outputs": [],
   "source": [
    "# TODO: Ergänzung für die Coding Challenge: \"nur die linke Spalte\""
   ]
  },
  {
   "cell_type": "markdown",
   "metadata": {},
   "source": [
    "### [2.5 Coding Challenge: Stress Analysis 1/3](#2.5-coding-challenge-stress-analysis-1/3)\n",
    "\n",
    "#### **Background** \n",
    "\n",
    "In engineering, particularly within the fields of materials science and structural engineering, understanding the stress distribution within a material under external forces is crucial. This knowledge helps in predicting areas of potential failure, thus ensuring the structural integrity and reliability of engineering designs. \n",
    "\n",
    "In this case study, we'll use **NumPy** to simulate and analyze the stress distribution within a metal pole under a specified loading condition.\n",
    "\n",
    "#### **Task** \n",
    "\n",
    "Simulate stress distribution in a metal pole, accounting for material errors and reinforcements, and apply a linear force representing gravity. This process reflects practical engineering considerations in stress analysis."
   ]
  },
  {
   "cell_type": "markdown",
   "metadata": {},
   "source": [
    "#### **Step-by-step Goals**\n",
    "\n",
    "To easier visualize the metal pole, we are going to use a very simple plotting function `plot_pole` that uses `matplotlib` to display the metal pole as a heatmap. Matplotlib will be discussed in the fifth unit of this course. For now, the method can simply be used like, for example, a print statement to better see the metal_pole."
   ]
  },
  {
   "cell_type": "code",
   "execution_count": 45,
   "metadata": {},
   "outputs": [],
   "source": [
    "from matplotlib import pyplot as plt \n",
    "# Simple heatmap to easier visualize the array (only used to better display the changes)\n",
    "def plot_pole(arr):\n",
    "    plt.imshow(arr)"
   ]
  },
  {
   "cell_type": "markdown",
   "metadata": {},
   "source": [
    "**Step 1: Initialize the Stress Distribution**\n",
    "* Initialize an 5x25 array to display a metal pole with a uniform stress of 50 MPa across its cross-sectional area."
   ]
  },
  {
   "cell_type": "code",
   "execution_count": 46,
   "metadata": {},
   "outputs": [
    {
     "name": "stdout",
     "output_type": "stream",
     "text": [
      "[[50. 50. 50. 50. 50. 50. 50. 50. 50. 50. 50. 50. 50. 50. 50. 50. 50. 50.\n",
      "  50. 50. 50. 50. 50. 50. 50.]\n",
      " [50. 50. 50. 50. 50. 50. 50. 50. 50. 50. 50. 50. 50. 50. 50. 50. 50. 50.\n",
      "  50. 50. 50. 50. 50. 50. 50.]\n",
      " [50. 50. 50. 50. 50. 50. 50. 50. 50. 50. 50. 50. 50. 50. 50. 50. 50. 50.\n",
      "  50. 50. 50. 50. 50. 50. 50.]\n",
      " [50. 50. 50. 50. 50. 50. 50. 50. 50. 50. 50. 50. 50. 50. 50. 50. 50. 50.\n",
      "  50. 50. 50. 50. 50. 50. 50.]\n",
      " [50. 50. 50. 50. 50. 50. 50. 50. 50. 50. 50. 50. 50. 50. 50. 50. 50. 50.\n",
      "  50. 50. 50. 50. 50. 50. 50.]]\n"
     ]
    },
    {
     "data": {
      "image/png": "[encoded data removed]",
      "text/plain": [
       "<Figure size 640x480 with 1 Axes>"
      ]
     },
     "metadata": {},
     "output_type": "display_data"
    }
   ],
   "source": [
    "# Step 1: Initialize the metal pole's stress distribution\n",
    "\n",
    "# Initialize a (5, 25) array with a uniform stress value of 50 (MPa)\n",
    "initial_stress = 50\n",
    "stress_distribution = np.ones((5,25))\n",
    "stress_distribution *= initial_stress\n",
    "\n",
    "# Alternative: \n",
    "# np.full creates an array filled with the specified value.\n",
    "# stress_distribution = np.full((5, 25), 50, dtype=np.float64)\n",
    "\n",
    "print(stress_distribution)\n",
    "plot_pole(stress_distribution)"
   ]
  },
  {
   "cell_type": "markdown",
   "metadata": {},
   "source": [
    "* **Initialization with `np.full`:** This operation creates an array of specified shape and fills it with a given value, perfect for setting a baseline stress level."
   ]
  },
  {
   "cell_type": "markdown",
   "metadata": {},
   "source": [
    "**Step 2: Simulate Material Errors**\n",
    "* Introduce three specific material errors by setting stress values to 65 MPa at identified locations within the array.\n",
    "    * Specifically, increase the stress to 65 MPa at three locations to simulate material defects. The locations are specified as (row, column) indexes. \n",
    "    * Increase stress at `(3, 13)`, `(1, 21)`, and `(4, 2)` to `65 MPa`."
   ]
  },
  {
   "cell_type": "code",
   "execution_count": 47,
   "metadata": {},
   "outputs": [
    {
     "name": "stdout",
     "output_type": "stream",
     "text": [
      "[[50. 50. 50. 50. 50. 50. 50. 50. 50. 50. 50. 50. 50. 50. 50. 50. 50. 50.\n",
      "  50. 50. 50. 50. 50. 50. 50.]\n",
      " [50. 50. 50. 50. 50. 50. 50. 50. 50. 50. 50. 50. 50. 50. 50. 50. 50. 50.\n",
      "  50. 50. 50. 65. 50. 50. 50.]\n",
      " [50. 50. 50. 50. 50. 50. 50. 50. 50. 50. 50. 50. 50. 50. 50. 50. 50. 50.\n",
      "  50. 50. 50. 50. 50. 50. 50.]\n",
      " [50. 50. 50. 50. 50. 50. 50. 50. 50. 50. 50. 50. 50. 65. 50. 50. 50. 50.\n",
      "  50. 50. 50. 50. 50. 50. 50.]\n",
      " [50. 50. 65. 50. 50. 50. 50. 50. 50. 50. 50. 50. 50. 50. 50. 50. 50. 50.\n",
      "  50. 50. 50. 50. 50. 50. 50.]]\n"
     ]
    },
    {
     "data": {
      "image/png": "[encoded data removed]",
      "text/plain": [
       "<Figure size 640x480 with 1 Axes>"
      ]
     },
     "metadata": {},
     "output_type": "display_data"
    }
   ],
   "source": [
    "# Step 2: Introduce material errors\n",
    "\n",
    "# Increase stress to 65 MPa at specified locations to simulate material defects.\n",
    "# Direct indexing is used to access and modify specific array elements.\n",
    "material_errors = [(3, 13), (1, 21), (4, 2)]\n",
    "for error in material_errors:\n",
    "    stress_distribution[error] = 65\n",
    "\n",
    "print(stress_distribution)\n",
    "plot_pole(stress_distribution)"
   ]
  },
  {
   "cell_type": "markdown",
   "metadata": {},
   "source": [
    "* **Direct Indexing for Material Errors:** By specifying the indices directly, we can simulate defects in the material's structure. This step demonstrates how to access and modify specific elements within a NumPy array."
   ]
  },
  {
   "cell_type": "markdown",
   "metadata": {},
   "source": [
    "**Step 3: Apply Heat Treatment**\n",
    "* Using heat treatment, we can reduce the stress on the edges (top, bottom, front, and back) of the metal pole. This reduces the stress by 15%. It simulates material softening at the outer parts of the pole to counteract the effects of errors and applied forces.\n",
    "    * Apply a `15% stress reduction` to simulate heat treatment along all outer edges of the pole. This includes: `top` (first row), `bottom` (last row), `front` (first column) and `back` edge (last column). For corners, hardening is also applied just once."
   ]
  },
  {
   "cell_type": "code",
   "execution_count": 48,
   "metadata": {},
   "outputs": [
    {
     "name": "stdout",
     "output_type": "stream",
     "text": [
      "[[42.5  42.5  42.5  42.5  42.5  42.5  42.5  42.5  42.5  42.5  42.5  42.5\n",
      "  42.5  42.5  42.5  42.5  42.5  42.5  42.5  42.5  42.5  42.5  42.5  42.5\n",
      "  42.5 ]\n",
      " [42.5  50.   50.   50.   50.   50.   50.   50.   50.   50.   50.   50.\n",
      "  50.   50.   50.   50.   50.   50.   50.   50.   50.   65.   50.   50.\n",
      "  42.5 ]\n",
      " [42.5  50.   50.   50.   50.   50.   50.   50.   50.   50.   50.   50.\n",
      "  50.   50.   50.   50.   50.   50.   50.   50.   50.   50.   50.   50.\n",
      "  42.5 ]\n",
      " [42.5  50.   50.   50.   50.   50.   50.   50.   50.   50.   50.   50.\n",
      "  50.   65.   50.   50.   50.   50.   50.   50.   50.   50.   50.   50.\n",
      "  42.5 ]\n",
      " [42.5  42.5  55.25 42.5  42.5  42.5  42.5  42.5  42.5  42.5  42.5  42.5\n",
      "  42.5  42.5  42.5  42.5  42.5  42.5  42.5  42.5  42.5  42.5  42.5  42.5\n",
      "  42.5 ]]\n"
     ]
    },
    {
     "data": {
      "image/png": "[encoded data removed]",
      "text/plain": [
       "<Figure size 640x480 with 1 Axes>"
      ]
     },
     "metadata": {},
     "output_type": "display_data"
    }
   ],
   "source": [
    "# Step 3: Apply reinforcements by hardening the edges\n",
    "\n",
    "# Apply a 15% reduction in stress along all outer edges to simulate hardened material.\n",
    "# Slicing is used to select entire rows (top and bottom edges) or columns (front and back edges).\n",
    "stress_distribution[0, :] *= 0.85  # Top edge\n",
    "stress_distribution[-1, :] *= 0.85  # Bottom edge\n",
    "# Make sure not to \"harden\" the corners twice\n",
    "stress_distribution[1:-1, 0] *= 0.85  # Front edge\n",
    "stress_distribution[1:-1, -1] *= 0.85  # Back edge\n",
    "\n",
    "print(stress_distribution)\n",
    "plot_pole(stress_distribution)"
   ]
  },
  {
   "cell_type": "markdown",
   "metadata": {},
   "source": [
    "* **Slicing for Reinforcements:** Using slicing to select rows or columns allows us to efficiently apply modifications across entire sections of the array, a powerful feature for manipulating multidimensional data."
   ]
  },
  {
   "cell_type": "markdown",
   "metadata": {},
   "source": [
    "**Step 4: Apply a Linear Force for Gravity**\n",
    "* To make the model more realistic, we add the effect of gravity next. We simulate the effect of gravity as a linearly increasing force from the left side (the pole is fixed to a wall) to the right side (free end). \n",
    "    * This force should increate the stress on the very left by `0 MPa` on the very right by `12 MPa`.\n",
    "    * The force is linearly distributed along the entire pole. "
   ]
  },
  {
   "cell_type": "code",
   "execution_count": 49,
   "metadata": {},
   "outputs": [
    {
     "name": "stdout",
     "output_type": "stream",
     "text": [
      "[[42.5  43.   43.5  44.   44.5  45.   45.5  46.   46.5  47.   47.5  48.\n",
      "  48.5  49.   49.5  50.   50.5  51.   51.5  52.   52.5  53.   53.5  54.\n",
      "  54.5 ]\n",
      " [42.5  50.5  51.   51.5  52.   52.5  53.   53.5  54.   54.5  55.   55.5\n",
      "  56.   56.5  57.   57.5  58.   58.5  59.   59.5  60.   75.5  61.   61.5\n",
      "  54.5 ]\n",
      " [42.5  50.5  51.   51.5  52.   52.5  53.   53.5  54.   54.5  55.   55.5\n",
      "  56.   56.5  57.   57.5  58.   58.5  59.   59.5  60.   60.5  61.   61.5\n",
      "  54.5 ]\n",
      " [42.5  50.5  51.   51.5  52.   52.5  53.   53.5  54.   54.5  55.   55.5\n",
      "  56.   71.5  57.   57.5  58.   58.5  59.   59.5  60.   60.5  61.   61.5\n",
      "  54.5 ]\n",
      " [42.5  43.   56.25 44.   44.5  45.   45.5  46.   46.5  47.   47.5  48.\n",
      "  48.5  49.   49.5  50.   50.5  51.   51.5  52.   52.5  53.   53.5  54.\n",
      "  54.5 ]]\n"
     ]
    },
    {
     "data": {
      "image/png": "[encoded data removed]",
      "text/plain": [
       "<Figure size 640x480 with 1 Axes>"
      ]
     },
     "metadata": {},
     "output_type": "display_data"
    }
   ],
   "source": [
    "# Step 4: Model the effect of gravity as a linear force\n",
    "\n",
    "# Simulate gravity's effect with a linearly increasing force from left (0 MPa) to right (12 MPa).\n",
    "# np.linspace generates a linear sequence of values, used here to model the gravity effect.\n",
    "gravity_effect = np.linspace(0, 12, num=25)\n",
    "# The addition operation broadcasts the gravity_effect array across each row.\n",
    "for i in range(5):\n",
    "    stress_distribution[i, :] += gravity_effect  \n",
    "\n",
    "print(stress_distribution)\n",
    "plot_pole(stress_distribution)"
   ]
  },
  {
   "cell_type": "markdown",
   "metadata": {},
   "source": [
    "* **Linear Sequence with `np.linspace`:** This function generates a sequence of evenly spaced values over a specified interval, used here to model an increasing gravitational force along the pole's length."
   ]
  },
  {
   "cell_type": "markdown",
   "metadata": {},
   "source": [
    "* **Looping the gravity** The addition of the gravity effect array to the stress distribution in a loop applies the effect in multiple steps. In the next chapter, broadcasting is introduced that allows to make this step straightforward.  Broadcasting allows NumPy to automatically expand the smaller array to match the shape of the larger one for element-wise operations."
   ]
  },
  {
   "cell_type": "markdown",
   "metadata": {},
   "source": [
    "**Step 5: Return the Array Attributes**\n",
    "* Report the `shape`, `size`, and `data type` of the stress distribution array to understand the structure of the stress data."
   ]
  },
  {
   "cell_type": "code",
   "execution_count": 50,
   "metadata": {},
   "outputs": [
    {
     "name": "stdout",
     "output_type": "stream",
     "text": [
      "Array Shape: (5, 25)\n",
      "Array Size: 125\n",
      "Array Data Type: float64\n"
     ]
    }
   ],
   "source": [
    "# Step 5: Return the attributes of the stress distribution\n",
    "\n",
    "# Print the shape, size, and data type of the stress distribution array.\n",
    "# These attributes provide insights into the array's structure and data representation.\n",
    "print(f\"Array Shape: {stress_distribution.shape}\")\n",
    "print(f\"Array Size: {stress_distribution.size}\")\n",
    "print(f\"Array Data Type: {stress_distribution.dtype}\")"
   ]
  },
  {
   "cell_type": "markdown",
   "metadata": {},
   "source": [
    "[--> Back to Outline](#course-outline)\n",
    "\n",
    "---"
   ]
  },
  {
   "cell_type": "markdown",
   "metadata": {},
   "source": [
    "## **[3. Operations with Numpy Arrays](#3-operations-with-numpy-arrays)**\n",
    "\n",
    "This chapter will cover the core operations you can perform on NumPy arrays, including *arithmetic operations*, *statistical functions* and *broadcasting*. "
   ]
  },
  {
   "cell_type": "markdown",
   "metadata": {},
   "source": [
    "### [3.1 Arithmetic Operations](#3.1-arithmetic-operations)\n",
    "\n",
    "NumPy arrays support a wide range of arithmetic operations, making it easy to perform mathematical computations on arrays element-wise efficiently. This section explores basic arithmetic operations, broadcasting capabilities, and more advanced operations such as matrix multiplication.\n",
    "\n",
    "You can perform basic arithmetic operations such as addition, subtraction, multiplication, and division directly with NumPy arrays. These operations are applied element-wise, meaning they are performed on corresponding elements of the arrays.\n"
   ]
  },
  {
   "cell_type": "code",
   "execution_count": 51,
   "metadata": {},
   "outputs": [
    {
     "name": "stdout",
     "output_type": "stream",
     "text": [
      "[1 2 3 4]\n",
      "[5 6 7 8]\n"
     ]
    }
   ],
   "source": [
    "# Creating new example arrays\n",
    "some_array = np.array([1, 2, 3, 4])\n",
    "another_array = np.array([5, 6, 7, 8])\n",
    "print(some_array)\n",
    "print(another_array)"
   ]
  },
  {
   "cell_type": "code",
   "execution_count": 52,
   "metadata": {},
   "outputs": [
    {
     "name": "stdout",
     "output_type": "stream",
     "text": [
      "[ 6  8 10 12]\n"
     ]
    }
   ],
   "source": [
    "# Element-wise addition\n",
    "print(some_array + another_array)"
   ]
  },
  {
   "cell_type": "code",
   "execution_count": 53,
   "metadata": {},
   "outputs": [
    {
     "name": "stdout",
     "output_type": "stream",
     "text": [
      "[-4 -4 -4 -4]\n"
     ]
    }
   ],
   "source": [
    "# Element-wise subtraction\n",
    "print(some_array - another_array)"
   ]
  },
  {
   "cell_type": "code",
   "execution_count": 54,
   "metadata": {},
   "outputs": [
    {
     "name": "stdout",
     "output_type": "stream",
     "text": [
      "[ 5 12 21 32]\n"
     ]
    }
   ],
   "source": [
    "# Element-wise multiplication\n",
    "print(some_array * another_array)"
   ]
  },
  {
   "cell_type": "code",
   "execution_count": 55,
   "metadata": {},
   "outputs": [
    {
     "name": "stdout",
     "output_type": "stream",
     "text": [
      "[0.2        0.33333333 0.42857143 0.5       ]\n"
     ]
    }
   ],
   "source": [
    "# Element-wise division\n",
    "print(some_array / another_array)"
   ]
  },
  {
   "cell_type": "markdown",
   "metadata": {},
   "source": [
    "### [3.2 Statistical Functions](#3.2-statistical-functions)\n",
    "\n",
    "NumPy provides a comprehensive set of statistical functions to perform analysis on array data, including functions to calculate the mean, median, variance, and standard deviation.\n",
    "\n",
    "This section helps you to understand how to use Numpy's aggregation functions such as `np.sum`, `np.mean`, `np.std`, `np.min`, and `np.max` to compute statistics from array data. This section will cover how to apply these functions across different axes of an array for both simple and multidimensional arrays."
   ]
  },
  {
   "cell_type": "code",
   "execution_count": 56,
   "metadata": {},
   "outputs": [
    {
     "name": "stdout",
     "output_type": "stream",
     "text": [
      "[1 2 3 4 5]\n"
     ]
    }
   ],
   "source": [
    "# Creating an new array\n",
    "some_array = np.array([1, 2, 3, 4, 5])\n",
    "print(some_array)"
   ]
  },
  {
   "cell_type": "code",
   "execution_count": 57,
   "metadata": {},
   "outputs": [
    {
     "name": "stdout",
     "output_type": "stream",
     "text": [
      "Mean: 3.0\n"
     ]
    }
   ],
   "source": [
    "# Calculating the mean\n",
    "print(\"Mean:\", np.mean(some_array))"
   ]
  },
  {
   "cell_type": "code",
   "execution_count": 58,
   "metadata": {},
   "outputs": [
    {
     "name": "stdout",
     "output_type": "stream",
     "text": [
      "Median: 3.0\n"
     ]
    }
   ],
   "source": [
    "# Calculating the median\n",
    "print(\"Median:\", np.median(some_array))"
   ]
  },
  {
   "cell_type": "code",
   "execution_count": 59,
   "metadata": {},
   "outputs": [
    {
     "name": "stdout",
     "output_type": "stream",
     "text": [
      "Variance: 2.0\n"
     ]
    }
   ],
   "source": [
    "# Calculating the variance\n",
    "print(\"Variance:\", np.var(some_array))"
   ]
  },
  {
   "cell_type": "code",
   "execution_count": 60,
   "metadata": {},
   "outputs": [
    {
     "name": "stdout",
     "output_type": "stream",
     "text": [
      "Standard Deviation: 1.4142135623730951\n"
     ]
    }
   ],
   "source": [
    "# Calculating the standard deviation\n",
    "print(\"Standard Deviation:\", np.std(some_array))"
   ]
  },
  {
   "cell_type": "markdown",
   "metadata": {},
   "source": [
    "Combining these operations allows for efficient and powerful data manipulation and analysis. Next, we will delve into more advanced techniques, further expanding the capabilities of NumPy arrays for practical applications in data science and engineering."
   ]
  },
  {
   "cell_type": "markdown",
   "metadata": {},
   "source": [
    "### [3.3 Broadcasting](#3.3-broadcasting)\n",
    "\n",
    "Broadcasting describes how **NumPy** treats arrays with different shapes during arithmetic operations. Subject to certain constraints, the smaller array is *“broadcast”* across the larger array so that they have compatible shapes.\n",
    "\n",
    "Broadcasting is a powerful feature of NumPy that enables arithmetic operations on arrays of different shapes. It provides a set of rules that allows these operations to be performed on arrays that do not have the same dimensions but are compatible in terms of their shapes."
   ]
  },
  {
   "cell_type": "code",
   "execution_count": 61,
   "metadata": {},
   "outputs": [
    {
     "name": "stdout",
     "output_type": "stream",
     "text": [
      "Broadcasting Example: [2 4 6]\n"
     ]
    }
   ],
   "source": [
    "# Simple example: Creating an array and a scalar\n",
    "some_array = np.array([1, 2, 3])\n",
    "some_value = 2\n",
    "\n",
    "# Broadcasting the scalar across the array\n",
    "print(\"Broadcasting Example:\", some_array * some_value)  # Output: [2 4 6]"
   ]
  },
  {
   "cell_type": "markdown",
   "metadata": {},
   "source": [
    "Broadcasting simplifies the need for explicit looping and other cumbersome methods for performing operations across arrays of different sizes, making code more concise and efficient."
   ]
  },
  {
   "cell_type": "code",
   "execution_count": 65,
   "metadata": {},
   "outputs": [
    {
     "name": "stdout",
     "output_type": "stream",
     "text": [
      "Matrix:\n",
      " [[1 2 3]\n",
      " [4 5 6]\n",
      " [7 8 9]]\n",
      "Vector:\n",
      " [ 1  0 -1]\n",
      "Result of broadcasting addition:\n",
      " [[2 2 2]\n",
      " [5 5 5]\n",
      " [8 8 8]]\n"
     ]
    }
   ],
   "source": [
    "# 2D example: Creating a 2D array (matrix) of shape (3, 3)\n",
    "some_array = np.array([[1, 2, 3],\n",
    "                   [4, 5, 6],\n",
    "                   [7, 8, 9]])\n",
    "print(\"Matrix:\\n\", some_array)\n",
    "\n",
    "# Creating a 1D array (vector) of shape (3,)\n",
    "another_array = np.array([1, 0, -1])\n",
    "print(\"Vector:\\n\", another_array)\n",
    "\n",
    "# Broadcasting the vector across each row of the matrix\n",
    "# The vector shape (3,) is broadcasted to (3, 3) to match the matrix shape\n",
    "result = some_array + another_array\n",
    "print(\"Result of broadcasting addition:\\n\", result)"
   ]
  },
  {
   "cell_type": "markdown",
   "metadata": {},
   "source": [
    "- In this example, the vector [1, 0, -1] is added to each row of the matrix. Despite their different shapes, NumPy automatically broadcasts the smaller array (vector) across the larger one (matrix) to perform element-wise addition. This results in the vector being effectively extended to match the shape of the matrix, allowing the operation to proceed as if both operands were of the same shape."
   ]
  },
  {
   "cell_type": "markdown",
   "metadata": {},
   "source": [
    "### [3.4 Coding Challenge: Stress Analysis 2/3](#3.4-coding-challenge-stress-analysis-2/3)\n",
    "\n",
    "#### **Task:** \n",
    "\n",
    "We continue the case study from the previous chapter. Our goal is to simulate stress distribution in a metal pole, accounting for material errors and reinforcements, and apply a linear force representing gravity. This process reflects practical engineering considerations in stress analysis.\n",
    "\n",
    "#### **Step-by-step Goals:**"
   ]
  },
  {
   "cell_type": "markdown",
   "metadata": {},
   "source": [
    "**Step 0: Restore the stress distribution**\n",
    "* To start the exercise, reinitialize the stress distribution from `1/3` without the gravity effect:\n",
    "    * Initialize the metal pole (step 1 of chapter 2.4)\n",
    "    * Apply the material defects (step 2 of chapter 2.4)\n",
    "    * Apply the heat treatment (step 3 of chapter 2.4)"
   ]
  },
  {
   "cell_type": "code",
   "execution_count": 63,
   "metadata": {},
   "outputs": [
    {
     "name": "stdout",
     "output_type": "stream",
     "text": [
      "[[42.5  42.5  42.5  42.5  42.5  42.5  42.5  42.5  42.5  42.5  42.5  42.5\n",
      "  42.5  42.5  42.5  42.5  42.5  42.5  42.5  42.5  42.5  42.5  42.5  42.5\n",
      "  42.5 ]\n",
      " [42.5  50.   50.   50.   50.   50.   50.   50.   50.   50.   50.   50.\n",
      "  50.   50.   50.   50.   50.   50.   50.   50.   50.   65.   50.   50.\n",
      "  42.5 ]\n",
      " [42.5  50.   50.   50.   50.   50.   50.   50.   50.   50.   50.   50.\n",
      "  50.   50.   50.   50.   50.   50.   50.   50.   50.   50.   50.   50.\n",
      "  42.5 ]\n",
      " [42.5  50.   50.   50.   50.   50.   50.   50.   50.   50.   50.   50.\n",
      "  50.   65.   50.   50.   50.   50.   50.   50.   50.   50.   50.   50.\n",
      "  42.5 ]\n",
      " [42.5  42.5  55.25 42.5  42.5  42.5  42.5  42.5  42.5  42.5  42.5  42.5\n",
      "  42.5  42.5  42.5  42.5  42.5  42.5  42.5  42.5  42.5  42.5  42.5  42.5\n",
      "  42.5 ]]\n"
     ]
    },
    {
     "data": {
      "image/png": "[encoded data removed]",
      "text/plain": [
       "<Figure size 640x480 with 1 Axes>"
      ]
     },
     "metadata": {},
     "output_type": "display_data"
    }
   ],
   "source": [
    "# Step 0: Reinitialize the stress distribution to simulate starting conditions for Exercise 2\n",
    "# This includes the initial uniform stress and any modifications made in Exercise 1 (excluding gravity effects)\n",
    "\n",
    "# Resetting to the modified distribution from Exercise 1\n",
    "stress_distribution = np.full((5, 25), 50, dtype=np.float64)\n",
    "\n",
    "# Applying the same initial modifications for consistency with Exercise 1's starting point\n",
    "material_errors = [(3, 13), (1, 21), (4, 2)]\n",
    "for error in material_errors:\n",
    "    stress_distribution[error] = 65\n",
    "\n",
    "# Apply edge reinforcements\n",
    "stress_distribution[0, :] *= 0.85\n",
    "stress_distribution[-1, :] *= 0.85\n",
    "stress_distribution[1:-1, 0] *= 0.85\n",
    "stress_distribution[1:-1, -1] *= 0.85\n",
    "\n",
    "# Display\n",
    "print(stress_distribution)\n",
    "plot_pole(stress_distribution)\n"
   ]
  },
  {
   "cell_type": "markdown",
   "metadata": {},
   "source": [
    "**Step 1: Apply a Linear Force for Gravity (using boradcasting)**\n",
    "* To make the model more realistic, we add the effect of gravity again, only this time, using broadcasting. We simulate the effect of gravity as a linearly increasing force from the left side (the pole is fixed to a wall) to the right side (free end). \n",
    "    * This force should increate the stress on the very left by `0 MPa` on the very right by `12 MPa`.\n",
    "    * The force is linearly distributed along the entire pole. "
   ]
  },
  {
   "cell_type": "code",
   "execution_count": 66,
   "metadata": {},
   "outputs": [
    {
     "name": "stdout",
     "output_type": "stream",
     "text": [
      "Stress distribution after applying gravity effect:\n",
      "[[42.5  43.   43.5  44.   44.5  45.   45.5  46.   46.5  47.   47.5  48.\n",
      "  48.5  49.   49.5  50.   50.5  51.   51.5  52.   52.5  53.   53.5  54.\n",
      "  54.5 ]\n",
      " [42.5  50.5  51.   51.5  52.   52.5  53.   53.5  54.   54.5  55.   55.5\n",
      "  56.   56.5  57.   57.5  58.   58.5  59.   59.5  60.   75.5  61.   61.5\n",
      "  54.5 ]\n",
      " [42.5  50.5  51.   51.5  52.   52.5  53.   53.5  54.   54.5  55.   55.5\n",
      "  56.   56.5  57.   57.5  58.   58.5  59.   59.5  60.   60.5  61.   61.5\n",
      "  54.5 ]\n",
      " [42.5  50.5  51.   51.5  52.   52.5  53.   53.5  54.   54.5  55.   55.5\n",
      "  56.   71.5  57.   57.5  58.   58.5  59.   59.5  60.   60.5  61.   61.5\n",
      "  54.5 ]\n",
      " [42.5  43.   56.25 44.   44.5  45.   45.5  46.   46.5  47.   47.5  48.\n",
      "  48.5  49.   49.5  50.   50.5  51.   51.5  52.   52.5  53.   53.5  54.\n",
      "  54.5 ]]\n"
     ]
    },
    {
     "data": {
      "image/png": "[encoded data removed]",
      "text/plain": [
       "<Figure size 640x480 with 1 Axes>"
      ]
     },
     "metadata": {},
     "output_type": "display_data"
    }
   ],
   "source": [
    "# Step 1: Simulate the Linear Gravity Effect Using Broadcasting\n",
    "\n",
    "# Simulate gravity's effect with a linearly increasing force \n",
    "# from left (0 MPa) to right (12 MPa) across the pole's length.\n",
    "gravity_effect = np.linspace(0, 12, num=25)\n",
    "# Broadcasting applies the gravity effect across each row.\n",
    "stress_distribution += gravity_effect  \n",
    "\n",
    "print(\"Stress distribution after applying gravity effect:\")\n",
    "print(stress_distribution)\n",
    "plot_pole(stress_distribution)"
   ]
  },
  {
   "cell_type": "markdown",
   "metadata": {},
   "source": [
    "*  This utilized the concept of broadcasting by simulating a linearly increasing gravitational force, showcasing how operations can be expanded across an array without explicit loops or multiple assignments (like in 1/3)"
   ]
  },
  {
   "cell_type": "markdown",
   "metadata": {},
   "source": [
    "**Step 2: Apply an Absolute High-Stress Threshold**\n",
    "* To account for a safety specification, we need to know the areas of the metal pole, where the stress values cross a given threshold. \n",
    "    * Specifically, a threshold of `60 MPa` has to be recognized. Use boolean indexing from chapter 2 to identify the pole areas that cross this threshold  \n"
   ]
  },
  {
   "cell_type": "code",
   "execution_count": 67,
   "metadata": {},
   "outputs": [
    {
     "name": "stdout",
     "output_type": "stream",
     "text": [
      "Areas with high stress (>60MPa):\n",
      "[[False False False False False False False False False False False False\n",
      "  False False False False False False False False False False False False\n",
      "  False]\n",
      " [False False False False False False False False False False False False\n",
      "  False False False False False False False False False  True  True  True\n",
      "  False]\n",
      " [False False False False False False False False False False False False\n",
      "  False False False False False False False False False  True  True  True\n",
      "  False]\n",
      " [False False False False False False False False False False False False\n",
      "  False  True False False False False False False False  True  True  True\n",
      "  False]\n",
      " [False False False False False False False False False False False False\n",
      "  False False False False False False False False False False False False\n",
      "  False]]\n"
     ]
    },
    {
     "data": {
      "image/png": "[encoded data removed]",
      "text/plain": [
       "<Figure size 640x480 with 1 Axes>"
      ]
     },
     "metadata": {},
     "output_type": "display_data"
    }
   ],
   "source": [
    "# Step 2: Apply an Absolute High-Stress Threshold\n",
    "\n",
    "# Identify areas with absolute high stress exceeding 60 MPa.\n",
    "high_stress_threshold = 60\n",
    "high_stress_areas = stress_distribution > high_stress_threshold\n",
    "\n",
    "print(\"Areas with high stress (>60MPa):\")\n",
    "print(high_stress_areas)\n",
    "plot_pole(high_stress_areas)"
   ]
  },
  {
   "cell_type": "markdown",
   "metadata": {},
   "source": [
    "* Leveraged direct comparison operations to filter array elements based on an absolute threshold, focusing on identifying critical high-stress areas that might require reinforcement."
   ]
  },
  {
   "cell_type": "markdown",
   "metadata": {},
   "source": [
    "**Step 3: Identify Areas with low stress**\n",
    "* To help with considerations during construction, we want to identify the areas of the pole that have less stress than the average areas of the pole. For this, we again want to highlight some areas of the metal pole.\n",
    "    * Specifically, all areas that experience a stress value of less than `90%` of the `average` stress of the entire pole have to be recognized.  "
   ]
  },
  {
   "cell_type": "code",
   "execution_count": 68,
   "metadata": {},
   "outputs": [
    {
     "name": "stdout",
     "output_type": "stream",
     "text": [
      "Areas with high stress (>60MPa):\n",
      "[[ True  True  True  True  True  True  True  True  True  True  True False\n",
      "  False False False False False False False False False False False False\n",
      "  False]\n",
      " [ True False False False False False False False False False False False\n",
      "  False False False False False False False False False False False False\n",
      "  False]\n",
      " [ True False False False False False False False False False False False\n",
      "  False False False False False False False False False False False False\n",
      "  False]\n",
      " [ True False False False False False False False False False False False\n",
      "  False False False False False False False False False False False False\n",
      "  False]\n",
      " [ True  True False  True  True  True  True  True  True  True  True False\n",
      "  False False False False False False False False False False False False\n",
      "  False]]\n"
     ]
    },
    {
     "data": {
      "image/png": "[encoded data removed]",
      "text/plain": [
       "<Figure size 640x480 with 1 Axes>"
      ]
     },
     "metadata": {},
     "output_type": "display_data"
    }
   ],
   "source": [
    "# Step 3: Identify Relative Low-Stress Areas\n",
    "\n",
    "# Define low stress as areas having stress less than 90% of the mean overall stress.\n",
    "# Identifying low-stress areas relative to the mean stress provides insight into variably stressed regions.\n",
    "mean_stress = np.mean(stress_distribution)\n",
    "low_stress_threshold = 0.90 * mean_stress\n",
    "low_stress_areas = stress_distribution < low_stress_threshold\n",
    "\n",
    "print(\"Areas with high stress (>60MPa):\")\n",
    "print(low_stress_areas)\n",
    "plot_pole(low_stress_areas)"
   ]
  },
  {
   "cell_type": "markdown",
   "metadata": {},
   "source": [
    "* Employs a relative threshold based on statistical measures (mean stress) to identify areas under comparatively low stress, emphasizing the importance of context in stress analysis."
   ]
  },
  {
   "cell_type": "markdown",
   "metadata": {},
   "source": [
    "**Step 4: Return the metal pole Attributes**\n",
    "* Report the median, standard deviation, minimum and maximum of the stress distribution array to better understand the structure of the stress data."
   ]
  },
  {
   "cell_type": "code",
   "execution_count": 72,
   "metadata": {},
   "outputs": [
    {
     "name": "stdout",
     "output_type": "stream",
     "text": [
      "Median Stress: 53.0\n",
      "Standard Deviation of Stress: 5.713333177751846\n",
      "Maximum Stress: 75.5\n",
      "Minimum Stress: 42.5\n"
     ]
    }
   ],
   "source": [
    "# Step 4: Calculate Stress Metrics\n",
    "\n",
    "# Calculate statistical measures for the entire pole\n",
    "# Calculate and report key statistical metrics for the stress distribution.\n",
    "median_stress = np.median(stress_distribution)\n",
    "print(f\"Median Stress: {median_stress}\")\n",
    "\n",
    "std_dev_stress = np.std(stress_distribution)\n",
    "print(f\"Standard Deviation of Stress: {std_dev_stress}\")\n",
    "\n",
    "max_stress = np.max(stress_distribution)\n",
    "print(f\"Maximum Stress: {max_stress}\")\n",
    "\n",
    "min_stress = np.min(stress_distribution)\n",
    "print(f\"Minimum Stress: {min_stress}\")"
   ]
  },
  {
   "cell_type": "markdown",
   "metadata": {},
   "source": [
    "* This step consolidates the second part of the case study by calculating various statistical metrics, providing insights into the distribution and variability of stress across the metal pole. This step highlights the utility of NumPy's statistical functions in engineering analysis."
   ]
  },
  {
   "cell_type": "markdown",
   "metadata": {},
   "source": [
    "[--> Back to Outline](#course-outline)\n",
    "\n",
    "---\n"
   ]
  },
  {
   "cell_type": "markdown",
   "metadata": {},
   "source": [
    "## **[4. Advanced Numpy Techniques](#4-advanced-numpy-techniques)**\n"
   ]
  },
  {
   "cell_type": "markdown",
   "metadata": {},
   "source": [
    "### [4.1 Reshaping and Transposing](#4.1-reshaping-and-transposing)\n",
    "\n",
    "This section dives into reshaping arrays to change their dimensionality or shape, which is crucial for preparing data for certain operations or visualization. \n",
    "\n",
    "You are going to learn about the `reshape` method, the `ravel` function for flattening arrays, and the `transpose` function for swapping axes."
   ]
  },
  {
   "cell_type": "markdown",
   "metadata": {},
   "source": [
    "#### Reshaping\n",
    "\n",
    "Reshaping Arrays enables you to change the shape of an array without changing its data. It's a fundamental operation for reorganizing data, facilitating operations that require specific array dimensions."
   ]
  },
  {
   "cell_type": "code",
   "execution_count": 76,
   "metadata": {},
   "outputs": [
    {
     "name": "stdout",
     "output_type": "stream",
     "text": [
      "Original Array:\n",
      " [0 1 2 3 4 5 6 7 8]\n",
      "Reshaped Array:\n",
      " [[0]\n",
      " [1]\n",
      " [2]\n",
      " [3]\n",
      " [4]\n",
      " [5]\n",
      " [6]\n",
      " [7]\n",
      " [8]]\n"
     ]
    }
   ],
   "source": [
    "# Reshaping a 1D array into a 2D array\n",
    "some_array = np.arange(6)\n",
    "some_array_reshaped = some_array.reshape((2,3))\n",
    "\n",
    "print(\"Original Array:\\n\", some_array)\n",
    "print(\"Reshaped Array:\\n\", some_array_reshaped)"
   ]
  },
  {
   "cell_type": "markdown",
   "metadata": {},
   "source": [
    "#### Raveling\n",
    "\n",
    "The ravel method in **NumPy** is a straightforward way to transform a `multi-dimensional` array into a `one-dimensional array`. It *\"flattens\"* the data, converting the structure of the original array into a single row."
   ]
  },
  {
   "cell_type": "code",
   "execution_count": 77,
   "metadata": {},
   "outputs": [
    {
     "name": "stdout",
     "output_type": "stream",
     "text": [
      "Original Array:\n",
      " [[ 0  1  2  3]\n",
      " [ 4  5  6  7]\n",
      " [ 8  9 10 11]]\n",
      "Reshaped Array:\n",
      " [ 0  1  2  3  4  5  6  7  8  9 10 11]\n"
     ]
    }
   ],
   "source": [
    "# Reshaping a 3D array into a 1D array\n",
    "some_array = np.arange(12).reshape((3,4))\n",
    "some_array_raveled = some_array.ravel()\n",
    "\n",
    "print(\"Original Array:\\n\", some_array)\n",
    "print(\"Reshaped Array:\\n\", some_array_raveled)"
   ]
  },
  {
   "cell_type": "markdown",
   "metadata": {},
   "source": [
    "#### Transposing\n",
    "\n",
    "Transposing Arrays is another crucial operation, especially in linear algebra. Transposing reorients the array, swapping rows and columns."
   ]
  },
  {
   "cell_type": "code",
   "execution_count": 78,
   "metadata": {},
   "outputs": [
    {
     "name": "stdout",
     "output_type": "stream",
     "text": [
      "Array:\n",
      "[[0 1 2]\n",
      " [3 4 5]\n",
      " [6 7 8]]\n",
      "Transposed Array:\n",
      " [[0 3 6]\n",
      " [1 4 7]\n",
      " [2 5 8]]\n"
     ]
    }
   ],
   "source": [
    "# Transposing the array\n",
    "some_array = np.arange(9).reshape(3,3)\n",
    "print(f\"Array:\\n{some_array}\")\n",
    "\n",
    "some_array_transposed = some_array.T\n",
    "# some_array_transposed = some_array.transpose() # does the same as .T\n",
    "print(\"Transposed Array:\\n\", some_array_transposed)"
   ]
  },
  {
   "cell_type": "markdown",
   "metadata": {},
   "source": [
    "### [4.2 Stacking and Splitting](#4.2-stacking-and-splitting)\n",
    "\n",
    "This section covers methods for combining multiple arrays into one, such as `np.vstack` (vertical stack), `np.hstack` (horizontal stack), and `np.concatenate`. Similarly, learn how to split a single array into multiple arrays using functions like `np.split`, `np.hsplit`, and `np.vsplit`.\n",
    "\n",
    "Stacking and splitting are essential techniques for rearranging and managing data sets in NumPy. These operations allow for the combination of multiple arrays into a single array (stacking) or dividing a single array into multiple arrays (splitting), facilitating more complex data manipulation and analysis tasks.\n"
   ]
  },
  {
   "cell_type": "markdown",
   "metadata": {},
   "source": [
    "#### Stacking\n",
    "\n",
    "Stacking combines different arrays along a specified axis. NumPy provides various functions for stacking, including `np.vstack` (vertical stack), `np.hstack` (horizontal stack), and `np.dstack` (depth stack), among others."
   ]
  },
  {
   "cell_type": "code",
   "execution_count": 80,
   "metadata": {},
   "outputs": [
    {
     "name": "stdout",
     "output_type": "stream",
     "text": [
      "[1 2 3]\n",
      "[4 5 6]\n"
     ]
    }
   ],
   "source": [
    "some_array = np.array([1, 2, 3])\n",
    "another_array = np.array([4, 5, 6])\n",
    "\n",
    "print(some_array)\n",
    "print(another_array)"
   ]
  },
  {
   "cell_type": "code",
   "execution_count": 88,
   "metadata": {},
   "outputs": [
    {
     "name": "stdout",
     "output_type": "stream",
     "text": [
      "[[1 2 3]\n",
      " [4 5 6]]\n"
     ]
    }
   ],
   "source": [
    "# Vertical stacking\n",
    "vstacked = np.vstack((some_array, another_array))\n",
    "print(vstacked)"
   ]
  },
  {
   "cell_type": "code",
   "execution_count": 85,
   "metadata": {},
   "outputs": [
    {
     "name": "stdout",
     "output_type": "stream",
     "text": [
      "[[1 4]\n",
      " [2 5]\n",
      " [3 6]]\n"
     ]
    }
   ],
   "source": [
    "# Horizontal stacking\n",
    "hstacked = np.hstack((some_array.reshape(-1, 1), another_array.reshape(-1, 1)))\n",
    "print(hstacked)"
   ]
  },
  {
   "cell_type": "markdown",
   "metadata": {},
   "source": [
    "#### Splitting\n",
    "\n",
    "Conversely, splitting breaks one array into multiple smaller arrays. NumPy offers np.vsplit, np.hsplit, and np.dsplit for vertical, horizontal, and depth-wise splitting, respectively."
   ]
  },
  {
   "cell_type": "code",
   "execution_count": 91,
   "metadata": {},
   "outputs": [
    {
     "name": "stdout",
     "output_type": "stream",
     "text": [
      "Vertically Split:\n",
      "[[1 2 3]]\n",
      "[[4 5 6]]\n"
     ]
    }
   ],
   "source": [
    "# Splitting the vertically stacked array\n",
    "vsplit_result = np.vsplit(vstacked, 2)\n",
    "\n",
    "print(\"Vertically Split:\")\n",
    "for array in vsplit_result:\n",
    "    print(array)"
   ]
  },
  {
   "cell_type": "code",
   "execution_count": 94,
   "metadata": {},
   "outputs": [
    {
     "name": "stdout",
     "output_type": "stream",
     "text": [
      "Horizontally Split:\n",
      "[[1]\n",
      " [2]\n",
      " [3]]\n",
      "[[4]\n",
      " [5]\n",
      " [6]]\n"
     ]
    }
   ],
   "source": [
    "# Splitting the horizontally stacked array\n",
    "hsplit_result = np.hsplit(hstacked, 2)\n",
    "\n",
    "print(\"Horizontally Split:\")\n",
    "for array in hsplit_result:\n",
    "    print(array)"
   ]
  },
  {
   "cell_type": "markdown",
   "metadata": {},
   "source": [
    "#### Stacking and Splitting with Higher Dimensions\n",
    "\n",
    "Stacking and splitting are not limited to 1D and 2D arrays; they can be applied to arrays of higher dimensions, enabling intricate data restructuring suitable for advanced analysis and visualization tasks."
   ]
  },
  {
   "cell_type": "code",
   "execution_count": 95,
   "metadata": {},
   "outputs": [
    {
     "name": "stdout",
     "output_type": "stream",
     "text": [
      "[[[ 7  1]\n",
      "  [ 8  2]\n",
      "  [ 9  3]]\n",
      "\n",
      " [[10  4]\n",
      "  [11  5]\n",
      "  [12  6]]]\n"
     ]
    }
   ],
   "source": [
    "# Stacking and splitting 3D arrays\n",
    "some_array = np.array([[7, 8, 9], [10, 11, 12]])\n",
    "another_array =  np.array([[1, 2, 3], [4, 5, 6]])\n",
    "dstacked = np.dstack((some_array, another_array))\n",
    "print(dstacked)"
   ]
  },
  {
   "cell_type": "code",
   "execution_count": 96,
   "metadata": {},
   "outputs": [
    {
     "name": "stdout",
     "output_type": "stream",
     "text": [
      "Depth-wise Split:\n",
      "[[[ 7]\n",
      "  [ 8]\n",
      "  [ 9]]\n",
      "\n",
      " [[10]\n",
      "  [11]\n",
      "  [12]]]\n",
      "[[[1]\n",
      "  [2]\n",
      "  [3]]\n",
      "\n",
      " [[4]\n",
      "  [5]\n",
      "  [6]]]\n"
     ]
    }
   ],
   "source": [
    "# Splitting the depth-stacked array\n",
    "dsplit_result = np.dsplit(dstacked, 2)\n",
    "\n",
    "print(\"Depth-wise Split:\")\n",
    "for array in dsplit_result:\n",
    "    print(array)"
   ]
  },
  {
   "cell_type": "markdown",
   "metadata": {},
   "source": [
    "### [4.3 Universal Functions (ufuncs)](#4.3-universal-functions-ufuncs)\n",
    "\n",
    "Numpy's universal functions, or `ufuncs`, allow for fast, element-wise operations on arrays. Gain an understanding of these functions, including mathematical operations, trigonometric functions, comparison operators, and more. Learn how to leverage ufuncs for efficient computations on large datasets.\n"
   ]
  },
  {
   "cell_type": "code",
   "execution_count": null,
   "metadata": {},
   "outputs": [],
   "source": [
    "# Goal: Using a universal function for element-wise addition\n",
    "some_array = np.arange(5)\n",
    "another_array = np.arange(5, 10)\n",
    "\n",
    "print(some_array)\n",
    "print(another_array)\n",
    "\n",
    "sum_arrays = np.add(some_array, another_array)\n",
    "print(\"Sum of A and B:\\n\", sum_arrays)"
   ]
  },
  {
   "cell_type": "markdown",
   "metadata": {},
   "source": [
    "Creating Custom ufuncs can extend NumPy's functionality to user-defined operations, adapting it to specific needs."
   ]
  },
  {
   "cell_type": "code",
   "execution_count": 97,
   "metadata": {},
   "outputs": [
    {
     "name": "stdout",
     "output_type": "stream",
     "text": [
      "Some array:\t[0 1 2 3 4 5 6 7 8 9]\n",
      "Another array:\t[ 6.  7.  8.  9. 10. 11. 12. 13. 14. 15.]\n",
      "Result of Custom Ufunc with the simple function:\n",
      "[8.0 10.0 12.0 14.0 16.0 18.0 20.0 22.0 24.0 26.0]\n"
     ]
    }
   ],
   "source": [
    "# Defining a custom universal function\n",
    "def simple_func(x, y):\n",
    "    return x + y + 2\n",
    "\n",
    "# np.frompyfunc takes an arbitrary Python function and returns a NumPy ufunc\n",
    "simple_ufunc = np.frompyfunc(simple_func, 2, 1)\n",
    "\n",
    "# Prepare some sample data\n",
    "some_array = np.arange(10)  # [0, 1, 2, ..., 9]\n",
    "another_array = np.linspace(6, 15, 10)  # 10 values from 6 to 15\n",
    "\n",
    "# Apply the ufunc on the arrays \n",
    "simple_ufunc_result = simple_ufunc(some_array, another_array)\n",
    "\n",
    "# Display the inputs and the results \n",
    "print(f\"Some array:\\t{some_array}\")\n",
    "print(f\"Another array:\\t{another_array}\")\n",
    "print(f\"Result of Custom Ufunc with the simple function:\\n{simple_ufunc_result}\", )\n"
   ]
  },
  {
   "cell_type": "markdown",
   "metadata": {},
   "source": [
    "Here is another example of a numpy ufunc. We aim to implement a computation with contitionals, like this:\n",
    "\n",
    "$$\n",
    "f(x, y) = \\left\\{\n",
    "\\begin{array}{ll}\n",
    "x^2 + y & \\text{if } x > 5 \\\\\n",
    "x + y^2 & \\text{otherwise}\n",
    "\\end{array}\n",
    "\\right.\n",
    "$$"
   ]
  },
  {
   "cell_type": "code",
   "execution_count": null,
   "metadata": {},
   "outputs": [],
   "source": [
    "import numpy as np\n",
    "\n",
    "# Define a more complex function that involves conditionals\n",
    "def complex_func(x, y):\n",
    "    if x > 5:\n",
    "        return x**2 + y\n",
    "    else:\n",
    "        return x + y**2\n",
    "\n",
    "# Convert the Python function to a NumPy universal function (ufunc)\n",
    "complex_ufunc = np.frompyfunc(complex_func, 2, 1)\n",
    "\n",
    "# Prepare some sample data\n",
    "some_array = np.arange(10)  # [0, 1, 2, ..., 9]\n",
    "another_array = np.linspace(6, 15, 10)  # 10 values from 6 to 15\n",
    "\n",
    "# Apply the ufunc on the arrays\n",
    "comlex_ufunc_result = complex_ufunc(some_array, another_array)\n",
    "\n",
    "# Display the inputs and the result\n",
    "print(f\"Some array:\\t{some_array}\")\n",
    "print(f\"Another array:\\t{another_array}\")\n",
    "print(f\"Result of Custom Ufunc for the Complex Function:\\n{comlex_ufunc_result}\")\n",
    "\n",
    "#from matplotlib import pyplot as plt \n",
    "#plt.plot(result)\n",
    "#plt.show()"
   ]
  },
  {
   "cell_type": "markdown",
   "metadata": {},
   "source": [
    "### [4.4 Advanced Indexing and Slicing](#4.4-advanced-indexing-and-slicing)\n",
    "\n",
    "We revisit boolean indexing and now use advanced indexing and slicing. It allows for more nuanced data selection, such as filtering data based on multiple conditions."
   ]
  },
  {
   "cell_type": "code",
   "execution_count": null,
   "metadata": {},
   "outputs": [],
   "source": [
    "# Filtering data with multiple conditions\n",
    "some_array = np.array([1, 2, 3, 4, 5])\n",
    "some_array_filter = (some_array > 2) & (some_array < 5)\n",
    "\n",
    "print(f\"Data:\\t{some_array}\")\n",
    "print(f\"Filter:\\t{some_array_filter}\")\n",
    "print(f\"Filtered Data:\\t {some_array[some_array_filter]}\")"
   ]
  },
  {
   "cell_type": "markdown",
   "metadata": {},
   "source": [
    "Indexing with Integer Arrays lets you select complex patterns of elements."
   ]
  },
  {
   "cell_type": "code",
   "execution_count": null,
   "metadata": {},
   "outputs": [],
   "source": [
    "# Selecting elements with fancy indexing\n",
    "another_array = np.array([4, 5, 6, 7, 8, 9])\n",
    "fancy_indexed_data = another_array[[1, 3, 4]]\n",
    "\n",
    "print(f\"Fancy Indexed Data: {fancy_indexed_data}\")"
   ]
  },
  {
   "cell_type": "markdown",
   "metadata": {},
   "source": [
    "### [4.5 Coding Challenge: Stress Analysis 3/3](#4.5-coding-challenge-stress-analysis-3/3)\n",
    "\n",
    "#### **Task:** \n",
    "\n",
    "We revisit the stress analysis again to now leverage the new numpy functionality in the material simulation. \n",
    "\n",
    "#### **Step-by-step Goals:**"
   ]
  },
  {
   "cell_type": "markdown",
   "metadata": {},
   "source": [
    "**Step 0: Restore the stress distribution**\n",
    "* To start the exercise, reinitialize the stress distribution from `1/3` without the gravity effect:\n",
    "    * Initialize the metal pole (step 1 of chapter 2.4)\n",
    "    * Apply the material defects (step 2 of chapter 2.4)\n",
    "    * Apply the heat treatment (step 3 of chapter 2.4)"
   ]
  },
  {
   "cell_type": "code",
   "execution_count": null,
   "metadata": {},
   "outputs": [],
   "source": [
    "# Step 0: Reinitialize the stress distribution to simulate starting conditions for Exercise 2\n",
    "# This includes the initial uniform stress and any modifications made in Exercise 1 (excluding gravity effects)\n",
    "\n",
    "# Resetting to the modified distribution from Exercise 1\n",
    "stress_distribution = np.full((5, 25), 50, dtype=np.float64)\n",
    "\n",
    "# Applying the same initial modifications for consistency with Exercise 1's starting point\n",
    "material_errors = [(3, 13), (1, 21), (4, 2)]\n",
    "for error in material_errors:\n",
    "    stress_distribution[error] = 65\n",
    "\n",
    "# Apply edge reinforcements\n",
    "stress_distribution[0, :] *= 0.85\n",
    "stress_distribution[-1, :] *= 0.85\n",
    "stress_distribution[1:-1, 0] *= 0.85\n",
    "stress_distribution[1:-1, -1] *= 0.85\n",
    "\n",
    "# Display\n",
    "print(stress_distribution)\n",
    "plot_pole(stress_distribution)"
   ]
  },
  {
   "cell_type": "markdown",
   "metadata": {},
   "source": [
    "**Step 1: Cutting-off the stress risk**\n",
    "* Our previous threshold-based stress estimation (step 2 in 2/3) has shown that the current tip of the pole is susceptible to stress. For that reason a section of the tip of the pole will be cut of.\n",
    "    * Cut the metal pole to a length of `15` by removing `10` length units from the free-standing side (right).  "
   ]
  },
  {
   "cell_type": "code",
   "execution_count": 98,
   "metadata": {},
   "outputs": [
    {
     "name": "stdout",
     "output_type": "stream",
     "text": [
      "[[42.5  43.   43.5  44.   44.5  45.   45.5  46.   46.5  47.   47.5  48.\n",
      "  48.5  49.   49.5 ]\n",
      " [42.5  50.5  51.   51.5  52.   52.5  53.   53.5  54.   54.5  55.   55.5\n",
      "  56.   56.5  57.  ]\n",
      " [42.5  50.5  51.   51.5  52.   52.5  53.   53.5  54.   54.5  55.   55.5\n",
      "  56.   56.5  57.  ]\n",
      " [42.5  50.5  51.   51.5  52.   52.5  53.   53.5  54.   54.5  55.   55.5\n",
      "  56.   71.5  57.  ]\n",
      " [42.5  43.   56.25 44.   44.5  45.   45.5  46.   46.5  47.   47.5  48.\n",
      "  48.5  49.   49.5 ]]\n"
     ]
    },
    {
     "data": {
      "image/png": "[encoded data removed]",
      "text/plain": [
       "<Figure size 640x480 with 1 Axes>"
      ]
     },
     "metadata": {},
     "output_type": "display_data"
    }
   ],
   "source": [
    "# Step 1: Cutting-off the stress risk by removing the tip of the metal pole\n",
    "\n",
    "stress_distribution_cut_left, stress_distribution_cut_right = np.split(stress_distribution, [15], axis=1)\n",
    "\n",
    "print(stress_distribution_cut_left)\n",
    "plot_pole(stress_distribution_cut_left)"
   ]
  },
  {
   "cell_type": "markdown",
   "metadata": {},
   "source": [
    "**Step 2: Welding-on a new piece**\n",
    "* After cutting a section of the pole, we need to attach a new piece of material to again match the target length of `25`. This time, we are using a material that has a lower stress value of `40 MPa` for the tip. No heat treatment is applied to this piece. However, welding increases the tension in the affected areas of the metal rod by `10%`. \n",
    "    * Attach the new piece of size `5x10` with `40 MPa` to the right side of the metal pole.\n",
    "    * Account for the welding effect by increasing in the affected area (outer right layer in the pole, left layer in the new piece) "
   ]
  },
  {
   "cell_type": "code",
   "execution_count": 99,
   "metadata": {},
   "outputs": [
    {
     "name": "stdout",
     "output_type": "stream",
     "text": [
      "Stress distribution after adding new material:\n",
      "[[42.5  43.   43.5  44.   44.5  45.   45.5  46.   46.5  47.   47.5  48.\n",
      "  48.5  49.   54.45 44.   40.   40.   40.   40.   40.   40.   40.   40.\n",
      "  40.  ]\n",
      " [42.5  50.5  51.   51.5  52.   52.5  53.   53.5  54.   54.5  55.   55.5\n",
      "  56.   56.5  62.7  44.   40.   40.   40.   40.   40.   40.   40.   40.\n",
      "  40.  ]\n",
      " [42.5  50.5  51.   51.5  52.   52.5  53.   53.5  54.   54.5  55.   55.5\n",
      "  56.   56.5  62.7  44.   40.   40.   40.   40.   40.   40.   40.   40.\n",
      "  40.  ]\n",
      " [42.5  50.5  51.   51.5  52.   52.5  53.   53.5  54.   54.5  55.   55.5\n",
      "  56.   71.5  62.7  44.   40.   40.   40.   40.   40.   40.   40.   40.\n",
      "  40.  ]\n",
      " [42.5  43.   56.25 44.   44.5  45.   45.5  46.   46.5  47.   47.5  48.\n",
      "  48.5  49.   54.45 44.   40.   40.   40.   40.   40.   40.   40.   40.\n",
      "  40.  ]]\n"
     ]
    },
    {
     "data": {
      "image/png": "[encoded data removed]",
      "text/plain": [
       "<Figure size 640x480 with 1 Axes>"
      ]
     },
     "metadata": {},
     "output_type": "display_data"
    }
   ],
   "source": [
    "# Step 2: Modify Pole with New Material Attachment\n",
    "\n",
    "# Step 2: Welding-on a new piece\n",
    "# Creating a new piece with lower stress value\n",
    "stress_distribution_new_piece = np.full((5, 10), 40, dtype=np.float64)\n",
    "\n",
    "# Attaching the new piece to the cut pole\n",
    "stress_distribution_joined = np.hstack((stress_distribution_cut_left, stress_distribution_new_piece))\n",
    "# stress_distribution_final = np.concatenate((stress_distribution_cut_left, stress_distribution_new_piece), axis=1) # same\n",
    "\n",
    "# Accounting for welding effect by increasing tension in the affected areas by 10%\n",
    "# Affected areas: rightmost column of the cut left part and the leftmost column of the new piece\n",
    "stress_distribution_joined[:, 14] *= 1.10\n",
    "stress_distribution_joined[:, 15] *= 1.10\n",
    "\n",
    "print(\"Stress distribution after adding new material:\")\n",
    "print(stress_distribution_joined)\n",
    "plot_pole(stress_distribution_joined)"
   ]
  },
  {
   "cell_type": "markdown",
   "metadata": {},
   "source": [
    "**Step 3: Testing Alternative Orientations**\n",
    "* To evaluate how the metal pole would fare when attached in a different manner, we want to simulate attaching the pole to the bottom (instead of to a wall on the left side), which could represent a different structural configuration. Due to its lower stress, the newly attached piece should be on the bottom. \n",
    "    * Generate a `transposed` version of the metal pole's stress distribution as it stands after completing the previous steps. "
   ]
  },
  {
   "cell_type": "code",
   "execution_count": 101,
   "metadata": {},
   "outputs": [
    {
     "name": "stdout",
     "output_type": "stream",
     "text": [
      "[[42.5  42.5  42.5  42.5  42.5 ]\n",
      " [43.   50.5  50.5  50.5  43.  ]\n",
      " [56.25 51.   51.   51.   43.5 ]\n",
      " [44.   51.5  51.5  51.5  44.  ]\n",
      " [44.5  52.   52.   52.   44.5 ]\n",
      " [45.   52.5  52.5  52.5  45.  ]\n",
      " [45.5  53.   53.   53.   45.5 ]\n",
      " [46.   53.5  53.5  53.5  46.  ]\n",
      " [46.5  54.   54.   54.   46.5 ]\n",
      " [47.   54.5  54.5  54.5  47.  ]\n",
      " [47.5  55.   55.   55.   47.5 ]\n",
      " [48.   55.5  55.5  55.5  48.  ]\n",
      " [48.5  56.   56.   56.   48.5 ]\n",
      " [49.   71.5  56.5  56.5  49.  ]\n",
      " [54.45 62.7  62.7  62.7  54.45]\n",
      " [44.   44.   44.   44.   44.  ]\n",
      " [40.   40.   40.   40.   40.  ]\n",
      " [40.   40.   40.   40.   40.  ]\n",
      " [40.   40.   40.   40.   40.  ]\n",
      " [40.   40.   40.   40.   40.  ]\n",
      " [40.   40.   40.   40.   40.  ]\n",
      " [40.   40.   40.   40.   40.  ]\n",
      " [40.   40.   40.   40.   40.  ]\n",
      " [40.   40.   40.   40.   40.  ]\n",
      " [40.   40.   40.   40.   40.  ]]\n"
     ]
    },
    {
     "data": {
      "image/png": "[encoded data removed]",
      "text/plain": [
       "<Figure size 640x480 with 1 Axes>"
      ]
     },
     "metadata": {},
     "output_type": "display_data"
    }
   ],
   "source": [
    "# Step 3: Creating a copy of the metal pole and transposing it\n",
    "# This simulates attaching the pole to the bottom instead of a wall on the left side\n",
    "\n",
    "# Creating a copy and transposing\n",
    "stress_distribution_transposed = np.transpose(stress_distribution_joined)\n",
    "\n",
    "# Bonus: Change the column order\n",
    "stress_distribution_transposed = stress_distribution_transposed[:, ::-1]\n",
    "\n",
    "# Bonus 2: Flip the metal pole \n",
    "# stress_distribution_transposed = stress_distribution_transposed[::-1, :]\n",
    "\n",
    "# Display transposed stress distribution\n",
    "print(stress_distribution_transposed)\n",
    "plot_pole(stress_distribution_transposed)"
   ]
  },
  {
   "cell_type": "markdown",
   "metadata": {},
   "source": [
    "**Step 4: Calculate the gravity of the standing pole**\n",
    "*  To enhance the realism of our metal pole stress distribution model, we again want to incorporate the effect of gravity. Instead of a linear effect, we want to account for the new material density. This involves modifying the stress values across the pole to reflect how gravity would influence those values, especially considering the pole's orientation and the depth of each section.\n",
    "    * Create a function that calculates the added stress due to gravity based on the depth of each element within the metal pole. \n",
    "        * The new material's density has an effect of `2`.\n",
    "        * The old material has an effect of `1` due to its lower density. \n",
    "    * Utilize `np.frompyfunc` to transform the custom Python function into a NumPy universal function (`ufunc`). This enables the function to operate on NumPy arrays element-wise, applying the gravity effect calculation across the entire array efficiently.\n",
    "    * Iterate over the metal pole's stress distribution array, applying the gravity effect universal function to each element. This process should consider the depth of each element, adjusting the stress values to simulate the impact of gravity on the structure's overall stress distribution.\n"
   ]
  },
  {
   "cell_type": "code",
   "execution_count": 102,
   "metadata": {},
   "outputs": [
    {
     "name": "stdout",
     "output_type": "stream",
     "text": [
      "45.0\n",
      "[[43.5  43.5  43.5  43.5  43.5 ]\n",
      " [45.   52.5  52.5  52.5  45.  ]\n",
      " [59.25 54.   54.   54.   46.5 ]\n",
      " [48.   55.5  55.5  55.5  48.  ]\n",
      " [49.5  57.   57.   57.   49.5 ]\n",
      " [51.   58.5  58.5  58.5  51.  ]\n",
      " [52.5  60.   60.   60.   52.5 ]\n",
      " [54.   61.5  61.5  61.5  54.  ]\n",
      " [55.5  63.   63.   63.   55.5 ]\n",
      " [57.   64.5  64.5  64.5  57.  ]\n",
      " [58.5  66.   66.   66.   58.5 ]\n",
      " [60.   67.5  67.5  67.5  60.  ]\n",
      " [61.5  69.   69.   69.   61.5 ]\n",
      " [63.   85.5  70.5  70.5  63.  ]\n",
      " [69.45 77.7  77.7  77.7  69.45]\n",
      " [61.   61.   61.   61.   61.  ]\n",
      " [59.   59.   59.   59.   59.  ]\n",
      " [61.   61.   61.   61.   61.  ]\n",
      " [63.   63.   63.   63.   63.  ]\n",
      " [65.   65.   65.   65.   65.  ]\n",
      " [67.   67.   67.   67.   67.  ]\n",
      " [69.   69.   69.   69.   69.  ]\n",
      " [71.   71.   71.   71.   71.  ]\n",
      " [73.   73.   73.   73.   73.  ]\n",
      " [75.   75.   75.   75.   75.  ]]\n"
     ]
    },
    {
     "data": {
      "image/png": "[encoded data removed]",
      "text/plain": [
       "<Figure size 640x480 with 1 Axes>"
      ]
     },
     "metadata": {},
     "output_type": "display_data"
    }
   ],
   "source": [
    "# Step 4: Calculate the gravity of the standing pole using a ufunc\n",
    " \n",
    "# Defining a Python function that calculates the gravity effect based on depth\n",
    "def apply_gravity(pole_row, pole_position):\n",
    "    if pole_row < 15: \n",
    "        return pole_row + pole_position + 1\n",
    "    else: \n",
    "        return pole_row + pole_position + (pole_row - 15) + 2\n",
    " \n",
    "# Creating a ufunc from the Python function with np.frompyfunc\n",
    "apply_gravity_ufunc = np.frompyfunc(apply_gravity, 2, 1)\n",
    " \n",
    "# Create a copy of the transposed pole \n",
    "stress_distribution_transposed_gravity = stress_distribution_transposed.copy()\n",
    " \n",
    "#plot_pole(stress_distribution_transposed_gravity)\n",
    " \n",
    "# Apply the ufunc across each element, taking into account its depth\n",
    "for i in range(stress_distribution_transposed_gravity.shape[0]):  \n",
    "    stress_distribution_transposed_gravity[i, :] = apply_gravity_ufunc(i, stress_distribution_transposed_gravity[i, :])\n",
    " \n",
    "print(stress_distribution_transposed_gravity[1, 0])\n",
    "print(stress_distribution_transposed_gravity)\n",
    "plot_pole(stress_distribution_transposed_gravity)"
   ]
  },
  {
   "cell_type": "markdown",
   "metadata": {},
   "source": [
    "* For many tasks, specific methods are often available through numpy. For example, the density can be added directly to the stress using `cumsum`. "
   ]
  },
  {
   "cell_type": "code",
   "execution_count": 103,
   "metadata": {},
   "outputs": [
    {
     "data": {
      "image/png": "[encoded data removed]",
      "text/plain": [
       "<Figure size 640x480 with 1 Axes>"
      ]
     },
     "metadata": {},
     "output_type": "display_data"
    }
   ],
   "source": [
    "# Alternative\n",
    "density = np.vstack((np.full((15,5), 1), np.full((10,5), 2)))\n",
    "gravity_effect = np.cumsum(density, axis=0)\n",
    "plot_pole(stress_distribution_transposed + gravity_effect)\n"
   ]
  },
  {
   "cell_type": "markdown",
   "metadata": {},
   "source": [
    "**Bonus step: Gravity for the horizontal pole**\n",
    "\n",
    "Consider how to update the gravity calculation for the horizontal metal pole..."
   ]
  },
  {
   "cell_type": "markdown",
   "metadata": {},
   "source": [
    "[--> Back to Outline](#course-outline)"
   ]
  },
  {
   "cell_type": "markdown",
   "metadata": {},
   "source": [
    "---\n",
    "\n",
    "## **[5. Best Practices and Resources](#5-best-practices-and-resources)**\n",
    "\n"
   ]
  },
  {
   "cell_type": "markdown",
   "metadata": {},
   "source": [
    "### [5.1 Writing Efficient Numpy Code](#5.1-writing-efficient-numpy-code)\n",
    "\n",
    "Tips and strategies for writing efficient Numpy code, including advice on how to structure computations and data manipulations to leverage Numpy's performance capabilities to the fullest.\n",
    "\n",
    "* **Vectorization over Loops:** Whenever possible, use NumPy's *vectorized operations* instead of loops. Vectorization uses optimized, pre-compiled C code under the hood, which is much faster than Python loops for operations on arrays.\n",
    "\n",
    "* **Broadcasting:** Understand and leverage `broadcasting` to perform operations on arrays of different shapes. It's a powerful feature for writing concise and efficient code.\n",
    "\n",
    "* **In-place Operations:** Use in-place operations (e.g., `+=`, `*=`, `/=`) to modify arrays without creating additional copies. This approach is memory efficient and can significantly reduce runtime for large arrays.\n",
    "\n",
    "* **Avoid Unnecessary Copies:** Be mindful of array copying. Use `np.copy()` only when necessary. Understand the difference between a view and a copy of an array to manage memory effectively.\n",
    "\n",
    "* **Use Universal Functions (ufuncs):** Utilize `ufuncs` for element-wise operations. They are optimized for NumPy arrays and much faster than applying operations manually with loops or list comprehensions.\n",
    "\n",
    "* **Select Appropriate Data Types:** Choosing the right dtype for your arrays can reduce memory usage and improve performance. For instance, if your data range fits within 8 bits, consider using `np.int8` or `np.uint8` instead of the default `np.int64`."
   ]
  },
  {
   "cell_type": "markdown",
   "metadata": {},
   "source": [
    "### [5.2 Learning Resources](#5.2-learning-resources)\n",
    "\n",
    "A curated list of additional resources for further learning and exploration of Numpy, including official documentation, tutorials, and community forums.\n",
    "\n",
    "* **Official NumPy Documentation:** The best place to start, offering comprehensive guides, reference materials, and tutorials: [NumPy Docs](https://numpy.org/doc/stable/)\n",
    "\n",
    "* **SciPy Lecture Notes:** Offers great tutorials and notes on NumPy as part of a broader scientific computing ecosystem: [SciPy Lectures](https://lectures.scientific-python.org/)\n",
    "\n",
    "* **DataCamp's NumPy Tutorial:** A hands-on tutorial that covers the basics to advanced topics. [DataCamp NumPy](https://www.datacamp.com/tutorial/python-numpy-tutorial)\n",
    "\n",
    "* **Real Python:** Provides numerous articles and tutorials, great for both beginners and advanced users. [Real Python](https://realpython.com/tutorials/numpy/)\n",
    "\n",
    "* **YouTube Tutorials:** Channels like [freeCodeCamp.org](https://www.youtube.com/watch?v=QUT1VHiLmmI) and [NeuralNine](https://www.youtube.com/watch?v=4c_mwnYdbhQ) offer video tutorials covering NumPy basics and advanced features.\n",
    "\n"
   ]
  },
  {
   "cell_type": "markdown",
   "metadata": {},
   "source": [
    "### [5.3 Q&A Session](#5.3-qa-session)\n",
    "\n",
    "An opportunity to address common questions and challenges encountered when working with Numpy, offering solutions and best practices for effective data analysis and manipulation."
   ]
  },
  {
   "cell_type": "markdown",
   "metadata": {},
   "source": [
    "Q: When should I use NumPy arrays over Python lists?\n",
    "\n",
    "A: Use NumPy arrays when you need to perform mathematical operations on large datasets. NumPy arrays are more memory-efficient and provide a plethora of operations for scientific computing."
   ]
  },
  {
   "cell_type": "markdown",
   "metadata": {},
   "source": [
    "Q: Can I use NumPy for tasks other than numerical computing?\n",
    "\n",
    "A: While NumPy is optimized for numerical operations, its array manipulation capabilities make it useful for a variety of tasks, including image processing, data transformation, and as a backend for other libraries."
   ]
  },
  {
   "cell_type": "markdown",
   "metadata": {},
   "source": [
    "Q: How can I improve the performance of my NumPy-based application?\n",
    "\n",
    "A: Focus on vectorization, use broadcasting, avoid unnecessary copies of arrays, and select the appropriate data types. Profiling your code can also help identify bottlenecks."
   ]
  },
  {
   "cell_type": "markdown",
   "metadata": {},
   "source": [
    "Q: Is NumPy suitable for parallel computing?\n",
    "\n",
    "A: NumPy itself does not offer parallel computing capabilities. However, libraries like Dask and Joblib can be used alongside NumPy for parallel computing tasks."
   ]
  },
  {
   "cell_type": "markdown",
   "metadata": {},
   "source": [
    "[--> Back to Outline](#course-outline)\n",
    "\n",
    "---"
   ]
  }
 ],
 "metadata": {
  "kernelspec": {
   "display_name": "Python 3 (ipykernel)",
   "language": "python",
   "name": "python3"
  },
  "language_info": {
   "codemirror_mode": {
    "name": "ipython",
    "version": 3
   },
   "file_extension": ".py",
   "mimetype": "text/x-python",
   "name": "python",
   "nbconvert_exporter": "python",
   "pygments_lexer": "ipython3",
   "version": "3.10.13"
  }
 },
 "nbformat": 4,
 "nbformat_minor": 2
}
