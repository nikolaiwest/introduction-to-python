{
 "cells": [
  {
   "cell_type": "markdown",
   "metadata": {},
   "source": [
    "# UE4: Pandas\n",
    "\n",
    "<img src=https://upload.wikimedia.org/wikipedia/commons/thumb/e/ed/Pandas_logo.svg/2560px-Pandas_logo.svg.png height=200>"
   ]
  },
  {
   "cell_type": "markdown",
   "metadata": {},
   "source": [
    "### **Introduction to Pandas for Data Analysis**\n",
    "\n",
    "Welcome to the Introduction to **Pandas** course, designed to equip you with the skills necessary for data manipulation and analysis in Python using the Pandas library. \n",
    "\n",
    "This two-hour course is structured to offer a comprehensive overview of Pandas' capabilities, ensuring you're prepared to tackle real-world data analysis challenges.\n",
    "\n",
    "---"
   ]
  },
  {
   "cell_type": "markdown",
   "metadata": {},
   "source": [
    "## **Course Outline**\n",
    "\n",
    "#### **Chapter 1. [Introduction to Pandas](#1-introduction-to-pandas)**\n",
    "- **Chapter 1.1 [Overview of Pandas](#1.1-overview-of-pandas):** What is Pandas, and why is it essential for data science?\n",
    "- **Chapter 1.2 [Installation and Setup](#1.2-installation-and-setup):** Getting Pandas up and running.\n",
    "- **Chapter 1.3 [Pandas Data Structures](#1.3-pandas-data-structures):** Understanding Series and DataFrames.\n",
    "\n",
    "#### **Chapter 2. [Data Manipulation with Pandas](#2-data-manipulation-with-pandas)**\n",
    "- **Chapter 2.1 [Data Importing](#2.1-data-importing):** Reading data from various sources.\n",
    "- **Chapter 2.2 [Data Exploration](#2.2-data-exploration):** Basic data exploration techniques.\n",
    "- **Chapter 2.3 [Data Indexing](#2.3-data-indexing):** Indexing your data.\n",
    "- **Chapter 2.4 [Data Cleaning](#2.4-data-cleaning):** Preparing your data for analysis.\n",
    "- **Chapter 2.5 [Coding Challenge](#2.5-coding-challenge):** Practical exercise on data manipulation.\n",
    "\n",
    "#### **Chapter 3. [Data Analysis and Aggregation](#3-data-analysis-and-aggregation)**\n",
    "- **Chapter 3.1 [Filtering and Sorting](#3.1-filtering-and-sorting):** Slicing and dicing data.\n",
    "- **Chapter 3.2 [Grouping and Aggregating](#3.2-grouping-and-aggregating):** Summarizing data effectively.\n",
    "- **Chapter 3.3 [Pivot Tables and Cross-Tabulation](#3.3-pivot-tables-and-cross-tabulation):** Advanced data summarization.\n",
    "- **Chapter 3.4 [Coding Challenge](#3.4-coding-challenge):** Deep dive into data analysis.\n",
    "\n",
    "#### **Chapter 4. [Advanced Pandas Techniques](#4-advanced-pandas-techniques)**\n",
    "- **Chapter 4.1 [Time Series Analysis](#4.1-time-series-analysis):** Handling time-stamped data.\n",
    "- **Chapter 4.2 [Text Data Handling](#4.2-text-data-handling):** Managing textual data.\n",
    "- **Chapter 4.3 [Combining and Merging Data Sets](#4.3-combining-and-merging-data-sets):** Building complex data relationships.\n",
    "- **Chapter 4.4 [Coding Challenge](#4.4-coding-challenge):** Applying advanced techniques in practical scenarios.\n",
    "\n",
    "#### **Chapter 5. [Best Practices and Resources](#5-best-practices-and-resources)**\n",
    "- **Chapter 5.1 [Writing Efficient Pandas Code](#5.1-writing-efficient-pandas-code):** Optimization tips.\n",
    "- **Chapter 5.2 [Learning Resources](#5.2-learning-resources):** Furthering your Pandas knowledge.\n",
    "- **Chapter 5.3 [Q&A Session](#5.3-qa-session):** Addressing common queries.\n",
    "\n",
    "---"
   ]
  },
  {
   "cell_type": "markdown",
   "metadata": {},
   "source": [
    "## **[1. Introduction to Pandas](#1-introduction-to-pandas)**\n",
    "\n",
    "**Pandas** is a cornerstone library for data analysis and manipulation in Python, offering rich data structures and functions designed to make data exploration and manipulation straightforward and efficient. \n",
    "\n",
    "<img src=https://upload.wikimedia.org/wikipedia/commons/thumb/e/ed/Pandas_logo.svg/2560px-Pandas_logo.svg.png height=100>\n",
    "\n",
    "At the heart of Pandas are its two primary data structures: Series and DataFrame, which provide the functionality to handle and analyze data in a way that is both fast and intuitive. \n",
    "\n",
    "Conceived by Wes McKinney in 2008, Pandas has become indispensable for data scientists for tasks ranging from simple data filtering and aggregation to more complex data transformations and analysis. Its seamless integration with other libraries like NumPy, Scikit-learn, and Matplotlib makes it a versatile tool in the data science toolkit, enabling analysts and researchers to draw insights from data with ease. "
   ]
  },
  {
   "cell_type": "markdown",
   "metadata": {},
   "source": [
    "### [1.1 Overview of Pandas](#11-overview-of-pandas)\n",
    "\n",
    "Pandas users range from beginners in data science to seasoned analysts and researchers, all benefiting from its extensive functionality for handling and analyzing input data, regardless of its origin or format. \n",
    "\n",
    "The library's central feature is its powerful and flexible `DataFrame` object, which allows for sophisticated data manipulation and analysis.\n",
    "\n",
    "\n",
    "#### Core Feature: DataFrame\n",
    "\n",
    "The DataFrame is a two-dimensional, size-mutable, potentially heterogeneous tabular data structure with labeled axes (rows and columns). It's akin to a spreadsheet or SQL table and is the most commonly used pandas object.\n",
    "\n",
    "```python\n",
    "pandas.DataFrame()\n",
    "```\n",
    "\n",
    "#### Why Pandas?\n",
    "\n",
    "Pandas simplify the process of data manipulation and analysis through its powerful data structures. \n",
    "\n",
    "It provides:\n",
    "- Fast and efficient DataFrame object for data manipulation with integrated indexing.\n",
    "- Tools for reading and writing data between in-memory data structures and different file formats.\n",
    "- Data alignment and integrated handling of missing data.\n",
    "- Reshaping and pivoting of datasets.\n",
    "- Label-based slicing, indexing, and subsetting of large datasets.\n",
    "- Data structure column insertion and deletion.\n",
    "- Group by functionality for aggregation and transformations.\n",
    "- High performance merging and joining of data.\n",
    "- Time Series functionality.\n",
    "\n",
    "Pandas is built on top of NumPy and is designed to integrate well within a scientific computing environment with many other 3rd party libraries.\n"
   ]
  },
  {
   "cell_type": "markdown",
   "metadata": {},
   "source": [
    "### [1.2 Installation and Setup](#1.2-installation-and-setup)\n",
    "<a name=\"1.2-installation-and-setup\"></a>\n",
    "Pandas can be installed using Python's package manager `pip`. \n",
    "\n",
    "If you have Python and pip on your system, you can install Pandas by running:\n",
    "\n",
    "    pip install pandas\n",
    "\n",
    "To verify the installation, you can import pandas and check its version with:"
   ]
  },
  {
   "cell_type": "code",
   "execution_count": null,
   "metadata": {},
   "outputs": [],
   "source": [
    "import pandas as pd\n",
    "print(pd.__version__)"
   ]
  },
  {
   "cell_type": "markdown",
   "metadata": {},
   "source": [
    "### [1.3 Pandas Data Structures](#1.3-pandas-data-structures)\n",
    "<a name=\"1.3-why-pandas\"></a>\n",
    "The two primary data structures of pandas, `Series` (1-dimensional) and `DataFrame` (2-dimensional), handle the vast majority of typical use cases in finance, statistics, social science, and many areas of engineering. \n",
    "\n",
    "For [R](https://www.r-project.org/) users, DataFrame provides everything that [R](https://www.rdocumentation.org/packages/base/versions/3.6.2/topics/data.frame)'s `data.frame` provides and much more.\n",
    "\n",
    "<img src=../images/ue4_series-dataframe.png height=200>\n",
    "\n",
    "#### Series\n",
    "\n",
    "A Series is a `one-dimensional array-like object` containing a sequence of values and an associated array of data labels, called its index. \n",
    "\n",
    "A simple Series is formed from only an array of data:"
   ]
  },
  {
   "cell_type": "code",
   "execution_count": null,
   "metadata": {},
   "outputs": [],
   "source": [
    "series = pd.Series([4, 7, -5, 3])\n",
    "\n",
    "print(series)"
   ]
  },
  {
   "cell_type": "markdown",
   "metadata": {},
   "source": [
    "#### DataFrame\n",
    "\n",
    "The DataFrame represents a rectangular table of data and contains an ordered collection of columns, each of which can be a different value type (numeric, string, boolean, etc.). \n",
    "\n",
    "The DataFrame has both a row and column index; it can be thought of as a dict of Series all sharing the same index.\n",
    "\n",
    "Creating a DataFrame is as simple as passing a dict of objects:"
   ]
  },
  {
   "cell_type": "code",
   "execution_count": null,
   "metadata": {},
   "outputs": [],
   "source": [
    "data = {'state': ['Ohio', 'Ohio', 'Ohio', 'Nevada', 'Nevada', 'Nevada'],\n",
    "        'year': [2000, 2000, 2002, 2001, 2003, 2002],\n",
    "        'pop': [1.5, 1.5, 3.6, 2.4, 2.9, 3.9]}\n",
    "dataframe = pd.DataFrame(data)  \n",
    "\n",
    "dataframe"
   ]
  },
  {
   "cell_type": "markdown",
   "metadata": {},
   "source": [
    "<img src= https://cdn-images-1.medium.com/v2/1*5zJ9tsVIRvxY83GsO8eyOw.png height=500>\n",
    "\n",
    "**Source:** https://medium.com/dunder-data/the-pandas-dataframe-and-series-a7e7a5987492"
   ]
  },
  {
   "cell_type": "markdown",
   "metadata": {},
   "source": [
    "Pandas DataFrames are versatile and powerful, capable of solving a wide array of data manipulation tasks.\n",
    "\n",
    "---"
   ]
  },
  {
   "cell_type": "markdown",
   "metadata": {},
   "source": [
    "## **[2. Data Manipulation with Pandas](#2-data-manipulation-with-pandas)**\n",
    "\n",
    "For the next section we use a dataset from an injection molding experiment. The data is only used to demonstrate other ways for getting a dataframe. A research paper is available that details the experiments undertaken to obtain the data: \n",
    "\n",
    "> Polenta, A.; Tomassini, S.; Falcionelli, N.; Contardo, P.; Dragoni, A.F.; Sernani, P. A Comparison of Machine Learning Techniques for the Quality Classification of Molded Products. Information 2022, 13, 272. https://doi.org/10.3390/info13060272\n",
    "\n",
    "Please download the `csv` data [here](https://github.com/airtlab/machine-learning-for-quality-prediction-in-plastic-injection-molding/blob/master/dataset/data.csv) and save it in your `/data` folder.\n",
    "\n"
   ]
  },
  {
   "cell_type": "markdown",
   "metadata": {},
   "source": [
    "### **[2.1 Data Importing](#2.1-data-importing)**\n",
    "<a name=\"2.1-data-importing\"></a>\n",
    "Pandas supports a wide range of data formats for reading and writing data, making it incredibly versatile for data analysis tasks. \n",
    "\n",
    "You can easily import data from `CSV`, `Excel`, `JSON`, `SQL` databases, and many other formats into Pandas DataFrames. \n",
    "\n",
    "Here's how to import data from a CSV file:"
   ]
  },
  {
   "cell_type": "code",
   "execution_count": null,
   "metadata": {},
   "outputs": [],
   "source": [
    "# Import data with pandas read CSV function\n",
    "df = pd.read_csv('../data/data.csv')\n",
    "\n",
    "# In the next chapters (2.2, 2.3 and 2.4), we are going to use more simple example data.\n",
    "# For the coding challenge (2.5), we will utilize the injection modling dataset. "
   ]
  },
  {
   "cell_type": "markdown",
   "metadata": {},
   "source": [
    "The data import is similar for every format pd.read_dataformat, e.g.:\n",
    "- pd.read_csv\n",
    "- pd.read_json\n",
    "- pd.read_excel\n",
    "- pd.read_html\n",
    "- pd.read_xml\n",
    "- pd.read_sql\n",
    "\n",
    "For more information about data import you can use the official pandas documentaion ([click here](https://pandas.pydata.org/pandas-docs/stable/reference/io.html))."
   ]
  },
  {
   "cell_type": "markdown",
   "metadata": {},
   "source": [
    "### **[2.2 Data Exploration](#2.2-data-exploration)**\n",
    "<a name=\"2.2-data-exploration\"></a>\n",
    "Once you have your data loaded into a DataFrame, Pandas offers several functions to perform initial data exploration. \n",
    "\n",
    "These functions help to understand the structure and content of your data:\n",
    "- name_of_the_dataframe **.head()**\n",
    "- name_of_the_dataframe **.describe()**\n",
    "- name_of_the_dataframe **.dtypes()**\n",
    "- name_of_the_dataframe **.index()**\n",
    "- name_of_the_dataframe **.columns()**"
   ]
  },
  {
   "cell_type": "code",
   "execution_count": null,
   "metadata": {},
   "outputs": [],
   "source": [
    "# Creating a new DataFrame to explore \n",
    "import numpy as np\n",
    "\n",
    "# Create some dummy data using NumPy\n",
    "dummy_data = np.random.randn(20,4)\n",
    "\n",
    "# Create a dataframe with dummy data \n",
    "df = pd.DataFrame(data=dummy_data)\n",
    "\n",
    "df "
   ]
  },
  {
   "cell_type": "markdown",
   "metadata": {},
   "source": [
    "> Why do we see something, even though we did not print the dataframe?\n",
    "\n",
    "When you simply place the name of a DataFrame (or any object for that matter) at the end of a Jupyter notebook cell, Jupyter uses the _repr_html_() method of the DataFrame object to render it as an `HTML table`. This method provides a visually appealing, styled HTML representation of the DataFrame, which includes features like a boxed layout, background shading for the header, and potentially interactive elements like scrollbars for wide or long DataFrames.\n",
    "\n",
    "On the other hand, when you use the `print(df)` statement, the DataFrame is converted to a string representation using the `__str__()` method. This results in a text-based output that looks more like traditional, console-based output. This output is less visually appealing than the HTML representation and lacks the formatting enhancements like background shading and borders.\n",
    "\n",
    "The HTML representation is generally more readable, especially for large DataFrames, as it makes better use of the notebook's capabilities to present data in an interactive environment. However, if you need to share your DataFrame in a text format or prefer the simplicity of the text output for any reason, you might use `print(df)` instead."
   ]
  },
  {
   "cell_type": "code",
   "execution_count": null,
   "metadata": {},
   "outputs": [],
   "source": [
    "# To make the data more interesting, we are going to add three series to df\n",
    "\n",
    "# Create a new Series with categorical values\n",
    "dummy_series_int = pd.Series(np.random.choice([0,1,2], size=20))\n",
    "dummy_series_cat = pd.Series(np.random.choice([\"a\",\"b\",\"c\"], size=20))\n",
    "dummy_series_bool = pd.Series(np.random.choice([True, False], size=20))\n",
    "\n",
    "# Add the Series to the DataFrame\n",
    "df = df.assign(int_col=dummy_series_int, cat_col=dummy_series_cat, bool_col=dummy_series_bool)\n",
    "\n",
    "df"
   ]
  },
  {
   "cell_type": "markdown",
   "metadata": {},
   "source": [
    "The `.assign` method in pandas is a powerful tool for adding new columns to a `DataFrame` in a functional style, meaning it returns a *new* DataFrame without modifying the original one. This method is particularly useful for creating new columns that are derived from existing ones or for adding entirely new information to a DataFrame. You will see more ways to add columns to DataFrames in the next chapters."
   ]
  },
  {
   "cell_type": "markdown",
   "metadata": {},
   "source": [
    "**.head():** Display the first 5 rows of the DataFrame. You can change the number of rows from 5 to *n* with `.head(n)`. With `.head(-n)` every row is displayed except the last *n* rows."
   ]
  },
  {
   "cell_type": "code",
   "execution_count": null,
   "metadata": {},
   "outputs": [],
   "source": [
    "# Display the first 5 rows of the DataFrame\n",
    "df.head()  # Try to change the number of rows"
   ]
  },
  {
   "cell_type": "markdown",
   "metadata": {},
   "source": [
    "**.describe()**: Display the summary statistics of the DataFrame's numeric columns. With the parameter `include='all'` all columns of the input will be included in the output, also non-numeric columns."
   ]
  },
  {
   "cell_type": "code",
   "execution_count": null,
   "metadata": {},
   "outputs": [],
   "source": [
    "# Display the summary statistics of the DataFrame's numeric columns\n",
    "df.describe()  # Try with parameter include='all'"
   ]
  },
  {
   "cell_type": "markdown",
   "metadata": {},
   "source": [
    "**.dtypes():** Display the data types of each column. Columns with mixed types are stored with the 'object' dtype."
   ]
  },
  {
   "cell_type": "code",
   "execution_count": null,
   "metadata": {},
   "outputs": [],
   "source": [
    "# Display the data types of each column\n",
    "df.dtypes"
   ]
  },
  {
   "cell_type": "markdown",
   "metadata": {},
   "source": [
    "In pandas, the data types (dtypes) of columns specify the kind of data each column contains. Understanding these dtypes is crucial for efficient data manipulation and analysis.\n",
    "* The `float64` dtype represents floating-point numbers in pandas, stored using 64 bits of memory. A floating-point number is one that can contain fractions (decimal points), used for more precise calculations or when dealing with real numbers. The `64` in `float64` indicates the precision level of the floating-point data, with 64 bits offering double precision. This is the standard floating-point dtype in pandas and is capable of representing a wide range of decimal values. It's particularly useful for numerical analysis, scientific computations, and any situation where fractional numbers are common.\n",
    "\n",
    "* The `int32` dtype in pandas represents integer numbers, using 32 bits of memory. Unlike floating-point numbers (`float64`), integers are whole numbers without a decimal point. The 32 in int32 indicates that each integer value is stored using 32 bits. This allows for a range of values from `-2,147,483,648` to `2,147,483,647`. The choice of `int32` over, say, `int64`, may be motivated by memory considerations, as `int32` uses half the memory of `int64`. However, it's important to ensure that the data you're working with fits within the `int32` range to avoid overflow errors. In pandas, integer columns are very common for indexing, counts, and any other numerical data that doesn't require a fractional component.\n",
    "\n",
    "* The `object` dtype in pandas is used for columns that contain data of mixed types or non-numeric data. Most commonly, object dtype columns store text data (strings), but they can also hold complex objects like lists, dictionaries, or even other DataFrames if you have a particularly complex dataset. An `object` dtype is essentially a catch-all for columns that do not fit into other specific dtypes like `int64`, `float64`, or `bool`. Because object dtypes can store various types of data, operations on these columns might be less efficient, and performing numerical operations directly on an object column without first converting it to a more specific type can lead to errors or unexpected results.\n",
    "\n",
    "* The `bool` dtype in pandas is used for columns that contain Boolean values: `True` or `False`. It is the pandas equivalent of Python's built-in bool type and represents a binary state. Boolean columns are extremely useful in data filtering operations, where they can be used directly as masks to select subsets of data that meet certain conditions. For example, a bool column might be used to flag certain rows based on whether they meet a specific criterion, such as whether a value in another column exceeds a certain threshold. In memory, `bool` types are very efficient because they only need to represent two possible states.\n",
    "\n",
    "When working with pandas, managing your DataFrame's dtypes is essential for both performance and accuracy. Converting columns to the most appropriate dtypes can significantly speed up data processing and ensure that operations like aggregations, sorting, and mathematical computations are performed correctly."
   ]
  },
  {
   "cell_type": "markdown",
   "metadata": {},
   "source": [
    "**.index()**: Display the index of the DataFrame."
   ]
  },
  {
   "cell_type": "code",
   "execution_count": null,
   "metadata": {},
   "outputs": [],
   "source": [
    "#  Display the index of the DataFrame\n",
    "df.index"
   ]
  },
  {
   "cell_type": "markdown",
   "metadata": {},
   "source": [
    "* RangeIndex: This is a type of index that pandas uses. It's an optimized form of index for cases where the index is equivalent to range(start, stop, step). It's particularly memory-efficient because, instead of storing all index values, it only needs to store the start, stop, and step values.\n",
    "    * `start=0`: This is the starting value of the index. It indicates that the index starts at 0.\n",
    "    * `stop=50`: This is the stopping value of the index, but it's exclusive. That means the actual last index value is one less than this number. So, in this case, the last index would be 49 (since indexing is zero-based).\n",
    "    * `step=1`: This indicates the increment between each index value. A step of 1 means the index values are sequential integers."
   ]
  },
  {
   "cell_type": "code",
   "execution_count": null,
   "metadata": {},
   "outputs": [],
   "source": [
    "# Pandas allows you to create dataframe with any index you like\n",
    "df_idx = pd.DataFrame(data=[[1,2,3], [4,5,6], [7,8,9]], index=[\"A\", \"B\", \"B\"], columns=[\"X\", \"Y\", \"Z\"])\n",
    "df_idx"
   ]
  },
  {
   "cell_type": "markdown",
   "metadata": {},
   "source": [
    "**.columns()**: Display the name of the columns of the DataFrame."
   ]
  },
  {
   "cell_type": "code",
   "execution_count": null,
   "metadata": {},
   "outputs": [],
   "source": [
    "# Display the index of the DataFrame\n",
    "df.columns"
   ]
  },
  {
   "cell_type": "markdown",
   "metadata": {},
   "source": [
    "### **[2.3 Data Indexing](#2.3-data-indexing)**\n",
    "<a name=\"2.3-data-indexing\"></a>\n",
    "Indexing in pandas means simply selecting particular rows and columns of data from a DataFrame. Indexing could mean selecting all the rows and some of the columns, some of the rows and all of the columns, or some of each of the rows and columns. Indexing can also be known as *Subset Selection*.\n",
    "\n",
    "Data Indexing is important to:\n",
    "- Identifies data (i.e. provides metadata) using known indicators, important for analysis, visualization, and interactive console display.\n",
    "- Enables automatic and explicit data alignment.\n",
    "- Allows intuitive getting and setting of subsets of the data set. "
   ]
  },
  {
   "cell_type": "code",
   "execution_count": null,
   "metadata": {},
   "outputs": [],
   "source": [
    "# First, we create a new example dataframe from a dictionary to work with \n",
    "\n",
    "data = {\n",
    "    \"city\": [\"Dortmund\", \"Kassel\", \"Kassel\", \"Dortmund\", \"Kassel\", \"Dortmund\"],\n",
    "    \"population\": [587010, 201585, 191854, 539050, 204202, 591672],\n",
    "    \"year\": [2019, 2019, 2023, 2021, 2022, 2023]\n",
    "}\n",
    "\n",
    "df = pd.DataFrame(data)\n",
    "\n",
    "df"
   ]
  },
  {
   "cell_type": "markdown",
   "metadata": {},
   "source": [
    "#### Simple indexing\n",
    "\n",
    "* **Select columns:** With the name of one selected column or more selected columns as a list."
   ]
  },
  {
   "cell_type": "code",
   "execution_count": null,
   "metadata": {},
   "outputs": [],
   "source": [
    "# Select a column via its name\n",
    "\n",
    "df[\"city\"]"
   ]
  },
  {
   "cell_type": "code",
   "execution_count": null,
   "metadata": {},
   "outputs": [],
   "source": [
    "# Select multiple columns by providing a list \n",
    "df[[\"city\", \"population\"]]"
   ]
  },
  {
   "cell_type": "markdown",
   "metadata": {},
   "source": [
    "#### Simple slicing\n",
    "\n",
    "* **Select rows:** With slicing operation similar to NumPy. \n",
    "    * Use `[:n]` to get the first n rows. \n",
    "    * Use `[n:]` without the first n rows. \n",
    "    * Use `[::n]` every n row."
   ]
  },
  {
   "cell_type": "code",
   "execution_count": null,
   "metadata": {},
   "outputs": [],
   "source": [
    "# Get the first three rows\n",
    "df[:3]"
   ]
  },
  {
   "cell_type": "code",
   "execution_count": null,
   "metadata": {},
   "outputs": [],
   "source": [
    "# Get the last three rows\n",
    "df[-3:]"
   ]
  },
  {
   "cell_type": "code",
   "execution_count": null,
   "metadata": {},
   "outputs": [],
   "source": [
    "# Get every third row\n",
    "df[::2]"
   ]
  },
  {
   "cell_type": "markdown",
   "metadata": {},
   "source": [
    "#### Label-based selection with `loc`\n",
    "\n",
    "The `loc` method is used for selecting rows and columns based on their labels. It allows for both, selecting specific rows and columns by their labels and slicing ranges of rows or columns."
   ]
  },
  {
   "cell_type": "code",
   "execution_count": null,
   "metadata": {},
   "outputs": [],
   "source": [
    "# Select a single row by index label\n",
    "df.loc[0]"
   ]
  },
  {
   "cell_type": "code",
   "execution_count": null,
   "metadata": {},
   "outputs": [],
   "source": [
    "# Select multiple rows by index labels\n",
    "df.loc[[3, 4]]"
   ]
  },
  {
   "cell_type": "code",
   "execution_count": null,
   "metadata": {},
   "outputs": [],
   "source": [
    "# Select rows by index label range\n",
    "df.loc[2:5]"
   ]
  },
  {
   "cell_type": "code",
   "execution_count": null,
   "metadata": {},
   "outputs": [],
   "source": [
    "# Select specific rows and columns\n",
    "df.loc[[2, 3], ['city', 'population']]\n"
   ]
  },
  {
   "cell_type": "markdown",
   "metadata": {},
   "source": [
    "#### Positional Indexing with `iloc`\n",
    "\n",
    "The `iloc` method is used for selecting rows and columns based on their integer positions. The positions are taken to be integer indices, so they start at `0`. It’s similar to Python *list slicing*, and as such, it’s exclusive of the endpoint."
   ]
  },
  {
   "cell_type": "code",
   "execution_count": null,
   "metadata": {},
   "outputs": [],
   "source": [
    "# Select a single row by position\n",
    "df.iloc[0]"
   ]
  },
  {
   "cell_type": "code",
   "execution_count": null,
   "metadata": {},
   "outputs": [],
   "source": [
    "# Select multiple rows by position\n",
    "df.iloc[1:5]  # Selects rows 0 to 4"
   ]
  },
  {
   "cell_type": "code",
   "execution_count": null,
   "metadata": {},
   "outputs": [],
   "source": [
    "# Select specific rows and columns by position\n",
    "df.iloc[[0, 2, 3], [1, 2]]  # Rows 0, 2, 3 and columns 1, 3"
   ]
  },
  {
   "cell_type": "code",
   "execution_count": null,
   "metadata": {},
   "outputs": [],
   "source": [
    "# Using a boolean array\n",
    "df.iloc[[True, False, True, False, True, True]]"
   ]
  },
  {
   "cell_type": "markdown",
   "metadata": {},
   "source": [
    "**Summary:** In pandas, both `.loc[]` and `.iloc[]` are used for indexing and selecting data from DataFrames, but they work in fundamentally different ways due to their indexing criteria: labels for `.loc[]` and integer positions for `.iloc[]`. \n",
    "\n",
    "Understanding the difference between `.loc[]` and `.iloc[]` is crucial for correctly accessing data within pandas objects.\n",
    "\n",
    "* Label-based Indexing: `.loc[]` is used to select rows and columns by their labels.\n",
    "* Positional Indexing: `.iloc[]` is used to select rows and columns by their integer position (i.e., their physical location in the DataFrame)."
   ]
  },
  {
   "cell_type": "markdown",
   "metadata": {},
   "source": [
    "### **[2.4 Data Cleaning](#2.4-data-cleaning)**\n",
    "<a name=\"2.4-data-cleaning\"></a>\n",
    "Data cleaning is a crucial step before the actual analysis. \n",
    "\n",
    "Pandas provides several methods to deal with duplicate data, missing data and data transformation:"
   ]
  },
  {
   "cell_type": "code",
   "execution_count": null,
   "metadata": {},
   "outputs": [],
   "source": [
    "# First, we create a new example dataframe from a dictionary to work with \n",
    "\n",
    "data = {\n",
    "    \"city\": [\"Dortmund\", \"Kassel\", \"Dortmund\", \"Kassel\", \"Dortmund\", \"Kassel\", \"Kassel\", \"Dortmund\", \"Kassel\", \"Dortmund\"],\n",
    "    \"population\": [587010, 201585, None, None, 591672, 191854, 230011, 539050, 204202, 591672],\n",
    "    \"year\": [2019, 2019,2020, 2020, 2023, 2023, 2023, 2021, 2022, 2023]\n",
    "}\n",
    "\n",
    "df = pd.DataFrame(data)\n",
    "\n",
    "df"
   ]
  },
  {
   "cell_type": "markdown",
   "metadata": {},
   "source": [
    "#### Remove duplicate values\n",
    "\n",
    "Removing duplicates from a DataFrame is an essential step in data cleaning to ensure the accuracy of your data analysis. Pandas provides two main functions to handle duplicate data: `duplicated()` and `drop_duplicates()`. Understanding how to use these functions allows for effective identification and removal of duplicate rows in your dataset.\n",
    "\n",
    "* The `duplicated()` function is used to identify duplicate rows in a DataFrame. By default, it returns a *boolean* Series indicating whether each row is a duplicate of a row encountered earlier in the DataFrame. You can specify how to consider duplicates with the `keep` parameter.\n"
   ]
  },
  {
   "cell_type": "code",
   "execution_count": null,
   "metadata": {},
   "outputs": [],
   "source": [
    "# Find duplicates\n",
    "df_copy = df.copy()\n",
    "df_duplicates = df.duplicated()\n",
    "\n",
    "df_duplicates"
   ]
  },
  {
   "cell_type": "markdown",
   "metadata": {},
   "source": [
    "* The `drop_duplicates()` function removes duplicate rows from a DataFrame. Like `duplicated()`, it offers flexibility in defining what constitutes a duplicate."
   ]
  },
  {
   "cell_type": "code",
   "execution_count": null,
   "metadata": {},
   "outputs": [],
   "source": [
    "# Removing duplicate entries\n",
    "df_raw = df.copy()\n",
    "df_copy = df.drop_duplicates()\n",
    "\n",
    "df_copy"
   ]
  },
  {
   "cell_type": "markdown",
   "metadata": {},
   "source": [
    "#### Handle missing values\n",
    "\n",
    "Handling missing values is a critical aspect of data cleaning that directly impacts the *quality of data analysis*. Missing data can arise for various reasons, such as errors in data collection, processing, or transmission. \n",
    "\n",
    "**Pandas** provides several methods to deal with missing values effectively: `isnull()`, `notnull()`, `dropna()`, and `fillna()`. Each of these methods plays a specific role in identifying, removing, or replacing missing values in a `DataFrame` or `Series`."
   ]
  },
  {
   "cell_type": "markdown",
   "metadata": {},
   "source": [
    "* Using `isnull()` helps to too identify missing values in a DataFrame or Series. It returns a boolean same-sized object indicating if the elements are `NaN` or `None`."
   ]
  },
  {
   "cell_type": "code",
   "execution_count": null,
   "metadata": {},
   "outputs": [],
   "source": [
    "# Example use of isnull()\n",
    "df.isnull()"
   ]
  },
  {
   "cell_type": "markdown",
   "metadata": {},
   "source": [
    "* `notnull()` can be considered the oposite of `isnull()`, since it identifies non-missing values. It also returns a boolean object of the same size, but indicates if the elements are **not** `NaN` or `None`."
   ]
  },
  {
   "cell_type": "code",
   "execution_count": null,
   "metadata": {},
   "outputs": [],
   "source": [
    "# Example use of notnull()\n",
    "df.notnull()"
   ]
  },
  {
   "cell_type": "markdown",
   "metadata": {},
   "source": [
    "* You can use `dropna()` to remove missing values from a `DataFrame` or a `Series`. \n",
    "    * The parameter `axis` allows you to specifies whether *rows* (`0` or `'index'`) or *columns* (`1` or `'columns'`) should be dropped.\n"
   ]
  },
  {
   "cell_type": "code",
   "execution_count": null,
   "metadata": {},
   "outputs": [],
   "source": [
    "# Dropping the rows\n",
    "df_copy = df_copy.dropna(axis=0)"
   ]
  },
  {
   "cell_type": "code",
   "execution_count": null,
   "metadata": {},
   "outputs": [],
   "source": [
    "# Dropping the columns\n",
    "df_copy = df.copy()\n",
    "df_copy.dropna(axis=1)"
   ]
  },
  {
   "cell_type": "markdown",
   "metadata": {},
   "source": [
    "* You can use `fillna()`to replaces missing values with a specified value, or by using an imputation method such as `mean`, `median`, or `mode`."
   ]
  },
  {
   "cell_type": "code",
   "execution_count": null,
   "metadata": {},
   "outputs": [],
   "source": [
    "# Filling NaN with a string\n",
    "df_copy = df.copy()\n",
    "df_copy.fillna(value=\"Value to fill\")"
   ]
  },
  {
   "cell_type": "code",
   "execution_count": null,
   "metadata": {},
   "outputs": [],
   "source": [
    "# Filling NaNs using a imputation method\n",
    "df_copy = df.copy()\n",
    "df_copy.fillna(value={\"population\": df_copy[\"population\"].mean()})"
   ]
  },
  {
   "cell_type": "markdown",
   "metadata": {},
   "source": [
    "#### Working with Data Types\n",
    "\n",
    "Converting data types in a pandas DataFrame is a common task during the data cleaning process, ensuring that each column has the most appropriate type for data analysis or machine learning models. This process involves first inspecting the current data types of each column and then using the `astype()` method to explicitly convert columns to different types."
   ]
  },
  {
   "cell_type": "markdown",
   "metadata": {},
   "source": [
    "* Before converting data types, it's crucial to understand the current data types of the columns in your DataFrame. Pandas provides the `dtypes` attribute for this purpose."
   ]
  },
  {
   "cell_type": "code",
   "execution_count": null,
   "metadata": {},
   "outputs": [],
   "source": [
    "# Inspecting Data Types with dtypes\n",
    "df.dtypes"
   ]
  },
  {
   "cell_type": "markdown",
   "metadata": {},
   "source": [
    "* Once you've identified the columns whose data types need to be converted, you can use the `astype()` method to perform the conversion. This method is versatile, allowing for the conversion to most pandas data types and even custom types."
   ]
  },
  {
   "cell_type": "code",
   "execution_count": null,
   "metadata": {},
   "outputs": [],
   "source": [
    "# Converting Data Types with astype()\n",
    "df_copy = df.copy()\n",
    "df_copy = df_copy.fillna(42)\n",
    "df_copy = df_copy.astype({'population': 'int32', 'year': 'category'})\n",
    "\n",
    "df_copy.dtypes"
   ]
  },
  {
   "cell_type": "markdown",
   "metadata": {},
   "source": [
    "In this example, the population column is converted to a `32-bit` integer to potentially reduce memory usage, and the `year` column is converted to a category type, which is often useful for columns with a relatively small number of unique values and can lead to performance improvements in certain operations."
   ]
  },
  {
   "cell_type": "markdown",
   "metadata": {},
   "source": [
    "### **[2.5 Coding Challenge](#2.5-coding-challenge)**\n",
    "\n",
    "For this coding challenge, you'll be working with a dataset of your choice. Your task is to import the data into a Pandas DataFrame, explore the data to understand its structure, clean the data as necessary, and perform some basic analysis. This exercise will test your ability to manipulate and analyze data using Pandas.\n",
    "\n",
    "Challenge objectives:\n",
    "\n",
    "1. Import a dataset into a Pandas DataFrame.\n",
    "2. Use DataFrame methods to explore the data (e.g., `head()`, `describe()`, `dtypes`).\n",
    "3. Clean the dataset by handling missing values and duplicates.\n",
    "\n",
    "To give an idea of how the task can be solved you can find an example with analysing a dataset about \"Machine Learning for Quality Prediction in Plastic Injection Molding\". The real-world dataset was collected during the production process and is used for a \"systematic comparison of ML techniques to predict the quality classes of plastic molded products\" \n",
    "\n",
    "> Polenta, A.; Tomassini, S.; Falcionelli, N.; Contardo, P.; Dragoni, A.F.; Sernani, P. A Comparison of Machine Learning Techniques for the Quality Classification of Molded Products. Information 2022, 13, 272. https://doi.org/10.3390/info13060272\n",
    "\n",
    "\n",
    "Again, you can download the dataset and get more information [here](https://github.com/airtlab/machine-learning-for-quality-prediction-in-plastic-injection-molding).\n"
   ]
  },
  {
   "cell_type": "markdown",
   "metadata": {},
   "source": [
    "**Step 1: Import a dataset into a Pandas DataFrame.**\n",
    "- Load the data using pandas import to beginn the analysis.\n"
   ]
  },
  {
   "cell_type": "code",
   "execution_count": 1,
   "metadata": {},
   "outputs": [
    {
     "data": {
      "text/html": [
       "<div>\n",
       "<style scoped>\n",
       "    .dataframe tbody tr th:only-of-type {\n",
       "        vertical-align: middle;\n",
       "    }\n",
       "\n",
       "    .dataframe tbody tr th {\n",
       "        vertical-align: top;\n",
       "    }\n",
       "\n",
       "    .dataframe thead th {\n",
       "        text-align: right;\n",
       "    }\n",
       "</style>\n",
       "<table border=\"1\" class=\"dataframe\">\n",
       "  <thead>\n",
       "    <tr style=\"text-align: right;\">\n",
       "      <th></th>\n",
       "      <th>Melt temperature</th>\n",
       "      <th>Mold temperature</th>\n",
       "      <th>time_to_fill</th>\n",
       "      <th>ZDx - Plasticizing time</th>\n",
       "      <th>ZUx - Cycle time</th>\n",
       "      <th>SKx - Closing force</th>\n",
       "      <th>SKs - Clamping force peak value</th>\n",
       "      <th>Ms - Torque peak value current cycle</th>\n",
       "      <th>Mm - Torque mean value current cycle</th>\n",
       "      <th>APSs - Specific back pressure peak value</th>\n",
       "      <th>APVs - Specific injection pressure peak value</th>\n",
       "      <th>CPn - Screw position at the end of hold pressure</th>\n",
       "      <th>SVo - Shot volume</th>\n",
       "      <th>quality</th>\n",
       "    </tr>\n",
       "  </thead>\n",
       "  <tbody>\n",
       "    <tr>\n",
       "      <th>0</th>\n",
       "      <td>106.476184</td>\n",
       "      <td>80.617</td>\n",
       "      <td>7.124</td>\n",
       "      <td>3.16</td>\n",
       "      <td>74.83</td>\n",
       "      <td>886.900000</td>\n",
       "      <td>904.000000</td>\n",
       "      <td>116.9</td>\n",
       "      <td>104.300000</td>\n",
       "      <td>145.6</td>\n",
       "      <td>922.3</td>\n",
       "      <td>8.82</td>\n",
       "      <td>18.73</td>\n",
       "      <td>1.0</td>\n",
       "    </tr>\n",
       "    <tr>\n",
       "      <th>1</th>\n",
       "      <td>105.505000</td>\n",
       "      <td>81.362</td>\n",
       "      <td>6.968</td>\n",
       "      <td>3.16</td>\n",
       "      <td>74.81</td>\n",
       "      <td>919.409791</td>\n",
       "      <td>935.900000</td>\n",
       "      <td>113.9</td>\n",
       "      <td>104.900000</td>\n",
       "      <td>145.6</td>\n",
       "      <td>930.5</td>\n",
       "      <td>8.59</td>\n",
       "      <td>18.73</td>\n",
       "      <td>1.0</td>\n",
       "    </tr>\n",
       "    <tr>\n",
       "      <th>2</th>\n",
       "      <td>105.505000</td>\n",
       "      <td>80.411</td>\n",
       "      <td>6.864</td>\n",
       "      <td>4.08</td>\n",
       "      <td>74.81</td>\n",
       "      <td>908.600000</td>\n",
       "      <td>902.344823</td>\n",
       "      <td>120.5</td>\n",
       "      <td>106.503496</td>\n",
       "      <td>147.0</td>\n",
       "      <td>933.1</td>\n",
       "      <td>8.80</td>\n",
       "      <td>18.98</td>\n",
       "      <td>1.0</td>\n",
       "    </tr>\n",
       "    <tr>\n",
       "      <th>3</th>\n",
       "      <td>106.474827</td>\n",
       "      <td>81.162</td>\n",
       "      <td>6.864</td>\n",
       "      <td>3.16</td>\n",
       "      <td>74.82</td>\n",
       "      <td>879.410871</td>\n",
       "      <td>902.033653</td>\n",
       "      <td>127.3</td>\n",
       "      <td>104.900000</td>\n",
       "      <td>145.6</td>\n",
       "      <td>922.3</td>\n",
       "      <td>8.85</td>\n",
       "      <td>18.73</td>\n",
       "      <td>1.0</td>\n",
       "    </tr>\n",
       "    <tr>\n",
       "      <th>4</th>\n",
       "      <td>106.466140</td>\n",
       "      <td>81.471</td>\n",
       "      <td>6.864</td>\n",
       "      <td>3.22</td>\n",
       "      <td>74.83</td>\n",
       "      <td>885.644260</td>\n",
       "      <td>902.821269</td>\n",
       "      <td>120.5</td>\n",
       "      <td>106.700000</td>\n",
       "      <td>145.6</td>\n",
       "      <td>917.5</td>\n",
       "      <td>8.80</td>\n",
       "      <td>18.75</td>\n",
       "      <td>1.0</td>\n",
       "    </tr>\n",
       "  </tbody>\n",
       "</table>\n",
       "</div>"
      ],
      "text/plain": [
       "   Melt temperature  Mold temperature  time_to_fill  ZDx - Plasticizing time  \\\n",
       "0        106.476184            80.617         7.124                     3.16   \n",
       "1        105.505000            81.362         6.968                     3.16   \n",
       "2        105.505000            80.411         6.864                     4.08   \n",
       "3        106.474827            81.162         6.864                     3.16   \n",
       "4        106.466140            81.471         6.864                     3.22   \n",
       "\n",
       "   ZUx - Cycle time  SKx - Closing force  SKs - Clamping force peak value  \\\n",
       "0             74.83           886.900000                       904.000000   \n",
       "1             74.81           919.409791                       935.900000   \n",
       "2             74.81           908.600000                       902.344823   \n",
       "3             74.82           879.410871                       902.033653   \n",
       "4             74.83           885.644260                       902.821269   \n",
       "\n",
       "   Ms - Torque peak value current cycle  Mm - Torque mean value current cycle  \\\n",
       "0                                 116.9                            104.300000   \n",
       "1                                 113.9                            104.900000   \n",
       "2                                 120.5                            106.503496   \n",
       "3                                 127.3                            104.900000   \n",
       "4                                 120.5                            106.700000   \n",
       "\n",
       "   APSs - Specific back pressure peak value  \\\n",
       "0                                     145.6   \n",
       "1                                     145.6   \n",
       "2                                     147.0   \n",
       "3                                     145.6   \n",
       "4                                     145.6   \n",
       "\n",
       "   APVs - Specific injection pressure peak value  \\\n",
       "0                                          922.3   \n",
       "1                                          930.5   \n",
       "2                                          933.1   \n",
       "3                                          922.3   \n",
       "4                                          917.5   \n",
       "\n",
       "   CPn - Screw position at the end of hold pressure  SVo - Shot volume  \\\n",
       "0                                              8.82              18.73   \n",
       "1                                              8.59              18.73   \n",
       "2                                              8.80              18.98   \n",
       "3                                              8.85              18.73   \n",
       "4                                              8.80              18.75   \n",
       "\n",
       "   quality  \n",
       "0      1.0  \n",
       "1      1.0  \n",
       "2      1.0  \n",
       "3      1.0  \n",
       "4      1.0  "
      ]
     },
     "execution_count": 1,
     "metadata": {},
     "output_type": "execute_result"
    }
   ],
   "source": [
    "# Step 1: Import a dataset into a Pandas DataFrame\n",
    "\n",
    "# Sample code template\n",
    "import pandas as pd\n",
    "# Import the dataset\n",
    "df = pd.read_csv('../data/data.csv', delimiter=\";\")\n",
    "\n",
    "df.head()"
   ]
  },
  {
   "cell_type": "markdown",
   "metadata": {},
   "source": [
    "**Step 2: Use DataFrame methods to explore the data**\n",
    "- Apply head(), describe() and dtypes()"
   ]
  },
  {
   "cell_type": "code",
   "execution_count": 2,
   "metadata": {
    "scrolled": true
   },
   "outputs": [
    {
     "data": {
      "text/plain": [
       "(1451, 14)"
      ]
     },
     "execution_count": 2,
     "metadata": {},
     "output_type": "execute_result"
    }
   ],
   "source": [
    "# Step 2: Use DataFrame methods to explore the data\n",
    "\n",
    "df.shape"
   ]
  },
  {
   "cell_type": "code",
   "execution_count": null,
   "metadata": {},
   "outputs": [],
   "source": [
    "df.head()"
   ]
  },
  {
   "cell_type": "code",
   "execution_count": 3,
   "metadata": {},
   "outputs": [
    {
     "data": {
      "text/html": [
       "<div>\n",
       "<style scoped>\n",
       "    .dataframe tbody tr th:only-of-type {\n",
       "        vertical-align: middle;\n",
       "    }\n",
       "\n",
       "    .dataframe tbody tr th {\n",
       "        vertical-align: top;\n",
       "    }\n",
       "\n",
       "    .dataframe thead th {\n",
       "        text-align: right;\n",
       "    }\n",
       "</style>\n",
       "<table border=\"1\" class=\"dataframe\">\n",
       "  <thead>\n",
       "    <tr style=\"text-align: right;\">\n",
       "      <th></th>\n",
       "      <th>Melt temperature</th>\n",
       "      <th>Mold temperature</th>\n",
       "      <th>time_to_fill</th>\n",
       "      <th>ZDx - Plasticizing time</th>\n",
       "      <th>ZUx - Cycle time</th>\n",
       "      <th>SKx - Closing force</th>\n",
       "      <th>SKs - Clamping force peak value</th>\n",
       "      <th>Ms - Torque peak value current cycle</th>\n",
       "      <th>Mm - Torque mean value current cycle</th>\n",
       "      <th>APSs - Specific back pressure peak value</th>\n",
       "      <th>APVs - Specific injection pressure peak value</th>\n",
       "      <th>CPn - Screw position at the end of hold pressure</th>\n",
       "      <th>SVo - Shot volume</th>\n",
       "      <th>quality</th>\n",
       "    </tr>\n",
       "  </thead>\n",
       "  <tbody>\n",
       "    <tr>\n",
       "      <th>count</th>\n",
       "      <td>1451.000000</td>\n",
       "      <td>1451.000000</td>\n",
       "      <td>1451.000000</td>\n",
       "      <td>1451.000000</td>\n",
       "      <td>1451.000000</td>\n",
       "      <td>1451.000000</td>\n",
       "      <td>1451.000000</td>\n",
       "      <td>1451.000000</td>\n",
       "      <td>1451.000000</td>\n",
       "      <td>1451.000000</td>\n",
       "      <td>1451.000000</td>\n",
       "      <td>1451.000000</td>\n",
       "      <td>1451.000000</td>\n",
       "      <td>1451.000000</td>\n",
       "    </tr>\n",
       "    <tr>\n",
       "      <th>mean</th>\n",
       "      <td>106.892040</td>\n",
       "      <td>81.326023</td>\n",
       "      <td>7.459043</td>\n",
       "      <td>3.234173</td>\n",
       "      <td>75.218794</td>\n",
       "      <td>901.974834</td>\n",
       "      <td>919.351778</td>\n",
       "      <td>116.716747</td>\n",
       "      <td>104.163904</td>\n",
       "      <td>146.230048</td>\n",
       "      <td>900.972846</td>\n",
       "      <td>8.808863</td>\n",
       "      <td>18.756285</td>\n",
       "      <td>2.461751</td>\n",
       "    </tr>\n",
       "    <tr>\n",
       "      <th>std</th>\n",
       "      <td>5.615773</td>\n",
       "      <td>0.428813</td>\n",
       "      <td>1.688106</td>\n",
       "      <td>0.343230</td>\n",
       "      <td>0.432761</td>\n",
       "      <td>11.098192</td>\n",
       "      <td>10.780023</td>\n",
       "      <td>5.029085</td>\n",
       "      <td>4.802195</td>\n",
       "      <td>0.804894</td>\n",
       "      <td>25.519215</td>\n",
       "      <td>0.097238</td>\n",
       "      <td>0.095528</td>\n",
       "      <td>1.123611</td>\n",
       "    </tr>\n",
       "    <tr>\n",
       "      <th>min</th>\n",
       "      <td>81.747000</td>\n",
       "      <td>78.409000</td>\n",
       "      <td>6.084000</td>\n",
       "      <td>2.780000</td>\n",
       "      <td>74.780000</td>\n",
       "      <td>876.700000</td>\n",
       "      <td>894.800000</td>\n",
       "      <td>94.200000</td>\n",
       "      <td>76.500000</td>\n",
       "      <td>144.800000</td>\n",
       "      <td>780.500000</td>\n",
       "      <td>8.330000</td>\n",
       "      <td>18.510000</td>\n",
       "      <td>1.000000</td>\n",
       "    </tr>\n",
       "    <tr>\n",
       "      <th>25%</th>\n",
       "      <td>105.914500</td>\n",
       "      <td>81.123500</td>\n",
       "      <td>6.292000</td>\n",
       "      <td>3.000000</td>\n",
       "      <td>74.820000</td>\n",
       "      <td>893.600000</td>\n",
       "      <td>914.400000</td>\n",
       "      <td>114.200000</td>\n",
       "      <td>103.550000</td>\n",
       "      <td>145.600000</td>\n",
       "      <td>886.650000</td>\n",
       "      <td>8.770000</td>\n",
       "      <td>18.710000</td>\n",
       "      <td>1.000000</td>\n",
       "    </tr>\n",
       "    <tr>\n",
       "      <th>50%</th>\n",
       "      <td>106.089000</td>\n",
       "      <td>81.327000</td>\n",
       "      <td>6.968000</td>\n",
       "      <td>3.192600</td>\n",
       "      <td>74.830000</td>\n",
       "      <td>902.400000</td>\n",
       "      <td>918.800000</td>\n",
       "      <td>116.900000</td>\n",
       "      <td>105.200000</td>\n",
       "      <td>146.100000</td>\n",
       "      <td>906.800000</td>\n",
       "      <td>8.820000</td>\n",
       "      <td>18.750000</td>\n",
       "      <td>2.000000</td>\n",
       "    </tr>\n",
       "    <tr>\n",
       "      <th>75%</th>\n",
       "      <td>106.263000</td>\n",
       "      <td>81.441000</td>\n",
       "      <td>7.124000</td>\n",
       "      <td>3.290000</td>\n",
       "      <td>75.650000</td>\n",
       "      <td>909.400000</td>\n",
       "      <td>926.300000</td>\n",
       "      <td>120.200000</td>\n",
       "      <td>106.531415</td>\n",
       "      <td>146.700000</td>\n",
       "      <td>918.900000</td>\n",
       "      <td>8.850000</td>\n",
       "      <td>18.790000</td>\n",
       "      <td>4.000000</td>\n",
       "    </tr>\n",
       "    <tr>\n",
       "      <th>max</th>\n",
       "      <td>155.032000</td>\n",
       "      <td>82.159000</td>\n",
       "      <td>11.232000</td>\n",
       "      <td>6.610000</td>\n",
       "      <td>75.790000</td>\n",
       "      <td>930.600000</td>\n",
       "      <td>946.500000</td>\n",
       "      <td>130.300000</td>\n",
       "      <td>114.900000</td>\n",
       "      <td>150.500000</td>\n",
       "      <td>943.000000</td>\n",
       "      <td>9.060000</td>\n",
       "      <td>19.230000</td>\n",
       "      <td>4.000000</td>\n",
       "    </tr>\n",
       "  </tbody>\n",
       "</table>\n",
       "</div>"
      ],
      "text/plain": [
       "       Melt temperature  Mold temperature  time_to_fill  \\\n",
       "count       1451.000000       1451.000000   1451.000000   \n",
       "mean         106.892040         81.326023      7.459043   \n",
       "std            5.615773          0.428813      1.688106   \n",
       "min           81.747000         78.409000      6.084000   \n",
       "25%          105.914500         81.123500      6.292000   \n",
       "50%          106.089000         81.327000      6.968000   \n",
       "75%          106.263000         81.441000      7.124000   \n",
       "max          155.032000         82.159000     11.232000   \n",
       "\n",
       "       ZDx - Plasticizing time  ZUx - Cycle time  SKx - Closing force  \\\n",
       "count              1451.000000       1451.000000          1451.000000   \n",
       "mean                  3.234173         75.218794           901.974834   \n",
       "std                   0.343230          0.432761            11.098192   \n",
       "min                   2.780000         74.780000           876.700000   \n",
       "25%                   3.000000         74.820000           893.600000   \n",
       "50%                   3.192600         74.830000           902.400000   \n",
       "75%                   3.290000         75.650000           909.400000   \n",
       "max                   6.610000         75.790000           930.600000   \n",
       "\n",
       "       SKs - Clamping force peak value  Ms - Torque peak value current cycle  \\\n",
       "count                      1451.000000                           1451.000000   \n",
       "mean                        919.351778                            116.716747   \n",
       "std                          10.780023                              5.029085   \n",
       "min                         894.800000                             94.200000   \n",
       "25%                         914.400000                            114.200000   \n",
       "50%                         918.800000                            116.900000   \n",
       "75%                         926.300000                            120.200000   \n",
       "max                         946.500000                            130.300000   \n",
       "\n",
       "       Mm - Torque mean value current cycle  \\\n",
       "count                           1451.000000   \n",
       "mean                             104.163904   \n",
       "std                                4.802195   \n",
       "min                               76.500000   \n",
       "25%                              103.550000   \n",
       "50%                              105.200000   \n",
       "75%                              106.531415   \n",
       "max                              114.900000   \n",
       "\n",
       "       APSs - Specific back pressure peak value  \\\n",
       "count                               1451.000000   \n",
       "mean                                 146.230048   \n",
       "std                                    0.804894   \n",
       "min                                  144.800000   \n",
       "25%                                  145.600000   \n",
       "50%                                  146.100000   \n",
       "75%                                  146.700000   \n",
       "max                                  150.500000   \n",
       "\n",
       "       APVs - Specific injection pressure peak value  \\\n",
       "count                                    1451.000000   \n",
       "mean                                      900.972846   \n",
       "std                                        25.519215   \n",
       "min                                       780.500000   \n",
       "25%                                       886.650000   \n",
       "50%                                       906.800000   \n",
       "75%                                       918.900000   \n",
       "max                                       943.000000   \n",
       "\n",
       "       CPn - Screw position at the end of hold pressure  SVo - Shot volume  \\\n",
       "count                                       1451.000000        1451.000000   \n",
       "mean                                           8.808863          18.756285   \n",
       "std                                            0.097238           0.095528   \n",
       "min                                            8.330000          18.510000   \n",
       "25%                                            8.770000          18.710000   \n",
       "50%                                            8.820000          18.750000   \n",
       "75%                                            8.850000          18.790000   \n",
       "max                                            9.060000          19.230000   \n",
       "\n",
       "           quality  \n",
       "count  1451.000000  \n",
       "mean      2.461751  \n",
       "std       1.123611  \n",
       "min       1.000000  \n",
       "25%       1.000000  \n",
       "50%       2.000000  \n",
       "75%       4.000000  \n",
       "max       4.000000  "
      ]
     },
     "execution_count": 3,
     "metadata": {},
     "output_type": "execute_result"
    }
   ],
   "source": [
    "df.describe()"
   ]
  },
  {
   "cell_type": "code",
   "execution_count": 4,
   "metadata": {},
   "outputs": [
    {
     "data": {
      "text/plain": [
       "Melt temperature                                    float64\n",
       "Mold temperature                                    float64\n",
       "time_to_fill                                        float64\n",
       "ZDx - Plasticizing time                             float64\n",
       "ZUx - Cycle time                                    float64\n",
       "SKx - Closing force                                 float64\n",
       "SKs - Clamping force peak value                     float64\n",
       "Ms - Torque peak value current cycle                float64\n",
       "Mm - Torque mean value current cycle                float64\n",
       "APSs - Specific back pressure peak value            float64\n",
       "APVs - Specific injection pressure peak value       float64\n",
       "CPn - Screw position at the end of hold pressure    float64\n",
       "SVo - Shot volume                                   float64\n",
       "quality                                             float64\n",
       "dtype: object"
      ]
     },
     "execution_count": 4,
     "metadata": {},
     "output_type": "execute_result"
    }
   ],
   "source": [
    "df.dtypes"
   ]
  },
  {
   "cell_type": "markdown",
   "metadata": {},
   "source": [
    "**Step 3: Clean the dataset**\n",
    "- by handling missing values \n",
    "- by handling duplicate values\n",
    "- by changing the datatype"
   ]
  },
  {
   "cell_type": "code",
   "execution_count": null,
   "metadata": {},
   "outputs": [],
   "source": [
    "# Step 3: Clean the dataset\n",
    "\n",
    "# Find NaN\n",
    "df.isna().any()\n"
   ]
  },
  {
   "cell_type": "code",
   "execution_count": null,
   "metadata": {},
   "outputs": [],
   "source": [
    "# Find duplicates\n",
    "df.duplicated().any()"
   ]
  },
  {
   "cell_type": "code",
   "execution_count": null,
   "metadata": {},
   "outputs": [],
   "source": [
    "# Change the data type to 32-bit floats\n",
    "df = df.astype(\"Float32\")\n",
    "\n",
    "df.dtypes"
   ]
  },
  {
   "cell_type": "markdown",
   "metadata": {},
   "source": [
    "[--> Back to Outline](#course-outline)\n",
    "\n",
    "---"
   ]
  },
  {
   "cell_type": "markdown",
   "metadata": {},
   "source": [
    "## **[3. Data Analysis and Aggregation](#3-data-analysis-and-aggregation)**\n"
   ]
  },
  {
   "cell_type": "code",
   "execution_count": 5,
   "metadata": {},
   "outputs": [
    {
     "data": {
      "text/html": [
       "<div>\n",
       "<style scoped>\n",
       "    .dataframe tbody tr th:only-of-type {\n",
       "        vertical-align: middle;\n",
       "    }\n",
       "\n",
       "    .dataframe tbody tr th {\n",
       "        vertical-align: top;\n",
       "    }\n",
       "\n",
       "    .dataframe thead th {\n",
       "        text-align: right;\n",
       "    }\n",
       "</style>\n",
       "<table border=\"1\" class=\"dataframe\">\n",
       "  <thead>\n",
       "    <tr style=\"text-align: right;\">\n",
       "      <th></th>\n",
       "      <th>city</th>\n",
       "      <th>population</th>\n",
       "      <th>year</th>\n",
       "    </tr>\n",
       "  </thead>\n",
       "  <tbody>\n",
       "    <tr>\n",
       "      <th>0</th>\n",
       "      <td>Dortmund</td>\n",
       "      <td>587010.0</td>\n",
       "      <td>2019</td>\n",
       "    </tr>\n",
       "    <tr>\n",
       "      <th>1</th>\n",
       "      <td>Kassel</td>\n",
       "      <td>201585.0</td>\n",
       "      <td>2019</td>\n",
       "    </tr>\n",
       "    <tr>\n",
       "      <th>2</th>\n",
       "      <td>Dortmund</td>\n",
       "      <td>NaN</td>\n",
       "      <td>2020</td>\n",
       "    </tr>\n",
       "    <tr>\n",
       "      <th>3</th>\n",
       "      <td>Kassel</td>\n",
       "      <td>NaN</td>\n",
       "      <td>2020</td>\n",
       "    </tr>\n",
       "    <tr>\n",
       "      <th>4</th>\n",
       "      <td>Dortmund</td>\n",
       "      <td>591672.0</td>\n",
       "      <td>2023</td>\n",
       "    </tr>\n",
       "    <tr>\n",
       "      <th>5</th>\n",
       "      <td>Kassel</td>\n",
       "      <td>191854.0</td>\n",
       "      <td>2023</td>\n",
       "    </tr>\n",
       "    <tr>\n",
       "      <th>6</th>\n",
       "      <td>Kassel</td>\n",
       "      <td>230011.0</td>\n",
       "      <td>2023</td>\n",
       "    </tr>\n",
       "    <tr>\n",
       "      <th>7</th>\n",
       "      <td>Dortmund</td>\n",
       "      <td>539050.0</td>\n",
       "      <td>2021</td>\n",
       "    </tr>\n",
       "    <tr>\n",
       "      <th>8</th>\n",
       "      <td>Kassel</td>\n",
       "      <td>204202.0</td>\n",
       "      <td>2022</td>\n",
       "    </tr>\n",
       "    <tr>\n",
       "      <th>9</th>\n",
       "      <td>Dortmund</td>\n",
       "      <td>591672.0</td>\n",
       "      <td>2023</td>\n",
       "    </tr>\n",
       "  </tbody>\n",
       "</table>\n",
       "</div>"
      ],
      "text/plain": [
       "       city  population  year\n",
       "0  Dortmund    587010.0  2019\n",
       "1    Kassel    201585.0  2019\n",
       "2  Dortmund         NaN  2020\n",
       "3    Kassel         NaN  2020\n",
       "4  Dortmund    591672.0  2023\n",
       "5    Kassel    191854.0  2023\n",
       "6    Kassel    230011.0  2023\n",
       "7  Dortmund    539050.0  2021\n",
       "8    Kassel    204202.0  2022\n",
       "9  Dortmund    591672.0  2023"
      ]
     },
     "execution_count": 5,
     "metadata": {},
     "output_type": "execute_result"
    }
   ],
   "source": [
    "# Again, we create our example dataframe from a dictionary to work with \n",
    "\n",
    "data = {\n",
    "    \"city\": [\"Dortmund\", \"Kassel\", \"Dortmund\", \"Kassel\", \"Dortmund\", \"Kassel\", \"Kassel\", \"Dortmund\", \"Kassel\", \"Dortmund\"],\n",
    "    \"population\": [587010, 201585, None, None, 591672, 191854, 230011, 539050, 204202, 591672],\n",
    "    \"year\": [2019, 2019,2020, 2020, 2023, 2023, 2023, 2021, 2022, 2023]\n",
    "}\n",
    "\n",
    "df = pd.DataFrame(data)\n",
    "\n",
    "df"
   ]
  },
  {
   "cell_type": "markdown",
   "metadata": {},
   "source": [
    "### **[3.1 Filtering and Sorting](#3.1-filtering-and-sorting)**\n",
    "\n",
    "Pandas provides numerous options for filtering and sorting data, allowing you to slice and dice your dataset to uncover insights or prepare data for visualization or further analysis.\n",
    "\n",
    "#### Filtering\n",
    "\n",
    "Filtering in pandas is a crucial technique for selecting specific rows from a DataFrame or Series based on one or more conditions. This process allows you to extract subsets of data that meet certain criteria, making it easier to perform targeted analysis. There are several ways to filter data in pandas, including using boolean indexing, the `query()` method, and conditional expressions.\n",
    "\n",
    "* `Boolean indexing` involves creating a boolean condition (or conditions) that is applied to the DataFrame or Series to filter rows. The condition evaluates to `True` or `False` for each row, and only rows where the condition is `True` are retained."
   ]
  },
  {
   "cell_type": "code",
   "execution_count": 6,
   "metadata": {},
   "outputs": [
    {
     "data": {
      "text/html": [
       "<div>\n",
       "<style scoped>\n",
       "    .dataframe tbody tr th:only-of-type {\n",
       "        vertical-align: middle;\n",
       "    }\n",
       "\n",
       "    .dataframe tbody tr th {\n",
       "        vertical-align: top;\n",
       "    }\n",
       "\n",
       "    .dataframe thead th {\n",
       "        text-align: right;\n",
       "    }\n",
       "</style>\n",
       "<table border=\"1\" class=\"dataframe\">\n",
       "  <thead>\n",
       "    <tr style=\"text-align: right;\">\n",
       "      <th></th>\n",
       "      <th>city</th>\n",
       "      <th>population</th>\n",
       "      <th>year</th>\n",
       "    </tr>\n",
       "  </thead>\n",
       "  <tbody>\n",
       "    <tr>\n",
       "      <th>0</th>\n",
       "      <td>Dortmund</td>\n",
       "      <td>587010.0</td>\n",
       "      <td>2019</td>\n",
       "    </tr>\n",
       "    <tr>\n",
       "      <th>4</th>\n",
       "      <td>Dortmund</td>\n",
       "      <td>591672.0</td>\n",
       "      <td>2023</td>\n",
       "    </tr>\n",
       "    <tr>\n",
       "      <th>7</th>\n",
       "      <td>Dortmund</td>\n",
       "      <td>539050.0</td>\n",
       "      <td>2021</td>\n",
       "    </tr>\n",
       "    <tr>\n",
       "      <th>9</th>\n",
       "      <td>Dortmund</td>\n",
       "      <td>591672.0</td>\n",
       "      <td>2023</td>\n",
       "    </tr>\n",
       "  </tbody>\n",
       "</table>\n",
       "</div>"
      ],
      "text/plain": [
       "       city  population  year\n",
       "0  Dortmund    587010.0  2019\n",
       "4  Dortmund    591672.0  2023\n",
       "7  Dortmund    539050.0  2021\n",
       "9  Dortmund    591672.0  2023"
      ]
     },
     "execution_count": 6,
     "metadata": {},
     "output_type": "execute_result"
    }
   ],
   "source": [
    "# Filter rows where the 'population' is greater than 200000\n",
    "df[df['population'] > 500000]"
   ]
  },
  {
   "cell_type": "markdown",
   "metadata": {},
   "source": [
    "In this example, `df['population'] > 500000` creates a boolean Series that is `True` for rows where the population is greater than `500000`. When this boolean Series is passed to `df[]`, only the rows with True are selected."
   ]
  },
  {
   "cell_type": "markdown",
   "metadata": {},
   "source": [
    "* The `query()` method allows for filtering using an expression string, making it a more concise syntax for complex filtering operations."
   ]
  },
  {
   "cell_type": "code",
   "execution_count": 8,
   "metadata": {},
   "outputs": [
    {
     "data": {
      "text/html": [
       "<div>\n",
       "<style scoped>\n",
       "    .dataframe tbody tr th:only-of-type {\n",
       "        vertical-align: middle;\n",
       "    }\n",
       "\n",
       "    .dataframe tbody tr th {\n",
       "        vertical-align: top;\n",
       "    }\n",
       "\n",
       "    .dataframe thead th {\n",
       "        text-align: right;\n",
       "    }\n",
       "</style>\n",
       "<table border=\"1\" class=\"dataframe\">\n",
       "  <thead>\n",
       "    <tr style=\"text-align: right;\">\n",
       "      <th></th>\n",
       "      <th>city</th>\n",
       "      <th>population</th>\n",
       "      <th>year</th>\n",
       "    </tr>\n",
       "  </thead>\n",
       "  <tbody>\n",
       "    <tr>\n",
       "      <th>4</th>\n",
       "      <td>Dortmund</td>\n",
       "      <td>591672.0</td>\n",
       "      <td>2023</td>\n",
       "    </tr>\n",
       "    <tr>\n",
       "      <th>6</th>\n",
       "      <td>Kassel</td>\n",
       "      <td>230011.0</td>\n",
       "      <td>2023</td>\n",
       "    </tr>\n",
       "    <tr>\n",
       "      <th>9</th>\n",
       "      <td>Dortmund</td>\n",
       "      <td>591672.0</td>\n",
       "      <td>2023</td>\n",
       "    </tr>\n",
       "  </tbody>\n",
       "</table>\n",
       "</div>"
      ],
      "text/plain": [
       "       city  population  year\n",
       "4  Dortmund    591672.0  2023\n",
       "6    Kassel    230011.0  2023\n",
       "9  Dortmund    591672.0  2023"
      ]
     },
     "execution_count": 8,
     "metadata": {},
     "output_type": "execute_result"
    }
   ],
   "source": [
    "# Filter rows where the 'population' is greater than 200000 and the 'year' is 2023\n",
    "filtered_df = df.query(\"population > 200000 and year == 2023\")\n",
    "filtered_df"
   ]
  },
  {
   "cell_type": "markdown",
   "metadata": {},
   "source": [
    "This example filters the DataFrame to include only rows where the population is greater than 200000 and the year is 2023. The `query()` method is particularly useful for filtering with multiple conditions and offers a syntax that is easier to read and write for complex expressions."
   ]
  },
  {
   "cell_type": "markdown",
   "metadata": {},
   "source": [
    "* Pandas also supports the use of `conditional expressions` for filtering. This can be useful when you need to apply more complex logic that isn't easily represented as a single condition or when working with multiple `DataFrames`."
   ]
  },
  {
   "cell_type": "code",
   "execution_count": 9,
   "metadata": {},
   "outputs": [
    {
     "data": {
      "text/html": [
       "<div>\n",
       "<style scoped>\n",
       "    .dataframe tbody tr th:only-of-type {\n",
       "        vertical-align: middle;\n",
       "    }\n",
       "\n",
       "    .dataframe tbody tr th {\n",
       "        vertical-align: top;\n",
       "    }\n",
       "\n",
       "    .dataframe thead th {\n",
       "        text-align: right;\n",
       "    }\n",
       "</style>\n",
       "<table border=\"1\" class=\"dataframe\">\n",
       "  <thead>\n",
       "    <tr style=\"text-align: right;\">\n",
       "      <th></th>\n",
       "      <th>city</th>\n",
       "      <th>population</th>\n",
       "      <th>year</th>\n",
       "      <th>large_city</th>\n",
       "    </tr>\n",
       "  </thead>\n",
       "  <tbody>\n",
       "    <tr>\n",
       "      <th>0</th>\n",
       "      <td>Dortmund</td>\n",
       "      <td>587010.0</td>\n",
       "      <td>2019</td>\n",
       "      <td>Yes</td>\n",
       "    </tr>\n",
       "    <tr>\n",
       "      <th>1</th>\n",
       "      <td>Kassel</td>\n",
       "      <td>201585.0</td>\n",
       "      <td>2019</td>\n",
       "      <td>No</td>\n",
       "    </tr>\n",
       "    <tr>\n",
       "      <th>2</th>\n",
       "      <td>Dortmund</td>\n",
       "      <td>NaN</td>\n",
       "      <td>2020</td>\n",
       "      <td>No</td>\n",
       "    </tr>\n",
       "    <tr>\n",
       "      <th>3</th>\n",
       "      <td>Kassel</td>\n",
       "      <td>NaN</td>\n",
       "      <td>2020</td>\n",
       "      <td>No</td>\n",
       "    </tr>\n",
       "    <tr>\n",
       "      <th>4</th>\n",
       "      <td>Dortmund</td>\n",
       "      <td>591672.0</td>\n",
       "      <td>2023</td>\n",
       "      <td>Yes</td>\n",
       "    </tr>\n",
       "    <tr>\n",
       "      <th>5</th>\n",
       "      <td>Kassel</td>\n",
       "      <td>191854.0</td>\n",
       "      <td>2023</td>\n",
       "      <td>No</td>\n",
       "    </tr>\n",
       "    <tr>\n",
       "      <th>6</th>\n",
       "      <td>Kassel</td>\n",
       "      <td>230011.0</td>\n",
       "      <td>2023</td>\n",
       "      <td>No</td>\n",
       "    </tr>\n",
       "    <tr>\n",
       "      <th>7</th>\n",
       "      <td>Dortmund</td>\n",
       "      <td>539050.0</td>\n",
       "      <td>2021</td>\n",
       "      <td>Yes</td>\n",
       "    </tr>\n",
       "    <tr>\n",
       "      <th>8</th>\n",
       "      <td>Kassel</td>\n",
       "      <td>204202.0</td>\n",
       "      <td>2022</td>\n",
       "      <td>No</td>\n",
       "    </tr>\n",
       "    <tr>\n",
       "      <th>9</th>\n",
       "      <td>Dortmund</td>\n",
       "      <td>591672.0</td>\n",
       "      <td>2023</td>\n",
       "      <td>Yes</td>\n",
       "    </tr>\n",
       "  </tbody>\n",
       "</table>\n",
       "</div>"
      ],
      "text/plain": [
       "       city  population  year large_city\n",
       "0  Dortmund    587010.0  2019        Yes\n",
       "1    Kassel    201585.0  2019         No\n",
       "2  Dortmund         NaN  2020         No\n",
       "3    Kassel         NaN  2020         No\n",
       "4  Dortmund    591672.0  2023        Yes\n",
       "5    Kassel    191854.0  2023         No\n",
       "6    Kassel    230011.0  2023         No\n",
       "7  Dortmund    539050.0  2021        Yes\n",
       "8    Kassel    204202.0  2022         No\n",
       "9  Dortmund    591672.0  2023        Yes"
      ]
     },
     "execution_count": 9,
     "metadata": {},
     "output_type": "execute_result"
    }
   ],
   "source": [
    "# Use np.where to create a new column based on a condition\n",
    "import numpy as np\n",
    "df['large_city'] = np.where(df['population'] > 500000, 'Yes', 'No')\n",
    "df"
   ]
  },
  {
   "cell_type": "markdown",
   "metadata": {},
   "source": [
    "This example uses np.where to create a new column, `'large_city'`, that marks cities with a population greater than `500000` as `'Yes'`, and all others as `'No'`. \n",
    "\n",
    "While this is more about generating new data based on conditions, it illustrates the flexibility of conditional expressions in pandas."
   ]
  },
  {
   "cell_type": "markdown",
   "metadata": {},
   "source": [
    "#### Sorting\n",
    "\n",
    "Sorting data in pandas is an essential operation for organizing your dataset in a meaningful order, whether it be ascending or descending, based on one or more columns. This process can greatly enhance your ability to analyze trends, patterns, and anomalies within your data. Pandas provides several methods for sorting, including `sort_values()`, `sort_index()`, and the `rank()` method for ranking data.\n",
    "\n",
    "* The `sort_values()` method sorts a DataFrame based on the values of one or more columns. It's the primary method used for value-based sorting."
   ]
  },
  {
   "cell_type": "code",
   "execution_count": null,
   "metadata": {},
   "outputs": [],
   "source": [
    "# Sort the DataFrame based on the 'population' column in ascending order\n",
    "sorted_df = df.sort_values(by='population')\n",
    "sorted_df"
   ]
  },
  {
   "cell_type": "code",
   "execution_count": null,
   "metadata": {},
   "outputs": [],
   "source": [
    "# Sort by multiple columns, first by 'city' in ascending order, then by 'population' in descending order\n",
    "sorted_df = df.sort_values(by=['city', 'population'], ascending=[True, False])\n",
    "sorted_df"
   ]
  },
  {
   "cell_type": "markdown",
   "metadata": {},
   "source": [
    "In the first example, `sort_values(by='population')` sorts the DataFrame based on the population column in ascending order. The second example demonstrates sorting by multiple columns: it sorts by city in ascending order and then within each city, sorts by population in descending order."
   ]
  },
  {
   "cell_type": "markdown",
   "metadata": {},
   "source": [
    "* The `sort_index()` method sorts a DataFrame or Series based on its index. This method is particularly useful when you want to revert a DataFrame to its original order after performing operations that alter its row order."
   ]
  },
  {
   "cell_type": "code",
   "execution_count": 10,
   "metadata": {},
   "outputs": [
    {
     "data": {
      "text/html": [
       "<div>\n",
       "<style scoped>\n",
       "    .dataframe tbody tr th:only-of-type {\n",
       "        vertical-align: middle;\n",
       "    }\n",
       "\n",
       "    .dataframe tbody tr th {\n",
       "        vertical-align: top;\n",
       "    }\n",
       "\n",
       "    .dataframe thead th {\n",
       "        text-align: right;\n",
       "    }\n",
       "</style>\n",
       "<table border=\"1\" class=\"dataframe\">\n",
       "  <thead>\n",
       "    <tr style=\"text-align: right;\">\n",
       "      <th></th>\n",
       "      <th>city</th>\n",
       "      <th>population</th>\n",
       "      <th>year</th>\n",
       "      <th>large_city</th>\n",
       "    </tr>\n",
       "  </thead>\n",
       "  <tbody>\n",
       "    <tr>\n",
       "      <th>0</th>\n",
       "      <td>Dortmund</td>\n",
       "      <td>587010.0</td>\n",
       "      <td>2019</td>\n",
       "      <td>Yes</td>\n",
       "    </tr>\n",
       "    <tr>\n",
       "      <th>1</th>\n",
       "      <td>Kassel</td>\n",
       "      <td>201585.0</td>\n",
       "      <td>2019</td>\n",
       "      <td>No</td>\n",
       "    </tr>\n",
       "    <tr>\n",
       "      <th>2</th>\n",
       "      <td>Dortmund</td>\n",
       "      <td>NaN</td>\n",
       "      <td>2020</td>\n",
       "      <td>No</td>\n",
       "    </tr>\n",
       "    <tr>\n",
       "      <th>3</th>\n",
       "      <td>Kassel</td>\n",
       "      <td>NaN</td>\n",
       "      <td>2020</td>\n",
       "      <td>No</td>\n",
       "    </tr>\n",
       "    <tr>\n",
       "      <th>4</th>\n",
       "      <td>Dortmund</td>\n",
       "      <td>591672.0</td>\n",
       "      <td>2023</td>\n",
       "      <td>Yes</td>\n",
       "    </tr>\n",
       "    <tr>\n",
       "      <th>5</th>\n",
       "      <td>Kassel</td>\n",
       "      <td>191854.0</td>\n",
       "      <td>2023</td>\n",
       "      <td>No</td>\n",
       "    </tr>\n",
       "    <tr>\n",
       "      <th>6</th>\n",
       "      <td>Kassel</td>\n",
       "      <td>230011.0</td>\n",
       "      <td>2023</td>\n",
       "      <td>No</td>\n",
       "    </tr>\n",
       "    <tr>\n",
       "      <th>7</th>\n",
       "      <td>Dortmund</td>\n",
       "      <td>539050.0</td>\n",
       "      <td>2021</td>\n",
       "      <td>Yes</td>\n",
       "    </tr>\n",
       "    <tr>\n",
       "      <th>8</th>\n",
       "      <td>Kassel</td>\n",
       "      <td>204202.0</td>\n",
       "      <td>2022</td>\n",
       "      <td>No</td>\n",
       "    </tr>\n",
       "    <tr>\n",
       "      <th>9</th>\n",
       "      <td>Dortmund</td>\n",
       "      <td>591672.0</td>\n",
       "      <td>2023</td>\n",
       "      <td>Yes</td>\n",
       "    </tr>\n",
       "  </tbody>\n",
       "</table>\n",
       "</div>"
      ],
      "text/plain": [
       "       city  population  year large_city\n",
       "0  Dortmund    587010.0  2019        Yes\n",
       "1    Kassel    201585.0  2019         No\n",
       "2  Dortmund         NaN  2020         No\n",
       "3    Kassel         NaN  2020         No\n",
       "4  Dortmund    591672.0  2023        Yes\n",
       "5    Kassel    191854.0  2023         No\n",
       "6    Kassel    230011.0  2023         No\n",
       "7  Dortmund    539050.0  2021        Yes\n",
       "8    Kassel    204202.0  2022         No\n",
       "9  Dortmund    591672.0  2023        Yes"
      ]
     },
     "execution_count": 10,
     "metadata": {},
     "output_type": "execute_result"
    }
   ],
   "source": [
    "# Sort the DataFrame by its index in ascending order\n",
    "sorted_df = df.sort_index()\n",
    "sorted_df"
   ]
  },
  {
   "cell_type": "code",
   "execution_count": 11,
   "metadata": {},
   "outputs": [
    {
     "data": {
      "text/html": [
       "<div>\n",
       "<style scoped>\n",
       "    .dataframe tbody tr th:only-of-type {\n",
       "        vertical-align: middle;\n",
       "    }\n",
       "\n",
       "    .dataframe tbody tr th {\n",
       "        vertical-align: top;\n",
       "    }\n",
       "\n",
       "    .dataframe thead th {\n",
       "        text-align: right;\n",
       "    }\n",
       "</style>\n",
       "<table border=\"1\" class=\"dataframe\">\n",
       "  <thead>\n",
       "    <tr style=\"text-align: right;\">\n",
       "      <th></th>\n",
       "      <th>city</th>\n",
       "      <th>population</th>\n",
       "      <th>year</th>\n",
       "      <th>large_city</th>\n",
       "    </tr>\n",
       "  </thead>\n",
       "  <tbody>\n",
       "    <tr>\n",
       "      <th>9</th>\n",
       "      <td>Dortmund</td>\n",
       "      <td>591672.0</td>\n",
       "      <td>2023</td>\n",
       "      <td>Yes</td>\n",
       "    </tr>\n",
       "    <tr>\n",
       "      <th>8</th>\n",
       "      <td>Kassel</td>\n",
       "      <td>204202.0</td>\n",
       "      <td>2022</td>\n",
       "      <td>No</td>\n",
       "    </tr>\n",
       "    <tr>\n",
       "      <th>7</th>\n",
       "      <td>Dortmund</td>\n",
       "      <td>539050.0</td>\n",
       "      <td>2021</td>\n",
       "      <td>Yes</td>\n",
       "    </tr>\n",
       "    <tr>\n",
       "      <th>6</th>\n",
       "      <td>Kassel</td>\n",
       "      <td>230011.0</td>\n",
       "      <td>2023</td>\n",
       "      <td>No</td>\n",
       "    </tr>\n",
       "    <tr>\n",
       "      <th>5</th>\n",
       "      <td>Kassel</td>\n",
       "      <td>191854.0</td>\n",
       "      <td>2023</td>\n",
       "      <td>No</td>\n",
       "    </tr>\n",
       "    <tr>\n",
       "      <th>4</th>\n",
       "      <td>Dortmund</td>\n",
       "      <td>591672.0</td>\n",
       "      <td>2023</td>\n",
       "      <td>Yes</td>\n",
       "    </tr>\n",
       "    <tr>\n",
       "      <th>3</th>\n",
       "      <td>Kassel</td>\n",
       "      <td>NaN</td>\n",
       "      <td>2020</td>\n",
       "      <td>No</td>\n",
       "    </tr>\n",
       "    <tr>\n",
       "      <th>2</th>\n",
       "      <td>Dortmund</td>\n",
       "      <td>NaN</td>\n",
       "      <td>2020</td>\n",
       "      <td>No</td>\n",
       "    </tr>\n",
       "    <tr>\n",
       "      <th>1</th>\n",
       "      <td>Kassel</td>\n",
       "      <td>201585.0</td>\n",
       "      <td>2019</td>\n",
       "      <td>No</td>\n",
       "    </tr>\n",
       "    <tr>\n",
       "      <th>0</th>\n",
       "      <td>Dortmund</td>\n",
       "      <td>587010.0</td>\n",
       "      <td>2019</td>\n",
       "      <td>Yes</td>\n",
       "    </tr>\n",
       "  </tbody>\n",
       "</table>\n",
       "</div>"
      ],
      "text/plain": [
       "       city  population  year large_city\n",
       "9  Dortmund    591672.0  2023        Yes\n",
       "8    Kassel    204202.0  2022         No\n",
       "7  Dortmund    539050.0  2021        Yes\n",
       "6    Kassel    230011.0  2023         No\n",
       "5    Kassel    191854.0  2023         No\n",
       "4  Dortmund    591672.0  2023        Yes\n",
       "3    Kassel         NaN  2020         No\n",
       "2  Dortmund         NaN  2020         No\n",
       "1    Kassel    201585.0  2019         No\n",
       "0  Dortmund    587010.0  2019        Yes"
      ]
     },
     "execution_count": 11,
     "metadata": {},
     "output_type": "execute_result"
    }
   ],
   "source": [
    "# Sort the DataFrame by its index in descending order\n",
    "sorted_df = df.sort_index(ascending=False)\n",
    "sorted_df"
   ]
  },
  {
   "cell_type": "markdown",
   "metadata": {},
   "source": [
    "* The `rank()` method assigns ranks to data, treating ties in a specific manner determined by its parameters. Ranking is different from sorting in that it assigns a numerical rank to each entry based on its value, rather than rearranging the entries."
   ]
  },
  {
   "cell_type": "code",
   "execution_count": 12,
   "metadata": {},
   "outputs": [
    {
     "data": {
      "text/html": [
       "<div>\n",
       "<style scoped>\n",
       "    .dataframe tbody tr th:only-of-type {\n",
       "        vertical-align: middle;\n",
       "    }\n",
       "\n",
       "    .dataframe tbody tr th {\n",
       "        vertical-align: top;\n",
       "    }\n",
       "\n",
       "    .dataframe thead th {\n",
       "        text-align: right;\n",
       "    }\n",
       "</style>\n",
       "<table border=\"1\" class=\"dataframe\">\n",
       "  <thead>\n",
       "    <tr style=\"text-align: right;\">\n",
       "      <th></th>\n",
       "      <th>city</th>\n",
       "      <th>population</th>\n",
       "      <th>year</th>\n",
       "      <th>large_city</th>\n",
       "      <th>population_rank</th>\n",
       "    </tr>\n",
       "  </thead>\n",
       "  <tbody>\n",
       "    <tr>\n",
       "      <th>0</th>\n",
       "      <td>Dortmund</td>\n",
       "      <td>587010.0</td>\n",
       "      <td>2019</td>\n",
       "      <td>Yes</td>\n",
       "      <td>3.0</td>\n",
       "    </tr>\n",
       "    <tr>\n",
       "      <th>1</th>\n",
       "      <td>Kassel</td>\n",
       "      <td>201585.0</td>\n",
       "      <td>2019</td>\n",
       "      <td>No</td>\n",
       "      <td>7.0</td>\n",
       "    </tr>\n",
       "    <tr>\n",
       "      <th>2</th>\n",
       "      <td>Dortmund</td>\n",
       "      <td>NaN</td>\n",
       "      <td>2020</td>\n",
       "      <td>No</td>\n",
       "      <td>NaN</td>\n",
       "    </tr>\n",
       "    <tr>\n",
       "      <th>3</th>\n",
       "      <td>Kassel</td>\n",
       "      <td>NaN</td>\n",
       "      <td>2020</td>\n",
       "      <td>No</td>\n",
       "      <td>NaN</td>\n",
       "    </tr>\n",
       "    <tr>\n",
       "      <th>4</th>\n",
       "      <td>Dortmund</td>\n",
       "      <td>591672.0</td>\n",
       "      <td>2023</td>\n",
       "      <td>Yes</td>\n",
       "      <td>1.5</td>\n",
       "    </tr>\n",
       "    <tr>\n",
       "      <th>5</th>\n",
       "      <td>Kassel</td>\n",
       "      <td>191854.0</td>\n",
       "      <td>2023</td>\n",
       "      <td>No</td>\n",
       "      <td>8.0</td>\n",
       "    </tr>\n",
       "    <tr>\n",
       "      <th>6</th>\n",
       "      <td>Kassel</td>\n",
       "      <td>230011.0</td>\n",
       "      <td>2023</td>\n",
       "      <td>No</td>\n",
       "      <td>5.0</td>\n",
       "    </tr>\n",
       "    <tr>\n",
       "      <th>7</th>\n",
       "      <td>Dortmund</td>\n",
       "      <td>539050.0</td>\n",
       "      <td>2021</td>\n",
       "      <td>Yes</td>\n",
       "      <td>4.0</td>\n",
       "    </tr>\n",
       "    <tr>\n",
       "      <th>8</th>\n",
       "      <td>Kassel</td>\n",
       "      <td>204202.0</td>\n",
       "      <td>2022</td>\n",
       "      <td>No</td>\n",
       "      <td>6.0</td>\n",
       "    </tr>\n",
       "    <tr>\n",
       "      <th>9</th>\n",
       "      <td>Dortmund</td>\n",
       "      <td>591672.0</td>\n",
       "      <td>2023</td>\n",
       "      <td>Yes</td>\n",
       "      <td>1.5</td>\n",
       "    </tr>\n",
       "  </tbody>\n",
       "</table>\n",
       "</div>"
      ],
      "text/plain": [
       "       city  population  year large_city  population_rank\n",
       "0  Dortmund    587010.0  2019        Yes              3.0\n",
       "1    Kassel    201585.0  2019         No              7.0\n",
       "2  Dortmund         NaN  2020         No              NaN\n",
       "3    Kassel         NaN  2020         No              NaN\n",
       "4  Dortmund    591672.0  2023        Yes              1.5\n",
       "5    Kassel    191854.0  2023         No              8.0\n",
       "6    Kassel    230011.0  2023         No              5.0\n",
       "7  Dortmund    539050.0  2021        Yes              4.0\n",
       "8    Kassel    204202.0  2022         No              6.0\n",
       "9  Dortmund    591672.0  2023        Yes              1.5"
      ]
     },
     "execution_count": 12,
     "metadata": {},
     "output_type": "execute_result"
    }
   ],
   "source": [
    "# Rank the 'population' column, with higher populations receiving a higher rank\n",
    "df['population_rank'] = df['population'].rank(ascending=False)\n",
    "df"
   ]
  },
  {
   "cell_type": "markdown",
   "metadata": {},
   "source": [
    "This assigns ranks to the population column, with higher populations receiving a lower numerical rank (i.e., rank `1` is the highest population). The ranks are stored in a new column called `'population_rank'`.\n",
    "\n",
    "Sorting and ranking are powerful tools in data analysis, enabling you to organize your data in meaningful ways and derive insights based on the order of data points. Whether you're preparing your dataset for analysis, looking for the top or bottom entries, or assigning ranks for comparison, pandas provides robust and flexible methods to accomplish these tasks efficiently."
   ]
  },
  {
   "cell_type": "markdown",
   "metadata": {},
   "source": [
    "### **[3.2 Grouping and Aggregating](#3.2-grouping-and-aggregating)**\n",
    "\n",
    "Grouping and aggregation are powerful concepts in pandas that allow you to organize your data into groups and then perform calculations over those groups, summarizing or transforming the original detailed data into a new form. This can be highly useful for statistical analysis, data summarization, and even preparing data for further analysis or visualization.\n",
    "\n",
    "#### Grouping\n",
    "\n",
    "* The `groupby()` method is the cornerstone of data aggregation in pandas. It involves splitting the data into groups based on some criteria, applying a function to each group independently, and then combining the results into a data structure.\n"
   ]
  },
  {
   "cell_type": "code",
   "execution_count": 15,
   "metadata": {},
   "outputs": [
    {
     "data": {
      "text/plain": [
       "city\n",
       "Dortmund    577351.0\n",
       "Kassel      206913.0\n",
       "Name: population, dtype: float64"
      ]
     },
     "execution_count": 15,
     "metadata": {},
     "output_type": "execute_result"
    }
   ],
   "source": [
    "# Group the DataFrame by the 'city' column and calculate the average 'population' for each city\n",
    "grouped_df = df.groupby('city')['population'].mean()\n",
    "grouped_df"
   ]
  },
  {
   "cell_type": "markdown",
   "metadata": {},
   "source": [
    "In this example, `df.groupby('city')` creates a group for each unique city, and then for each group, the average population is calculated using `.mean()`. The result is a Series where the index consists of the unique cities, and the values are the average populations."
   ]
  },
  {
   "cell_type": "markdown",
   "metadata": {},
   "source": [
    "* You can also `group by multiple columns` by passing a list of column names. This is particularly useful for more complex data analysis tasks."
   ]
  },
  {
   "cell_type": "code",
   "execution_count": 16,
   "metadata": {},
   "outputs": [
    {
     "data": {
      "text/plain": [
       "city      year\n",
       "Dortmund  2019     587010.0\n",
       "          2020          0.0\n",
       "          2021     539050.0\n",
       "          2023    1183344.0\n",
       "Kassel    2019     201585.0\n",
       "          2020          0.0\n",
       "          2022     204202.0\n",
       "          2023     421865.0\n",
       "Name: population, dtype: float64"
      ]
     },
     "execution_count": 16,
     "metadata": {},
     "output_type": "execute_result"
    }
   ],
   "source": [
    "# Group by both 'city' and 'year', then calculate the total 'population' for each group\n",
    "grouped_df = df.groupby(['city', 'year'])['population'].sum()\n",
    "grouped_df"
   ]
  },
  {
   "cell_type": "markdown",
   "metadata": {},
   "source": [
    "This groups the data first by `city`, and within each `city`, further groups by year. Then, for each `city-year` combination, it calculates the total population."
   ]
  },
  {
   "cell_type": "markdown",
   "metadata": {},
   "source": [
    "#### Aggregate functions\n",
    "\n",
    "After grouping, you can compute aggregate statistics such as `sum()`, `mean()`, `median()`, `min()`, `max()`, `count()`, and `nunique()` on each group. \n",
    "\n",
    "These functions can be applied directly to the grouped object."
   ]
  },
  {
   "cell_type": "code",
   "execution_count": 17,
   "metadata": {},
   "outputs": [
    {
     "data": {
      "text/plain": [
       "city\n",
       "Dortmund    4\n",
       "Kassel      4\n",
       "Name: population, dtype: int64"
      ]
     },
     "execution_count": 17,
     "metadata": {},
     "output_type": "execute_result"
    }
   ],
   "source": [
    "# Count the number of entries for each 'city'\n",
    "entry_count = df.groupby('city')['population'].count()\n",
    "entry_count"
   ]
  },
  {
   "cell_type": "code",
   "execution_count": 18,
   "metadata": {},
   "outputs": [
    {
     "data": {
      "text/plain": [
       "city\n",
       "Dortmund    591672.0\n",
       "Kassel      230011.0\n",
       "Name: population, dtype: float64"
      ]
     },
     "execution_count": 18,
     "metadata": {},
     "output_type": "execute_result"
    }
   ],
   "source": [
    "# Find the maximum 'population' for each 'city'\n",
    "max_population = df.groupby('city')['population'].max()\n",
    "max_population"
   ]
  },
  {
   "cell_type": "markdown",
   "metadata": {},
   "source": [
    "* The `agg()` method allows for more flexibility, letting you apply multiple aggregation operations to your groups in a single step or even define your custom aggregation functions."
   ]
  },
  {
   "cell_type": "code",
   "execution_count": 19,
   "metadata": {},
   "outputs": [
    {
     "data": {
      "text/html": [
       "<div>\n",
       "<style scoped>\n",
       "    .dataframe tbody tr th:only-of-type {\n",
       "        vertical-align: middle;\n",
       "    }\n",
       "\n",
       "    .dataframe tbody tr th {\n",
       "        vertical-align: top;\n",
       "    }\n",
       "\n",
       "    .dataframe thead th {\n",
       "        text-align: right;\n",
       "    }\n",
       "</style>\n",
       "<table border=\"1\" class=\"dataframe\">\n",
       "  <thead>\n",
       "    <tr style=\"text-align: right;\">\n",
       "      <th></th>\n",
       "      <th>mean</th>\n",
       "      <th>min</th>\n",
       "      <th>max</th>\n",
       "    </tr>\n",
       "    <tr>\n",
       "      <th>city</th>\n",
       "      <th></th>\n",
       "      <th></th>\n",
       "      <th></th>\n",
       "    </tr>\n",
       "  </thead>\n",
       "  <tbody>\n",
       "    <tr>\n",
       "      <th>Dortmund</th>\n",
       "      <td>577351.0</td>\n",
       "      <td>539050.0</td>\n",
       "      <td>591672.0</td>\n",
       "    </tr>\n",
       "    <tr>\n",
       "      <th>Kassel</th>\n",
       "      <td>206913.0</td>\n",
       "      <td>191854.0</td>\n",
       "      <td>230011.0</td>\n",
       "    </tr>\n",
       "  </tbody>\n",
       "</table>\n",
       "</div>"
      ],
      "text/plain": [
       "              mean       min       max\n",
       "city                                  \n",
       "Dortmund  577351.0  539050.0  591672.0\n",
       "Kassel    206913.0  191854.0  230011.0"
      ]
     },
     "execution_count": 19,
     "metadata": {},
     "output_type": "execute_result"
    }
   ],
   "source": [
    "# Apply multiple aggregate functions to 'population' for each 'city'\n",
    "agg_df = df.groupby('city')['population'].agg(['mean', 'min', 'max'])\n",
    "agg_df"
   ]
  },
  {
   "cell_type": "code",
   "execution_count": 20,
   "metadata": {},
   "outputs": [
    {
     "data": {
      "text/html": [
       "<div>\n",
       "<style scoped>\n",
       "    .dataframe tbody tr th:only-of-type {\n",
       "        vertical-align: middle;\n",
       "    }\n",
       "\n",
       "    .dataframe tbody tr th {\n",
       "        vertical-align: top;\n",
       "    }\n",
       "\n",
       "    .dataframe thead th {\n",
       "        text-align: right;\n",
       "    }\n",
       "</style>\n",
       "<table border=\"1\" class=\"dataframe\">\n",
       "  <thead>\n",
       "    <tr style=\"text-align: right;\">\n",
       "      <th></th>\n",
       "      <th>mean</th>\n",
       "      <th>min</th>\n",
       "      <th>max</th>\n",
       "      <th>range_func</th>\n",
       "    </tr>\n",
       "    <tr>\n",
       "      <th>city</th>\n",
       "      <th></th>\n",
       "      <th></th>\n",
       "      <th></th>\n",
       "      <th></th>\n",
       "    </tr>\n",
       "  </thead>\n",
       "  <tbody>\n",
       "    <tr>\n",
       "      <th>Dortmund</th>\n",
       "      <td>577351.0</td>\n",
       "      <td>539050.0</td>\n",
       "      <td>591672.0</td>\n",
       "      <td>52622.0</td>\n",
       "    </tr>\n",
       "    <tr>\n",
       "      <th>Kassel</th>\n",
       "      <td>206913.0</td>\n",
       "      <td>191854.0</td>\n",
       "      <td>230011.0</td>\n",
       "      <td>38157.0</td>\n",
       "    </tr>\n",
       "  </tbody>\n",
       "</table>\n",
       "</div>"
      ],
      "text/plain": [
       "              mean       min       max  range_func\n",
       "city                                              \n",
       "Dortmund  577351.0  539050.0  591672.0     52622.0\n",
       "Kassel    206913.0  191854.0  230011.0     38157.0"
      ]
     },
     "execution_count": 20,
     "metadata": {},
     "output_type": "execute_result"
    }
   ],
   "source": [
    "# Custom aggregation\n",
    "def range_func(x):\n",
    "    return x.max() - x.min()\n",
    "\n",
    "agg_df = df.groupby('city')['population'].agg(['mean', 'min', 'max', range_func])\n",
    "agg_df"
   ]
  },
  {
   "cell_type": "markdown",
   "metadata": {},
   "source": [
    "In the first example, `['mean', 'min', 'max']` applies multiple predefined aggregation functions to each group. The second example includes a custom aggregation function range_func, which calculates the range of populations within each city group."
   ]
  },
  {
   "cell_type": "markdown",
   "metadata": {},
   "source": [
    "### **[3.3 Pivot Tables and Cross-Tabulation](#3.3-pivot-tables-and-cross-tabulation)**\n",
    "\n",
    "Pivot tables and cross-tabulation are versatile tools in pandas for summarizing, analyzing, and presenting data. They allow you to reorganize and aggregate your data across multiple dimensions, making it easier to extract useful information and insights.\n",
    "\n",
    "#### Pivot Tables with `pivot_table()`\n",
    "\n",
    "* The `pivot_table()` function in pandas creates spreadsheet-style pivot tables as DataFrame objects. It's a highly versatile function that allows you to specify row and column indices, data values to fill the table, and the aggregation function to be applied."
   ]
  },
  {
   "cell_type": "code",
   "execution_count": 21,
   "metadata": {},
   "outputs": [
    {
     "data": {
      "text/html": [
       "<div>\n",
       "<style scoped>\n",
       "    .dataframe tbody tr th:only-of-type {\n",
       "        vertical-align: middle;\n",
       "    }\n",
       "\n",
       "    .dataframe tbody tr th {\n",
       "        vertical-align: top;\n",
       "    }\n",
       "\n",
       "    .dataframe thead th {\n",
       "        text-align: right;\n",
       "    }\n",
       "</style>\n",
       "<table border=\"1\" class=\"dataframe\">\n",
       "  <thead>\n",
       "    <tr style=\"text-align: right;\">\n",
       "      <th>year</th>\n",
       "      <th>2019</th>\n",
       "      <th>2021</th>\n",
       "      <th>2022</th>\n",
       "      <th>2023</th>\n",
       "    </tr>\n",
       "    <tr>\n",
       "      <th>city</th>\n",
       "      <th></th>\n",
       "      <th></th>\n",
       "      <th></th>\n",
       "      <th></th>\n",
       "    </tr>\n",
       "  </thead>\n",
       "  <tbody>\n",
       "    <tr>\n",
       "      <th>Dortmund</th>\n",
       "      <td>587010.0</td>\n",
       "      <td>539050.0</td>\n",
       "      <td>NaN</td>\n",
       "      <td>591672.0</td>\n",
       "    </tr>\n",
       "    <tr>\n",
       "      <th>Kassel</th>\n",
       "      <td>201585.0</td>\n",
       "      <td>NaN</td>\n",
       "      <td>204202.0</td>\n",
       "      <td>210932.5</td>\n",
       "    </tr>\n",
       "  </tbody>\n",
       "</table>\n",
       "</div>"
      ],
      "text/plain": [
       "year          2019      2021      2022      2023\n",
       "city                                            \n",
       "Dortmund  587010.0  539050.0       NaN  591672.0\n",
       "Kassel    201585.0       NaN  204202.0  210932.5"
      ]
     },
     "execution_count": 21,
     "metadata": {},
     "output_type": "execute_result"
    }
   ],
   "source": [
    "# Apply pivot table\n",
    "pivot = df.pivot_table(values='population', index='city', columns='year', aggfunc='mean')\n",
    "pivot"
   ]
  },
  {
   "cell_type": "markdown",
   "metadata": {},
   "source": [
    "This example creates a pivot table that shows the `mean population` for each `city` by `year`, with cities as row indices and years as column labels."
   ]
  },
  {
   "cell_type": "markdown",
   "metadata": {},
   "source": [
    "* The `crosstab()` function computes a cross-tabulation of two (or more) factors. It's useful for summarizing categorical data and creating contingency tables, which show the frequency distribution of variables."
   ]
  },
  {
   "cell_type": "code",
   "execution_count": 22,
   "metadata": {},
   "outputs": [
    {
     "data": {
      "text/html": [
       "<div>\n",
       "<style scoped>\n",
       "    .dataframe tbody tr th:only-of-type {\n",
       "        vertical-align: middle;\n",
       "    }\n",
       "\n",
       "    .dataframe tbody tr th {\n",
       "        vertical-align: top;\n",
       "    }\n",
       "\n",
       "    .dataframe thead th {\n",
       "        text-align: right;\n",
       "    }\n",
       "</style>\n",
       "<table border=\"1\" class=\"dataframe\">\n",
       "  <thead>\n",
       "    <tr style=\"text-align: right;\">\n",
       "      <th>year</th>\n",
       "      <th>2019</th>\n",
       "      <th>2020</th>\n",
       "      <th>2021</th>\n",
       "      <th>2022</th>\n",
       "      <th>2023</th>\n",
       "    </tr>\n",
       "    <tr>\n",
       "      <th>city</th>\n",
       "      <th></th>\n",
       "      <th></th>\n",
       "      <th></th>\n",
       "      <th></th>\n",
       "      <th></th>\n",
       "    </tr>\n",
       "  </thead>\n",
       "  <tbody>\n",
       "    <tr>\n",
       "      <th>Dortmund</th>\n",
       "      <td>1</td>\n",
       "      <td>1</td>\n",
       "      <td>1</td>\n",
       "      <td>0</td>\n",
       "      <td>2</td>\n",
       "    </tr>\n",
       "    <tr>\n",
       "      <th>Kassel</th>\n",
       "      <td>1</td>\n",
       "      <td>1</td>\n",
       "      <td>0</td>\n",
       "      <td>1</td>\n",
       "      <td>2</td>\n",
       "    </tr>\n",
       "  </tbody>\n",
       "</table>\n",
       "</div>"
      ],
      "text/plain": [
       "year      2019  2020  2021  2022  2023\n",
       "city                                  \n",
       "Dortmund     1     1     1     0     2\n",
       "Kassel       1     1     0     1     2"
      ]
     },
     "execution_count": 22,
     "metadata": {},
     "output_type": "execute_result"
    }
   ],
   "source": [
    "# Apply cross tabulation\n",
    "ct = pd.crosstab(index=df['city'], columns=df['year'])\n",
    "ct"
   ]
  },
  {
   "cell_type": "markdown",
   "metadata": {},
   "source": [
    "This creates a simple cross-tabulation that counts the occurrences of each `city-year` combination. If df includes other columns you wish to aggregate, you can specify them with the values parameter and an appropriate aggfunc."
   ]
  },
  {
   "cell_type": "markdown",
   "metadata": {},
   "source": [
    "### **[3.4 Coding Challenge](#3.4-coding-challenge)**\n",
    "\n",
    "We are going to use the dataset from the previous coding challenge. It contains metrics from an injection molding process, including melt temperature, mold temperature, cycle times, forces, pressures, volumes, and a quality indicator. The goal is to analyze the dataset to uncover insights into the manufacturing process and quality outcomes.\n",
    "\n",
    "**Challenge objectives:**\n",
    "\n",
    "1. Step: Filter the dataset to include only cycles where the `'Melt temperature'` is greater than the average melt temperature.\n",
    "\n",
    "2. Step: Slice the dataset to include only the columns related to temperatures (`'Melt temperature'`, `'Mold temperature'`) and `quality`.\n",
    "\n",
    "3. Step: Group the dataset by `'quality'` and calculate the average `'Mold temperature'` and `'Melt temperature'` for each quality group.\n",
    "\n",
    "4. Step: For each `'quality'` group, find the maximum `'Specific injection pressure peak value'` (APVs).\n",
    "\n",
    "5. Step: Create a pivot table showing the average `'Cycle time' (ZUx - Cycle time) for each combination of 'quality'` and `'Mold temperature'` (rounded to the nearest integer).\n",
    "\n",
    "6. Step: Use cross-tabulation to summarize the count of cycles by `'quality'` and the `'Screw position at the end of hold pressure'` (CPn) binned into categories (e.g., <9, 9-10, >10)."
   ]
  },
  {
   "cell_type": "code",
   "execution_count": 23,
   "metadata": {},
   "outputs": [
    {
     "data": {
      "text/html": [
       "<div>\n",
       "<style scoped>\n",
       "    .dataframe tbody tr th:only-of-type {\n",
       "        vertical-align: middle;\n",
       "    }\n",
       "\n",
       "    .dataframe tbody tr th {\n",
       "        vertical-align: top;\n",
       "    }\n",
       "\n",
       "    .dataframe thead th {\n",
       "        text-align: right;\n",
       "    }\n",
       "</style>\n",
       "<table border=\"1\" class=\"dataframe\">\n",
       "  <thead>\n",
       "    <tr style=\"text-align: right;\">\n",
       "      <th></th>\n",
       "      <th>Melt temperature</th>\n",
       "      <th>Mold temperature</th>\n",
       "      <th>time_to_fill</th>\n",
       "      <th>ZDx - Plasticizing time</th>\n",
       "      <th>ZUx - Cycle time</th>\n",
       "      <th>SKx - Closing force</th>\n",
       "      <th>SKs - Clamping force peak value</th>\n",
       "      <th>Ms - Torque peak value current cycle</th>\n",
       "      <th>Mm - Torque mean value current cycle</th>\n",
       "      <th>APSs - Specific back pressure peak value</th>\n",
       "      <th>APVs - Specific injection pressure peak value</th>\n",
       "      <th>CPn - Screw position at the end of hold pressure</th>\n",
       "      <th>SVo - Shot volume</th>\n",
       "      <th>quality</th>\n",
       "    </tr>\n",
       "  </thead>\n",
       "  <tbody>\n",
       "    <tr>\n",
       "      <th>0</th>\n",
       "      <td>106.476184</td>\n",
       "      <td>80.617</td>\n",
       "      <td>7.124</td>\n",
       "      <td>3.16</td>\n",
       "      <td>74.83</td>\n",
       "      <td>886.900000</td>\n",
       "      <td>904.000000</td>\n",
       "      <td>116.9</td>\n",
       "      <td>104.300000</td>\n",
       "      <td>145.6</td>\n",
       "      <td>922.3</td>\n",
       "      <td>8.82</td>\n",
       "      <td>18.73</td>\n",
       "      <td>1.0</td>\n",
       "    </tr>\n",
       "    <tr>\n",
       "      <th>1</th>\n",
       "      <td>105.505000</td>\n",
       "      <td>81.362</td>\n",
       "      <td>6.968</td>\n",
       "      <td>3.16</td>\n",
       "      <td>74.81</td>\n",
       "      <td>919.409791</td>\n",
       "      <td>935.900000</td>\n",
       "      <td>113.9</td>\n",
       "      <td>104.900000</td>\n",
       "      <td>145.6</td>\n",
       "      <td>930.5</td>\n",
       "      <td>8.59</td>\n",
       "      <td>18.73</td>\n",
       "      <td>1.0</td>\n",
       "    </tr>\n",
       "    <tr>\n",
       "      <th>2</th>\n",
       "      <td>105.505000</td>\n",
       "      <td>80.411</td>\n",
       "      <td>6.864</td>\n",
       "      <td>4.08</td>\n",
       "      <td>74.81</td>\n",
       "      <td>908.600000</td>\n",
       "      <td>902.344823</td>\n",
       "      <td>120.5</td>\n",
       "      <td>106.503496</td>\n",
       "      <td>147.0</td>\n",
       "      <td>933.1</td>\n",
       "      <td>8.80</td>\n",
       "      <td>18.98</td>\n",
       "      <td>1.0</td>\n",
       "    </tr>\n",
       "    <tr>\n",
       "      <th>3</th>\n",
       "      <td>106.474827</td>\n",
       "      <td>81.162</td>\n",
       "      <td>6.864</td>\n",
       "      <td>3.16</td>\n",
       "      <td>74.82</td>\n",
       "      <td>879.410871</td>\n",
       "      <td>902.033653</td>\n",
       "      <td>127.3</td>\n",
       "      <td>104.900000</td>\n",
       "      <td>145.6</td>\n",
       "      <td>922.3</td>\n",
       "      <td>8.85</td>\n",
       "      <td>18.73</td>\n",
       "      <td>1.0</td>\n",
       "    </tr>\n",
       "    <tr>\n",
       "      <th>4</th>\n",
       "      <td>106.466140</td>\n",
       "      <td>81.471</td>\n",
       "      <td>6.864</td>\n",
       "      <td>3.22</td>\n",
       "      <td>74.83</td>\n",
       "      <td>885.644260</td>\n",
       "      <td>902.821269</td>\n",
       "      <td>120.5</td>\n",
       "      <td>106.700000</td>\n",
       "      <td>145.6</td>\n",
       "      <td>917.5</td>\n",
       "      <td>8.80</td>\n",
       "      <td>18.75</td>\n",
       "      <td>1.0</td>\n",
       "    </tr>\n",
       "  </tbody>\n",
       "</table>\n",
       "</div>"
      ],
      "text/plain": [
       "   Melt temperature  Mold temperature  time_to_fill  ZDx - Plasticizing time  \\\n",
       "0        106.476184            80.617         7.124                     3.16   \n",
       "1        105.505000            81.362         6.968                     3.16   \n",
       "2        105.505000            80.411         6.864                     4.08   \n",
       "3        106.474827            81.162         6.864                     3.16   \n",
       "4        106.466140            81.471         6.864                     3.22   \n",
       "\n",
       "   ZUx - Cycle time  SKx - Closing force  SKs - Clamping force peak value  \\\n",
       "0             74.83           886.900000                       904.000000   \n",
       "1             74.81           919.409791                       935.900000   \n",
       "2             74.81           908.600000                       902.344823   \n",
       "3             74.82           879.410871                       902.033653   \n",
       "4             74.83           885.644260                       902.821269   \n",
       "\n",
       "   Ms - Torque peak value current cycle  Mm - Torque mean value current cycle  \\\n",
       "0                                 116.9                            104.300000   \n",
       "1                                 113.9                            104.900000   \n",
       "2                                 120.5                            106.503496   \n",
       "3                                 127.3                            104.900000   \n",
       "4                                 120.5                            106.700000   \n",
       "\n",
       "   APSs - Specific back pressure peak value  \\\n",
       "0                                     145.6   \n",
       "1                                     145.6   \n",
       "2                                     147.0   \n",
       "3                                     145.6   \n",
       "4                                     145.6   \n",
       "\n",
       "   APVs - Specific injection pressure peak value  \\\n",
       "0                                          922.3   \n",
       "1                                          930.5   \n",
       "2                                          933.1   \n",
       "3                                          922.3   \n",
       "4                                          917.5   \n",
       "\n",
       "   CPn - Screw position at the end of hold pressure  SVo - Shot volume  \\\n",
       "0                                              8.82              18.73   \n",
       "1                                              8.59              18.73   \n",
       "2                                              8.80              18.98   \n",
       "3                                              8.85              18.73   \n",
       "4                                              8.80              18.75   \n",
       "\n",
       "   quality  \n",
       "0      1.0  \n",
       "1      1.0  \n",
       "2      1.0  \n",
       "3      1.0  \n",
       "4      1.0  "
      ]
     },
     "execution_count": 23,
     "metadata": {},
     "output_type": "execute_result"
    }
   ],
   "source": [
    "# Step 0: Import a dataset into a Pandas DataFrame\n",
    "\n",
    "# Sample code template\n",
    "import pandas as pd\n",
    "# Import the dataset\n",
    "df = pd.read_csv('../data/data.csv', delimiter=\";\")\n",
    "\n",
    "df.head()"
   ]
  },
  {
   "cell_type": "code",
   "execution_count": 27,
   "metadata": {},
   "outputs": [
    {
     "data": {
      "text/html": [
       "<div>\n",
       "<style scoped>\n",
       "    .dataframe tbody tr th:only-of-type {\n",
       "        vertical-align: middle;\n",
       "    }\n",
       "\n",
       "    .dataframe tbody tr th {\n",
       "        vertical-align: top;\n",
       "    }\n",
       "\n",
       "    .dataframe thead th {\n",
       "        text-align: right;\n",
       "    }\n",
       "</style>\n",
       "<table border=\"1\" class=\"dataframe\">\n",
       "  <thead>\n",
       "    <tr style=\"text-align: right;\">\n",
       "      <th></th>\n",
       "      <th>Melt temperature</th>\n",
       "      <th>Mold temperature</th>\n",
       "      <th>time_to_fill</th>\n",
       "      <th>ZDx - Plasticizing time</th>\n",
       "      <th>ZUx - Cycle time</th>\n",
       "      <th>SKx - Closing force</th>\n",
       "      <th>SKs - Clamping force peak value</th>\n",
       "      <th>Ms - Torque peak value current cycle</th>\n",
       "      <th>Mm - Torque mean value current cycle</th>\n",
       "      <th>APSs - Specific back pressure peak value</th>\n",
       "      <th>APVs - Specific injection pressure peak value</th>\n",
       "      <th>CPn - Screw position at the end of hold pressure</th>\n",
       "      <th>SVo - Shot volume</th>\n",
       "      <th>quality</th>\n",
       "    </tr>\n",
       "  </thead>\n",
       "  <tbody>\n",
       "    <tr>\n",
       "      <th>391</th>\n",
       "      <td>124.391</td>\n",
       "      <td>80.844</td>\n",
       "      <td>6.968</td>\n",
       "      <td>3.17</td>\n",
       "      <td>74.81</td>\n",
       "      <td>916.7</td>\n",
       "      <td>933.0</td>\n",
       "      <td>124.7</td>\n",
       "      <td>110.0</td>\n",
       "      <td>146.1</td>\n",
       "      <td>914.9</td>\n",
       "      <td>8.88</td>\n",
       "      <td>18.69</td>\n",
       "      <td>2.0</td>\n",
       "    </tr>\n",
       "    <tr>\n",
       "      <th>454</th>\n",
       "      <td>141.136</td>\n",
       "      <td>80.947</td>\n",
       "      <td>6.968</td>\n",
       "      <td>3.13</td>\n",
       "      <td>74.80</td>\n",
       "      <td>921.0</td>\n",
       "      <td>936.7</td>\n",
       "      <td>123.8</td>\n",
       "      <td>110.0</td>\n",
       "      <td>145.6</td>\n",
       "      <td>918.0</td>\n",
       "      <td>8.86</td>\n",
       "      <td>18.71</td>\n",
       "      <td>2.0</td>\n",
       "    </tr>\n",
       "    <tr>\n",
       "      <th>470</th>\n",
       "      <td>110.223</td>\n",
       "      <td>81.081</td>\n",
       "      <td>7.748</td>\n",
       "      <td>3.10</td>\n",
       "      <td>74.84</td>\n",
       "      <td>921.2</td>\n",
       "      <td>936.7</td>\n",
       "      <td>126.4</td>\n",
       "      <td>113.0</td>\n",
       "      <td>147.5</td>\n",
       "      <td>923.1</td>\n",
       "      <td>8.90</td>\n",
       "      <td>18.67</td>\n",
       "      <td>2.0</td>\n",
       "    </tr>\n",
       "    <tr>\n",
       "      <th>511</th>\n",
       "      <td>140.641</td>\n",
       "      <td>81.183</td>\n",
       "      <td>7.852</td>\n",
       "      <td>3.12</td>\n",
       "      <td>74.82</td>\n",
       "      <td>918.2</td>\n",
       "      <td>937.0</td>\n",
       "      <td>118.7</td>\n",
       "      <td>109.9</td>\n",
       "      <td>145.7</td>\n",
       "      <td>930.8</td>\n",
       "      <td>8.95</td>\n",
       "      <td>18.62</td>\n",
       "      <td>2.0</td>\n",
       "    </tr>\n",
       "    <tr>\n",
       "      <th>547</th>\n",
       "      <td>132.740</td>\n",
       "      <td>80.934</td>\n",
       "      <td>6.968</td>\n",
       "      <td>3.14</td>\n",
       "      <td>74.81</td>\n",
       "      <td>918.2</td>\n",
       "      <td>936.5</td>\n",
       "      <td>126.4</td>\n",
       "      <td>109.7</td>\n",
       "      <td>146.4</td>\n",
       "      <td>913.0</td>\n",
       "      <td>8.88</td>\n",
       "      <td>18.69</td>\n",
       "      <td>2.0</td>\n",
       "    </tr>\n",
       "  </tbody>\n",
       "</table>\n",
       "</div>"
      ],
      "text/plain": [
       "     Melt temperature  Mold temperature  time_to_fill  \\\n",
       "391           124.391            80.844         6.968   \n",
       "454           141.136            80.947         6.968   \n",
       "470           110.223            81.081         7.748   \n",
       "511           140.641            81.183         7.852   \n",
       "547           132.740            80.934         6.968   \n",
       "\n",
       "     ZDx - Plasticizing time  ZUx - Cycle time  SKx - Closing force  \\\n",
       "391                     3.17             74.81                916.7   \n",
       "454                     3.13             74.80                921.0   \n",
       "470                     3.10             74.84                921.2   \n",
       "511                     3.12             74.82                918.2   \n",
       "547                     3.14             74.81                918.2   \n",
       "\n",
       "     SKs - Clamping force peak value  Ms - Torque peak value current cycle  \\\n",
       "391                            933.0                                 124.7   \n",
       "454                            936.7                                 123.8   \n",
       "470                            936.7                                 126.4   \n",
       "511                            937.0                                 118.7   \n",
       "547                            936.5                                 126.4   \n",
       "\n",
       "     Mm - Torque mean value current cycle  \\\n",
       "391                                 110.0   \n",
       "454                                 110.0   \n",
       "470                                 113.0   \n",
       "511                                 109.9   \n",
       "547                                 109.7   \n",
       "\n",
       "     APSs - Specific back pressure peak value  \\\n",
       "391                                     146.1   \n",
       "454                                     145.6   \n",
       "470                                     147.5   \n",
       "511                                     145.7   \n",
       "547                                     146.4   \n",
       "\n",
       "     APVs - Specific injection pressure peak value  \\\n",
       "391                                          914.9   \n",
       "454                                          918.0   \n",
       "470                                          923.1   \n",
       "511                                          930.8   \n",
       "547                                          913.0   \n",
       "\n",
       "     CPn - Screw position at the end of hold pressure  SVo - Shot volume  \\\n",
       "391                                              8.88              18.69   \n",
       "454                                              8.86              18.71   \n",
       "470                                              8.90              18.67   \n",
       "511                                              8.95              18.62   \n",
       "547                                              8.88              18.69   \n",
       "\n",
       "     quality  \n",
       "391      2.0  \n",
       "454      2.0  \n",
       "470      2.0  \n",
       "511      2.0  \n",
       "547      2.0  "
      ]
     },
     "execution_count": 27,
     "metadata": {},
     "output_type": "execute_result"
    }
   ],
   "source": [
    "# Step 1:  Filter the dataset to include only cycles where the `'Melt temperature'` is greater than the average melt temperature.\n",
    "\n",
    "avg_melt_temp = df['Melt temperature'].mean()\n",
    "filtered_df = df[df['Melt temperature'] > avg_melt_temp]\n",
    "\n",
    "filtered_df.head()"
   ]
  },
  {
   "cell_type": "markdown",
   "metadata": {},
   "source": [
    "This step filters rows based on whether their `'Melt temperature'` is above the column's average. This step focuses on cycles with higher-than-average melt temperatures."
   ]
  },
  {
   "cell_type": "code",
   "execution_count": 28,
   "metadata": {},
   "outputs": [
    {
     "data": {
      "text/html": [
       "<div>\n",
       "<style scoped>\n",
       "    .dataframe tbody tr th:only-of-type {\n",
       "        vertical-align: middle;\n",
       "    }\n",
       "\n",
       "    .dataframe tbody tr th {\n",
       "        vertical-align: top;\n",
       "    }\n",
       "\n",
       "    .dataframe thead th {\n",
       "        text-align: right;\n",
       "    }\n",
       "</style>\n",
       "<table border=\"1\" class=\"dataframe\">\n",
       "  <thead>\n",
       "    <tr style=\"text-align: right;\">\n",
       "      <th></th>\n",
       "      <th>Melt temperature</th>\n",
       "      <th>Mold temperature</th>\n",
       "      <th>quality</th>\n",
       "    </tr>\n",
       "  </thead>\n",
       "  <tbody>\n",
       "    <tr>\n",
       "      <th>391</th>\n",
       "      <td>124.391</td>\n",
       "      <td>80.844</td>\n",
       "      <td>2.0</td>\n",
       "    </tr>\n",
       "    <tr>\n",
       "      <th>454</th>\n",
       "      <td>141.136</td>\n",
       "      <td>80.947</td>\n",
       "      <td>2.0</td>\n",
       "    </tr>\n",
       "    <tr>\n",
       "      <th>470</th>\n",
       "      <td>110.223</td>\n",
       "      <td>81.081</td>\n",
       "      <td>2.0</td>\n",
       "    </tr>\n",
       "    <tr>\n",
       "      <th>511</th>\n",
       "      <td>140.641</td>\n",
       "      <td>81.183</td>\n",
       "      <td>2.0</td>\n",
       "    </tr>\n",
       "    <tr>\n",
       "      <th>547</th>\n",
       "      <td>132.740</td>\n",
       "      <td>80.934</td>\n",
       "      <td>2.0</td>\n",
       "    </tr>\n",
       "  </tbody>\n",
       "</table>\n",
       "</div>"
      ],
      "text/plain": [
       "     Melt temperature  Mold temperature  quality\n",
       "391           124.391            80.844      2.0\n",
       "454           141.136            80.947      2.0\n",
       "470           110.223            81.081      2.0\n",
       "511           140.641            81.183      2.0\n",
       "547           132.740            80.934      2.0"
      ]
     },
     "execution_count": 28,
     "metadata": {},
     "output_type": "execute_result"
    }
   ],
   "source": [
    "# 2. Step: Slice the dataset to include only the columns related to temperatures (`'Melt temperature'`, `'Mold temperature'`) and `quality`.\n",
    "\n",
    "sliced_df = filtered_df[['Melt temperature', 'Mold temperature', 'quality']]\n",
    "sliced_df.head()"
   ]
  },
  {
   "cell_type": "markdown",
   "metadata": {},
   "source": [
    "This step narrows down the dataset to only include the columns that are immediately relevant to the subsequent analysis, enhancing clarity and performance."
   ]
  },
  {
   "cell_type": "code",
   "execution_count": 24,
   "metadata": {},
   "outputs": [
    {
     "data": {
      "text/html": [
       "<div>\n",
       "<style scoped>\n",
       "    .dataframe tbody tr th:only-of-type {\n",
       "        vertical-align: middle;\n",
       "    }\n",
       "\n",
       "    .dataframe tbody tr th {\n",
       "        vertical-align: top;\n",
       "    }\n",
       "\n",
       "    .dataframe thead th {\n",
       "        text-align: right;\n",
       "    }\n",
       "</style>\n",
       "<table border=\"1\" class=\"dataframe\">\n",
       "  <thead>\n",
       "    <tr style=\"text-align: right;\">\n",
       "      <th></th>\n",
       "      <th>Mold temperature</th>\n",
       "      <th>Melt temperature</th>\n",
       "    </tr>\n",
       "    <tr>\n",
       "      <th>quality</th>\n",
       "      <th></th>\n",
       "      <th></th>\n",
       "    </tr>\n",
       "  </thead>\n",
       "  <tbody>\n",
       "    <tr>\n",
       "      <th>1.0</th>\n",
       "      <td>81.106881</td>\n",
       "      <td>106.062991</td>\n",
       "    </tr>\n",
       "    <tr>\n",
       "      <th>2.0</th>\n",
       "      <td>81.227101</td>\n",
       "      <td>106.640461</td>\n",
       "    </tr>\n",
       "    <tr>\n",
       "      <th>3.0</th>\n",
       "      <td>81.151197</td>\n",
       "      <td>106.020055</td>\n",
       "    </tr>\n",
       "    <tr>\n",
       "      <th>4.0</th>\n",
       "      <td>81.806685</td>\n",
       "      <td>108.752877</td>\n",
       "    </tr>\n",
       "  </tbody>\n",
       "</table>\n",
       "</div>"
      ],
      "text/plain": [
       "         Mold temperature  Melt temperature\n",
       "quality                                    \n",
       "1.0             81.106881        106.062991\n",
       "2.0             81.227101        106.640461\n",
       "3.0             81.151197        106.020055\n",
       "4.0             81.806685        108.752877"
      ]
     },
     "execution_count": 24,
     "metadata": {},
     "output_type": "execute_result"
    }
   ],
   "source": [
    "# 3. Step: Group the dataset by `'quality'` and calculate the average `'Mold temperature'` and `'Melt temperature'` for each quality group.\n",
    "\n",
    "avg_temp_by_quality = df.groupby('quality')[['Mold temperature', 'Melt temperature']].mean()\n",
    "\n",
    "avg_temp_by_quality"
   ]
  },
  {
   "cell_type": "code",
   "execution_count": 25,
   "metadata": {},
   "outputs": [
    {
     "data": {
      "text/plain": [
       "quality\n",
       "1.0    937.7\n",
       "2.0    943.0\n",
       "3.0    927.9\n",
       "4.0    935.6\n",
       "Name: APVs - Specific injection pressure peak value, dtype: float64"
      ]
     },
     "execution_count": 25,
     "metadata": {},
     "output_type": "execute_result"
    }
   ],
   "source": [
    "# 4. Step: For each `'quality'` group, find the maximum `'Specific injection pressure peak value'` (APVs).\n",
    "\n",
    "max_apvs_by_quality = df.groupby('quality')['APVs - Specific injection pressure peak value'].max()\n",
    "\n",
    "max_apvs_by_quality"
   ]
  },
  {
   "cell_type": "markdown",
   "metadata": {},
   "source": [
    "Step 3 and Step 4 leverage the `groupby()` method to segment the data by `'quality'`, enabling detailed analysis of temperature averages and maximum injection pressures within each quality category."
   ]
  },
  {
   "cell_type": "code",
   "execution_count": 29,
   "metadata": {},
   "outputs": [
    {
     "data": {
      "text/html": [
       "<div>\n",
       "<style scoped>\n",
       "    .dataframe tbody tr th:only-of-type {\n",
       "        vertical-align: middle;\n",
       "    }\n",
       "\n",
       "    .dataframe tbody tr th {\n",
       "        vertical-align: top;\n",
       "    }\n",
       "\n",
       "    .dataframe thead th {\n",
       "        text-align: right;\n",
       "    }\n",
       "</style>\n",
       "<table border=\"1\" class=\"dataframe\">\n",
       "  <thead>\n",
       "    <tr style=\"text-align: right;\">\n",
       "      <th>Mold temperature rounded</th>\n",
       "      <th>78.0</th>\n",
       "      <th>79.0</th>\n",
       "      <th>80.0</th>\n",
       "      <th>81.0</th>\n",
       "      <th>82.0</th>\n",
       "    </tr>\n",
       "    <tr>\n",
       "      <th>quality</th>\n",
       "      <th></th>\n",
       "      <th></th>\n",
       "      <th></th>\n",
       "      <th></th>\n",
       "      <th></th>\n",
       "    </tr>\n",
       "  </thead>\n",
       "  <tbody>\n",
       "    <tr>\n",
       "      <th>1.0</th>\n",
       "      <td>NaN</td>\n",
       "      <td>NaN</td>\n",
       "      <td>74.820286</td>\n",
       "      <td>74.819305</td>\n",
       "      <td>74.810000</td>\n",
       "    </tr>\n",
       "    <tr>\n",
       "      <th>2.0</th>\n",
       "      <td>NaN</td>\n",
       "      <td>74.835</td>\n",
       "      <td>NaN</td>\n",
       "      <td>74.827239</td>\n",
       "      <td>74.825000</td>\n",
       "    </tr>\n",
       "    <tr>\n",
       "      <th>3.0</th>\n",
       "      <td>74.88</td>\n",
       "      <td>74.880</td>\n",
       "      <td>75.287500</td>\n",
       "      <td>75.736831</td>\n",
       "      <td>75.628889</td>\n",
       "    </tr>\n",
       "    <tr>\n",
       "      <th>4.0</th>\n",
       "      <td>NaN</td>\n",
       "      <td>NaN</td>\n",
       "      <td>NaN</td>\n",
       "      <td>75.646930</td>\n",
       "      <td>75.635299</td>\n",
       "    </tr>\n",
       "  </tbody>\n",
       "</table>\n",
       "</div>"
      ],
      "text/plain": [
       "Mold temperature rounded   78.0    79.0       80.0       81.0       82.0\n",
       "quality                                                                 \n",
       "1.0                         NaN     NaN  74.820286  74.819305  74.810000\n",
       "2.0                         NaN  74.835        NaN  74.827239  74.825000\n",
       "3.0                       74.88  74.880  75.287500  75.736831  75.628889\n",
       "4.0                         NaN     NaN        NaN  75.646930  75.635299"
      ]
     },
     "execution_count": 29,
     "metadata": {},
     "output_type": "execute_result"
    }
   ],
   "source": [
    "# 5. Step: Create a pivot table showing the average `'Cycle time' (ZUx - Cycle time) for each combination of 'quality'` and `'Mold temperature'` (rounded to the nearest integer).\n",
    "\n",
    "df['Mold temperature rounded'] = df['Mold temperature'].round()\n",
    "pivot_table = df.pivot_table(values='ZUx - Cycle time', index='quality', columns='Mold temperature rounded', aggfunc='mean')\n",
    "\n",
    "pivot_table"
   ]
  },
  {
   "cell_type": "markdown",
   "metadata": {},
   "source": [
    "This step creates a pivot table that averages `'Cycle time'` across combinations of `'quality'` and `'Mold temperature'`, offering insights into how these variables interact."
   ]
  },
  {
   "cell_type": "code",
   "execution_count": 30,
   "metadata": {},
   "outputs": [
    {
     "data": {
      "text/html": [
       "<div>\n",
       "<style scoped>\n",
       "    .dataframe tbody tr th:only-of-type {\n",
       "        vertical-align: middle;\n",
       "    }\n",
       "\n",
       "    .dataframe tbody tr th {\n",
       "        vertical-align: top;\n",
       "    }\n",
       "\n",
       "    .dataframe thead th {\n",
       "        text-align: right;\n",
       "    }\n",
       "</style>\n",
       "<table border=\"1\" class=\"dataframe\">\n",
       "  <thead>\n",
       "    <tr style=\"text-align: right;\">\n",
       "      <th>CPn_category</th>\n",
       "      <th>&lt;9</th>\n",
       "      <th>9-10</th>\n",
       "    </tr>\n",
       "    <tr>\n",
       "      <th>quality</th>\n",
       "      <th></th>\n",
       "      <th></th>\n",
       "    </tr>\n",
       "  </thead>\n",
       "  <tbody>\n",
       "    <tr>\n",
       "      <th>1.0</th>\n",
       "      <td>370</td>\n",
       "      <td>0</td>\n",
       "    </tr>\n",
       "    <tr>\n",
       "      <th>2.0</th>\n",
       "      <td>406</td>\n",
       "      <td>0</td>\n",
       "    </tr>\n",
       "    <tr>\n",
       "      <th>3.0</th>\n",
       "      <td>308</td>\n",
       "      <td>2</td>\n",
       "    </tr>\n",
       "    <tr>\n",
       "      <th>4.0</th>\n",
       "      <td>343</td>\n",
       "      <td>22</td>\n",
       "    </tr>\n",
       "  </tbody>\n",
       "</table>\n",
       "</div>"
      ],
      "text/plain": [
       "CPn_category   <9  9-10\n",
       "quality                \n",
       "1.0           370     0\n",
       "2.0           406     0\n",
       "3.0           308     2\n",
       "4.0           343    22"
      ]
     },
     "execution_count": 30,
     "metadata": {},
     "output_type": "execute_result"
    }
   ],
   "source": [
    "# 6. Step: Use cross-tabulation to summarize the count of cycles by `'quality'` and the `'Screw position at the end of hold pressure'` (CPn) binned into categories (e.g., <9, 9-10, >10).\n",
    "\n",
    "# Binning the CPn values\n",
    "df['CPn_category'] = pd.cut(df['CPn - Screw position at the end of hold pressure'], bins=[-np.inf, 9, 10, np.inf], labels=['<9', '9-10', '>10'])\n",
    "\n",
    "# Cross-tabulation\n",
    "cross_tab = pd.crosstab(index=df['quality'], columns=df['CPn_category'])\n",
    "\n",
    "cross_tab\n"
   ]
  },
  {
   "cell_type": "markdown",
   "metadata": {},
   "source": [
    "This step utilizes `pd.cut()` to categorize `'Screw position at the end of hold pressure'` and `pd.crosstab()` to summarize the distribution of these categories by `'quality'`, providing a clear overview of cycle counts across different operational settings and outcomes."
   ]
  },
  {
   "cell_type": "markdown",
   "metadata": {},
   "source": [
    "[--> Back to Outline](#course-outline)"
   ]
  },
  {
   "cell_type": "markdown",
   "metadata": {},
   "source": [
    "---\n",
    "## **[5. Best Practices and Resources](#5-best-practices-and-resources)**\n"
   ]
  },
  {
   "cell_type": "markdown",
   "metadata": {},
   "source": [
    "### **[5.1 Writing Efficient Pandas Code](#5.1-writing-efficient-pandas-code)**\n",
    "<a name=\"5.1-writing-efficient-pandas-code\"></a>\n",
    "Writing efficient Pandas code is crucial for dealing with large datasets and complex data transformations. Here are some tips:\n",
    "\n",
    "- **Use vectorized operations**: Avoid loops; instead, use Pandas' built-in methods that are optimized for performance.\n",
    "- **Avoid chaining operations**: Chaining methods can lead to intermediate copies of data, so try to use methods that allow for direct assignment.\n",
    "- **Utilize categorical data**: When dealing with object types, consider converting them to categorical data, which can save both memory and time.\n",
    "- **Minimize memory usage**: Pay attention to data types. Downcasting numeric data to smaller types can significantly reduce memory usage.\n"
   ]
  },
  {
   "cell_type": "markdown",
   "metadata": {},
   "source": [
    "### **[5.2 Learning Resources](#5.2-learning-resources)**\n",
    "<a name=\"5.2-learning-resources\"></a>\n",
    "To further enhance your Pandas skills, consider exploring the following resources:\n",
    "\n",
    "- **[Pandas Documentation](https://pandas.pydata.org/pandas-docs/stable/index.html)**: The official documentation is an excellent resource for learning and reference.\n",
    "- **[Python Data Science Handbook](https://jakevdp.github.io/PythonDataScienceHandbook/)**: Offers an in-depth look at using Pandas for data science.\n",
    "- **[Kaggle Pandas Micro-Course](https://www.kaggle.com/learn/pandas)**: Provides practical exercises and examples.\n",
    "- **Online forums and communities**: Websites like Stack Overflow, Reddit's r/learnpython, and the Pandas tag on Stack Overflow are great for getting help and advice."
   ]
  },
  {
   "cell_type": "markdown",
   "metadata": {},
   "source": [
    "### **[5.3 Q&A Session](#5.3-qa-session)**\n",
    "<a name=\"5.3-qa-session\"></a>\n",
    "Q: How can I improve my Pandas code's performance?\n",
    "A: Focus on vectorized operations, use appropriate data types, and leverage the power of indexing for selecting and filtering data efficiently.\n",
    "\n",
    "Q: Can Pandas handle very large datasets?\n",
    "A: Pandas can handle large datasets, but its performance depends on your system's memory. For extremely large datasets, consider using Dask or chunking your data with Pandas.\n",
    "\n",
    "Q: How can I stay updated with new Pandas features?\n",
    "A: Follow the official Pandas blog and GitHub repository for release notes and updates. Participating in communities can also keep you informed about best practices and new features."
   ]
  },
  {
   "cell_type": "markdown",
   "metadata": {},
   "source": [
    "[--> Back to Outline](#course-outline)\n",
    "\n",
    "---"
   ]
  }
 ],
 "metadata": {
  "kernelspec": {
   "display_name": "Python 3 (ipykernel)",
   "language": "python",
   "name": "python3"
  },
  "language_info": {
   "codemirror_mode": {
    "name": "ipython",
    "version": 3
   },
   "file_extension": ".py",
   "mimetype": "text/x-python",
   "name": "python",
   "nbconvert_exporter": "python",
   "pygments_lexer": "ipython3",
   "version": "3.10.13"
  }
 },
 "nbformat": 4,
 "nbformat_minor": 2
}
