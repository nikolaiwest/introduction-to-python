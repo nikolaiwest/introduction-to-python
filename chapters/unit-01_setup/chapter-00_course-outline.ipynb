{
 "cells": [
  {
   "cell_type": "markdown",
   "metadata": {},
   "source": [
    "# UE1: Setup\n",
    "\n",
    "<img src=\"https://upload.wikimedia.org/wikipedia/commons/thumb/f/f8/Python_logo_and_wordmark.svg/2560px-Python_logo_and_wordmark.svg.png\" height=\"200\">\n",
    "\n",
    "### **Introduction to Python**\n",
    "\n",
    "Welcome to the *\"Introduction to Python\"* programming course, where you'll learn the fundamentals of **Python** and how to use **Python** for a wide range of programming tasks. \n",
    "\n",
    "This is multiple hour course unit *Unit 01: Setup\"*, is designed to provide beginners with a solid foundation in Python, covering critical aspects of setting up Python for data science tasks.\n",
    "\n",
    "---"
   ]
  },
  {
   "cell_type": "markdown",
   "metadata": {},
   "source": [
    "### Acknowledgement \n",
    "\n",
    "The ProData research project (funding code: 16DKWN119A) is funded by the Federal Ministry of Education and Research (BMBF) as part of the “Strengthening the data skills of young scientists” funding program and by the European Union as part of the “NextGenerationEU” funding program and is supervised by the VDI/VDE project management agency. \n",
    "\n"
   ]
  }
 ],
 "metadata": {
  "kernelspec": {
   "display_name": "python_in_kassel",
   "language": "python",
   "name": "python3"
  },
  "language_info": {
   "codemirror_mode": {
    "name": "ipython",
    "version": 3
   },
   "file_extension": ".py",
   "mimetype": "text/x-python",
   "name": "python",
   "nbconvert_exporter": "python",
   "pygments_lexer": "ipython3",
   "version": "3.12.4"
  }
 },
 "nbformat": 4,
 "nbformat_minor": 2
}
