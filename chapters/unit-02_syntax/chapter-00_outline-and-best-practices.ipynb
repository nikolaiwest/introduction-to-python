{
 "cells": [
  {
   "cell_type": "markdown",
   "metadata": {},
   "source": [
    "# UE2: Syntax\n",
    "\n",
    "<img src=\"https://upload.wikimedia.org/wikipedia/commons/thumb/f/f8/Python_logo_and_wordmark.svg/2560px-Python_logo_and_wordmark.svg.png\" height=\"200\">"
   ]
  },
  {
   "cell_type": "markdown",
   "metadata": {},
   "source": [
    "### **Introduction to Python Programming**\n",
    "\n",
    "Welcome to the Introduction to Python Programming course, where you'll learn the fundamentals of Python syntax and how to use Python for a wide range of programming tasks. \n",
    "\n",
    "This two-hour course unit *\"UE2: Syntax\"* is designed to provide beginners with a solid foundation in Python, covering everything from basic data types to complex concepts like object-oriented programming. We will often only scratch the surface of some concepts, but this course aims to provide references to support self-guided learning.\n",
    "\n",
    "---\n"
   ]
  },
  {
   "cell_type": "markdown",
   "metadata": {},
   "source": [
    "## **[Course Outline](#course-outline)**\n",
    "\n",
    "#### **Chapter 1. [Getting Started with Python](#1-getting-started-with-python)**\n",
    "- **Chapter 1.1 [Introduction to Python](#1.1-introduction-to-python):** Overview of Python and its place in the programming world.\n",
    "- **Chapter 1.2 [Setting Up Your Environment](#1.2-setting-up-your-environment):** How to install Python and set up a development environment.\n",
    "- **Chapter 1.3 [Your First Python Program](#1.3-your-first-python-program):** Writing and executing your first Python script.\n",
    "\n",
    "#### **Chapter 2. [Python Basics](#2-python-basics)**\n",
    "- **Chapter 2.1 [Variables and Data Types](#2.1-variables-and-data-types):** Understanding Python's basic data types and how to use variables.\n",
    "- **Chapter 2.2 [Operators](#2.2-operators):** Exploring Python's operators for arithmetic, comparison, and logical operations.\n",
    "- **Chapter 2.3 [Strings and Input](#2.3-strings-and-input):** Manipulating strings and getting user input.\n",
    "\n",
    "#### **Chapter 3. [Control Structures](#3-control-structures)**\n",
    "- **Chapter 3.1 [Conditionals](#3.1-conditionals):** Making decisions in your code with `if`, `elif`, and `else`.\n",
    "- **Chapter 3.2 [Loops](#3.2-loops):** Repeating tasks using `for` and `while` loops.\n",
    "- **Chapter 3.3 [Handling Errors and Exceptions](#3.3-handling-errors-and-exceptions):** Writing robust code by handling exceptions.\n",
    "\n",
    "#### **Chapter 4. [Data Structures](#4-data-structures)**\n",
    "- **Chapter 4.1 [Lists](#4.1-lists):** Working with lists for ordered data collections.\n",
    "- **Chapter 4.2 [Dictionaries](#4.2-dictionaries):** Using dictionaries for key-value pairs.\n",
    "- **Chapter 4.3 [Tuples and Sets](#4.3-tuples-and-sets):** Understanding tuples and sets for unique and immutable collections.\n",
    "\n",
    "#### **Chapter 5. [Functions and Modules](#5-functions-and-modules)**\n",
    "- **Chapter 5.1 [Defining Functions](#5.1-defining-functions):** Creating reusable code blocks with functions.\n",
    "- **Chapter 5.2 [Function Arguments](#5.2-function-arguments):** Passing data to functions through arguments.\n",
    "- **Chapter 5.3 [Modules and Packages](#5.3-modules-and-packages):** Organizing code into modules and using external packages.\n",
    "- **Chapter 5.4 [Coding Challenge](#5.4-coding-challenge)**\n",
    "\n",
    "#### **Chapter 6. [Object-Oriented Programming](#6-object-oriented-programming)**\n",
    "- **Chapter 6.1 [Classes and Objects](#6.1-classes-and-objects):** Introduction to object-oriented programming concepts.\n",
    "- **Chapter 6.2 [Inheritance and Polymorphism](#6.2-inheritance-and-polymorphism):** Extending classes and using polymorphism.\n",
    "- **Chapter 6.3 [Magic Methods and Decorators](#6.3-magic-methods-and-decorators):** Enhancing classes with special methods and decorators.\n",
    "\n",
    "#### **Chapter 7. [Best Practices and Resources](#8-best-practices-and-resources)**\n",
    "- **Chapter 7.1 [Writing Idiomatic Python](#8.1-writing-idiomatic-python):** Tips for writing clean and Pythonic code.\n",
    "- **Chapter 7.2 [Learning Resources](#8.2-learning-resources):** Further materials for deepening your Python knowledge.\n",
    "- **Chapter 7.3 [Q&A Session](#73-qa-session)** Opportunity to discuss and clarify doubts.\n",
    "\n",
    "\n",
    "---"
   ]
  }
 ],
 "metadata": {
  "language_info": {
   "name": "python"
  }
 },
 "nbformat": 4,
 "nbformat_minor": 2
}
