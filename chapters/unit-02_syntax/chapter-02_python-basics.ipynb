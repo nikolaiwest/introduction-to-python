{
 "cells": [
  {
   "cell_type": "markdown",
   "metadata": {},
   "source": [
    "# **Chapter 2:** Python Basics\n",
    "\n",
    "## Introduction\n",
    "\n",
    "In this chapter, we'll dive into the fundamental building blocks of Python programming. Understanding these basics is crucial as they form the foundation upon which more complex programming concepts are built.\n",
    "\n",
    "Python's simplicity and readability make it an excellent language for beginners, but don't let that fool you – these basic concepts are powerful tools used in even the most sophisticated Python applications. By the end of this chapter, you'll have a solid grasp of Python`s core elements and be ready to start writing more complex programs.\n",
    "\n",
    "## Chapter outline\n",
    "\n",
    "**2.1 Variables and Data Types** \n",
    "- Understanding variables\n",
    "- Python`s basic data types: int, float, str, bool\n",
    "- Type conversion\n",
    "- Using the type() function\n",
    "\n",
    "**2.2 Operators** \n",
    "- Arithmetic operators (+, -, *, /, //, %, **)\n",
    "- Comparison operators (==, !=, <, >, <=, >=)\n",
    "- Logical operators (and, or, not)\n",
    "- Assignment operators (=, +=, -=, etc.)\n",
    "- Operator precedence\n",
    "\n",
    "**2.3 Strings and Input** \n",
    "- String basics and operations\n",
    "- String indexing and slicing\n",
    "- String formatting (f-strings, .format(), %-formatting)\n",
    "- Common string methods\n",
    "- Getting user input with input()\n",
    "- Type casting input\n",
    "\n",
    "**2.4 Coding Challenge: Stress and Strain Calculator** \n",
    "- A practical exercise to apply the concepts learned in this chapter\n",
    "- Introduction to the stress and strain concepts\n",
    "- Building a simple calculator using variables, operators, and user input\n",
    "\n",
    "Each section will include explanations, examples, and hands-on practice tasks to reinforce your learning. Remember, programming is a skill best learned by doing, so don't hesitate to experiment with the code and try your own variations!\n",
    "\n",
    "Let's begin our journey into Python basics!\n",
    "\n",
    "---\n",
    "---"
   ]
  },
  {
   "cell_type": "markdown",
   "metadata": {},
   "source": [
    "## **Chapter 2.1:** Variables and Data Types\n",
    "\n",
    "In Python, **variables** are used to store data, and data types define the kind of data a variable can hold. Understanding variables and data types is crucial for writing effective Python code.\n",
    "\n",
    "### Variables\n",
    "\n",
    "A variable in Python is a name that refers to a value stored in the computer's memory. Think of it as a container that holds data.\n",
    "\n",
    "#### Creating Variables\n",
    "\n",
    "In Python, you create a variable by assigning a value to it using the `=` operator:\n",
    "\n",
    "```python\n",
    "x = 5\n",
    "name = \"User\"\n",
    "is_student = True\n",
    "```\n",
    "\n",
    "Python uses **dynamic typing**, which means you don't need to declare the type of a variable explicitly. The type is inferred from the value assigned to it.\n",
    "\n",
    "Here are some naming conventions:\n",
    "* Variable names can contain letters, numbers, and underscores.\n",
    "* They must start with a letter or underscore.\n",
    "* Names are case-sensitive (myVar and myvar are different variables).\n",
    "* By convention, variable names use `snake_case` (words separated by underscores).\n",
    "\n",
    "### Basic Data Types\n",
    "\n",
    "Python has several built-in data types. Here are the most common ones:"
   ]
  },
  {
   "cell_type": "code",
   "execution_count": 1,
   "metadata": {},
   "outputs": [
    {
     "name": "stdout",
     "output_type": "stream",
     "text": [
      "5\n"
     ]
    }
   ],
   "source": [
    "# Integers (int):  Whole numbers, positive or negative.\n",
    "x = 5 \n",
    "print(x)"
   ]
  },
  {
   "cell_type": "code",
   "execution_count": 2,
   "metadata": {},
   "outputs": [
    {
     "name": "stdout",
     "output_type": "stream",
     "text": [
      "5.0\n"
     ]
    }
   ],
   "source": [
    "# Floating-point numbers (float): Numbers with a decimal point.\n",
    "y = 5.0\n",
    "print(y)"
   ]
  },
  {
   "cell_type": "code",
   "execution_count": 3,
   "metadata": {},
   "outputs": [
    {
     "name": "stdout",
     "output_type": "stream",
     "text": [
      "Hello, World!\n"
     ]
    }
   ],
   "source": [
    "# Strings (str): Sequences of characters, enclosed in single or double quotes.\n",
    "message = 'Hello, World!'\n",
    "print(message)"
   ]
  },
  {
   "cell_type": "code",
   "execution_count": 4,
   "metadata": {},
   "outputs": [
    {
     "name": "stdout",
     "output_type": "stream",
     "text": [
      "True\n"
     ]
    }
   ],
   "source": [
    "# Booleans (bool): Represents True or False.\n",
    "is_active = True\n",
    "print(is_active)"
   ]
  },
  {
   "cell_type": "markdown",
   "metadata": {},
   "source": [
    "### Type Conversion\n",
    "\n",
    "You can convert between data types using type conversion functions:"
   ]
  },
  {
   "cell_type": "code",
   "execution_count": 5,
   "metadata": {},
   "outputs": [
    {
     "name": "stdout",
     "output_type": "stream",
     "text": [
      "10\n",
      "10.0\n"
     ]
    }
   ],
   "source": [
    "x = 10\n",
    "y = float(x)  # Converts x to a float: 10.0\n",
    "print(x)\n",
    "print(y)"
   ]
  },
  {
   "cell_type": "code",
   "execution_count": 6,
   "metadata": {},
   "outputs": [
    {
     "name": "stdout",
     "output_type": "stream",
     "text": [
      "123\n",
      "123\n"
     ]
    }
   ],
   "source": [
    "var_one = \"123\"\n",
    "var_two = int(var_one)  # Converts z to an integer: 123\n",
    "print(var_one)\n",
    "print(var_two)"
   ]
  },
  {
   "cell_type": "code",
   "execution_count": 7,
   "metadata": {},
   "outputs": [
    {
     "name": "stdout",
     "output_type": "stream",
     "text": [
      "True\n",
      "True\n"
     ]
    }
   ],
   "source": [
    "is_active = True\n",
    "is_active_str = str(is_active)  # Converts is_sunny to a string: \"True\"\n",
    "print(is_active)\n",
    "print(is_active_str)"
   ]
  },
  {
   "cell_type": "markdown",
   "metadata": {},
   "source": [
    "### Understanding the Importance of Types\n",
    "\n",
    "As you've seen, some data types have visually distinct representations:\n",
    "\n",
    "```python\n",
    "x = 5       # Clearly an integer\n",
    "y = 5.0     # Clearly a float\n",
    "z = \"5\"     # Clearly a string\n",
    "```\n",
    "\n",
    "However, not all type differences are immediately obvious:\n",
    "\n",
    "```python\n",
    "a = 5\n",
    "b = \"5\"\n",
    "```\n",
    "\n",
    "Both `a` and `b` might look the same when printed, but they are fundamentally different:"
   ]
  },
  {
   "cell_type": "code",
   "execution_count": 8,
   "metadata": {},
   "outputs": [
    {
     "name": "stdout",
     "output_type": "stream",
     "text": [
      "6\n"
     ]
    }
   ],
   "source": [
    "a = 5\n",
    "print(a + 1)  # Works fine, outputs 6"
   ]
  },
  {
   "cell_type": "code",
   "execution_count": 9,
   "metadata": {},
   "outputs": [
    {
     "ename": "TypeError",
     "evalue": "can only concatenate str (not \"int\") to str",
     "output_type": "error",
     "traceback": [
      "\u001b[1;31m---------------------------------------------------------------------------\u001b[0m",
      "\u001b[1;31mTypeError\u001b[0m                                 Traceback (most recent call last)",
      "Cell \u001b[1;32mIn[9], line 2\u001b[0m\n\u001b[0;32m      1\u001b[0m b \u001b[38;5;241m=\u001b[39m \u001b[38;5;124m\"\u001b[39m\u001b[38;5;124m5\u001b[39m\u001b[38;5;124m\"\u001b[39m\n\u001b[1;32m----> 2\u001b[0m \u001b[38;5;28mprint\u001b[39m(\u001b[43mb\u001b[49m\u001b[43m \u001b[49m\u001b[38;5;241;43m+\u001b[39;49m\u001b[43m \u001b[49m\u001b[38;5;241;43m1\u001b[39;49m)  \u001b[38;5;66;03m# Raises a TypeError\u001b[39;00m\n",
      "\u001b[1;31mTypeError\u001b[0m: can only concatenate str (not \"int\") to str"
     ]
    }
   ],
   "source": [
    "b = \"5\"\n",
    "print(b + 1)  # Raises a TypeError"
   ]
  },
  {
   "cell_type": "markdown",
   "metadata": {},
   "source": [
    "Here, an error occurs because Python doesn't know how to combine these different data types. We'll explore how to handle such errors and convert between data types in the next chapter on control structures and error handling.\n",
    "\n",
    "For now, this is where understanding and checking types becomes crucial. Different types support different operations, and mixing types incorrectly can lead to errors or unexpected behavior in your code."
   ]
  },
  {
   "cell_type": "markdown",
   "metadata": {},
   "source": [
    "### Using the type() Function\n",
    "\n",
    "To avoid confusion and ensure we're working with the correct data types, Python provides the `type()` function. This allows us to directly inspect the type of any variable or value:"
   ]
  },
  {
   "cell_type": "code",
   "execution_count": 10,
   "metadata": {},
   "outputs": [
    {
     "name": "stdout",
     "output_type": "stream",
     "text": [
      "<class 'int'>\n"
     ]
    }
   ],
   "source": [
    "a = 5\n",
    "print(type(a))  # Output: <class 'int'>"
   ]
  },
  {
   "cell_type": "code",
   "execution_count": 11,
   "metadata": {},
   "outputs": [
    {
     "name": "stdout",
     "output_type": "stream",
     "text": [
      "<class 'str'>\n"
     ]
    }
   ],
   "source": [
    "b = \"5\"\n",
    "print(type(b))  # Output: <class 'str'>"
   ]
  },
  {
   "cell_type": "code",
   "execution_count": 12,
   "metadata": {},
   "outputs": [
    {
     "name": "stdout",
     "output_type": "stream",
     "text": [
      "<class 'float'>\n"
     ]
    }
   ],
   "source": [
    "c = 5.0\n",
    "print(type(c))  # Output: <class 'float'>"
   ]
  },
  {
   "cell_type": "code",
   "execution_count": 13,
   "metadata": {},
   "outputs": [
    {
     "name": "stdout",
     "output_type": "stream",
     "text": [
      "<class 'bool'>\n"
     ]
    }
   ],
   "source": [
    "d = True\n",
    "print(type(d))  # Output: <class 'bool'>"
   ]
  },
  {
   "cell_type": "code",
   "execution_count": 14,
   "metadata": {},
   "outputs": [
    {
     "name": "stdout",
     "output_type": "stream",
     "text": [
      "10.0\n",
      "7\n",
      "5\n"
     ]
    }
   ],
   "source": [
    "# Convert integer to float\n",
    "a = 10\n",
    "print(float(a))\n",
    "\n",
    "# Convert float to integer\n",
    "b = 7.99\n",
    "print(int(b))\n",
    "\n",
    "# Convert number to string\n",
    "c = 5\n",
    "print(str(c))"
   ]
  },
  {
   "cell_type": "markdown",
   "metadata": {},
   "source": [
    "### Printing the Last Line\n",
    "\n",
    "In Jupyter Notebooks, the last line of a cell, if it's an expression, will automatically be printed without needing to use the `print()` function. This can be very convenient but might also lead to unexpected output if you're not aware of it. \n",
    "\n",
    "For example:"
   ]
  },
  {
   "cell_type": "code",
   "execution_count": 25,
   "metadata": {},
   "outputs": [
    {
     "data": {
      "text/plain": [
       "15"
      ]
     },
     "execution_count": 25,
     "metadata": {},
     "output_type": "execute_result"
    }
   ],
   "source": [
    "x = 5\n",
    "y = 10\n",
    "x + y  # This will be printed"
   ]
  },
  {
   "cell_type": "markdown",
   "metadata": {},
   "source": [
    "In this cell, the result of `x + y` (which is `15`) will be displayed as output, even though we didn't explicitly print it."
   ]
  },
  {
   "cell_type": "markdown",
   "metadata": {},
   "source": [
    "### Order of Execution Matters\n",
    "\n",
    "When working in Jupyter Notebooks, it's crucial to understand that the order in which you execute cells matters significantly. Python keeps all variables **in memory** during your Jupyter session, and executing cells in a different order can lead to unexpected results or errors.\n",
    "\n",
    "For example:"
   ]
  },
  {
   "cell_type": "code",
   "execution_count": null,
   "metadata": {},
   "outputs": [],
   "source": [
    "# Cell 1\n",
    "x = 5"
   ]
  },
  {
   "cell_type": "code",
   "execution_count": null,
   "metadata": {},
   "outputs": [],
   "source": [
    "# Cell 2\n",
    "y = x + 10\n",
    "print(y)  # This will work if Cell 1 has been executed first"
   ]
  },
  {
   "cell_type": "code",
   "execution_count": null,
   "metadata": {},
   "outputs": [],
   "source": [
    "# Cell 3\n",
    "z = w + 1  # This will raise an error because w is not defined"
   ]
  },
  {
   "cell_type": "code",
   "execution_count": null,
   "metadata": {},
   "outputs": [],
   "source": [
    "# Cell 4 \n",
    "w = x + y # Running this cell, will allow you to run Cell 3"
   ]
  },
  {
   "cell_type": "markdown",
   "metadata": {},
   "source": [
    "If you execute `Cell 2` before `Cell 1`, you'll get an error because `x` is not yet defined. \n",
    "\n",
    "Similarly, executing `Cell 3` will always raise an error unless you've defined `w` in the follwing cell.\n",
    "\n",
    "Always be mindful of the state of your notebook and the order in which you've executed cells. It's generally a good practice to restart your kernel and run all cells in order when you want to ensure your code works as expected from start to finish.\n",
    "\n",
    "---"
   ]
  },
  {
   "cell_type": "markdown",
   "metadata": {},
   "source": [
    "## 👨‍💻 **Practice tasks 2.1:** Using Variables and Data Types \n",
    "\n",
    "Now it's time to put what you've learned into practice. Complete the following tasks in a new code cell in your Jupyter Notebook:\n",
    "\n",
    "**Using variables:**\n",
    "\n",
    "1. Create an integer variable named `age` and assign it your age.\n",
    "\n",
    "2. Create a float variable named `height` and assign it your height in meters.\n",
    "\n",
    "3. Create a boolean variable named `is_student` and assign it `True` if you're a student, `False` otherwise.\n",
    "\n",
    "4. Create a string variable named `favorite_color` and assign it your favorite color.\n",
    "\n",
    "**Working with data types:**\n",
    "\n",
    "5. Print the type of each variable you created using the `type()` function.\n",
    "\n",
    "6. Convert `age` to a float and store it in a new variable `age_float`.\n",
    "\n",
    "7. Convert `height` to an integer and store it in a new variable `height_int`.\n",
    "\n",
    "8. Convert `age` to a string and store it in a new variable `age_str`.\n",
    "\n",
    "9. Print the values and types of `age_float`, `height_int`, and `age_str`.\n",
    "\n",
    "Try completing these tasks on your own. If you get stuck, don't hesitate to refer back to the earlier sections or ask for help. Remember, in Jupyter Notebooks, you can run each cell individually to check your work as you go.\n",
    "\n",
    "After you've completed the tasks, run your cells and verify that all the variables are created correctly and the type conversions work as expected. This exercise will reinforce your understanding of Python's basic data types and type conversion operations.\n",
    "\n",
    "*Using variables:*"
   ]
  },
  {
   "cell_type": "code",
   "execution_count": 26,
   "metadata": {},
   "outputs": [],
   "source": [
    "# 1. Create an integer variable named 'age' and assign it your age\n",
    "age = 100"
   ]
  },
  {
   "cell_type": "code",
   "execution_count": null,
   "metadata": {},
   "outputs": [],
   "source": [
    "# 2. Create a float variable named 'height' and assign it your height in meters\n"
   ]
  },
  {
   "cell_type": "code",
   "execution_count": null,
   "metadata": {},
   "outputs": [],
   "source": [
    "# 3. Create a boolean variable named 'is_student' and assign it True if you're a student, False otherwise\n"
   ]
  },
  {
   "cell_type": "code",
   "execution_count": null,
   "metadata": {},
   "outputs": [],
   "source": [
    "# 4. Create a string variable named 'favorite_color' and assign it your favorite color\n"
   ]
  },
  {
   "cell_type": "markdown",
   "metadata": {},
   "source": [
    "*Working with data types:*"
   ]
  },
  {
   "cell_type": "code",
   "execution_count": null,
   "metadata": {},
   "outputs": [],
   "source": [
    "# 5. Print the type of each variable you created using the type() function\n"
   ]
  },
  {
   "cell_type": "code",
   "execution_count": null,
   "metadata": {},
   "outputs": [],
   "source": [
    "# 6. Convert 'age' to a float and store it in a new variable 'age_float'\n"
   ]
  },
  {
   "cell_type": "code",
   "execution_count": null,
   "metadata": {},
   "outputs": [],
   "source": [
    "# 7. Convert 'height' to an integer and store it in a new variable 'height_int'\n"
   ]
  },
  {
   "cell_type": "code",
   "execution_count": null,
   "metadata": {},
   "outputs": [],
   "source": [
    "# 8. Convert 'age' to a string and store it in a new variable 'age_str'\n"
   ]
  },
  {
   "cell_type": "code",
   "execution_count": null,
   "metadata": {},
   "outputs": [],
   "source": [
    "# 9. Print the values and types of 'age_float', 'height_int', and 'age_str'\n"
   ]
  },
  {
   "cell_type": "markdown",
   "metadata": {},
   "source": [
    "---"
   ]
  },
  {
   "cell_type": "markdown",
   "metadata": {},
   "source": [
    "## **Chapter 2.2:** Operators\n",
    "\n",
    "Operators in Python are special symbols that perform *operations* on variables and values. Understanding operators is crucial for performing calculations, making comparisons, and controlling the flow of your programs. \n",
    "\n",
    "\n",
    "Python divides the operators in the following groups: \n",
    "* Arithmetic operators\n",
    "* Comparison operators\n",
    "* Logical operators\n",
    "* Assignment operators"
   ]
  },
  {
   "cell_type": "markdown",
   "metadata": {},
   "source": [
    "### Arithmetic operators\n",
    "\n",
    "Arithmetic operators are used to perform mathematical operations:\n",
    "\n",
    "| Operator | Name           | Example   | Result |\n",
    "|----------|----------------|-----------|--------|\n",
    "| +        | Addition       | 5 + 3     | 8      |\n",
    "| -        | Subtraction    | 5 - 3     | 2      |\n",
    "| *        | Multiplication | 5 * 3     | 15     |\n",
    "| /        | Division       | 5 / 3     | 1.6666...|\n",
    "| //       | Floor Division | 5 // 3    | 1      |\n",
    "| %        | Modulus        | 5 % 3     | 2      |\n",
    "| **       | Exponentiation | 5 ** 3    | 125    |\n"
   ]
  },
  {
   "cell_type": "code",
   "execution_count": 43,
   "metadata": {},
   "outputs": [
    {
     "name": "stdout",
     "output_type": "stream",
     "text": [
      "8\n",
      "8\n",
      "8\n",
      "8.0\n",
      "8\n",
      "8\n",
      "8\n"
     ]
    }
   ],
   "source": [
    "print(5 + 3)   # Addition\n",
    "print(10 - 2)  # Subtraction\n",
    "print(4 * 2)   # Multiplication\n",
    "print(16 / 2)  # Division\n",
    "print(17 // 2) # Floor division\n",
    "print(17 % 9)  # Modulus\n",
    "print(2 ** 3)  # Exponentation"
   ]
  },
  {
   "cell_type": "markdown",
   "metadata": {},
   "source": [
    "As you can see, the division operator `/` always returns a float, even when dividing two integers.  This is intentional in Python `3.x`. The `/` operator performs *\"true division\"*, always returning a `float` to preserve precision. If you need integer division (discarding any remainder), use the floor division operator `//`.\n",
    "\n",
    "This design choice helps prevent unexpected behavior and makes division more intuitive, especially for beginners. It ensures that calculations maintain their precision unless you explicitly choose to use integer division."
   ]
  },
  {
   "cell_type": "markdown",
   "metadata": {},
   "source": [
    "### Comparison operators\n",
    "\n",
    "Comparison operators are used to compare values. They return a `Boolean` result:\n",
    "\n",
    "| Operator | Name                  | Example | Result |\n",
    "|----------|-----------------------|---------|--------|\n",
    "| ==       | Equal to              | 5 == 3  | False  |\n",
    "| !=       | Not equal to          | 5 != 3  | True   |\n",
    "| >        | Greater than          | 5 > 3   | True   |\n",
    "| <        | Less than             | 5 < 3   | False  |\n",
    "| >=       | Greater than or equal | 5 >= 3  | True   |\n",
    "| <=       | Less than or equal    | 5 <= 3  | False  |"
   ]
  },
  {
   "cell_type": "code",
   "execution_count": 35,
   "metadata": {},
   "outputs": [
    {
     "name": "stdout",
     "output_type": "stream",
     "text": [
      "False\n",
      "True\n",
      "True\n",
      "False\n",
      "True\n",
      "False\n"
     ]
    }
   ],
   "source": [
    "print(5 == 3) # Equal\n",
    "print(5 != 3) # Not equal\n",
    "print(5 > 3)  # Greater than\n",
    "print(5 < 3)  # Less than\n",
    "print(5 >= 3) # Greater than or equal to\n",
    "print(5 <= 3) # Less than or equal to"
   ]
  },
  {
   "cell_type": "markdown",
   "metadata": {},
   "source": [
    "### Logical operators \n",
    "\n",
    "Logical operators are used to combine conditional statements:\n",
    "\n",
    "| Operator | Description                                          |\n",
    "|----------|------------------------------------------------------|\n",
    "| and      | Returns True if both statements are true             |\n",
    "| or       | Returns True if one of the statements is true        |\n",
    "| not      | Reverses the result, returns False if the result is true |"
   ]
  },
  {
   "cell_type": "code",
   "execution_count": 44,
   "metadata": {},
   "outputs": [
    {
     "name": "stdout",
     "output_type": "stream",
     "text": [
      "False\n",
      "True\n",
      "False\n"
     ]
    }
   ],
   "source": [
    "print(True and False) # and\n",
    "print(True or False)  # or\n",
    "print(not True)       # not"
   ]
  },
  {
   "cell_type": "markdown",
   "metadata": {},
   "source": [
    "### Assignment operators\n",
    "\n",
    "Assignment operators are used to assign values to variables:\n",
    "\n",
    "| Operator | Example | Equivalent to |\n",
    "|----------|---------|---------------|\n",
    "| =        | x = 5   | x = 5         |\n",
    "| +=       | x += 3  | x = x + 3     |\n",
    "| -=       | x -= 3  | x = x - 3     |\n",
    "| *=       | x *= 3  | x = x * 3     |\n",
    "| /=       | x /= 3  | x = x / 3     |\n",
    "| %=       | x %= 3  | x = x % 3     |\n",
    "| //=      | x //= 3 | x = x // 3    |\n",
    "| **=      | x **= 3 | x = x ** 3    |"
   ]
  },
  {
   "cell_type": "code",
   "execution_count": 45,
   "metadata": {},
   "outputs": [
    {
     "name": "stdout",
     "output_type": "stream",
     "text": [
      "8\n"
     ]
    }
   ],
   "source": [
    "x = 5\n",
    "x += 3\n",
    "print(x)"
   ]
  },
  {
   "cell_type": "code",
   "execution_count": 46,
   "metadata": {},
   "outputs": [
    {
     "name": "stdout",
     "output_type": "stream",
     "text": [
      "6\n"
     ]
    }
   ],
   "source": [
    "x -= 2\n",
    "print(x)"
   ]
  },
  {
   "cell_type": "code",
   "execution_count": 47,
   "metadata": {},
   "outputs": [
    {
     "name": "stdout",
     "output_type": "stream",
     "text": [
      "12\n"
     ]
    }
   ],
   "source": [
    "x *= 2\n",
    "print(x)"
   ]
  },
  {
   "cell_type": "code",
   "execution_count": 48,
   "metadata": {},
   "outputs": [
    {
     "name": "stdout",
     "output_type": "stream",
     "text": [
      "3.0\n"
     ]
    }
   ],
   "source": [
    "x /= 4\n",
    "print(x)"
   ]
  },
  {
   "cell_type": "markdown",
   "metadata": {},
   "source": [
    "Shorthand operators like `+=`, `-=`, etc., make code more concise and easier to read, reducing the chance of typos and often improving performance. For example, `x += 5` is clearer and more efficient than `x = x + 5`, especially in loops or repetitive operations (we will get to that in the next chapter). This syntax is common across many programming languages, making your Python skills more transferable and your code more maintainable."
   ]
  },
  {
   "cell_type": "markdown",
   "metadata": {},
   "source": [
    "### Operator Precedence\n",
    "\n",
    "Operators have a precedence that determines the order of operations. Here's a simplified precedence list from highest to lowest:\n",
    "\n",
    "1. Exponentiation`**`\n",
    "2. Multiplication, Division, Floor Division, Modulus: `*`, `/`, `//`, `%`\n",
    "3. Addition, Subtraction: `+`, `-` \n",
    "4. Comparisons: `==`, `!=`, `>`, `<`, `>=`, `<=`\n",
    "5. Logical operators: `and`, `or`, `not`\n",
    "\n",
    "You can use parentheses `()` to override the default precedence.\n",
    "\n",
    "For example:"
   ]
  },
  {
   "cell_type": "code",
   "execution_count": 49,
   "metadata": {},
   "outputs": [
    {
     "name": "stdout",
     "output_type": "stream",
     "text": [
      "11\n"
     ]
    }
   ],
   "source": [
    "result = 5 + 3 * 2  # Multiplication happens first\n",
    "print(result)  # 11"
   ]
  },
  {
   "cell_type": "code",
   "execution_count": 50,
   "metadata": {},
   "outputs": [
    {
     "name": "stdout",
     "output_type": "stream",
     "text": [
      "16\n"
     ]
    }
   ],
   "source": [
    "result = (5 + 3) * 2  # Parentheses override precedence\n",
    "print(result)  # 16"
   ]
  },
  {
   "cell_type": "markdown",
   "metadata": {},
   "source": [
    "---"
   ]
  },
  {
   "cell_type": "markdown",
   "metadata": {},
   "source": [
    "## 👨‍💻 **Practice tasks 2.2:** Using operators\n",
    "\n",
    "Now it's time to apply what you've learned about operators. Complete the following tasks in a new code cell in your Jupyter Notebook:\n",
    "\n",
    "**Arithmetic operators:**\n",
    "\n",
    "1. Create two variables `a` and `b` with values 10 and 3 respectively.\n",
    "\n",
    "2. Print the result of `a + b`, `a - b`, `a * b`, `a / b`, `a % b`, `a ** b`, and `a // b`.\n",
    "\n",
    "**Comparison operators:**\n",
    "\n",
    "3. Create two variables `x` and `y` with values 5 and 5.0 respectively.\n",
    "\n",
    "4. Print the result of `x == y`, `x != y`, `x > y`, `x < y`, `x >= y`, and `x <= y`.\n",
    "\n",
    "5. What do you notice about comparing an integer and a float? Write a comment explaining your observation.\n",
    "\n",
    "**Logical operators:**\n",
    "\n",
    "6. Create two boolean variables `p` and `q` with values `True` and `False` respectively.\n",
    "\n",
    "7. Print the result of `p and q`, `p or q`, `not p`, and `not q`.\n",
    "\n",
    "**Assignment operators:**\n",
    "\n",
    "8. Use assignment operators to increment `a` by 5, then multiply it by 2. Print the result.\n",
    "\n",
    "**Combining operators:**\n",
    "\n",
    "9. Calculate and print the remainder when 17 is divided by 3.\n",
    "\n",
    "10. Check if `a` (after the operations in task 8) is between 25 and 35 (inclusive) using logical operators. Print the result.\n",
    "\n",
    "Try completing these tasks on your own. If you get stuck, don't hesitate to refer back to the earlier sections or ask for help. Remember, in Jupyter Notebooks, you can run each cell individually to check your work as you go.\n",
    "\n",
    "After you've completed the tasks, run your cells and verify that all the operations produce the expected results. This exercise will reinforce your understanding of Python's operators and how they can be combined in various ways."
   ]
  },
  {
   "cell_type": "markdown",
   "metadata": {},
   "source": [
    "*Arithmetic operators:*"
   ]
  },
  {
   "cell_type": "code",
   "execution_count": null,
   "metadata": {},
   "outputs": [],
   "source": [
    "# 1. Create two variables 'a' and 'b' with values 10 and 3 respectively\n"
   ]
  },
  {
   "cell_type": "code",
   "execution_count": null,
   "metadata": {},
   "outputs": [],
   "source": [
    "# 2. Print the result of a + b, a - b, a * b, a / b, a % b, a ** b, and a // b\n"
   ]
  },
  {
   "cell_type": "markdown",
   "metadata": {},
   "source": [
    "*Comparison operators:*"
   ]
  },
  {
   "cell_type": "code",
   "execution_count": null,
   "metadata": {},
   "outputs": [],
   "source": [
    "# 3. Create two variables 'x' and 'y' with values 5 and 5.0 respectively\n"
   ]
  },
  {
   "cell_type": "code",
   "execution_count": null,
   "metadata": {},
   "outputs": [],
   "source": [
    "# 4. Print the result of x == y, x != y, x > y, x < y, x >= y, and x <= y\n"
   ]
  },
  {
   "cell_type": "code",
   "execution_count": null,
   "metadata": {},
   "outputs": [],
   "source": [
    "# 5. What do you notice about comparing an integer and a float? Write a comment explaining your observation.\n"
   ]
  },
  {
   "cell_type": "markdown",
   "metadata": {},
   "source": [
    "*Logical operators:*"
   ]
  },
  {
   "cell_type": "code",
   "execution_count": null,
   "metadata": {},
   "outputs": [],
   "source": [
    "# 6. Create two boolean variables 'p' and 'q' with values True and False respectively\n"
   ]
  },
  {
   "cell_type": "code",
   "execution_count": null,
   "metadata": {},
   "outputs": [],
   "source": [
    "# 7. Print the result of p and q, p or q, not p, and not q\n"
   ]
  },
  {
   "cell_type": "markdown",
   "metadata": {},
   "source": [
    "*Assignment operators:*"
   ]
  },
  {
   "cell_type": "code",
   "execution_count": null,
   "metadata": {},
   "outputs": [],
   "source": [
    "# 8. Use assignment operators to increment 'a' by 5, then multiply it by 2. Print the result.\n"
   ]
  },
  {
   "cell_type": "markdown",
   "metadata": {},
   "source": [
    "*Combining operators:*"
   ]
  },
  {
   "cell_type": "code",
   "execution_count": null,
   "metadata": {},
   "outputs": [],
   "source": [
    "# 9. Calculate and print the remainder when 17 is divided by 3.\n"
   ]
  },
  {
   "cell_type": "code",
   "execution_count": null,
   "metadata": {},
   "outputs": [],
   "source": [
    "# 10. Check if 'a' (after the operations in task 8) is between 25 and 35 (inclusive) using logical operators. Print the result.\n"
   ]
  },
  {
   "cell_type": "markdown",
   "metadata": {},
   "source": [
    "---"
   ]
  },
  {
   "cell_type": "markdown",
   "metadata": {},
   "source": [
    "## **Chapter 2.3:** Strings and Inputs\n",
    "\n",
    "Strings are one of the most commonly used data types in Python. They represent sequences of **characters** and are used to store and manipulate text. In this section, we'll explore string operations, formatting, and how to get input from users."
   ]
  },
  {
   "cell_type": "markdown",
   "metadata": {},
   "source": [
    "### String Basics\n",
    "\n",
    "Strings in Python are created by enclosing text in single (`''`) or double (`\"\"`) quotes."
   ]
  },
  {
   "cell_type": "code",
   "execution_count": 53,
   "metadata": {},
   "outputs": [
    {
     "data": {
      "text/plain": [
       "'Hello'"
      ]
     },
     "execution_count": 53,
     "metadata": {},
     "output_type": "execute_result"
    }
   ],
   "source": [
    "'Hello'"
   ]
  },
  {
   "cell_type": "code",
   "execution_count": 52,
   "metadata": {},
   "outputs": [
    {
     "data": {
      "text/plain": [
       "'World'"
      ]
     },
     "execution_count": 52,
     "metadata": {},
     "output_type": "execute_result"
    }
   ],
   "source": [
    "\"World\""
   ]
  },
  {
   "cell_type": "markdown",
   "metadata": {},
   "source": [
    "In Python, you can use either single quotes (`''`) or double quotes (`\"\"`) to define strings, and they are functionally identical. This flexibility allows you to easily include apostrophes or quotation marks in your strings without escaping (e.g., \"It's a nice day\" or 'He said, \"Hello!\"'). \n",
    "\n",
    "Choose the style that makes your code most readable and consistent, considering the content of your strings.\n",
    "\n",
    "You can also use triple quotes for multi-line strings:"
   ]
  },
  {
   "cell_type": "code",
   "execution_count": 55,
   "metadata": {},
   "outputs": [],
   "source": [
    "multi_line = \"\"\"This is a\n",
    "multi-line\n",
    "string.\"\"\""
   ]
  },
  {
   "cell_type": "markdown",
   "metadata": {},
   "source": [
    "### String Operations\n",
    "\n",
    "**Concatenation:** You can combine strings using the `+` operator:"
   ]
  },
  {
   "cell_type": "code",
   "execution_count": null,
   "metadata": {},
   "outputs": [],
   "source": [
    "first_name = \"John\"\n",
    "last_name = \"Doe\"\n",
    "full_name = first_name + \" \" + last_name\n",
    "print(full_name)  # Output: John Doe"
   ]
  },
  {
   "cell_type": "markdown",
   "metadata": {},
   "source": [
    "**Repetition:** You can repeat strings using the `*` operator:"
   ]
  },
  {
   "cell_type": "code",
   "execution_count": null,
   "metadata": {},
   "outputs": [],
   "source": [
    "echo = \"Hello\" * 3\n",
    "print(echo)  # Output: HelloHelloHello"
   ]
  },
  {
   "cell_type": "markdown",
   "metadata": {},
   "source": [
    "**Indexing and Slicing:** You can access individual characters in a string using indexing (starting from 0):"
   ]
  },
  {
   "cell_type": "code",
   "execution_count": null,
   "metadata": {},
   "outputs": [],
   "source": [
    "text = \"Python\"\n",
    "print(text[0])  # Output: P\n",
    "print(text[-1])  # Output: n (negative indexing starts from the end)"
   ]
  },
  {
   "cell_type": "markdown",
   "metadata": {},
   "source": [
    "Slicing allows you to extract a portion of the string:"
   ]
  },
  {
   "cell_type": "code",
   "execution_count": null,
   "metadata": {},
   "outputs": [],
   "source": [
    "print(text[1:4])  # Output: yth (characters from index 1 to 3)\n",
    "print(text[:3])   # Output: Pyt (characters from start to index 2)\n",
    "print(text[2:])   # Output: thon (characters from index 2 to end)"
   ]
  },
  {
   "cell_type": "markdown",
   "metadata": {},
   "source": [
    "We will get back to the concept of slicing in **Chapter 4**, when we talk about *lists*. "
   ]
  },
  {
   "cell_type": "markdown",
   "metadata": {},
   "source": [
    "### String Methods\n",
    "\n",
    "Python provides many built-in methods for string manipulation:"
   ]
  },
  {
   "cell_type": "code",
   "execution_count": 56,
   "metadata": {},
   "outputs": [
    {
     "name": "stdout",
     "output_type": "stream",
     "text": [
      "HELLO, WORLD!\n",
      "hello, world!\n",
      "Hi, World!\n",
      "['Hello', ' World!']\n"
     ]
    }
   ],
   "source": [
    "text = \"Hello, World!\"\n",
    "print(text.upper())       # HELLO, WORLD!\n",
    "print(text.lower())       # hello, world!\n",
    "print(text.replace(\"Hello\", \"Hi\"))  # Hi, World!\n",
    "print(text.split(\",\"))    # ['Hello', ' World!']"
   ]
  },
  {
   "cell_type": "markdown",
   "metadata": {},
   "source": [
    "#### String Formatting\n",
    "\n",
    "Python offers several ways to format strings:\n",
    "\n",
    "**f-strings (Python 3.6+)**: F-strings allow you to embed expressions inside string literals using curly braces, providing a concise and readable way to format strings."
   ]
  },
  {
   "cell_type": "code",
   "execution_count": 57,
   "metadata": {},
   "outputs": [
    {
     "name": "stdout",
     "output_type": "stream",
     "text": [
      "My name is Alice and I am 30 years old.\n"
     ]
    }
   ],
   "source": [
    "name = \"Alice\"\n",
    "age = 30\n",
    "print(f\"My name is {name} and I am {age} years old.\")"
   ]
  },
  {
   "cell_type": "markdown",
   "metadata": {},
   "source": [
    "**.format() method**: This method replaces placeholders (usually empty curly braces) in a string with specified values, offering a flexible approach to string formatting."
   ]
  },
  {
   "cell_type": "code",
   "execution_count": 58,
   "metadata": {},
   "outputs": [
    {
     "name": "stdout",
     "output_type": "stream",
     "text": [
      "My name is Alice and I am 30 years old.\n"
     ]
    }
   ],
   "source": [
    "print(\"My name is {} and I am {} years old.\".format(name, age))"
   ]
  },
  {
   "cell_type": "markdown",
   "metadata": {},
   "source": [
    "**%-formatting (older style)**: This older method uses % as a placeholder, followed by a tuple of values to insert, and while less readable than newer methods, it's still found in older code."
   ]
  },
  {
   "cell_type": "code",
   "execution_count": 59,
   "metadata": {},
   "outputs": [
    {
     "name": "stdout",
     "output_type": "stream",
     "text": [
      "My name is Alice and I am 30 years old.\n"
     ]
    }
   ],
   "source": [
    "print(\"My name is %s and I am %d years old.\" % (name, age))"
   ]
  },
  {
   "cell_type": "markdown",
   "metadata": {},
   "source": [
    "### Advanced f-string Formatting\n",
    "\n",
    "F-strings offer powerful formatting options beyond simple variable insertion:\n",
    "\n",
    "**Number Formatting**: Control digit grouping and decimal places (e.g., `f\"{123456789:_}\"` for digit grouping, `f\"{3.14159:.2f}\"` for decimal precision)."
   ]
  },
  {
   "cell_type": "code",
   "execution_count": 60,
   "metadata": {},
   "outputs": [
    {
     "name": "stdout",
     "output_type": "stream",
     "text": [
      "123_456_789\n",
      "123456.79\n"
     ]
    }
   ],
   "source": [
    "# Number formatting \n",
    "num1 = 123456_789\n",
    "print(f\"{num1:_}\")\n",
    "num2 = 123456.789\n",
    "print(f\"{num2:.2f}\")"
   ]
  },
  {
   "cell_type": "markdown",
   "metadata": {},
   "source": [
    "**Conditional Expressions**: Include inline if-else statements within f-strings (e.g., `f\"{'adult' if age >= 18 else 'minor'}\"`.\n"
   ]
  },
  {
   "cell_type": "code",
   "execution_count": 61,
   "metadata": {},
   "outputs": [
    {
     "name": "stdout",
     "output_type": "stream",
     "text": [
      "adult\n"
     ]
    }
   ],
   "source": [
    "# Inline conditional expressions\n",
    "age = 30\n",
    "print(f\"{'minor' if age < 21 else 'adult'}\")"
   ]
  },
  {
   "cell_type": "markdown",
   "metadata": {},
   "source": [
    "**Base Conversion**: Format integers in different bases like binary or hexadecimal (e.g., `f\"{255:b}\"` for binary, `f\"{255:x}\"` for hexadecimal).\n"
   ]
  },
  {
   "cell_type": "code",
   "execution_count": 62,
   "metadata": {},
   "outputs": [
    {
     "name": "stdout",
     "output_type": "stream",
     "text": [
      "11111111\n",
      "ff\n"
     ]
    }
   ],
   "source": [
    "# Format specific bases \n",
    "number = 255\n",
    "print(f\"{number:b}\") # binary \n",
    "print(f\"{number:x}\") # hexadecimal"
   ]
  },
  {
   "cell_type": "markdown",
   "metadata": {},
   "source": [
    "**Alignment and Padding**: Control text alignment within a specified width (e.g., `f\"{text:>10}\"` for right alignment, `f\"{text:<10}\"` for left, `f\"{text:^10}\"` for center).\n"
   ]
  },
  {
   "cell_type": "code",
   "execution_count": 63,
   "metadata": {},
   "outputs": [
    {
     "name": "stdout",
     "output_type": "stream",
     "text": [
      " Kaaaassel\n",
      "Kaaaassel \n",
      "Kaaaassel \n"
     ]
    }
   ],
   "source": [
    "# Alignment and padding\n",
    "name = \"Kaaaassel\"\n",
    "print(f\"{name:>10}\") # right\n",
    "print(f\"{name:<10}\") # left\n",
    "print(f\"{name:^10}\") # center"
   ]
  },
  {
   "cell_type": "markdown",
   "metadata": {},
   "source": [
    "These advanced features make f-strings a versatile tool for complex string formatting needs."
   ]
  },
  {
   "cell_type": "markdown",
   "metadata": {},
   "source": [
    "### Getting User Input\n",
    "\n",
    "To get input from the user, use the `input()` function:"
   ]
  },
  {
   "cell_type": "code",
   "execution_count": null,
   "metadata": {},
   "outputs": [],
   "source": [
    "name = input(\"Enter your name: \")\n",
    "print(f\"Hello, {name}!\")"
   ]
  },
  {
   "cell_type": "markdown",
   "metadata": {},
   "source": [
    "Note that `input()` always returns a string. If you need a number, you'll need to convert it:"
   ]
  },
  {
   "cell_type": "code",
   "execution_count": null,
   "metadata": {},
   "outputs": [],
   "source": [
    "age = int(input(\"Enter your age: \"))\n",
    "print(f\"Next year, you will be {age + 1} years old.\")"
   ]
  },
  {
   "cell_type": "markdown",
   "metadata": {},
   "source": [
    "--- "
   ]
  },
  {
   "cell_type": "markdown",
   "metadata": {},
   "source": [
    "### 👨‍💻 **Practice tasks 2.3:** Using Strings and Inputs\n",
    "\n",
    "Now it's time to put what you've learned into practice. Complete the following tasks in a new code cell in your Jupyter Notebook:\n",
    "\n",
    "**Basic string operations:**\n",
    "\n",
    "1. Create a string variable named `course_name` with the value `\"Python Programming\"`.\n",
    "\n",
    "2. Print `course_name` in all uppercase, then in all lowercase.\n",
    "\n",
    "3. Create a string variable named `messy_string` with value `\"  Python is fun!  \"` (include white spaces).\n",
    "\n",
    "4. Print `messy_string` with leading and trailing whitespace removed.\n",
    "\n",
    "5. Split `course_name` into a list of words and print the result.\n",
    "\n",
    "**String formatting:**\n",
    "\n",
    "6. Create variables `first_name` and `last_name` with your first and last name.\n",
    "\n",
    "7. Use string formatting to print `\"My name is [first_name] [last_name]\"` using all three methods (`f-string`, `.format()`, and `%-formatting)`.\n",
    "\n",
    "**Working with user input:**\n",
    "\n",
    "8. Use `input()` to ask the user for their favorite programming language and store it in a variable `fav_lang`.\n",
    "\n",
    "9. Print `\"Your favorite programming language is [fav_lang]!\"` using an `f-string`.\n",
    "\n",
    "Try completing these tasks on your own. If you get stuck, don't hesitate to refer back to the earlier sections or ask for help. Remember, in Jupyter Notebooks, you can run each cell individually to check your work as you go.\n",
    "\n",
    "After you've completed the tasks, run your cells and verify that all the string operations and formatting work as expected. This exercise will reinforce your understanding of Python's string manipulation, formatting techniques, and getting user input."
   ]
  },
  {
   "cell_type": "markdown",
   "metadata": {},
   "source": [
    "*Basic string operations:*"
   ]
  },
  {
   "cell_type": "code",
   "execution_count": null,
   "metadata": {},
   "outputs": [],
   "source": [
    "# 1. Create a string variable 'course_name' with the value \"Python Programming\"\n"
   ]
  },
  {
   "cell_type": "code",
   "execution_count": null,
   "metadata": {},
   "outputs": [],
   "source": [
    "# 2. Print 'course_name' in all uppercase, then in all lowercase\n"
   ]
  },
  {
   "cell_type": "code",
   "execution_count": null,
   "metadata": {},
   "outputs": [],
   "source": [
    "# 3. Create a string variable 'messy_string' with value \"  Python is fun!  \"\n"
   ]
  },
  {
   "cell_type": "code",
   "execution_count": null,
   "metadata": {},
   "outputs": [],
   "source": [
    "# 4. Print 'messy_string' with leading and trailing whitespace removed\n"
   ]
  },
  {
   "cell_type": "code",
   "execution_count": null,
   "metadata": {},
   "outputs": [],
   "source": [
    "# 5. Split 'course_name' into a list of words and print the result\n"
   ]
  },
  {
   "cell_type": "code",
   "execution_count": null,
   "metadata": {},
   "outputs": [],
   "source": [
    "# 6. Create variables 'first_name' and 'last_name' with your first and last name\n"
   ]
  },
  {
   "cell_type": "code",
   "execution_count": null,
   "metadata": {},
   "outputs": [],
   "source": [
    "# 7. Use string formatting to print \"My name is [first_name] [last_name]\" (try all three methods)\n"
   ]
  },
  {
   "cell_type": "code",
   "execution_count": null,
   "metadata": {},
   "outputs": [],
   "source": [
    "# 8. Use input() to ask the user for their favorite programming language and store it in a variable 'fav_lang'\n"
   ]
  },
  {
   "cell_type": "code",
   "execution_count": null,
   "metadata": {},
   "outputs": [],
   "source": [
    "# 9. Print \"Your favorite programming language is [fav_lang]!\" using an f-string\n"
   ]
  },
  {
   "cell_type": "markdown",
   "metadata": {},
   "source": [
    "---"
   ]
  },
  {
   "cell_type": "markdown",
   "metadata": {},
   "source": [
    "### **Chapter 2.4:** Coding Challenge\n",
    "\n",
    "#### Stress and Strain Calculator\n",
    "\n",
    "`Stress` and `strain` are two fundamental concepts in the field of materials science and engineering, describing how materials deform under applied forces. Stress is a measure of the internal forces acting within a material, while strain is a measure of the deformation of the material.\n",
    "\n",
    "* **Stress** is defined as the force applied per unit area of a material and is usually measured in Pascals (Pa) or pounds per square inch (psi). It describes the internal distribution of forces within a material that balance and react to the external loads applied to it.\n",
    "\n",
    "* **Strain** is a measure of the deformation of a material in response to an applied stress. It is a dimensionless quantity that represents the relative displacement between particles in the material. Strain can be expressed as a percentage or a fraction.\n",
    "\n",
    "\n",
    "| Attribute       | Stress                                         | Strain                                       |\n",
    "|-----------------|------------------------------------------------|----------------------------------------------|\n",
    "| Definition      | Force per unit area within a material          | Deformation of a material                    |\n",
    "| Measurement     | Pascals (Pa), pounds per square inch (psi)     | Dimensionless (ratio, percentage)            |\n",
    "| Units           | N/m², psi                                      | None (it's a ratio)                          |\n",
    "\n",
    "\n",
    "\n",
    "**Objective**: \n",
    "\n",
    "Create a basic program that calculates the **stress** and **strain** on a material based on user input. The program will prompt the user for the force applied to the `material` (in newtons) and the `cross-sectional area` (in square meters) to calculate stress. It will also ask for the `original length` and the `change in length` (both in meters) to calculate strain.\n",
    "\n",
    "**User Input:**\n",
    "* Prompt the user to enter the applied force (in newtons).\n",
    "* Ask for the cross-sectional area of the material (in square meters).\n",
    "* Request the original length of the material (in meters).\n",
    "* Ask for the change in length of the material (in meters).\n",
    "\n",
    "**Calculations:**\n",
    "* Calculate stress using the formula: `Stress` = `Force / Area`\n",
    "\n",
    "* Calculate strain using the formula: `Strain` = `Change in Length / Original Length`\n",
    "\n",
    "**Output:**\n",
    "* Display the calculated stress with an appropriate unit (Pascals).\n",
    "* Display the calculated strain (dimensionless).\n",
    "* Use additional text to explain the outputs to your user."
   ]
  },
  {
   "cell_type": "code",
   "execution_count": null,
   "metadata": {},
   "outputs": [],
   "source": [
    "# Stress and Strain Calculator\n",
    "\n",
    "# Prompt the user for input and convert the inputs to the appropriate data types\n",
    "# Use float() for conversions because we are dealing with decimal values\n",
    "\n",
    "# S T R E S S \n",
    "\n",
    "# Get the applied force in newtons from the user\n",
    "force = float(input(\"Enter the applied force (in newtons): \"))\n",
    "\n",
    "# Get the cross-sectional area of the material in square meters\n",
    "area = float(input(\"Enter the cross-sectional area (in square meters): \"))\n",
    "\n",
    "# Calculate stress using the formula: Stress = Force / Area\n",
    "# Stress is measured in Pascals (Pa), which is equivalent to N/m^2\n",
    "stress = force / area\n",
    "\n",
    "# Display the results and use string formatting to include the calculated values in the output messages\n",
    "print(f\"Calculated Stress: {stress} Pascals\")\n",
    "\n",
    "# S T R A I N \n",
    "\n",
    "# Get the original length of the material in meters\n",
    "original_length = float(input(\"Enter the original length of the material (in meters): \"))\n",
    "\n",
    "# Get the change in length of the material in meters\n",
    "change_in_length = float(input(\"Enter the change in length of the material (in meters): \"))\n",
    "\n",
    "# Calculate strain using the formula: Strain = Change in Length / Original Length\n",
    "# Strain is a dimensionless quantity (no units)\n",
    "strain = change_in_length / original_length\n",
    "\n",
    "# Again, display the results using string formatting \n",
    "print(f\"Calculated Strain: {strain}\")"
   ]
  },
  {
   "cell_type": "markdown",
   "metadata": {},
   "source": [
    "---"
   ]
  }
 ],
 "metadata": {
  "kernelspec": {
   "display_name": "python_in_kassel",
   "language": "python",
   "name": "python3"
  },
  "language_info": {
   "codemirror_mode": {
    "name": "ipython",
    "version": 3
   },
   "file_extension": ".py",
   "mimetype": "text/x-python",
   "name": "python",
   "nbconvert_exporter": "python",
   "pygments_lexer": "ipython3",
   "version": "3.12.4"
  }
 },
 "nbformat": 4,
 "nbformat_minor": 2
}
