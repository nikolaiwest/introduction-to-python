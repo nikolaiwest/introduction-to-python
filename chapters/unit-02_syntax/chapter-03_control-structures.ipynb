{
 "cells": [
  {
   "cell_type": "markdown",
   "metadata": {},
   "source": [
    "## **[3. Control Structures](#3-control-structures)**\n"
   ]
  },
  {
   "cell_type": "markdown",
   "metadata": {},
   "source": [
    "### **[3.1 Conditionals](#31-conditionals)**\n",
    "\n",
    "Conditionals in Python allow you to execute different blocks of code based on certain conditions. The basic conditional statements in Python are `if`, `elif` (else if), and `else`."
   ]
  },
  {
   "cell_type": "markdown",
   "metadata": {},
   "source": [
    "#### if statement"
   ]
  },
  {
   "cell_type": "code",
   "execution_count": null,
   "metadata": {},
   "outputs": [],
   "source": [
    "# Example of if statement\n",
    "x = 4\n",
    "if x > 5:\n",
    "    print(\"x is greater than 5\")\n"
   ]
  },
  {
   "cell_type": "markdown",
   "metadata": {},
   "source": [
    "#### if-else statement"
   ]
  },
  {
   "cell_type": "code",
   "execution_count": null,
   "metadata": {},
   "outputs": [
    {
     "name": "stdout",
     "output_type": "stream",
     "text": [
      "y is not greater than 5\n"
     ]
    }
   ],
   "source": [
    "# Example of if-else statement\n",
    "y = 4\n",
    "if y > 5:\n",
    "    print(\"y is greater than 5\")\n",
    "else:\n",
    "    print(\"y is not greater than 5\")"
   ]
  },
  {
   "cell_type": "markdown",
   "metadata": {},
   "source": [
    "#### if-elif-else statement"
   ]
  },
  {
   "cell_type": "code",
   "execution_count": null,
   "metadata": {},
   "outputs": [
    {
     "name": "stdout",
     "output_type": "stream",
     "text": [
      "z is greater than 5\n"
     ]
    }
   ],
   "source": [
    "# Example of if-elif-else statement\n",
    "z = 6\n",
    "if z > 5:\n",
    "    print(\"z is greater than 5\")\n",
    "elif z < 5:\n",
    "    print(\"z is less than 5\")\n",
    "else:\n",
    "    print(\"z is equal to 5\")"
   ]
  },
  {
   "cell_type": "markdown",
   "metadata": {},
   "source": [
    "### 👨‍💻 Practice tasks 3.1: Conditionals"
   ]
  },
  {
   "cell_type": "code",
   "execution_count": null,
   "metadata": {},
   "outputs": [
    {
     "name": "stdout",
     "output_type": "stream",
     "text": [
      "It's warm.\n"
     ]
    }
   ],
   "source": [
    "# 1. Create a variable 'temperature' and assign it a value\n",
    "temperature = 22.5\n",
    "# 2. Write an if-elif-else statement that prints:\n",
    "#    - \"It's hot!\" if temperature is above 30\n",
    "#    - \"It's warm.\" if temperature is between 20 and 30 (inclusive)\n",
    "#    - \"It's cool.\" if temperature is between 10 and 19 (inclusive)\n",
    "#    - \"It's cold!\" if temperature is below 10\n",
    "if temperature > 30:\n",
    "    print(\"It's hot!\")\n",
    "elif temperature >= 20 and temperature <= 30:\n",
    "    print(\"It's warm.\")\n",
    "elif temperature >= 10 and temperature < 20:\n",
    "    print(\"It's warm.\")\n",
    "else:\n",
    "    print(\"It's cold\")        \n",
    "\n",
    "# 3. Create two variables 'is_raining' and 'is_cold' with boolean values\n",
    "is_raining = True\n",
    "is_cold = False\n",
    "# 4. Write an if statement that prints \"Stay home!\" if it's raining and cold, and \"Go out!\" otherwise\n",
    "if is_raining and is_cold:\n",
    "    print(\"Stay home\")\n",
    "else:\n",
    "    print(\"Go work\")"
   ]
  },
  {
   "cell_type": "markdown",
   "metadata": {},
   "source": [
    "### **[3.2 Loops](#32-loops)**\n",
    "\n",
    "Loops are used in Python to repeat a block of code multiple times. Python provides two main types of loops: \n",
    "* `for` loops, for iterating over a sequence (such as a list, tuple, dictionary, set, or string)\n",
    "\n",
    "* `while` loops, for repeating a block of code as long as a condition is true"
   ]
  },
  {
   "cell_type": "markdown",
   "metadata": {},
   "source": [
    "#### for loop"
   ]
  },
  {
   "cell_type": "code",
   "execution_count": null,
   "metadata": {},
   "outputs": [
    {
     "name": "stdout",
     "output_type": "stream",
     "text": [
      "0\n",
      "3\n"
     ]
    }
   ],
   "source": [
    "# Example of a for loop\n",
    "for i in range(5):  # range(5) generates numbers from 0 to 4\n",
    "    print(i)\n"
   ]
  },
  {
   "cell_type": "code",
   "execution_count": null,
   "metadata": {},
   "outputs": [
    {
     "name": "stdout",
     "output_type": "stream",
     "text": [
      "apple\n",
      "banana\n",
      "cherry\n"
     ]
    }
   ],
   "source": [
    "# Example of iterating over a list\n",
    "fruits = [\"apple\", \"banana\", \"cherry\"]\n",
    "for fruit in fruits:\n",
    "    print(fruit)"
   ]
  },
  {
   "cell_type": "markdown",
   "metadata": {},
   "source": [
    "#### while loop"
   ]
  },
  {
   "cell_type": "code",
   "execution_count": null,
   "metadata": {},
   "outputs": [
    {
     "name": "stdout",
     "output_type": "stream",
     "text": [
      "0\n",
      "1\n",
      "2\n",
      "3\n",
      "4\n"
     ]
    }
   ],
   "source": [
    "# Example of a while loop\n",
    "count = 0\n",
    "while count < 5:\n",
    "    print(count)\n",
    "    count += 1  # Same as count = count + 1\n"
   ]
  },
  {
   "cell_type": "code",
   "execution_count": null,
   "metadata": {},
   "outputs": [
    {
     "name": "stdout",
     "output_type": "stream",
     "text": [
      "0\n",
      "1\n",
      "2\n",
      "3\n",
      "4\n"
     ]
    }
   ],
   "source": [
    "# Example of a while loop with breat \n",
    "count = 0 \n",
    "while True: \n",
    "    print(count)\n",
    "    count += 1\n",
    "    if count >= 5:\n",
    "        break"
   ]
  },
  {
   "cell_type": "markdown",
   "metadata": {},
   "source": [
    "### 👨‍💻 Practice tasks 3.2: Loops"
   ]
  },
  {
   "cell_type": "code",
   "execution_count": null,
   "metadata": {},
   "outputs": [
    {
     "name": "stdout",
     "output_type": "stream",
     "text": [
      "0\n",
      "1\n",
      "2\n",
      "3\n",
      "4\n"
     ]
    }
   ],
   "source": [
    "# Exercise 3.2: Loops\n",
    "# 1. Use a for loop with range() to print the numbers from 1 to 5\n",
    "for i in range(5):\n",
    "    print(i)"
   ]
  },
  {
   "cell_type": "code",
   "execution_count": null,
   "metadata": {},
   "outputs": [
    {
     "name": "stdout",
     "output_type": "stream",
     "text": [
      "0\n",
      "1\n",
      "2\n",
      "3\n",
      "4\n",
      "5\n"
     ]
    }
   ],
   "source": [
    "# 2. Use a while loop to print the numbers from 1 to 5\n",
    "i = 0\n",
    "while i < 6:\n",
    "    print(i)\n",
    "    i+=+1"
   ]
  },
  {
   "cell_type": "code",
   "execution_count": null,
   "metadata": {},
   "outputs": [],
   "source": [
    "# 3. Use a for loop with range() to print the even numbers from 2 to 10\n",
    "for something in range(2,11,2):\n",
    "    print(something)\n",
    "\n",
    "for other in range(2, 11):\n",
    "    if other % 2 == 0:\n",
    "        print(other)"
   ]
  },
  {
   "cell_type": "code",
   "execution_count": null,
   "metadata": {},
   "outputs": [
    {
     "name": "stdout",
     "output_type": "stream",
     "text": [
      "User input: one\n",
      "User input: two\n",
      "User input: three\n"
     ]
    }
   ],
   "source": [
    "# 4. Use a while loop to print the even numbers from 2 to 10\n",
    "\n",
    "# 5. Write a while loop that asks the user to enter a word and continues until they enter \"stop\"\n",
    "while True:\n",
    "    user_input = str(input(\"Enter a word\"))\n",
    "    if user_input == \"stop\":\n",
    "        break\n",
    "    print(f\"User input: {user_input}\")"
   ]
  },
  {
   "cell_type": "code",
   "execution_count": null,
   "metadata": {},
   "outputs": [
    {
     "name": "stdout",
     "output_type": "stream",
     "text": [
      "User input: one\n",
      "User input: two\n",
      "User input: three\n",
      "User input: stop\n"
     ]
    }
   ],
   "source": [
    "user_input = \"\"\n",
    "while user_input != \"stop\":\n",
    "    user_input = str(input(\"Enter a word\"))\n",
    "    print(f\"User input: {user_input}\")"
   ]
  },
  {
   "cell_type": "code",
   "execution_count": null,
   "metadata": {},
   "outputs": [
    {
     "name": "stdout",
     "output_type": "stream",
     "text": [
      "H\n",
      "e\n",
      "l\n",
      "l\n",
      "o\n"
     ]
    }
   ],
   "source": [
    "# 6. Create a for loop that iterates over the string \"hello\" and prints each character\n",
    "for character in \"Hello\":\n",
    "    print(character)\n"
   ]
  },
  {
   "cell_type": "markdown",
   "metadata": {},
   "source": [
    "### **[3.3 Handling Errors and Exceptions](#33-handling-errors-and-exceptions)**\n",
    "\n",
    "Error handling in Python is done through the use of `try` and `except` blocks. This allows the program to continue running even if an error occurs. Exceptions are caught in the except block, where you can handle them or log them as needed."
   ]
  },
  {
   "cell_type": "markdown",
   "metadata": {},
   "source": [
    "#### try-except block"
   ]
  },
  {
   "cell_type": "code",
   "execution_count": null,
   "metadata": {},
   "outputs": [
    {
     "name": "stdout",
     "output_type": "stream",
     "text": [
      "That was not a valid number. You entered: asdf\n",
      "This block is executed no matter what.\n"
     ]
    }
   ],
   "source": [
    "# Example of try-except block\n",
    "try:\n",
    "    x = input(\"Please enter a number: \")  # Keep it as string initially to be able to print it in case of an error\n",
    "    y = 1 / int(x)  # Convert x to int here for the division\n",
    "    print(y)\n",
    "except ValueError:\n",
    "    # This block catches if the conversion to int fails\n",
    "    print(f\"That was not a valid number. You entered: {x}\")\n",
    "except ZeroDivisionError:\n",
    "    # This block catches division by zero\n",
    "    print(\"Infinity. Division by zero is not allowed.\")\n",
    "finally:\n",
    "    # This block is executed no matter what and is a good place to put cleanup code\n",
    "    print(\"This block is executed no matter what.\")\n"
   ]
  },
  {
   "cell_type": "markdown",
   "metadata": {},
   "source": [
    "### 👨‍💻 Practice tasks 3.3: Handling Errors and Exceptions"
   ]
  },
  {
   "cell_type": "code",
   "execution_count": null,
   "metadata": {},
   "outputs": [
    {
     "name": "stdout",
     "output_type": "stream",
     "text": [
      "Input was not a number\n"
     ]
    }
   ],
   "source": [
    "# Exercise 3.3: Handling Errors and Exceptions\n",
    "# 1. Write a try-except block that asks the user for a number and prints its square, handling ValueError if the input is not a number\n",
    "try:\n",
    "    number = float(input(\"Give me a number\"))\n",
    "    print(number) # wie geht nochmal ein Exponent?\n",
    "except ValueError:\n",
    "    print(\"Input was not a number\")\n"
   ]
  },
  {
   "cell_type": "code",
   "execution_count": null,
   "metadata": {},
   "outputs": [],
   "source": [
    "# 2. Write a try-except block that attempts to divide 10 by a user-input number, handling ZeroDivisionError if the input is 0\n"
   ]
  },
  {
   "cell_type": "code",
   "execution_count": null,
   "metadata": {},
   "outputs": [],
   "source": [
    "# 3. Create a try-except block that:\n",
    "#    - Tries to convert a user input to an integer\n",
    "#    - Catches ValueError if the input is not a valid integer\n",
    "#    - If successful, prints \"Valid integer entered\" in the else block\n",
    "try: \n",
    "    user_input = input(\"Give me a value\")\n",
    "    user_input = int(user_input)\n",
    "    input_was_valid = True\n",
    "except ValueError:\n",
    "    input_was_valid = False\n",
    "\n",
    "if input_was_valid:\n",
    "    print(\"Valid integer entered\")"
   ]
  },
  {
   "cell_type": "code",
   "execution_count": null,
   "metadata": {},
   "outputs": [
    {
     "name": "stdout",
     "output_type": "stream",
     "text": [
      "That was not a valid number. Try again!\n",
      "That was not a valid number. Try again!\n",
      "That was not a valid number. Try again!\n",
      "That was not a valid number. Try again!\n"
     ]
    }
   ],
   "source": [
    "# 4. Write a program that keeps asking the user for a number until they enter a valid integer, using a while loop and a try-except block\n",
    "input_is_valid = False\n",
    "while not input_is_valid:\n",
    "    try: \n",
    "        any_number = float(input(\"Give me a valid number\")) \n",
    "        input_is_valid = True\n",
    "    except:\n",
    "        print(\"That was not a valid number. Try again!\")"
   ]
  },
  {
   "cell_type": "code",
   "execution_count": null,
   "metadata": {},
   "outputs": [],
   "source": [
    "# 5. Create a try-except-finally block that:\n",
    "#    - Tries to perform a calculation (like 10 divided by user input)\n",
    "#    - Catches and prints any exceptions that occur\n",
    "#    - Always prints \"Calculation attempted\" in the finally block"
   ]
  },
  {
   "cell_type": "markdown",
   "metadata": {},
   "source": [
    "### **[3.4 Coding Challenge](#34-coding-challenge)**\n",
    "\n",
    "#### Stress and Strain Calculator (Part 2)\n",
    "\n",
    "**Objective**: \n",
    "\n",
    "We will refine the stress and strain calculator from the previous [coding challenge](#2.4-coding-challenge) to enhance user interaction and error handling. This version will repeatedly prompt the user for input, allowing multiple calculations in one session. It will handle invalid inputs gracefully, ensuring the program remains user-friendly and robust.\n",
    "\n",
    "**User Input:**\n",
    "* Continuously prompt the user to enter the applied force (in newtons), cross-sectional area (in square meters), original length (in meters), and change in length (in meters) for each new material.\n",
    "* Provide an option to exit the program after each calculation cycle.\n",
    "\n",
    "**Calculations:**\n",
    "* Calculate stress using the formula: Stress = Force / Area.\n",
    "* Calculate strain using the formula: Strain = Change in Length / Original Length.\n",
    "\n",
    "**Output:**\n",
    "* Display the calculated stress with \"Pascals\" as the unit.\n",
    "* Display the calculated strain as a dimensionless quantity.\n",
    "\n",
    "**Error Handling and Repeated Calculations:**\n",
    "* Incorporate try-except blocks to catch and handle any input errors, ensuring that the program can manage non-numeric inputs without crashing.\n",
    "* Use a loop to allow the user to perform calculations repeatedly until they choose to exit the program.\n",
    "* Include conditionals to manage the flow of the program based on user decisions (e.g., continuing with another calculation or exiting)."
   ]
  },
  {
   "cell_type": "code",
   "execution_count": null,
   "metadata": {},
   "outputs": [
    {
     "name": "stdout",
     "output_type": "stream",
     "text": [
      "Welcome to the Stress and Strain Calculator\n",
      "Can no t divide by zero (area or original length can't be 0)\n",
      "Thank you for using the calculator. Goodbye!\n"
     ]
    }
   ],
   "source": [
    "# Welcome message to introduce the program\n",
    "print(\"Welcome to the Stress and Strain Calculator\")\n",
    "\n",
    "# Main program loop to allow for repeated calculations\n",
    "while True:\n",
    "    try:\n",
    "        # Collecting user inputs\n",
    "        force = float(input(\"Enter the applied force (in newtons): \"))\n",
    "        area = float(input(\"Enter the cross-sectional area (in square meters): \"))\n",
    "        original_length = float(input(\"Enter the original length of the material (in meters): \"))\n",
    "        change_in_length = float(input(\"Enter the change in length of the material (in meters): \"))\n",
    "        \n",
    "        # Calculating stress and strain\n",
    "        stress = force / area  # Stress calculation\n",
    "        strain = change_in_length / original_length  # Strain calculation\n",
    "        \n",
    "        # Outputting results\n",
    "        print(f\"Calculated Stress: {stress} Pascals (Pa)\")\n",
    "        print(f\"Calculated Strain: {strain} (dimensionless)\")\n",
    "        \n",
    "    except ValueError:\n",
    "        # Handling invalid numeric input\n",
    "        print(\"Invalid input. Please enter a valid number.\")\n",
    "        continue\n",
    "\n",
    "    except ZeroDivisionError:\n",
    "        print(\"Can not divide by zero (area or original length can't be 0)\")\n",
    "    \n",
    "    # Asking the user if they want to perform another calculation\n",
    "    repeat = input(\"Do you want to perform another calculation? (yes/no): \").lower()\n",
    "    if repeat != 'yes':\n",
    "        # Exiting message\n",
    "        print(\"Thank you for using the calculator. Goodbye!\")\n",
    "        break"
   ]
  },
  {
   "cell_type": "markdown",
   "metadata": {},
   "source": [
    "[--> Back to Outline](#course-outline)\n",
    "\n",
    "---"
   ]
  }
 ],
 "metadata": {
  "language_info": {
   "name": "python"
  }
 },
 "nbformat": 4,
 "nbformat_minor": 2
}
