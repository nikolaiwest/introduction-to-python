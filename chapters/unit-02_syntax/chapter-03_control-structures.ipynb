{
 "cells": [
  {
   "cell_type": "markdown",
   "metadata": {},
   "source": [
    "# **Chapter 3:** Control Structures\n",
    "\n",
    "## Introduction \n",
    "\n",
    "In this chapter, we'll explore *control structures*, which are fundamental tools in Python programming that allow you to control the flow of your code. Understanding these structures is crucial as they form the backbone of logical decision-making and repetition in your programs.\n",
    "\n",
    "Control structures in Python allow you to:\n",
    "* Make decisions based on conditions *(conditionals)*\n",
    "* Repeat code multiple times *(loops)*\n",
    "* Handle errors and exceptions gracefully\n",
    "\n",
    "By mastering these concepts, you'll be able to write more complex, efficient, and robust Python programs. Whether you're automating tasks, analyzing data, or building applications, control structures are essential tools in every programmer's toolkit.\n",
    "\n",
    "## Chapter outline \n",
    "\n",
    "**3.1 Conditionals**\n",
    "- Understanding if statements\n",
    "- Working with if-else statements\n",
    "- Using if-elif-else for multiple conditions\n",
    "- Nested conditionals\n",
    "\n",
    "**3.2 Loops**\n",
    "- For loops for iterating over sequences\n",
    "- While loops for condition-based repetition\n",
    "- Loop control statements (break, continue)\n",
    "- Nested loops\n",
    "\n",
    "**3.3 Handling Errors and Exceptions**\n",
    "- Understanding exceptions in Python\n",
    "- Using try-except blocks\n",
    "- Handling specific exceptions\n",
    "- The finally clause\n",
    "- Raising exceptions\n",
    "\n",
    "3.4 Coding Challenge: Enhanced Stress and Strain Calculator\n",
    "- A practical exercise to apply control structures\n",
    "- Implementing error handling in the calculator\n",
    "- Creating a user-friendly interface with loops and conditionals\n",
    "\n",
    "Each section will include explanations, examples, and hands-on practice tasks to reinforce your learning. Remember, the best way to learn programming is by doing, so don't hesitate to experiment with the code and try your own variations!\n",
    "\n",
    "Let's dive into the world of Python control structures!"
   ]
  },
  {
   "cell_type": "markdown",
   "metadata": {},
   "source": [
    "## **Chapter 3.1:** Conditionals\n",
    "\n",
    "Conditionals are fundamental control structures in Python that allow your program to make decisions based on certain conditions. They enable your code to execute different blocks depending on whether a condition is true or false. This capability is crucial for creating dynamic and responsive programs.\n",
    "\n",
    "### Understanding Boolean Expressions\n",
    "\n",
    "Before diving into conditional statements, it's important to remember the Boolean expressions from the previous chapter. These are expressions that evaluate to either `True` or `False`. They often involve comparison operators:\n",
    "* `==` (equal to)\n",
    "* `!=` (not equal to)\n",
    "* `<` (less than)\n",
    "* `>` (greater than)\n",
    "* `<=` (less than or equal to)\n",
    "* `>=` (greater than or equal to)\n",
    "\n",
    "Like we have seen in chapter 2, Boolean expressions can also use logical operators:\n",
    "* `and` (both conditions must be true)\n",
    "* `or` (at least one condition must be true)\n",
    "* `not` (negates the condition)\n",
    "\n",
    "***If you are unsure how to use these expressions, take your time to take a look at the previous chapter***"
   ]
  },
  {
   "cell_type": "markdown",
   "metadata": {},
   "source": [
    "### The `if` Statement\n",
    "\n",
    "The `if` statement is the most basic form of conditional execution in Python. It allows you to execute a block of code only if a certain condition is true.\n",
    "\n",
    "*Syntax:*\n",
    "```python \n",
    "if condition:\n",
    "    # Code to execute if condition is True\n",
    "```\n",
    "\n",
    "*Example:*"
   ]
  },
  {
   "cell_type": "code",
   "execution_count": 1,
   "metadata": {},
   "outputs": [
    {
     "name": "stdout",
     "output_type": "stream",
     "text": [
      "It's a warm day!\n"
     ]
    }
   ],
   "source": [
    "# Example of if statement\n",
    "temperature = 25\n",
    "if temperature > 20:\n",
    "    print(\"It's a warm day!\")"
   ]
  },
  {
   "cell_type": "markdown",
   "metadata": {},
   "source": [
    "In this example, `\"It's a warm day!\"` will be printed because the condition `temperature > 20` is `True`."
   ]
  },
  {
   "cell_type": "markdown",
   "metadata": {},
   "source": [
    "### The `if-else` statement\n",
    "\n",
    "The `if-else` statement allows you to execute one block of code if the condition is `true`, and another block if it's `false`.\n",
    "\n",
    "*Syntax:*\n",
    "```python\n",
    "if condition:\n",
    "    # code to execute if condition is True\n",
    "else: \n",
    "    # code to execute if condition is False \n",
    "```\n",
    "\n",
    "*Example:*\n"
   ]
  },
  {
   "cell_type": "code",
   "execution_count": 2,
   "metadata": {},
   "outputs": [
    {
     "name": "stdout",
     "output_type": "stream",
     "text": [
      "You are not eligible to vote yet.\n"
     ]
    }
   ],
   "source": [
    "# Example of if-else statement\n",
    "age = 17\n",
    "if age >= 18:\n",
    "    print(\"You are eligible to vote.\")\n",
    "else:\n",
    "    print(\"You are not eligible to vote yet.\")"
   ]
  },
  {
   "cell_type": "markdown",
   "metadata": {},
   "source": [
    "This code will print `\"You are not eligible to vote yet.\"` because the condition `age >= 18` is `False`."
   ]
  },
  {
   "cell_type": "markdown",
   "metadata": {},
   "source": [
    "## The `if-elif-else` Statement\n",
    "\n",
    "When you need to check multiple conditions, you can use the `if-elif-else` structure. `elif` is short for \"else if\".\n",
    "\n",
    "*Syntax:*\n",
    "```python \n",
    "if condition1:\n",
    "    # code to execute if condition1 is True\n",
    "elif condition2:\n",
    "    # code to execute if condition2 is True\n",
    "elif condition3:\n",
    "    # code to execute if condition3 is True\n",
    "else:\n",
    "    # code to execute if all conditions are False\n",
    "```\n",
    "\n",
    "*Example:*"
   ]
  },
  {
   "cell_type": "code",
   "execution_count": 3,
   "metadata": {},
   "outputs": [
    {
     "name": "stdout",
     "output_type": "stream",
     "text": [
      "B\n"
     ]
    }
   ],
   "source": [
    "# Example of if-elif-else statement\n",
    "score = 85\n",
    "if score >= 90:\n",
    "    print(\"A\")\n",
    "elif score >= 80:\n",
    "    print(\"B\")\n",
    "elif score >= 70:\n",
    "    print(\"C\")\n",
    "elif score >= 60:\n",
    "    print(\"D\")\n",
    "else:\n",
    "    print(\"F\")"
   ]
  },
  {
   "cell_type": "markdown",
   "metadata": {},
   "source": [
    "## Nested Conditionals\n",
    "\n",
    "You can also place conditional statements inside other conditional statements. This is called **nesting**."
   ]
  },
  {
   "cell_type": "code",
   "execution_count": 4,
   "metadata": {},
   "outputs": [
    {
     "name": "stdout",
     "output_type": "stream",
     "text": [
      "x is greater than 5\n",
      "y is not greater than 5\n"
     ]
    }
   ],
   "source": [
    "x = 10\n",
    "y = 5\n",
    "\n",
    "if x > 5:\n",
    "    print(\"x is greater than 5\")\n",
    "    if y > 5:\n",
    "        print(\"y is also greater than 5\")\n",
    "    else:\n",
    "        print(\"y is not greater than 5\")\n",
    "else:\n",
    "    print(\"x is not greater than 5\")"
   ]
  },
  {
   "cell_type": "markdown",
   "metadata": {},
   "source": [
    "## Conditional Expressions (Ternary Operator)\n",
    "\n",
    "Python also supports a compact way to write simple `if-else` statements, known as conditional expressions or the ternary operator.\n",
    "\n",
    "*Syntax:*\n",
    "```python \n",
    "value_if_true if condition else value_if_false\n",
    "```\n",
    "*Example*"
   ]
  },
  {
   "cell_type": "code",
   "execution_count": 5,
   "metadata": {},
   "outputs": [
    {
     "name": "stdout",
     "output_type": "stream",
     "text": [
      "adult\n"
     ]
    }
   ],
   "source": [
    "age = 20\n",
    "status = \"adult\" if age >= 18 else \"minor\"\n",
    "print(status)  # This will print \"adult\""
   ]
  },
  {
   "cell_type": "markdown",
   "metadata": {},
   "source": [
    "This is equivalent to:"
   ]
  },
  {
   "cell_type": "code",
   "execution_count": 6,
   "metadata": {},
   "outputs": [],
   "source": [
    "if age >= 18:\n",
    "    status = \"adult\"\n",
    "else:\n",
    "    status = \"minor\""
   ]
  },
  {
   "cell_type": "markdown",
   "metadata": {},
   "source": [
    "The conditional expression style is often preferred for its conciseness and readability, especially for simple conditions. It allows you to write the same logic in a single line, making the code more compact and sometimes easier to understand at a glance."
   ]
  },
  {
   "cell_type": "markdown",
   "metadata": {},
   "source": [
    "## Tips when working with conditionals \n",
    "\n",
    "Here is a collection of tips when working with conditionals to keep in mind: \n",
    "\n",
    "* Keep your conditions simple and readable. If a condition is complex, consider breaking it down or using intermediate variables.\n",
    "\n",
    "* Be careful with equality checks for floating-point numbers due to precision issues (you can learn more about that isse [here](https://docs.python.org/3/tutorial/floatingpoint.html)). Use `math.isclose()` for float comparisons when appropriate.\n",
    "\n",
    "* When checking if a value is `None`, use is `None` instead of `== None`.\n",
    "\n",
    "* For boolean checks, you don't need to compare explicitly to True or False. Instead of `if x == True:`, you can simply write if `x:`.\n",
    "\n",
    "* Use `elif` for mutually exclusive conditions to make your code more efficient and readable."
   ]
  },
  {
   "cell_type": "markdown",
   "metadata": {},
   "source": [
    "---"
   ]
  },
  {
   "cell_type": "markdown",
   "metadata": {},
   "source": [
    "### 👨‍💻 **Practice tasks 3.1:** Using Conditionals\n",
    "\n",
    "Now it's time to put what you've learned about conditionals into practice. Complete the following tasks in a new code cell in your Jupyter Notebook:\n",
    "\n",
    "**Basic if statements:**\n",
    "\n",
    "1. Create a variable `temperature` and assign it a value between `0` and `40`.\n",
    "\n",
    "2. Write an if statement that prints `\"It's hot!\"` if the temperature is above `30`.\n",
    "\n",
    "**if-else statements:**\n",
    "\n",
    "3. Create a variable `is_raining` and assign it a `boolean` value.\n",
    "\n",
    "4. Write an `if-else` statement that prints `\"Bring an umbrella!\"` if is_raining is `True`, and `\"Enjoy the sun!\"` otherwise.\n",
    "\n",
    "**if-elif-else statements:**\n",
    "\n",
    "5. Create a variable `grade` and assign it a value between `0` and `100`.\n",
    "\n",
    "6. Write an `if-elif-else` statement that prints:\n",
    "    - `\"Excellent!\"` if the grade is `90` or above\n",
    "    - `\"Good job!\"` if the grade is between `70` and `89`\n",
    "    - `\"You need to study more.\"` if the grade is between `50` and `69`\n",
    "    - `\"Failed.\"` if the grade is below `50`\n",
    "\n",
    "**Nested conditionals:**\n",
    "\n",
    "7. Create two variables: `is_weekend` (boolean) and `has_homework` (boolean).\n",
    "\n",
    "8. Write a nested `if-else` statement that prints:\n",
    "    - `\"Time to relax!\"` if it's the weekend and there's no homework\n",
    "    - `\"Do your homework!\"` if it's the weekend but there is homework\n",
    "    - `\"It's a workday.\"` if it's not the weekend\n",
    "\n",
    "**Combining conditions:**\n",
    "\n",
    "9. Create two variables: `age` (integer) and `has_license` (boolean).\n",
    "\n",
    "10. Write an `if-elif-else` statement that prints:\n",
    "- `\"You can drive.\"` if the age is `18` or above and `has_license` is `True`\n",
    "- `\"You need to get a license.\"` if the `age` is `18` or above but `has_license` is `False`\n",
    "- `\"You're too young to drive.\"` if the `age` is below `18`\n",
    "\n",
    "Try completing these tasks on your own. If you get stuck, don't hesitate to refer back to the earlier sections or ask for help. Remember, in Jupyter Notebooks, you can run each cell individually to check your work as you go."
   ]
  },
  {
   "cell_type": "markdown",
   "metadata": {},
   "source": [
    "*Basic if statements:*"
   ]
  },
  {
   "cell_type": "code",
   "execution_count": 7,
   "metadata": {},
   "outputs": [],
   "source": [
    "# 1. Create a variable 'temperature' and assign it a value between 0 and 40\n"
   ]
  },
  {
   "cell_type": "code",
   "execution_count": 8,
   "metadata": {},
   "outputs": [],
   "source": [
    "# 2. Write an if statement that prints \"It's hot!\" if the temperature is above 30\n"
   ]
  },
  {
   "cell_type": "markdown",
   "metadata": {},
   "source": [
    "*if-else statements:*"
   ]
  },
  {
   "cell_type": "code",
   "execution_count": 9,
   "metadata": {},
   "outputs": [],
   "source": [
    "# 3. Create a variable 'is_raining' and assign it a boolean value\n"
   ]
  },
  {
   "cell_type": "code",
   "execution_count": 10,
   "metadata": {},
   "outputs": [],
   "source": [
    "# 4. Write an if-else statement that prints \"Bring an umbrella!\" if 'is_raining' is True, and \"Enjoy the sun!\" otherwise\n"
   ]
  },
  {
   "cell_type": "markdown",
   "metadata": {},
   "source": [
    "*if-elif-else statements:*"
   ]
  },
  {
   "cell_type": "code",
   "execution_count": 11,
   "metadata": {},
   "outputs": [],
   "source": [
    "# 5. Create a variable 'grade' and assign it a value between 0 and 100\n"
   ]
  },
  {
   "cell_type": "code",
   "execution_count": 12,
   "metadata": {},
   "outputs": [],
   "source": [
    "# 6. Write an if-elif-else statement for the grade conditions\n"
   ]
  },
  {
   "cell_type": "markdown",
   "metadata": {},
   "source": [
    "*Nested conditionals:*"
   ]
  },
  {
   "cell_type": "code",
   "execution_count": 13,
   "metadata": {},
   "outputs": [],
   "source": [
    "# 7. Create two variables: 'is_weekend' (boolean) and 'has_homework' (boolean)\n"
   ]
  },
  {
   "cell_type": "code",
   "execution_count": 14,
   "metadata": {},
   "outputs": [],
   "source": [
    "# 8. Write a nested if-else statement for the weekend and homework conditions\n"
   ]
  },
  {
   "cell_type": "markdown",
   "metadata": {},
   "source": [
    "*Combining conditions:*"
   ]
  },
  {
   "cell_type": "code",
   "execution_count": 15,
   "metadata": {},
   "outputs": [],
   "source": [
    "# 9. Create two variables: 'age' (integer) and 'has_license' (boolean)\n"
   ]
  },
  {
   "cell_type": "code",
   "execution_count": 16,
   "metadata": {},
   "outputs": [],
   "source": [
    "# 10. Write an if-elif-else statement for the driving conditions\n"
   ]
  },
  {
   "cell_type": "markdown",
   "metadata": {},
   "source": [
    "---"
   ]
  },
  {
   "cell_type": "markdown",
   "metadata": {},
   "source": [
    "## **Chapter 3.2: Loops**\n",
    "\n",
    "Loops are powerful control structures in Python that allow you to execute a block of code *repeatedly*. They are essential for automating repetitive tasks, processing collections of data, and implementing algorithms efficiently.\n",
    "\n",
    "Python provides two main types of loops: `for` loops and `while` loops."
   ]
  },
  {
   "cell_type": "markdown",
   "metadata": {},
   "source": [
    "### The `for` Loop\n",
    "\n",
    "The for loop is used to iterate over a sequence (such as a list, tuple, dictionary, set, or string) or other iterable objects. It executes a block of code for each item in the sequence.\n",
    "\n",
    "*Syntax:*\n",
    "```python\n",
    "for item in sequence:\n",
    "    # code to be executed for each item\n",
    "```\n",
    "\n",
    "*Example:*"
   ]
  },
  {
   "cell_type": "code",
   "execution_count": 17,
   "metadata": {},
   "outputs": [
    {
     "name": "stdout",
     "output_type": "stream",
     "text": [
      "I like apple\n",
      "I like banana\n",
      "I like cherry\n"
     ]
    }
   ],
   "source": [
    "# Example of using a list \n",
    "fruits = [\"apple\", \"banana\", \"cherry\"]\n",
    "for fruit in fruits:\n",
    "    print(f\"I like {fruit}\")"
   ]
  },
  {
   "cell_type": "markdown",
   "metadata": {},
   "source": [
    "**A brief note on lists:** Lists are ordered collections of items in Python, created using square brackets (e.g., `[1, \"apple\", 3.14]`). They are versatile and commonly used, but we'll explore them in more depth in Chapter 4 of this course when we talk about Data Structures.\n",
    "\n",
    "For now, it is sufficient ot know that they act like iterable objects, resp. like sequences, but also other objects that can be iterated over."
   ]
  },
  {
   "cell_type": "code",
   "execution_count": 18,
   "metadata": {},
   "outputs": [
    {
     "name": "stdout",
     "output_type": "stream",
     "text": [
      "apple\n",
      "banana\n",
      "cherry\n"
     ]
    }
   ],
   "source": [
    "# Example of iterating over a list\n",
    "fruits = [\"apple\", \"banana\", \"cherry\"]\n",
    "for fruit in fruits:\n",
    "    print(fruit)"
   ]
  },
  {
   "cell_type": "markdown",
   "metadata": {},
   "source": [
    "## The `range()` function\n",
    "\n",
    "The `range()` function is commonly used with for loops to generate a sequence of numbers. It can take one, two, or three arguments:\n",
    "\n",
    "* `range(stop)`: Generates numbers from `0` to `stop-1`\n",
    "* `range(start, stop)`: Generates numbers from `start` to `stop-1`\n",
    "* `range(start, stop, step)`: Generates numbers from `start` to `stop-1`, incrementing by `step`\n",
    "\n",
    "*Example:*\n"
   ]
  },
  {
   "cell_type": "code",
   "execution_count": 19,
   "metadata": {},
   "outputs": [
    {
     "name": "stdout",
     "output_type": "stream",
     "text": [
      "0\n",
      "1\n",
      "2\n"
     ]
    }
   ],
   "source": [
    "# Example of the range function\n",
    "for i in range(3):\n",
    "    print(i)"
   ]
  },
  {
   "cell_type": "code",
   "execution_count": 20,
   "metadata": {},
   "outputs": [
    {
     "name": "stdout",
     "output_type": "stream",
     "text": [
      "5\n",
      "10\n",
      "15\n"
     ]
    }
   ],
   "source": [
    "for i in range(5,20,5):\n",
    "    print(i)"
   ]
  },
  {
   "cell_type": "markdown",
   "metadata": {},
   "source": [
    "Use `range()` when you need to perform an action a specific number of times or when you need index values."
   ]
  },
  {
   "cell_type": "markdown",
   "metadata": {},
   "source": [
    "### The `while` Loop\n",
    "\n",
    "The `while` loop executes a block of code as long as a specified condition is true. It's useful when you don't know in advance how many times you need to execute the loop.\n",
    "\n",
    "*Syntax:*\n",
    "```python \n",
    "while condition:\n",
    "    # code to be executed as long as the condition is true\n",
    "```\n",
    "\n",
    "*Example:*"
   ]
  },
  {
   "cell_type": "code",
   "execution_count": 21,
   "metadata": {},
   "outputs": [
    {
     "name": "stdout",
     "output_type": "stream",
     "text": [
      "0\n",
      "1\n",
      "2\n"
     ]
    }
   ],
   "source": [
    "# Example of a while loop\n",
    "count = 0\n",
    "while count < 3:\n",
    "    print(count)\n",
    "    count += 1  # Same as count = count + 1"
   ]
  },
  {
   "cell_type": "markdown",
   "metadata": {},
   "source": [
    "Be careful with while loops to ensure that the condition eventually becomes false, or you'll create an infinite loop."
   ]
  },
  {
   "cell_type": "markdown",
   "metadata": {},
   "source": [
    "### Loop Control Statements\n",
    "\n",
    "Python provides statements to alter the normal flow of loops:\n",
    "\n",
    "* `break:` Exits the loop prematurely\n",
    "\n",
    "* `continue:` Skips the rest of the current iteration and moves to the next one\n",
    "\n",
    "* `else` clause: Executes when the loop condition becomes `False` (not when broken by `break`)"
   ]
  },
  {
   "cell_type": "code",
   "execution_count": 22,
   "metadata": {},
   "outputs": [
    {
     "name": "stdout",
     "output_type": "stream",
     "text": [
      "0\n",
      "1\n",
      "2\n",
      "3\n",
      "4\n",
      "After the loop\n"
     ]
    }
   ],
   "source": [
    "# Example of a while loop with break \n",
    "for num in range(10):\n",
    "    if num == 5:\n",
    "        break\n",
    "    print(num)\n",
    "else:\n",
    "    print(\"Loop completed normally\")\n",
    "print(\"After the loop\")"
   ]
  },
  {
   "cell_type": "markdown",
   "metadata": {},
   "source": [
    "The else clause in loops is a unique Python feature. It's useful for implementing search algorithms where you want to know if the loop completed without finding a match."
   ]
  },
  {
   "cell_type": "markdown",
   "metadata": {},
   "source": [
    "Example of `continue`:"
   ]
  },
  {
   "cell_type": "code",
   "execution_count": 23,
   "metadata": {},
   "outputs": [
    {
     "name": "stdout",
     "output_type": "stream",
     "text": [
      "0\n",
      "1\n",
      "3\n",
      "4\n"
     ]
    }
   ],
   "source": [
    "for num in range(5):\n",
    "    if num == 2:\n",
    "        continue\n",
    "    print(num)"
   ]
  },
  {
   "cell_type": "markdown",
   "metadata": {},
   "source": [
    "In this continue example, when `num` is `2`, the continue statement skips the rest of that iteration, including the `print(num)` statement, and moves to the next iteration. As a result, `2` is not printed."
   ]
  },
  {
   "cell_type": "markdown",
   "metadata": {},
   "source": [
    "### Nested Loops\n",
    "\n",
    "You can place one loop inside another. Remember from the previous chapter, his is called *nesting*. It is useful for working with multi-dimensional data structures or when you need to combine multiple sequences.\n",
    "\n",
    "*Example:* "
   ]
  },
  {
   "cell_type": "code",
   "execution_count": 24,
   "metadata": {},
   "outputs": [
    {
     "name": "stdout",
     "output_type": "stream",
     "text": [
      "(0, 0)\n",
      "(0, 1)\n",
      "(1, 0)\n",
      "(1, 1)\n",
      "(2, 0)\n",
      "(2, 1)\n"
     ]
    }
   ],
   "source": [
    "for i in range(3):\n",
    "    for j in range(2):\n",
    "        print(f\"({i}, {j})\")"
   ]
  },
  {
   "cell_type": "markdown",
   "metadata": {},
   "source": [
    "Be cautious with nested loops as they can significantly increase the execution time of your program, especially with large datasets."
   ]
  },
  {
   "cell_type": "markdown",
   "metadata": {},
   "source": [
    "### Tips when working with lists \n",
    "\n",
    "* Use meaningful variable names in your loops to make your code self-explanatory.\n",
    "\n",
    "* Prefer `for` loops when the number of iterations is known, and `while` loops when it's not.\n",
    "\n",
    "* Be cautious with modifying the sequence you're iterating over within the loop.\n",
    "\n",
    "* You can use Python's `enumerate()` function when you need both the index and value in a `for` loop:\n",
    "    ```python \n",
    "    for index, value in enumerate(fruits):\n",
    "        print(f\"Index {index}: {value}\")\n",
    "    ```\n",
    "    *Output:*\n",
    "    ```cmd\n",
    "    Index 0: apple\n",
    "    Index 1: banana\n",
    "    Index 2: cherry\n",
    "    ```\n",
    "\n",
    "By mastering loops, you'll be able to write more efficient and powerful Python programs. Practice using different types of loops and loop control statements to become proficient in controlling the flow of your code."
   ]
  },
  {
   "cell_type": "markdown",
   "metadata": {},
   "source": [
    "---"
   ]
  },
  {
   "cell_type": "markdown",
   "metadata": {},
   "source": [
    "## 👨‍💻 **Practice tasks 3.2:** Using Loops\n",
    "\n",
    "Now it's time to put what you've learned about loops into practice. Complete the following tasks in new code cells in your Jupyter Notebook:\n",
    "\n",
    "**For loops:**\n",
    "\n",
    "1. Create a list called `fruits` with at least `5` different fruit names.\n",
    "\n",
    "2. Use a `for` loop to print each fruit in the `fruits` list.\n",
    "\n",
    "3. Use a `for` loop with the `range()` function to print the numbers from `1` to `10`.\n",
    "\n",
    "**While loops:**\n",
    "\n",
    "4. Create a variable called `counter` and set it to `0`.\n",
    "\n",
    "5. Write a `while` loop that increments `counter` by `1` and prints its value each time. Stop the loop when counter reaches `5`.\n",
    "\n",
    "**Nested loops:**\n",
    "\n",
    "6. Use nested for loops to create a simple multiplication table for numbers 1 through 5. The output should look like this:\n",
    "\n",
    "    ```python \n",
    "    1 2 3 4 5\n",
    "    2 4 6 8 10\n",
    "    3 6 9 12 15\n",
    "    4 8 12 16 20\n",
    "    5 10 15 20 25\n",
    "    ```\n",
    "\n",
    "**Loop control statements:**\n",
    "\n",
    "7. Create a list of numbers from `1` to `10`.\n",
    "\n",
    "8. Write a for loop that prints each number, but:\n",
    "\n",
    "    * If the number is 3, skip it (use continue).\n",
    "    * If the number is 8, stop the loop (use break).\n",
    "\n",
    "**Combining loops and conditionals:**\n",
    "\n",
    "9. Create a list of temperatures (in Celsius) with at least 7 values, including some below 0 and some above 30.\n",
    "\n",
    "10. Write a for loop that prints:\n",
    "\n",
    "    * \"Freezing!\" if the temperature is below 0\n",
    "    * \"Boiling!\" if the temperature is above 30\n",
    "    * The actual temperature for any other value\n",
    "\n",
    "Try completing these tasks on your own. If you get stuck, don't hesitate to refer back to the earlier sections or ask for help. Remember, in Jupyter Notebooks, you can run each cell individually to check your work as you go.\n",
    "\n",
    "After you've completed the tasks, run your cells and verify that all the loops work as expected. This exercise will reinforce your understanding of Python's loop structures and how to use them in various scenarios."
   ]
  },
  {
   "cell_type": "markdown",
   "metadata": {},
   "source": [
    "*For loops:*"
   ]
  },
  {
   "cell_type": "code",
   "execution_count": 25,
   "metadata": {},
   "outputs": [],
   "source": [
    "# 1. Create a list called 'fruits' with at least 5 different fruit names\n"
   ]
  },
  {
   "cell_type": "code",
   "execution_count": 26,
   "metadata": {},
   "outputs": [],
   "source": [
    "# 2. Use a for loop to print each fruit in the 'fruits' list\n"
   ]
  },
  {
   "cell_type": "code",
   "execution_count": 27,
   "metadata": {},
   "outputs": [],
   "source": [
    "# 3. Use a for loop with the range() function to print the numbers from 1 to 10\n"
   ]
  },
  {
   "cell_type": "markdown",
   "metadata": {},
   "source": [
    "*While loops:*"
   ]
  },
  {
   "cell_type": "code",
   "execution_count": 28,
   "metadata": {},
   "outputs": [],
   "source": [
    "# 4. Create a variable called 'counter' and set it to 0\n"
   ]
  },
  {
   "cell_type": "code",
   "execution_count": 29,
   "metadata": {},
   "outputs": [],
   "source": [
    "# 5. Write a while loop that increments 'counter' by 1 and prints its value each time. Stop the loop when 'counter' reaches 5\n"
   ]
  },
  {
   "cell_type": "markdown",
   "metadata": {},
   "source": [
    "*Nested loops:*"
   ]
  },
  {
   "cell_type": "code",
   "execution_count": 30,
   "metadata": {},
   "outputs": [],
   "source": [
    "# 6. Use nested for loops to create a simple multiplication table for numbers 1 through 5\n"
   ]
  },
  {
   "cell_type": "markdown",
   "metadata": {},
   "source": [
    "*Loop control statements:*"
   ]
  },
  {
   "cell_type": "code",
   "execution_count": 31,
   "metadata": {},
   "outputs": [],
   "source": [
    "# 7. Create a list of numbers from 1 to 10\n"
   ]
  },
  {
   "cell_type": "code",
   "execution_count": 32,
   "metadata": {},
   "outputs": [],
   "source": [
    "# 8. Write a for loop that prints each number, but skips 3 and stops at 8\n"
   ]
  },
  {
   "cell_type": "markdown",
   "metadata": {},
   "source": [
    "*Combining loops and conditionals:*"
   ]
  },
  {
   "cell_type": "code",
   "execution_count": 33,
   "metadata": {},
   "outputs": [],
   "source": [
    "# 9. Create a list of temperatures (in Celsius) with at least 7 values\n"
   ]
  },
  {
   "cell_type": "code",
   "execution_count": 34,
   "metadata": {},
   "outputs": [],
   "source": [
    "# 10. Write a for loop that prints messages based on the temperature\n"
   ]
  },
  {
   "cell_type": "markdown",
   "metadata": {},
   "source": [
    "---"
   ]
  },
  {
   "cell_type": "markdown",
   "metadata": {},
   "source": [
    "## **Chapter 3.3:** Error Handling and Exceptions\n",
    "\n",
    "Error handling is a crucial aspect of writing robust and reliable Python programs. It allows you to anticipate and manage potential issues that may arise during program execution, preventing crashes and providing meaningful feedback to users or developers.\n",
    "\n",
    "### Understanding Exceptions\n",
    "\n",
    "In Python, errors during program execution are called exceptions. When an exception occurs, the normal flow of the program is disrupted, and if not handled, the program will terminate abruptly.\n",
    "\n",
    "Common types of exceptions include:\n",
    "\n",
    "* **SyntaxError:** Occurs when Python can't understand your code\n",
    "\n",
    "* **NameError:** Occurs when you try to use a variable that hasn't been defined\n",
    "\n",
    "* **TypeError:** Occurs when an operation is performed on an inappropriate data type\n",
    "\n",
    "* **ValueError:** Occurs when a built-in operation or function receives an argument with the right type but an inappropriate value\n",
    "\n",
    "* **ZeroDivisionError:** Occurs when you try to divide by zero\n",
    "\n",
    "You can read more about Python's way of handling exceptions [here](https://docs.python.org/3/library/exceptions.html)."
   ]
  },
  {
   "cell_type": "markdown",
   "metadata": {},
   "source": [
    "### The `try-except` Block\n",
    "\n",
    "Python uses try-except blocks to handle exceptions. The basic structure is:\n",
    "\n",
    "```python \n",
    "try:\n",
    "    # Code that might raise an exception\n",
    "except ExpectionType:\n",
    "    # Code to handle the exception\n",
    "```\n",
    "\n",
    "*Example:*"
   ]
  },
  {
   "cell_type": "code",
   "execution_count": 35,
   "metadata": {},
   "outputs": [
    {
     "name": "stdout",
     "output_type": "stream",
     "text": [
      "Error: Division by zero!\n"
     ]
    }
   ],
   "source": [
    "# Example of try-except block\n",
    "try:\n",
    "    x = 10 / 0\n",
    "except ZeroDivisionError:\n",
    "    print(\"Error: Division by zero!\")\n"
   ]
  },
  {
   "cell_type": "markdown",
   "metadata": {},
   "source": [
    "**ZeroDivisionError:** This error occurs when you attempt to divide a number by zero, which is mathematically undefined. Python raises this error to prevent your program from producing incorrect results or crashing."
   ]
  },
  {
   "cell_type": "code",
   "execution_count": 36,
   "metadata": {},
   "outputs": [
    {
     "name": "stdout",
     "output_type": "stream",
     "text": [
      "Error: Index is out of range!\n"
     ]
    }
   ],
   "source": [
    "my_list = [1, 2, 3]\n",
    "try:\n",
    "    print(my_list[3])  # This will raise an IndexError\n",
    "except IndexError:\n",
    "    print(\"Error: Index is out of range!\")"
   ]
  },
  {
   "cell_type": "markdown",
   "metadata": {},
   "source": [
    "**IndexError:** This error occurs when you try to access a list (or other sequence) using an index that is out of range. This typically happens when you try to access an index that is greater than or equal to the length of the list, or a negative index that's out of bounds. Again, do not worry to much about not exactly understanding the concept of lists, we will get to this in the next chapter. "
   ]
  },
  {
   "cell_type": "markdown",
   "metadata": {},
   "source": [
    "### Handling Multiple Exceptions\n",
    "\n",
    "You can handle multiple exception types in a single `try-except` block:\n",
    "\n",
    "```python\n",
    "try:\n",
    "    # Code that might raise an exception\n",
    "except ExceptionType1:\n",
    "    # Handle ExceptionType1\n",
    "except ExceptionType2:\n",
    "    # Handle ExceptionType2\n",
    "```\n",
    "\n",
    "*Example:*"
   ]
  },
  {
   "cell_type": "code",
   "execution_count": 37,
   "metadata": {},
   "outputs": [
    {
     "name": "stdout",
     "output_type": "stream",
     "text": [
      "0.23809523809523808\n"
     ]
    }
   ],
   "source": [
    "try:\n",
    "    num = int(input(\"Enter a number: \"))\n",
    "    result = 10 / num\n",
    "    print(result)\n",
    "except ValueError:\n",
    "    print(\"Please enter a valid number!\")\n",
    "except ZeroDivisionError:\n",
    "    print(\"Cannot divide by zero!\")"
   ]
  },
  {
   "cell_type": "markdown",
   "metadata": {},
   "source": [
    "### The `else` Clause\n",
    "\n",
    "You can use an `else` clause with `try-except` blocks. The code in the else block will only execute if no exceptions were raised in the try block.\n",
    "\n",
    "*Syntax:*\n",
    "```python \n",
    "try:\n",
    "    # Code that might raise an exception\n",
    "except ExceptionType:\n",
    "    # Handle the exception\n",
    "else:\n",
    "    # Code to run if no exceptions were raised\n",
    "```\n",
    "\n",
    "*Example:*"
   ]
  },
  {
   "cell_type": "code",
   "execution_count": 38,
   "metadata": {},
   "outputs": [
    {
     "name": "stdout",
     "output_type": "stream",
     "text": [
      "You entered 42\n"
     ]
    }
   ],
   "source": [
    "try:\n",
    "    num = int(input(\"Enter a number: \"))\n",
    "except ValueError:\n",
    "    print(\"That's not a valid number!\")\n",
    "else:\n",
    "    print(f\"You entered {num}\")"
   ]
  },
  {
   "cell_type": "markdown",
   "metadata": {},
   "source": [
    "### The `finally` Clause\n",
    "\n",
    "The finally clause, if present, will execute regardless of whether an exception occurred or not. It's often used for cleanup operations.\n",
    "\n",
    "*Syntax:*\n",
    "```python\n",
    "try:\n",
    "    # Code that might raise an exception\n",
    "except ExceptionType:\n",
    "    # Handle the exception\n",
    "finally:\n",
    "    # Code that will always run\n",
    "```\n",
    "\n",
    "*Example: *"
   ]
  },
  {
   "cell_type": "code",
   "execution_count": 39,
   "metadata": {},
   "outputs": [
    {
     "name": "stdout",
     "output_type": "stream",
     "text": [
      "The file does not exist!\n"
     ]
    },
    {
     "ename": "NameError",
     "evalue": "name 'f' is not defined",
     "output_type": "error",
     "traceback": [
      "\u001b[1;31m---------------------------------------------------------------------------\u001b[0m",
      "\u001b[1;31mNameError\u001b[0m                                 Traceback (most recent call last)",
      "Cell \u001b[1;32mIn[39], line 7\u001b[0m\n\u001b[0;32m      5\u001b[0m     \u001b[38;5;28mprint\u001b[39m(\u001b[38;5;124m\"\u001b[39m\u001b[38;5;124mThe file does not exist!\u001b[39m\u001b[38;5;124m\"\u001b[39m)\n\u001b[0;32m      6\u001b[0m \u001b[38;5;28;01mfinally\u001b[39;00m:\n\u001b[1;32m----> 7\u001b[0m     \u001b[43mf\u001b[49m\u001b[38;5;241m.\u001b[39mclose()  \u001b[38;5;66;03m# This will run whether or not an exception occurred\u001b[39;00m\n",
      "\u001b[1;31mNameError\u001b[0m: name 'f' is not defined"
     ]
    }
   ],
   "source": [
    "try:\n",
    "    f = open(\"example.txt\", \"r\")\n",
    "    # Perform operations on the file\n",
    "except FileNotFoundError:\n",
    "    print(\"The file does not exist!\")\n",
    "finally:\n",
    "    f.close()  # This will run whether or not an exception occurred"
   ]
  },
  {
   "cell_type": "markdown",
   "metadata": {},
   "source": [
    "The `open()` function is used to open a file and returns a file object; in this case, we're opening the file in read mode (`\"r\"`). It's important to close files after you're done with them to free up system resources, which is why we use `f.close()` in the `finally` block to ensure the file is closed regardless of whether an exception occurred."
   ]
  },
  {
   "cell_type": "markdown",
   "metadata": {},
   "source": [
    "### Raising Exceptions\n",
    "\n",
    "You can also raise exceptions explicitly using the raise statement. This is useful when you want to indicate that a specific error condition has occurred.\n",
    "\n",
    "*Example:*"
   ]
  },
  {
   "cell_type": "code",
   "execution_count": 40,
   "metadata": {},
   "outputs": [
    {
     "name": "stdout",
     "output_type": "stream",
     "text": [
      "Your age is: 42\n",
      "Thank you for providing your age.\n"
     ]
    }
   ],
   "source": [
    "age = int(input(\"Enter your age: \"))\n",
    "\n",
    "if age < 0:\n",
    "    raise ValueError(\"Age cannot be negative!\")\n",
    "elif age > 120:\n",
    "    raise ValueError(\"Age is too high!\")\n",
    "else:\n",
    "    print(f\"Your age is: {age}\")\n",
    "\n",
    "# This code will only execute if no exception was raised\n",
    "print(\"Thank you for providing your age.\")"
   ]
  },
  {
   "cell_type": "markdown",
   "metadata": {},
   "source": [
    "In this example, we're checking the user's input for an age value. If the age is negative or unrealistically high, we raise a `ValueError` with a custom error message. This allows us to catch invalid inputs and provide meaningful feedback."
   ]
  },
  {
   "cell_type": "markdown",
   "metadata": {},
   "source": [
    "### Tips when working with exceptions\n",
    "\n",
    "* Be specific in catching exceptions. Avoid using bare `except:` clauses as they can mask unexpected errors.\n",
    "\n",
    "* Only catch exceptions you can handle. Let other exceptions propagate up to be handled by a higher-level exception handler.\n",
    "\n",
    "* Keep the code inside `try` blocks to a minimum. This makes it easier to identify which specific operation caused the exception.\n",
    "\n",
    "* Use the `as` keyword to capture the exception object, which can provide more information about the error:\n",
    "\n",
    "    ```python \n",
    "    try:\n",
    "        # Some code\n",
    "    except Exception as e:\n",
    "        print(f\"An error occurred: {e}\")\n",
    "    ```\n",
    "\n",
    "* When working with files: Use context managers (`with` statements) for resource management when possible, as they handle cleanup automatically:\n",
    "    ```python \n",
    "    with open(\"file.txt\", \"r\") as f:\n",
    "        content = f.read()\n",
    "    # File is automatically closed after this block\n",
    "    ```\n",
    "\n",
    "* When creating your own exceptions, inherit from existing exception classes. This is more advanced, we will talk about classes in chapter 5:\n",
    "    ```python \n",
    "    class CustomError(Exception):\n",
    "        pass\n",
    "    ```\n"
   ]
  },
  {
   "cell_type": "markdown",
   "metadata": {},
   "source": [
    "By mastering error handling, you can create more robust and user-friendly Python programs that gracefully handle unexpected situations."
   ]
  },
  {
   "cell_type": "markdown",
   "metadata": {},
   "source": [
    "---"
   ]
  },
  {
   "cell_type": "markdown",
   "metadata": {},
   "source": [
    "## 👨‍💻 **Practice tasks 3.3:** Using Error Handling and Exceptions\n",
    "\n",
    "Now it's time to put what you've learned about error handling into practice. Complete the following tasks in new code cells in your Jupyter Notebook:\n",
    "\n",
    "**Basic exception handling:** \n",
    "\n",
    "1. Write a try-except block that attempts to convert a string to an integer. If successful, print the integer. If it fails, catch the `ValueError` and print \"Invalid input\".\n",
    "\n",
    "2. Create a list with 5 elements. Try to access the 6th element of the list. Use a try-except block to catch the `IndexError` and print `\"Index out of range\"`.\n",
    "\n",
    "**Multiple exceptions:**\n",
    "\n",
    "3. Write a program that asks the user to input two numbers and divides the first by the second. Use a try-except block to handle both `ValueError` (if the user doesn't enter a number) and `ZeroDivisionError` (if the second number is zero).\n",
    "\n",
    "**Using else and finally:**\n",
    "\n",
    "4. Modify the program from task 3 to include an `else` clause that prints the result of the division if no exceptions were raised.\n",
    "\n",
    "5. Add a `finally` clause to the program that prints \"Operation completed\" whether an exception occurred or not.\n",
    "\n",
    "**Raising exceptions:**\n",
    "\n",
    "6. Write a program that asks the user for their age. If the age is less than `0` or greater than `120`, raise a `ValueError` with an appropriate error message.\n",
    "\n",
    "**Combining control structures:**\n",
    "\n",
    "7. Create a loop that repeatedly asks the user for a number between `1` and `10`. Use a `try-except` block to handle invalid inputs. The loop should continue until the user enters a valid number or types 'quit'.\n",
    "\n",
    "**Custom exceptions:**\n",
    "\n",
    "8. Define a custom exception called `TemperatureError`. Then, write a program that asks the user for a temperature in Celsius. If the temperature is below `-273.15` (absolute zero), raise a `TemperatureError` with an appropriate error message.\n",
    "\n",
    "Try completing these tasks on your own. If you get stuck, don't hesitate to refer back to the earlier sections or ask for help. Remember, in Jupyter Notebooks, you can run each cell individually to check your work as you go.\n",
    "\n",
    "After you've completed the tasks, run your cells and verify that all the exception handling works as expected. This exercise will reinforce your understanding of Python's error handling mechanisms and how to use them in various scenarios."
   ]
  },
  {
   "cell_type": "markdown",
   "metadata": {},
   "source": [
    "*Basic exception handling:*"
   ]
  },
  {
   "cell_type": "code",
   "execution_count": 41,
   "metadata": {},
   "outputs": [],
   "source": [
    "# 1. Convert string to integer\n"
   ]
  },
  {
   "cell_type": "code",
   "execution_count": 42,
   "metadata": {},
   "outputs": [],
   "source": [
    "# 2. Access 6th element of a 5-element list\n"
   ]
  },
  {
   "cell_type": "markdown",
   "metadata": {},
   "source": [
    "*Multiple exceptions:*"
   ]
  },
  {
   "cell_type": "code",
   "execution_count": 43,
   "metadata": {},
   "outputs": [],
   "source": [
    "# 3. Division with multiple exception handling\n"
   ]
  },
  {
   "cell_type": "markdown",
   "metadata": {},
   "source": [
    "*Use else and finally:*"
   ]
  },
  {
   "cell_type": "code",
   "execution_count": 44,
   "metadata": {},
   "outputs": [],
   "source": [
    "# 4 & 5. Division with else and finally clauses\n"
   ]
  },
  {
   "cell_type": "markdown",
   "metadata": {},
   "source": [
    "*Raising exceptions:*"
   ]
  },
  {
   "cell_type": "code",
   "execution_count": 45,
   "metadata": {},
   "outputs": [],
   "source": [
    "# 6. Age validation\n"
   ]
  },
  {
   "cell_type": "markdown",
   "metadata": {},
   "source": [
    "*Combining control structures:*"
   ]
  },
  {
   "cell_type": "code",
   "execution_count": 46,
   "metadata": {},
   "outputs": [],
   "source": [
    "# 7. Loop with exception handling\n"
   ]
  },
  {
   "cell_type": "markdown",
   "metadata": {},
   "source": [
    "*Custom exceptions:*"
   ]
  },
  {
   "cell_type": "code",
   "execution_count": 47,
   "metadata": {},
   "outputs": [],
   "source": [
    "# 8. Custom TemperatureError\n"
   ]
  },
  {
   "cell_type": "markdown",
   "metadata": {},
   "source": [
    "---"
   ]
  },
  {
   "cell_type": "markdown",
   "metadata": {},
   "source": [
    "### **Chapter 3.4:** Coding Challenge\n",
    "\n",
    "#### Stress and Strain Calculator (Part 2)\n",
    "\n",
    "**Objective**: \n",
    "\n",
    "We will refine the stress and strain calculator from the previous [coding challenge](#2.4-coding-challenge) to enhance user interaction and error handling. This version will repeatedly prompt the user for input, allowing multiple calculations in one session. It will handle invalid inputs gracefully, ensuring the program remains user-friendly and robust.\n",
    "\n",
    "**User Input:**\n",
    "* Continuously prompt the user to enter the applied force (in newtons), cross-sectional area (in square meters), original length (in meters), and change in length (in meters) for each new material.\n",
    "* Provide an option to exit the program after each calculation cycle.\n",
    "\n",
    "**Calculations:**\n",
    "* Calculate stress using the formula: Stress = Force / Area.\n",
    "* Calculate strain using the formula: Strain = Change in Length / Original Length.\n",
    "\n",
    "**Output:**\n",
    "* Display the calculated stress with \"Pascals\" as the unit.\n",
    "* Display the calculated strain as a dimensionless quantity.\n",
    "\n",
    "**Error Handling and Repeated Calculations:**\n",
    "* Incorporate try-except blocks to catch and handle any input errors, ensuring that the program can manage non-numeric inputs without crashing.\n",
    "* Use a loop to allow the user to perform calculations repeatedly until they choose to exit the program.\n",
    "* Include conditionals to manage the flow of the program based on user decisions (e.g., continuing with another calculation or exiting)."
   ]
  },
  {
   "cell_type": "code",
   "execution_count": 48,
   "metadata": {},
   "outputs": [
    {
     "name": "stdout",
     "output_type": "stream",
     "text": [
      "Welcome to the Stress and Strain Calculator\n",
      "Calculated Stress: 1.0 Pascals (Pa)\n",
      "Calculated Strain: 1.0 (dimensionless)\n",
      "Thank you for using the calculator. Goodbye!\n"
     ]
    }
   ],
   "source": [
    "# Welcome message to introduce the program\n",
    "print(\"Welcome to the Stress and Strain Calculator\")\n",
    "\n",
    "# Main program loop to allow for repeated calculations\n",
    "while True:\n",
    "    try:\n",
    "        # Collecting user inputs\n",
    "        force = float(input(\"Enter the applied force (in newtons): \"))\n",
    "        area = float(input(\"Enter the cross-sectional area (in square meters): \"))\n",
    "        original_length = float(input(\"Enter the original length of the material (in meters): \"))\n",
    "        change_in_length = float(input(\"Enter the change in length of the material (in meters): \"))\n",
    "        \n",
    "        # Calculating stress and strain\n",
    "        stress = force / area  # Stress calculation\n",
    "        strain = change_in_length / original_length  # Strain calculation\n",
    "        \n",
    "        # Outputting results\n",
    "        print(f\"Calculated Stress: {stress} Pascals (Pa)\")\n",
    "        print(f\"Calculated Strain: {strain} (dimensionless)\")\n",
    "        \n",
    "    except ValueError:\n",
    "        # Handling invalid numeric input\n",
    "        print(\"Invalid input. Please enter a valid number.\")\n",
    "        continue\n",
    "\n",
    "    except ZeroDivisionError:\n",
    "        print(\"Can not divide by zero (area or original length can't be 0)\")\n",
    "    \n",
    "    # Asking the user if they want to perform another calculation\n",
    "    repeat = input(\"Do you want to perform another calculation? (yes/no): \").lower()\n",
    "    if repeat != 'yes':\n",
    "        # Exiting message\n",
    "        print(\"Thank you for using the calculator. Goodbye!\")\n",
    "        break"
   ]
  },
  {
   "cell_type": "markdown",
   "metadata": {},
   "source": [
    "[--> Back to Outline](#course-outline)\n",
    "\n",
    "---"
   ]
  }
 ],
 "metadata": {
  "language_info": {
   "name": "python"
  }
 },
 "nbformat": 4,
 "nbformat_minor": 2
}
