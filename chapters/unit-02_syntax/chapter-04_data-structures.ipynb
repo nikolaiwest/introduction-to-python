{
 "cells": [
  {
   "cell_type": "markdown",
   "metadata": {},
   "source": [
    "## **[4. Data Structures](#4-data-structures)**\n"
   ]
  },
  {
   "cell_type": "markdown",
   "metadata": {},
   "source": [
    "### **[4.1 Lists](#41-lists)**\n",
    "\n",
    "Lists are one of the most versatile data structures in Python, allowing you to store a sequence of items. \n",
    "\n",
    "They are *mutable*, meaning you can modify them after their creation. \n",
    "\n",
    "Lists are defined by square brackets `[]` and can contain items of different types.\n"
   ]
  },
  {
   "cell_type": "markdown",
   "metadata": {},
   "source": [
    "#### Creating and Accessing Lists"
   ]
  },
  {
   "cell_type": "code",
   "execution_count": null,
   "metadata": {},
   "outputs": [
    {
     "name": "stdout",
     "output_type": "stream",
     "text": [
      "['apple', 'banana', 'cherry']\n"
     ]
    }
   ],
   "source": [
    "# Creating a list\n",
    "fruits = [\"apple\", \"banana\", \"cherry\"]\n",
    "print(fruits)"
   ]
  },
  {
   "cell_type": "code",
   "execution_count": null,
   "metadata": {},
   "outputs": [
    {
     "name": "stdout",
     "output_type": "stream",
     "text": [
      "cherry\n"
     ]
    }
   ],
   "source": [
    "# Accessing list items\n",
    "print(fruits[2])  # Outputs 'apple'"
   ]
  },
  {
   "cell_type": "markdown",
   "metadata": {},
   "source": [
    "#### Adding and Removing Elements"
   ]
  },
  {
   "cell_type": "code",
   "execution_count": null,
   "metadata": {},
   "outputs": [
    {
     "name": "stdout",
     "output_type": "stream",
     "text": [
      "['apple', 'banana', 'cherry', 'orange']\n"
     ]
    }
   ],
   "source": [
    "# Adding an item to the end\n",
    "fruits.append(\"orange\")\n",
    "print(fruits)"
   ]
  },
  {
   "cell_type": "code",
   "execution_count": null,
   "metadata": {},
   "outputs": [
    {
     "name": "stdout",
     "output_type": "stream",
     "text": [
      "['apple', 'blueberry', 'banana', 'cherry', 'orange']\n"
     ]
    }
   ],
   "source": [
    "# Inserting an item at a specific position\n",
    "fruits.insert(1, \"blueberry\")\n",
    "print(fruits)"
   ]
  },
  {
   "cell_type": "code",
   "execution_count": null,
   "metadata": {},
   "outputs": [
    {
     "name": "stdout",
     "output_type": "stream",
     "text": [
      "['apple', 'blueberry', 'cherry', 'orange']\n"
     ]
    }
   ],
   "source": [
    "# Removing an item\n",
    "fruits.remove(\"banana\")\n",
    "print(fruits)"
   ]
  },
  {
   "cell_type": "markdown",
   "metadata": {},
   "source": [
    "#### List Comprehensions\n",
    "\n",
    "List comprehensions provide a concise way to create lists. It consists of brackets containing an expression followed by a for clause."
   ]
  },
  {
   "cell_type": "code",
   "execution_count": null,
   "metadata": {},
   "outputs": [
    {
     "name": "stdout",
     "output_type": "stream",
     "text": [
      "[2, 4, 6, 8]\n"
     ]
    }
   ],
   "source": [
    "# Creating a new list where each value is doubled\n",
    "numbers = [1, 2, 3, 4]\n",
    "doubled = [num*2 for num in numbers]\n",
    "print(doubled)"
   ]
  },
  {
   "cell_type": "code",
   "execution_count": null,
   "metadata": {},
   "outputs": [
    {
     "name": "stdout",
     "output_type": "stream",
     "text": [
      "[4, 8]\n"
     ]
    }
   ],
   "source": [
    "# Creating a new list where each value is doubled with if-condition\n",
    "numbers = [1, 2, 3, 4]\n",
    "doubled = [num * 2 for num in numbers if num%2==0]\n",
    "print(doubled)"
   ]
  },
  {
   "cell_type": "code",
   "execution_count": null,
   "metadata": {},
   "outputs": [],
   "source": [
    "# Creating a new list where each value is doubled with if-else-condition\n",
    "numbers = [1, 2, 3, 4]\n",
    "doubled = [num * 2 if num%2==0 else \"x\" for num in numbers]\n",
    "print(doubled)"
   ]
  },
  {
   "cell_type": "markdown",
   "metadata": {},
   "source": [
    "### 👨‍💻 Practice tasks 4.1: Lists"
   ]
  },
  {
   "cell_type": "code",
   "execution_count": null,
   "metadata": {},
   "outputs": [
    {
     "name": "stdout",
     "output_type": "stream",
     "text": [
      "['red', 'blue', 'green', 'yellow', 'black']\n",
      "4\n",
      "red\n",
      "purple\n",
      "green\n",
      "[0, 2, 4, 6, 8]\n",
      "[1, 2, 3, 4, 5, 6, 7, 8, 9, 10]\n"
     ]
    }
   ],
   "source": [
    "# 1. Create a list called 'colors' with at least 5 different color names\n",
    "colors = [\"red\", \"blue\", \"green\", \"yellow\", \"black\"]\n",
    "# 2. Print the third color in the list\n",
    "print(colors)\n",
    "# 3. Add a new color to the end of the list\n",
    "colors.append(\"orange\")\n",
    "# 4. Change the second color in the list to a different color\n",
    "colors[1] = \"purple\"\n",
    "# 5. Remove the last color from the list\n",
    "colors.remove(colors[-1])\n",
    "colors = colors[:-1] # --> from 0 to last value (excluding right interval)\n",
    "\n",
    "# 6. Print the length of the list\n",
    "print(len(colors))\n",
    "# 7. Create a new list containing the first three colors from your 'colors' list\n",
    "new_colors = colors[:3]\n",
    "# 8. Use a for loop to print each color in the list\n",
    "for col in new_colors: \n",
    "    print(col)\n",
    "\n",
    "# 9. Create a list of numbers from 1 to 10 using a list comprehension\n",
    "list_of_numbers = [i for i in range(10)]\n",
    "\n",
    "# 10. Use a list comprehension to create a new list with only the even numbers from the previous list\n",
    "list_of_even_numbers = [i for i in list_of_numbers if i%2==0]\n",
    "print(list_of_even_numbers)\n",
    "print(list(range(1,11)))"
   ]
  },
  {
   "cell_type": "markdown",
   "metadata": {},
   "source": [
    "### **[4.2 Dictionaries](#42-dictionaries)**\n",
    "\n",
    "Dictionaries store key-value pairs and are incredibly useful for accessing and managing data. Each key-value pair in a dictionary is separated by a colon :, and pairs are separated by commas."
   ]
  },
  {
   "cell_type": "markdown",
   "metadata": {},
   "source": [
    "#### Creating and Using Dictionaries"
   ]
  },
  {
   "cell_type": "code",
   "execution_count": null,
   "metadata": {},
   "outputs": [
    {
     "name": "stdout",
     "output_type": "stream",
     "text": [
      "{'name': 'John', 'age': 30, 'city': 'Dortmund'}\n"
     ]
    }
   ],
   "source": [
    "# Creating a dictionary\n",
    "person = {\"name\": \"John\", \"age\": 30, \"city\": \"Dortmund\"}\n",
    "print(person)"
   ]
  },
  {
   "cell_type": "code",
   "execution_count": null,
   "metadata": {},
   "outputs": [
    {
     "name": "stdout",
     "output_type": "stream",
     "text": [
      "30\n"
     ]
    }
   ],
   "source": [
    "# Accessing dictionary values\n",
    "print(person[\"age\"])"
   ]
  },
  {
   "cell_type": "code",
   "execution_count": null,
   "metadata": {},
   "outputs": [
    {
     "name": "stdout",
     "output_type": "stream",
     "text": [
      "{'name': 'John', 'age': 30, 'city': 'Dortmund', 'email': 'john@example.com'}\n"
     ]
    }
   ],
   "source": [
    "# Adding or updating a value\n",
    "person[\"email\"] = \"john@example.com\"\n",
    "print(person)"
   ]
  },
  {
   "cell_type": "markdown",
   "metadata": {},
   "source": [
    "#### Dictionary Methods"
   ]
  },
  {
   "cell_type": "code",
   "execution_count": null,
   "metadata": {},
   "outputs": [
    {
     "name": "stdout",
     "output_type": "stream",
     "text": [
      "dict_keys(['name', 'age', 'city', 'email'])\n",
      "dict_values(['John', 30, 'Dortmund', 'john@example.com'])\n"
     ]
    }
   ],
   "source": [
    "# Getting keys and values\n",
    "print(person.keys())\n",
    "print(person.values())"
   ]
  },
  {
   "cell_type": "code",
   "execution_count": null,
   "metadata": {},
   "outputs": [
    {
     "name": "stdout",
     "output_type": "stream",
     "text": [
      "{'name': 'John', 'city': 'Dortmund', 'email': 'john@example.com'}\n"
     ]
    }
   ],
   "source": [
    "# Removing a key-value pair\n",
    "del person[\"age\"]\n",
    "print(person)"
   ]
  },
  {
   "cell_type": "code",
   "execution_count": null,
   "metadata": {},
   "outputs": [
    {
     "name": "stdout",
     "output_type": "stream",
     "text": [
      "Key: name\n",
      "Value: John\n",
      "Key: city\n",
      "Value: Dortmund\n",
      "Key: email\n",
      "Value: john@example.com\n"
     ]
    }
   ],
   "source": [
    "# Iterating a dict\n",
    "for key, value in person.items():\n",
    "    print(f\"Key: {key}\")\n",
    "    print(f\"Value: {value}\")"
   ]
  },
  {
   "cell_type": "markdown",
   "metadata": {},
   "source": [
    "### 👨‍💻 Practice tasks 4.2: Dictionaries"
   ]
  },
  {
   "cell_type": "code",
   "execution_count": null,
   "metadata": {},
   "outputs": [
    {
     "name": "stdout",
     "output_type": "stream",
     "text": [
      "30\n",
      "name\n",
      "grade\n",
      "favorite_subject\n",
      "dict_keys(['name', 'grade', 'favorite_subject'])\n",
      "'name' is in the dict\n",
      "key: name, val:Nick\n",
      "key: grade, val:5\n",
      "key: favorite_subject, val:python\n",
      "{'name': 4, 'grade': 0, 'favorite_subject': 6}\n"
     ]
    }
   ],
   "source": [
    "# 1. Create a dictionary called 'student' with keys for 'name', 'age', and 'grade'\n",
    "student = {\"name\": \"Nick\", \"age\": 30, \"grade\": 4.0}\n",
    "# 2. Print the student's age\n",
    "print(student[\"age\"])\n",
    "# 3. Add a new key-value pair for the student's favorite subject\n",
    "student[\"favorite_subject\"] = \"python\"\n",
    "# 4. Change the student's grade\n",
    "student[\"grade\"] = 5\n",
    "# 5. Remove the 'age' key-value pair from the dictionary\n",
    "del student[\"age\"]\n",
    "# 6. Print all the keys in the dictionary\n",
    "for key in student.keys():\n",
    "    print(key)\n",
    "# 7. Print all the values in the dictionary\n",
    "print(student.keys())\n",
    "# 8. Check if 'name' is a key in the dictionary\n",
    "if \"name\" in student.keys():\n",
    "    print(\"'name' is in the dict\")\n",
    "# 9. Use a for loop to print each key-value pair in the dictionary\n",
    "for key, val in student.items():\n",
    "    print(f\"key: {key}, val:{val}\")\n",
    "# 10. Create a new dictionary with the lengths of each value in the 'student' dictionary\n",
    "new_dict = {}\n",
    "for key, val in student.items():\n",
    "    try: \n",
    "        new_dict[key] = len(val)\n",
    "    except TypeError: \n",
    "        new_dict[key] = 0\n",
    "print(new_dict)"
   ]
  },
  {
   "cell_type": "markdown",
   "metadata": {},
   "source": [
    "### **[4.3 Tuples and Sets](#43-tuples-and-sets)**\n",
    "\n",
    "Tuples are similar to lists, but they are *immutable*. \n",
    "\n",
    "You cannot change, add, or remove items after the tuple has been created. Tuples are defined by parentheses ()."
   ]
  },
  {
   "cell_type": "code",
   "execution_count": null,
   "metadata": {},
   "outputs": [],
   "source": [
    "# Creating a tuple\n",
    "dimensions = (200, 50)\n",
    "print(dimensions[1])"
   ]
  },
  {
   "cell_type": "code",
   "execution_count": null,
   "metadata": {},
   "outputs": [],
   "source": [
    "# Trying to change a value throws an error\n",
    "dimensions[0] = 250"
   ]
  },
  {
   "cell_type": "markdown",
   "metadata": {},
   "source": [
    "#### Sets\n",
    "\n",
    "Sets are collections of unique items. \n",
    "\n",
    "They are unordered, meaning they do not maintain any order of the items. Sets are defined by curly braces `{}`."
   ]
  },
  {
   "cell_type": "code",
   "execution_count": null,
   "metadata": {},
   "outputs": [],
   "source": [
    "# Creating a set\n",
    "fruits_set = {\"apple\", \"banana\", \"cherry\"}\n",
    "print(fruits_set)"
   ]
  },
  {
   "cell_type": "code",
   "execution_count": null,
   "metadata": {},
   "outputs": [],
   "source": [
    "# Adding an item to a set\n",
    "fruits_set.add(\"orange\")"
   ]
  },
  {
   "cell_type": "code",
   "execution_count": null,
   "metadata": {},
   "outputs": [],
   "source": [
    "# Removing an item from a set\n",
    "fruits_set.discard(\"banana\")\n",
    "print(fruits_set)"
   ]
  },
  {
   "cell_type": "markdown",
   "metadata": {},
   "source": [
    "### 👨‍💻 Practice tasks 4.3: Tuples and Sets"
   ]
  },
  {
   "cell_type": "code",
   "execution_count": null,
   "metadata": {},
   "outputs": [],
   "source": [
    "# 1. Create a tuple called 'coordinates' with x, y, and z values\n",
    "# 2. Print the second value in the tuple\n",
    "# 3. Try to change a value in the tuple (this should raise an error)\n",
    "# 4. Create a set called 'unique_numbers' with at least 5 different numbers\n",
    "# 5. Add a new number to the set\n",
    "# 6. Try to add a number that's already in the set (note that this won't raise an error, but won't change the set)\n",
    "# 7. Remove a number from the set\n",
    "# 8. Check if a specific number is in the set\n",
    "# 9. Create a new set with some numbers that overlap with 'unique_numbers'\n",
    "# 10. Find the intersection of the two sets (numbers that appear in both)"
   ]
  },
  {
   "cell_type": "markdown",
   "metadata": {},
   "source": [
    "This chapter has introduced you to Python's core data structures, essential for storing, accessing, and manipulating data in your programs."
   ]
  },
  {
   "cell_type": "markdown",
   "metadata": {},
   "source": [
    "### **[4.4 Coding Challenge](#43-tuples-and-sets)**\n",
    "\n",
    "#### Stress and Strain Calculator (Part 3) \n",
    "\n",
    "**Objective:** Enhance the stress and strain calculator to utilize Python's built-in data structures for improved data management and user experience. \n",
    "\n",
    "This version aims to introduce structured data storage and handling techniques while maintaining robust error handling and user interaction.\n",
    "\n",
    "**Features:**\n",
    "\n",
    "* **Data Storage:** Utilize Python lists, dictionaries, and sets for organizing calculation results, material identifiers, and unique calculations.\n",
    "* **Immutable Data Handling:** Apply tuples for storing unchangeable data such as measurement units.\n",
    "* **Session History:** Keep a detailed record of each calculation performed during the session.\n",
    "* **Unique Material Tracking:** Identify and track unique materials tested using a set.\n",
    "\n",
    "**Implementation Steps:**\n",
    "\n",
    "* Step 1: User Input and Program Flow:\n",
    "    * Continuously prompt the user to input material identifiers, forces, cross-sectional areas, original lengths, and changes in lengths.\n",
    "    * Offer an option to exit the program after each calculation, enhancing session control.\n",
    "\n",
    "* Step 2: Using Data Structures:\n",
    "    * **Lists:** Create a list named `calculations_history` to store the history of calculations. Each entry in the list will be a dictionary containing the details of one calculation.\n",
    "    * **Dictionaries:** Use dictionaries to store the details of each calculation, including material identifiers, inputs, and results.\n",
    "    * **Sets:** Utilize a set named `unique_materials` to track the unique materials tested during the session.\n",
    "    * **Tuples:** Define a tuple named `units` to store the units of measurement (immutable data).\n",
    "\n",
    "* Step 3: Calculations:    \n",
    "    * Perform stress and strain calculations using the previously used formulas. Store the results in the respective dictionary for each calculation.\n",
    "\n",
    "* Step 4: Error Handling:\n",
    "    * Implement try-except blocks to handle invalid inputs gracefully, ensuring the program's robustness.\n",
    "\n",
    "* Step 5: Outputs:\n",
    "    * After each calculation, display the results to the user, including stress and strain, formatted for readability.\n",
    "    * Upon exiting, provide a summary of the session, listing all calculations performed and highlighting unique materials tested.\n",
    "\n",
    "* Step 6: Session Summary:\n",
    "    * At the end of the session, loop through the calculations_history list and print each calculation's details.\n",
    "    * Display the set of unique materials to showcase the diversity of materials analyzed.\n",
    "\n",
    "\n",
    "Enhance the existing stress and strain calculator by incorporating the above features. Aim to make your code clean, readable, and well-commented. Focus on the practical application of lists, dictionaries, tuples, and sets to manage data effectively."
   ]
  },
  {
   "cell_type": "code",
   "execution_count": null,
   "metadata": {},
   "outputs": [],
   "source": [
    "# Initialize an empty list to store history of calculations\n",
    "calculations_history = []\n",
    "\n",
    "# Set for unique materials (assuming each material has a unique identifier)\n",
    "unique_materials = set()\n",
    "\n",
    "# Tuple for units (immutable data)\n",
    "units = (\"Newtons\", \"Square Meters\", \"Pascals\", \"Dimensionless\")\n",
    "\n",
    "# Welcome message\n",
    "print(\"Welcome to the Enhanced Stress and Strain Calculator\")\n",
    "\n",
    "while True:\n",
    "    try:\n",
    "        material_id = input(\"Enter material identifier (or type 'exit' to finish): \")\n",
    "        if material_id.lower() == 'exit':\n",
    "            break\n",
    "\n",
    "        # Add material to set of unique materials\n",
    "        unique_materials.add(material_id)\n",
    "\n",
    "        force = float(input(\"Enter the applied force (in newtons): \"))\n",
    "        area = float(input(\"Enter the cross-sectional area (in square meters): \"))\n",
    "        original_length = float(input(\"Enter the original length of the material (in meters): \"))\n",
    "        change_in_length = float(input(\"Enter the change in length of the material (in meters): \"))\n",
    "\n",
    "        # Perform calculations\n",
    "        stress = force / area\n",
    "        strain = change_in_length / original_length\n",
    "\n",
    "        # Store results in a dictionary\n",
    "        result = {\n",
    "            \"Material ID\": material_id,\n",
    "            \"Force (N)\": force,\n",
    "            \"Area (m^2)\": area,\n",
    "            \"Stress (Pa)\": stress,\n",
    "            \"Original Length (m)\": original_length,\n",
    "            \"Change in Length (m)\": change_in_length,\n",
    "            \"Strain\": strain\n",
    "        }\n",
    "\n",
    "        # Add the result dictionary to the history list\n",
    "        calculations_history.append(result)\n",
    "\n",
    "        # Display current calculation\n",
    "        print(f\"\\nMaterial ID: {material_id}\")\n",
    "        print(f\"Calculated Stress: {stress} {units[2]}\")\n",
    "        print(f\"Calculated Strain: {strain} {units[3]}\\n\")\n",
    "\n",
    "    except ValueError:\n",
    "        print(\"Invalid input. Please enter a valid number.\")\n",
    "\n",
    "# Displaying the session history and unique materials\n",
    "print(\"\\nSession Summary:\")\n",
    "for calculation in calculations_history:\n",
    "    print(calculation)\n",
    "\n",
    "print(\"\\nUnique Materials Tested:\")\n",
    "print(unique_materials)\n",
    "\n",
    "print(\"\\nThank you for using the calculator. Goodbye!\")"
   ]
  },
  {
   "cell_type": "markdown",
   "metadata": {},
   "source": [
    "[--> Back to Outline](#course-outline)\n",
    "\n",
    "---"
   ]
  }
 ],
 "metadata": {
  "language_info": {
   "name": "python"
  }
 },
 "nbformat": 4,
 "nbformat_minor": 2
}
