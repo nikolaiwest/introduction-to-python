{
 "cells": [
  {
   "cell_type": "markdown",
   "metadata": {},
   "source": [
    "# **Chapter 4:** Data Structures\n",
    "\n",
    "## Introduction\n",
    "\n",
    "In this chapter, we'll explore Python's fundamental data structures: `lists`, `dictionaries`, `tuples`, and `sets`. These powerful tools allow you to organize, store, and manipulate data efficiently in your programs. Understanding these data structures is crucial for writing more complex and efficient Python code.\n",
    "\n",
    "Each data structure has its own characteristics and use cases:\n",
    "\n",
    "* **Lists** are ordered, mutable collections that can store various data types.\n",
    "\n",
    "* **Dictionaries** store key-value pairs, providing fast lookup and flexible data association.\n",
    "\n",
    "* **Tuples** are immutable sequences, useful for storing fixed collections of items.\n",
    "\n",
    "* **Sets** are unordered collections of unique elements, ideal for eliminating duplicates and performing set operations.\n",
    "\n",
    "By mastering these data structures, you'll be able to choose the right tool for each programming task, leading to more elegant and efficient solutions.\n",
    "\n",
    "## Chapter outline\n",
    "\n",
    "**4.1 Lists**\n",
    "\n",
    "* Creating and accessing lists\n",
    "* List methods (append, insert, remove)\n",
    "* List slicing\n",
    "* List comprehensions\n",
    "\n",
    "**4.2 Dictionaries**\n",
    "\n",
    "* Creating and using dictionaries\n",
    "* Dictionary methods (keys, values, items)\n",
    "* Nested dictionaries\n",
    "* Dictionary comprehensions\n",
    "\n",
    "**4.3 Tuples**\n",
    "\n",
    "* Creating and using tuples\n",
    "* Tuple packing and unpacking\n",
    "* Immutability of tuples and its implications\n",
    "* Use cases for tuples\n",
    "* Creating and modifying sets\n",
    "* Set methods and operations (union, intersection, difference)\n",
    "* Removing duplicates with sets\n",
    "* Set comprehensions\n",
    "\n",
    "**4.4 Coding Challenge: Enhanced Stress and Strain Calculator**\n",
    "\n",
    "* Applying all four data structures to improve the previous calculator\n",
    "* Implementing session history using lists and dictionaries\n",
    "* Tracking unique materials with sets\n",
    "* Using tuples for immutable data\n",
    "\n",
    "Each section will include explanations, examples, and hands-on practice tasks to reinforce your learning. Remember, the best way to learn these concepts is by actively coding and experimenting with different data structures.\n",
    "\n",
    "Let's dive into the world of Python data structures and discover how they can enhance your programming capabilities!"
   ]
  },
  {
   "cell_type": "markdown",
   "metadata": {},
   "source": [
    "---\n",
    "---"
   ]
  },
  {
   "cell_type": "markdown",
   "metadata": {},
   "source": [
    "## **Chapter 4.1:** Lists\n",
    "\n",
    "Lists are one of the most versatile and commonly used data structures in Python. They allow you to store multiple items in a single variable, making it easy to work with collections of related data.\n",
    "\n",
    "They are *mutable*, meaning you can modify them after their creation. \n",
    "\n",
    "Lists are defined by square brackets `[]` and can contain items of different types.\n",
    "\n",
    "```python \n",
    "my_list = [\"This\", \"is\", \"a\", \"list\"]\n",
    "```\n"
   ]
  },
  {
   "cell_type": "markdown",
   "metadata": {},
   "source": [
    "### Creating and Accessing Lists \n",
    "\n",
    "As you can see, `lists` in Python are defined by square brackets `[]` and can contain items of different types.\n",
    "\n",
    "In the last chapter, we briefly touched on lists when we spoke about loops: "
   ]
  },
  {
   "cell_type": "code",
   "execution_count": 80,
   "metadata": {},
   "outputs": [
    {
     "name": "stdout",
     "output_type": "stream",
     "text": [
      "['apple', 'banana', 'cherry']\n"
     ]
    }
   ],
   "source": [
    "# Creating a list\n",
    "fruits = [\"apple\", \"banana\", \"cherry\"]\n",
    "print(fruits)  # Output: ['apple', 'banana', 'cherry']"
   ]
  },
  {
   "cell_type": "markdown",
   "metadata": {},
   "source": [
    "A list stores values for us. To retriev specific parts of the lists, indexing can be used. "
   ]
  },
  {
   "cell_type": "code",
   "execution_count": 81,
   "metadata": {},
   "outputs": [
    {
     "name": "stdout",
     "output_type": "stream",
     "text": [
      "apple\n",
      "cherry\n"
     ]
    }
   ],
   "source": [
    "# Accessing list items (indexing starts at 0)\n",
    "print(fruits[0])  # Output: 'apple'\n",
    "print(fruits[-1])  # Output: 'cherry' (negative indexing starts from the end)\n"
   ]
  },
  {
   "cell_type": "markdown",
   "metadata": {},
   "source": [
    "When accessing list items, remember that Python uses *zero-based* indexing. This means the first item is at index `0`, the second at index `1`, and so on. Negative indexing allows you to access items from the end of the list, with `-1` referring to the last item.\n",
    "\n",
    "Lists in Python are incredibly flexible. You can create them with any type of data, and you're not limited to just one type per list. The square brackets `[]` are used to define a list, and commas separate each item."
   ]
  },
  {
   "cell_type": "code",
   "execution_count": 82,
   "metadata": {},
   "outputs": [
    {
     "name": "stdout",
     "output_type": "stream",
     "text": [
      "[1, 'hello', 3.14, True]\n"
     ]
    }
   ],
   "source": [
    "# Lists can contain different data types\n",
    "mixed_list = [1, \"hello\", 3.14, True]\n",
    "print(mixed_list)  # Output: [1, 'hello', 3.14, True]"
   ]
  },
  {
   "cell_type": "markdown",
   "metadata": {},
   "source": [
    "This flexibility makes lists ideal for storing collections of related data, regardless of whether that data is all of the same type or a mix of different types."
   ]
  },
  {
   "cell_type": "markdown",
   "metadata": {},
   "source": [
    "### Modifying Lists \n",
    "\n",
    "Lists are *mutable*, meaning you can change, add, or remove items after the list is created.\n",
    "\n",
    "The mutability of lists is one of their key features. You can modify existing items, add new ones, or remove items as needed. This makes lists particularly useful for data that changes over time or needs frequent updates.\n",
    "\n",
    "We will use a simple example list with fruits for these modifications. "
   ]
  },
  {
   "cell_type": "code",
   "execution_count": 83,
   "metadata": {},
   "outputs": [],
   "source": [
    "# An example list with fruits\n",
    "fruits = [\"apple\", \"banana\", \"cherry\"]"
   ]
  },
  {
   "cell_type": "markdown",
   "metadata": {},
   "source": [
    "To change an item, you can simply assign a new value to a specific index."
   ]
  },
  {
   "cell_type": "code",
   "execution_count": 84,
   "metadata": {},
   "outputs": [
    {
     "name": "stdout",
     "output_type": "stream",
     "text": [
      "['apple', 'blueberry', 'cherry']\n"
     ]
    }
   ],
   "source": [
    "# Changing an item\n",
    "fruits[1] = \"blueberry\"\n",
    "print(fruits)"
   ]
  },
  {
   "cell_type": "markdown",
   "metadata": {},
   "source": [
    "The `append()` method adds an item to the end of the list, which is useful when you're building a list incrementally."
   ]
  },
  {
   "cell_type": "code",
   "execution_count": 85,
   "metadata": {},
   "outputs": [
    {
     "name": "stdout",
     "output_type": "stream",
     "text": [
      "['apple', 'blueberry', 'cherry', 'orange']\n"
     ]
    }
   ],
   "source": [
    "# Adding items\n",
    "fruits.append(\"orange\")  # Adds to the end of the list\n",
    "print(fruits) "
   ]
  },
  {
   "cell_type": "markdown",
   "metadata": {},
   "source": [
    "The `extend()` method adds all items from a list (or an iterable in general) to the end of the list."
   ]
  },
  {
   "cell_type": "code",
   "execution_count": 86,
   "metadata": {},
   "outputs": [
    {
     "name": "stdout",
     "output_type": "stream",
     "text": [
      "['apple', 'blueberry', 'cherry', 'orange', 'mango', 'pineapple']\n"
     ]
    }
   ],
   "source": [
    "# Adding multiple items\n",
    "more_fruits = [\"mango\", \"pineapple\"]\n",
    "fruits.extend(more_fruits) \n",
    "print(fruits) "
   ]
  },
  {
   "cell_type": "markdown",
   "metadata": {},
   "source": [
    "`insert()` allows you to add an item at a specific position, shifting all subsequent items."
   ]
  },
  {
   "cell_type": "code",
   "execution_count": 87,
   "metadata": {},
   "outputs": [
    {
     "name": "stdout",
     "output_type": "stream",
     "text": [
      "['apple', 'mango', 'blueberry', 'cherry', 'orange', 'mango', 'pineapple']\n"
     ]
    }
   ],
   "source": [
    "# Inserting items\n",
    "fruits.insert(1, \"mango\")  # Inserts at a specific position\n",
    "print(fruits)  # Output: ['apple', 'mango', 'blueberry', 'cherry', 'orange']"
   ]
  },
  {
   "cell_type": "markdown",
   "metadata": {},
   "source": [
    "`remove()` takes out the first occurrence of a specified item, which is helpful when you know the value but not its position."
   ]
  },
  {
   "cell_type": "code",
   "execution_count": 88,
   "metadata": {},
   "outputs": [
    {
     "name": "stdout",
     "output_type": "stream",
     "text": [
      "['apple', 'mango', 'blueberry', 'orange', 'mango', 'pineapple']\n"
     ]
    }
   ],
   "source": [
    "# Removing items\n",
    "fruits.remove(\"cherry\")  # Removes the first occurrence of the item\n",
    "print(fruits)  # Output: ['apple', 'mango', 'blueberry', 'orange']"
   ]
  },
  {
   "cell_type": "markdown",
   "metadata": {},
   "source": [
    "`pop()` is dual-purpose: it removes the last item (or a specified index) and returns it, allowing you to use the removed item if needed."
   ]
  },
  {
   "cell_type": "code",
   "execution_count": 89,
   "metadata": {},
   "outputs": [
    {
     "name": "stdout",
     "output_type": "stream",
     "text": [
      "pineapple\n",
      "['apple', 'mango', 'blueberry', 'orange', 'mango']\n"
     ]
    }
   ],
   "source": [
    "popped_fruit = fruits.pop()  # Removes and returns the last item\n",
    "print(popped_fruit)  # Output: 'orange'\n",
    "print(fruits)  # Output: ['apple', 'mango', 'blueberry']"
   ]
  },
  {
   "cell_type": "markdown",
   "metadata": {},
   "source": [
    "These operations give you fine-grained control over the contents of your lists, making them adaptable to a wide range of programming scenarios."
   ]
  },
  {
   "cell_type": "markdown",
   "metadata": {},
   "source": [
    "### Common List Methods\n",
    "Python provides several useful methods for working with lists that can make your code more efficient and readable. \n",
    "\n",
    "Let's explore some of these methods using a list of books as our example."
   ]
  },
  {
   "cell_type": "code",
   "execution_count": 90,
   "metadata": {},
   "outputs": [],
   "source": [
    "# Another example list\n",
    "books = [\n",
    "    \"1984\", \n",
    "    \"To Kill a Mockingbird\", \n",
    "    \"Pride and Prejudice\", \n",
    "    \"The Great Gatsby\", \n",
    "    \"Brave New World\"\n",
    "    ]"
   ]
  },
  {
   "cell_type": "markdown",
   "metadata": {},
   "source": [
    "The `index()` method returns the index of the first occurrence of a specified item in the list."
   ]
  },
  {
   "cell_type": "code",
   "execution_count": 91,
   "metadata": {},
   "outputs": [
    {
     "data": {
      "text/plain": [
       "2"
      ]
     },
     "execution_count": 91,
     "metadata": {},
     "output_type": "execute_result"
    }
   ],
   "source": [
    "# Get the index of a specific item\n",
    "books.index(\"Pride and Prejudice\")"
   ]
  },
  {
   "cell_type": "markdown",
   "metadata": {
    "vscode": {
     "languageId": "bat"
    }
   },
   "source": [
    "The `count()` Returns the number of times a specified item appears in the list."
   ]
  },
  {
   "cell_type": "code",
   "execution_count": 92,
   "metadata": {},
   "outputs": [
    {
     "data": {
      "text/plain": [
       "2"
      ]
     },
     "execution_count": 92,
     "metadata": {},
     "output_type": "execute_result"
    }
   ],
   "source": [
    "books.append(\"1984\")  # Adding a duplicate \n",
    "# Executing this cell multiple times will add more books\n",
    "\n",
    "books.count(\"1984\")"
   ]
  },
  {
   "cell_type": "markdown",
   "metadata": {},
   "source": [
    "We can use `sort()` to sort the list in ascending order (or descending if `reverse=True` is specified)."
   ]
  },
  {
   "cell_type": "code",
   "execution_count": 93,
   "metadata": {},
   "outputs": [
    {
     "name": "stdout",
     "output_type": "stream",
     "text": [
      "['1984', '1984', 'Brave New World', 'Pride and Prejudice', 'The Great Gatsby', 'To Kill a Mockingbird']\n",
      "['To Kill a Mockingbird', 'The Great Gatsby', 'Pride and Prejudice', 'Brave New World', '1984', '1984']\n"
     ]
    }
   ],
   "source": [
    "books.sort()\n",
    "print(books)\n",
    "books.sort(reverse=True)\n",
    "print(books)"
   ]
  },
  {
   "cell_type": "markdown",
   "metadata": {},
   "source": [
    "Use `reverse()` when you need to flip the order of your list. It modifies the list in-place."
   ]
  },
  {
   "cell_type": "code",
   "execution_count": 94,
   "metadata": {},
   "outputs": [],
   "source": [
    "books.reverse()"
   ]
  },
  {
   "cell_type": "markdown",
   "metadata": {},
   "source": [
    "Please note, while both `sort()` and `reverse()` modify the list in-place, they serve different purposes:\n",
    "\n",
    "* `sort()` rearranges the items based on their values. By default, it sorts in ascending order (alphabetical for strings, numerical for numbers). You can use `sort(reverse=True)` for descending order.\n",
    "\n",
    "* `reverse()` simply flips the current order of the list, regardless of the values. It doesn't consider the content of the items, just their positions."
   ]
  },
  {
   "cell_type": "markdown",
   "metadata": {},
   "source": [
    "Lastly, we can use `len()` when we need to know how many items are in a list. \n",
    "\n",
    "Unlike the other methods, `len()` is a built-in function in Python, not a list method. This means you use it by passing the list as an argument, rather than calling it on the list itself (meaning, we use `len(list)`and NOT `list.len()`)."
   ]
  },
  {
   "cell_type": "code",
   "execution_count": 95,
   "metadata": {},
   "outputs": [
    {
     "data": {
      "text/plain": [
       "6"
      ]
     },
     "execution_count": 95,
     "metadata": {},
     "output_type": "execute_result"
    }
   ],
   "source": [
    "len(books)"
   ]
  },
  {
   "cell_type": "markdown",
   "metadata": {},
   "source": [
    "### List Slicing \n",
    "\n",
    "List slicing allows you to extract a portion of a list. The basic syntax is\n",
    "\n",
    "```python \n",
    "list[start:end:step] \n",
    "```\n",
    "\n",
    "where:\n",
    "* `start` is the index where the slice begins *(inclusive)*\n",
    "* `end` is the index where the slice ends *(exclusive)* \n",
    "* `step` is the increment between each item in the slice\n",
    "\n",
    "We will now explore these concepts using a list of months as our example."
   ]
  },
  {
   "cell_type": "code",
   "execution_count": 96,
   "metadata": {},
   "outputs": [],
   "source": [
    "months = [\"January\", \"February\", \"March\", \"April\", \"May\", \"June\", \n",
    "          \"July\", \"August\", \"September\", \"October\", \"November\", \"December\"]"
   ]
  },
  {
   "cell_type": "markdown",
   "metadata": {},
   "source": [
    "**Basic slicing:** This slice starts at index `2` (third item) and goes up to, but not including, index `5`. The step is omitted, so it defaults to `1`:"
   ]
  },
  {
   "cell_type": "code",
   "execution_count": 97,
   "metadata": {},
   "outputs": [
    {
     "name": "stdout",
     "output_type": "stream",
     "text": [
      "['March', 'April', 'May']\n"
     ]
    }
   ],
   "source": [
    "# Basic slicing\n",
    "spring_months = months[2:5]\n",
    "print(spring_months)"
   ]
  },
  {
   "cell_type": "markdown",
   "metadata": {},
   "source": [
    "**Slicing with different step sizes:** When start and end are omitted, the slice includes the entire list. The step of `2` means it takes every second item."
   ]
  },
  {
   "cell_type": "code",
   "execution_count": 98,
   "metadata": {},
   "outputs": [
    {
     "name": "stdout",
     "output_type": "stream",
     "text": [
      "['January', 'March', 'May', 'July', 'September', 'November']\n"
     ]
    }
   ],
   "source": [
    "# Slicing with different steps \n",
    "every_other_month = months[::2]\n",
    "print(every_other_month)"
   ]
  },
  {
   "cell_type": "markdown",
   "metadata": {},
   "source": [
    "**Negative indices in slicing:** Negative indices count from the end of the list. `-3` refers to the third-to-last item. Omitting the `end` index means it goes to the end of the list."
   ]
  },
  {
   "cell_type": "code",
   "execution_count": 99,
   "metadata": {},
   "outputs": [
    {
     "name": "stdout",
     "output_type": "stream",
     "text": [
      "['October', 'November', 'December']\n"
     ]
    }
   ],
   "source": [
    "# Negative indices in slicing\n",
    "last_quarter = months[-3:]\n",
    "print(last_quarter)  # Output: ['October', 'November', 'December']"
   ]
  },
  {
   "cell_type": "markdown",
   "metadata": {},
   "source": [
    "**Reversing a list with slicing:** A step of -1 reverses the direction of the slice, effectively reversing the list."
   ]
  },
  {
   "cell_type": "code",
   "execution_count": 100,
   "metadata": {},
   "outputs": [
    {
     "name": "stdout",
     "output_type": "stream",
     "text": [
      "['December', 'November', 'October', 'September', 'August', 'July', 'June', 'May', 'April', 'March', 'February', 'January']\n"
     ]
    }
   ],
   "source": [
    "reversed_months = months[::-1]\n",
    "print(reversed_months)  # Output: ['December', 'November', ..., 'February', 'January']"
   ]
  },
  {
   "cell_type": "markdown",
   "metadata": {},
   "source": [
    "As always, feel free to modify these examples again to explore Python's way of slicing."
   ]
  },
  {
   "cell_type": "markdown",
   "metadata": {},
   "source": [
    "### The range() function\n",
    "\n",
    "Before we continue with list comprehensions, let's take a look at the `range()` function. `range()` generates a sequence of numbers, which is often used in for loops and list creation:\n",
    "* `range(stop)` generates numbers from `0` to `stop-1`.\n",
    "* `range(start, stop)` generates numbers from `start` to `stop-1`.\n",
    "* `range(start, stop, step)` generates numbers from `start` to `stop-1`, incrementing by step."
   ]
  },
  {
   "cell_type": "code",
   "execution_count": 101,
   "metadata": {},
   "outputs": [
    {
     "data": {
      "text/plain": [
       "[0, 1, 2, 3, 4, 5, 6, 7, 8, 9]"
      ]
     },
     "execution_count": 101,
     "metadata": {},
     "output_type": "execute_result"
    }
   ],
   "source": [
    "numbers = list(range(10))\n",
    "numbers"
   ]
  },
  {
   "cell_type": "code",
   "execution_count": 102,
   "metadata": {},
   "outputs": [
    {
     "data": {
      "text/plain": [
       "[0, 2, 4, 6, 8, 10]"
      ]
     },
     "execution_count": 102,
     "metadata": {},
     "output_type": "execute_result"
    }
   ],
   "source": [
    "even_numbers = list(range(0, 11, 2))\n",
    "even_numbers"
   ]
  },
  {
   "cell_type": "markdown",
   "metadata": {},
   "source": [
    "### List Comprehensions\n",
    "\n",
    "List comprehensions provide a concise way to create lists based on existing lists or other iterable objects. They combine a for loop and a new list creation into a single line of code.\n",
    "\n",
    "The basic syntax is: \n",
    "```python \n",
    "new_list = [expression for item in iterable if condition]\n",
    "```\n",
    "\n",
    "**Basic list comprehension:** This creates a list of doubles for numbers `0` to `9`. The for loop iterates over the range, and x**2 is the expression applied to each item."
   ]
  },
  {
   "cell_type": "code",
   "execution_count": 103,
   "metadata": {},
   "outputs": [
    {
     "data": {
      "text/plain": [
       "[0, 1, 4, 9, 16, 25, 36, 49, 64, 81]"
      ]
     },
     "execution_count": 103,
     "metadata": {},
     "output_type": "execute_result"
    }
   ],
   "source": [
    "# Creating a new list where each value is squared\n",
    "squares = [x**2 for x in range(10)]\n",
    "squares"
   ]
  },
  {
   "cell_type": "markdown",
   "metadata": {},
   "source": [
    "**List comprehensions with a condition:** We can include condition in the list comprehensions. The following example creates a list of squares (again), but only for even numbers. The `if` condition filters the items included in the new list."
   ]
  },
  {
   "cell_type": "code",
   "execution_count": 104,
   "metadata": {},
   "outputs": [
    {
     "data": {
      "text/plain": [
       "[0, 4, 16, 36, 64]"
      ]
     },
     "execution_count": 104,
     "metadata": {},
     "output_type": "execute_result"
    }
   ],
   "source": [
    "# Creating a new list where each value is squared with if-condition\n",
    "even_squares = [x**2 for x in range(10) if x % 2 == 0]\n",
    "even_squares"
   ]
  },
  {
   "cell_type": "markdown",
   "metadata": {},
   "source": [
    "Like we have seen in the chapter on control structures, `if` can come with an `else` as well. This is also an option for list comprehensions. Note the different position of the condition. "
   ]
  },
  {
   "cell_type": "code",
   "execution_count": 105,
   "metadata": {},
   "outputs": [
    {
     "data": {
      "text/plain": [
       "[0, 42, 4, 42, 16, 42, 36, 42, 64, 42]"
      ]
     },
     "execution_count": 105,
     "metadata": {},
     "output_type": "execute_result"
    }
   ],
   "source": [
    "# Creating a new list where each value is squared with if-condition\n",
    "even_squares = [x**2 if x % 2 == 0 else 42 for x in range(10)]\n",
    "even_squares"
   ]
  },
  {
   "cell_type": "markdown",
   "metadata": {},
   "source": [
    "**Nested list comprehension:** List comprehensions can also be nested. The following example creates a 3x3 matrix. The outer loop creates each row, and the inner loop creates the elements within each row."
   ]
  },
  {
   "cell_type": "code",
   "execution_count": 106,
   "metadata": {},
   "outputs": [
    {
     "data": {
      "text/plain": [
       "[[0, 1, 2], [1, 2, 3], [2, 3, 4]]"
      ]
     },
     "execution_count": 106,
     "metadata": {},
     "output_type": "execute_result"
    }
   ],
   "source": [
    "# Creating a 3x3 matrix with nested list comprehensions \n",
    "matrix = [[i+j for j in range(3)] for i in range(3)]\n",
    "matrix"
   ]
  },
  {
   "cell_type": "markdown",
   "metadata": {},
   "source": [
    "### Combining `range()`, Slicing, and Comprehensions\n",
    "\n",
    "Even if simple on their own, the concepts can be powerfully combined:"
   ]
  },
  {
   "cell_type": "code",
   "execution_count": 107,
   "metadata": {},
   "outputs": [
    {
     "name": "stdout",
     "output_type": "stream",
     "text": [
      "[16, 18, 20]\n"
     ]
    }
   ],
   "source": [
    "# Create a list of even numbers from 0 to 20, then slice to get the last 3\n",
    "even_numbers = [x for x in range(0, 21, 2)]\n",
    "last_three_evens = even_numbers[-3:]\n",
    "print(last_three_evens)  # Output: [16, 18, 20]"
   ]
  },
  {
   "cell_type": "code",
   "execution_count": 108,
   "metadata": {},
   "outputs": [
    {
     "name": "stdout",
     "output_type": "stream",
     "text": [
      "[1, 9, 25, 49, 81]\n"
     ]
    }
   ],
   "source": [
    "# Create a list of the squares of odd numbers from 1 to 10\n",
    "odd_squares = [x**2 for x in range(1, 11, 2)]\n",
    "print(odd_squares)  # Output: [1, 9, 25, 49, 81]"
   ]
  },
  {
   "cell_type": "markdown",
   "metadata": {},
   "source": [
    "To summarize, list slicing, comprehensions, and range() are powerful tools that can make your code more readable and efficient, especially when working with numerical data or when you need to generate sequences of numbers quickly."
   ]
  },
  {
   "cell_type": "markdown",
   "metadata": {},
   "source": [
    "---"
   ]
  },
  {
   "cell_type": "markdown",
   "metadata": {},
   "source": [
    "## 👨‍💻 **Practice Tasks 4.1:** Using Lists\n",
    "\n",
    "Complete the following tasks to practice working with lists in Python. Use a Jupyter Notebook or your preferred Python environment to write and test your code.\n",
    "\n",
    "**Basic List Operations:**\n",
    "\n",
    "1. Create a list called `numbers` containing the integers from `3` to `9`.\n",
    "\n",
    "2. Print the third element of the numbers list.\n",
    "\n",
    "3. Change the last element of the numbers list to `20`.\n",
    "\n",
    "4. Add the number `11` to the end of the numbers list.\n",
    "\n",
    "5. Remove the number `5` from the numbers list.\n",
    "\n",
    "**List Slicing:**\n",
    "\n",
    "6. Create a new list containing the first five elements of the `numbers` list.\n",
    "\n",
    "7. Create a new list containing every other element from the `numbers` list.\n",
    "\n",
    "8. Create a new list with the elements of `numbers` in reverse order.\n",
    "\n",
    "**List Methods:**\n",
    "\n",
    "9. Sort the `numbers` list in descending order.\n",
    "\n",
    "10. Find and print the index of the number `7` in the numbers list.\n",
    "\n",
    "11. Count how many times the number `3` appears in the numbers list.\n",
    "\n",
    "**List Comprehensions:**\n",
    "\n",
    "12. Use a list comprehension to create a new list containing the squares of the numbers in the numbers list.\n",
    "\n",
    "13. Use a list comprehension to create a new list containing only the even numbers from the numbers list."
   ]
  },
  {
   "cell_type": "markdown",
   "metadata": {},
   "source": [
    "*Basic list operations:*"
   ]
  },
  {
   "cell_type": "code",
   "execution_count": 109,
   "metadata": {},
   "outputs": [],
   "source": [
    "# 1. Create a list called `numbers` containing the integers from 1 to 10.\n"
   ]
  },
  {
   "cell_type": "code",
   "execution_count": 110,
   "metadata": {},
   "outputs": [],
   "source": [
    "# 2. Print the third element of the `numbers` list.\n"
   ]
  },
  {
   "cell_type": "code",
   "execution_count": 111,
   "metadata": {},
   "outputs": [],
   "source": [
    "# 3. Change the last element of the `numbers` list to 20.\n"
   ]
  },
  {
   "cell_type": "code",
   "execution_count": 112,
   "metadata": {},
   "outputs": [],
   "source": [
    "# 4. Add the number 11 to the end of the `numbers` list.\n"
   ]
  },
  {
   "cell_type": "code",
   "execution_count": 113,
   "metadata": {},
   "outputs": [],
   "source": [
    "# 5. Remove the number 5 from the `numbers` list.\n"
   ]
  },
  {
   "cell_type": "markdown",
   "metadata": {},
   "source": [
    "*List slicing:*"
   ]
  },
  {
   "cell_type": "code",
   "execution_count": 114,
   "metadata": {},
   "outputs": [],
   "source": [
    "# 6. Create a new list containing the first five elements of the `numbers` list.\n"
   ]
  },
  {
   "cell_type": "code",
   "execution_count": 115,
   "metadata": {},
   "outputs": [],
   "source": [
    "# 7. Create a new list containing every other element from the `numbers` list.\n"
   ]
  },
  {
   "cell_type": "code",
   "execution_count": 116,
   "metadata": {},
   "outputs": [],
   "source": [
    "# 8. Create a new list with the elements of `numbers` in reverse order.\n"
   ]
  },
  {
   "cell_type": "markdown",
   "metadata": {},
   "source": [
    "*List methods:*"
   ]
  },
  {
   "cell_type": "code",
   "execution_count": 117,
   "metadata": {},
   "outputs": [],
   "source": [
    "# 9. Sort the `numbers` list in descending order.\n"
   ]
  },
  {
   "cell_type": "code",
   "execution_count": 118,
   "metadata": {},
   "outputs": [],
   "source": [
    "# 10. Find and print the index of the number 7 in the `numbers` list.\n"
   ]
  },
  {
   "cell_type": "code",
   "execution_count": 119,
   "metadata": {},
   "outputs": [],
   "source": [
    "# 11. Count how many times the number 3 appears in the `numbers` list.\n"
   ]
  },
  {
   "cell_type": "markdown",
   "metadata": {},
   "source": [
    "*List comprehensions:*"
   ]
  },
  {
   "cell_type": "code",
   "execution_count": 120,
   "metadata": {},
   "outputs": [],
   "source": [
    "# 12. Use a list comprehension to create a new list containing the squares of the numbers in the `numbers` list.\n"
   ]
  },
  {
   "cell_type": "code",
   "execution_count": 121,
   "metadata": {},
   "outputs": [],
   "source": [
    "# 13. Use a list comprehension to create a new list containing only the even numbers from the `numbers` list.\n"
   ]
  },
  {
   "cell_type": "markdown",
   "metadata": {},
   "source": [
    "---"
   ]
  },
  {
   "cell_type": "markdown",
   "metadata": {},
   "source": [
    "## **Chapter 4.2:** Dictionaries\n",
    "\n",
    "### Introduction \n",
    "\n",
    "Dictionaries are one of Python's most powerful and flexible data structures. They allow you to store and retrieve data using key-value pairs, making them ideal for representing real-world objects, configurations, or any data that can be organized with unique identifiers.\n",
    "\n",
    "Key characteristics of dictionaries:\n",
    "\n",
    "* Unordered (as of Python 3.7+, they maintain insertion order, but you shouldn't rely on this)\n",
    "* Mutable (can be changed after creation)\n",
    "* Keys must be unique and immutable (strings, numbers, or tuples)\n",
    "* Values can be of any type\n",
    "\n",
    "### Creating and Using Dictionaries\n",
    "\n",
    "Dictionaries are defined using curly braces `{}` with key-value pairs separated by colons `:`. \n",
    "\n",
    "Let's create a simple dictionary representing a person:"
   ]
  },
  {
   "cell_type": "code",
   "execution_count": 122,
   "metadata": {},
   "outputs": [
    {
     "data": {
      "text/plain": [
       "{'name': 'Marco', 'age': 30, 'city': 'Kassel'}"
      ]
     },
     "execution_count": 122,
     "metadata": {},
     "output_type": "execute_result"
    }
   ],
   "source": [
    "# Creating a dictionary\n",
    "person = {\"name\": \"Marco\", \"age\": 30, \"city\": \"Kassel\"}\n",
    "person"
   ]
  },
  {
   "cell_type": "markdown",
   "metadata": {},
   "source": [
    "In this example, we've created a dictionary with three key-value pairs. The keys are strings (\"name\", \"age\", \"city\"), and the values are of different types (string, integer, string).\n",
    "\n",
    "**Accessing values:** To access a value in a dictionary, you use its key inside square brackets. This operation is very fast, as dictionaries are implemented using hash tables."
   ]
  },
  {
   "cell_type": "code",
   "execution_count": 123,
   "metadata": {},
   "outputs": [
    {
     "data": {
      "text/plain": [
       "'Marco'"
      ]
     },
     "execution_count": 123,
     "metadata": {},
     "output_type": "execute_result"
    }
   ],
   "source": [
    "# Accessing dictionary values\n",
    "person[\"name\"]"
   ]
  },
  {
   "cell_type": "markdown",
   "metadata": {},
   "source": [
    "If you try to access a key that doesn't exist, Python will raise a KeyError. We'll see how to avoid this later with the get() method.\n",
    "\n",
    "**Adding or updating a value:** You can add a new key-value pair or update an existing one by assigning a value to a key. If the key already exists, its value will be updated. If it doesn't exist, a new key-value pair will be created."
   ]
  },
  {
   "cell_type": "code",
   "execution_count": 124,
   "metadata": {},
   "outputs": [
    {
     "data": {
      "text/plain": [
       "{'name': 'Marco', 'age': 30, 'city': 'Kassel', 'email': 'marco@example.com'}"
      ]
     },
     "execution_count": 124,
     "metadata": {},
     "output_type": "execute_result"
    }
   ],
   "source": [
    "# Adding or updating a value\n",
    "person[\"email\"] = \"marco@example.com\"\n",
    "person"
   ]
  },
  {
   "cell_type": "markdown",
   "metadata": {},
   "source": [
    "**Removing a key-value pair:** To remove a key-value pair, you can use the `del` keyword. This removes both the key and its associated value from the dictionary."
   ]
  },
  {
   "cell_type": "code",
   "execution_count": 125,
   "metadata": {},
   "outputs": [
    {
     "data": {
      "text/plain": [
       "{'name': 'Marco', 'city': 'Kassel', 'email': 'marco@example.com'}"
      ]
     },
     "execution_count": 125,
     "metadata": {},
     "output_type": "execute_result"
    }
   ],
   "source": [
    "# Removing a key-value pair\n",
    "del person[\"age\"]\n",
    "person"
   ]
  },
  {
   "cell_type": "markdown",
   "metadata": {},
   "source": [
    "If you try to delete a key that doesn't exist, Python will raise a `KeyError`. That is another type of error like we discussed in the last chapter. \n",
    "\n",
    "### Dictionary Methods\n",
    "\n",
    "Dictionaries come with several useful methods. Let's explore some of them:\n",
    "\n",
    "**Getting all keys:** The `keys()` method returns a view object containing all the keys in the dictionary. This view object is dynamic, meaning it updates when the dictionary changes."
   ]
  },
  {
   "cell_type": "code",
   "execution_count": 126,
   "metadata": {},
   "outputs": [
    {
     "data": {
      "text/plain": [
       "dict_keys(['name', 'city', 'email'])"
      ]
     },
     "execution_count": 126,
     "metadata": {},
     "output_type": "execute_result"
    }
   ],
   "source": [
    "# Getting all keys\n",
    "keys = person.keys()\n",
    "keys"
   ]
  },
  {
   "cell_type": "markdown",
   "metadata": {},
   "source": [
    "You can convert this view object to a list if you need to, using `list`."
   ]
  },
  {
   "cell_type": "code",
   "execution_count": 127,
   "metadata": {},
   "outputs": [
    {
     "data": {
      "text/plain": [
       "['name', 'city', 'email']"
      ]
     },
     "execution_count": 127,
     "metadata": {},
     "output_type": "execute_result"
    }
   ],
   "source": [
    "# Getting all keys as list\n",
    "list(person.keys())"
   ]
  },
  {
   "cell_type": "markdown",
   "metadata": {},
   "source": [
    "**Getting all values:** Similarly, the `values()` method returns a view object of all values. Like `keys()`, this is also dynamic."
   ]
  },
  {
   "cell_type": "code",
   "execution_count": 128,
   "metadata": {},
   "outputs": [
    {
     "data": {
      "text/plain": [
       "dict_values(['Marco', 'Kassel', 'marco@example.com'])"
      ]
     },
     "execution_count": 128,
     "metadata": {},
     "output_type": "execute_result"
    }
   ],
   "source": [
    "# Getting all values \n",
    "\n",
    "values = person.values()\n",
    "values"
   ]
  },
  {
   "cell_type": "markdown",
   "metadata": {},
   "source": [
    "Again, you have to use `list()` to get these values as a list.\n",
    "\n",
    "**Getting all key-value pairs:** The `items()` method returns a view object of all key-value pairs as tuples. This is particularly useful when you need to iterate over both keys and values."
   ]
  },
  {
   "cell_type": "code",
   "execution_count": 129,
   "metadata": {},
   "outputs": [
    {
     "data": {
      "text/plain": [
       "dict_items([('name', 'Marco'), ('city', 'Kassel'), ('email', 'marco@example.com')])"
      ]
     },
     "execution_count": 129,
     "metadata": {},
     "output_type": "execute_result"
    }
   ],
   "source": [
    "# Getting all key-value pairs\n",
    "items = person.items()\n",
    "items"
   ]
  },
  {
   "cell_type": "markdown",
   "metadata": {},
   "source": [
    "**Getting a value with a default:** The `get()` method allows you to specify a default value if the key doesn't exist. This is a safer way to access dictionary values when you're not sure if a key exists."
   ]
  },
  {
   "cell_type": "code",
   "execution_count": 130,
   "metadata": {},
   "outputs": [
    {
     "data": {
      "text/plain": [
       "'Not Available'"
      ]
     },
     "execution_count": 130,
     "metadata": {},
     "output_type": "execute_result"
    }
   ],
   "source": [
    "# Getting a value with a default\n",
    "phone = person.get(\"phone\", \"Not Available\")\n",
    "phone"
   ]
  },
  {
   "cell_type": "markdown",
   "metadata": {},
   "source": [
    "If the key \"phone\" doesn't exist in the dictionary, instead of raising a KeyError, this will return \"Not Available\".\n",
    "\n",
    "**Removing and returning a value:** The `pop()` method removes a key-value pair and returns the value. This is useful when you need to work with the value and remove it from the dictionary in one operation."
   ]
  },
  {
   "cell_type": "code",
   "execution_count": 131,
   "metadata": {},
   "outputs": [
    {
     "data": {
      "text/plain": [
       "('marco@example.com', {'name': 'Marco', 'city': 'Kassel'})"
      ]
     },
     "execution_count": 131,
     "metadata": {},
     "output_type": "execute_result"
    }
   ],
   "source": [
    "# Removing and returning a value:\n",
    "email = person.pop(\"email\")\n",
    "email, person"
   ]
  },
  {
   "cell_type": "markdown",
   "metadata": {},
   "source": [
    "If the key doesn't exist, `pop()` will raise a KeyError unless you provide a default value as a second argument. You can test this by simply running the cell above again. \n",
    "\n",
    "**Clearing all items:** The `clear()` method removes all items from the dictionary, leaving you with an empty dictionary. This is more efficient than creating a new empty dictionary if you want to reuse the variable."
   ]
  },
  {
   "cell_type": "code",
   "execution_count": 132,
   "metadata": {},
   "outputs": [
    {
     "data": {
      "text/plain": [
       "{}"
      ]
     },
     "execution_count": 132,
     "metadata": {},
     "output_type": "execute_result"
    }
   ],
   "source": [
    "person.clear()\n",
    "person"
   ]
  },
  {
   "cell_type": "markdown",
   "metadata": {},
   "source": [
    "### Iterating Through Dictionaries\n",
    "\n",
    "You can iterate through dictionaries in several ways. \n",
    "\n",
    "Let's create a new dictionary for demonstration:"
   ]
  },
  {
   "cell_type": "code",
   "execution_count": 133,
   "metadata": {},
   "outputs": [],
   "source": [
    "material_properties = {\n",
    "    \"Steel\": {\"Young's Modulus\": 200e9, \"Density\": 7850, \"Yield Strength\": 250e6},\n",
    "    \"Aluminum\": {\"Young's Modulus\": 69e9, \"Density\": 2700, \"Yield Strength\": 95e6},\n",
    "    \"Titanium\": {\"Young's Modulus\": 114e9, \"Density\": 4500, \"Yield Strength\": 880e6}\n",
    "}"
   ]
  },
  {
   "cell_type": "markdown",
   "metadata": {},
   "source": [
    "This dictionary contains information about different materials used in mechanical engineering, including their Young's Modulus (in Pa), Density (in kg/m³), and Yield Strength (in Pa).\n",
    "\n",
    "As you can see, this is an example of a nested dictionary, where the values of the dictionary are in turn again dictionaries. \n",
    "\n",
    "**Iterating through keys:** By default, iterating over a dictionary gives you its keys. This is the most memory-efficient way to iterate over a dictionary."
   ]
  },
  {
   "cell_type": "code",
   "execution_count": 134,
   "metadata": {},
   "outputs": [
    {
     "name": "stdout",
     "output_type": "stream",
     "text": [
      "Available materials:\n",
      "Steel\n",
      "Aluminum\n",
      "Titanium\n"
     ]
    }
   ],
   "source": [
    "# Iterating through keys\n",
    "print(\"Available materials:\")\n",
    "for material in material_properties:\n",
    "    print(material)"
   ]
  },
  {
   "cell_type": "markdown",
   "metadata": {},
   "source": [
    "This will print out the names of all the materials in our dictionary.\n",
    "\n",
    "**Iterating through values:** To iterate through values, use the `values()` method. This is useful when you don't need the keys."
   ]
  },
  {
   "cell_type": "code",
   "execution_count": 135,
   "metadata": {},
   "outputs": [
    {
     "name": "stdout",
     "output_type": "stream",
     "text": [
      "Material properties:\n",
      "{\"Young's Modulus\": 200000000000.0, 'Density': 7850, 'Yield Strength': 250000000.0}\n",
      "{\"Young's Modulus\": 69000000000.0, 'Density': 2700, 'Yield Strength': 95000000.0}\n",
      "{\"Young's Modulus\": 114000000000.0, 'Density': 4500, 'Yield Strength': 880000000.0}\n"
     ]
    }
   ],
   "source": [
    "# Iterating through values\n",
    "print(\"Material properties:\")\n",
    "for properties in material_properties.values():\n",
    "    print(properties)"
   ]
  },
  {
   "cell_type": "markdown",
   "metadata": {},
   "source": [
    "This will print out all the property dictionaries for each material.\n",
    "\n",
    "**Iterating through key-value pairs:** To iterate through both keys and values, use the `items()` method. This is the most comprehensive way to iterate over a dictionary."
   ]
  },
  {
   "cell_type": "code",
   "execution_count": 136,
   "metadata": {},
   "outputs": [
    {
     "name": "stdout",
     "output_type": "stream",
     "text": [
      "Material properties summary:\n",
      "Steel:\n",
      "  Young's Modulus: 200000000000.0\n",
      "  Density: 7850\n",
      "  Yield Strength: 250000000.0\n",
      "\n",
      "Aluminum:\n",
      "  Young's Modulus: 69000000000.0\n",
      "  Density: 2700\n",
      "  Yield Strength: 95000000.0\n",
      "\n",
      "Titanium:\n",
      "  Young's Modulus: 114000000000.0\n",
      "  Density: 4500\n",
      "  Yield Strength: 880000000.0\n",
      "\n"
     ]
    }
   ],
   "source": [
    "# Iterating through key-value pairs\n",
    "print(\"Material properties summary:\")\n",
    "for material, properties in material_properties.items():\n",
    "    print(f\"{material}:\")\n",
    "    for property_name, value in properties.items():\n",
    "        print(f\"  {property_name}: {value}\")\n",
    "    print()  # Add a blank line between materials"
   ]
  },
  {
   "cell_type": "markdown",
   "metadata": {},
   "source": [
    "### Dictionary Comprehension\n",
    "\n",
    "Similar to list comprehensions, dictionary comprehensions provide a concise way to create dictionaries. They can make your code more readable and efficient.\n",
    "\n",
    "Creating a dictionary of squares:"
   ]
  },
  {
   "cell_type": "code",
   "execution_count": 137,
   "metadata": {},
   "outputs": [
    {
     "data": {
      "text/plain": [
       "{0: 0, 1: 1, 2: 4, 3: 9, 4: 16}"
      ]
     },
     "execution_count": 137,
     "metadata": {},
     "output_type": "execute_result"
    }
   ],
   "source": [
    "squares = {x: x**2 for x in range(5)}\n",
    "squares"
   ]
  },
  {
   "cell_type": "markdown",
   "metadata": {},
   "source": [
    "This creates a dictionary where the keys are numbers from 0 to 4, and the values are their squares.\n",
    "\n",
    "Creating a dictionary from two lists:"
   ]
  },
  {
   "cell_type": "code",
   "execution_count": 138,
   "metadata": {},
   "outputs": [
    {
     "data": {
      "text/plain": [
       "{'a': 1, 'b': 2, 'c': 3}"
      ]
     },
     "execution_count": 138,
     "metadata": {},
     "output_type": "execute_result"
    }
   ],
   "source": [
    "keys = [\"a\", \"b\", \"c\"]\n",
    "values = [1, 2, 3]\n",
    "my_dict = {k: v for k, v in zip(keys, values)}\n",
    "my_dict"
   ]
  },
  {
   "cell_type": "markdown",
   "metadata": {},
   "source": [
    "Here, we're using `zip()` to pair up the keys and values, and then creating a dictionary from these pairs. \n",
    "\n",
    "This is a common pattern when you have separate lists of keys and values."
   ]
  },
  {
   "cell_type": "markdown",
   "metadata": {},
   "source": [
    "---"
   ]
  },
  {
   "cell_type": "markdown",
   "metadata": {},
   "source": [
    "## 👨‍💻 **Practice Tasks 4.2:** Using Dictionaries\n",
    "\n",
    "\n",
    "Complete the following tasks to practice working with dictionaries in Python. Use a Jupyter Notebook or your preferred Python environment to write and test your code.\n",
    "\n",
    "\n",
    "**Basic dictionary operations:**\n",
    "\n",
    "1. Create a dictionary called person with keys for 'name', 'age', and 'city', assigning appropriate values.\n",
    "\n",
    "2. Print the value associated with the 'age' key in the person dictionary.\n",
    "\n",
    "3. Add a new key-value pair to the person dictionary for 'occupation'.\n",
    "\n",
    "4. Change the value associated with the 'city' key to a different city.\n",
    "\n",
    "5. Remove the 'age' key-value pair from the person dictionary.\n",
    "\n",
    "**Dictionary methods:**\n",
    "\n",
    "6. Print all the keys in the `person` dictionary.\n",
    "\n",
    "7. Print all the values in the `person` dictionary.\n",
    "\n",
    "8. Use the `get()` method to retrieve the value for 'occupation', providing a default value if it doesn't exist.\n",
    "\n",
    "9. Use the `pop()` method to remove and return the value associated with the 'city' key.\n",
    "\n",
    "10. Clear all items from the person dictionary using the appropriate method.\n",
    "\n",
    "**Iterating through dictionaries:**\n",
    "\n",
    "11. Create a new dictionary called grades with subject names as keys and grades as values.\n",
    "\n",
    "12. Use a for loop to print each key-value pair in the grades dictionary.\n",
    "\n",
    "13. Use a for loop to print only the keys from the grades dictionary.\n",
    "\n",
    "14. Use a for loop to print only the values from the grades dictionary.\n",
    "\n",
    "**Dictionary comprehensions:**\n",
    "\n",
    "15. Use a dictionary comprehension to create a new dictionary containing only the subjects from the grades dictionary where the grade is above 80.\n",
    "\n",
    "16. Use a dictionary comprehension to create a new dictionary with the same keys as the grades dictionary, but with all the grades increased by 5 points."
   ]
  },
  {
   "cell_type": "markdown",
   "metadata": {},
   "source": [
    "*Basic dictionary operations:*"
   ]
  },
  {
   "cell_type": "code",
   "execution_count": 139,
   "metadata": {},
   "outputs": [],
   "source": [
    "# 1. Create a dictionary called `person` with keys for 'name', 'age', and 'city', assigning appropriate values.\n"
   ]
  },
  {
   "cell_type": "code",
   "execution_count": 140,
   "metadata": {},
   "outputs": [],
   "source": [
    "# 2. Print the value associated with the 'age' key in the person dictionary.\n"
   ]
  },
  {
   "cell_type": "code",
   "execution_count": 141,
   "metadata": {},
   "outputs": [],
   "source": [
    "# 3. Add a new key-value pair to the person dictionary for 'occupation'.\n"
   ]
  },
  {
   "cell_type": "code",
   "execution_count": 142,
   "metadata": {},
   "outputs": [],
   "source": [
    "# 4. Change the value associated with the 'city' key to a different city.\n"
   ]
  },
  {
   "cell_type": "code",
   "execution_count": 143,
   "metadata": {},
   "outputs": [],
   "source": [
    "# 5. Remove the 'age' key-value pair from the person dictionary.\n"
   ]
  },
  {
   "cell_type": "markdown",
   "metadata": {},
   "source": [
    "*Dictionary methods:*"
   ]
  },
  {
   "cell_type": "code",
   "execution_count": 144,
   "metadata": {},
   "outputs": [],
   "source": [
    "# 6. Print all the keys in the person dictionary.\n"
   ]
  },
  {
   "cell_type": "code",
   "execution_count": 145,
   "metadata": {},
   "outputs": [],
   "source": [
    "# 7. Print all the values in the person dictionary.\n"
   ]
  },
  {
   "cell_type": "code",
   "execution_count": 146,
   "metadata": {},
   "outputs": [],
   "source": [
    "# 8. Use the `get()` method to retrieve the value for 'occupation', providing a default value if it doesn't exist.\n"
   ]
  },
  {
   "cell_type": "code",
   "execution_count": 147,
   "metadata": {},
   "outputs": [],
   "source": [
    "# 9. Use the `pop()` method to remove and return the value associated with the 'city' key.\n"
   ]
  },
  {
   "cell_type": "code",
   "execution_count": 148,
   "metadata": {},
   "outputs": [],
   "source": [
    "# 10. Clear all items from the person dictionary using the appropriate method.\n"
   ]
  },
  {
   "cell_type": "markdown",
   "metadata": {},
   "source": [
    "*Iterating through dictionaries:*"
   ]
  },
  {
   "cell_type": "code",
   "execution_count": 149,
   "metadata": {},
   "outputs": [],
   "source": [
    "# 11. Create a new dictionary called `grades` with subject names as keys and grades as values.\n"
   ]
  },
  {
   "cell_type": "code",
   "execution_count": 150,
   "metadata": {},
   "outputs": [],
   "source": [
    "# 12. Use a for loop to print each key-value pair in the grades dictionary.\n"
   ]
  },
  {
   "cell_type": "code",
   "execution_count": 151,
   "metadata": {},
   "outputs": [],
   "source": [
    "# 13. Use a for loop to print only the keys from the grades dictionary.\n"
   ]
  },
  {
   "cell_type": "code",
   "execution_count": 152,
   "metadata": {},
   "outputs": [],
   "source": [
    "# 14. Use a for loop to print only the values from the grades dictionary.\n"
   ]
  },
  {
   "cell_type": "markdown",
   "metadata": {},
   "source": [
    "*# Dictionary comprehensions:*"
   ]
  },
  {
   "cell_type": "code",
   "execution_count": 153,
   "metadata": {},
   "outputs": [],
   "source": [
    "# 15. Use a dictionary comprehension to create a new dictionary containing only the subjects from the grades dictionary where the grade is above 80.\n"
   ]
  },
  {
   "cell_type": "code",
   "execution_count": 154,
   "metadata": {},
   "outputs": [],
   "source": [
    "# 16. Use a dictionary comprehension to create a new dictionary with the same keys as the grades dictionary, but with all the grades increased by 5 points.\n"
   ]
  },
  {
   "cell_type": "markdown",
   "metadata": {},
   "source": [
    "---"
   ]
  },
  {
   "cell_type": "markdown",
   "metadata": {},
   "source": [
    "## **Chapter 4.3:** Tuples and Sets\n",
    "\n",
    "In this chapter, we'll explore two more important data structures in Python: `tuples` and `sets`. Each has unique characteristics and use cases that make them valuable tools in a programmer's toolkit.\n",
    "\n",
    "### Tuples \n",
    "\n",
    "Tuples are immutable sequences, meaning once they're created, their contents cannot be changed. They are defined using parentheses ().\n",
    "\n",
    "**Creating and Accessing Tuples:**"
   ]
  },
  {
   "cell_type": "code",
   "execution_count": 155,
   "metadata": {},
   "outputs": [],
   "source": [
    "# Creating a tuple\n",
    "coordinates = (3, 4)\n",
    "rgb_color = (255, 0, 128)"
   ]
  },
  {
   "cell_type": "code",
   "execution_count": 156,
   "metadata": {},
   "outputs": [],
   "source": [
    "# Accessing tuple elements\n",
    "x = coordinates[0]\n",
    "y = coordinates[1]"
   ]
  },
  {
   "cell_type": "code",
   "execution_count": 157,
   "metadata": {},
   "outputs": [],
   "source": [
    "# Tuple unpacking\n",
    "r, g, b = rgb_color"
   ]
  },
  {
   "cell_type": "markdown",
   "metadata": {},
   "source": [
    "Thus far, tuple behave very similar to lists. However, if you try to change the value at a specific index of a tuple, you get a `TypeError`."
   ]
  },
  {
   "cell_type": "code",
   "execution_count": 158,
   "metadata": {},
   "outputs": [
    {
     "ename": "TypeError",
     "evalue": "'tuple' object does not support item assignment",
     "output_type": "error",
     "traceback": [
      "\u001b[1;31m---------------------------------------------------------------------------\u001b[0m",
      "\u001b[1;31mTypeError\u001b[0m                                 Traceback (most recent call last)",
      "Cell \u001b[1;32mIn[158], line 2\u001b[0m\n\u001b[0;32m      1\u001b[0m \u001b[38;5;66;03m# Trying to change a value throws an error\u001b[39;00m\n\u001b[1;32m----> 2\u001b[0m \u001b[43mrgb_color\u001b[49m\u001b[43m[\u001b[49m\u001b[38;5;241;43m0\u001b[39;49m\u001b[43m]\u001b[49m \u001b[38;5;241m=\u001b[39m \u001b[38;5;241m0\u001b[39m\n",
      "\u001b[1;31mTypeError\u001b[0m: 'tuple' object does not support item assignment"
     ]
    }
   ],
   "source": [
    "# Trying to change a value throws an error\n",
    "rgb_color[0] = 0"
   ]
  },
  {
   "cell_type": "markdown",
   "metadata": {},
   "source": [
    "**Tuple Methods:** Tuples have only two built-in methods:"
   ]
  },
  {
   "cell_type": "code",
   "execution_count": null,
   "metadata": {},
   "outputs": [],
   "source": [
    "numbers = (1, 2, 3, 2, 4, 2)\n",
    "\n",
    "# count(): Returns the number of times a value appears in the tuple\n",
    "twos_count = numbers.count(2)\n",
    "\n",
    "# index(): Returns the index of the first occurrence of a value\n",
    "index_of_three = numbers.index(3)"
   ]
  },
  {
   "cell_type": "markdown",
   "metadata": {},
   "source": [
    "**Tuple Packing and Unpacking:**"
   ]
  },
  {
   "cell_type": "code",
   "execution_count": 80,
   "metadata": {},
   "outputs": [],
   "source": [
    "# Tuple packing\n",
    "person = \"John Doe\", 30, \"New York\"\n",
    "\n",
    "# Tuple unpacking\n",
    "name, age, city = person"
   ]
  },
  {
   "cell_type": "markdown",
   "metadata": {},
   "source": [
    "### Sets\n",
    "\n",
    "Sets are collections of unique items. \n",
    "\n",
    "They are unordered, meaning they do not maintain any order of the items. Sets are defined by curly braces `{}` or the `set()` constructor.\n",
    "\n",
    "**Creating and modifying sets:**"
   ]
  },
  {
   "cell_type": "code",
   "execution_count": 86,
   "metadata": {},
   "outputs": [
    {
     "name": "stdout",
     "output_type": "stream",
     "text": [
      "{'cherry', 'banana', 'apple'}\n"
     ]
    }
   ],
   "source": [
    "# Creating a set\n",
    "fruits_set = {\"apple\", \"banana\", \"cherry\"}\n",
    "print(fruits_set)"
   ]
  },
  {
   "cell_type": "code",
   "execution_count": 84,
   "metadata": {},
   "outputs": [],
   "source": [
    "# Adding an item to a set\n",
    "fruits_set.add(\"orange\")"
   ]
  },
  {
   "cell_type": "code",
   "execution_count": 88,
   "metadata": {},
   "outputs": [],
   "source": [
    "# Removing elements from a set\n",
    "fruits_set.remove(\"banana\")  # Raises an error if the element doesn't exist\n",
    "fruits_set.discard(\"grape\")  # Does not raise an error if the element doesn't exist"
   ]
  },
  {
   "cell_type": "markdown",
   "metadata": {},
   "source": [
    "**Set Operations:**"
   ]
  },
  {
   "cell_type": "code",
   "execution_count": 90,
   "metadata": {},
   "outputs": [
    {
     "data": {
      "text/plain": [
       "{1, 2, 3, 4, 5, 6, 7, 8}"
      ]
     },
     "execution_count": 90,
     "metadata": {},
     "output_type": "execute_result"
    }
   ],
   "source": [
    "set1 = {1, 2, 3, 4, 5}\n",
    "set2 = {4, 5, 6, 7, 8}\n",
    "\n",
    "# Union\n",
    "union_set = set1 | set2  # or set1.union(set2)\n",
    "union_set"
   ]
  },
  {
   "cell_type": "code",
   "execution_count": 92,
   "metadata": {},
   "outputs": [
    {
     "data": {
      "text/plain": [
       "{4, 5}"
      ]
     },
     "execution_count": 92,
     "metadata": {},
     "output_type": "execute_result"
    }
   ],
   "source": [
    "# Intersection\n",
    "intersection_set = set1 & set2  # or set1.intersection(set2)\n",
    "intersection_set"
   ]
  },
  {
   "cell_type": "code",
   "execution_count": 93,
   "metadata": {},
   "outputs": [
    {
     "data": {
      "text/plain": [
       "{1, 2, 3}"
      ]
     },
     "execution_count": 93,
     "metadata": {},
     "output_type": "execute_result"
    }
   ],
   "source": [
    "# Difference\n",
    "difference_set = set1 - set2  # or set1.difference(set2)\n",
    "difference_set"
   ]
  },
  {
   "cell_type": "code",
   "execution_count": 94,
   "metadata": {},
   "outputs": [
    {
     "data": {
      "text/plain": [
       "{1, 2, 3, 6, 7, 8}"
      ]
     },
     "execution_count": 94,
     "metadata": {},
     "output_type": "execute_result"
    }
   ],
   "source": [
    "# Symmetric Difference\n",
    "symmetric_difference_set = set1 ^ set2  # or set1.symmetric_difference(set2)\n",
    "symmetric_difference_set"
   ]
  },
  {
   "cell_type": "markdown",
   "metadata": {},
   "source": [
    "**Set comprehensions:**"
   ]
  },
  {
   "cell_type": "code",
   "execution_count": 95,
   "metadata": {},
   "outputs": [
    {
     "data": {
      "text/plain": [
       "{0, 4, 16, 36, 64}"
      ]
     },
     "execution_count": 95,
     "metadata": {},
     "output_type": "execute_result"
    }
   ],
   "source": [
    "# Creating a set of squares of even numbers from 0 to 9\n",
    "even_squares = {x**2 for x in range(10) if x % 2 == 0}\n",
    "even_squares"
   ]
  },
  {
   "cell_type": "markdown",
   "metadata": {},
   "source": [
    "\n",
    "* Tuples are often used for grouping related data that shouldn't change, like coordinates or RGB color values.\n",
    "\n",
    "* Sets are useful for removing duplicates from a collection and for membership testing (which is faster than in lists).\n",
    "\n",
    "In the next section, we'll practice using tuples and sets with some hands-on exercises."
   ]
  },
  {
   "cell_type": "markdown",
   "metadata": {},
   "source": [
    "---"
   ]
  },
  {
   "cell_type": "markdown",
   "metadata": {},
   "source": [
    "## 👨‍💻 Practice tasks 4.3: Using Tuples and Sets\n",
    "\n",
    "Complete the following tasks to practice working with tuples and sets in Python. Use a Jupyter Notebook or your preferred Python environment to write and test your code.\n",
    "\n",
    "**Tuple operations:**\n",
    "\n",
    "1. Create a tuple called point with x, y, and z coordinates of your choice.\n",
    "\n",
    "2. Print the y-coordinate (second element) of the point tuple.\n",
    "\n",
    "3. Try to change the x-coordinate of the point tuple (this should raise an error).\n",
    "\n",
    "4. Create a tuple called rgb with three values representing a color.\n",
    "\n",
    "5. Use tuple unpacking to assign the values of rgb to variables red, green, and blue.\n",
    "\n",
    "**Tuple methods:**\n",
    "\n",
    "6. Create a tuple called numbers with some repeated values.\n",
    "\n",
    "7. Use a tuple method to count how many times the number 3 appears in the numbers tuple.\n",
    "\n",
    "8. Use a tuple method to find the index of the first occurrence of the number 5 in the numbers tuple.\n",
    "\n",
    "**Set creation and modification:**\n",
    "\n",
    "9. Create a set called fruits with at least 5 different fruit names.\n",
    "\n",
    "10. Add a new fruit to the fruits set.\n",
    "\n",
    "11. Remove a fruit from the fruits set.\n",
    "\n",
    "12. Try to add a fruit that already exists in the set (notice that it doesn't create a duplicate).\n",
    "\n",
    "**Set operations:**\n",
    "\n",
    "13. Create two sets: set1 with numbers 1-5 and set2 with numbers 4-8.\n",
    "\n",
    "14. Find the union of set1 and set2.\n",
    "\n",
    "15. Find the intersection of set1 and set2.\n",
    "\n",
    "16. Find the difference between set1 and set2 (elements in set1 that are not in set2).\n",
    "\n",
    "**Set comprehension:**\n",
    "\n",
    "17. Use a set comprehension to create a set of the squares of numbers from 1 to 10.\n",
    "\n",
    "18. Use a set comprehension to create a set of all the consonants in the word \"python\" (exclude vowels)."
   ]
  },
  {
   "cell_type": "markdown",
   "metadata": {},
   "source": [
    "*Tuple operations:*"
   ]
  },
  {
   "cell_type": "code",
   "execution_count": null,
   "metadata": {},
   "outputs": [],
   "source": [
    "# 1. Create a tuple called `point` with x, y, and z coordinates of your choice.\n"
   ]
  },
  {
   "cell_type": "code",
   "execution_count": null,
   "metadata": {},
   "outputs": [],
   "source": [
    "# 2. Print the y-coordinate (second element) of the point tuple.\n"
   ]
  },
  {
   "cell_type": "code",
   "execution_count": null,
   "metadata": {},
   "outputs": [],
   "source": [
    "# 3. Try to change the x-coordinate of the point tuple (this should raise an error).\n"
   ]
  },
  {
   "cell_type": "code",
   "execution_count": null,
   "metadata": {},
   "outputs": [],
   "source": [
    "# 4. Create a tuple called `rgb` with three values representing a color.\n"
   ]
  },
  {
   "cell_type": "code",
   "execution_count": null,
   "metadata": {},
   "outputs": [],
   "source": [
    "# 5. Use tuple unpacking to assign the values of `rgb` to variables `red`, `green`, and `blue`.\n"
   ]
  },
  {
   "cell_type": "markdown",
   "metadata": {},
   "source": [
    "*Tuple methods:*"
   ]
  },
  {
   "cell_type": "code",
   "execution_count": null,
   "metadata": {},
   "outputs": [],
   "source": [
    "# 6. Create a tuple called `numbers` with some repeated values.\n"
   ]
  },
  {
   "cell_type": "code",
   "execution_count": null,
   "metadata": {},
   "outputs": [],
   "source": [
    "# 7. Use a tuple method to count how many times the number 3 appears in the `numbers` tuple.\n"
   ]
  },
  {
   "cell_type": "code",
   "execution_count": null,
   "metadata": {},
   "outputs": [],
   "source": [
    "# 8. Use a tuple method to find the index of the first occurrence of the number 5 in the `numbers` tuple.\n"
   ]
  },
  {
   "cell_type": "markdown",
   "metadata": {},
   "source": [
    "*Set creation and modification:*"
   ]
  },
  {
   "cell_type": "code",
   "execution_count": null,
   "metadata": {},
   "outputs": [],
   "source": [
    "# 9. Create a set called `fruits` with at least 5 different fruit names.\n"
   ]
  },
  {
   "cell_type": "code",
   "execution_count": null,
   "metadata": {},
   "outputs": [],
   "source": [
    "# 10. Add a new fruit to the `fruits` set.\n"
   ]
  },
  {
   "cell_type": "code",
   "execution_count": null,
   "metadata": {},
   "outputs": [],
   "source": [
    "# 11. Remove a fruit from the `fruits` set.\n"
   ]
  },
  {
   "cell_type": "code",
   "execution_count": null,
   "metadata": {},
   "outputs": [],
   "source": [
    "# 12. Try to add a fruit that already exists in the set (notice that it doesn't create a duplicate).\n"
   ]
  },
  {
   "cell_type": "markdown",
   "metadata": {},
   "source": [
    "*Set operation:*"
   ]
  },
  {
   "cell_type": "code",
   "execution_count": null,
   "metadata": {},
   "outputs": [],
   "source": [
    "# 13. Create two sets: `set1` with numbers 1-5 and `set2` with numbers 4-8.\n"
   ]
  },
  {
   "cell_type": "code",
   "execution_count": null,
   "metadata": {},
   "outputs": [],
   "source": [
    "# 14. Find the union of `set1` and `set2`.\n"
   ]
  },
  {
   "cell_type": "code",
   "execution_count": null,
   "metadata": {},
   "outputs": [],
   "source": [
    "# 15. Find the intersection of `set1` and `set2`.\n"
   ]
  },
  {
   "cell_type": "code",
   "execution_count": null,
   "metadata": {},
   "outputs": [],
   "source": [
    "# 16. Find the difference between `set1` and `set2` (elements in set1 that are not in set2).\n"
   ]
  },
  {
   "cell_type": "markdown",
   "metadata": {},
   "source": [
    "*Set comprehension:*"
   ]
  },
  {
   "cell_type": "code",
   "execution_count": null,
   "metadata": {},
   "outputs": [],
   "source": [
    "# 17. Use a set comprehension to create a set of the squares of numbers from 1 to 10.\n"
   ]
  },
  {
   "cell_type": "code",
   "execution_count": null,
   "metadata": {},
   "outputs": [],
   "source": [
    "# 18. Use a set comprehension to create a set of all the consonants in the word \"python\" (exclude vowels).\n"
   ]
  },
  {
   "cell_type": "markdown",
   "metadata": {},
   "source": [
    "This chapter has introduced you to Python's core data structures, essential for storing, accessing, and manipulating data in your programs."
   ]
  },
  {
   "cell_type": "markdown",
   "metadata": {},
   "source": [
    "---"
   ]
  },
  {
   "cell_type": "markdown",
   "metadata": {},
   "source": [
    "## **Chapter 4.4:** Coding Challenge\n",
    "\n",
    "#### Stress and Strain Calculator (Part 3) \n",
    "\n",
    "**Objective:** Enhance the stress and strain calculator to utilize Python's built-in data structures for improved data management and user experience. \n",
    "\n",
    "This version aims to introduce structured data storage and handling techniques while maintaining robust error handling and user interaction.\n",
    "\n",
    "**Features:**\n",
    "\n",
    "* **Data Storage:** Utilize Python lists, dictionaries, and sets for organizing calculation results, material identifiers, and unique calculations.\n",
    "* **Immutable Data Handling:** Apply tuples for storing unchangeable data such as measurement units.\n",
    "* **Session History:** Keep a detailed record of each calculation performed during the session.\n",
    "* **Unique Material Tracking:** Identify and track unique materials tested using a set.\n",
    "\n",
    "**Implementation Steps:**\n",
    "\n",
    "* Step 1: User Input and Program Flow:\n",
    "    * Continuously prompt the user to input material identifiers, forces, cross-sectional areas, original lengths, and changes in lengths.\n",
    "    * Offer an option to exit the program after each calculation, enhancing session control.\n",
    "\n",
    "* Step 2: Using Data Structures:\n",
    "    * **Lists:** Create a list named `calculations_history` to store the history of calculations. Each entry in the list will be a dictionary containing the details of one calculation.\n",
    "    * **Dictionaries:** Use dictionaries to store the details of each calculation, including material identifiers, inputs, and results.\n",
    "    * **Sets:** Utilize a set named `unique_materials` to track the unique materials tested during the session.\n",
    "    * **Tuples:** Define a tuple named `units` to store the units of measurement (immutable data).\n",
    "\n",
    "* Step 3: Calculations:    \n",
    "    * Perform stress and strain calculations using the previously used formulas. Store the results in the respective dictionary for each calculation.\n",
    "\n",
    "* Step 4: Error Handling:\n",
    "    * Implement try-except blocks to handle invalid inputs gracefully, ensuring the program's robustness.\n",
    "\n",
    "* Step 5: Outputs:\n",
    "    * After each calculation, display the results to the user, including stress and strain, formatted for readability.\n",
    "    * Upon exiting, provide a summary of the session, listing all calculations performed and highlighting unique materials tested.\n",
    "\n",
    "* Step 6: Session Summary:\n",
    "    * At the end of the session, loop through the calculations_history list and print each calculation's details.\n",
    "    * Display the set of unique materials to showcase the diversity of materials analyzed.\n",
    "\n",
    "\n",
    "Enhance the existing stress and strain calculator by incorporating the above features. Aim to make your code clean, readable, and well-commented. Focus on the practical application of lists, dictionaries, tuples, and sets to manage data effectively."
   ]
  },
  {
   "cell_type": "code",
   "execution_count": null,
   "metadata": {},
   "outputs": [],
   "source": [
    "# Initialize an empty list to store history of calculations\n",
    "calculations_history = []\n",
    "\n",
    "# Set for unique materials (assuming each material has a unique identifier)\n",
    "unique_materials = set()\n",
    "\n",
    "# Tuple for units (immutable data)\n",
    "units = (\"Newtons\", \"Square Meters\", \"Pascals\", \"Dimensionless\")\n",
    "\n",
    "# Welcome message\n",
    "print(\"Welcome to the Enhanced Stress and Strain Calculator\")\n",
    "\n",
    "while True:\n",
    "    try:\n",
    "        material_id = input(\"Enter material identifier (or type 'exit' to finish): \")\n",
    "        if material_id.lower() == 'exit':\n",
    "            break\n",
    "\n",
    "        # Add material to set of unique materials\n",
    "        unique_materials.add(material_id)\n",
    "\n",
    "        force = float(input(\"Enter the applied force (in newtons): \"))\n",
    "        area = float(input(\"Enter the cross-sectional area (in square meters): \"))\n",
    "        original_length = float(input(\"Enter the original length of the material (in meters): \"))\n",
    "        change_in_length = float(input(\"Enter the change in length of the material (in meters): \"))\n",
    "\n",
    "        # Perform calculations\n",
    "        stress = force / area\n",
    "        strain = change_in_length / original_length\n",
    "\n",
    "        # Store results in a dictionary\n",
    "        result = {\n",
    "            \"Material ID\": material_id,\n",
    "            \"Force (N)\": force,\n",
    "            \"Area (m^2)\": area,\n",
    "            \"Stress (Pa)\": stress,\n",
    "            \"Original Length (m)\": original_length,\n",
    "            \"Change in Length (m)\": change_in_length,\n",
    "            \"Strain\": strain\n",
    "        }\n",
    "\n",
    "        # Add the result dictionary to the history list\n",
    "        calculations_history.append(result)\n",
    "\n",
    "        # Display current calculation\n",
    "        print(f\"\\nMaterial ID: {material_id}\")\n",
    "        print(f\"Calculated Stress: {stress} {units[2]}\")\n",
    "        print(f\"Calculated Strain: {strain} {units[3]}\\n\")\n",
    "\n",
    "    except ValueError:\n",
    "        print(\"Invalid input. Please enter a valid number.\")\n",
    "\n",
    "# Displaying the session history and unique materials\n",
    "print(\"\\nSession Summary:\")\n",
    "for calculation in calculations_history:\n",
    "    print(calculation)\n",
    "\n",
    "print(\"\\nUnique Materials Tested:\")\n",
    "print(unique_materials)\n",
    "\n",
    "print(\"\\nThank you for using the calculator. Goodbye!\")"
   ]
  },
  {
   "cell_type": "markdown",
   "metadata": {},
   "source": [
    "[--> Back to Outline](#course-outline)\n",
    "\n",
    "---"
   ]
  }
 ],
 "metadata": {
  "language_info": {
   "name": "python"
  }
 },
 "nbformat": 4,
 "nbformat_minor": 2
}
