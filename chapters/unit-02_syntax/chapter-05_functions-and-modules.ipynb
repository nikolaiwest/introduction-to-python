{
 "cells": [
  {
   "cell_type": "markdown",
   "metadata": {},
   "source": [
    "# **Chapter 5:** Functions and Modules \n",
    "\n",
    "## Introduction \n",
    "\n",
    "In programming, especially in Python, breaking down your code into reusable chunks is crucial for both readability and efficiency. \n",
    "\n",
    "This chapter delves into the concepts of functions and modules, which are foundational to writing clean, maintainable, and scalable Python code.\n",
    "\n",
    "## Chapter outline\n",
    "\n"
   ]
  },
  {
   "cell_type": "markdown",
   "metadata": {},
   "source": [
    "---\n",
    "---"
   ]
  },
  {
   "cell_type": "markdown",
   "metadata": {},
   "source": [
    "## **Chapter 5.1:** Defining Functions\n",
    "\n",
    "Functions are the building blocks of Python programming, allowing you to encapsulate tasks into reusable units. Think of a function as a small machine that takes in some input, performs an operation, and then outputs the result.\n",
    "\n",
    "#### Creating a Function\n",
    "\n",
    "A function is created with the `def` keyword, followed by the function's name and parentheses. \n",
    "\n",
    "Any inputs to the function, known as `parameters`, are listed inside these parentheses. \n",
    "\n",
    "The function's body, which is indented beneath the definition, contains the code that defines what the function does."
   ]
  },
  {
   "cell_type": "code",
   "execution_count": null,
   "metadata": {},
   "outputs": [],
   "source": [
    "def say_hello(name):\n",
    "    \"\"\"A simple function to greet someone.\"\"\" \n",
    "    #\n",
    "    greeting = f\"Hello, {name}!\"\n",
    "    return greeting"
   ]
  },
  {
   "cell_type": "markdown",
   "metadata": {},
   "source": [
    "In the example above, `say_hello` is a function that takes one parameter, `name`, and returns a greeting message."
   ]
  },
  {
   "cell_type": "markdown",
   "metadata": {},
   "source": [
    "#### Calling a Function\n",
    "\n",
    "To execute the function, you call it by its name followed by parentheses. If the function requires parameters, you provide them within the parentheses."
   ]
  },
  {
   "cell_type": "code",
   "execution_count": null,
   "metadata": {},
   "outputs": [],
   "source": [
    "message = say_hello(\"Nick\")\n",
    "print(message)  # Output: Hello, Nick!"
   ]
  },
  {
   "cell_type": "markdown",
   "metadata": {},
   "source": [
    "---"
   ]
  },
  {
   "cell_type": "markdown",
   "metadata": {},
   "source": [
    "### 👨‍💻 Practice tasks 5.1: Defining Functions\n"
   ]
  },
  {
   "cell_type": "code",
   "execution_count": null,
   "metadata": {},
   "outputs": [],
   "source": [
    "# 1. Define a function called 'greet' that takes a name as an argument and prints a greeting\n",
    "# 2. Define a function called 'square' that takes a number and returns its square\n",
    "# 3. Define a function called 'sum_two' that takes two numbers and returns their sum\n",
    "# 4. Define a function called 'absolute_difference' that takes two numbers and returns the absolute difference between them\n",
    "# 5. Define a function called 'is_even' that takes a number and returns True if it's even, False otherwise\n",
    "# 6. Call each of the functions you defined with appropriate arguments and print the results"
   ]
  },
  {
   "cell_type": "code",
   "execution_count": null,
   "metadata": {},
   "outputs": [],
   "source": [
    "# 1. Define a function called 'greet' that takes a name as an argument and prints a greeting\n",
    "def greet(name):\n",
    "    print(f\"Hello, {name}!\")\n",
    "\n",
    "# 2. Define a function called 'square' that takes a number and returns its square\n",
    "def square(number):\n",
    "    return number ** 2\n",
    "\n",
    "# 3. Define a function called 'sum_two' that takes two numbers and returns their sum\n",
    "def sum_two(a, b):\n",
    "    return a + b\n",
    "\n",
    "# 4. Define a function called 'absolute_difference' that takes two numbers and returns the absolute difference between them\n",
    "def absolute_difference(a, b):\n",
    "    return abs(a - b)\n",
    "\n",
    "# 5. Define a function called 'is_even' that takes a number and returns True if it's even, False otherwise\n",
    "def is_even(number):\n",
    "    return number % 2 == 0\n",
    "\n",
    "# 6. Call each of the functions you defined with appropriate arguments and print the results\n",
    "greet(\"Alice\")\n",
    "print(square(4))\n",
    "print(sum_two(3, 5))\n",
    "print(absolute_difference(10, 7))\n",
    "print(is_even(6))\n",
    "print(is_even(7))"
   ]
  },
  {
   "cell_type": "markdown",
   "metadata": {},
   "source": [
    "---"
   ]
  },
  {
   "cell_type": "markdown",
   "metadata": {},
   "source": [
    "## **Chapter 5.2:** Function Arguments\n",
    "\n",
    "Arguments are the values you pass into the function when you call it. Python offers flexibility in how arguments can be passed to functions, catering to various scenarios.\n",
    "\n",
    "* **Positional Arguments:** These are arguments that need to be in order based on the function's definition. The first argument fills the first parameter, the second fills the second, and so on.\n",
    "\n",
    "* **Keyword Arguments:** Allow you to specify arguments by the parameter name, making your function calls more readable and allowing you to skip certain default parameters.\n",
    "\n",
    "* **Default Parameters:** You can assign default values to parameters, making them optional during a function call."
   ]
  },
  {
   "cell_type": "code",
   "execution_count": null,
   "metadata": {},
   "outputs": [],
   "source": [
    "def create_email(to, subject, body, cc=None):\n",
    "    \"\"\"Create a simple email structure.\"\"\"\n",
    "    email = f\"To: {to}\\nSubject: {subject}\\nBody: {body}\"\n",
    "    if cc:\n",
    "        email += f\"\\nCC: {cc}\"\n",
    "    return email"
   ]
  },
  {
   "cell_type": "markdown",
   "metadata": {},
   "source": [
    "In this function, cc is an optional parameter with a default value of `None`."
   ]
  },
  {
   "cell_type": "markdown",
   "metadata": {},
   "source": [
    "---"
   ]
  },
  {
   "cell_type": "markdown",
   "metadata": {},
   "source": [
    "### 👨‍💻 Practice tasks 5.2: Function Arguments"
   ]
  },
  {
   "cell_type": "code",
   "execution_count": null,
   "metadata": {},
   "outputs": [],
   "source": [
    "# 1. Define a function called 'power' that takes two arguments: 'base' and 'exponent' (with a default value of 2)\n",
    "# 2. Define a function called 'introduce' that takes 'name', 'age', and 'city' (with a default value of \"Unknown\")\n",
    "# 3. Call the 'power' function with: \n",
    "#    a) Just the base argument\n",
    "#    b) Both base and exponent arguments\n",
    "# 4. Call the 'introduce' function with:\n",
    "#    a) Only name and age\n",
    "#    b) All three arguments\n",
    "#    c) Name and age as positional arguments, and city as a keyword argument"
   ]
  },
  {
   "cell_type": "code",
   "execution_count": null,
   "metadata": {},
   "outputs": [],
   "source": [
    "# 1. Define a function called 'power' that takes two arguments: 'base' and 'exponent' (with a default value of 2)\n",
    "def power(base, exponent=2):\n",
    "    return base ** exponent\n",
    "\n",
    "# 2. Define a function called 'introduce' that takes 'name', 'age', and 'city' (with a default value of \"Unknown\")\n",
    "def introduce(name, age, city=\"Unknown\"):\n",
    "    return f\"My name is {name}, I'm {age} years old, and I'm from {city}.\"\n",
    "\n",
    "# 3. Call the 'power' function with: \n",
    "#    a) Just the base argument\n",
    "print(power(3))\n",
    "#    b) Both base and exponent arguments\n",
    "print(power(3, 3))\n",
    "\n",
    "# 4. Call the 'introduce' function with:\n",
    "#    a) Only name and age\n",
    "print(introduce(\"John\", 30))\n",
    "#    b) All three arguments\n",
    "print(introduce(\"Jane\", 25, \"New York\"))\n",
    "#    c) Name and age as positional arguments, and city as a keyword argument\n",
    "print(introduce(\"Bob\", 35, city=\"Chicago\"))"
   ]
  },
  {
   "cell_type": "markdown",
   "metadata": {},
   "source": [
    "---"
   ]
  },
  {
   "cell_type": "markdown",
   "metadata": {},
   "source": [
    "## **Chapter 5.3:** Modules and Packages\n",
    "\n",
    "As your codebase grows, keeping all your functions in one file becomes impractical. Python allows you to organize your code into modules and packages.\n",
    "\n",
    "* **Modules:** A module is a single Python file containing Python code. It can include functions, variables, and classes. Modules allow you to organize related code into a file that can be imported and used in other Python scripts.\n",
    "\n",
    "* **Packages:** A package is a collection of Python modules under a common namespace. In simpler terms, it's a directory that contains one or more modules. Packages allow for a hierarchical structuring of the module namespace using dot notation."
   ]
  },
  {
   "cell_type": "markdown",
   "metadata": {},
   "source": [
    "#### Creating a Module\n",
    "\n",
    "To create a module, simply save your code into a `.py` file. \n",
    "\n",
    "For example, `calculator.py` could contain several math-related functions. \n",
    "\n",
    "To use these functions in another file, you would import the module using the import statement:"
   ]
  },
  {
   "cell_type": "code",
   "execution_count": null,
   "metadata": {},
   "outputs": [],
   "source": [
    "import calculator\n",
    "\n",
    "result = calculator.add(5, 3)\n",
    "print(result)"
   ]
  },
  {
   "cell_type": "code",
   "execution_count": null,
   "metadata": {},
   "outputs": [],
   "source": [
    "import os\n",
    "\n",
    "curr_cwd = os.getcwd()\n",
    "\n",
    "print(curr_cwd)"
   ]
  },
  {
   "cell_type": "markdown",
   "metadata": {},
   "source": [
    "**Note:** When importing modules, Python looks in the directory where the input script was run from, then in the list of directories contained in its sys.path variable. \n",
    "\n",
    "If the module is not found, Python will throw a `ModuleNotFoundError`."
   ]
  },
  {
   "cell_type": "markdown",
   "metadata": {},
   "source": [
    "#### Understanding key terms\n",
    "\n",
    "In Python, the concepts of *modules*, *packages*, *libraries*, and *frameworks* are fundamental to understanding how reusable code is organized, shared, and utilized in projects. \n",
    "\n",
    "<img src=\"https://miro.medium.com/v2/resize:fit:1030/1*iL3Hq35sZ3sG26WGpjv8rg.png\" height=\"500\">\n",
    "\n",
    "**Source:** https://medium.com/pythoneers/6-must-know-words-in-python-ac87ab420ab7\n",
    "\n",
    "Here’s a brief explanation of each:\n",
    "\n",
    "* **Modules:**\n",
    "    * Definition: A module is a single Python file that contains definitions and implementations of functions, classes, and variables. Modules are designed to include related code functionality to be reused in other Python programs.\n",
    "    * Usage: You can import a module into your program using the `import` statement. Once imported, you can access its functions, classes, and variables.\n",
    "\n",
    "* **Packages:**\n",
    "    * Definition: A package is a collection of Python modules under a common namespace (typically a directory with a file named `__init__.py`). Packages allow for a hierarchical structuring of the module namespace.\n",
    "    * Usage: Packages are used to organize modules in a structured way, making it easier to manage and use complex code bases. You can import specific modules from a package.\n",
    "\n",
    "* **Libraries:**\n",
    "    * Definition: A library is a collection of modules and packages that offer a wide range of functionalities without dictating the application structure. Libraries usually provide APIs for tasks like file manipulation, network communication, and data analysis.\n",
    "    * Usage: You can include libraries in your projects to leverage existing solutions for common problems, thus reducing the amount of code you need to write. Examples include NumPy for numerical computations and Requests for HTTP requests.\n",
    "\n",
    "* **Frameworks:**\n",
    "    * Definition: A framework is a comprehensive codebase that dictates the structure of your application. It provides a foundation on which software developers can build programs for a specific platform. Frameworks often include libraries and APIs to streamline the development of applications.\n",
    "    * Usage: Frameworks are used when developing complex applications with standard structures and patterns. They provide tools and libraries to handle common tasks and encourage best practices. An example is [Django](https://www.djangoproject.com/), a high-level framework for web development in Python.\n",
    "\n",
    "In summary, modules and packages are about code organization and reuse at a lower level, allowing you to structure your Python code efficiently. Libraries provide sets of pre-written code snippets and functionalities to solve common programming tasks, enhancing productivity. Frameworks offer a more comprehensive solution, including libraries and tools to structure your entire application, enforcing a particular way of doing things while significantly speeding up the development process."
   ]
  },
  {
   "cell_type": "markdown",
   "metadata": {},
   "source": [
    "---"
   ]
  },
  {
   "cell_type": "markdown",
   "metadata": {},
   "source": [
    "### 👨‍💻 Practice tasks 5.3: Modules and Packages"
   ]
  },
  {
   "cell_type": "code",
   "execution_count": null,
   "metadata": {},
   "outputs": [],
   "source": [
    "# 1. Import the 'random' module and use it to generate a random number between 1 and 10\n",
    "# 2. Import the 'datetime' module and use it to print the current date and time\n",
    "# 3. Create a new Python file called 'my_module.py' with a function called 'greeting' that returns \"Hello from my_module!\"\n",
    "# 4. Import your 'my_module' and call its 'greeting' function\n",
    "# 5. Try to import a module that doesn't exist and use a try-except block to handle the ImportError"
   ]
  },
  {
   "cell_type": "code",
   "execution_count": null,
   "metadata": {},
   "outputs": [],
   "source": [
    "# 1. Import the 'random' module and use it to generate a random number between 1 and 10\n",
    "import random\n",
    "print(random.randint(1, 10))\n",
    "\n",
    "# 2. From the 'math' module, import only the 'pi' constant and the 'sqrt' function\n",
    "from math import pi, sqrt\n",
    "\n",
    "# 3. Use the imported 'pi' to calculate the area of a circle with radius 5\n",
    "radius = 5\n",
    "area = pi * radius ** 2\n",
    "print(f\"Area of circle: {area}\")\n",
    "\n",
    "# 4. Use the imported 'sqrt' function to calculate the square root of 16\n",
    "print(sqrt(16))\n",
    "\n",
    "# 5. Import the 'datetime' module and use it to print the current date and time\n",
    "import datetime\n",
    "print(datetime.datetime.now())\n",
    "\n",
    "# 6. Create a new Python file called 'my_module.py' with a function called 'greeting' that returns \"Hello from my_module!\"\n",
    "# In my_module.py:\n",
    "# def greeting():\n",
    "#     return \"Hello from my_module!\"\n",
    "\n",
    "# 7. Import your 'my_module' and call its 'greeting' function\n",
    "import my_module\n",
    "print(my_module.greeting())\n",
    "\n",
    "# 8. Try to import a module that doesn't exist and use a try-except block to handle the ImportError\n",
    "try:\n",
    "    import non_existent_module\n",
    "except ImportError:\n",
    "    print(\"The module does not exist!\")"
   ]
  },
  {
   "cell_type": "markdown",
   "metadata": {},
   "source": [
    "---"
   ]
  },
  {
   "cell_type": "markdown",
   "metadata": {},
   "source": [
    "## **Chapter 5.4:** Coding Challenge\n",
    "\n",
    "#### Stress and Strain Calculator (Part 4)\n",
    "\n",
    "**Objective:**\n",
    "\n",
    "Refine your understanding of Python functions by creating a function named `calculate_stress_strain`. \n",
    "\n",
    "This function will calculate the stress and strain on a material based on provided parameters. \n",
    "\n",
    "Through this exercise, you will practice defining functions, working with arguments, and returning results in a structured format.\n",
    "\n",
    "**Function Requirements:**\n",
    "\n",
    "* Function Name: `calculate_stress_strain`\n",
    "    * Arguments:\n",
    "        * `material_id (str):` A unique identifier for the material.\n",
    "        * `force (float):` The force applied to the material (in newtons).\n",
    "        * `area (float):` The cross-sectional area of the material (in square meters).\n",
    "        * `original_length (float):` The original length of the material (in meters).\n",
    "        * `change_in_length (float):` The change in length of the material (in meters).\n",
    "    * Returns: A `dictionary` containing the following keys:\n",
    "        * `Material ID:` The unique identifier for the material.\n",
    "        * `Force (N):` The applied force in newtons.\n",
    "        * `Area (m^2):` The cross-sectional area in square meters.\n",
    "        * `Stress (Pa):` The calculated stress in Pascals.\n",
    "        * `Original Length (m):` The original length of the material in meters.\n",
    "        * `Change in Length (m):` The change in length of the material in meters.\n",
    "        * `Strain:` The calculated strain (dimensionless).\n",
    "\n",
    "Task:\n",
    "\n",
    "Define the `calculate_stress_strain` function according to the specifications above. Then, test your function by calling it with example values and printing the returned dictionary to verify the calculations."
   ]
  },
  {
   "cell_type": "code",
   "execution_count": null,
   "metadata": {},
   "outputs": [],
   "source": [
    "def calculate_stress_strain(material_id, force, area, original_length, change_in_length) -> dict:\n",
    "    \"\"\"\n",
    "    Calculate stress and strain for a given material.\n",
    "    \"\"\"\n",
    "    stress = force / area\n",
    "    strain = change_in_length / original_length\n",
    "    return {\n",
    "        \"Material ID\": material_id,\n",
    "        \"Force (N)\": force,\n",
    "        \"Area (m^2)\": area,\n",
    "        \"Stress (Pa)\": stress,\n",
    "        \"Original Length (m)\": original_length,\n",
    "        \"Change in Length (m)\": change_in_length,\n",
    "        \"Strain\": strain\n",
    "    }\n",
    "\n",
    "# Example usage\n",
    "result = calculate_stress_strain(\"Material-001\", 500, 0.05, 10, 0.01)\n",
    "print(result)\n"
   ]
  },
  {
   "cell_type": "markdown",
   "metadata": {},
   "source": [
    "[--> Back to Outline](#course-outline)\n",
    "\n",
    "---\n"
   ]
  }
 ],
 "metadata": {
  "language_info": {
   "name": "python"
  }
 },
 "nbformat": 4,
 "nbformat_minor": 2
}
