{
 "cells": [
  {
   "cell_type": "markdown",
   "metadata": {},
   "source": [
    "# **Chapter 5:** Functions \n",
    "\n",
    "## Introduction \n",
    "\n",
    "In this chapter, we'll dive into functions, a fundamental building block of Python programming. Functions are reusable blocks of code designed to perform a specific task. They allow you to organize your code, make it more readable, and avoid repetition.\n",
    "\n",
    "Understanding functions is crucial as they form the foundation upon which more complex programming concepts are built. By the end of this chapter, you'll have a solid grasp of how to create and use functions in Python, enabling you to write more efficient and maintainable code.\n",
    "\n",
    "## Chapter outline\n",
    "\n",
    "**5.1 Function Basics**\n",
    "\n",
    "* Defining and calling functions\n",
    "* Function parameters and arguments\n",
    "* Return statements\n",
    "* Variable scope and lifetime\n",
    "\n",
    "**5.2 Function Arguments**\n",
    "\n",
    "**5.3 Advanced Function Concepts**\n",
    "\n",
    "**5.4 Function Best Practices**\n",
    "\n",
    "**5.5 Coding Challenge**\n",
    "\n",
    "Each section will include explanations, examples, and hands-on practice tasks to reinforce your learning. Remember, programming is a skill best learned by doing, so don't hesitate to experiment with the code and try your own variations!\n",
    "\n",
    "Let's begin our journey into Python functions!"
   ]
  },
  {
   "cell_type": "markdown",
   "metadata": {},
   "source": [
    "---\n",
    "---"
   ]
  },
  {
   "cell_type": "markdown",
   "metadata": {},
   "source": [
    "## **Chapter 5.1:** Defining Functions\n",
    "\n",
    "Functions are the building blocks of Python programming, allowing you to encapsulate tasks into reusable units. Think of a function as a small machine that takes in some input, performs an operation, and then outputs the result.\n",
    "\n",
    "### Defining and Calling Functions\n",
    "\n",
    "In Python, you define a **function** using the `def` keyword, followed by the function name and a pair of parentheses `()`. The code block within every function starts with a colon `:` and is indented.\n",
    "\n",
    "Here's a simple function that prints a greeting:"
   ]
  },
  {
   "cell_type": "code",
   "execution_count": 36,
   "metadata": {},
   "outputs": [
    {
     "name": "stdout",
     "output_type": "stream",
     "text": [
      "Hello, World!\n"
     ]
    }
   ],
   "source": [
    "def greet():\n",
    "    print(\"Hello, World!\")\n",
    "\n",
    "# Calling the function\n",
    "greet()"
   ]
  },
  {
   "cell_type": "markdown",
   "metadata": {},
   "source": [
    "In the example above, `greet` is a function that takes no parameters and simply prints a greeting message."
   ]
  },
  {
   "cell_type": "markdown",
   "metadata": {},
   "source": [
    "### Function Parameters and Arguments\n",
    "\n",
    "Functions can take *parameters*, which are variables that hold values passed to the function when it's called. These values are called **arguments**."
   ]
  },
  {
   "cell_type": "code",
   "execution_count": 37,
   "metadata": {},
   "outputs": [
    {
     "name": "stdout",
     "output_type": "stream",
     "text": [
      "Hello, Alice!\n",
      "Hello, Bob!\n"
     ]
    }
   ],
   "source": [
    "def greet(name):\n",
    "    print(f\"Hello, {name}!\")\n",
    "\n",
    "# Calling the function with an argument\n",
    "greet(\"Alice\")\n",
    "greet(\"Bob\")"
   ]
  },
  {
   "cell_type": "markdown",
   "metadata": {},
   "source": [
    "### Return Statements\n",
    "\n",
    "Functions can **return** values using the `return` statement. This allows a function to produce a result that can be used elsewhere in your code."
   ]
  },
  {
   "cell_type": "code",
   "execution_count": 38,
   "metadata": {},
   "outputs": [
    {
     "name": "stdout",
     "output_type": "stream",
     "text": [
      "The sum is: 8\n"
     ]
    }
   ],
   "source": [
    "def add(a, b):\n",
    "    return a + b\n",
    "\n",
    "result = add(3, 5)\n",
    "print(f\"The sum is: {result}\")"
   ]
  },
  {
   "cell_type": "markdown",
   "metadata": {},
   "source": [
    "### Variable Scope and Lifetime\n",
    "\n",
    "Variables defined inside a function have a local scope, meaning they can only be accessed within that function. Variables defined outside of any function have a global scope and can be accessed throughout the program."
   ]
  },
  {
   "cell_type": "code",
   "execution_count": 39,
   "metadata": {},
   "outputs": [
    {
     "name": "stdout",
     "output_type": "stream",
     "text": [
      "Local x: 20\n",
      "Global x: 10\n"
     ]
    }
   ],
   "source": [
    "x = 10  # Global variable\n",
    "\n",
    "def print_x():\n",
    "    x = 20  # Local variable\n",
    "    print(f\"Local x: {x}\")\n",
    "\n",
    "print_x()\n",
    "print(f\"Global x: {x}\")"
   ]
  },
  {
   "cell_type": "markdown",
   "metadata": {},
   "source": [
    "In this example, the `x` inside the function is a different variable from the global `x`."
   ]
  },
  {
   "cell_type": "markdown",
   "metadata": {},
   "source": [
    "---"
   ]
  },
  {
   "cell_type": "markdown",
   "metadata": {},
   "source": [
    "## 👨‍💻 Practice tasks 5.1: Creating and Using Functions\n",
    "\n",
    "Now it's time to put what you've learned into practice. Complete the following tasks in a new code cell in your Jupyter Notebook:\n",
    "\n",
    "**Basic function creation:**\n",
    "\n",
    "1. Write a function called `calculate_area` that takes the radius of a circle as a parameter and returns the area of the circle. (Hint: The formula for the area of a circle is π * r^2. You can use 3.14 for π.)\n",
    "\n",
    "2. Write a function called `is_even` that takes a number as a parameter and returns `True` if the number is even, and `False` if it's odd.\n",
    "\n",
    "3. Create a function called `print_n_times` that takes two parameters: a string and a number. The function should print the string the specified number of times.\n",
    "\n",
    "**Functions that return values:**\n",
    "\n",
    "4. Write a function called `absolute_value` that takes a number as a parameter and returns its absolute value. (*Hint:* The absolute value of a number is the number without its sign.)\n",
    "\n",
    "5. Create a function called `combine_strings` that takes two strings as parameters and returns them combined with a space in between.\n",
    "\n",
    "Try completing these tasks on your own. If you get stuck, don't hesitate to refer back to the earlier sections or ask for help. Remember, in Jupyter Notebooks, you can run each cell individually to check your work as you go.\n",
    "\n",
    "After you've completed the tasks, run your cells and verify that all the functions work as expected. This exercise will reinforce your understanding of creating functions, working with parameters, and returning values in Python."
   ]
  },
  {
   "cell_type": "markdown",
   "metadata": {},
   "source": [
    "*Basic function creation:*"
   ]
  },
  {
   "cell_type": "code",
   "execution_count": 40,
   "metadata": {},
   "outputs": [],
   "source": [
    "# 1. Calculate area of a circle\n"
   ]
  },
  {
   "cell_type": "code",
   "execution_count": 41,
   "metadata": {},
   "outputs": [],
   "source": [
    "# 2. Check if a number is even\n"
   ]
  },
  {
   "cell_type": "code",
   "execution_count": 42,
   "metadata": {},
   "outputs": [],
   "source": [
    "# 3. Print a string multiple times\n"
   ]
  },
  {
   "cell_type": "markdown",
   "metadata": {},
   "source": [
    "*Functions that return values:*"
   ]
  },
  {
   "cell_type": "code",
   "execution_count": 43,
   "metadata": {},
   "outputs": [],
   "source": [
    "# 4. Return the absolute value of a number\n"
   ]
  },
  {
   "cell_type": "code",
   "execution_count": 44,
   "metadata": {},
   "outputs": [],
   "source": [
    "# 5. Combine two strings and return the result\n"
   ]
  },
  {
   "cell_type": "markdown",
   "metadata": {},
   "source": [
    "---"
   ]
  },
  {
   "cell_type": "markdown",
   "metadata": {},
   "source": [
    "## **Chapter 5.2:** Function Arguments\n",
    "\n",
    "Arguments are the values you pass into the function when you call it. Python offers flexibility in how arguments can be passed to functions, catering to various scenarios.\n",
    "\n",
    "* **Positional Arguments:** These are arguments that need to be in order based on the function's definition. The first argument fills the first parameter, the second fills the second, and so on.\n",
    "\n",
    "* **Keyword Arguments:** Allow you to specify arguments by the parameter name, making your function calls more readable and allowing you to skip certain default parameters.\n",
    "\n",
    "* **Default Parameters:** You can assign default values to parameters, making them optional during a function call.\n",
    "\n",
    "### Positional Arguments\n",
    "\n",
    "Positional arguments are the most basic way to pass information to functions. They are matched in order with the parameters defined in the function."
   ]
  },
  {
   "cell_type": "code",
   "execution_count": 45,
   "metadata": {},
   "outputs": [
    {
     "name": "stdout",
     "output_type": "stream",
     "text": [
      "I have a dog named Buddy.\n",
      "I have a cat named Whiskers.\n"
     ]
    }
   ],
   "source": [
    "def describe_pet(animal_type, pet_name):\n",
    "    print(f\"I have a {animal_type} named {pet_name}.\")\n",
    "\n",
    "describe_pet(\"dog\", \"Buddy\")\n",
    "describe_pet(\"cat\", \"Whiskers\")"
   ]
  },
  {
   "cell_type": "markdown",
   "metadata": {},
   "source": [
    "### Keyword Arguments\n",
    "\n",
    "Keyword arguments allow you to specify which parameter each argument corresponds to in the function call. This can make your code more readable and allows you to skip positional ordering."
   ]
  },
  {
   "cell_type": "code",
   "execution_count": 46,
   "metadata": {},
   "outputs": [
    {
     "name": "stdout",
     "output_type": "stream",
     "text": [
      "I have a hamster named Fuzzy.\n",
      "I have a parrot named Polly.\n"
     ]
    }
   ],
   "source": [
    "def describe_pet(animal_type, pet_name):\n",
    "    print(f\"I have a {animal_type} named {pet_name}.\")\n",
    "\n",
    "describe_pet(animal_type=\"hamster\", pet_name=\"Fuzzy\")\n",
    "describe_pet(pet_name=\"Polly\", animal_type=\"parrot\")"
   ]
  },
  {
   "cell_type": "markdown",
   "metadata": {},
   "source": [
    "### Default Arguments\n",
    "\n",
    "You can define default values for parameters, which will be used if the function is called without specifying that argument."
   ]
  },
  {
   "cell_type": "code",
   "execution_count": 47,
   "metadata": {},
   "outputs": [
    {
     "name": "stdout",
     "output_type": "stream",
     "text": [
      "Hello, Alice!\n",
      "Hi, Bob!\n"
     ]
    }
   ],
   "source": [
    "def greet(name, greeting=\"Hello\"):\n",
    "    print(f\"{greeting}, {name}!\")\n",
    "\n",
    "greet(\"Alice\")\n",
    "greet(\"Bob\", \"Hi\")"
   ]
  },
  {
   "cell_type": "markdown",
   "metadata": {},
   "source": [
    "### Variable-Length Arguments (`*args` and `**kwargs`)\n",
    "\n",
    "Sometimes, you might want to pass a varying number of arguments to a function. Python provides two special syntaxes for these cases.\n",
    "\n",
    "***args (Arbitrary Positional Arguments)**\n",
    "\n",
    "The `*args` syntax allows a function to accept any number of positional arguments."
   ]
  },
  {
   "cell_type": "code",
   "execution_count": 48,
   "metadata": {},
   "outputs": [
    {
     "name": "stdout",
     "output_type": "stream",
     "text": [
      "apple\n",
      "banana\n",
      "cherry\n"
     ]
    }
   ],
   "source": [
    "def print_args(*args):\n",
    "    for arg in args:\n",
    "        print(arg)\n",
    "\n",
    "print_args(\"apple\", \"banana\", \"cherry\")"
   ]
  },
  {
   "cell_type": "markdown",
   "metadata": {},
   "source": [
    "****kwargs (Arbitrary Keyword Arguments)**\n",
    "\n",
    "The `**kwargs` syntax allows a function to accept any number of keyword arguments."
   ]
  },
  {
   "cell_type": "code",
   "execution_count": 49,
   "metadata": {},
   "outputs": [
    {
     "name": "stdout",
     "output_type": "stream",
     "text": [
      "fruit: apple\n",
      "vegetable: carrot\n",
      "grain: wheat\n"
     ]
    }
   ],
   "source": [
    "def print_kwargs(**kwargs):\n",
    "    for key, value in kwargs.items():\n",
    "        print(f\"{key}: {value}\")\n",
    "\n",
    "print_kwargs(fruit=\"apple\", vegetable=\"carrot\", grain=\"wheat\")"
   ]
  },
  {
   "cell_type": "markdown",
   "metadata": {},
   "source": [
    "### Combining Different Types of Arguments\n",
    "\n",
    "You can use all these types of arguments in a single function definition. \n",
    "\n",
    "The order matters: \n",
    "1. **positional arguments** first, \n",
    "2. then `*args`, \n",
    "3. then **default arguments**, \n",
    "4. and finally `**kwargs`."
   ]
  },
  {
   "cell_type": "code",
   "execution_count": 50,
   "metadata": {},
   "outputs": [
    {
     "name": "stdout",
     "output_type": "stream",
     "text": [
      "Positional: 1, 2\n",
      "Args: (3, 4, 5)\n",
      "Default: custom\n",
      "Kwargs: {'key1': 'value1', 'key2': 'value2'}\n"
     ]
    }
   ],
   "source": [
    "def example_function(pos1, pos2, *args, default1=\"default\", **kwargs):\n",
    "    print(f\"Positional: {pos1}, {pos2}\")\n",
    "    print(f\"Args: {args}\")\n",
    "    print(f\"Default: {default1}\")\n",
    "    print(f\"Kwargs: {kwargs}\")\n",
    "\n",
    "example_function(1, 2, 3, 4, 5, default1=\"custom\", key1=\"value1\", key2=\"value2\")"
   ]
  },
  {
   "cell_type": "markdown",
   "metadata": {},
   "source": [
    "---"
   ]
  },
  {
   "cell_type": "markdown",
   "metadata": {},
   "source": [
    "## 👨‍💻 Practice tasks 5.2: Function Arguments\n",
    "\n",
    "Now it's time to apply what you've learned about function arguments. Complete the following tasks in a new code cell in your Jupyter Notebook:\n",
    "\n",
    "**Working with different types of arguments:**\n",
    "\n",
    "1. Write a function called `calculate_total` that takes a variable number of prices and returns their sum. Use *args to accomplish this.\n",
    "\n",
    "2. Create a function called `create_profile` that takes name and age as required arguments, and accepts additional arbitrary keyword arguments. The function should print out a person's profile.\n",
    "\n",
    "3. Modify the `describe_pet` function from earlier to have a default animal type of \"dog\". Then call the function in three different ways:\n",
    "    * With just a pet name\n",
    "    * With a pet name and animal type as positional arguments\n",
    "    * With a pet name and animal type as keyword arguments\n",
    "\n",
    "**Combining different argument types:**\n",
    "\n",
    "4. Write a function called `print_info` that takes two required arguments (`name` and `age`), one default argument (`city=\"Unknown\"`), and any number of additional keyword arguments. The function should print out all the information.\n",
    "\n",
    "5. Create a function called `calculate_discount` that takes the original price as a required argument and a discount percentage as an optional argument (default to `10%`). The function should return the discounted price.\n",
    "\n",
    "Try completing these tasks on your own. These exercises will help you practice using different types of function arguments. If you get stuck, don't hesitate to ask for help or refer back to the examples in this section.\n",
    "\n",
    "After you've completed the tasks, run your cells and verify that all the functions work as expected with different types of arguments. This exercise will reinforce your understanding of working with various argument types in Python functions."
   ]
  },
  {
   "cell_type": "markdown",
   "metadata": {},
   "source": [
    "---"
   ]
  },
  {
   "cell_type": "markdown",
   "metadata": {},
   "source": [
    "*Working with different types of arguments:*"
   ]
  },
  {
   "cell_type": "code",
   "execution_count": 51,
   "metadata": {},
   "outputs": [
    {
     "name": "stdout",
     "output_type": "stream",
     "text": [
      "60\n",
      "40.0\n"
     ]
    }
   ],
   "source": [
    "# 1. Calculate total using *args\n",
    "def calculate_total(*args):\n",
    "    # Sum a variable number of prices\n",
    "    return sum(args)\n",
    "\n",
    "print(calculate_total(10, 20, 30))  # Output: 60\n",
    "print(calculate_total(15.5, 24.5))  # Output: 40.0"
   ]
  },
  {
   "cell_type": "code",
   "execution_count": 52,
   "metadata": {},
   "outputs": [
    {
     "name": "stdout",
     "output_type": "stream",
     "text": [
      "Name: Alice, Age: 30, occupation: Engineer, city: New York\n"
     ]
    }
   ],
   "source": [
    "# 2. Create a profile with arbitrary keyword arguments\n",
    "def create_profile(name, age, **kwargs):\n",
    "    # Create and print a person's profile\n",
    "    profile = f\"Name: {name}, Age: {age}\"\n",
    "    for key, value in kwargs.items():\n",
    "        profile += f\", {key}: {value}\"\n",
    "    print(profile)\n",
    "\n",
    "create_profile(\"Alice\", 30, occupation=\"Engineer\", city=\"New York\")\n",
    "# Output: Name: Alice, Age: 30, occupation: Engineer, city: New York\n"
   ]
  },
  {
   "cell_type": "code",
   "execution_count": 53,
   "metadata": {},
   "outputs": [
    {
     "name": "stdout",
     "output_type": "stream",
     "text": [
      "I have a dog named Buddy.\n",
      "I have a cat named Whiskers.\n",
      "I have a lizard named Rex.\n"
     ]
    }
   ],
   "source": [
    "# 3. Modify describe_pet function with default argument\n",
    "def describe_pet(pet_name, animal_type=\"dog\"):\n",
    "    # Describe a pet with a default animal type\n",
    "    print(f\"I have a {animal_type} named {pet_name}.\")\n",
    "\n",
    "describe_pet(\"Buddy\")  # Output: I have a dog named Buddy.\n",
    "describe_pet(\"Whiskers\", \"cat\")  # Output: I have a cat named Whiskers.\n",
    "describe_pet(pet_name=\"Rex\", animal_type=\"lizard\")  # Output: I have a lizard named Rex."
   ]
  },
  {
   "cell_type": "markdown",
   "metadata": {},
   "source": [
    "*Combining different argument types:*"
   ]
  },
  {
   "cell_type": "code",
   "execution_count": 54,
   "metadata": {},
   "outputs": [
    {
     "name": "stdout",
     "output_type": "stream",
     "text": [
      "Name: Bob, Age: 25, City: Unknown, hobby: painting, job: artist\n"
     ]
    }
   ],
   "source": [
    "# 4. Print info with multiple argument types\n",
    "def print_info(name, age, city=\"Unknown\", **kwargs):\n",
    "    # Print person's info with various argument types\n",
    "    info = f\"Name: {name}, Age: {age}, City: {city}\"\n",
    "    for key, value in kwargs.items():\n",
    "        info += f\", {key}: {value}\"\n",
    "    print(info)\n",
    "\n",
    "print_info(\"Bob\", 25, hobby=\"painting\", job=\"artist\")\n",
    "# Output: Name: Bob, Age: 25, City: Unknown, hobby: painting, job: artist"
   ]
  },
  {
   "cell_type": "code",
   "execution_count": 55,
   "metadata": {},
   "outputs": [
    {
     "name": "stdout",
     "output_type": "stream",
     "text": [
      "90.0\n",
      "80.0\n"
     ]
    }
   ],
   "source": [
    "# 5. Calculate discount with optional argument\n",
    "def calculate_discount(price, discount_percent=10):\n",
    "    # Calculate discounted price\n",
    "    discount = price * (discount_percent / 100)\n",
    "    return price - discount\n",
    "\n",
    "print(calculate_discount(100))  # Output: 90.0\n",
    "print(calculate_discount(100, 20))  # Output: 80.0"
   ]
  },
  {
   "cell_type": "markdown",
   "metadata": {},
   "source": [
    "---"
   ]
  },
  {
   "cell_type": "markdown",
   "metadata": {},
   "source": [
    "## 5.3 Advanced Function Concepts\n",
    "\n",
    "In this section, we'll explore more advanced concepts related to functions in Python. These concepts will allow you to write more sophisticated and flexible code.\n",
    "\n",
    "### Lambda Functions *(Anonymous Functions)*\n",
    "\n",
    "Lambda functions are small, anonymous functions that can have any number of arguments but can only have one expression. \n",
    "\n",
    "They are useful for creating quick, one-time-use functions."
   ]
  },
  {
   "cell_type": "code",
   "execution_count": 56,
   "metadata": {},
   "outputs": [
    {
     "name": "stdout",
     "output_type": "stream",
     "text": [
      "16\n",
      "16\n"
     ]
    }
   ],
   "source": [
    "# Regular function\n",
    "def square(x):\n",
    "    return x ** 2\n",
    "\n",
    "# Equivalent lambda function\n",
    "square_lambda = lambda x: x ** 2\n",
    "\n",
    "print(square(4))        # Output: 16\n",
    "print(square_lambda(4)) # Output: 16"
   ]
  },
  {
   "cell_type": "markdown",
   "metadata": {},
   "source": [
    "### Recursive Functions\n",
    "\n",
    "A recursive function is a function that calls itself. It's useful for tasks that can be broken down into smaller, similar subtasks."
   ]
  },
  {
   "cell_type": "code",
   "execution_count": 57,
   "metadata": {},
   "outputs": [
    {
     "name": "stdout",
     "output_type": "stream",
     "text": [
      "120\n"
     ]
    }
   ],
   "source": [
    "def factorial(n):\n",
    "    if n == 0 or n == 1:\n",
    "        return 1\n",
    "    else:\n",
    "        return n * factorial(n - 1)\n",
    "\n",
    "print(factorial(5))  # Output: 120"
   ]
  },
  {
   "cell_type": "markdown",
   "metadata": {},
   "source": [
    "### Function Documentation (Docstrings)\n",
    "\n",
    "Docstrings are used to document functions. They are enclosed in triple quotes `\"\"\"` and should describe what the function does, its parameters, and what it returns."
   ]
  },
  {
   "cell_type": "code",
   "execution_count": 58,
   "metadata": {},
   "outputs": [
    {
     "name": "stdout",
     "output_type": "stream",
     "text": [
      "\n",
      "    Calculate the area of a circle.\n",
      "    \n",
      "    Args:\n",
      "    radius (float): The radius of the circle.\n",
      "    \n",
      "    Returns:\n",
      "    float: The area of the circle.\n",
      "    \n",
      "78.53981633974483\n"
     ]
    }
   ],
   "source": [
    "def calculate_area(radius):\n",
    "    \"\"\"\n",
    "    Calculate the area of a circle.\n",
    "    \n",
    "    Args:\n",
    "    radius (float): The radius of the circle.\n",
    "    \n",
    "    Returns:\n",
    "    float: The area of the circle.\n",
    "    \"\"\"\n",
    "    import math\n",
    "    return math.pi * radius ** 2\n",
    "\n",
    "# Accessing the docstring\n",
    "print(calculate_area.__doc__)\n",
    "\n",
    "# Using the function\n",
    "print(calculate_area(5))  # Output: 78.53981633974483"
   ]
  },
  {
   "cell_type": "markdown",
   "metadata": {},
   "source": [
    "### Higher-Order Functions\n",
    "\n",
    "Higher-order functions are functions that can accept other functions as arguments or return functions."
   ]
  },
  {
   "cell_type": "code",
   "execution_count": 59,
   "metadata": {},
   "outputs": [
    {
     "name": "stdout",
     "output_type": "stream",
     "text": [
      "8\n",
      "15\n",
      "10\n",
      "15\n"
     ]
    }
   ],
   "source": [
    "def apply_operation(x, y, operation):\n",
    "    return operation(x, y)\n",
    "\n",
    "def add(a, b):\n",
    "    return a + b\n",
    "\n",
    "def multiply(a, b):\n",
    "    return a * b\n",
    "\n",
    "print(apply_operation(5, 3, add))      # Output: 8\n",
    "print(apply_operation(5, 3, multiply)) # Output: 15\n",
    "\n",
    "# Returning a function\n",
    "def create_multiplier(factor):\n",
    "    def multiplier(x):\n",
    "        return x * factor\n",
    "    return multiplier\n",
    "\n",
    "double = create_multiplier(2)\n",
    "triple = create_multiplier(3)\n",
    "\n",
    "print(double(5))  # Output: 10\n",
    "print(triple(5))  # Output: 15"
   ]
  },
  {
   "cell_type": "markdown",
   "metadata": {},
   "source": [
    "### Closures\n",
    "\n",
    "A closure is a function object that remembers values in enclosing scopes even if they are not present in memory."
   ]
  },
  {
   "cell_type": "code",
   "execution_count": 60,
   "metadata": {},
   "outputs": [
    {
     "name": "stdout",
     "output_type": "stream",
     "text": [
      "8\n",
      "12\n"
     ]
    }
   ],
   "source": [
    "def outer_function(x):\n",
    "    def inner_function(y):\n",
    "        return x + y\n",
    "    return inner_function\n",
    "\n",
    "add_5 = outer_function(5)\n",
    "print(add_5(3))  # Output: 8\n",
    "print(add_5(7))  # Output: 12"
   ]
  },
  {
   "cell_type": "markdown",
   "metadata": {},
   "source": [
    "---"
   ]
  },
  {
   "cell_type": "markdown",
   "metadata": {},
   "source": [
    "## 👨‍💻 Practice tasks 5.3: Advanced Function Concepts\n",
    "\n",
    "Now it's time to apply what you've learned about advanced function concepts. \n",
    "\n",
    "Complete the following tasks in a new code cell in your Jupyter Notebook:\n",
    "\n",
    "**Lambda functions and higher-order functions:**\n",
    "\n",
    "1. Write a lambda function that takes two parameters and returns their product. Use this lambda function with the `map()` function to multiply each element in a list by `2`.\n",
    "\n",
    "2. Create a higher-order function called `apply_operation` that takes a function and two numbers as arguments. It should apply the function to the two numbers and return the result. Test it with addition and multiplication functions.\n",
    "\n",
    "**Recursive functions:**\n",
    "\n",
    "3. Create a recursive function to calculate the nth Fibonacci number. (Hint: The Fibonacci sequence is 0, 1, 1, 2, 3, 5, 8, ..., where each number is the sum of the two preceding ones.)\n",
    "\n",
    "**Function documentation:**\n",
    "\n",
    "4. Write a function called `calculate_bmi` that takes `weight` (in kg) and `height` (in m) as parameters and returns the Body Mass Index (BMI). Include a proper docstring with a description, parameters, return value, and an example.\n",
    "\n",
    "**Closures:**\n",
    "\n",
    "5. Create a function called `create_multiplier` that takes a number n as an argument and returns a function. The returned function should take another number as an argument and return the product of this number and n.\n",
    "\n",
    "Try completing these tasks on your own. These exercises will help you practice using advanced function concepts. If you get stuck, don't hesitate to ask for help or refer back to the examples in this section.\n",
    "\n",
    "After you've completed the tasks, run your cells and verify that all the functions work as expected. This exercise will reinforce your understanding of lambda functions, recursive functions, function documentation, type hints, and closures in Python."
   ]
  },
  {
   "cell_type": "markdown",
   "metadata": {},
   "source": [
    "*Lambda functions and higher-order functions:*"
   ]
  },
  {
   "cell_type": "code",
   "execution_count": 61,
   "metadata": {},
   "outputs": [],
   "source": [
    "# 1. Lambda function with map()\n"
   ]
  },
  {
   "cell_type": "code",
   "execution_count": 62,
   "metadata": {},
   "outputs": [],
   "source": [
    "# 2. Higher-order function\n"
   ]
  },
  {
   "cell_type": "markdown",
   "metadata": {},
   "source": [
    "*Recursive functions:*"
   ]
  },
  {
   "cell_type": "code",
   "execution_count": 63,
   "metadata": {},
   "outputs": [],
   "source": [
    "# 3. Recursive Fibonacci function\n"
   ]
  },
  {
   "cell_type": "markdown",
   "metadata": {},
   "source": [
    "*Function documentation and type hints:*"
   ]
  },
  {
   "cell_type": "code",
   "execution_count": 64,
   "metadata": {},
   "outputs": [],
   "source": [
    "# 4. Function with docstring and type hints\n"
   ]
  },
  {
   "cell_type": "markdown",
   "metadata": {},
   "source": [
    "*Closures:*"
   ]
  },
  {
   "cell_type": "code",
   "execution_count": 65,
   "metadata": {},
   "outputs": [],
   "source": [
    "# 5. Closure\n"
   ]
  },
  {
   "cell_type": "markdown",
   "metadata": {},
   "source": [
    "---"
   ]
  },
  {
   "cell_type": "markdown",
   "metadata": {},
   "source": [
    "## 5.4 Function Best Practices\n",
    "\n",
    "In this section, we'll discuss best practices for writing functions in Python. Following these guidelines will help you write cleaner, more efficient, and more maintainable code.\n",
    "\n",
    "### Writing Clean and Efficient Functions\n",
    "\n",
    "* **Keep functions focused (Single Responsibility Principle):** Each function should do one thing and do it well."
   ]
  },
  {
   "cell_type": "code",
   "execution_count": 66,
   "metadata": {},
   "outputs": [],
   "source": [
    "# Bad practice\n",
    "def process_data(data):\n",
    "    # Loads data, processes it, and saves results\n",
    "    pass\n",
    "\n",
    "# Good practice\n",
    "def load_data(file_path):\n",
    "    # Loads data\n",
    "    pass\n",
    "\n",
    "def process_data(data):\n",
    "    # Processes data\n",
    "    pass\n",
    "\n",
    "def save_results(results, file_path):\n",
    "    # Saves results\n",
    "    pass"
   ]
  },
  {
   "cell_type": "markdown",
   "metadata": {},
   "source": [
    "* **Use descriptive names:** Function names should clearly indicate what the function does."
   ]
  },
  {
   "cell_type": "code",
   "execution_count": 67,
   "metadata": {},
   "outputs": [],
   "source": [
    "# Bad practice\n",
    "def f(x, y):\n",
    "    return x + y\n",
    "\n",
    "# Good practice\n",
    "def add_numbers(x, y):\n",
    "    return x + y"
   ]
  },
  {
   "cell_type": "markdown",
   "metadata": {},
   "source": [
    "3. **Limit the number of arguments:** Try to keep the number of parameters to a minimum. If a function needs many parameters, consider using a dictionary or creating a class."
   ]
  },
  {
   "cell_type": "code",
   "execution_count": 68,
   "metadata": {},
   "outputs": [],
   "source": [
    "# Bad practice\n",
    "def create_person(name, age, height, weight, occupation, nationality):\n",
    "    pass\n",
    "\n",
    "# Good practice\n",
    "def create_person(name, age, **additional_info):\n",
    "    person = {\"name\": name, \"age\": age}\n",
    "    person.update(additional_info)\n",
    "    return person"
   ]
  },
  {
   "cell_type": "markdown",
   "metadata": {},
   "source": [
    "* **Handling Errors and Exceptions in Functions:** Use try-except blocks to handle potential errors gracefully:"
   ]
  },
  {
   "cell_type": "code",
   "execution_count": 69,
   "metadata": {},
   "outputs": [
    {
     "name": "stdout",
     "output_type": "stream",
     "text": [
      "5.0\n",
      "Error: Division by zero!\n",
      "None\n"
     ]
    }
   ],
   "source": [
    "def divide_numbers(a, b):\n",
    "    try:\n",
    "        result = a / b\n",
    "    except ZeroDivisionError:\n",
    "        print(\"Error: Division by zero!\")\n",
    "        return None\n",
    "    else:\n",
    "        return result\n",
    "\n",
    "print(divide_numbers(10, 2))  # Output: 5.0\n",
    "print(divide_numbers(10, 0))  # Output: Error: Division by zero! None"
   ]
  },
  {
   "cell_type": "markdown",
   "metadata": {},
   "source": [
    "* **Documenting Functions:** Always include docstrings for your functions, especially for complex ones."
   ]
  },
  {
   "cell_type": "code",
   "execution_count": 70,
   "metadata": {},
   "outputs": [],
   "source": [
    "def calculate_bmi(weight: float, height: float) -> float:\n",
    "    \"\"\"\n",
    "    Calculate Body Mass Index (BMI).\n",
    "\n",
    "    Args:\n",
    "        weight (float): Weight in kilograms.\n",
    "        height (float): Height in meters.\n",
    "\n",
    "    Returns:\n",
    "        float: The calculated BMI.\n",
    "\n",
    "    Raises:\n",
    "        ValueError: If weight or height is negative or zero.\n",
    "    \"\"\"\n",
    "    if weight <= 0 or height <= 0:\n",
    "        raise ValueError(\"Weight and height must be positive numbers.\")\n",
    "    return weight / (height ** 2)"
   ]
  },
  {
   "cell_type": "markdown",
   "metadata": {},
   "source": [
    "---"
   ]
  },
  {
   "cell_type": "markdown",
   "metadata": {},
   "source": [
    "## **Chapter 5.4:** Coding Challenge\n",
    "\n",
    "#### Stress and Strain Calculator (Part 4)\n",
    "\n",
    "**Objective:**\n",
    "\n",
    "Refine your understanding of Python functions by creating a function named `calculate_stress_strain`. \n",
    "\n",
    "This function will calculate the stress and strain on a material based on provided parameters. \n",
    "\n",
    "Through this exercise, you will practice defining functions, working with arguments, and returning results in a structured format.\n",
    "\n",
    "**Function Requirements:**\n",
    "\n",
    "* Function Name: `calculate_stress_strain`\n",
    "    * Arguments:\n",
    "        * `material_id (str):` A unique identifier for the material.\n",
    "        * `force (float):` The force applied to the material (in newtons).\n",
    "        * `area (float):` The cross-sectional area of the material (in square meters).\n",
    "        * `original_length (float):` The original length of the material (in meters).\n",
    "        * `change_in_length (float):` The change in length of the material (in meters).\n",
    "    * Returns: A `dictionary` containing the following keys:\n",
    "        * `Material ID:` The unique identifier for the material.\n",
    "        * `Force (N):` The applied force in newtons.\n",
    "        * `Area (m^2):` The cross-sectional area in square meters.\n",
    "        * `Stress (Pa):` The calculated stress in Pascals.\n",
    "        * `Original Length (m):` The original length of the material in meters.\n",
    "        * `Change in Length (m):` The change in length of the material in meters.\n",
    "        * `Strain:` The calculated strain (dimensionless).\n",
    "\n",
    "Task:\n",
    "\n",
    "Define the `calculate_stress_strain` function according to the specifications above. Then, test your function by calling it with example values and printing the returned dictionary to verify the calculations."
   ]
  },
  {
   "cell_type": "code",
   "execution_count": 71,
   "metadata": {},
   "outputs": [
    {
     "name": "stdout",
     "output_type": "stream",
     "text": [
      "{'Material ID': 'Material-001', 'Force (N)': 500, 'Area (m^2)': 0.05, 'Stress (Pa)': 10000.0, 'Original Length (m)': 10, 'Change in Length (m)': 0.01, 'Strain': 0.001}\n"
     ]
    }
   ],
   "source": [
    "def calculate_stress_strain(material_id, force, area, original_length, change_in_length) -> dict:\n",
    "    \"\"\"\n",
    "    Calculate stress and strain for a given material.\n",
    "    \"\"\"\n",
    "    stress = force / area\n",
    "    strain = change_in_length / original_length\n",
    "    return {\n",
    "        \"Material ID\": material_id,\n",
    "        \"Force (N)\": force,\n",
    "        \"Area (m^2)\": area,\n",
    "        \"Stress (Pa)\": stress,\n",
    "        \"Original Length (m)\": original_length,\n",
    "        \"Change in Length (m)\": change_in_length,\n",
    "        \"Strain\": strain\n",
    "    }\n",
    "\n",
    "# Example usage\n",
    "result = calculate_stress_strain(\"Material-001\", 500, 0.05, 10, 0.01)\n",
    "print(result)\n"
   ]
  },
  {
   "cell_type": "markdown",
   "metadata": {},
   "source": [
    "[--> Back to Outline](#course-outline)\n",
    "\n",
    "---\n"
   ]
  }
 ],
 "metadata": {
  "kernelspec": {
   "display_name": "python_in_kassel",
   "language": "python",
   "name": "python3"
  },
  "language_info": {
   "codemirror_mode": {
    "name": "ipython",
    "version": 3
   },
   "file_extension": ".py",
   "mimetype": "text/x-python",
   "name": "python",
   "nbconvert_exporter": "python",
   "pygments_lexer": "ipython3",
   "version": "3.12.4"
  }
 },
 "nbformat": 4,
 "nbformat_minor": 2
}
