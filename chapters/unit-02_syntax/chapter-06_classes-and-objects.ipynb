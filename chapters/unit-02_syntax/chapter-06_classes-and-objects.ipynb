{
 "cells": [
  {
   "cell_type": "markdown",
   "metadata": {},
   "source": [
    "## **[6. Object-Oriented Programming](#6-object-oriented-programming)**\n",
    "\n",
    "Object-Oriented Programming (OOP) is a programming paradigm that uses `objects` to represent data and methods to manipulate that data. \n",
    "\n",
    "Python, being an *object-oriented programming language*, allows us to model real-world entities and relationships in a more intuitive way. \n",
    "\n",
    "This chapter will explore key OOP concepts such as classes, objects, inheritance, and polymorphism, using our stress and strain calculator as a case study."
   ]
  },
  {
   "cell_type": "markdown",
   "metadata": {},
   "source": [
    "### [6.1 Classes and Objects](#61-classes-and-objects)\n",
    "\n",
    "#### Overview\n",
    "\n",
    "At the heart of OOP are classes and objects. A class is a blueprint for creating objects (`instances`), providing initial values for state (`attributes`) and implementations of behavior (`methods`). An object is an instance of a class, created with specific data.\n",
    "\n",
    "#### Defining a Class\n",
    "\n",
    "Let's define a Material class for our stress and strain calculator. This class will represent different materials with unique attributes such as `material_id`, `force`, `area`, `original_length`, and `change_in_length`."
   ]
  },
  {
   "cell_type": "code",
   "execution_count": null,
   "metadata": {},
   "outputs": [],
   "source": [
    "class Material:\n",
    "    def __init__(self, material_id, force, area, original_length, change_in_length):\n",
    "        self.material_id = material_id\n",
    "        self.force = force\n",
    "        self.area = area\n",
    "        self.original_length = original_length\n",
    "        self.change_in_length = change_in_length"
   ]
  },
  {
   "cell_type": "markdown",
   "metadata": {},
   "source": [
    "#### Creating Objects\n",
    "\n",
    "To create an instance of a class, you call the class using class name and pass in the arguments that its `__init__` method accepts."
   ]
  },
  {
   "cell_type": "code",
   "execution_count": null,
   "metadata": {},
   "outputs": [],
   "source": [
    "# Creating an object of the Material class\n",
    "material_example = Material(\"A001\", 100, 0.05, 10, 0.01)\n",
    "\n",
    "print(material_example)"
   ]
  },
  {
   "cell_type": "markdown",
   "metadata": {},
   "source": [
    "### 👨‍💻 Practice tasks 6.1: Classes and Objects"
   ]
  },
  {
   "cell_type": "code",
   "execution_count": null,
   "metadata": {},
   "outputs": [],
   "source": [
    "# 1. Create a class called 'Car' with attributes for 'make', 'model', and 'year'\n",
    "# 2. Add a method to the Car class called 'describe' that prints out the car's attributes\n",
    "# 3. Create an instance of the Car class and call its 'describe' method\n",
    "# 4. Add a class attribute to Car called 'wheels' with a value of 4\n",
    "# 5. Create a method 'age' that returns how old the car is (assuming current year is 2024)\n",
    "# 6. Create several Car instances and experiment with their attributes and methods"
   ]
  },
  {
   "cell_type": "code",
   "execution_count": null,
   "metadata": {},
   "outputs": [],
   "source": [
    "# 1. Create a class called 'Car' with attributes for 'make', 'model', and 'year'\n",
    "class Car:\n",
    "    def __init__(self, make, model, year):\n",
    "        self.make = make\n",
    "        self.model = model\n",
    "        self.year = year\n",
    "\n",
    "# 2. Add a method to the Car class called 'describe' that prints out the car's attributes\n",
    "    def describe(self):\n",
    "        print(f\"This car is a {self.year} {self.make} {self.model}.\")\n",
    "\n",
    "# 3. Create an instance of the Car class and call its 'describe' method\n",
    "my_car = Car(\"Toyota\", \"Corolla\", 2020)\n",
    "my_car.describe()\n",
    "\n",
    "# 4. Add a class attribute to Car called 'wheels' with a value of 4\n",
    "Car.wheels = 4\n",
    "\n",
    "# 5. Create a method 'age' that returns how old the car is (assuming current year is 2024)\n",
    "import datetime\n",
    "class Car:\n",
    "    wheels = 4\n",
    "    def __init__(self, make, model, year):\n",
    "        self.make = make\n",
    "        self.model = model\n",
    "        self.year = year\n",
    "    \n",
    "    def describe(self):\n",
    "        print(f\"This car is a {self.year} {self.make} {self.model}.\")\n",
    "    \n",
    "    def age(self):\n",
    "        return datetime.datetime.now().year - self.year\n",
    "\n",
    "# 6. Create several Car instances and experiment with their attributes and methods\n",
    "car1 = Car(\"Honda\", \"Civic\", 2018)\n",
    "car2 = Car(\"Ford\", \"Mustang\", 2015)\n",
    "\n",
    "print(car1.age())\n",
    "print(Car.wheels)\n",
    "car2.describe()"
   ]
  },
  {
   "cell_type": "markdown",
   "metadata": {},
   "source": [
    "### [6.2 Inheritance and Polymorphism](#62-inheritance-and-polymorphism)\n",
    "\n",
    "#### Inheritance\n",
    "\n",
    "Inheritance allows us to define a class that inherits all the methods and properties from another class. The new class is called a `subclass`, and the class it inherits from is called its `superclass`.\n",
    "\n",
    "Let's create a `TestedMaterial` class that inherits from Material and adds a method to calculate stress and strain."
   ]
  },
  {
   "cell_type": "code",
   "execution_count": null,
   "metadata": {},
   "outputs": [],
   "source": [
    "class TestedMaterial(Material):\n",
    "    def calculate_stress(self):\n",
    "        return self.force / self.area\n",
    "\n",
    "    def calculate_strain(self):\n",
    "        return self.change_in_length / self.original_length"
   ]
  },
  {
   "cell_type": "markdown",
   "metadata": {},
   "source": [
    "#### Polymorphism\n",
    "\n",
    "Polymorphism allows us to define methods in the child class with the same name as defined in their parent class. \n",
    "\n",
    "Here, though, we'll use it to interact with objects of `Material` and `TestedMaterial` uniformly."
   ]
  },
  {
   "cell_type": "markdown",
   "metadata": {},
   "source": [
    "### 👨‍💻 Practice tasks 6.2: Inheritance and Polymorphism"
   ]
  },
  {
   "cell_type": "code",
   "execution_count": null,
   "metadata": {},
   "outputs": [],
   "source": [
    "# 1. Create a subclass of Car called 'ElectricCar'\n",
    "# 2. Add an attribute to ElectricCar for 'battery_size'\n",
    "# 3. Override the 'describe' method in ElectricCar to include battery size\n",
    "# 4. Create a method in ElectricCar called 'charge' that prints \"Charging...\"\n",
    "# 5. Create instances of both Car and ElectricCar and call their methods to see the differences\n",
    "# 6. Create a function that can take either a Car or ElectricCar object and call its 'describe' method"
   ]
  },
  {
   "cell_type": "code",
   "execution_count": null,
   "metadata": {},
   "outputs": [],
   "source": [
    "# 1. Create a subclass of Car called 'ElectricCar'\n",
    "class ElectricCar(Car):\n",
    "    pass\n",
    "\n",
    "# 2. Add an attribute to ElectricCar for 'battery_size'\n",
    "class ElectricCar(Car):\n",
    "    def __init__(self, make, model, year, battery_size):\n",
    "        super().__init__(make, model, year)\n",
    "        self.battery_size = battery_size\n",
    "\n",
    "# 3. Override the 'describe' method in ElectricCar to include battery size\n",
    "class ElectricCar(Car):\n",
    "    def __init__(self, make, model, year, battery_size):\n",
    "        super().__init__(make, model, year)\n",
    "        self.battery_size = battery_size\n",
    "    \n",
    "    def describe(self):\n",
    "        super().describe()\n",
    "        print(f\"It has a {self.battery_size} kWh battery.\")\n",
    "\n",
    "# 4. Create a method in ElectricCar called 'charge' that prints \"Charging...\"\n",
    "class ElectricCar(Car):\n",
    "    def __init__(self, make, model, year, battery_size):\n",
    "        super().__init__(make, model, year)\n",
    "        self.battery_size = battery_size\n",
    "    \n",
    "    def describe(self):\n",
    "        super().describe()\n",
    "        print(f\"It has a {self.battery_size} kWh battery.\")\n",
    "    \n",
    "    def charge(self):\n",
    "        print(\"Charging...\")\n",
    "\n",
    "# 5. Create instances of both Car and ElectricCar and call their methods to see the differences\n",
    "regular_car = Car(\"Toyota\", \"Camry\", 2022)\n",
    "electric_car = ElectricCar(\"Tesla\", \"Model 3\", 2023, 75)\n",
    "\n",
    "regular_car.describe()\n",
    "electric_car.describe()\n",
    "electric_car.charge()\n",
    "\n",
    "# 6. Create a function that can take either a Car or ElectricCar object and call its 'describe' method\n",
    "def describe_vehicle(vehicle):\n",
    "    vehicle.describe()\n",
    "\n",
    "describe_vehicle(regular_car)\n",
    "describe_vehicle(electric_car)"
   ]
  },
  {
   "cell_type": "markdown",
   "metadata": {},
   "source": [
    "### [6.3 Magic Methods and Decorators](#63-magic-methods-and-decorators)\n",
    "\n",
    "#### Magic Methods\n",
    "\n",
    "Magic methods in Python are the special methods which add *\"magic\"* to your class. They are easy to recognize because they start and end with double underscores, for example, `__init__` or `__str__`.\n",
    "\n",
    "Let's define a `__str__` method in our Material class to provide a friendly string representation."
   ]
  },
  {
   "cell_type": "code",
   "execution_count": null,
   "metadata": {},
   "outputs": [],
   "source": [
    "class Material:\n",
    "    def __init__(self, material_id, force, area, original_length, change_in_length):\n",
    "        self.material_id = material_id\n",
    "        self.force = force\n",
    "        self.area = area\n",
    "        self.original_length = original_length\n",
    "        self.change_in_length = change_in_length\n",
    "        \n",
    "    def __str__(self):\n",
    "        return f\"Material {self.material_id}: Force = {self.force}, Area = {self.area}\"\n",
    "    \n",
    "    \n",
    "# Creating an object of the Material class\n",
    "material_example = Material(\"A001\", 100, 0.05, 10, 0.01)\n",
    "\n",
    "print(material_example)"
   ]
  },
  {
   "cell_type": "markdown",
   "metadata": {},
   "source": [
    "#### Decorators\n",
    "\n",
    "Decorators provide a simple syntax for calling *higher-order functions*. \n",
    "\n",
    "A higher-order function takes one or more functions as arguments or returns one or more functions. A decorator takes in a function, adds some functionality, and returns it.\n",
    "\n",
    "Let's use a simple decorator to log calculations:"
   ]
  },
  {
   "cell_type": "code",
   "execution_count": null,
   "metadata": {},
   "outputs": [],
   "source": [
    "def log_calculation(func):\n",
    "    def wrapper(*args, **kwargs):\n",
    "        result = func(*args, **kwargs)\n",
    "        print(f\"Logging: {func.__name__} was called.\")\n",
    "        return result\n",
    "    return wrapper\n",
    "\n",
    "class TestedMaterial(Material):\n",
    "    @log_calculation\n",
    "    def calculate_stress(self):\n",
    "        return super().calculate_stress()\n",
    "\n",
    "    @log_calculation\n",
    "    def calculate_strain(self):\n",
    "        return super().calculate_strain()\n"
   ]
  },
  {
   "cell_type": "markdown",
   "metadata": {},
   "source": [
    "### 👨‍💻 Practice tasks 6.3: Magic Methods and Decorators\n"
   ]
  },
  {
   "cell_type": "code",
   "execution_count": null,
   "metadata": {},
   "outputs": [],
   "source": [
    "# 1. Add a __str__ method to your Car class that returns a string representation of the car\n",
    "# 2. Add a __len__ method to your Car class that returns the length of the model name\n",
    "# 3. Create a decorator called 'debug' that prints the method name and arguments whenever a method is called\n",
    "# 4. Apply your 'debug' decorator to the 'describe' method of your Car class\n",
    "# 5. Create a class method for Car that returns the number of wheels\n",
    "# 6. Create a static method for Car that takes two cars as arguments and returns the newer one"
   ]
  },
  {
   "cell_type": "code",
   "execution_count": null,
   "metadata": {},
   "outputs": [],
   "source": [
    "# 1. Add a __str__ method to your Car class that returns a string representation of the car\n",
    "class Car:\n",
    "    def __init__(self, make, model, year):\n",
    "        self.make = make\n",
    "        self.model = model\n",
    "        self.year = year\n",
    "    \n",
    "    def __str__(self):\n",
    "        return f\"{self.year} {self.make} {self.model}\"\n",
    "\n",
    "# 2. Add a __len__ method to your Car class that returns the length of the model name\n",
    "class Car:\n",
    "    def __init__(self, make, model, year):\n",
    "        self.make = make\n",
    "        self.model = model\n",
    "        self.year = year\n",
    "    \n",
    "    def __str__(self):\n",
    "        return f\"{self.year} {self.make} {self.model}\"\n",
    "    \n",
    "    def __len__(self):\n",
    "        return len(self.model)\n",
    "\n",
    "# 3. Create a decorator called 'debug' that prints the method name and arguments whenever a method is called\n",
    "def debug(func):\n",
    "    def wrapper(*args, **kwargs):\n",
    "        print(f\"Calling {func.__name__} with args: {args}, kwargs: {kwargs}\")\n",
    "        return func(*args, **kwargs)\n",
    "    return wrapper\n",
    "\n",
    "# 4. Apply your 'debug' decorator to the 'describe' method of your Car class\n",
    "class Car:\n",
    "    def __init__(self, make, model, year):\n",
    "        self.make = make\n",
    "        self.model = model\n",
    "        self.year = year\n",
    "    \n",
    "    @debug\n",
    "    def describe(self):\n",
    "        print(f\"This car is a {self.year} {self.make} {self.model}.\")\n",
    "\n",
    "# 5. Create a class method for Car that returns the number of wheels\n",
    "class Car:\n",
    "    wheels = 4\n",
    "    \n",
    "    @classmethod\n",
    "    def get_wheels(cls):\n",
    "        return cls.wheels\n",
    "\n",
    "# 6. Create a static method for Car that takes two cars as arguments and returns the newer one\n",
    "class Car:\n",
    "    @staticmethod\n",
    "    def get_newer_car(car1, car2):\n",
    "        return car1 if car1.year > car2.year else car2\n",
    "\n",
    "# Testing all the implementations\n",
    "car1 = Car(\"Toyota\", \"Corolla\", 2020)\n",
    "car2 = Car(\"Honda\", \"Civic\", 2018)\n",
    "\n",
    "print(str(car1))\n",
    "print(len(car1))\n",
    "car1.describe()\n",
    "print(Car.get_wheels())\n",
    "newer_car = Car.get_newer_car(car1, car2)\n",
    "print(f\"The newer car is: {newer_car}\")"
   ]
  },
  {
   "cell_type": "markdown",
   "metadata": {},
   "source": [
    "### [6.4 Coding Challenge](#64-coding-challenge)\n",
    "\n",
    "#### Stress and Strain Calculator (Part 4/4)\n",
    "\n",
    "**Objective:**\n",
    "\n",
    "Refine the stress and strain calculator to utilize object-oriented programming principles. Your task is to design a class that represents a material undergoing stress and strain tests. This class should encapsulate all relevant data (such as force, area, original length, and change in length) and include methods for calculating stress and strain.\n",
    "\n",
    "**Steps:**\n",
    "* **Step 1: Define a Material Class:**\n",
    "    * This class should have an initializer (__init__) that takes parameters for material_id, force, area, original_length, and change_in_length and stores them as attributes.\n",
    "    * Include the calculate_stress_strain method from Chapter 5 as a method of this class. It should calculate and return the stress and strain based on the object's attributes.\n",
    "\n",
    "* **Step 2: Implement Inheritance:**\n",
    "    * Create a subclass named TestedMaterial that inherits from Material.\n",
    "    * Add any additional attributes or methods that might be relevant for a material that has been specifically tested, such as a method to display the results in a formatted string.\n",
    "\n",
    "* **Step 3: Add Magic Methods:**\n",
    "    * Implement the __str__ magic method in your Material class to return a string representation of the material, including its ID and calculated stress and strain.\n",
    "\n",
    "* **Step 4: Use Decorators:**\n",
    "    * Create and apply a decorator that logs each time a calculation method is called. This should print a message to the console indicating that stress or strain calculation has been performed.\n",
    "\n",
    "\n",
    "**Example Code Structure:**\n",
    "\n",
    "```python\n",
    "# Define your decorator function here\n",
    "\n",
    "class Material:\n",
    "    def __init__(self, material_id, force, area, original_length, change_in_length):\n",
    "        # Initialize attributes\n",
    "\n",
    "    # Decorator applied to this method\n",
    "    def calculate_stress_strain(self):\n",
    "        # Perform calculations and return results\n",
    "\n",
    "    def __str__(self):\n",
    "        # Return string representation\n",
    "\n",
    "class TestedMaterial(Material):\n",
    "    # Optional: Additional attributes or methods\n",
    "\n",
    "# Example usage\n",
    "material = TestedMaterial(\"M001\", 100, 0.5, 10, 0.02)\n",
    "print(material)\n",
    "print(material.calculate_stress_strain())\n",
    "```\n",
    "\n",
    "**Tasks:**\n",
    "\n",
    "* Implement the `Material` and `TestedMaterial` classes as described.\n",
    "* Ensure your `calculate_stress_strain` method properly calculates and returns both stress and strain.\n",
    "* Test your classes by creating instances with sample data and calling the methods to verify correct behavior.\n",
    "\n",
    "This challenge will not only test your understanding of the concepts discussed in Chapter 6 but also give you practical experience with Python's OOP features. Remember, the goal is to model real-world problems in a more intuitive and manageable way using classes and objects."
   ]
  },
  {
   "cell_type": "code",
   "execution_count": null,
   "metadata": {},
   "outputs": [],
   "source": [
    "def log_calculation(func):\n",
    "    \"\"\"Decorator to log the calculation method calls.\"\"\"\n",
    "    def wrapper(*args, **kwargs):\n",
    "        result = func(*args, **kwargs)\n",
    "        print(f\"{func.__name__} was called with result: {result}\")\n",
    "        return result\n",
    "    return wrapper"
   ]
  },
  {
   "cell_type": "markdown",
   "metadata": {},
   "source": [
    "* **Decorator (`log_calculation`):** This function wraps another function (in this case, calculate_stress_strain) to log its calls. \n",
    "\n",
    "It's a simple example of how decorators can add functionality (like logging) to existing methods without modifying their implementation."
   ]
  },
  {
   "cell_type": "code",
   "execution_count": null,
   "metadata": {},
   "outputs": [],
   "source": [
    "class Material:\n",
    "    \"\"\"Represents a material undergoing stress and strain tests.\"\"\"\n",
    "    \n",
    "    def __init__(self, material_id, force, area, original_length, change_in_length):\n",
    "        \"\"\"Initialize the material with its properties.\"\"\"\n",
    "        self.material_id = material_id\n",
    "        self.force = force\n",
    "        self.area = area\n",
    "        self.original_length = original_length\n",
    "        self.change_in_length = change_in_length\n",
    "\n",
    "    @log_calculation\n",
    "    def calculate_stress_strain(self):\n",
    "        \"\"\"Calculate and return stress and strain based on material properties.\"\"\"\n",
    "        stress = self.force / self.area\n",
    "        strain = self.change_in_length / self.original_length\n",
    "        return stress, strain\n",
    "\n",
    "    def __str__(self):\n",
    "        \"\"\"Return a string representation of the material, including ID and calculated stress and strain.\"\"\"\n",
    "        stress, strain = self.calculate_stress_strain()\n",
    "        return f\"Material {self.material_id}: Stress = {stress} Pascals, Strain = {strain}\""
   ]
  },
  {
   "cell_type": "markdown",
   "metadata": {},
   "source": [
    "* **Material Class:** This class encapsulates the properties and behaviors related to a material under stress and strain tests. It includes:\n",
    "    * An initializer (`__init__`) that sets up the material's properties.\n",
    "    * A method (calculate_stress_strain) decorated with log_calculation to calculate stress and strain. This demonstrates method decoration for logging.\n",
    "    * A magic method (`__str__`) to provide a user-friendly string representation of the material object, showcasing the calculated stress and strain."
   ]
  },
  {
   "cell_type": "code",
   "execution_count": null,
   "metadata": {},
   "outputs": [],
   "source": [
    "class TestedMaterial(Material):\n",
    "    \"\"\"Subclass of Material that represents a tested material. Could include additional testing-related methods.\"\"\"\n",
    "    \n",
    "    # This subclass inherits everything from Material and can be extended with more functionality specific to tested materials.\n",
    "    pass"
   ]
  },
  {
   "cell_type": "markdown",
   "metadata": {},
   "source": [
    "* **TestedMaterial Subclass:** While it doesn't add additional functionality in this example, it shows how inheritance can be used to create specialized versions of a class (like a material that has passed certain tests)."
   ]
  },
  {
   "cell_type": "code",
   "execution_count": null,
   "metadata": {},
   "outputs": [],
   "source": [
    "# Create an instance of TestedMaterial with sample data\n",
    "material = TestedMaterial(\"M001\", 100, 0.5, 10, 0.02)\n",
    "\n",
    "# Print the material's string representation, triggering the calculation and log\n",
    "print(material)"
   ]
  },
  {
   "cell_type": "markdown",
   "metadata": {},
   "source": [
    "* **Example Usage:** Demonstrates creating an instance of TestedMaterial and printing its details, which implicitly calls the decorated calculate_stress_strain method and logs the action."
   ]
  },
  {
   "cell_type": "markdown",
   "metadata": {},
   "source": [
    "[--> Back to Outline](#course-outline)\n",
    "\n",
    "---\n"
   ]
  }
 ],
 "metadata": {
  "language_info": {
   "name": "python"
  }
 },
 "nbformat": 4,
 "nbformat_minor": 2
}
