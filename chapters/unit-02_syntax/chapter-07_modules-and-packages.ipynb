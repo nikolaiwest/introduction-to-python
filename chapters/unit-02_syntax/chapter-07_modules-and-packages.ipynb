{
 "cells": [
  {
   "cell_type": "markdown",
   "metadata": {},
   "source": [
    "## **Chapter 5.3:** Modules and Packages\n",
    "\n",
    "As your codebase grows, keeping all your functions in one file becomes impractical. Python allows you to organize your code into modules and packages.\n",
    "\n",
    "* **Modules:** A module is a single Python file containing Python code. It can include functions, variables, and classes. Modules allow you to organize related code into a file that can be imported and used in other Python scripts.\n",
    "\n",
    "* **Packages:** A package is a collection of Python modules under a common namespace. In simpler terms, it's a directory that contains one or more modules. Packages allow for a hierarchical structuring of the module namespace using dot notation."
   ]
  },
  {
   "cell_type": "markdown",
   "metadata": {},
   "source": [
    "#### Creating a Module\n",
    "\n",
    "To create a module, simply save your code into a `.py` file. \n",
    "\n",
    "For example, `calculator.py` could contain several math-related functions. \n",
    "\n",
    "To use these functions in another file, you would import the module using the import statement:"
   ]
  },
  {
   "cell_type": "code",
   "execution_count": null,
   "metadata": {},
   "outputs": [],
   "source": [
    "import calculator\n",
    "\n",
    "result = calculator.add(5, 3)\n",
    "print(result)"
   ]
  },
  {
   "cell_type": "code",
   "execution_count": null,
   "metadata": {},
   "outputs": [],
   "source": [
    "import os\n",
    "\n",
    "curr_cwd = os.getcwd()\n",
    "\n",
    "print(curr_cwd)"
   ]
  },
  {
   "cell_type": "markdown",
   "metadata": {},
   "source": [
    "**Note:** When importing modules, Python looks in the directory where the input script was run from, then in the list of directories contained in its sys.path variable. \n",
    "\n",
    "If the module is not found, Python will throw a `ModuleNotFoundError`."
   ]
  },
  {
   "cell_type": "markdown",
   "metadata": {},
   "source": [
    "#### Understanding key terms\n",
    "\n",
    "In Python, the concepts of *modules*, *packages*, *libraries*, and *frameworks* are fundamental to understanding how reusable code is organized, shared, and utilized in projects. \n",
    "\n",
    "<img src=\"https://miro.medium.com/v2/resize:fit:1030/1*iL3Hq35sZ3sG26WGpjv8rg.png\" height=\"500\">\n",
    "\n",
    "**Source:** https://medium.com/pythoneers/6-must-know-words-in-python-ac87ab420ab7\n",
    "\n",
    "Here’s a brief explanation of each:\n",
    "\n",
    "* **Modules:**\n",
    "    * Definition: A module is a single Python file that contains definitions and implementations of functions, classes, and variables. Modules are designed to include related code functionality to be reused in other Python programs.\n",
    "    * Usage: You can import a module into your program using the `import` statement. Once imported, you can access its functions, classes, and variables.\n",
    "\n",
    "* **Packages:**\n",
    "    * Definition: A package is a collection of Python modules under a common namespace (typically a directory with a file named `__init__.py`). Packages allow for a hierarchical structuring of the module namespace.\n",
    "    * Usage: Packages are used to organize modules in a structured way, making it easier to manage and use complex code bases. You can import specific modules from a package.\n",
    "\n",
    "* **Libraries:**\n",
    "    * Definition: A library is a collection of modules and packages that offer a wide range of functionalities without dictating the application structure. Libraries usually provide APIs for tasks like file manipulation, network communication, and data analysis.\n",
    "    * Usage: You can include libraries in your projects to leverage existing solutions for common problems, thus reducing the amount of code you need to write. Examples include NumPy for numerical computations and Requests for HTTP requests.\n",
    "\n",
    "* **Frameworks:**\n",
    "    * Definition: A framework is a comprehensive codebase that dictates the structure of your application. It provides a foundation on which software developers can build programs for a specific platform. Frameworks often include libraries and APIs to streamline the development of applications.\n",
    "    * Usage: Frameworks are used when developing complex applications with standard structures and patterns. They provide tools and libraries to handle common tasks and encourage best practices. An example is [Django](https://www.djangoproject.com/), a high-level framework for web development in Python.\n",
    "\n",
    "In summary, modules and packages are about code organization and reuse at a lower level, allowing you to structure your Python code efficiently. Libraries provide sets of pre-written code snippets and functionalities to solve common programming tasks, enhancing productivity. Frameworks offer a more comprehensive solution, including libraries and tools to structure your entire application, enforcing a particular way of doing things while significantly speeding up the development process."
   ]
  },
  {
   "cell_type": "markdown",
   "metadata": {},
   "source": [
    "---"
   ]
  },
  {
   "cell_type": "markdown",
   "metadata": {},
   "source": [
    "### 👨‍💻 Practice tasks 5.3: Modules and Packages"
   ]
  },
  {
   "cell_type": "code",
   "execution_count": null,
   "metadata": {},
   "outputs": [],
   "source": [
    "# 1. Import the 'random' module and use it to generate a random number between 1 and 10\n",
    "# 2. Import the 'datetime' module and use it to print the current date and time\n",
    "# 3. Create a new Python file called 'my_module.py' with a function called 'greeting' that returns \"Hello from my_module!\"\n",
    "# 4. Import your 'my_module' and call its 'greeting' function\n",
    "# 5. Try to import a module that doesn't exist and use a try-except block to handle the ImportError"
   ]
  },
  {
   "cell_type": "code",
   "execution_count": null,
   "metadata": {},
   "outputs": [],
   "source": [
    "# 1. Import the 'random' module and use it to generate a random number between 1 and 10\n",
    "import random\n",
    "print(random.randint(1, 10))\n",
    "\n",
    "# 2. From the 'math' module, import only the 'pi' constant and the 'sqrt' function\n",
    "from math import pi, sqrt\n",
    "\n",
    "# 3. Use the imported 'pi' to calculate the area of a circle with radius 5\n",
    "radius = 5\n",
    "area = pi * radius ** 2\n",
    "print(f\"Area of circle: {area}\")\n",
    "\n",
    "# 4. Use the imported 'sqrt' function to calculate the square root of 16\n",
    "print(sqrt(16))\n",
    "\n",
    "# 5. Import the 'datetime' module and use it to print the current date and time\n",
    "import datetime\n",
    "print(datetime.datetime.now())\n",
    "\n",
    "# 6. Create a new Python file called 'my_module.py' with a function called 'greeting' that returns \"Hello from my_module!\"\n",
    "# In my_module.py:\n",
    "# def greeting():\n",
    "#     return \"Hello from my_module!\"\n",
    "\n",
    "# 7. Import your 'my_module' and call its 'greeting' function\n",
    "import my_module\n",
    "print(my_module.greeting())\n",
    "\n",
    "# 8. Try to import a module that doesn't exist and use a try-except block to handle the ImportError\n",
    "try:\n",
    "    import non_existent_module\n",
    "except ImportError:\n",
    "    print(\"The module does not exist!\")"
   ]
  }
 ],
 "metadata": {
  "language_info": {
   "name": "python"
  }
 },
 "nbformat": 4,
 "nbformat_minor": 2
}
