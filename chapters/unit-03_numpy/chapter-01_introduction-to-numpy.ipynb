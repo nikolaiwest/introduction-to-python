{
 "cells": [
  {
   "cell_type": "markdown",
   "metadata": {},
   "source": [
    "# **[1. Introduction to NumPy](#1-introduction-to-numpy)**\n",
    "\n",
    "**NumPy** is a fundamental package for scientific computing in Python. It introduces powerful capabilities for creating and manipulating `N-dimensional arrays`, which are more efficient and significantly faster than Python's built-in lists. \n",
    "\n",
    "Beyond its core array object, NumPy provides a comprehensive toolkit for mathematical functions, random number generation, linear algebra operations, Fourier transforms, and more. \n",
    "\n",
    "<img src=\"https://miro.medium.com/v2/resize:fit:640/format:webp/1*RoqtXmJUIjRszkSN7WsK5A.png\" height=\"100\">\n",
    "\n",
    "Originating to address the need for efficient numerical computation in Python, NumPy has become the cornerstone library for numerical and scientific computing in the Python ecosystem. Its `array` object is the de facto standard for data exchange in scientific and analytical libraries, making **NumPy** a critical component for data analysis, machine learning, and beyond."
   ]
  },
  {
   "cell_type": "markdown",
   "metadata": {},
   "source": [
    "### [1.1 Overview of Numpy](#1.1-overview-of-numpy)\n",
    "\n",
    "#### **NumPy**: Numerical Computing with Python\n",
    "\n",
    "NumPy (for **Num**erical **Py**thon) is an open source Python library that’s used in almost every field of science and engineering. It’s the universal standard for working with numerical data in Python, and it’s at the core of the scientific [Python](https://www.python.org/) and [PyData](https://pydata.org/) ecosystems. \n",
    "\n",
    "NumPy users include everyone from beginning coders to experienced researchers doing state-of-the-art scientific and industrial research and development. \n",
    "\n",
    "The NumPy API is used extensively in [Pandas](https://pandas.pydata.org/), [SciPy](https://scipy.org/), [Matplotlib](https://matplotlib.org/), [scikit-learn](https://scikit-learn.org/stable/), [scikit-image](https://scikit-image.org/) and most other data science and scientific Python packages.\n",
    "\n",
    "\n",
    "#### Core Feature: n-dimensional Array Object\n",
    "\n",
    "The NumPy library contains multidimensional **array** and matrix data structures (you’ll find more information about this in later sections). \n",
    "\n",
    "It provides `ndarray`, a homogeneous n-dimensional array object, with methods to efficiently operate on it. "
   ]
  },
  {
   "cell_type": "code",
   "execution_count": null,
   "metadata": {},
   "outputs": [],
   "source": [
    "import numpy as np\n",
    "\n",
    "np.ndarray(shape=(2,2), dtype=\"int32\")"
   ]
  },
  {
   "cell_type": "markdown",
   "metadata": {},
   "source": [
    "NumPy can be used to perform a wide variety of mathematical operations on arrays. It adds powerful data structures to Python that guarantee efficient calculations with arrays and matrices and it supplies an enormous library of high-level mathematical functions that operate on these arrays and matrices.\n",
    "\n",
    "\n",
    "#### Key Capabilities: Expanding the Scope of Data Analysis\n",
    "\n",
    "NumPy encompasses a range of functionalities that extend its application beyond mere data storage:\n",
    "\n",
    "* **Mathematical Functions:** NumPy offers an extensive collection of mathematical operations that can be applied directly to arrays, facilitating complex numerical computations with efficiency.\n",
    "* **Random Number Generation:** The library provides mechanisms for generating sequences of random numbers, essential for statistical analyses and algorithmic simulations.\n",
    "* **Fourier Transforms:** NumPy includes functions for performing Fourier transforms, crucial for applications in signal processing and harmonic analysis.\n",
    "* **Linear Algebra Operations:** It contains a suite for linear algebra, including operations such as matrix multiplications and eigenvalue decompositions, vital for numerous scientific computations.\n",
    "* **Integration with C/C++ and Fortran:** NumPy can integrate with code written in C, C++, and Fortran, enhancing computational efficiency through direct access to low-level language capabilities.\n",
    "\n",
    "\n",
    "#### Applications: Demonstrating Versatility\n",
    "\n",
    "NumPy's utility spans multiple disciplines and applications:\n",
    "\n",
    "* **Data Analysis:** It is extensively used for data preprocessing, transformation, and statistical analysis.\n",
    "Machine Learning: NumPy supports data manipulation for machine learning algorithms, including data preprocessing and feature extraction.\n",
    "* **Scientific Computing:** The library is essential for numerical simulations, implementing numerical methods, and conducting complex calculations in scientific research.\n",
    "* **Engineering and Beyond:** Its application is not limited to scientific research but extends to engineering, finance, and any field that relies on numerical data analysis.\n",
    "\n",
    "\n",
    "#### Learning Objectives\n",
    "\n",
    "By the end of this section, you will be able to:\n",
    "\n",
    "1. Understand the significance of Numpy in the Python data science ecosystem.\n",
    "2. Recognize the advantages of Numpy arrays over standard Python sequences.\n",
    "3. Identify the key features of Numpy that make it an essential tool for data manipulation and analysis.\n",
    "4. Utilize several different techniques for data handling and explore more advanced applications.\n",
    "\n",
    "In the following sections, we will dive deeper into how to create and manipulate Numpy arrays, perform operations with them, and use Numpy to solve real-world data analysis problems.\n",
    "\n",
    "\n",
    "To learn more about NumPy, visit the official [Numpy documentation](https://numpy.org/doc/stable/user/whatisnumpy.html#whatisnumpy)!"
   ]
  },
  {
   "cell_type": "markdown",
   "metadata": {},
   "source": [
    "### [1.2 Installation and Setup](#1.2-installation-and-setup)\n",
    "\n",
    "Installing NumPy is straightforward using Python's package manager, pip. \n",
    "\n",
    "Before installing NumPy, ensure you have Python installed on your system. NumPy supports Python 3.5 and newer.\n",
    "\n",
    "#### Installing NumPy\n",
    "\n",
    "Once Python is installed, you can install NumPy by opening your command line or terminal and running the following command:\n",
    "\n",
    "    pip install numpy \n",
    "\n",
    "This command downloads and installs the latest version of NumPy. If you are using a Python virtual environment (highly recommended for managing project-specific dependencies), make sure it is activated before running the pip command.\n",
    "\n",
    "#### Verifying the Installation\n",
    "\n",
    "To verify that NumPy is installed correctly, open a Python interpreter by typing python in your command line or terminal, and then run the following commands:"
   ]
  },
  {
   "cell_type": "code",
   "execution_count": null,
   "metadata": {},
   "outputs": [],
   "source": [
    "import numpy as np \n",
    "print(np.__version__)"
   ]
  },
  {
   "cell_type": "markdown",
   "metadata": {},
   "source": [
    "If NumPy is installed correctly, you will see the version number printed without errors.\n",
    "Upgrading NumPy\n",
    "\n",
    "If you need to upgrade NumPy to the latest version, you can use pip's upgrade option:\n",
    "\n",
    "    pip install --upgrade numpy\n",
    "\n",
    "#### Troubleshooting\n",
    "\n",
    "If you encounter any issues during the installation process, ensure your pip, setuptools, and wheel are up to date. You can upgrade these tools using pip:\n",
    "\n",
    "    pip install --upgrade pip setuptools wheel\n",
    "\n",
    "Then, try reinstalling NumPy.\n",
    "\n",
    "#### Getting Started\n",
    "\n",
    "Now that you have NumPy installed, you're ready to start using it to perform calculations and manipulate numerical data. "
   ]
  },
  {
   "cell_type": "markdown",
   "metadata": {},
   "source": [
    "### [1.3 Why Numpy?](#1.3-why-numpy)\n",
    "\n",
    "#### The Impact of NumPy\n",
    "\n",
    "The design and capabilities of NumPy have made it a critical tool for numerical computations in Python. Its impact is seen across various domains, from artificial intelligence and machine learning to genomics and astronomy. By providing an efficient and scalable array structure along with a rich collection of functions, NumPy enables researchers and professionals to perform complex mathematical operations and data analysis with ease.\n",
    "\n",
    "#### Why Numpy is Important for Data Science\n",
    "\n",
    "* **Performance:** Numpy arrays are stored at one continuous place in memory unlike lists, so processes can access and manipulate them very efficiently. This design choice optimizes processing speed and resource usage, providing a significant performance boost over standard Python lists.\n",
    "* **Functionality:** Numpy provides a comprehensive mathematical function library for operations on arrays, including mathematical, logical, shape manipulation, sorting, selecting, I/O, discrete Fourier transforms, basic linear algebra, basic statistical operations, random simulation, and much more.\n",
    "* **Interoperability:** Numpy arrays can be used as an efficient multi-dimensional container for generic data. Arbitrary data-types can be defined, allowing Numpy to seamlessly and speedily integrate with a wide variety of databases.\n",
    "\n",
    "#### Key Features of Numpy\n",
    "\n",
    "* **Arrays:** Numpy's main object is the homogeneous multidimensional array. It is a table of elements (usually numbers), all of the same type, indexed by a tuple of non-negative integers. In Numpy, dimensions are called `axes`.\n",
    "* **Broadcasting:** The term broadcasting describes how Numpy treats arrays with different `shapes` during arithmetic operations. Subject to certain constraints, the smaller array is “broadcast” across the larger array so that they have compatible shapes.\n",
    "* **Vectorization:** Numpy provides a concise and readable way to perform mathematical `operations` on arrays, allowing for vectorized operations. This means operations are performed on entire arrays rather than their individual elements, leading to concise and faster computations.\n",
    "\n",
    "Read more about the advantage of Numpy Arrays compared to Python lists [here](https://www.geeksforgeeks.org/python-lists-vs-numpy-arrays/).\n",
    "\n",
    "In the next sections, we'll dive deeper into the capabilities of NumPy, starting with creating and manipulating arrays, to help you leverage its full potential in your data science projects.\n"
   ]
  }
 ],
 "metadata": {
  "language_info": {
   "name": "python"
  }
 },
 "nbformat": 4,
 "nbformat_minor": 2
}
