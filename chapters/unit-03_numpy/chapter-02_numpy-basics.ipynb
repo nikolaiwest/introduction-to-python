{
 "cells": [
  {
   "cell_type": "markdown",
   "metadata": {},
   "source": [
    "## **[2. Numpy Basics](#2-numpy-basics)**\n",
    "\n",
    "To begin working with NumPy arrays, you first need to import the NumPy library:"
   ]
  },
  {
   "cell_type": "code",
   "execution_count": null,
   "metadata": {},
   "outputs": [],
   "source": [
    "import numpy as np"
   ]
  },
  {
   "cell_type": "markdown",
   "metadata": {},
   "source": [
    "### [2.1 Introduction to Numpy Arrays](#2.1-introduction-to-numpy-arrays)\n",
    "\n",
    "NumPy `arrays` are the foundation of numerical computing in Python. \n",
    "\n",
    "An array in NumPy is a grid of values, all of the same type, and is indexed by a tuple of nonnegative integers. The number of dimensions is the rank of the array, and the shape of an array is a tuple of integers giving the size of the array along each dimension.\n"
   ]
  },
  {
   "cell_type": "markdown",
   "metadata": {},
   "source": [
    "##### Basic Array Creation\n",
    "\n",
    "You can create a NumPy array directly from a Python `list` or from a Python `tuple` using the `np.array()` function. This method allows NumPy to automatically infer the type of the array based on the data provided.\n"
   ]
  },
  {
   "cell_type": "code",
   "execution_count": null,
   "metadata": {},
   "outputs": [],
   "source": [
    "# Create a NumPy array from a Python list\n",
    "python_list = [1, 2, 3, 4, 5]\n",
    "print(f\"Python list: {python_list}\")\n",
    "\n",
    "np_array_from_list = np.array(python_list)\n",
    "print(f\"Numpy array: {np_array_from_list}\")"
   ]
  },
  {
   "cell_type": "code",
   "execution_count": null,
   "metadata": {},
   "outputs": [],
   "source": [
    "# Create a NumPy array from a Python tuple\n",
    "python_tuple = (6, 7, 8, 9, 10)\n",
    "print(f\"Python tuple: {python_tuple}\")\n",
    "\n",
    "np_array_from_tuple = np.array(python_tuple)\n",
    "print(f\"Numpy array: {np_array_from_tuple}\")"
   ]
  },
  {
   "cell_type": "markdown",
   "metadata": {},
   "source": [
    "#### Array with mixed data types\n",
    "\n",
    "NumPy arrays aim to be homogeneous in nature, meaning all elements are typically of the same data type. However, you can create arrays with mixed data types, which results in an array where the data type is up-leveled to accommodate all elements in the array."
   ]
  },
  {
   "cell_type": "code",
   "execution_count": null,
   "metadata": {},
   "outputs": [],
   "source": [
    "# Create a NumPy array from a Python list with mixed types\n",
    "python_list_mixed = [1, 2, 3, 4, 5.1] # float\n",
    "print(f\"Python list: {python_list_mixed}\")\n",
    "\n",
    "np_array_from_list_mixed = np.array(python_list_mixed)\n",
    "print(f\"Numpy array: {np_array_from_list_mixed}\")"
   ]
  },
  {
   "cell_type": "code",
   "execution_count": null,
   "metadata": {},
   "outputs": [],
   "source": [
    "# Create a NumPy array from a Python tuple with mixed types\n",
    "python_tuple_mixed = (1, 2, 3, 4, \"5\") # string\n",
    "print(f\"Python list: {python_tuple_mixed}\")\n",
    "\n",
    "np_array_from_tuple_mixed = np.array(python_tuple_mixed)\n",
    "print(f\"Numpy array: {np_array_from_tuple_mixed}\")"
   ]
  },
  {
   "cell_type": "markdown",
   "metadata": {},
   "source": [
    "Please note, the entire array takes the data type of the \"biggest\" type provided. In this case, since the array contains both floats and strings, the data type of the entire array is upgraded to a string (`<U32` or a similar Unicode string type) to ensure all elements are of a type that can represent any of the values. This behavior underscores the principle that NumPy arrays are designed to be homogeneous, automatically converting all elements to a common data type that can represent all elements in the array without loss of information.\n",
    "Why Homogeneity Matters\n",
    "\n",
    "The homogeneity of data types in NumPy arrays is a key feature that enables the library to perform operations efficiently. By ensuring that all elements of an array are of the same type, NumPy can optimize memory usage and computational speed, leveraging vectorized operations and other optimizations that depend on consistent data type representation.\n",
    "\n",
    "This characteristic is particularly important for numerical computations where performance and precision are crucial. However, it also means that when working with mixed data types, one must be mindful of the automatic upcasting to the \"biggest\" data type, as it can affect both the array's memory footprint and the performance of operations performed on it."
   ]
  },
  {
   "cell_type": "markdown",
   "metadata": {},
   "source": [
    "#### Using Built-in Functions\n",
    "\n",
    "NumPy provides several built-in functions to create arrays with specific characteristics, which is particularly useful for initializing arrays in engineering computations.\n",
    "\n",
    "This section covers the following build-in functions:\n",
    "* zeros\n",
    "* ones\n",
    "* arrange\n",
    "* random\n",
    "* linspace"
   ]
  },
  {
   "cell_type": "markdown",
   "metadata": {},
   "source": [
    "**np.zeros():** Creates an array filled with zeros"
   ]
  },
  {
   "cell_type": "code",
   "execution_count": null,
   "metadata": {},
   "outputs": [
    {
     "name": "stdout",
     "output_type": "stream",
     "text": [
      "[[0. 0. 0.]\n",
      " [0. 0. 0.]\n",
      " [0. 0. 0.]]\n"
     ]
    }
   ],
   "source": [
    "# Creating a 3x3 array of zeros\n",
    "zeros_array = np.zeros((3, 3))\n",
    "print(zeros_array)"
   ]
  },
  {
   "cell_type": "markdown",
   "metadata": {},
   "source": [
    "**np.ones():** Creates an array filled with ones"
   ]
  },
  {
   "cell_type": "code",
   "execution_count": null,
   "metadata": {},
   "outputs": [],
   "source": [
    "# Creating a 2x2 array of ones\n",
    "ones_array = np.ones((2, 2))\n",
    "print(ones_array)"
   ]
  },
  {
   "cell_type": "markdown",
   "metadata": {},
   "source": [
    "**np.arange():** Generates values within a specified range. Similar to Python's range() but returns a NumPy array."
   ]
  },
  {
   "cell_type": "code",
   "execution_count": null,
   "metadata": {},
   "outputs": [],
   "source": [
    "# Creating an array with a range from 0 to 9\n",
    "range_array = np.arange(0,10)\n",
    "print(range_array)\n"
   ]
  },
  {
   "cell_type": "markdown",
   "metadata": {},
   "source": [
    "**np.random():** Offers a way to create arrays with random numbers"
   ]
  },
  {
   "cell_type": "code",
   "execution_count": null,
   "metadata": {},
   "outputs": [
    {
     "name": "stdout",
     "output_type": "stream",
     "text": [
      "[[0.04063035 0.48631921 0.338544  ]\n",
      " [0.41337492 0.91422386 0.31879499]\n",
      " [0.23718439 0.14385544 0.33721082]]\n"
     ]
    }
   ],
   "source": [
    "# Creating a 3x3 array with random values\n",
    "random_array = np.random.random((3, 3))\n",
    "print(random_array)"
   ]
  },
  {
   "cell_type": "markdown",
   "metadata": {},
   "source": [
    "**np.linspace()**: Generates linearly spaced values between a specified start and stop value."
   ]
  },
  {
   "cell_type": "code",
   "execution_count": null,
   "metadata": {},
   "outputs": [
    {
     "name": "stdout",
     "output_type": "stream",
     "text": [
      "[0.   0.25 0.5  0.75 1.  ]\n"
     ]
    }
   ],
   "source": [
    "# Creating an array with 5 values linearly spaced between 0 and 1\n",
    "linear_array = np.linspace(0, 1, 5)\n",
    "print(linear_array)"
   ]
  },
  {
   "cell_type": "markdown",
   "metadata": {},
   "source": [
    "### [2.2 Array Attributes](#2.2-array-attributes)\n",
    "\n",
    "Understanding the attributes of NumPy arrays is crucial for effectively manipulating and analyzing data. \n",
    "\n",
    "This section covers key attributes that describe array characteristics: \n",
    "* shape\n",
    "* size\n",
    "* dtype\n",
    "* ndim"
   ]
  },
  {
   "cell_type": "code",
   "execution_count": null,
   "metadata": {},
   "outputs": [
    {
     "name": "stdout",
     "output_type": "stream",
     "text": [
      "a: [1 2 3 4]\n",
      "b: [[1 2 3]\n",
      " [4 5 6]]\n",
      "c: [[1.5 2.  3. ]]\n"
     ]
    }
   ],
   "source": [
    "a = np.array([1, 2, 3, 4])\n",
    "b = np.array([[1, 2, 3], [4, 5, 6]])\n",
    "c = np.array([[1.5, 2, 3], ])\n",
    "\n",
    "print(f\"a: {a}\")\n",
    "print(f\"b: {b}\")\n",
    "print(f\"c: {c}\")"
   ]
  },
  {
   "cell_type": "markdown",
   "metadata": {},
   "source": [
    "**.shape:** The shape of an array tells you the dimensions of the array - how many rows, columns, and further dimensions the array contains."
   ]
  },
  {
   "cell_type": "code",
   "execution_count": null,
   "metadata": {},
   "outputs": [
    {
     "name": "stdout",
     "output_type": "stream",
     "text": [
      "Shape of array a: (4,)\n",
      "Shape of array b: (2, 3)\n",
      "Shape of array c: (1, 3)\n"
     ]
    }
   ],
   "source": [
    "# Checking the shape of an array\n",
    "print(f\"Shape of array a: {a.shape}\")\n",
    "print(f\"Shape of array b: {b.shape}\")\n",
    "print(f\"Shape of array c: {c.shape}\")"
   ]
  },
  {
   "cell_type": "markdown",
   "metadata": {},
   "source": [
    "**.size:** The size attribute returns the total number of elements in the array."
   ]
  },
  {
   "cell_type": "code",
   "execution_count": null,
   "metadata": {},
   "outputs": [
    {
     "name": "stdout",
     "output_type": "stream",
     "text": [
      "Size of array a: 4\n",
      "Size of array b: 6\n",
      "Size of array c: 3\n"
     ]
    }
   ],
   "source": [
    "# Checking the size of an array\n",
    "print(f\"Size of array a: {a.size}\")\n",
    "print(f\"Size of array b: {b.size}\")\n",
    "print(f\"Size of array c: {c.size}\")"
   ]
  },
  {
   "cell_type": "markdown",
   "metadata": {},
   "source": [
    "**.dtype:** Every NumPy array is a grid of elements of the same type. The dtype attribute tells you the data type of the elements in the array."
   ]
  },
  {
   "cell_type": "code",
   "execution_count": null,
   "metadata": {},
   "outputs": [
    {
     "name": "stdout",
     "output_type": "stream",
     "text": [
      "a.dtype = dtype('int32')\n",
      "b.dtype = dtype('int32')\n",
      "c.dtype = dtype('float64')\n"
     ]
    }
   ],
   "source": [
    "print(f\"{a.dtype = }\")\n",
    "print(f\"{b.dtype = }\")\n",
    "print(f\"{c.dtype = }\")"
   ]
  },
  {
   "cell_type": "markdown",
   "metadata": {},
   "source": [
    "**.ndim:** The ndim attribute tells you the number of dimensions, or \"axes,\" the array has. A `1D array` has one dimension, a `2D array` has two dimensions, and so on."
   ]
  },
  {
   "cell_type": "code",
   "execution_count": null,
   "metadata": {},
   "outputs": [
    {
     "name": "stdout",
     "output_type": "stream",
     "text": [
      "a.ndim = 1\n",
      "b.ndim = 2\n",
      "c.ndim = 2\n"
     ]
    }
   ],
   "source": [
    "print(f\"{a.ndim = }\")\n",
    "print(f\"{b.ndim = }\")\n",
    "print(f\"{c.ndim = }\")"
   ]
  },
  {
   "cell_type": "markdown",
   "metadata": {},
   "source": [
    "### [2.3 Indexing techniques](#2.3-indexing-techniques)\n",
    "\n",
    "Indexing is the mechanism by which individual elements of an array can be accessed and manipulated. NumPy offers versatile indexing techniques that cater to various needs, from simple, direct access to conditional and complex selections."
   ]
  },
  {
   "cell_type": "markdown",
   "metadata": {},
   "source": [
    "#### Simple Indexing\n",
    "\n",
    "Simple indexing involves accessing elements using their index position, similar to how you would access elements in a Python list.\n",
    "\n",
    "NumPy arrays follow zero-based indexing. You can access an individual element by specifying its position in each dimension within square brackets.\n",
    "\n",
    "<img src=https://nustat.github.io/DataScience_Intro_python/Datasets/numpy_image.png height=300>\n",
    "\n"
   ]
  },
  {
   "cell_type": "markdown",
   "metadata": {},
   "source": [
    "**Indexing for a 1D array**"
   ]
  },
  {
   "cell_type": "code",
   "execution_count": null,
   "metadata": {},
   "outputs": [
    {
     "name": "stdout",
     "output_type": "stream",
     "text": [
      "[ 1  2  4  8 16 32 64]\n"
     ]
    }
   ],
   "source": [
    "# Get the example  \n",
    "some_array = np.array([1, 2, 4, 8, 16, 32, 64])\n",
    "print(some_array)"
   ]
  },
  {
   "cell_type": "code",
   "execution_count": null,
   "metadata": {},
   "outputs": [
    {
     "name": "stdout",
     "output_type": "stream",
     "text": [
      "1\n"
     ]
    }
   ],
   "source": [
    "# Access first value \n",
    "print(some_array[0])"
   ]
  },
  {
   "cell_type": "code",
   "execution_count": null,
   "metadata": {},
   "outputs": [
    {
     "name": "stdout",
     "output_type": "stream",
     "text": [
      "2\n"
     ]
    }
   ],
   "source": [
    "# Access second value \n",
    "print(some_array[1])"
   ]
  },
  {
   "cell_type": "code",
   "execution_count": null,
   "metadata": {},
   "outputs": [
    {
     "name": "stdout",
     "output_type": "stream",
     "text": [
      "64\n"
     ]
    }
   ],
   "source": [
    "# Access last value \n",
    "print(some_array[-1])"
   ]
  },
  {
   "cell_type": "markdown",
   "metadata": {},
   "source": [
    "**Indexing for a 2D array**"
   ]
  },
  {
   "cell_type": "code",
   "execution_count": null,
   "metadata": {},
   "outputs": [
    {
     "name": "stdout",
     "output_type": "stream",
     "text": [
      "[[1 2 3]\n",
      " [4 5 6]]\n"
     ]
    }
   ],
   "source": [
    "# Get the example\n",
    "another_array = np.array([[1, 2, 3], [4, 5, 6]])\n",
    "print(another_array)"
   ]
  },
  {
   "cell_type": "code",
   "execution_count": null,
   "metadata": {},
   "outputs": [
    {
     "name": "stdout",
     "output_type": "stream",
     "text": [
      "2\n"
     ]
    }
   ],
   "source": [
    "# Access element at row 0, column 1\n",
    "print(another_array[0, 1])"
   ]
  },
  {
   "cell_type": "code",
   "execution_count": null,
   "metadata": {},
   "outputs": [
    {
     "name": "stdout",
     "output_type": "stream",
     "text": [
      "6\n"
     ]
    }
   ],
   "source": [
    "# Access element at row 1, last column\n",
    "print(another_array[1, -1])"
   ]
  },
  {
   "cell_type": "code",
   "execution_count": null,
   "metadata": {},
   "outputs": [
    {
     "name": "stdout",
     "output_type": "stream",
     "text": [
      "5\n"
     ]
    }
   ],
   "source": [
    "# Access element at last row, second last column\n",
    "print(another_array[-1, -2])"
   ]
  },
  {
   "cell_type": "markdown",
   "metadata": {},
   "source": [
    "#### Boolean Indexing\n",
    "\n",
    "Boolean indexing allows you to select elements based on conditions. This is particularly useful for filtering data."
   ]
  },
  {
   "cell_type": "code",
   "execution_count": null,
   "metadata": {},
   "outputs": [
    {
     "name": "stdout",
     "output_type": "stream",
     "text": [
      "[[1 2 3]\n",
      " [4 5 6]\n",
      " [7 8 9]]\n"
     ]
    }
   ],
   "source": [
    "# Boolean Indexing Example\n",
    "boolean_indexing_array = np.array([[1, 2, 3], [4, 5, 6], [7, 8, 9]])\n",
    "print(boolean_indexing_array)"
   ]
  },
  {
   "cell_type": "code",
   "execution_count": null,
   "metadata": {},
   "outputs": [
    {
     "name": "stdout",
     "output_type": "stream",
     "text": [
      "[6 7 8 9]\n"
     ]
    }
   ],
   "source": [
    "# Elements greater than 5\n",
    "boolean_indexing_example_1 = boolean_indexing_array[boolean_indexing_array > 5] \n",
    "print(boolean_indexing_example_1)\n"
   ]
  },
  {
   "cell_type": "code",
   "execution_count": null,
   "metadata": {},
   "outputs": [
    {
     "name": "stdout",
     "output_type": "stream",
     "text": [
      "[2 4 6 8]\n"
     ]
    }
   ],
   "source": [
    "# Even elements\n",
    "boolean_indexing_example_2 = boolean_indexing_array[boolean_indexing_array % 2 == 0]  \n",
    "print(boolean_indexing_example_2)"
   ]
  },
  {
   "cell_type": "code",
   "execution_count": null,
   "metadata": {},
   "outputs": [
    {
     "name": "stdout",
     "output_type": "stream",
     "text": [
      "[1 2 3]\n"
     ]
    }
   ],
   "source": [
    "# Elements less than or equal to 3\n",
    "boolean_indexing_example_3 = boolean_indexing_array[boolean_indexing_array <= 3]  \n",
    "print(boolean_indexing_example_3)"
   ]
  },
  {
   "cell_type": "markdown",
   "metadata": {},
   "source": [
    "#### Fancy Indexing\n",
    "\n",
    "Fancy indexing involves passing arrays of indices to access multiple array elements at once."
   ]
  },
  {
   "cell_type": "code",
   "execution_count": null,
   "metadata": {},
   "outputs": [
    {
     "name": "stdout",
     "output_type": "stream",
     "text": [
      "[ 0 10 20 30 40 50 60 70 80 90]\n"
     ]
    }
   ],
   "source": [
    "# Fancy Indexing Example\n",
    "fancy_indexing_array = np.arange(0, 100, 10)\n",
    "print(fancy_indexing_array)"
   ]
  },
  {
   "cell_type": "code",
   "execution_count": null,
   "metadata": {},
   "outputs": [
    {
     "name": "stdout",
     "output_type": "stream",
     "text": [
      "[10 30 50]\n"
     ]
    }
   ],
   "source": [
    "# Elements at indices 1, 3, 5\n",
    "fancy_indexing_example_1 = fancy_indexing_array[[1, 3, 5]]\n",
    "print(fancy_indexing_example_1)"
   ]
  },
  {
   "cell_type": "code",
   "execution_count": null,
   "metadata": {},
   "outputs": [
    {
     "name": "stdout",
     "output_type": "stream",
     "text": [
      "[ 0 90]\n"
     ]
    }
   ],
   "source": [
    "# First and last elements\n",
    "fancy_indexing_example_2 = fancy_indexing_array[[0, -1]]\n",
    "print(fancy_indexing_example_2)"
   ]
  },
  {
   "cell_type": "code",
   "execution_count": null,
   "metadata": {},
   "outputs": [
    {
     "name": "stdout",
     "output_type": "stream",
     "text": [
      "[[10 20]\n",
      " [30 40]]\n"
     ]
    }
   ],
   "source": [
    "# Elements at specified indices\n",
    "fancy_indexing_indices = np.array([[1, 2], [3, 4]])\n",
    "fancy_indexing_example_3 = fancy_indexing_array[fancy_indexing_indices]  \n",
    "print(fancy_indexing_example_3)"
   ]
  },
  {
   "cell_type": "markdown",
   "metadata": {},
   "source": [
    "### [2.4 Slicing techniques](#2.4-slicing-techniques)\n",
    "\n",
    "Indexing is the mechanism by which individual elements of an array can be accessed and manipulated. NumPy offers versatile indexing techniques that cater to various needs, from simple, direct access to conditional and complex selections."
   ]
  },
  {
   "cell_type": "markdown",
   "metadata": {},
   "source": [
    "#### Basic slicing\n",
    "\n",
    "Slicing allows you to access sub-arrays. It works by specifying slices for each dimension of the array: \n",
    "\n",
    "[`start`:`stop`:`step`(optional)]."
   ]
  },
  {
   "cell_type": "markdown",
   "metadata": {},
   "source": [
    "**Slicing for a 1D array**"
   ]
  },
  {
   "cell_type": "code",
   "execution_count": null,
   "metadata": {},
   "outputs": [
    {
     "name": "stdout",
     "output_type": "stream",
     "text": [
      "[ 1  2  4  8 16 32 64]\n"
     ]
    }
   ],
   "source": [
    "# Get the example  \n",
    "some_array = np.array([1, 2, 4, 8, 16, 32, 64])\n",
    "print(some_array)"
   ]
  },
  {
   "cell_type": "code",
   "execution_count": null,
   "metadata": {},
   "outputs": [
    {
     "name": "stdout",
     "output_type": "stream",
     "text": [
      "[ 4  8 16 32 64]\n"
     ]
    }
   ],
   "source": [
    "# Elements from index 2 to 6\n",
    "print(some_array[2:7]) "
   ]
  },
  {
   "cell_type": "code",
   "execution_count": null,
   "metadata": {},
   "outputs": [
    {
     "name": "stdout",
     "output_type": "stream",
     "text": [
      "[ 1  2  4  8 16]\n"
     ]
    }
   ],
   "source": [
    "# First five elements\n",
    "print(some_array[:5])"
   ]
  },
  {
   "cell_type": "code",
   "execution_count": null,
   "metadata": {},
   "outputs": [
    {
     "name": "stdout",
     "output_type": "stream",
     "text": [
      "[ 1  4 16 64]\n"
     ]
    }
   ],
   "source": [
    "# Every second element\n",
    "print(some_array[::2])"
   ]
  },
  {
   "cell_type": "markdown",
   "metadata": {},
   "source": [
    "**Slicing for a 2D array**"
   ]
  },
  {
   "cell_type": "code",
   "execution_count": null,
   "metadata": {},
   "outputs": [
    {
     "name": "stdout",
     "output_type": "stream",
     "text": [
      "[[1 2 3]\n",
      " [4 5 6]]\n"
     ]
    }
   ],
   "source": [
    "# Get the example\n",
    "another_array = np.array([[1, 2, 3], [4, 5, 6]])\n",
    "print(another_array)"
   ]
  },
  {
   "cell_type": "code",
   "execution_count": null,
   "metadata": {},
   "outputs": [
    {
     "name": "stdout",
     "output_type": "stream",
     "text": [
      "[[1 2]\n",
      " [4 5]]\n"
     ]
    }
   ],
   "source": [
    "# Top left corner 2x2\n",
    "print(another_array[:2, :2])"
   ]
  },
  {
   "cell_type": "code",
   "execution_count": null,
   "metadata": {},
   "outputs": [
    {
     "name": "stdout",
     "output_type": "stream",
     "text": [
      "[[6]]\n"
     ]
    }
   ],
   "source": [
    "# Bottom right corner 2x2\n",
    "print(another_array[1:, 2:])"
   ]
  },
  {
   "cell_type": "code",
   "execution_count": null,
   "metadata": {},
   "outputs": [
    {
     "name": "stdout",
     "output_type": "stream",
     "text": [
      "[[1 3]\n",
      " [4 6]]\n"
     ]
    }
   ],
   "source": [
    "# All rows, every other column\n",
    "print(another_array[:, ::2])"
   ]
  },
  {
   "cell_type": "code",
   "execution_count": null,
   "metadata": {},
   "outputs": [],
   "source": [
    "# TODO: Ergänzung für die Coding Challenge: \"nur die linke Spalte\""
   ]
  },
  {
   "cell_type": "markdown",
   "metadata": {},
   "source": [
    "### [2.5 Coding Challenge: Stress Analysis 1/3](#2.5-coding-challenge-stress-analysis-1/3)\n",
    "\n",
    "#### **Background** \n",
    "\n",
    "In engineering, particularly within the fields of materials science and structural engineering, understanding the stress distribution within a material under external forces is crucial. This knowledge helps in predicting areas of potential failure, thus ensuring the structural integrity and reliability of engineering designs. \n",
    "\n",
    "In this case study, we'll use **NumPy** to simulate and analyze the stress distribution within a metal pole under a specified loading condition.\n",
    "\n",
    "#### **Task** \n",
    "\n",
    "Simulate stress distribution in a metal pole, accounting for material errors and reinforcements, and apply a linear force representing gravity. This process reflects practical engineering considerations in stress analysis."
   ]
  },
  {
   "cell_type": "markdown",
   "metadata": {},
   "source": [
    "#### **Step-by-step Goals**\n",
    "\n",
    "To easier visualize the metal pole, we are going to use a very simple plotting function `plot_pole` that uses `matplotlib` to display the metal pole as a heatmap. Matplotlib will be discussed in the fifth unit of this course. For now, the method can simply be used like, for example, a print statement to better see the metal_pole."
   ]
  },
  {
   "cell_type": "code",
   "execution_count": null,
   "metadata": {},
   "outputs": [],
   "source": [
    "from matplotlib import pyplot as plt \n",
    "# Simple heatmap to easier visualize the array (only used to better display the changes)\n",
    "def plot_pole(arr):\n",
    "    plt.imshow(arr)"
   ]
  },
  {
   "cell_type": "markdown",
   "metadata": {},
   "source": [
    "**Step 1: Initialize the Stress Distribution**\n",
    "* Initialize an 5x25 array to display a metal pole with a uniform stress of 50 MPa across its cross-sectional area."
   ]
  },
  {
   "cell_type": "code",
   "execution_count": null,
   "metadata": {},
   "outputs": [
    {
     "name": "stdout",
     "output_type": "stream",
     "text": [
      "[[50. 50. 50. 50. 50. 50. 50. 50. 50. 50. 50. 50. 50. 50. 50. 50. 50. 50.\n",
      "  50. 50. 50. 50. 50. 50. 50.]\n",
      " [50. 50. 50. 50. 50. 50. 50. 50. 50. 50. 50. 50. 50. 50. 50. 50. 50. 50.\n",
      "  50. 50. 50. 50. 50. 50. 50.]\n",
      " [50. 50. 50. 50. 50. 50. 50. 50. 50. 50. 50. 50. 50. 50. 50. 50. 50. 50.\n",
      "  50. 50. 50. 50. 50. 50. 50.]\n",
      " [50. 50. 50. 50. 50. 50. 50. 50. 50. 50. 50. 50. 50. 50. 50. 50. 50. 50.\n",
      "  50. 50. 50. 50. 50. 50. 50.]\n",
      " [50. 50. 50. 50. 50. 50. 50. 50. 50. 50. 50. 50. 50. 50. 50. 50. 50. 50.\n",
      "  50. 50. 50. 50. 50. 50. 50.]]\n"
     ]
    },
    {
     "data": {
      "image/png": "[encoded data removed]",
      "text/plain": [
       "<Figure size 640x480 with 1 Axes>"
      ]
     },
     "metadata": {},
     "output_type": "display_data"
    }
   ],
   "source": [
    "# Step 1: Initialize the metal pole's stress distribution\n",
    "\n",
    "# Initialize a (5, 25) array with a uniform stress value of 50 (MPa)\n",
    "initial_stress = 50\n",
    "stress_distribution = np.ones((5,25))\n",
    "stress_distribution *= initial_stress\n",
    "\n",
    "# Alternative: \n",
    "# np.full creates an array filled with the specified value.\n",
    "# stress_distribution = np.full((5, 25), 50, dtype=np.float64)\n",
    "\n",
    "print(stress_distribution)\n",
    "plot_pole(stress_distribution)"
   ]
  },
  {
   "cell_type": "markdown",
   "metadata": {},
   "source": [
    "* **Initialization with `np.full`:** This operation creates an array of specified shape and fills it with a given value, perfect for setting a baseline stress level."
   ]
  },
  {
   "cell_type": "markdown",
   "metadata": {},
   "source": [
    "**Step 2: Simulate Material Errors**\n",
    "* Introduce three specific material errors by setting stress values to 65 MPa at identified locations within the array.\n",
    "    * Specifically, increase the stress to 65 MPa at three locations to simulate material defects. The locations are specified as (row, column) indexes. \n",
    "    * Increase stress at `(3, 13)`, `(1, 21)`, and `(4, 2)` to `65 MPa`."
   ]
  },
  {
   "cell_type": "code",
   "execution_count": null,
   "metadata": {},
   "outputs": [
    {
     "name": "stdout",
     "output_type": "stream",
     "text": [
      "[[50. 50. 50. 50. 50. 50. 50. 50. 50. 50. 50. 50. 50. 50. 50. 50. 50. 50.\n",
      "  50. 50. 50. 50. 50. 50. 50.]\n",
      " [50. 50. 50. 50. 50. 50. 50. 50. 50. 50. 50. 50. 50. 50. 50. 50. 50. 50.\n",
      "  50. 50. 50. 65. 50. 50. 50.]\n",
      " [50. 50. 50. 50. 50. 50. 50. 50. 50. 50. 50. 50. 50. 50. 50. 50. 50. 50.\n",
      "  50. 50. 50. 50. 50. 50. 50.]\n",
      " [50. 50. 50. 50. 50. 50. 50. 50. 50. 50. 50. 50. 50. 65. 50. 50. 50. 50.\n",
      "  50. 50. 50. 50. 50. 50. 50.]\n",
      " [50. 50. 65. 50. 50. 50. 50. 50. 50. 50. 50. 50. 50. 50. 50. 50. 50. 50.\n",
      "  50. 50. 50. 50. 50. 50. 50.]]\n"
     ]
    },
    {
     "data": {
      "image/png": "[encoded data removed]",
      "text/plain": [
       "<Figure size 640x480 with 1 Axes>"
      ]
     },
     "metadata": {},
     "output_type": "display_data"
    }
   ],
   "source": [
    "# Step 2: Introduce material errors\n",
    "\n",
    "# Increase stress to 65 MPa at specified locations to simulate material defects.\n",
    "# Direct indexing is used to access and modify specific array elements.\n",
    "material_errors = [(3, 13), (1, 21), (4, 2)]\n",
    "for error in material_errors:\n",
    "    stress_distribution[error] = 65\n",
    "\n",
    "print(stress_distribution)\n",
    "plot_pole(stress_distribution)"
   ]
  },
  {
   "cell_type": "markdown",
   "metadata": {},
   "source": [
    "* **Direct Indexing for Material Errors:** By specifying the indices directly, we can simulate defects in the material's structure. This step demonstrates how to access and modify specific elements within a NumPy array."
   ]
  },
  {
   "cell_type": "markdown",
   "metadata": {},
   "source": [
    "**Step 3: Apply Heat Treatment**\n",
    "* Using heat treatment, we can reduce the stress on the edges (top, bottom, front, and back) of the metal pole. This reduces the stress by 15%. It simulates material softening at the outer parts of the pole to counteract the effects of errors and applied forces.\n",
    "    * Apply a `15% stress reduction` to simulate heat treatment along all outer edges of the pole. This includes: `top` (first row), `bottom` (last row), `front` (first column) and `back` edge (last column). For corners, hardening is also applied just once."
   ]
  },
  {
   "cell_type": "code",
   "execution_count": null,
   "metadata": {},
   "outputs": [
    {
     "name": "stdout",
     "output_type": "stream",
     "text": [
      "[[42.5  42.5  42.5  42.5  42.5  42.5  42.5  42.5  42.5  42.5  42.5  42.5\n",
      "  42.5  42.5  42.5  42.5  42.5  42.5  42.5  42.5  42.5  42.5  42.5  42.5\n",
      "  42.5 ]\n",
      " [42.5  50.   50.   50.   50.   50.   50.   50.   50.   50.   50.   50.\n",
      "  50.   50.   50.   50.   50.   50.   50.   50.   50.   65.   50.   50.\n",
      "  42.5 ]\n",
      " [42.5  50.   50.   50.   50.   50.   50.   50.   50.   50.   50.   50.\n",
      "  50.   50.   50.   50.   50.   50.   50.   50.   50.   50.   50.   50.\n",
      "  42.5 ]\n",
      " [42.5  50.   50.   50.   50.   50.   50.   50.   50.   50.   50.   50.\n",
      "  50.   65.   50.   50.   50.   50.   50.   50.   50.   50.   50.   50.\n",
      "  42.5 ]\n",
      " [42.5  42.5  55.25 42.5  42.5  42.5  42.5  42.5  42.5  42.5  42.5  42.5\n",
      "  42.5  42.5  42.5  42.5  42.5  42.5  42.5  42.5  42.5  42.5  42.5  42.5\n",
      "  42.5 ]]\n"
     ]
    },
    {
     "data": {
      "image/png": "[encoded data removed]",
      "text/plain": [
       "<Figure size 640x480 with 1 Axes>"
      ]
     },
     "metadata": {},
     "output_type": "display_data"
    }
   ],
   "source": [
    "# Step 3: Apply reinforcements by hardening the edges\n",
    "\n",
    "# Apply a 15% reduction in stress along all outer edges to simulate hardened material.\n",
    "# Slicing is used to select entire rows (top and bottom edges) or columns (front and back edges).\n",
    "stress_distribution[0, :] *= 0.85  # Top edge\n",
    "stress_distribution[-1, :] *= 0.85  # Bottom edge\n",
    "# Make sure not to \"harden\" the corners twice\n",
    "stress_distribution[1:-1, 0] *= 0.85  # Front edge\n",
    "stress_distribution[1:-1, -1] *= 0.85  # Back edge\n",
    "\n",
    "print(stress_distribution)\n",
    "plot_pole(stress_distribution)"
   ]
  },
  {
   "cell_type": "markdown",
   "metadata": {},
   "source": [
    "* **Slicing for Reinforcements:** Using slicing to select rows or columns allows us to efficiently apply modifications across entire sections of the array, a powerful feature for manipulating multidimensional data."
   ]
  },
  {
   "cell_type": "markdown",
   "metadata": {},
   "source": [
    "**Step 4: Apply a Linear Force for Gravity**\n",
    "* To make the model more realistic, we add the effect of gravity next. We simulate the effect of gravity as a linearly increasing force from the left side (the pole is fixed to a wall) to the right side (free end). \n",
    "    * This force should increate the stress on the very left by `0 MPa` on the very right by `12 MPa`.\n",
    "    * The force is linearly distributed along the entire pole. "
   ]
  },
  {
   "cell_type": "code",
   "execution_count": null,
   "metadata": {},
   "outputs": [
    {
     "name": "stdout",
     "output_type": "stream",
     "text": [
      "[[42.5  43.   43.5  44.   44.5  45.   45.5  46.   46.5  47.   47.5  48.\n",
      "  48.5  49.   49.5  50.   50.5  51.   51.5  52.   52.5  53.   53.5  54.\n",
      "  54.5 ]\n",
      " [42.5  50.5  51.   51.5  52.   52.5  53.   53.5  54.   54.5  55.   55.5\n",
      "  56.   56.5  57.   57.5  58.   58.5  59.   59.5  60.   75.5  61.   61.5\n",
      "  54.5 ]\n",
      " [42.5  50.5  51.   51.5  52.   52.5  53.   53.5  54.   54.5  55.   55.5\n",
      "  56.   56.5  57.   57.5  58.   58.5  59.   59.5  60.   60.5  61.   61.5\n",
      "  54.5 ]\n",
      " [42.5  50.5  51.   51.5  52.   52.5  53.   53.5  54.   54.5  55.   55.5\n",
      "  56.   71.5  57.   57.5  58.   58.5  59.   59.5  60.   60.5  61.   61.5\n",
      "  54.5 ]\n",
      " [42.5  43.   56.25 44.   44.5  45.   45.5  46.   46.5  47.   47.5  48.\n",
      "  48.5  49.   49.5  50.   50.5  51.   51.5  52.   52.5  53.   53.5  54.\n",
      "  54.5 ]]\n"
     ]
    },
    {
     "data": {
      "image/png": "[encoded data removed]",
      "text/plain": [
       "<Figure size 640x480 with 1 Axes>"
      ]
     },
     "metadata": {},
     "output_type": "display_data"
    }
   ],
   "source": [
    "# Step 4: Model the effect of gravity as a linear force\n",
    "\n",
    "# Simulate gravity's effect with a linearly increasing force from left (0 MPa) to right (12 MPa).\n",
    "# np.linspace generates a linear sequence of values, used here to model the gravity effect.\n",
    "gravity_effect = np.linspace(0, 12, num=25)\n",
    "# The addition operation broadcasts the gravity_effect array across each row.\n",
    "for i in range(5):\n",
    "    stress_distribution[i, :] += gravity_effect  \n",
    "\n",
    "print(stress_distribution)\n",
    "plot_pole(stress_distribution)"
   ]
  },
  {
   "cell_type": "markdown",
   "metadata": {},
   "source": [
    "* **Linear Sequence with `np.linspace`:** This function generates a sequence of evenly spaced values over a specified interval, used here to model an increasing gravitational force along the pole's length."
   ]
  },
  {
   "cell_type": "markdown",
   "metadata": {},
   "source": [
    "* **Looping the gravity** The addition of the gravity effect array to the stress distribution in a loop applies the effect in multiple steps. In the next chapter, broadcasting is introduced that allows to make this step straightforward.  Broadcasting allows NumPy to automatically expand the smaller array to match the shape of the larger one for element-wise operations."
   ]
  },
  {
   "cell_type": "markdown",
   "metadata": {},
   "source": [
    "**Step 5: Return the Array Attributes**\n",
    "* Report the `shape`, `size`, and `data type` of the stress distribution array to understand the structure of the stress data."
   ]
  },
  {
   "cell_type": "code",
   "execution_count": null,
   "metadata": {},
   "outputs": [
    {
     "name": "stdout",
     "output_type": "stream",
     "text": [
      "Array Shape: (5, 25)\n",
      "Array Size: 125\n",
      "Array Data Type: float64\n"
     ]
    }
   ],
   "source": [
    "# Step 5: Return the attributes of the stress distribution\n",
    "\n",
    "# Print the shape, size, and data type of the stress distribution array.\n",
    "# These attributes provide insights into the array's structure and data representation.\n",
    "print(f\"Array Shape: {stress_distribution.shape}\")\n",
    "print(f\"Array Size: {stress_distribution.size}\")\n",
    "print(f\"Array Data Type: {stress_distribution.dtype}\")"
   ]
  },
  {
   "cell_type": "markdown",
   "metadata": {},
   "source": [
    "[--> Back to Outline](#course-outline)\n",
    "\n",
    "---"
   ]
  }
 ],
 "metadata": {
  "language_info": {
   "name": "python"
  }
 },
 "nbformat": 4,
 "nbformat_minor": 2
}
