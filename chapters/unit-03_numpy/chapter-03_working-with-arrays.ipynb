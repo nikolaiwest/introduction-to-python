{
 "cells": [
  {
   "cell_type": "markdown",
   "metadata": {},
   "source": [
    "## **[3. Operations with Numpy Arrays](#3-operations-with-numpy-arrays)**\n",
    "\n",
    "This chapter will cover the core operations you can perform on NumPy arrays, including *arithmetic operations*, *statistical functions* and *broadcasting*. "
   ]
  },
  {
   "cell_type": "markdown",
   "metadata": {},
   "source": [
    "### [3.1 Arithmetic Operations](#3.1-arithmetic-operations)\n",
    "\n",
    "NumPy arrays support a wide range of arithmetic operations, making it easy to perform mathematical computations on arrays element-wise efficiently. This section explores basic arithmetic operations, broadcasting capabilities, and more advanced operations such as matrix multiplication.\n",
    "\n",
    "You can perform basic arithmetic operations such as addition, subtraction, multiplication, and division directly with NumPy arrays. These operations are applied element-wise, meaning they are performed on corresponding elements of the arrays.\n"
   ]
  },
  {
   "cell_type": "code",
   "execution_count": null,
   "metadata": {},
   "outputs": [
    {
     "name": "stdout",
     "output_type": "stream",
     "text": [
      "[1 2 3 4]\n",
      "[5 6 7 8]\n"
     ]
    }
   ],
   "source": [
    "# Creating new example arrays\n",
    "some_array = np.array([1, 2, 3, 4])\n",
    "another_array = np.array([5, 6, 7, 8])\n",
    "print(some_array)\n",
    "print(another_array)"
   ]
  },
  {
   "cell_type": "code",
   "execution_count": null,
   "metadata": {},
   "outputs": [
    {
     "name": "stdout",
     "output_type": "stream",
     "text": [
      "[ 6  8 10 12]\n"
     ]
    }
   ],
   "source": [
    "# Element-wise addition\n",
    "print(some_array + another_array)"
   ]
  },
  {
   "cell_type": "code",
   "execution_count": null,
   "metadata": {},
   "outputs": [
    {
     "name": "stdout",
     "output_type": "stream",
     "text": [
      "[-4 -4 -4 -4]\n"
     ]
    }
   ],
   "source": [
    "# Element-wise subtraction\n",
    "print(some_array - another_array)"
   ]
  },
  {
   "cell_type": "code",
   "execution_count": null,
   "metadata": {},
   "outputs": [
    {
     "name": "stdout",
     "output_type": "stream",
     "text": [
      "[ 5 12 21 32]\n"
     ]
    }
   ],
   "source": [
    "# Element-wise multiplication\n",
    "print(some_array * another_array)"
   ]
  },
  {
   "cell_type": "code",
   "execution_count": null,
   "metadata": {},
   "outputs": [
    {
     "name": "stdout",
     "output_type": "stream",
     "text": [
      "[0.2        0.33333333 0.42857143 0.5       ]\n"
     ]
    }
   ],
   "source": [
    "# Element-wise division\n",
    "print(some_array / another_array)"
   ]
  },
  {
   "cell_type": "markdown",
   "metadata": {},
   "source": [
    "### [3.2 Statistical Functions](#3.2-statistical-functions)\n",
    "\n",
    "NumPy provides a comprehensive set of statistical functions to perform analysis on array data, including functions to calculate the mean, median, variance, and standard deviation.\n",
    "\n",
    "This section helps you to understand how to use Numpy's aggregation functions such as `np.sum`, `np.mean`, `np.std`, `np.min`, and `np.max` to compute statistics from array data. This section will cover how to apply these functions across different axes of an array for both simple and multidimensional arrays."
   ]
  },
  {
   "cell_type": "code",
   "execution_count": null,
   "metadata": {},
   "outputs": [
    {
     "name": "stdout",
     "output_type": "stream",
     "text": [
      "[1 2 3 4 5]\n"
     ]
    }
   ],
   "source": [
    "# Creating an new array\n",
    "some_array = np.array([1, 2, 3, 4, 5])\n",
    "print(some_array)"
   ]
  },
  {
   "cell_type": "code",
   "execution_count": null,
   "metadata": {},
   "outputs": [
    {
     "name": "stdout",
     "output_type": "stream",
     "text": [
      "Mean: 3.0\n"
     ]
    }
   ],
   "source": [
    "# Calculating the mean\n",
    "print(\"Mean:\", np.mean(some_array))"
   ]
  },
  {
   "cell_type": "code",
   "execution_count": null,
   "metadata": {},
   "outputs": [
    {
     "name": "stdout",
     "output_type": "stream",
     "text": [
      "Median: 3.0\n"
     ]
    }
   ],
   "source": [
    "# Calculating the median\n",
    "print(\"Median:\", np.median(some_array))"
   ]
  },
  {
   "cell_type": "code",
   "execution_count": null,
   "metadata": {},
   "outputs": [
    {
     "name": "stdout",
     "output_type": "stream",
     "text": [
      "Variance: 2.0\n"
     ]
    }
   ],
   "source": [
    "# Calculating the variance\n",
    "print(\"Variance:\", np.var(some_array))"
   ]
  },
  {
   "cell_type": "code",
   "execution_count": null,
   "metadata": {},
   "outputs": [
    {
     "name": "stdout",
     "output_type": "stream",
     "text": [
      "Standard Deviation: 1.4142135623730951\n"
     ]
    }
   ],
   "source": [
    "# Calculating the standard deviation\n",
    "print(\"Standard Deviation:\", np.std(some_array))"
   ]
  },
  {
   "cell_type": "markdown",
   "metadata": {},
   "source": [
    "Combining these operations allows for efficient and powerful data manipulation and analysis. Next, we will delve into more advanced techniques, further expanding the capabilities of NumPy arrays for practical applications in data science and engineering."
   ]
  },
  {
   "cell_type": "markdown",
   "metadata": {},
   "source": [
    "### [3.3 Broadcasting](#3.3-broadcasting)\n",
    "\n",
    "Broadcasting describes how **NumPy** treats arrays with different shapes during arithmetic operations. Subject to certain constraints, the smaller array is *“broadcast”* across the larger array so that they have compatible shapes.\n",
    "\n",
    "Broadcasting is a powerful feature of NumPy that enables arithmetic operations on arrays of different shapes. It provides a set of rules that allows these operations to be performed on arrays that do not have the same dimensions but are compatible in terms of their shapes."
   ]
  },
  {
   "cell_type": "code",
   "execution_count": null,
   "metadata": {},
   "outputs": [
    {
     "name": "stdout",
     "output_type": "stream",
     "text": [
      "Broadcasting Example: [2 4 6]\n"
     ]
    }
   ],
   "source": [
    "# Simple example: Creating an array and a scalar\n",
    "some_array = np.array([1, 2, 3])\n",
    "some_value = 2\n",
    "\n",
    "# Broadcasting the scalar across the array\n",
    "print(\"Broadcasting Example:\", some_array * some_value)  # Output: [2 4 6]"
   ]
  },
  {
   "cell_type": "markdown",
   "metadata": {},
   "source": [
    "Broadcasting simplifies the need for explicit looping and other cumbersome methods for performing operations across arrays of different sizes, making code more concise and efficient."
   ]
  },
  {
   "cell_type": "code",
   "execution_count": null,
   "metadata": {},
   "outputs": [
    {
     "name": "stdout",
     "output_type": "stream",
     "text": [
      "Matrix:\n",
      " [[1 2 3]\n",
      " [4 5 6]\n",
      " [7 8 9]]\n",
      "Vector:\n",
      " [ 1  0 -1]\n",
      "Result of broadcasting addition:\n",
      " [[2 2 2]\n",
      " [5 5 5]\n",
      " [8 8 8]]\n"
     ]
    }
   ],
   "source": [
    "# 2D example: Creating a 2D array (matrix) of shape (3, 3)\n",
    "some_array = np.array([[1, 2, 3],\n",
    "                   [4, 5, 6],\n",
    "                   [7, 8, 9]])\n",
    "print(\"Matrix:\\n\", some_array)\n",
    "\n",
    "# Creating a 1D array (vector) of shape (3,)\n",
    "another_array = np.array([1, 0, -1])\n",
    "print(\"Vector:\\n\", another_array)\n",
    "\n",
    "# Broadcasting the vector across each row of the matrix\n",
    "# The vector shape (3,) is broadcasted to (3, 3) to match the matrix shape\n",
    "result = some_array + another_array\n",
    "print(\"Result of broadcasting addition:\\n\", result)"
   ]
  },
  {
   "cell_type": "markdown",
   "metadata": {},
   "source": [
    "- In this example, the vector [1, 0, -1] is added to each row of the matrix. Despite their different shapes, NumPy automatically broadcasts the smaller array (vector) across the larger one (matrix) to perform element-wise addition. This results in the vector being effectively extended to match the shape of the matrix, allowing the operation to proceed as if both operands were of the same shape."
   ]
  },
  {
   "cell_type": "markdown",
   "metadata": {},
   "source": [
    "### [3.4 Coding Challenge: Stress Analysis 2/3](#3.4-coding-challenge-stress-analysis-2/3)\n",
    "\n",
    "#### **Task:** \n",
    "\n",
    "We continue the case study from the previous chapter. Our goal is to simulate stress distribution in a metal pole, accounting for material errors and reinforcements, and apply a linear force representing gravity. This process reflects practical engineering considerations in stress analysis.\n",
    "\n",
    "#### **Step-by-step Goals:**"
   ]
  },
  {
   "cell_type": "markdown",
   "metadata": {},
   "source": [
    "**Step 0: Restore the stress distribution**\n",
    "* To start the exercise, reinitialize the stress distribution from `1/3` without the gravity effect:\n",
    "    * Initialize the metal pole (step 1 of chapter 2.4)\n",
    "    * Apply the material defects (step 2 of chapter 2.4)\n",
    "    * Apply the heat treatment (step 3 of chapter 2.4)"
   ]
  },
  {
   "cell_type": "code",
   "execution_count": null,
   "metadata": {},
   "outputs": [
    {
     "name": "stdout",
     "output_type": "stream",
     "text": [
      "[[42.5  42.5  42.5  42.5  42.5  42.5  42.5  42.5  42.5  42.5  42.5  42.5\n",
      "  42.5  42.5  42.5  42.5  42.5  42.5  42.5  42.5  42.5  42.5  42.5  42.5\n",
      "  42.5 ]\n",
      " [42.5  50.   50.   50.   50.   50.   50.   50.   50.   50.   50.   50.\n",
      "  50.   50.   50.   50.   50.   50.   50.   50.   50.   65.   50.   50.\n",
      "  42.5 ]\n",
      " [42.5  50.   50.   50.   50.   50.   50.   50.   50.   50.   50.   50.\n",
      "  50.   50.   50.   50.   50.   50.   50.   50.   50.   50.   50.   50.\n",
      "  42.5 ]\n",
      " [42.5  50.   50.   50.   50.   50.   50.   50.   50.   50.   50.   50.\n",
      "  50.   65.   50.   50.   50.   50.   50.   50.   50.   50.   50.   50.\n",
      "  42.5 ]\n",
      " [42.5  42.5  55.25 42.5  42.5  42.5  42.5  42.5  42.5  42.5  42.5  42.5\n",
      "  42.5  42.5  42.5  42.5  42.5  42.5  42.5  42.5  42.5  42.5  42.5  42.5\n",
      "  42.5 ]]\n"
     ]
    },
    {
     "data": {
      "image/png": "[encoded data removed]",
      "text/plain": [
       "<Figure size 640x480 with 1 Axes>"
      ]
     },
     "metadata": {},
     "output_type": "display_data"
    }
   ],
   "source": [
    "# Step 0: Reinitialize the stress distribution to simulate starting conditions for Exercise 2\n",
    "# This includes the initial uniform stress and any modifications made in Exercise 1 (excluding gravity effects)\n",
    "\n",
    "# Resetting to the modified distribution from Exercise 1\n",
    "stress_distribution = np.full((5, 25), 50, dtype=np.float64)\n",
    "\n",
    "# Applying the same initial modifications for consistency with Exercise 1's starting point\n",
    "material_errors = [(3, 13), (1, 21), (4, 2)]\n",
    "for error in material_errors:\n",
    "    stress_distribution[error] = 65\n",
    "\n",
    "# Apply edge reinforcements\n",
    "stress_distribution[0, :] *= 0.85\n",
    "stress_distribution[-1, :] *= 0.85\n",
    "stress_distribution[1:-1, 0] *= 0.85\n",
    "stress_distribution[1:-1, -1] *= 0.85\n",
    "\n",
    "# Display\n",
    "print(stress_distribution)\n",
    "plot_pole(stress_distribution)\n"
   ]
  },
  {
   "cell_type": "markdown",
   "metadata": {},
   "source": [
    "**Step 1: Apply a Linear Force for Gravity (using boradcasting)**\n",
    "* To make the model more realistic, we add the effect of gravity again, only this time, using broadcasting. We simulate the effect of gravity as a linearly increasing force from the left side (the pole is fixed to a wall) to the right side (free end). \n",
    "    * This force should increate the stress on the very left by `0 MPa` on the very right by `12 MPa`.\n",
    "    * The force is linearly distributed along the entire pole. "
   ]
  },
  {
   "cell_type": "code",
   "execution_count": null,
   "metadata": {},
   "outputs": [
    {
     "name": "stdout",
     "output_type": "stream",
     "text": [
      "Stress distribution after applying gravity effect:\n",
      "[[42.5  43.   43.5  44.   44.5  45.   45.5  46.   46.5  47.   47.5  48.\n",
      "  48.5  49.   49.5  50.   50.5  51.   51.5  52.   52.5  53.   53.5  54.\n",
      "  54.5 ]\n",
      " [42.5  50.5  51.   51.5  52.   52.5  53.   53.5  54.   54.5  55.   55.5\n",
      "  56.   56.5  57.   57.5  58.   58.5  59.   59.5  60.   75.5  61.   61.5\n",
      "  54.5 ]\n",
      " [42.5  50.5  51.   51.5  52.   52.5  53.   53.5  54.   54.5  55.   55.5\n",
      "  56.   56.5  57.   57.5  58.   58.5  59.   59.5  60.   60.5  61.   61.5\n",
      "  54.5 ]\n",
      " [42.5  50.5  51.   51.5  52.   52.5  53.   53.5  54.   54.5  55.   55.5\n",
      "  56.   71.5  57.   57.5  58.   58.5  59.   59.5  60.   60.5  61.   61.5\n",
      "  54.5 ]\n",
      " [42.5  43.   56.25 44.   44.5  45.   45.5  46.   46.5  47.   47.5  48.\n",
      "  48.5  49.   49.5  50.   50.5  51.   51.5  52.   52.5  53.   53.5  54.\n",
      "  54.5 ]]\n"
     ]
    },
    {
     "data": {
      "image/png": "[encoded data removed]",
      "text/plain": [
       "<Figure size 640x480 with 1 Axes>"
      ]
     },
     "metadata": {},
     "output_type": "display_data"
    }
   ],
   "source": [
    "# Step 1: Simulate the Linear Gravity Effect Using Broadcasting\n",
    "\n",
    "# Simulate gravity's effect with a linearly increasing force \n",
    "# from left (0 MPa) to right (12 MPa) across the pole's length.\n",
    "gravity_effect = np.linspace(0, 12, num=25)\n",
    "# Broadcasting applies the gravity effect across each row.\n",
    "stress_distribution += gravity_effect  \n",
    "\n",
    "print(\"Stress distribution after applying gravity effect:\")\n",
    "print(stress_distribution)\n",
    "plot_pole(stress_distribution)"
   ]
  },
  {
   "cell_type": "markdown",
   "metadata": {},
   "source": [
    "*  This utilized the concept of broadcasting by simulating a linearly increasing gravitational force, showcasing how operations can be expanded across an array without explicit loops or multiple assignments (like in 1/3)"
   ]
  },
  {
   "cell_type": "markdown",
   "metadata": {},
   "source": [
    "**Step 2: Apply an Absolute High-Stress Threshold**\n",
    "* To account for a safety specification, we need to know the areas of the metal pole, where the stress values cross a given threshold. \n",
    "    * Specifically, a threshold of `60 MPa` has to be recognized. Use boolean indexing from chapter 2 to identify the pole areas that cross this threshold  \n"
   ]
  },
  {
   "cell_type": "code",
   "execution_count": null,
   "metadata": {},
   "outputs": [
    {
     "name": "stdout",
     "output_type": "stream",
     "text": [
      "Areas with high stress (>60MPa):\n",
      "[[False False False False False False False False False False False False\n",
      "  False False False False False False False False False False False False\n",
      "  False]\n",
      " [False False False False False False False False False False False False\n",
      "  False False False False False False False False False  True  True  True\n",
      "  False]\n",
      " [False False False False False False False False False False False False\n",
      "  False False False False False False False False False  True  True  True\n",
      "  False]\n",
      " [False False False False False False False False False False False False\n",
      "  False  True False False False False False False False  True  True  True\n",
      "  False]\n",
      " [False False False False False False False False False False False False\n",
      "  False False False False False False False False False False False False\n",
      "  False]]\n"
     ]
    },
    {
     "data": {
      "image/png": "[encoded data removed]",
      "text/plain": [
       "<Figure size 640x480 with 1 Axes>"
      ]
     },
     "metadata": {},
     "output_type": "display_data"
    }
   ],
   "source": [
    "# Step 2: Apply an Absolute High-Stress Threshold\n",
    "\n",
    "# Identify areas with absolute high stress exceeding 60 MPa.\n",
    "high_stress_threshold = 60\n",
    "high_stress_areas = stress_distribution > high_stress_threshold\n",
    "\n",
    "print(\"Areas with high stress (>60MPa):\")\n",
    "print(high_stress_areas)\n",
    "plot_pole(high_stress_areas)"
   ]
  },
  {
   "cell_type": "markdown",
   "metadata": {},
   "source": [
    "* Leveraged direct comparison operations to filter array elements based on an absolute threshold, focusing on identifying critical high-stress areas that might require reinforcement."
   ]
  },
  {
   "cell_type": "markdown",
   "metadata": {},
   "source": [
    "**Step 3: Identify Areas with low stress**\n",
    "* To help with considerations during construction, we want to identify the areas of the pole that have less stress than the average areas of the pole. For this, we again want to highlight some areas of the metal pole.\n",
    "    * Specifically, all areas that experience a stress value of less than `90%` of the `average` stress of the entire pole have to be recognized.  "
   ]
  },
  {
   "cell_type": "code",
   "execution_count": null,
   "metadata": {},
   "outputs": [
    {
     "name": "stdout",
     "output_type": "stream",
     "text": [
      "Areas with high stress (>60MPa):\n",
      "[[ True  True  True  True  True  True  True  True  True  True  True False\n",
      "  False False False False False False False False False False False False\n",
      "  False]\n",
      " [ True False False False False False False False False False False False\n",
      "  False False False False False False False False False False False False\n",
      "  False]\n",
      " [ True False False False False False False False False False False False\n",
      "  False False False False False False False False False False False False\n",
      "  False]\n",
      " [ True False False False False False False False False False False False\n",
      "  False False False False False False False False False False False False\n",
      "  False]\n",
      " [ True  True False  True  True  True  True  True  True  True  True False\n",
      "  False False False False False False False False False False False False\n",
      "  False]]\n"
     ]
    },
    {
     "data": {
      "image/png": "[encoded data removed]",
      "text/plain": [
       "<Figure size 640x480 with 1 Axes>"
      ]
     },
     "metadata": {},
     "output_type": "display_data"
    }
   ],
   "source": [
    "# Step 3: Identify Relative Low-Stress Areas\n",
    "\n",
    "# Define low stress as areas having stress less than 90% of the mean overall stress.\n",
    "# Identifying low-stress areas relative to the mean stress provides insight into variably stressed regions.\n",
    "mean_stress = np.mean(stress_distribution)\n",
    "low_stress_threshold = 0.90 * mean_stress\n",
    "low_stress_areas = stress_distribution < low_stress_threshold\n",
    "\n",
    "print(\"Areas with high stress (>60MPa):\")\n",
    "print(low_stress_areas)\n",
    "plot_pole(low_stress_areas)"
   ]
  },
  {
   "cell_type": "markdown",
   "metadata": {},
   "source": [
    "* Employs a relative threshold based on statistical measures (mean stress) to identify areas under comparatively low stress, emphasizing the importance of context in stress analysis."
   ]
  },
  {
   "cell_type": "markdown",
   "metadata": {},
   "source": [
    "**Step 4: Return the metal pole Attributes**\n",
    "* Report the median, standard deviation, minimum and maximum of the stress distribution array to better understand the structure of the stress data."
   ]
  },
  {
   "cell_type": "code",
   "execution_count": null,
   "metadata": {},
   "outputs": [
    {
     "name": "stdout",
     "output_type": "stream",
     "text": [
      "Median Stress: 53.0\n",
      "Standard Deviation of Stress: 5.713333177751846\n",
      "Maximum Stress: 75.5\n",
      "Minimum Stress: 42.5\n"
     ]
    }
   ],
   "source": [
    "# Step 4: Calculate Stress Metrics\n",
    "\n",
    "# Calculate statistical measures for the entire pole\n",
    "# Calculate and report key statistical metrics for the stress distribution.\n",
    "median_stress = np.median(stress_distribution)\n",
    "print(f\"Median Stress: {median_stress}\")\n",
    "\n",
    "std_dev_stress = np.std(stress_distribution)\n",
    "print(f\"Standard Deviation of Stress: {std_dev_stress}\")\n",
    "\n",
    "max_stress = np.max(stress_distribution)\n",
    "print(f\"Maximum Stress: {max_stress}\")\n",
    "\n",
    "min_stress = np.min(stress_distribution)\n",
    "print(f\"Minimum Stress: {min_stress}\")"
   ]
  },
  {
   "cell_type": "markdown",
   "metadata": {},
   "source": [
    "* This step consolidates the second part of the case study by calculating various statistical metrics, providing insights into the distribution and variability of stress across the metal pole. This step highlights the utility of NumPy's statistical functions in engineering analysis."
   ]
  },
  {
   "cell_type": "markdown",
   "metadata": {},
   "source": [
    "[--> Back to Outline](#course-outline)\n",
    "\n",
    "---\n"
   ]
  }
 ],
 "metadata": {
  "language_info": {
   "name": "python"
  }
 },
 "nbformat": 4,
 "nbformat_minor": 2
}
