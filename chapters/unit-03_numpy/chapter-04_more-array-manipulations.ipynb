{
 "cells": [
  {
   "cell_type": "markdown",
   "metadata": {},
   "source": [
    "## **[4. Advanced Numpy Techniques](#4-advanced-numpy-techniques)**\n"
   ]
  },
  {
   "cell_type": "markdown",
   "metadata": {},
   "source": [
    "### [4.1 Reshaping and Transposing](#4.1-reshaping-and-transposing)\n",
    "\n",
    "This section dives into reshaping arrays to change their dimensionality or shape, which is crucial for preparing data for certain operations or visualization. \n",
    "\n",
    "You are going to learn about the `reshape` method, the `ravel` function for flattening arrays, and the `transpose` function for swapping axes."
   ]
  },
  {
   "cell_type": "markdown",
   "metadata": {},
   "source": [
    "#### Reshaping\n",
    "\n",
    "Reshaping Arrays enables you to change the shape of an array without changing its data. It's a fundamental operation for reorganizing data, facilitating operations that require specific array dimensions."
   ]
  },
  {
   "cell_type": "code",
   "execution_count": null,
   "metadata": {},
   "outputs": [
    {
     "name": "stdout",
     "output_type": "stream",
     "text": [
      "Original Array:\n",
      " [0 1 2 3 4 5 6 7 8]\n",
      "Reshaped Array:\n",
      " [[0]\n",
      " [1]\n",
      " [2]\n",
      " [3]\n",
      " [4]\n",
      " [5]\n",
      " [6]\n",
      " [7]\n",
      " [8]]\n"
     ]
    }
   ],
   "source": [
    "# Reshaping a 1D array into a 2D array\n",
    "some_array = np.arange(6)\n",
    "some_array_reshaped = some_array.reshape((2,3))\n",
    "\n",
    "print(\"Original Array:\\n\", some_array)\n",
    "print(\"Reshaped Array:\\n\", some_array_reshaped)"
   ]
  },
  {
   "cell_type": "markdown",
   "metadata": {},
   "source": [
    "#### Raveling\n",
    "\n",
    "The ravel method in **NumPy** is a straightforward way to transform a `multi-dimensional` array into a `one-dimensional array`. It *\"flattens\"* the data, converting the structure of the original array into a single row."
   ]
  },
  {
   "cell_type": "code",
   "execution_count": null,
   "metadata": {},
   "outputs": [
    {
     "name": "stdout",
     "output_type": "stream",
     "text": [
      "Original Array:\n",
      " [[ 0  1  2  3]\n",
      " [ 4  5  6  7]\n",
      " [ 8  9 10 11]]\n",
      "Reshaped Array:\n",
      " [ 0  1  2  3  4  5  6  7  8  9 10 11]\n"
     ]
    }
   ],
   "source": [
    "# Reshaping a 3D array into a 1D array\n",
    "some_array = np.arange(12).reshape((3,4))\n",
    "some_array_raveled = some_array.ravel()\n",
    "\n",
    "print(\"Original Array:\\n\", some_array)\n",
    "print(\"Reshaped Array:\\n\", some_array_raveled)"
   ]
  },
  {
   "cell_type": "markdown",
   "metadata": {},
   "source": [
    "#### Transposing\n",
    "\n",
    "Transposing Arrays is another crucial operation, especially in linear algebra. Transposing reorients the array, swapping rows and columns."
   ]
  },
  {
   "cell_type": "code",
   "execution_count": null,
   "metadata": {},
   "outputs": [
    {
     "name": "stdout",
     "output_type": "stream",
     "text": [
      "Array:\n",
      "[[0 1 2]\n",
      " [3 4 5]\n",
      " [6 7 8]]\n",
      "Transposed Array:\n",
      " [[0 3 6]\n",
      " [1 4 7]\n",
      " [2 5 8]]\n"
     ]
    }
   ],
   "source": [
    "# Transposing the array\n",
    "some_array = np.arange(9).reshape(3,3)\n",
    "print(f\"Array:\\n{some_array}\")\n",
    "\n",
    "some_array_transposed = some_array.T\n",
    "# some_array_transposed = some_array.transpose() # does the same as .T\n",
    "print(\"Transposed Array:\\n\", some_array_transposed)"
   ]
  },
  {
   "cell_type": "markdown",
   "metadata": {},
   "source": [
    "### [4.2 Stacking and Splitting](#4.2-stacking-and-splitting)\n",
    "\n",
    "This section covers methods for combining multiple arrays into one, such as `np.vstack` (vertical stack), `np.hstack` (horizontal stack), and `np.concatenate`. Similarly, learn how to split a single array into multiple arrays using functions like `np.split`, `np.hsplit`, and `np.vsplit`.\n",
    "\n",
    "Stacking and splitting are essential techniques for rearranging and managing data sets in NumPy. These operations allow for the combination of multiple arrays into a single array (stacking) or dividing a single array into multiple arrays (splitting), facilitating more complex data manipulation and analysis tasks.\n"
   ]
  },
  {
   "cell_type": "markdown",
   "metadata": {},
   "source": [
    "#### Stacking\n",
    "\n",
    "Stacking combines different arrays along a specified axis. NumPy provides various functions for stacking, including `np.vstack` (vertical stack), `np.hstack` (horizontal stack), and `np.dstack` (depth stack), among others."
   ]
  },
  {
   "cell_type": "code",
   "execution_count": null,
   "metadata": {},
   "outputs": [
    {
     "name": "stdout",
     "output_type": "stream",
     "text": [
      "[1 2 3]\n",
      "[4 5 6]\n"
     ]
    }
   ],
   "source": [
    "some_array = np.array([1, 2, 3])\n",
    "another_array = np.array([4, 5, 6])\n",
    "\n",
    "print(some_array)\n",
    "print(another_array)"
   ]
  },
  {
   "cell_type": "code",
   "execution_count": null,
   "metadata": {},
   "outputs": [
    {
     "name": "stdout",
     "output_type": "stream",
     "text": [
      "[[1 2 3]\n",
      " [4 5 6]]\n"
     ]
    }
   ],
   "source": [
    "# Vertical stacking\n",
    "vstacked = np.vstack((some_array, another_array))\n",
    "print(vstacked)"
   ]
  },
  {
   "cell_type": "code",
   "execution_count": null,
   "metadata": {},
   "outputs": [
    {
     "name": "stdout",
     "output_type": "stream",
     "text": [
      "[[1 4]\n",
      " [2 5]\n",
      " [3 6]]\n"
     ]
    }
   ],
   "source": [
    "# Horizontal stacking\n",
    "hstacked = np.hstack((some_array.reshape(-1, 1), another_array.reshape(-1, 1)))\n",
    "print(hstacked)"
   ]
  },
  {
   "cell_type": "markdown",
   "metadata": {},
   "source": [
    "#### Splitting\n",
    "\n",
    "Conversely, splitting breaks one array into multiple smaller arrays. NumPy offers np.vsplit, np.hsplit, and np.dsplit for vertical, horizontal, and depth-wise splitting, respectively."
   ]
  },
  {
   "cell_type": "code",
   "execution_count": null,
   "metadata": {},
   "outputs": [
    {
     "name": "stdout",
     "output_type": "stream",
     "text": [
      "Vertically Split:\n",
      "[[1 2 3]]\n",
      "[[4 5 6]]\n"
     ]
    }
   ],
   "source": [
    "# Splitting the vertically stacked array\n",
    "vsplit_result = np.vsplit(vstacked, 2)\n",
    "\n",
    "print(\"Vertically Split:\")\n",
    "for array in vsplit_result:\n",
    "    print(array)"
   ]
  },
  {
   "cell_type": "code",
   "execution_count": null,
   "metadata": {},
   "outputs": [
    {
     "name": "stdout",
     "output_type": "stream",
     "text": [
      "Horizontally Split:\n",
      "[[1]\n",
      " [2]\n",
      " [3]]\n",
      "[[4]\n",
      " [5]\n",
      " [6]]\n"
     ]
    }
   ],
   "source": [
    "# Splitting the horizontally stacked array\n",
    "hsplit_result = np.hsplit(hstacked, 2)\n",
    "\n",
    "print(\"Horizontally Split:\")\n",
    "for array in hsplit_result:\n",
    "    print(array)"
   ]
  },
  {
   "cell_type": "markdown",
   "metadata": {},
   "source": [
    "#### Stacking and Splitting with Higher Dimensions\n",
    "\n",
    "Stacking and splitting are not limited to 1D and 2D arrays; they can be applied to arrays of higher dimensions, enabling intricate data restructuring suitable for advanced analysis and visualization tasks."
   ]
  },
  {
   "cell_type": "code",
   "execution_count": null,
   "metadata": {},
   "outputs": [
    {
     "name": "stdout",
     "output_type": "stream",
     "text": [
      "[[[ 7  1]\n",
      "  [ 8  2]\n",
      "  [ 9  3]]\n",
      "\n",
      " [[10  4]\n",
      "  [11  5]\n",
      "  [12  6]]]\n"
     ]
    }
   ],
   "source": [
    "# Stacking and splitting 3D arrays\n",
    "some_array = np.array([[7, 8, 9], [10, 11, 12]])\n",
    "another_array =  np.array([[1, 2, 3], [4, 5, 6]])\n",
    "dstacked = np.dstack((some_array, another_array))\n",
    "print(dstacked)"
   ]
  },
  {
   "cell_type": "code",
   "execution_count": null,
   "metadata": {},
   "outputs": [
    {
     "name": "stdout",
     "output_type": "stream",
     "text": [
      "Depth-wise Split:\n",
      "[[[ 7]\n",
      "  [ 8]\n",
      "  [ 9]]\n",
      "\n",
      " [[10]\n",
      "  [11]\n",
      "  [12]]]\n",
      "[[[1]\n",
      "  [2]\n",
      "  [3]]\n",
      "\n",
      " [[4]\n",
      "  [5]\n",
      "  [6]]]\n"
     ]
    }
   ],
   "source": [
    "# Splitting the depth-stacked array\n",
    "dsplit_result = np.dsplit(dstacked, 2)\n",
    "\n",
    "print(\"Depth-wise Split:\")\n",
    "for array in dsplit_result:\n",
    "    print(array)"
   ]
  },
  {
   "cell_type": "markdown",
   "metadata": {},
   "source": [
    "### [4.3 Universal Functions (ufuncs)](#4.3-universal-functions-ufuncs)\n",
    "\n",
    "Numpy's universal functions, or `ufuncs`, allow for fast, element-wise operations on arrays. Gain an understanding of these functions, including mathematical operations, trigonometric functions, comparison operators, and more. Learn how to leverage ufuncs for efficient computations on large datasets.\n"
   ]
  },
  {
   "cell_type": "code",
   "execution_count": null,
   "metadata": {},
   "outputs": [],
   "source": [
    "# Goal: Using a universal function for element-wise addition\n",
    "some_array = np.arange(5)\n",
    "another_array = np.arange(5, 10)\n",
    "\n",
    "print(some_array)\n",
    "print(another_array)\n",
    "\n",
    "sum_arrays = np.add(some_array, another_array)\n",
    "print(\"Sum of A and B:\\n\", sum_arrays)"
   ]
  },
  {
   "cell_type": "markdown",
   "metadata": {},
   "source": [
    "Creating Custom ufuncs can extend NumPy's functionality to user-defined operations, adapting it to specific needs."
   ]
  },
  {
   "cell_type": "code",
   "execution_count": null,
   "metadata": {},
   "outputs": [
    {
     "name": "stdout",
     "output_type": "stream",
     "text": [
      "Some array:\t[0 1 2 3 4 5 6 7 8 9]\n",
      "Another array:\t[ 6.  7.  8.  9. 10. 11. 12. 13. 14. 15.]\n",
      "Result of Custom Ufunc with the simple function:\n",
      "[8.0 10.0 12.0 14.0 16.0 18.0 20.0 22.0 24.0 26.0]\n"
     ]
    }
   ],
   "source": [
    "# Defining a custom universal function\n",
    "def simple_func(x, y):\n",
    "    return x + y + 2\n",
    "\n",
    "# np.frompyfunc takes an arbitrary Python function and returns a NumPy ufunc\n",
    "simple_ufunc = np.frompyfunc(simple_func, 2, 1)\n",
    "\n",
    "# Prepare some sample data\n",
    "some_array = np.arange(10)  # [0, 1, 2, ..., 9]\n",
    "another_array = np.linspace(6, 15, 10)  # 10 values from 6 to 15\n",
    "\n",
    "# Apply the ufunc on the arrays \n",
    "simple_ufunc_result = simple_ufunc(some_array, another_array)\n",
    "\n",
    "# Display the inputs and the results \n",
    "print(f\"Some array:\\t{some_array}\")\n",
    "print(f\"Another array:\\t{another_array}\")\n",
    "print(f\"Result of Custom Ufunc with the simple function:\\n{simple_ufunc_result}\", )\n"
   ]
  },
  {
   "cell_type": "markdown",
   "metadata": {},
   "source": [
    "Here is another example of a numpy ufunc. We aim to implement a computation with contitionals, like this:\n",
    "\n",
    "$$\n",
    "f(x, y) = \\left\\{\n",
    "\\begin{array}{ll}\n",
    "x^2 + y & \\text{if } x > 5 \\\\\n",
    "x + y^2 & \\text{otherwise}\n",
    "\\end{array}\n",
    "\\right.\n",
    "$$"
   ]
  },
  {
   "cell_type": "code",
   "execution_count": null,
   "metadata": {},
   "outputs": [],
   "source": [
    "import numpy as np\n",
    "\n",
    "# Define a more complex function that involves conditionals\n",
    "def complex_func(x, y):\n",
    "    if x > 5:\n",
    "        return x**2 + y\n",
    "    else:\n",
    "        return x + y**2\n",
    "\n",
    "# Convert the Python function to a NumPy universal function (ufunc)\n",
    "complex_ufunc = np.frompyfunc(complex_func, 2, 1)\n",
    "\n",
    "# Prepare some sample data\n",
    "some_array = np.arange(10)  # [0, 1, 2, ..., 9]\n",
    "another_array = np.linspace(6, 15, 10)  # 10 values from 6 to 15\n",
    "\n",
    "# Apply the ufunc on the arrays\n",
    "comlex_ufunc_result = complex_ufunc(some_array, another_array)\n",
    "\n",
    "# Display the inputs and the result\n",
    "print(f\"Some array:\\t{some_array}\")\n",
    "print(f\"Another array:\\t{another_array}\")\n",
    "print(f\"Result of Custom Ufunc for the Complex Function:\\n{comlex_ufunc_result}\")\n",
    "\n",
    "#from matplotlib import pyplot as plt \n",
    "#plt.plot(result)\n",
    "#plt.show()"
   ]
  },
  {
   "cell_type": "markdown",
   "metadata": {},
   "source": [
    "### [4.4 Advanced Indexing and Slicing](#4.4-advanced-indexing-and-slicing)\n",
    "\n",
    "We revisit boolean indexing and now use advanced indexing and slicing. It allows for more nuanced data selection, such as filtering data based on multiple conditions."
   ]
  },
  {
   "cell_type": "code",
   "execution_count": null,
   "metadata": {},
   "outputs": [],
   "source": [
    "# Filtering data with multiple conditions\n",
    "some_array = np.array([1, 2, 3, 4, 5])\n",
    "some_array_filter = (some_array > 2) & (some_array < 5)\n",
    "\n",
    "print(f\"Data:\\t{some_array}\")\n",
    "print(f\"Filter:\\t{some_array_filter}\")\n",
    "print(f\"Filtered Data:\\t {some_array[some_array_filter]}\")"
   ]
  },
  {
   "cell_type": "markdown",
   "metadata": {},
   "source": [
    "Indexing with Integer Arrays lets you select complex patterns of elements."
   ]
  },
  {
   "cell_type": "code",
   "execution_count": null,
   "metadata": {},
   "outputs": [],
   "source": [
    "# Selecting elements with fancy indexing\n",
    "another_array = np.array([4, 5, 6, 7, 8, 9])\n",
    "fancy_indexed_data = another_array[[1, 3, 4]]\n",
    "\n",
    "print(f\"Fancy Indexed Data: {fancy_indexed_data}\")"
   ]
  },
  {
   "cell_type": "markdown",
   "metadata": {},
   "source": [
    "### [4.5 Coding Challenge: Stress Analysis 3/3](#4.5-coding-challenge-stress-analysis-3/3)\n",
    "\n",
    "#### **Task:** \n",
    "\n",
    "We revisit the stress analysis again to now leverage the new numpy functionality in the material simulation. \n",
    "\n",
    "#### **Step-by-step Goals:**"
   ]
  },
  {
   "cell_type": "markdown",
   "metadata": {},
   "source": [
    "**Step 0: Restore the stress distribution**\n",
    "* To start the exercise, reinitialize the stress distribution from `1/3` without the gravity effect:\n",
    "    * Initialize the metal pole (step 1 of chapter 2.4)\n",
    "    * Apply the material defects (step 2 of chapter 2.4)\n",
    "    * Apply the heat treatment (step 3 of chapter 2.4)"
   ]
  },
  {
   "cell_type": "code",
   "execution_count": null,
   "metadata": {},
   "outputs": [],
   "source": [
    "# Step 0: Reinitialize the stress distribution to simulate starting conditions for Exercise 2\n",
    "# This includes the initial uniform stress and any modifications made in Exercise 1 (excluding gravity effects)\n",
    "\n",
    "# Resetting to the modified distribution from Exercise 1\n",
    "stress_distribution = np.full((5, 25), 50, dtype=np.float64)\n",
    "\n",
    "# Applying the same initial modifications for consistency with Exercise 1's starting point\n",
    "material_errors = [(3, 13), (1, 21), (4, 2)]\n",
    "for error in material_errors:\n",
    "    stress_distribution[error] = 65\n",
    "\n",
    "# Apply edge reinforcements\n",
    "stress_distribution[0, :] *= 0.85\n",
    "stress_distribution[-1, :] *= 0.85\n",
    "stress_distribution[1:-1, 0] *= 0.85\n",
    "stress_distribution[1:-1, -1] *= 0.85\n",
    "\n",
    "# Display\n",
    "print(stress_distribution)\n",
    "plot_pole(stress_distribution)"
   ]
  },
  {
   "cell_type": "markdown",
   "metadata": {},
   "source": [
    "**Step 1: Cutting-off the stress risk**\n",
    "* Our previous threshold-based stress estimation (step 2 in 2/3) has shown that the current tip of the pole is susceptible to stress. For that reason a section of the tip of the pole will be cut of.\n",
    "    * Cut the metal pole to a length of `15` by removing `10` length units from the free-standing side (right).  "
   ]
  },
  {
   "cell_type": "code",
   "execution_count": null,
   "metadata": {},
   "outputs": [
    {
     "name": "stdout",
     "output_type": "stream",
     "text": [
      "[[42.5  43.   43.5  44.   44.5  45.   45.5  46.   46.5  47.   47.5  48.\n",
      "  48.5  49.   49.5 ]\n",
      " [42.5  50.5  51.   51.5  52.   52.5  53.   53.5  54.   54.5  55.   55.5\n",
      "  56.   56.5  57.  ]\n",
      " [42.5  50.5  51.   51.5  52.   52.5  53.   53.5  54.   54.5  55.   55.5\n",
      "  56.   56.5  57.  ]\n",
      " [42.5  50.5  51.   51.5  52.   52.5  53.   53.5  54.   54.5  55.   55.5\n",
      "  56.   71.5  57.  ]\n",
      " [42.5  43.   56.25 44.   44.5  45.   45.5  46.   46.5  47.   47.5  48.\n",
      "  48.5  49.   49.5 ]]\n"
     ]
    },
    {
     "data": {
      "image/png": "[encoded data removed]",
      "text/plain": [
       "<Figure size 640x480 with 1 Axes>"
      ]
     },
     "metadata": {},
     "output_type": "display_data"
    }
   ],
   "source": [
    "# Step 1: Cutting-off the stress risk by removing the tip of the metal pole\n",
    "\n",
    "stress_distribution_cut_left, stress_distribution_cut_right = np.split(stress_distribution, [15], axis=1)\n",
    "\n",
    "print(stress_distribution_cut_left)\n",
    "plot_pole(stress_distribution_cut_left)"
   ]
  },
  {
   "cell_type": "markdown",
   "metadata": {},
   "source": [
    "**Step 2: Welding-on a new piece**\n",
    "* After cutting a section of the pole, we need to attach a new piece of material to again match the target length of `25`. This time, we are using a material that has a lower stress value of `40 MPa` for the tip. No heat treatment is applied to this piece. However, welding increases the tension in the affected areas of the metal rod by `10%`. \n",
    "    * Attach the new piece of size `5x10` with `40 MPa` to the right side of the metal pole.\n",
    "    * Account for the welding effect by increasing in the affected area (outer right layer in the pole, left layer in the new piece) "
   ]
  },
  {
   "cell_type": "code",
   "execution_count": null,
   "metadata": {},
   "outputs": [
    {
     "name": "stdout",
     "output_type": "stream",
     "text": [
      "Stress distribution after adding new material:\n",
      "[[42.5  43.   43.5  44.   44.5  45.   45.5  46.   46.5  47.   47.5  48.\n",
      "  48.5  49.   54.45 44.   40.   40.   40.   40.   40.   40.   40.   40.\n",
      "  40.  ]\n",
      " [42.5  50.5  51.   51.5  52.   52.5  53.   53.5  54.   54.5  55.   55.5\n",
      "  56.   56.5  62.7  44.   40.   40.   40.   40.   40.   40.   40.   40.\n",
      "  40.  ]\n",
      " [42.5  50.5  51.   51.5  52.   52.5  53.   53.5  54.   54.5  55.   55.5\n",
      "  56.   56.5  62.7  44.   40.   40.   40.   40.   40.   40.   40.   40.\n",
      "  40.  ]\n",
      " [42.5  50.5  51.   51.5  52.   52.5  53.   53.5  54.   54.5  55.   55.5\n",
      "  56.   71.5  62.7  44.   40.   40.   40.   40.   40.   40.   40.   40.\n",
      "  40.  ]\n",
      " [42.5  43.   56.25 44.   44.5  45.   45.5  46.   46.5  47.   47.5  48.\n",
      "  48.5  49.   54.45 44.   40.   40.   40.   40.   40.   40.   40.   40.\n",
      "  40.  ]]\n"
     ]
    },
    {
     "data": {
      "image/png": "[encoded data removed]",
      "text/plain": [
       "<Figure size 640x480 with 1 Axes>"
      ]
     },
     "metadata": {},
     "output_type": "display_data"
    }
   ],
   "source": [
    "# Step 2: Modify Pole with New Material Attachment\n",
    "\n",
    "# Step 2: Welding-on a new piece\n",
    "# Creating a new piece with lower stress value\n",
    "stress_distribution_new_piece = np.full((5, 10), 40, dtype=np.float64)\n",
    "\n",
    "# Attaching the new piece to the cut pole\n",
    "stress_distribution_joined = np.hstack((stress_distribution_cut_left, stress_distribution_new_piece))\n",
    "# stress_distribution_final = np.concatenate((stress_distribution_cut_left, stress_distribution_new_piece), axis=1) # same\n",
    "\n",
    "# Accounting for welding effect by increasing tension in the affected areas by 10%\n",
    "# Affected areas: rightmost column of the cut left part and the leftmost column of the new piece\n",
    "stress_distribution_joined[:, 14] *= 1.10\n",
    "stress_distribution_joined[:, 15] *= 1.10\n",
    "\n",
    "print(\"Stress distribution after adding new material:\")\n",
    "print(stress_distribution_joined)\n",
    "plot_pole(stress_distribution_joined)"
   ]
  },
  {
   "cell_type": "markdown",
   "metadata": {},
   "source": [
    "**Step 3: Testing Alternative Orientations**\n",
    "* To evaluate how the metal pole would fare when attached in a different manner, we want to simulate attaching the pole to the bottom (instead of to a wall on the left side), which could represent a different structural configuration. Due to its lower stress, the newly attached piece should be on the bottom. \n",
    "    * Generate a `transposed` version of the metal pole's stress distribution as it stands after completing the previous steps. "
   ]
  },
  {
   "cell_type": "code",
   "execution_count": null,
   "metadata": {},
   "outputs": [
    {
     "name": "stdout",
     "output_type": "stream",
     "text": [
      "[[42.5  42.5  42.5  42.5  42.5 ]\n",
      " [43.   50.5  50.5  50.5  43.  ]\n",
      " [56.25 51.   51.   51.   43.5 ]\n",
      " [44.   51.5  51.5  51.5  44.  ]\n",
      " [44.5  52.   52.   52.   44.5 ]\n",
      " [45.   52.5  52.5  52.5  45.  ]\n",
      " [45.5  53.   53.   53.   45.5 ]\n",
      " [46.   53.5  53.5  53.5  46.  ]\n",
      " [46.5  54.   54.   54.   46.5 ]\n",
      " [47.   54.5  54.5  54.5  47.  ]\n",
      " [47.5  55.   55.   55.   47.5 ]\n",
      " [48.   55.5  55.5  55.5  48.  ]\n",
      " [48.5  56.   56.   56.   48.5 ]\n",
      " [49.   71.5  56.5  56.5  49.  ]\n",
      " [54.45 62.7  62.7  62.7  54.45]\n",
      " [44.   44.   44.   44.   44.  ]\n",
      " [40.   40.   40.   40.   40.  ]\n",
      " [40.   40.   40.   40.   40.  ]\n",
      " [40.   40.   40.   40.   40.  ]\n",
      " [40.   40.   40.   40.   40.  ]\n",
      " [40.   40.   40.   40.   40.  ]\n",
      " [40.   40.   40.   40.   40.  ]\n",
      " [40.   40.   40.   40.   40.  ]\n",
      " [40.   40.   40.   40.   40.  ]\n",
      " [40.   40.   40.   40.   40.  ]]\n"
     ]
    },
    {
     "data": {
      "image/png": "[encoded data removed]",
      "text/plain": [
       "<Figure size 640x480 with 1 Axes>"
      ]
     },
     "metadata": {},
     "output_type": "display_data"
    }
   ],
   "source": [
    "# Step 3: Creating a copy of the metal pole and transposing it\n",
    "# This simulates attaching the pole to the bottom instead of a wall on the left side\n",
    "\n",
    "# Creating a copy and transposing\n",
    "stress_distribution_transposed = np.transpose(stress_distribution_joined)\n",
    "\n",
    "# Bonus: Change the column order\n",
    "stress_distribution_transposed = stress_distribution_transposed[:, ::-1]\n",
    "\n",
    "# Bonus 2: Flip the metal pole \n",
    "# stress_distribution_transposed = stress_distribution_transposed[::-1, :]\n",
    "\n",
    "# Display transposed stress distribution\n",
    "print(stress_distribution_transposed)\n",
    "plot_pole(stress_distribution_transposed)"
   ]
  },
  {
   "cell_type": "markdown",
   "metadata": {},
   "source": [
    "**Step 4: Calculate the gravity of the standing pole**\n",
    "*  To enhance the realism of our metal pole stress distribution model, we again want to incorporate the effect of gravity. Instead of a linear effect, we want to account for the new material density. This involves modifying the stress values across the pole to reflect how gravity would influence those values, especially considering the pole's orientation and the depth of each section.\n",
    "    * Create a function that calculates the added stress due to gravity based on the depth of each element within the metal pole. \n",
    "        * The new material's density has an effect of `2`.\n",
    "        * The old material has an effect of `1` due to its lower density. \n",
    "    * Utilize `np.frompyfunc` to transform the custom Python function into a NumPy universal function (`ufunc`). This enables the function to operate on NumPy arrays element-wise, applying the gravity effect calculation across the entire array efficiently.\n",
    "    * Iterate over the metal pole's stress distribution array, applying the gravity effect universal function to each element. This process should consider the depth of each element, adjusting the stress values to simulate the impact of gravity on the structure's overall stress distribution.\n"
   ]
  },
  {
   "cell_type": "code",
   "execution_count": null,
   "metadata": {},
   "outputs": [
    {
     "name": "stdout",
     "output_type": "stream",
     "text": [
      "45.0\n",
      "[[43.5  43.5  43.5  43.5  43.5 ]\n",
      " [45.   52.5  52.5  52.5  45.  ]\n",
      " [59.25 54.   54.   54.   46.5 ]\n",
      " [48.   55.5  55.5  55.5  48.  ]\n",
      " [49.5  57.   57.   57.   49.5 ]\n",
      " [51.   58.5  58.5  58.5  51.  ]\n",
      " [52.5  60.   60.   60.   52.5 ]\n",
      " [54.   61.5  61.5  61.5  54.  ]\n",
      " [55.5  63.   63.   63.   55.5 ]\n",
      " [57.   64.5  64.5  64.5  57.  ]\n",
      " [58.5  66.   66.   66.   58.5 ]\n",
      " [60.   67.5  67.5  67.5  60.  ]\n",
      " [61.5  69.   69.   69.   61.5 ]\n",
      " [63.   85.5  70.5  70.5  63.  ]\n",
      " [69.45 77.7  77.7  77.7  69.45]\n",
      " [61.   61.   61.   61.   61.  ]\n",
      " [59.   59.   59.   59.   59.  ]\n",
      " [61.   61.   61.   61.   61.  ]\n",
      " [63.   63.   63.   63.   63.  ]\n",
      " [65.   65.   65.   65.   65.  ]\n",
      " [67.   67.   67.   67.   67.  ]\n",
      " [69.   69.   69.   69.   69.  ]\n",
      " [71.   71.   71.   71.   71.  ]\n",
      " [73.   73.   73.   73.   73.  ]\n",
      " [75.   75.   75.   75.   75.  ]]\n"
     ]
    },
    {
     "data": {
      "image/png": "[encoded data removed]",
      "text/plain": [
       "<Figure size 640x480 with 1 Axes>"
      ]
     },
     "metadata": {},
     "output_type": "display_data"
    }
   ],
   "source": [
    "# Step 4: Calculate the gravity of the standing pole using a ufunc\n",
    " \n",
    "# Defining a Python function that calculates the gravity effect based on depth\n",
    "def apply_gravity(pole_row, pole_position):\n",
    "    if pole_row < 15: \n",
    "        return pole_row + pole_position + 1\n",
    "    else: \n",
    "        return pole_row + pole_position + (pole_row - 15) + 2\n",
    " \n",
    "# Creating a ufunc from the Python function with np.frompyfunc\n",
    "apply_gravity_ufunc = np.frompyfunc(apply_gravity, 2, 1)\n",
    " \n",
    "# Create a copy of the transposed pole \n",
    "stress_distribution_transposed_gravity = stress_distribution_transposed.copy()\n",
    " \n",
    "#plot_pole(stress_distribution_transposed_gravity)\n",
    " \n",
    "# Apply the ufunc across each element, taking into account its depth\n",
    "for i in range(stress_distribution_transposed_gravity.shape[0]):  \n",
    "    stress_distribution_transposed_gravity[i, :] = apply_gravity_ufunc(i, stress_distribution_transposed_gravity[i, :])\n",
    " \n",
    "print(stress_distribution_transposed_gravity[1, 0])\n",
    "print(stress_distribution_transposed_gravity)\n",
    "plot_pole(stress_distribution_transposed_gravity)"
   ]
  },
  {
   "cell_type": "markdown",
   "metadata": {},
   "source": [
    "* For many tasks, specific methods are often available through numpy. For example, the density can be added directly to the stress using `cumsum`. "
   ]
  },
  {
   "cell_type": "code",
   "execution_count": null,
   "metadata": {},
   "outputs": [
    {
     "data": {
      "image/png": "[encoded data removed]",
      "text/plain": [
       "<Figure size 640x480 with 1 Axes>"
      ]
     },
     "metadata": {},
     "output_type": "display_data"
    }
   ],
   "source": [
    "# Alternative\n",
    "density = np.vstack((np.full((15,5), 1), np.full((10,5), 2)))\n",
    "gravity_effect = np.cumsum(density, axis=0)\n",
    "plot_pole(stress_distribution_transposed + gravity_effect)\n"
   ]
  },
  {
   "cell_type": "markdown",
   "metadata": {},
   "source": [
    "**Bonus step: Gravity for the horizontal pole**\n",
    "\n",
    "Consider how to update the gravity calculation for the horizontal metal pole..."
   ]
  },
  {
   "cell_type": "markdown",
   "metadata": {},
   "source": [
    "[--> Back to Outline](#course-outline)"
   ]
  }
 ],
 "metadata": {
  "language_info": {
   "name": "python"
  }
 },
 "nbformat": 4,
 "nbformat_minor": 2
}
