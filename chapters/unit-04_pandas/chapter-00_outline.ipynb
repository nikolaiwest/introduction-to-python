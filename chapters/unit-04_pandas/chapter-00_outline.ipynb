{
 "cells": [
  {
   "cell_type": "markdown",
   "metadata": {},
   "source": [
    "# UE4: Pandas\n",
    "\n",
    "<img src=https://upload.wikimedia.org/wikipedia/commons/thumb/e/ed/Pandas_logo.svg/2560px-Pandas_logo.svg.png height=200>"
   ]
  },
  {
   "cell_type": "markdown",
   "metadata": {},
   "source": [
    "### **Introduction to Pandas for Data Analysis**\n",
    "\n",
    "Welcome to the Introduction to **Pandas** course, designed to equip you with the skills necessary for data manipulation and analysis in Python using the Pandas library. \n",
    "\n",
    "This two-hour course is structured to offer a comprehensive overview of Pandas' capabilities, ensuring you're prepared to tackle real-world data analysis challenges.\n",
    "\n",
    "---"
   ]
  },
  {
   "cell_type": "markdown",
   "metadata": {},
   "source": [
    "## **Course Outline**\n",
    "\n",
    "#### **Chapter 1. [Introduction to Pandas](#1-introduction-to-pandas)**\n",
    "- **Chapter 1.1 [Overview of Pandas](#1.1-overview-of-pandas):** What is Pandas, and why is it essential for data science?\n",
    "- **Chapter 1.2 [Installation and Setup](#1.2-installation-and-setup):** Getting Pandas up and running.\n",
    "- **Chapter 1.3 [Pandas Data Structures](#1.3-pandas-data-structures):** Understanding Series and DataFrames.\n",
    "\n",
    "#### **Chapter 2. [Data Manipulation with Pandas](#2-data-manipulation-with-pandas)**\n",
    "- **Chapter 2.1 [Data Importing](#2.1-data-importing):** Reading data from various sources.\n",
    "- **Chapter 2.2 [Data Exploration](#2.2-data-exploration):** Basic data exploration techniques.\n",
    "- **Chapter 2.3 [Data Indexing](#2.3-data-indexing):** Indexing your data.\n",
    "- **Chapter 2.4 [Data Cleaning](#2.4-data-cleaning):** Preparing your data for analysis.\n",
    "- **Chapter 2.5 [Coding Challenge](#2.5-coding-challenge):** Practical exercise on data manipulation.\n",
    "\n",
    "#### **Chapter 3. [Data Analysis and Aggregation](#3-data-analysis-and-aggregation)**\n",
    "- **Chapter 3.1 [Filtering and Sorting](#3.1-filtering-and-sorting):** Slicing and dicing data.\n",
    "- **Chapter 3.2 [Grouping and Aggregating](#3.2-grouping-and-aggregating):** Summarizing data effectively.\n",
    "- **Chapter 3.3 [Pivot Tables and Cross-Tabulation](#3.3-pivot-tables-and-cross-tabulation):** Advanced data summarization.\n",
    "- **Chapter 3.4 [Coding Challenge](#3.4-coding-challenge):** Deep dive into data analysis.\n",
    "\n",
    "#### **Chapter 4. [Advanced Pandas Techniques](#4-advanced-pandas-techniques)**\n",
    "- **Chapter 4.1 [Time Series Analysis](#4.1-time-series-analysis):** Handling time-stamped data.\n",
    "- **Chapter 4.2 [Text Data Handling](#4.2-text-data-handling):** Managing textual data.\n",
    "- **Chapter 4.3 [Combining and Merging Data Sets](#4.3-combining-and-merging-data-sets):** Building complex data relationships.\n",
    "- **Chapter 4.4 [Coding Challenge](#4.4-coding-challenge):** Applying advanced techniques in practical scenarios.\n",
    "\n",
    "---"
   ]
  }
 ],
 "metadata": {
  "language_info": {
   "name": "python"
  }
 },
 "nbformat": 4,
 "nbformat_minor": 2
}
