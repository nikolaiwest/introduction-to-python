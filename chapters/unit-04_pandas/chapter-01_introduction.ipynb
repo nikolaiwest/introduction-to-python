{
 "cells": [
  {
   "cell_type": "markdown",
   "metadata": {},
   "source": [
    "# **Chapter 1:** Introduction to pandas\n",
    "\n",
    "**Pandas** is a cornerstone library for data analysis and manipulation in Python, offering rich data structures and functions designed to make data exploration and manipulation straightforward and efficient. \n",
    "\n",
    "<img src=https://upload.wikimedia.org/wikipedia/commons/thumb/e/ed/Pandas_logo.svg/2560px-Pandas_logo.svg.png height=100>\n",
    "\n",
    "At the heart of Pandas are its two primary data structures: Series and DataFrame, which provide the functionality to handle and analyze data in a way that is both fast and intuitive. \n",
    "\n",
    "Conceived by Wes McKinney in 2008, Pandas has become indispensable for data scientists for tasks ranging from simple data filtering and aggregation to more complex data transformations and analysis. Its seamless integration with other libraries like NumPy, Scikit-learn, and Matplotlib makes it a versatile tool in the data science toolkit, enabling analysts and researchers to draw insights from data with ease. "
   ]
  },
  {
   "cell_type": "markdown",
   "metadata": {},
   "source": [
    "### [1.1 Overview of Pandas](#11-overview-of-pandas)\n",
    "\n",
    "Pandas users range from beginners in data science to seasoned analysts and researchers, all benefiting from its extensive functionality for handling and analyzing input data, regardless of its origin or format. \n",
    "\n",
    "The library's central feature is its powerful and flexible `DataFrame` object, which allows for sophisticated data manipulation and analysis.\n",
    "\n",
    "\n",
    "#### Core Feature: DataFrame\n",
    "\n",
    "The DataFrame is a two-dimensional, size-mutable, potentially heterogeneous tabular data structure with labeled axes (rows and columns). It's akin to a spreadsheet or SQL table and is the most commonly used pandas object.\n",
    "\n",
    "```python\n",
    "pandas.DataFrame()\n",
    "```\n",
    "\n",
    "#### Why Pandas?\n",
    "\n",
    "Pandas simplify the process of data manipulation and analysis through its powerful data structures. \n",
    "\n",
    "It provides:\n",
    "- Fast and efficient DataFrame object for data manipulation with integrated indexing.\n",
    "- Tools for reading and writing data between in-memory data structures and different file formats.\n",
    "- Data alignment and integrated handling of missing data.\n",
    "- Reshaping and pivoting of datasets.\n",
    "- Label-based slicing, indexing, and subsetting of large datasets.\n",
    "- Data structure column insertion and deletion.\n",
    "- Group by functionality for aggregation and transformations.\n",
    "- High performance merging and joining of data.\n",
    "- Time Series functionality.\n",
    "\n",
    "Pandas is built on top of NumPy and is designed to integrate well within a scientific computing environment with many other 3rd party libraries.\n"
   ]
  },
  {
   "cell_type": "markdown",
   "metadata": {},
   "source": [
    "### [1.2 Installation and Setup](#1.2-installation-and-setup)\n",
    "<a name=\"1.2-installation-and-setup\"></a>\n",
    "Pandas can be installed using Python's package manager `pip`. \n",
    "\n",
    "If you have Python and pip on your system, you can install Pandas by running:\n",
    "\n",
    "    pip install pandas\n",
    "\n",
    "To verify the installation, you can import pandas and check its version with:"
   ]
  },
  {
   "cell_type": "code",
   "execution_count": null,
   "metadata": {},
   "outputs": [],
   "source": [
    "import pandas as pd\n",
    "print(pd.__version__)"
   ]
  },
  {
   "cell_type": "markdown",
   "metadata": {},
   "source": [
    "### [1.3 Pandas Data Structures](#1.3-pandas-data-structures)\n",
    "<a name=\"1.3-why-pandas\"></a>\n",
    "The two primary data structures of pandas, `Series` (1-dimensional) and `DataFrame` (2-dimensional), handle the vast majority of typical use cases in finance, statistics, social science, and many areas of engineering. \n",
    "\n",
    "For [R](https://www.r-project.org/) users, DataFrame provides everything that [R](https://www.rdocumentation.org/packages/base/versions/3.6.2/topics/data.frame)'s `data.frame` provides and much more.\n",
    "\n",
    "<img src=../images/ue4_series-dataframe.png height=200>\n",
    "\n",
    "#### Series\n",
    "\n",
    "A Series is a `one-dimensional array-like object` containing a sequence of values and an associated array of data labels, called its index. \n",
    "\n",
    "A simple Series is formed from only an array of data:"
   ]
  },
  {
   "cell_type": "code",
   "execution_count": null,
   "metadata": {},
   "outputs": [],
   "source": [
    "series = pd.Series([4, 7, -5, 3])\n",
    "\n",
    "print(series)"
   ]
  },
  {
   "cell_type": "markdown",
   "metadata": {},
   "source": [
    "#### DataFrame\n",
    "\n",
    "The DataFrame represents a rectangular table of data and contains an ordered collection of columns, each of which can be a different value type (numeric, string, boolean, etc.). \n",
    "\n",
    "The DataFrame has both a row and column index; it can be thought of as a dict of Series all sharing the same index.\n",
    "\n",
    "Creating a DataFrame is as simple as passing a dict of objects:"
   ]
  },
  {
   "cell_type": "code",
   "execution_count": null,
   "metadata": {},
   "outputs": [],
   "source": [
    "data = {'state': ['Ohio', 'Ohio', 'Ohio', 'Nevada', 'Nevada', 'Nevada'],\n",
    "        'year': [2000, 2000, 2002, 2001, 2003, 2002],\n",
    "        'pop': [1.5, 1.5, 3.6, 2.4, 2.9, 3.9]}\n",
    "dataframe = pd.DataFrame(data)  \n",
    "\n",
    "dataframe"
   ]
  },
  {
   "cell_type": "markdown",
   "metadata": {},
   "source": [
    "<img src= https://cdn-images-1.medium.com/v2/1*5zJ9tsVIRvxY83GsO8eyOw.png height=500>\n",
    "\n",
    "**Source:** https://medium.com/dunder-data/the-pandas-dataframe-and-series-a7e7a5987492"
   ]
  },
  {
   "cell_type": "markdown",
   "metadata": {},
   "source": [
    "Pandas DataFrames are versatile and powerful, capable of solving a wide array of data manipulation tasks.\n",
    "\n",
    "---"
   ]
  }
 ],
 "metadata": {
  "language_info": {
   "name": "python"
  }
 },
 "nbformat": 4,
 "nbformat_minor": 2
}
