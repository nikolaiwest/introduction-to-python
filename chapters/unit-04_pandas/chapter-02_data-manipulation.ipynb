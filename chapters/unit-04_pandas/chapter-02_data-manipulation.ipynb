{
 "cells": [
  {
   "cell_type": "markdown",
   "metadata": {},
   "source": [
    "## **Chapter 2:** Data Manipulation\n",
    "\n",
    "For the next section we use a dataset from an injection molding experiment. The data is only used to demonstrate other ways for getting a dataframe. A research paper is available that details the experiments undertaken to obtain the data: \n",
    "\n",
    "> Polenta, A.; Tomassini, S.; Falcionelli, N.; Contardo, P.; Dragoni, A.F.; Sernani, P. A Comparison of Machine Learning Techniques for the Quality Classification of Molded Products. Information 2022, 13, 272. https://doi.org/10.3390/info13060272\n",
    "\n",
    "Please download the `csv` data [here](https://github.com/airtlab/machine-learning-for-quality-prediction-in-plastic-injection-molding/blob/master/dataset/data.csv) and save it in your `/data` folder.\n",
    "\n"
   ]
  },
  {
   "cell_type": "markdown",
   "metadata": {},
   "source": [
    "### **[2.1 Data Importing](#2.1-data-importing)**\n",
    "<a name=\"2.1-data-importing\"></a>\n",
    "Pandas supports a wide range of data formats for reading and writing data, making it incredibly versatile for data analysis tasks. \n",
    "\n",
    "You can easily import data from `CSV`, `Excel`, `JSON`, `SQL` databases, and many other formats into Pandas DataFrames. \n",
    "\n",
    "Here's how to import data from a CSV file:"
   ]
  },
  {
   "cell_type": "code",
   "execution_count": null,
   "metadata": {},
   "outputs": [],
   "source": [
    "# Import data with pandas read CSV function\n",
    "df = pd.read_csv('../data/data.csv')\n",
    "\n",
    "# In the next chapters (2.2, 2.3 and 2.4), we are going to use more simple example data.\n",
    "# For the coding challenge (2.5), we will utilize the injection modling dataset. "
   ]
  },
  {
   "cell_type": "markdown",
   "metadata": {},
   "source": [
    "The data import is similar for every format pd.read_dataformat, e.g.:\n",
    "- pd.read_csv\n",
    "- pd.read_json\n",
    "- pd.read_excel\n",
    "- pd.read_html\n",
    "- pd.read_xml\n",
    "- pd.read_sql\n",
    "\n",
    "For more information about data import you can use the official pandas documentaion ([click here](https://pandas.pydata.org/pandas-docs/stable/reference/io.html))."
   ]
  },
  {
   "cell_type": "markdown",
   "metadata": {},
   "source": [
    "### **[2.2 Data Exploration](#2.2-data-exploration)**\n",
    "<a name=\"2.2-data-exploration\"></a>\n",
    "Once you have your data loaded into a DataFrame, Pandas offers several functions to perform initial data exploration. \n",
    "\n",
    "These functions help to understand the structure and content of your data:\n",
    "- name_of_the_dataframe **.head()**\n",
    "- name_of_the_dataframe **.describe()**\n",
    "- name_of_the_dataframe **.dtypes()**\n",
    "- name_of_the_dataframe **.index()**\n",
    "- name_of_the_dataframe **.columns()**"
   ]
  },
  {
   "cell_type": "code",
   "execution_count": null,
   "metadata": {},
   "outputs": [],
   "source": [
    "# Creating a new DataFrame to explore \n",
    "import numpy as np\n",
    "\n",
    "# Create some dummy data using NumPy\n",
    "dummy_data = np.random.randn(20,4)\n",
    "\n",
    "# Create a dataframe with dummy data \n",
    "df = pd.DataFrame(data=dummy_data)\n",
    "\n",
    "df "
   ]
  },
  {
   "cell_type": "markdown",
   "metadata": {},
   "source": [
    "> Why do we see something, even though we did not print the dataframe?\n",
    "\n",
    "When you simply place the name of a DataFrame (or any object for that matter) at the end of a Jupyter notebook cell, Jupyter uses the _repr_html_() method of the DataFrame object to render it as an `HTML table`. This method provides a visually appealing, styled HTML representation of the DataFrame, which includes features like a boxed layout, background shading for the header, and potentially interactive elements like scrollbars for wide or long DataFrames.\n",
    "\n",
    "On the other hand, when you use the `print(df)` statement, the DataFrame is converted to a string representation using the `__str__()` method. This results in a text-based output that looks more like traditional, console-based output. This output is less visually appealing than the HTML representation and lacks the formatting enhancements like background shading and borders.\n",
    "\n",
    "The HTML representation is generally more readable, especially for large DataFrames, as it makes better use of the notebook's capabilities to present data in an interactive environment. However, if you need to share your DataFrame in a text format or prefer the simplicity of the text output for any reason, you might use `print(df)` instead."
   ]
  },
  {
   "cell_type": "code",
   "execution_count": null,
   "metadata": {},
   "outputs": [],
   "source": [
    "# To make the data more interesting, we are going to add three series to df\n",
    "\n",
    "# Create a new Series with categorical values\n",
    "dummy_series_int = pd.Series(np.random.choice([0,1,2], size=20))\n",
    "dummy_series_cat = pd.Series(np.random.choice([\"a\",\"b\",\"c\"], size=20))\n",
    "dummy_series_bool = pd.Series(np.random.choice([True, False], size=20))\n",
    "\n",
    "# Add the Series to the DataFrame\n",
    "df = df.assign(int_col=dummy_series_int, cat_col=dummy_series_cat, bool_col=dummy_series_bool)\n",
    "\n",
    "df"
   ]
  },
  {
   "cell_type": "markdown",
   "metadata": {},
   "source": [
    "The `.assign` method in pandas is a powerful tool for adding new columns to a `DataFrame` in a functional style, meaning it returns a *new* DataFrame without modifying the original one. This method is particularly useful for creating new columns that are derived from existing ones or for adding entirely new information to a DataFrame. You will see more ways to add columns to DataFrames in the next chapters."
   ]
  },
  {
   "cell_type": "markdown",
   "metadata": {},
   "source": [
    "**.head():** Display the first 5 rows of the DataFrame. You can change the number of rows from 5 to *n* with `.head(n)`. With `.head(-n)` every row is displayed except the last *n* rows."
   ]
  },
  {
   "cell_type": "code",
   "execution_count": null,
   "metadata": {},
   "outputs": [],
   "source": [
    "# Display the first 5 rows of the DataFrame\n",
    "df.head()  # Try to change the number of rows"
   ]
  },
  {
   "cell_type": "markdown",
   "metadata": {},
   "source": [
    "**.describe()**: Display the summary statistics of the DataFrame's numeric columns. With the parameter `include='all'` all columns of the input will be included in the output, also non-numeric columns."
   ]
  },
  {
   "cell_type": "code",
   "execution_count": null,
   "metadata": {},
   "outputs": [],
   "source": [
    "# Display the summary statistics of the DataFrame's numeric columns\n",
    "df.describe()  # Try with parameter include='all'"
   ]
  },
  {
   "cell_type": "markdown",
   "metadata": {},
   "source": [
    "**.dtypes():** Display the data types of each column. Columns with mixed types are stored with the 'object' dtype."
   ]
  },
  {
   "cell_type": "code",
   "execution_count": null,
   "metadata": {},
   "outputs": [],
   "source": [
    "# Display the data types of each column\n",
    "df.dtypes"
   ]
  },
  {
   "cell_type": "markdown",
   "metadata": {},
   "source": [
    "In pandas, the data types (dtypes) of columns specify the kind of data each column contains. Understanding these dtypes is crucial for efficient data manipulation and analysis.\n",
    "* The `float64` dtype represents floating-point numbers in pandas, stored using 64 bits of memory. A floating-point number is one that can contain fractions (decimal points), used for more precise calculations or when dealing with real numbers. The `64` in `float64` indicates the precision level of the floating-point data, with 64 bits offering double precision. This is the standard floating-point dtype in pandas and is capable of representing a wide range of decimal values. It's particularly useful for numerical analysis, scientific computations, and any situation where fractional numbers are common.\n",
    "\n",
    "* The `int32` dtype in pandas represents integer numbers, using 32 bits of memory. Unlike floating-point numbers (`float64`), integers are whole numbers without a decimal point. The 32 in int32 indicates that each integer value is stored using 32 bits. This allows for a range of values from `-2,147,483,648` to `2,147,483,647`. The choice of `int32` over, say, `int64`, may be motivated by memory considerations, as `int32` uses half the memory of `int64`. However, it's important to ensure that the data you're working with fits within the `int32` range to avoid overflow errors. In pandas, integer columns are very common for indexing, counts, and any other numerical data that doesn't require a fractional component.\n",
    "\n",
    "* The `object` dtype in pandas is used for columns that contain data of mixed types or non-numeric data. Most commonly, object dtype columns store text data (strings), but they can also hold complex objects like lists, dictionaries, or even other DataFrames if you have a particularly complex dataset. An `object` dtype is essentially a catch-all for columns that do not fit into other specific dtypes like `int64`, `float64`, or `bool`. Because object dtypes can store various types of data, operations on these columns might be less efficient, and performing numerical operations directly on an object column without first converting it to a more specific type can lead to errors or unexpected results.\n",
    "\n",
    "* The `bool` dtype in pandas is used for columns that contain Boolean values: `True` or `False`. It is the pandas equivalent of Python's built-in bool type and represents a binary state. Boolean columns are extremely useful in data filtering operations, where they can be used directly as masks to select subsets of data that meet certain conditions. For example, a bool column might be used to flag certain rows based on whether they meet a specific criterion, such as whether a value in another column exceeds a certain threshold. In memory, `bool` types are very efficient because they only need to represent two possible states.\n",
    "\n",
    "When working with pandas, managing your DataFrame's dtypes is essential for both performance and accuracy. Converting columns to the most appropriate dtypes can significantly speed up data processing and ensure that operations like aggregations, sorting, and mathematical computations are performed correctly."
   ]
  },
  {
   "cell_type": "markdown",
   "metadata": {},
   "source": [
    "**.index()**: Display the index of the DataFrame."
   ]
  },
  {
   "cell_type": "code",
   "execution_count": null,
   "metadata": {},
   "outputs": [],
   "source": [
    "#  Display the index of the DataFrame\n",
    "df.index"
   ]
  },
  {
   "cell_type": "markdown",
   "metadata": {},
   "source": [
    "* RangeIndex: This is a type of index that pandas uses. It's an optimized form of index for cases where the index is equivalent to range(start, stop, step). It's particularly memory-efficient because, instead of storing all index values, it only needs to store the start, stop, and step values.\n",
    "    * `start=0`: This is the starting value of the index. It indicates that the index starts at 0.\n",
    "    * `stop=50`: This is the stopping value of the index, but it's exclusive. That means the actual last index value is one less than this number. So, in this case, the last index would be 49 (since indexing is zero-based).\n",
    "    * `step=1`: This indicates the increment between each index value. A step of 1 means the index values are sequential integers."
   ]
  },
  {
   "cell_type": "code",
   "execution_count": null,
   "metadata": {},
   "outputs": [],
   "source": [
    "# Pandas allows you to create dataframe with any index you like\n",
    "df_idx = pd.DataFrame(data=[[1,2,3], [4,5,6], [7,8,9]], index=[\"A\", \"B\", \"B\"], columns=[\"X\", \"Y\", \"Z\"])\n",
    "df_idx"
   ]
  },
  {
   "cell_type": "markdown",
   "metadata": {},
   "source": [
    "**.columns()**: Display the name of the columns of the DataFrame."
   ]
  },
  {
   "cell_type": "code",
   "execution_count": null,
   "metadata": {},
   "outputs": [],
   "source": [
    "# Display the index of the DataFrame\n",
    "df.columns"
   ]
  },
  {
   "cell_type": "markdown",
   "metadata": {},
   "source": [
    "### **[2.3 Data Indexing](#2.3-data-indexing)**\n",
    "<a name=\"2.3-data-indexing\"></a>\n",
    "Indexing in pandas means simply selecting particular rows and columns of data from a DataFrame. Indexing could mean selecting all the rows and some of the columns, some of the rows and all of the columns, or some of each of the rows and columns. Indexing can also be known as *Subset Selection*.\n",
    "\n",
    "Data Indexing is important to:\n",
    "- Identifies data (i.e. provides metadata) using known indicators, important for analysis, visualization, and interactive console display.\n",
    "- Enables automatic and explicit data alignment.\n",
    "- Allows intuitive getting and setting of subsets of the data set. "
   ]
  },
  {
   "cell_type": "code",
   "execution_count": null,
   "metadata": {},
   "outputs": [],
   "source": [
    "# First, we create a new example dataframe from a dictionary to work with \n",
    "\n",
    "data = {\n",
    "    \"city\": [\"Dortmund\", \"Kassel\", \"Kassel\", \"Dortmund\", \"Kassel\", \"Dortmund\"],\n",
    "    \"population\": [587010, 201585, 191854, 539050, 204202, 591672],\n",
    "    \"year\": [2019, 2019, 2023, 2021, 2022, 2023]\n",
    "}\n",
    "\n",
    "df = pd.DataFrame(data)\n",
    "\n",
    "df"
   ]
  },
  {
   "cell_type": "markdown",
   "metadata": {},
   "source": [
    "#### Simple indexing\n",
    "\n",
    "* **Select columns:** With the name of one selected column or more selected columns as a list."
   ]
  },
  {
   "cell_type": "code",
   "execution_count": null,
   "metadata": {},
   "outputs": [],
   "source": [
    "# Select a column via its name\n",
    "\n",
    "df[\"city\"]"
   ]
  },
  {
   "cell_type": "code",
   "execution_count": null,
   "metadata": {},
   "outputs": [],
   "source": [
    "# Select multiple columns by providing a list \n",
    "df[[\"city\", \"population\"]]"
   ]
  },
  {
   "cell_type": "markdown",
   "metadata": {},
   "source": [
    "#### Simple slicing\n",
    "\n",
    "* **Select rows:** With slicing operation similar to NumPy. \n",
    "    * Use `[:n]` to get the first n rows. \n",
    "    * Use `[n:]` without the first n rows. \n",
    "    * Use `[::n]` every n row."
   ]
  },
  {
   "cell_type": "code",
   "execution_count": null,
   "metadata": {},
   "outputs": [],
   "source": [
    "# Get the first three rows\n",
    "df[:3]"
   ]
  },
  {
   "cell_type": "code",
   "execution_count": null,
   "metadata": {},
   "outputs": [],
   "source": [
    "# Get the last three rows\n",
    "df[-3:]"
   ]
  },
  {
   "cell_type": "code",
   "execution_count": null,
   "metadata": {},
   "outputs": [],
   "source": [
    "# Get every third row\n",
    "df[::2]"
   ]
  },
  {
   "cell_type": "markdown",
   "metadata": {},
   "source": [
    "#### Label-based selection with `loc`\n",
    "\n",
    "The `loc` method is used for selecting rows and columns based on their labels. It allows for both, selecting specific rows and columns by their labels and slicing ranges of rows or columns."
   ]
  },
  {
   "cell_type": "code",
   "execution_count": null,
   "metadata": {},
   "outputs": [],
   "source": [
    "# Select a single row by index label\n",
    "df.loc[0]"
   ]
  },
  {
   "cell_type": "code",
   "execution_count": null,
   "metadata": {},
   "outputs": [],
   "source": [
    "# Select multiple rows by index labels\n",
    "df.loc[[3, 4]]"
   ]
  },
  {
   "cell_type": "code",
   "execution_count": null,
   "metadata": {},
   "outputs": [],
   "source": [
    "# Select rows by index label range\n",
    "df.loc[2:5]"
   ]
  },
  {
   "cell_type": "code",
   "execution_count": null,
   "metadata": {},
   "outputs": [],
   "source": [
    "# Select specific rows and columns\n",
    "df.loc[[2, 3], ['city', 'population']]\n"
   ]
  },
  {
   "cell_type": "markdown",
   "metadata": {},
   "source": [
    "#### Positional Indexing with `iloc`\n",
    "\n",
    "The `iloc` method is used for selecting rows and columns based on their integer positions. The positions are taken to be integer indices, so they start at `0`. It’s similar to Python *list slicing*, and as such, it’s exclusive of the endpoint."
   ]
  },
  {
   "cell_type": "code",
   "execution_count": null,
   "metadata": {},
   "outputs": [],
   "source": [
    "# Select a single row by position\n",
    "df.iloc[0]"
   ]
  },
  {
   "cell_type": "code",
   "execution_count": null,
   "metadata": {},
   "outputs": [],
   "source": [
    "# Select multiple rows by position\n",
    "df.iloc[1:5]  # Selects rows 0 to 4"
   ]
  },
  {
   "cell_type": "code",
   "execution_count": null,
   "metadata": {},
   "outputs": [],
   "source": [
    "# Select specific rows and columns by position\n",
    "df.iloc[[0, 2, 3], [1, 2]]  # Rows 0, 2, 3 and columns 1, 3"
   ]
  },
  {
   "cell_type": "code",
   "execution_count": null,
   "metadata": {},
   "outputs": [],
   "source": [
    "# Using a boolean array\n",
    "df.iloc[[True, False, True, False, True, True]]"
   ]
  },
  {
   "cell_type": "markdown",
   "metadata": {},
   "source": [
    "**Summary:** In pandas, both `.loc[]` and `.iloc[]` are used for indexing and selecting data from DataFrames, but they work in fundamentally different ways due to their indexing criteria: labels for `.loc[]` and integer positions for `.iloc[]`. \n",
    "\n",
    "Understanding the difference between `.loc[]` and `.iloc[]` is crucial for correctly accessing data within pandas objects.\n",
    "\n",
    "* Label-based Indexing: `.loc[]` is used to select rows and columns by their labels.\n",
    "* Positional Indexing: `.iloc[]` is used to select rows and columns by their integer position (i.e., their physical location in the DataFrame)."
   ]
  },
  {
   "cell_type": "markdown",
   "metadata": {},
   "source": [
    "### **[2.4 Data Cleaning](#2.4-data-cleaning)**\n",
    "<a name=\"2.4-data-cleaning\"></a>\n",
    "Data cleaning is a crucial step before the actual analysis. \n",
    "\n",
    "Pandas provides several methods to deal with duplicate data, missing data and data transformation:"
   ]
  },
  {
   "cell_type": "code",
   "execution_count": null,
   "metadata": {},
   "outputs": [],
   "source": [
    "# First, we create a new example dataframe from a dictionary to work with \n",
    "\n",
    "data = {\n",
    "    \"city\": [\"Dortmund\", \"Kassel\", \"Dortmund\", \"Kassel\", \"Dortmund\", \"Kassel\", \"Kassel\", \"Dortmund\", \"Kassel\", \"Dortmund\"],\n",
    "    \"population\": [587010, 201585, None, None, 591672, 191854, 230011, 539050, 204202, 591672],\n",
    "    \"year\": [2019, 2019,2020, 2020, 2023, 2023, 2023, 2021, 2022, 2023]\n",
    "}\n",
    "\n",
    "df = pd.DataFrame(data)\n",
    "\n",
    "df"
   ]
  },
  {
   "cell_type": "markdown",
   "metadata": {},
   "source": [
    "#### Remove duplicate values\n",
    "\n",
    "Removing duplicates from a DataFrame is an essential step in data cleaning to ensure the accuracy of your data analysis. Pandas provides two main functions to handle duplicate data: `duplicated()` and `drop_duplicates()`. Understanding how to use these functions allows for effective identification and removal of duplicate rows in your dataset.\n",
    "\n",
    "* The `duplicated()` function is used to identify duplicate rows in a DataFrame. By default, it returns a *boolean* Series indicating whether each row is a duplicate of a row encountered earlier in the DataFrame. You can specify how to consider duplicates with the `keep` parameter.\n"
   ]
  },
  {
   "cell_type": "code",
   "execution_count": null,
   "metadata": {},
   "outputs": [],
   "source": [
    "# Find duplicates\n",
    "df_copy = df.copy()\n",
    "df_duplicates = df.duplicated()\n",
    "\n",
    "df_duplicates"
   ]
  },
  {
   "cell_type": "markdown",
   "metadata": {},
   "source": [
    "* The `drop_duplicates()` function removes duplicate rows from a DataFrame. Like `duplicated()`, it offers flexibility in defining what constitutes a duplicate."
   ]
  },
  {
   "cell_type": "code",
   "execution_count": null,
   "metadata": {},
   "outputs": [],
   "source": [
    "# Removing duplicate entries\n",
    "df_raw = df.copy()\n",
    "df_copy = df.drop_duplicates()\n",
    "\n",
    "df_copy"
   ]
  },
  {
   "cell_type": "markdown",
   "metadata": {},
   "source": [
    "#### Handle missing values\n",
    "\n",
    "Handling missing values is a critical aspect of data cleaning that directly impacts the *quality of data analysis*. Missing data can arise for various reasons, such as errors in data collection, processing, or transmission. \n",
    "\n",
    "**Pandas** provides several methods to deal with missing values effectively: `isnull()`, `notnull()`, `dropna()`, and `fillna()`. Each of these methods plays a specific role in identifying, removing, or replacing missing values in a `DataFrame` or `Series`."
   ]
  },
  {
   "cell_type": "markdown",
   "metadata": {},
   "source": [
    "* Using `isnull()` helps to too identify missing values in a DataFrame or Series. It returns a boolean same-sized object indicating if the elements are `NaN` or `None`."
   ]
  },
  {
   "cell_type": "code",
   "execution_count": null,
   "metadata": {},
   "outputs": [],
   "source": [
    "# Example use of isnull()\n",
    "df.isnull()"
   ]
  },
  {
   "cell_type": "markdown",
   "metadata": {},
   "source": [
    "* `notnull()` can be considered the oposite of `isnull()`, since it identifies non-missing values. It also returns a boolean object of the same size, but indicates if the elements are **not** `NaN` or `None`."
   ]
  },
  {
   "cell_type": "code",
   "execution_count": null,
   "metadata": {},
   "outputs": [],
   "source": [
    "# Example use of notnull()\n",
    "df.notnull()"
   ]
  },
  {
   "cell_type": "markdown",
   "metadata": {},
   "source": [
    "* You can use `dropna()` to remove missing values from a `DataFrame` or a `Series`. \n",
    "    * The parameter `axis` allows you to specifies whether *rows* (`0` or `'index'`) or *columns* (`1` or `'columns'`) should be dropped.\n"
   ]
  },
  {
   "cell_type": "code",
   "execution_count": null,
   "metadata": {},
   "outputs": [],
   "source": [
    "# Dropping the rows\n",
    "df_copy = df_copy.dropna(axis=0)"
   ]
  },
  {
   "cell_type": "code",
   "execution_count": null,
   "metadata": {},
   "outputs": [],
   "source": [
    "# Dropping the columns\n",
    "df_copy = df.copy()\n",
    "df_copy.dropna(axis=1)"
   ]
  },
  {
   "cell_type": "markdown",
   "metadata": {},
   "source": [
    "* You can use `fillna()`to replaces missing values with a specified value, or by using an imputation method such as `mean`, `median`, or `mode`."
   ]
  },
  {
   "cell_type": "code",
   "execution_count": null,
   "metadata": {},
   "outputs": [],
   "source": [
    "# Filling NaN with a string\n",
    "df_copy = df.copy()\n",
    "df_copy.fillna(value=\"Value to fill\")"
   ]
  },
  {
   "cell_type": "code",
   "execution_count": null,
   "metadata": {},
   "outputs": [],
   "source": [
    "# Filling NaNs using a imputation method\n",
    "df_copy = df.copy()\n",
    "df_copy.fillna(value={\"population\": df_copy[\"population\"].mean()})"
   ]
  },
  {
   "cell_type": "markdown",
   "metadata": {},
   "source": [
    "#### Working with Data Types\n",
    "\n",
    "Converting data types in a pandas DataFrame is a common task during the data cleaning process, ensuring that each column has the most appropriate type for data analysis or machine learning models. This process involves first inspecting the current data types of each column and then using the `astype()` method to explicitly convert columns to different types."
   ]
  },
  {
   "cell_type": "markdown",
   "metadata": {},
   "source": [
    "* Before converting data types, it's crucial to understand the current data types of the columns in your DataFrame. Pandas provides the `dtypes` attribute for this purpose."
   ]
  },
  {
   "cell_type": "code",
   "execution_count": null,
   "metadata": {},
   "outputs": [],
   "source": [
    "# Inspecting Data Types with dtypes\n",
    "df.dtypes"
   ]
  },
  {
   "cell_type": "markdown",
   "metadata": {},
   "source": [
    "* Once you've identified the columns whose data types need to be converted, you can use the `astype()` method to perform the conversion. This method is versatile, allowing for the conversion to most pandas data types and even custom types."
   ]
  },
  {
   "cell_type": "code",
   "execution_count": null,
   "metadata": {},
   "outputs": [],
   "source": [
    "# Converting Data Types with astype()\n",
    "df_copy = df.copy()\n",
    "df_copy = df_copy.fillna(42)\n",
    "df_copy = df_copy.astype({'population': 'int32', 'year': 'category'})\n",
    "\n",
    "df_copy.dtypes"
   ]
  },
  {
   "cell_type": "markdown",
   "metadata": {},
   "source": [
    "In this example, the population column is converted to a `32-bit` integer to potentially reduce memory usage, and the `year` column is converted to a category type, which is often useful for columns with a relatively small number of unique values and can lead to performance improvements in certain operations."
   ]
  },
  {
   "cell_type": "markdown",
   "metadata": {},
   "source": [
    "### **[2.5 Coding Challenge](#2.5-coding-challenge)**\n",
    "\n",
    "For this coding challenge, you'll be working with a dataset of your choice. Your task is to import the data into a Pandas DataFrame, explore the data to understand its structure, clean the data as necessary, and perform some basic analysis. This exercise will test your ability to manipulate and analyze data using Pandas.\n",
    "\n",
    "Challenge objectives:\n",
    "\n",
    "1. Import a dataset into a Pandas DataFrame.\n",
    "2. Use DataFrame methods to explore the data (e.g., `head()`, `describe()`, `dtypes`).\n",
    "3. Clean the dataset by handling missing values and duplicates.\n",
    "\n",
    "To give an idea of how the task can be solved you can find an example with analysing a dataset about \"Machine Learning for Quality Prediction in Plastic Injection Molding\". The real-world dataset was collected during the production process and is used for a \"systematic comparison of ML techniques to predict the quality classes of plastic molded products\" \n",
    "\n",
    "> Polenta, A.; Tomassini, S.; Falcionelli, N.; Contardo, P.; Dragoni, A.F.; Sernani, P. A Comparison of Machine Learning Techniques for the Quality Classification of Molded Products. Information 2022, 13, 272. https://doi.org/10.3390/info13060272\n",
    "\n",
    "\n",
    "Again, you can download the dataset and get more information [here](https://github.com/airtlab/machine-learning-for-quality-prediction-in-plastic-injection-molding).\n"
   ]
  },
  {
   "cell_type": "markdown",
   "metadata": {},
   "source": [
    "**Step 1: Import a dataset into a Pandas DataFrame.**\n",
    "- Load the data using pandas import to beginn the analysis.\n"
   ]
  },
  {
   "cell_type": "code",
   "execution_count": null,
   "metadata": {},
   "outputs": [
    {
     "data": {
      "text/html": [
       "<div>\n",
       "<style scoped>\n",
       "    .dataframe tbody tr th:only-of-type {\n",
       "        vertical-align: middle;\n",
       "    }\n",
       "\n",
       "    .dataframe tbody tr th {\n",
       "        vertical-align: top;\n",
       "    }\n",
       "\n",
       "    .dataframe thead th {\n",
       "        text-align: right;\n",
       "    }\n",
       "</style>\n",
       "<table border=\"1\" class=\"dataframe\">\n",
       "  <thead>\n",
       "    <tr style=\"text-align: right;\">\n",
       "      <th></th>\n",
       "      <th>Melt temperature</th>\n",
       "      <th>Mold temperature</th>\n",
       "      <th>time_to_fill</th>\n",
       "      <th>ZDx - Plasticizing time</th>\n",
       "      <th>ZUx - Cycle time</th>\n",
       "      <th>SKx - Closing force</th>\n",
       "      <th>SKs - Clamping force peak value</th>\n",
       "      <th>Ms - Torque peak value current cycle</th>\n",
       "      <th>Mm - Torque mean value current cycle</th>\n",
       "      <th>APSs - Specific back pressure peak value</th>\n",
       "      <th>APVs - Specific injection pressure peak value</th>\n",
       "      <th>CPn - Screw position at the end of hold pressure</th>\n",
       "      <th>SVo - Shot volume</th>\n",
       "      <th>quality</th>\n",
       "    </tr>\n",
       "  </thead>\n",
       "  <tbody>\n",
       "    <tr>\n",
       "      <th>0</th>\n",
       "      <td>106.476184</td>\n",
       "      <td>80.617</td>\n",
       "      <td>7.124</td>\n",
       "      <td>3.16</td>\n",
       "      <td>74.83</td>\n",
       "      <td>886.900000</td>\n",
       "      <td>904.000000</td>\n",
       "      <td>116.9</td>\n",
       "      <td>104.300000</td>\n",
       "      <td>145.6</td>\n",
       "      <td>922.3</td>\n",
       "      <td>8.82</td>\n",
       "      <td>18.73</td>\n",
       "      <td>1.0</td>\n",
       "    </tr>\n",
       "    <tr>\n",
       "      <th>1</th>\n",
       "      <td>105.505000</td>\n",
       "      <td>81.362</td>\n",
       "      <td>6.968</td>\n",
       "      <td>3.16</td>\n",
       "      <td>74.81</td>\n",
       "      <td>919.409791</td>\n",
       "      <td>935.900000</td>\n",
       "      <td>113.9</td>\n",
       "      <td>104.900000</td>\n",
       "      <td>145.6</td>\n",
       "      <td>930.5</td>\n",
       "      <td>8.59</td>\n",
       "      <td>18.73</td>\n",
       "      <td>1.0</td>\n",
       "    </tr>\n",
       "    <tr>\n",
       "      <th>2</th>\n",
       "      <td>105.505000</td>\n",
       "      <td>80.411</td>\n",
       "      <td>6.864</td>\n",
       "      <td>4.08</td>\n",
       "      <td>74.81</td>\n",
       "      <td>908.600000</td>\n",
       "      <td>902.344823</td>\n",
       "      <td>120.5</td>\n",
       "      <td>106.503496</td>\n",
       "      <td>147.0</td>\n",
       "      <td>933.1</td>\n",
       "      <td>8.80</td>\n",
       "      <td>18.98</td>\n",
       "      <td>1.0</td>\n",
       "    </tr>\n",
       "    <tr>\n",
       "      <th>3</th>\n",
       "      <td>106.474827</td>\n",
       "      <td>81.162</td>\n",
       "      <td>6.864</td>\n",
       "      <td>3.16</td>\n",
       "      <td>74.82</td>\n",
       "      <td>879.410871</td>\n",
       "      <td>902.033653</td>\n",
       "      <td>127.3</td>\n",
       "      <td>104.900000</td>\n",
       "      <td>145.6</td>\n",
       "      <td>922.3</td>\n",
       "      <td>8.85</td>\n",
       "      <td>18.73</td>\n",
       "      <td>1.0</td>\n",
       "    </tr>\n",
       "    <tr>\n",
       "      <th>4</th>\n",
       "      <td>106.466140</td>\n",
       "      <td>81.471</td>\n",
       "      <td>6.864</td>\n",
       "      <td>3.22</td>\n",
       "      <td>74.83</td>\n",
       "      <td>885.644260</td>\n",
       "      <td>902.821269</td>\n",
       "      <td>120.5</td>\n",
       "      <td>106.700000</td>\n",
       "      <td>145.6</td>\n",
       "      <td>917.5</td>\n",
       "      <td>8.80</td>\n",
       "      <td>18.75</td>\n",
       "      <td>1.0</td>\n",
       "    </tr>\n",
       "  </tbody>\n",
       "</table>\n",
       "</div>"
      ],
      "text/plain": [
       "   Melt temperature  Mold temperature  time_to_fill  ZDx - Plasticizing time  \\\n",
       "0        106.476184            80.617         7.124                     3.16   \n",
       "1        105.505000            81.362         6.968                     3.16   \n",
       "2        105.505000            80.411         6.864                     4.08   \n",
       "3        106.474827            81.162         6.864                     3.16   \n",
       "4        106.466140            81.471         6.864                     3.22   \n",
       "\n",
       "   ZUx - Cycle time  SKx - Closing force  SKs - Clamping force peak value  \\\n",
       "0             74.83           886.900000                       904.000000   \n",
       "1             74.81           919.409791                       935.900000   \n",
       "2             74.81           908.600000                       902.344823   \n",
       "3             74.82           879.410871                       902.033653   \n",
       "4             74.83           885.644260                       902.821269   \n",
       "\n",
       "   Ms - Torque peak value current cycle  Mm - Torque mean value current cycle  \\\n",
       "0                                 116.9                            104.300000   \n",
       "1                                 113.9                            104.900000   \n",
       "2                                 120.5                            106.503496   \n",
       "3                                 127.3                            104.900000   \n",
       "4                                 120.5                            106.700000   \n",
       "\n",
       "   APSs - Specific back pressure peak value  \\\n",
       "0                                     145.6   \n",
       "1                                     145.6   \n",
       "2                                     147.0   \n",
       "3                                     145.6   \n",
       "4                                     145.6   \n",
       "\n",
       "   APVs - Specific injection pressure peak value  \\\n",
       "0                                          922.3   \n",
       "1                                          930.5   \n",
       "2                                          933.1   \n",
       "3                                          922.3   \n",
       "4                                          917.5   \n",
       "\n",
       "   CPn - Screw position at the end of hold pressure  SVo - Shot volume  \\\n",
       "0                                              8.82              18.73   \n",
       "1                                              8.59              18.73   \n",
       "2                                              8.80              18.98   \n",
       "3                                              8.85              18.73   \n",
       "4                                              8.80              18.75   \n",
       "\n",
       "   quality  \n",
       "0      1.0  \n",
       "1      1.0  \n",
       "2      1.0  \n",
       "3      1.0  \n",
       "4      1.0  "
      ]
     },
     "metadata": {},
     "output_type": "display_data"
    }
   ],
   "source": [
    "# Step 1: Import a dataset into a Pandas DataFrame\n",
    "\n",
    "# Sample code template\n",
    "import pandas as pd\n",
    "# Import the dataset\n",
    "df = pd.read_csv('../data/data.csv', delimiter=\";\")\n",
    "\n",
    "df.head()"
   ]
  },
  {
   "cell_type": "markdown",
   "metadata": {},
   "source": [
    "**Step 2: Use DataFrame methods to explore the data**\n",
    "- Apply head(), describe() and dtypes()"
   ]
  },
  {
   "cell_type": "code",
   "execution_count": null,
   "metadata": {},
   "outputs": [
    {
     "data": {
      "text/plain": [
       "(1451, 14)"
      ]
     },
     "metadata": {},
     "output_type": "display_data"
    }
   ],
   "source": [
    "# Step 2: Use DataFrame methods to explore the data\n",
    "\n",
    "df.shape"
   ]
  },
  {
   "cell_type": "code",
   "execution_count": null,
   "metadata": {},
   "outputs": [],
   "source": [
    "df.head()"
   ]
  },
  {
   "cell_type": "code",
   "execution_count": null,
   "metadata": {},
   "outputs": [
    {
     "data": {
      "text/html": [
       "<div>\n",
       "<style scoped>\n",
       "    .dataframe tbody tr th:only-of-type {\n",
       "        vertical-align: middle;\n",
       "    }\n",
       "\n",
       "    .dataframe tbody tr th {\n",
       "        vertical-align: top;\n",
       "    }\n",
       "\n",
       "    .dataframe thead th {\n",
       "        text-align: right;\n",
       "    }\n",
       "</style>\n",
       "<table border=\"1\" class=\"dataframe\">\n",
       "  <thead>\n",
       "    <tr style=\"text-align: right;\">\n",
       "      <th></th>\n",
       "      <th>Melt temperature</th>\n",
       "      <th>Mold temperature</th>\n",
       "      <th>time_to_fill</th>\n",
       "      <th>ZDx - Plasticizing time</th>\n",
       "      <th>ZUx - Cycle time</th>\n",
       "      <th>SKx - Closing force</th>\n",
       "      <th>SKs - Clamping force peak value</th>\n",
       "      <th>Ms - Torque peak value current cycle</th>\n",
       "      <th>Mm - Torque mean value current cycle</th>\n",
       "      <th>APSs - Specific back pressure peak value</th>\n",
       "      <th>APVs - Specific injection pressure peak value</th>\n",
       "      <th>CPn - Screw position at the end of hold pressure</th>\n",
       "      <th>SVo - Shot volume</th>\n",
       "      <th>quality</th>\n",
       "    </tr>\n",
       "  </thead>\n",
       "  <tbody>\n",
       "    <tr>\n",
       "      <th>count</th>\n",
       "      <td>1451.000000</td>\n",
       "      <td>1451.000000</td>\n",
       "      <td>1451.000000</td>\n",
       "      <td>1451.000000</td>\n",
       "      <td>1451.000000</td>\n",
       "      <td>1451.000000</td>\n",
       "      <td>1451.000000</td>\n",
       "      <td>1451.000000</td>\n",
       "      <td>1451.000000</td>\n",
       "      <td>1451.000000</td>\n",
       "      <td>1451.000000</td>\n",
       "      <td>1451.000000</td>\n",
       "      <td>1451.000000</td>\n",
       "      <td>1451.000000</td>\n",
       "    </tr>\n",
       "    <tr>\n",
       "      <th>mean</th>\n",
       "      <td>106.892040</td>\n",
       "      <td>81.326023</td>\n",
       "      <td>7.459043</td>\n",
       "      <td>3.234173</td>\n",
       "      <td>75.218794</td>\n",
       "      <td>901.974834</td>\n",
       "      <td>919.351778</td>\n",
       "      <td>116.716747</td>\n",
       "      <td>104.163904</td>\n",
       "      <td>146.230048</td>\n",
       "      <td>900.972846</td>\n",
       "      <td>8.808863</td>\n",
       "      <td>18.756285</td>\n",
       "      <td>2.461751</td>\n",
       "    </tr>\n",
       "    <tr>\n",
       "      <th>std</th>\n",
       "      <td>5.615773</td>\n",
       "      <td>0.428813</td>\n",
       "      <td>1.688106</td>\n",
       "      <td>0.343230</td>\n",
       "      <td>0.432761</td>\n",
       "      <td>11.098192</td>\n",
       "      <td>10.780023</td>\n",
       "      <td>5.029085</td>\n",
       "      <td>4.802195</td>\n",
       "      <td>0.804894</td>\n",
       "      <td>25.519215</td>\n",
       "      <td>0.097238</td>\n",
       "      <td>0.095528</td>\n",
       "      <td>1.123611</td>\n",
       "    </tr>\n",
       "    <tr>\n",
       "      <th>min</th>\n",
       "      <td>81.747000</td>\n",
       "      <td>78.409000</td>\n",
       "      <td>6.084000</td>\n",
       "      <td>2.780000</td>\n",
       "      <td>74.780000</td>\n",
       "      <td>876.700000</td>\n",
       "      <td>894.800000</td>\n",
       "      <td>94.200000</td>\n",
       "      <td>76.500000</td>\n",
       "      <td>144.800000</td>\n",
       "      <td>780.500000</td>\n",
       "      <td>8.330000</td>\n",
       "      <td>18.510000</td>\n",
       "      <td>1.000000</td>\n",
       "    </tr>\n",
       "    <tr>\n",
       "      <th>25%</th>\n",
       "      <td>105.914500</td>\n",
       "      <td>81.123500</td>\n",
       "      <td>6.292000</td>\n",
       "      <td>3.000000</td>\n",
       "      <td>74.820000</td>\n",
       "      <td>893.600000</td>\n",
       "      <td>914.400000</td>\n",
       "      <td>114.200000</td>\n",
       "      <td>103.550000</td>\n",
       "      <td>145.600000</td>\n",
       "      <td>886.650000</td>\n",
       "      <td>8.770000</td>\n",
       "      <td>18.710000</td>\n",
       "      <td>1.000000</td>\n",
       "    </tr>\n",
       "    <tr>\n",
       "      <th>50%</th>\n",
       "      <td>106.089000</td>\n",
       "      <td>81.327000</td>\n",
       "      <td>6.968000</td>\n",
       "      <td>3.192600</td>\n",
       "      <td>74.830000</td>\n",
       "      <td>902.400000</td>\n",
       "      <td>918.800000</td>\n",
       "      <td>116.900000</td>\n",
       "      <td>105.200000</td>\n",
       "      <td>146.100000</td>\n",
       "      <td>906.800000</td>\n",
       "      <td>8.820000</td>\n",
       "      <td>18.750000</td>\n",
       "      <td>2.000000</td>\n",
       "    </tr>\n",
       "    <tr>\n",
       "      <th>75%</th>\n",
       "      <td>106.263000</td>\n",
       "      <td>81.441000</td>\n",
       "      <td>7.124000</td>\n",
       "      <td>3.290000</td>\n",
       "      <td>75.650000</td>\n",
       "      <td>909.400000</td>\n",
       "      <td>926.300000</td>\n",
       "      <td>120.200000</td>\n",
       "      <td>106.531415</td>\n",
       "      <td>146.700000</td>\n",
       "      <td>918.900000</td>\n",
       "      <td>8.850000</td>\n",
       "      <td>18.790000</td>\n",
       "      <td>4.000000</td>\n",
       "    </tr>\n",
       "    <tr>\n",
       "      <th>max</th>\n",
       "      <td>155.032000</td>\n",
       "      <td>82.159000</td>\n",
       "      <td>11.232000</td>\n",
       "      <td>6.610000</td>\n",
       "      <td>75.790000</td>\n",
       "      <td>930.600000</td>\n",
       "      <td>946.500000</td>\n",
       "      <td>130.300000</td>\n",
       "      <td>114.900000</td>\n",
       "      <td>150.500000</td>\n",
       "      <td>943.000000</td>\n",
       "      <td>9.060000</td>\n",
       "      <td>19.230000</td>\n",
       "      <td>4.000000</td>\n",
       "    </tr>\n",
       "  </tbody>\n",
       "</table>\n",
       "</div>"
      ],
      "text/plain": [
       "       Melt temperature  Mold temperature  time_to_fill  \\\n",
       "count       1451.000000       1451.000000   1451.000000   \n",
       "mean         106.892040         81.326023      7.459043   \n",
       "std            5.615773          0.428813      1.688106   \n",
       "min           81.747000         78.409000      6.084000   \n",
       "25%          105.914500         81.123500      6.292000   \n",
       "50%          106.089000         81.327000      6.968000   \n",
       "75%          106.263000         81.441000      7.124000   \n",
       "max          155.032000         82.159000     11.232000   \n",
       "\n",
       "       ZDx - Plasticizing time  ZUx - Cycle time  SKx - Closing force  \\\n",
       "count              1451.000000       1451.000000          1451.000000   \n",
       "mean                  3.234173         75.218794           901.974834   \n",
       "std                   0.343230          0.432761            11.098192   \n",
       "min                   2.780000         74.780000           876.700000   \n",
       "25%                   3.000000         74.820000           893.600000   \n",
       "50%                   3.192600         74.830000           902.400000   \n",
       "75%                   3.290000         75.650000           909.400000   \n",
       "max                   6.610000         75.790000           930.600000   \n",
       "\n",
       "       SKs - Clamping force peak value  Ms - Torque peak value current cycle  \\\n",
       "count                      1451.000000                           1451.000000   \n",
       "mean                        919.351778                            116.716747   \n",
       "std                          10.780023                              5.029085   \n",
       "min                         894.800000                             94.200000   \n",
       "25%                         914.400000                            114.200000   \n",
       "50%                         918.800000                            116.900000   \n",
       "75%                         926.300000                            120.200000   \n",
       "max                         946.500000                            130.300000   \n",
       "\n",
       "       Mm - Torque mean value current cycle  \\\n",
       "count                           1451.000000   \n",
       "mean                             104.163904   \n",
       "std                                4.802195   \n",
       "min                               76.500000   \n",
       "25%                              103.550000   \n",
       "50%                              105.200000   \n",
       "75%                              106.531415   \n",
       "max                              114.900000   \n",
       "\n",
       "       APSs - Specific back pressure peak value  \\\n",
       "count                               1451.000000   \n",
       "mean                                 146.230048   \n",
       "std                                    0.804894   \n",
       "min                                  144.800000   \n",
       "25%                                  145.600000   \n",
       "50%                                  146.100000   \n",
       "75%                                  146.700000   \n",
       "max                                  150.500000   \n",
       "\n",
       "       APVs - Specific injection pressure peak value  \\\n",
       "count                                    1451.000000   \n",
       "mean                                      900.972846   \n",
       "std                                        25.519215   \n",
       "min                                       780.500000   \n",
       "25%                                       886.650000   \n",
       "50%                                       906.800000   \n",
       "75%                                       918.900000   \n",
       "max                                       943.000000   \n",
       "\n",
       "       CPn - Screw position at the end of hold pressure  SVo - Shot volume  \\\n",
       "count                                       1451.000000        1451.000000   \n",
       "mean                                           8.808863          18.756285   \n",
       "std                                            0.097238           0.095528   \n",
       "min                                            8.330000          18.510000   \n",
       "25%                                            8.770000          18.710000   \n",
       "50%                                            8.820000          18.750000   \n",
       "75%                                            8.850000          18.790000   \n",
       "max                                            9.060000          19.230000   \n",
       "\n",
       "           quality  \n",
       "count  1451.000000  \n",
       "mean      2.461751  \n",
       "std       1.123611  \n",
       "min       1.000000  \n",
       "25%       1.000000  \n",
       "50%       2.000000  \n",
       "75%       4.000000  \n",
       "max       4.000000  "
      ]
     },
     "metadata": {},
     "output_type": "display_data"
    }
   ],
   "source": [
    "df.describe()"
   ]
  },
  {
   "cell_type": "code",
   "execution_count": null,
   "metadata": {},
   "outputs": [
    {
     "data": {
      "text/plain": [
       "Melt temperature                                    float64\n",
       "Mold temperature                                    float64\n",
       "time_to_fill                                        float64\n",
       "ZDx - Plasticizing time                             float64\n",
       "ZUx - Cycle time                                    float64\n",
       "SKx - Closing force                                 float64\n",
       "SKs - Clamping force peak value                     float64\n",
       "Ms - Torque peak value current cycle                float64\n",
       "Mm - Torque mean value current cycle                float64\n",
       "APSs - Specific back pressure peak value            float64\n",
       "APVs - Specific injection pressure peak value       float64\n",
       "CPn - Screw position at the end of hold pressure    float64\n",
       "SVo - Shot volume                                   float64\n",
       "quality                                             float64\n",
       "dtype: object"
      ]
     },
     "metadata": {},
     "output_type": "display_data"
    }
   ],
   "source": [
    "df.dtypes"
   ]
  },
  {
   "cell_type": "markdown",
   "metadata": {},
   "source": [
    "**Step 3: Clean the dataset**\n",
    "- by handling missing values \n",
    "- by handling duplicate values\n",
    "- by changing the datatype"
   ]
  },
  {
   "cell_type": "code",
   "execution_count": null,
   "metadata": {},
   "outputs": [],
   "source": [
    "# Step 3: Clean the dataset\n",
    "\n",
    "# Find NaN\n",
    "df.isna().any()\n"
   ]
  },
  {
   "cell_type": "code",
   "execution_count": null,
   "metadata": {},
   "outputs": [],
   "source": [
    "# Find duplicates\n",
    "df.duplicated().any()"
   ]
  },
  {
   "cell_type": "code",
   "execution_count": null,
   "metadata": {},
   "outputs": [],
   "source": [
    "# Change the data type to 32-bit floats\n",
    "df = df.astype(\"Float32\")\n",
    "\n",
    "df.dtypes"
   ]
  },
  {
   "cell_type": "markdown",
   "metadata": {},
   "source": [
    "[--> Back to Outline](#course-outline)\n",
    "\n",
    "---"
   ]
  }
 ],
 "metadata": {
  "language_info": {
   "name": "python"
  }
 },
 "nbformat": 4,
 "nbformat_minor": 2
}
