{
 "cells": [
  {
   "cell_type": "markdown",
   "metadata": {},
   "source": [
    "## **Chapter 4:** More DataFrame operations\n",
    "\n",
    "#### **Chapter 4. [Advanced Pandas Techniques](#4-advanced-pandas-techniques)**\n",
    "- **Chapter 4.1 [Time Series Analysis](#4.1-time-series-analysis):** Handling time-stamped data.\n",
    "- **Chapter 4.2 [Text Data Handling](#4.2-text-data-handling):** Managing textual data.\n",
    "- **Chapter 4.3 [Combining and Merging Data Sets](#4.3-combining-and-merging-data-sets):** Building complex data relationships.\n",
    "\n",
    "\n",
    "*STILL RAW COURSE FROM THE PREVIOUS ITERATION*"
   ]
  }
 ],
 "metadata": {
  "language_info": {
   "name": "python"
  }
 },
 "nbformat": 4,
 "nbformat_minor": 2
}
