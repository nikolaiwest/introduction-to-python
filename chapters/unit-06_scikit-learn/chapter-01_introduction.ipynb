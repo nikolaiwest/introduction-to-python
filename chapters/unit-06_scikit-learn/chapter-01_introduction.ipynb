{
 "cells": [
  {
   "cell_type": "markdown",
   "metadata": {},
   "source": [
    "## **Chapter 1:** Introduction to Scikit-learn\n",
    "\n",
    "**Scikit-learn** is an essential library for machine learning in Python, offering a wide array of tools for building and evaluating models, preprocessing data, and selecting and tuning algorithms. Known for its simplicity and ease of use, Scikit-learn enables both novices and experts to implement complex machine learning algorithms with minimal code. \n",
    "\n",
    "<img src=https://upload.wikimedia.org/wikipedia/commons/thumb/0/05/Scikit_learn_logo_small.svg/1200px-Scikit_learn_logo_small.svg.png height=100>\n",
    "\n",
    "Initially developed as part of a [Google Summer of Code project](https://github.com/scikit-learn/scikit-learn/wiki/Google-summer-of-code-(GSOC)-2017), it has evolved into a robust, versatile library that supports a variety of [supervised](https://scikit-learn.org/stable/supervised_learning.html) and [unsupervised](https://scikit-learn.org/stable/unsupervised_learning.html) learning tasks. \n",
    "\n",
    "Whether you're looking to perform `classification`, `regression`, `clustering`, or `dimensionality reduction`, **Scikit-learn** provides efficient solutions that are foundational for data science projects and real-world applications.\n"
   ]
  },
  {
   "cell_type": "markdown",
   "metadata": {},
   "source": [
    "### [1.1 Overview of Scikit-learn](#11-overview-of-scikit-learn)\n",
    "\n",
    "Scikit-learn, often simply referred to as `sklearn`, makes it easy to implement many machine learning algorithms. With its comprehensive set of tools for data mining and data analysis, it is suited for both beginners and experts in the field of machine learning. \n",
    "\n",
    "It provides simple and efficient tools for predictive data analysis, accessible to everybody, and reusable in various contexts.\n",
    "\n",
    "You can find a lot of useful information and explanation about scikit-learn in its [documentation](https://scikit-learn.org/stable/). Especially the [example gallery](https://scikit-learn.org/stable/auto_examples/index.html) is a great starting point to explore more machine learning models.   "
   ]
  },
  {
   "cell_type": "markdown",
   "metadata": {},
   "source": [
    "### [1.2 Installation and Setup](#1.2-installation-and-setup)\n",
    "\n",
    "Getting started with Scikit-learn is straightforward. It can be [installed](https://scikit-learn.org/stable/install.html) using pip, the package manager for Python. \n",
    "\n",
    "```bash\n",
    "pip install scikit-learn\n",
    "```"
   ]
  },
  {
   "cell_type": "markdown",
   "metadata": {},
   "source": [
    "This command installs `Scikit-learn` and its dependencies, including `NumPy` and `SciPy`. \n",
    "\n",
    "After installation, you can verify that Scikit-learn is correctly installed by importing it into a Python session:"
   ]
  },
  {
   "cell_type": "code",
   "execution_count": null,
   "metadata": {},
   "outputs": [],
   "source": [
    "import sklearn\n",
    "print(sklearn.__version__)"
   ]
  },
  {
   "cell_type": "markdown",
   "metadata": {},
   "source": [
    "This code snippet imports the sklearn module and prints its version, ensuring that the library is ready for use."
   ]
  },
  {
   "cell_type": "markdown",
   "metadata": {},
   "source": [
    "### [1.3 Key Features of Scikit-learn](#1.3-key-features-of-scikit-learn)\n",
    "\n",
    "Scikit-learn is designed around the concept of `'estimators'`, which is any object that can learn from data. Whether it's a *classification*, *regression*, *clustering*, or *dimensionality reduction* algorithm, all are implemented as Python classes. \n",
    "\n",
    "#### What is an exstimator?\n",
    "\n",
    "In the context of **scikit-learn**, an `estimator` is any object that learns from data: it could be a *classification*, *regression*, or *clustering* algorithm or a *transformer* that extracts or filters useful features from raw data. The term *\"estimator\"* is a core concept in scikit-learn's design, underpinning how models and transformations are constructed and applied.\n",
    "\n",
    "**Key Characteristics of Estimators:**\n",
    "\n",
    "* Parameter Estimation from Data: At its core, an `estimator` is designed to *estimate* some parameters based on a dataset. For example, in the case of a linear regression model, the estimator would determine the coefficients (\"parameters\") that best fit the given data according to a particular criterion.\n",
    "\n",
    "* Fit Method: All estimators have a `fit()` method. This method is used to feed the training data to the estimator. For supervised learning algorithms, fit() takes two arguments: the data X and the labels y (e.g., `estimator.fit(x, y)`). For unsupervised learning algorithms, `fit()` takes only the data `x` as an argument.\n",
    "\n",
    "* Hyperparameters and Parameters: Estimators can be instantiated with given *hyperparameters*, which are set prior to the learning process and not derived from the data. In contrast, the parameters inferred during the learning process (like the coefficients in linear regression) are attributes of the estimator.\n",
    "\n",
    "**Types of Estimators:**\n",
    "\n",
    "Scikit-learn distinguishes between several types of estimators, primarily:\n",
    "\n",
    "* Classifiers: Estimators that predict a category for a given sample. They are used in *supervised learning* for **categorical** outcomes.\n",
    "\n",
    "* Regressors: Estimators that predict a continuous value. Like classifiers, they are used in *supervised learning* but for outcomes that are **continuous numbers**.\n",
    "\n",
    "* Clusterers: Estimators that assign samples to clusters, used in *unsupervised learning*.\n",
    "\n",
    "* Transformers: Estimators that transform input data to enhance it, reduce its *dimensionality*, or make it more suitable for a classifier or a regressor. Transformers also implement a `transform()` method in addition to `fit()`.\n",
    "\n",
    "Understanding the concept of estimators is fundamental when working with scikit-learn, as it provides a consistent and predictable way to apply various machine learning algorithms and preprocessing techniques.\n",
    "\n",
    "#### Why use scikit-learn?\n",
    "\n",
    "The library is well-structured, making it easy to switch between different algorithms to find the one that works best for the task at hand. It supports a variety of preprocessing methods, feature selection techniques, and model evaluation metrics. \n",
    "\n",
    "Moreover, Scikit-learn's integration with `NumPy` and `Pandas` means it works well with a wide array of data sources, from simple `NumPy arrays` to complex `Pandas DataFrames`.\n",
    "\n",
    "Scikit-learn's comprehensive [documentation](https://scikit-learn.org/stable/) and examples make it an invaluable resource for anyone looking to delve into machine learning. \n",
    "\n",
    "Its consistency and simplicity in API design ensure a short learning curve and allow researchers and practitioners to focus more on the problem to be solved, rather than the tool itself. For more specific applications, you can even implement [your own estimators](https://scikit-learn.org/stable/developers/develop.html) with sklearn. "
   ]
  }
 ],
 "metadata": {
  "language_info": {
   "name": "python"
  }
 },
 "nbformat": 4,
 "nbformat_minor": 2
}
