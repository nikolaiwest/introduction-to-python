{
 "cells": [
  {
   "cell_type": "markdown",
   "metadata": {},
   "source": [
    "## **Practical Exercise 1.1**: Solutions\n",
    "\n",
    "Here`s a step-by-step solution using CLI commands, with explanations for each step:\n",
    "\n",
    "---"
   ]
  },
  {
   "cell_type": "markdown",
   "metadata": {},
   "source": [
    "**1. Open your command prompt.**\n",
    "\n",
    "Press WIN and type `cmd`. \n",
    "\n",
    "<img src=\"https://www.freecodecamp.org/news/content/images/2022/08/ss5-1.png\" height=\"400\">\n",
    "\n",
    "--- "
   ]
  },
  {
   "cell_type": "markdown",
   "metadata": {},
   "source": [
    "**2. Navigate to your desktop.**\n",
    "\n",
    "`cd C:\\Users\\YourUsername\\Desktop`\n",
    "\n",
    "This command changes the current directory to your Desktop. Replace 'YourUsername' with your actual Windows username."
   ]
  },
  {
   "cell_type": "markdown",
   "metadata": {},
   "source": [
    "**3. Create a new directory called `repos` on your desktop.**\n",
    "\n",
    "`mkdir repos`\n",
    "\n",
    "Creates a new directory named `repos` on your Desktop. This will be our main container for projects.\n",
    "\n",
    "---"
   ]
  },
  {
   "cell_type": "markdown",
   "metadata": {},
   "source": [
    "**4. Change into the `repos` directory.**\n",
    "\n",
    "`cd repos`\n",
    "\n",
    "Changes the current directory to the newly created `repos` folder.\n",
    "\n",
    "---"
   ]
  },
  {
   "cell_type": "markdown",
   "metadata": {},
   "source": [
    "**5. Inside repos, create a new directory called `cli_practice`.**\n",
    "\n",
    "`mkdir cli_practice`\n",
    "\n",
    "Creates a new directory named `cli_practice` inside the `repos` folder. This will be our specific project folder.\n",
    "\n",
    "---"
   ]
  },
  {
   "cell_type": "markdown",
   "metadata": {},
   "source": [
    "**6. Change into the `cli_practice` directory.**\n",
    "\n",
    "`cd cli_practice`\n",
    "\n",
    "Moves into the `cli_practice` directory.\n",
    "\n",
    "---"
   ]
  },
  {
   "cell_type": "markdown",
   "metadata": {},
   "source": [
    "**7. Create two subdirectories inside `cli_practice`, called `project_files` and `backups`.**\n",
    "\n",
    "`mkdir project_files`\n",
    "`mkdir backups`\n",
    "\n",
    "These two commands create two subdirectories: `project_files` for our main work, and `backups` for storing backups.\n",
    "\n",
    "---"
   ]
  },
  {
   "cell_type": "markdown",
   "metadata": {},
   "source": [
    "**8. Change into the `project_files` directory.**\n",
    "\n",
    "`cd project_files`\n",
    "\n",
    "Changes the current directory to `project_files`.\n",
    "\n",
    "---"
   ]
  },
  {
   "cell_type": "markdown",
   "metadata": {},
   "source": [
    "**9. Inside `project_files`, create two empty text files, called `document1.txt` and `notes.txt`.**\n",
    "\n",
    "`echo.> document1.txt`\n",
    "`echo.> notes.txt`\n",
    "\n",
    "These commands create two empty text files. The echo.> command is used in Windows to create empty files.\n",
    "\n",
    "---"
   ]
  },
  {
   "cell_type": "markdown",
   "metadata": {},
   "source": [
    "**10. Use the `dir` command to verify that both files were created.**\n",
    "\n",
    "`dir`\n",
    "\n",
    "Lists the contents of the current directory, allowing us to verify that the files were created.\n",
    "\n",
    "---"
   ]
  },
  {
   "cell_type": "markdown",
   "metadata": {},
   "source": [
    "**11. Move back up to the `cli_practice` directory.**\n",
    "\n",
    "`cd ..`\n",
    "\n",
    "Moves back up one level to the `cli_practice` directory. The `..` represents the parent directory.\n",
    "\n",
    "---"
   ]
  },
  {
   "cell_type": "markdown",
   "metadata": {},
   "source": [
    "**12. Copy the `document1.txt` file from `project_files` to the backups directory, renaming it to `document1_backup.txt`.**\n",
    "\n",
    "`copy project_files\\document1.txt backups\\document1_backup.txt`\n",
    "\n",
    "Copies `document1.txt`from the `project_files`directory to the `backups`directory, renaming it to `document1_backup.txt`.\n",
    "\n",
    "---"
   ]
  },
  {
   "cell_type": "markdown",
   "metadata": {},
   "source": [
    "**13. Rename the `project_files` directory to `main_project`.**\n",
    "\n",
    "`ren project_files main_project`\n",
    "\n",
    "Renames the `project_files`directory to `main_project`. ren is short for `rename`.\n",
    "\n",
    "---"
   ]
  },
  {
   "cell_type": "markdown",
   "metadata": {},
   "source": [
    "**14. Clear the command prompt screen.**\n",
    "\n",
    "`cls`\n",
    "\n",
    "Clears the command prompt screen, giving us a clean workspace.\n",
    "\n",
    "---"
   ]
  },
  {
   "cell_type": "markdown",
   "metadata": {},
   "source": [
    "**15. List the contents of the `cli_practice` directory to see your project structure.**\n",
    "\n",
    "`dir`\n",
    "\n",
    "Lists the contents of the current directory (`cli_practice`), showing our updated project structure.\n",
    "\n",
    "---"
   ]
  },
  {
   "cell_type": "markdown",
   "metadata": {},
   "source": [
    "**16. Navigate into the `main_project` directory and list its contents.**\n",
    "\n",
    "`cd main_project`\n",
    "`dir`\n",
    "\n",
    "First changes directory to `main_project`, then lists its contents.\n",
    "\n",
    "---"
   ]
  },
  {
   "cell_type": "markdown",
   "metadata": {},
   "source": [
    "**17. Finally, clean up by moving back to the desktop and removing the entire `repos` directory and its contents.**\n",
    "\n",
    "`cd C:\\Users\\YourUsername\\Desktop`\n",
    "`rmdir /s /q repos`\n",
    "\n",
    "* First, we navigate back to the Desktop.\n",
    "* Then, we remove the entire `repos` directory and all its contents.\n",
    "* The `/s` flag tells rmdir to remove all subdirectories and files.\n",
    "* The `/q` flag (`quiet`mode) tells `rmdir` to not ask for confirmation.\n",
    "* Remember to be a little careful with this command, as it permanently deletes files and directories.\n",
    "\n",
    "---"
   ]
  },
  {
   "cell_type": "markdown",
   "metadata": {},
   "source": [
    "This sequence of commands demonstrates how to create a project structure, manipulate files and directories, and clean up afterward, all using CLI commands. Each step builds on the previous ones to create, modify, and then remove a specific directory structure."
   ]
  }
 ],
 "metadata": {
  "language_info": {
   "name": "python"
  }
 },
 "nbformat": 4,
 "nbformat_minor": 2
}
