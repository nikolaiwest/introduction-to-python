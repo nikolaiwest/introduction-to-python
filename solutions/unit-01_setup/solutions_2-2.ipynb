{
 "cells": [
  {
   "cell_type": "markdown",
   "metadata": {},
   "source": [
    "## **Practical Exercise 2.2**: Solutions\n",
    "\n",
    "Here`s a step-by-step solution using CLI commands, with explanations for each step:\n",
    "\n",
    "---"
   ]
  },
  {
   "cell_type": "markdown",
   "metadata": {},
   "source": [
    "**1. Open your command line interface.**\n"
   ]
  },
  {
   "cell_type": "markdown",
   "metadata": {},
   "source": [
    "**2. Create a new directory and navigate into it.**\n",
    "```cmd\n",
    "mkdir my_first_venv_project\n",
    "cd my_first_venv_project\n",
    "```\n"
   ]
  },
  {
   "cell_type": "markdown",
   "metadata": {},
   "source": [
    "**3. Create a virtual environment:**\n",
    "```cmd\n",
    "python -m venv myenv\n",
    "```\n",
    "\n",
    "**4. Activate the virtual environment:**\n",
    "- On Windows: \n",
    "`myenv\\Scripts\\activate`\n",
    "- On macOS/Linux: \n",
    "\n",
    "`source myenv/bin/activate`\n",
    "\n",
    "**5. Create a new Python file called `script.py` with the following content:**\n",
    "```python\n",
    "print(\"Hello from my virtual environment!\")\n",
    "```\n",
    "\n",
    "**6. Run your script.**\n",
    "```cmd \n",
    "python script.py\n",
    "```\n",
    "\n",
    "**7. Deactivate your virtual environment:**\n",
    "```cmd \n",
    "deactivate\n",
    "```"
   ]
  }
 ],
 "metadata": {
  "language_info": {
   "name": "python"
  }
 },
 "nbformat": 4,
 "nbformat_minor": 2
}
