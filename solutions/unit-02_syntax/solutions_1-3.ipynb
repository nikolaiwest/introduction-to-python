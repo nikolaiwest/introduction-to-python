{
 "cells": [
  {
   "cell_type": "markdown",
   "metadata": {},
   "source": [
    "1. Write a Python scrto ipt that prints \"Hello, [Your Name]!\" replacing [Your Name] with your actual name\n",
    "\n",
    "2. Modify the script print two separate lines: \"Hello!\" on the first line and your name on the second line\n",
    "\n",
    "3. Add a comment above your code explaining what the script does using the \"#\" sign\n"
   ]
  },
  {
   "cell_type": "code",
   "execution_count": null,
   "metadata": {},
   "outputs": [],
   "source": [
    "print(\"Hello, User!\")"
   ]
  },
  {
   "cell_type": "code",
   "execution_count": null,
   "metadata": {},
   "outputs": [],
   "source": [
    "# This script prints a greeting and my name on separate lines\n",
    "print(\"Hello\")\n",
    "print(\"User\")"
   ]
  }
 ],
 "metadata": {
  "language_info": {
   "name": "python"
  }
 },
 "nbformat": 4,
 "nbformat_minor": 2
}
