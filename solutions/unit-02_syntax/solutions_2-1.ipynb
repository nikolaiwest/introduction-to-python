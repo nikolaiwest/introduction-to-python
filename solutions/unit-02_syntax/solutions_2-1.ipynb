{
 "cells": [
  {
   "cell_type": "markdown",
   "metadata": {},
   "source": [
    "## 👨‍💻 **Solutions 2.1:** Using variables and data types \n",
    "\n",
    "**Using variables:**\n",
    "\n",
    "1. Create an integer variable named `age` and assign it your age.\n",
    "\n",
    "2. Create a float variable named `height` and assign it your height in meters.\n",
    "\n",
    "3. Create a boolean variable named `is_student` and assign it `True` if you're a student, `False` otherwise.\n",
    "\n",
    "4. Create a string variable named `favorite_color` and assign it your favorite color.\n",
    "\n",
    "**Working with data types:**\n",
    "\n",
    "5. Print the type of each variable you created using the `type()` function.\n",
    "\n",
    "6. Convert `age` to a float and store it in a new variable `age_float`.\n",
    "\n",
    "7. Convert `height` to an integer and store it in a new variable `height_int`.\n",
    "\n",
    "8. Convert `age` to a string and store it in a new variable `age_str`.\n",
    "\n",
    "9. Print the values and types of `age_float`, `height_int`, and `age_str`."
   ]
  },
  {
   "cell_type": "markdown",
   "metadata": {},
   "source": [
    "*Using variables:*"
   ]
  },
  {
   "cell_type": "code",
   "execution_count": 1,
   "metadata": {},
   "outputs": [],
   "source": [
    "# 1. Create an integer variable named 'age' and assign it your age\n",
    "age = 30"
   ]
  },
  {
   "cell_type": "code",
   "execution_count": 2,
   "metadata": {},
   "outputs": [],
   "source": [
    "# 2. Create a float variable named 'height' and assign it your height in meters\n",
    "height = 180"
   ]
  },
  {
   "cell_type": "code",
   "execution_count": 3,
   "metadata": {},
   "outputs": [],
   "source": [
    "# 3. Create a boolean variable named 'is_student' and assign it True if you're a student, False otherwise\n",
    "is_student = True"
   ]
  },
  {
   "cell_type": "code",
   "execution_count": 4,
   "metadata": {},
   "outputs": [],
   "source": [
    "# 4. Create a string variable named 'favorite_color' and assign it your favorite color\n",
    "favorite_color = \"green\""
   ]
  },
  {
   "cell_type": "markdown",
   "metadata": {},
   "source": [
    "*Working with data types:*"
   ]
  },
  {
   "cell_type": "code",
   "execution_count": 5,
   "metadata": {},
   "outputs": [
    {
     "name": "stdout",
     "output_type": "stream",
     "text": [
      "<class 'int'>\n",
      "<class 'int'>\n",
      "<class 'bool'>\n",
      "<class 'str'>\n"
     ]
    }
   ],
   "source": [
    "# 5. Print the type of each variable you created using the type() function\n",
    "print(type(age))\n",
    "print(type(height))\n",
    "print(type(is_student))\n",
    "print(type(favorite_color))"
   ]
  },
  {
   "cell_type": "code",
   "execution_count": 6,
   "metadata": {},
   "outputs": [],
   "source": [
    "# 6. Convert 'age' to a float and store it in a new variable 'age_float'\n",
    "age_float = float(age)"
   ]
  },
  {
   "cell_type": "code",
   "execution_count": 7,
   "metadata": {},
   "outputs": [],
   "source": [
    "# 7. Convert 'height' to an integer and store it in a new variable 'height_int'\n",
    "height_int = int(height)"
   ]
  },
  {
   "cell_type": "code",
   "execution_count": 8,
   "metadata": {},
   "outputs": [],
   "source": [
    "# 8. Convert 'age' to a string and store it in a new variable 'age_str'\n",
    "age_str = str(age)"
   ]
  },
  {
   "cell_type": "code",
   "execution_count": 9,
   "metadata": {},
   "outputs": [
    {
     "name": "stdout",
     "output_type": "stream",
     "text": [
      "30.0 <class 'float'>\n",
      "180 <class 'int'>\n",
      "30 <class 'str'>\n"
     ]
    }
   ],
   "source": [
    "# 9. Print the values and types of 'age_float', 'height_int', and 'age_str'\n",
    "print(age_float, type(age_float))\n",
    "print(height_int, type(height_int))\n",
    "print(age_str, type(age_str))"
   ]
  }
 ],
 "metadata": {
  "kernelspec": {
   "display_name": "python_in_kassel",
   "language": "python",
   "name": "python3"
  },
  "language_info": {
   "codemirror_mode": {
    "name": "ipython",
    "version": 3
   },
   "file_extension": ".py",
   "mimetype": "text/x-python",
   "name": "python",
   "nbconvert_exporter": "python",
   "pygments_lexer": "ipython3",
   "version": "3.12.4"
  }
 },
 "nbformat": 4,
 "nbformat_minor": 2
}
