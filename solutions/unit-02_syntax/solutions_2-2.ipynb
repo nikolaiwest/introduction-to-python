{
 "cells": [
  {
   "cell_type": "markdown",
   "metadata": {},
   "source": [
    "## 👨‍💻 **Solutions 2.2:** Using operators\n",
    "\n",
    "Now it's time to apply what you've learned about operators. Complete the following tasks in a new code cell in your Jupyter Notebook:\n",
    "\n",
    "**Arithmetic operators:**\n",
    "\n",
    "1. Create two variables `a` and `b` with values 10 and 3 respectively.\n",
    "\n",
    "2. Print the result of `a + b`, `a - b`, `a * b`, `a / b`, `a % b`, `a ** b`, and `a // b`.\n",
    "\n",
    "**Comparison operators:**\n",
    "\n",
    "3. Create two variables `x` and `y` with values 5 and 5.0 respectively.\n",
    "\n",
    "4. Print the result of `x == y`, `x != y`, `x > y`, `x < y`, `x >= y`, and `x <= y`.\n",
    "\n",
    "5. What do you notice about comparing an integer and a float? Write a comment explaining your observation.\n",
    "\n",
    "**Logical operators:**\n",
    "\n",
    "6. Create two boolean variables `p` and `q` with values `True` and `False` respectively.\n",
    "\n",
    "7. Print the result of `p and q`, `p or q`, `not p`, and `not q`.\n",
    "\n",
    "**Assignment operators:**\n",
    "\n",
    "8. Use assignment operators to increment `a` by 5, then multiply it by 2. Print the result.\n",
    "\n",
    "**Combining operators:**\n",
    "\n",
    "9. Calculate and print the remainder when 17 is divided by 3.\n",
    "\n",
    "10. Check if `a` (after the operations in task 8) is between 25 and 35 (inclusive) using logical operators. Print the result."
   ]
  },
  {
   "cell_type": "markdown",
   "metadata": {},
   "source": [
    "*Arithmetic operators:*"
   ]
  },
  {
   "cell_type": "code",
   "execution_count": 1,
   "metadata": {},
   "outputs": [],
   "source": [
    "# 1. Create two variables 'a' and 'b' with values 10 and 3 respectively\n",
    "a = 10\n",
    "b = 3"
   ]
  },
  {
   "cell_type": "code",
   "execution_count": 2,
   "metadata": {},
   "outputs": [
    {
     "name": "stdout",
     "output_type": "stream",
     "text": [
      "13\n",
      "7\n",
      "30\n",
      "3.3333333333333335\n",
      "1\n",
      "1000\n",
      "3\n"
     ]
    }
   ],
   "source": [
    "# 2. Print the result of a + b, a - b, a * b, a / b, a % b, a ** b, and a // b\n",
    "print(a + b)   # Addition: 13\n",
    "print(a - b)   # Subtraction: 7\n",
    "print(a * b)   # Multiplication: 30\n",
    "print(a / b)   # Division: 3.3333... (note: always returns a float)\n",
    "print(a % b)   # Modulus (remainder): 1\n",
    "print(a ** b)  # Exponentiation: 1000\n",
    "print(a // b)  # Floor division: 3"
   ]
  },
  {
   "cell_type": "markdown",
   "metadata": {},
   "source": [
    "*Comparison operators:*"
   ]
  },
  {
   "cell_type": "code",
   "execution_count": 3,
   "metadata": {},
   "outputs": [],
   "source": [
    "# 3. Create two variables 'x' and 'y' with values 5 and 5.0 respectively\n",
    "x = 5\n",
    "y = 5.0"
   ]
  },
  {
   "cell_type": "code",
   "execution_count": 4,
   "metadata": {},
   "outputs": [
    {
     "name": "stdout",
     "output_type": "stream",
     "text": [
      "True\n",
      "False\n",
      "False\n",
      "False\n",
      "True\n",
      "True\n"
     ]
    }
   ],
   "source": [
    "# 4. Print the result of x == y, x != y, x > y, x < y, x >= y, and x <= y\n",
    "print(x == y)  # Equal to: True (int 5 is considered equal to float 5.0)\n",
    "print(x != y)  # Not equal to: False\n",
    "print(x > y)   # Greater than: False\n",
    "print(x < y)   # Less than: False\n",
    "print(x >= y)  # Greater than or equal to: True\n",
    "print(x <= y)  # Less than or equal to: True"
   ]
  },
  {
   "cell_type": "code",
   "execution_count": 5,
   "metadata": {},
   "outputs": [],
   "source": [
    "# 5. What do you notice about comparing an integer and a float? Write a comment explaining your observation.\n",
    "# Observation: Python considers the int 5 and float 5.0 as equal in comparisons. \n",
    "# This is because Python automatically converts the integer to a float for the comparison."
   ]
  },
  {
   "cell_type": "markdown",
   "metadata": {},
   "source": [
    "*Logical operators:*"
   ]
  },
  {
   "cell_type": "code",
   "execution_count": 6,
   "metadata": {},
   "outputs": [],
   "source": [
    "# 6. Create two boolean variables 'p' and 'q' with values True and False respectively\n",
    "p = True\n",
    "q = False"
   ]
  },
  {
   "cell_type": "code",
   "execution_count": 7,
   "metadata": {},
   "outputs": [
    {
     "name": "stdout",
     "output_type": "stream",
     "text": [
      "False\n",
      "True\n",
      "False\n",
      "True\n"
     ]
    }
   ],
   "source": [
    "# 7. Print the result of p and q, p or q, not p, and not q\n",
    "print(p and q)  # Logical AND: False (True and False is False)\n",
    "print(p or q)   # Logical OR: True (True or False is True)\n",
    "print(not p)    # Logical NOT: False (not True is False)\n",
    "print(not q)    # Logical NOT: True (not False is True)"
   ]
  },
  {
   "cell_type": "markdown",
   "metadata": {},
   "source": [
    "*Assignment operators:*"
   ]
  },
  {
   "cell_type": "code",
   "execution_count": 8,
   "metadata": {},
   "outputs": [
    {
     "name": "stdout",
     "output_type": "stream",
     "text": [
      "30\n"
     ]
    }
   ],
   "source": [
    "# 8. Use assignment operators to increment 'a' by 5, then multiply it by 2. Print the result.\n",
    "a += 5  # a is now 15 (10 + 5)\n",
    "a *= 2  # a is now 30 (15 * 2)\n",
    "print(a)  # Output: 30"
   ]
  },
  {
   "cell_type": "markdown",
   "metadata": {},
   "source": [
    "*Combining operators:*"
   ]
  },
  {
   "cell_type": "code",
   "execution_count": 9,
   "metadata": {},
   "outputs": [
    {
     "name": "stdout",
     "output_type": "stream",
     "text": [
      "2\n"
     ]
    }
   ],
   "source": [
    "# 9. Calculate and print the remainder when 17 is divided by 3.\n",
    "remainder = 17 % 3\n",
    "print(remainder)  # Output: 2 (17 divided by 3 leaves a remainder of 2)"
   ]
  },
  {
   "cell_type": "code",
   "execution_count": 10,
   "metadata": {},
   "outputs": [
    {
     "name": "stdout",
     "output_type": "stream",
     "text": [
      "True\n"
     ]
    }
   ],
   "source": [
    "# 10. Check if 'a' (after the operations in task 8) is between 25 and 35 (inclusive) using logical operators. Print the result.\n",
    "is_in_range = 25 <= a <= 35  # This is equivalent to (25 <= a) and (a <= 35)\n",
    "print(is_in_range)  # Output: True (30 is between 25 and 35)"
   ]
  }
 ],
 "metadata": {
  "kernelspec": {
   "display_name": "python_in_kassel",
   "language": "python",
   "name": "python3"
  },
  "language_info": {
   "codemirror_mode": {
    "name": "ipython",
    "version": 3
   },
   "file_extension": ".py",
   "mimetype": "text/x-python",
   "name": "python",
   "nbconvert_exporter": "python",
   "pygments_lexer": "ipython3",
   "version": "3.12.4"
  }
 },
 "nbformat": 4,
 "nbformat_minor": 2
}
