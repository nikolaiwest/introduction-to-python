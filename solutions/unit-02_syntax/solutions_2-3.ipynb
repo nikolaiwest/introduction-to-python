{
 "cells": [
  {
   "cell_type": "markdown",
   "metadata": {},
   "source": [
    "### 👨‍💻 **Practice tasks 2.3:** Using Strings and Inputs\n",
    "\n",
    "**Basic string operations:**\n",
    "\n",
    "1. Create a string variable named `course_name` with the value `\"Python Programming\"`.\n",
    "\n",
    "2. Print `course_name` in all uppercase, then in all lowercase.\n",
    "\n",
    "3. Create a string variable named `messy_string` with value `\"  Python is fun!  \"` (include white spaces).\n",
    "\n",
    "4. Print `messy_string` with leading and trailing whitespace removed.\n",
    "\n",
    "5. Split `course_name` into a list of words and print the result.\n",
    "\n",
    "**String formatting:**\n",
    "\n",
    "6. Create variables `first_name` and `last_name` with your first and last name.\n",
    "\n",
    "7. Use string formatting to print `\"My name is [first_name] [last_name]\"` using all three methods (`f-string`, `.format()`, and `%-formatting)`.\n",
    "\n",
    "**Working with user input:**\n",
    "\n",
    "8. Use `input()` to ask the user for their favorite programming language and store it in a variable `fav_lang`.\n",
    "\n",
    "9. Print `\"Your favorite programming language is [fav_lang]!\"` using an `f-string`.\n"
   ]
  },
  {
   "cell_type": "markdown",
   "metadata": {},
   "source": [
    "*Basic string operations:*"
   ]
  },
  {
   "cell_type": "code",
   "execution_count": null,
   "metadata": {},
   "outputs": [],
   "source": [
    "# 1. Create a string variable 'course_name' with the value \"Python Programming\"\n",
    "course_name = \"Python Programming\"\n"
   ]
  },
  {
   "cell_type": "code",
   "execution_count": null,
   "metadata": {},
   "outputs": [],
   "source": [
    "# 2. Print 'course_name' in all uppercase, then in all lowercase\n",
    "print(course_name.upper())\n",
    "print(course_name.lower())\n"
   ]
  },
  {
   "cell_type": "code",
   "execution_count": null,
   "metadata": {},
   "outputs": [],
   "source": [
    "# 3. Create a string variable 'messy_string' with value \"  Python is fun!  \"\n",
    "messy_string = \"  Python is fun!  \"\n"
   ]
  },
  {
   "cell_type": "code",
   "execution_count": null,
   "metadata": {},
   "outputs": [],
   "source": [
    "# 4. Print 'messy_string' with leading and trailing whitespace removed\n",
    "print(messy_string.strip())\n"
   ]
  },
  {
   "cell_type": "code",
   "execution_count": null,
   "metadata": {},
   "outputs": [],
   "source": [
    "# 5. Split 'course_name' into a list of words and print the result\n",
    "print(course_name.split())\n"
   ]
  },
  {
   "cell_type": "markdown",
   "metadata": {},
   "source": [
    "*String formatting:*"
   ]
  },
  {
   "cell_type": "code",
   "execution_count": null,
   "metadata": {},
   "outputs": [],
   "source": [
    "# 6. Create variables 'first_name' and 'last_name' with your first and last name\n",
    "first_name = \"John\"\n",
    "last_name = \"Doe\"\n"
   ]
  },
  {
   "cell_type": "code",
   "execution_count": null,
   "metadata": {},
   "outputs": [],
   "source": [
    "# 7. Use string formatting to print \"My name is [first_name] [last_name]\" (try all three methods)\n",
    "print(f\"My name is {first_name} {last_name}\")  # f-string\n",
    "print(\"My name is {} {}\".format(first_name, last_name))  # .format() method\n",
    "print(\"My name is %s %s\" % (first_name, last_name))  # %-formatting\n"
   ]
  },
  {
   "cell_type": "markdown",
   "metadata": {},
   "source": [
    "*Working with user input:*"
   ]
  },
  {
   "cell_type": "code",
   "execution_count": null,
   "metadata": {},
   "outputs": [],
   "source": [
    "# 8. Use input() to ask the user for their favorite programming language and store it in a variable 'fav_lang'\n",
    "fav_lang = input(\"What's your favorite programming language? \")\n"
   ]
  },
  {
   "cell_type": "code",
   "execution_count": null,
   "metadata": {},
   "outputs": [],
   "source": [
    "# 9. Print \"Your favorite programming language is [fav_lang]!\" using an f-string\n",
    "print(f\"Your favorite programming language is {fav_lang}!\")"
   ]
  }
 ],
 "metadata": {
  "language_info": {
   "name": "python"
  }
 },
 "nbformat": 4,
 "nbformat_minor": 2
}
