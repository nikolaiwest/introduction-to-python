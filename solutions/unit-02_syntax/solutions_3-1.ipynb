{
 "cells": [
  {
   "cell_type": "markdown",
   "metadata": {},
   "source": [
    "### 👨‍💻 **Solutions 3.1:** Using Conditionals\n",
    "\n",
    "**Basic if statements:**\n",
    "\n",
    "1. Create a variable `temperature` and assign it a value between `0` and `40`.\n",
    "\n",
    "2. Write an if statement that prints `\"It's hot!\"` if the temperature is above `30`.\n",
    "\n",
    "**if-else statements:**\n",
    "\n",
    "3. Create a variable `is_raining` and assign it a `boolean` value.\n",
    "\n",
    "4. Write an `if-else` statement that prints `\"Bring an umbrella!\"` if is_raining is `True`, and `\"Enjoy the sun!\"` otherwise.\n",
    "\n",
    "**if-elif-else statements:**\n",
    "\n",
    "5. Create a variable `grade` and assign it a value between `0` and `100`.\n",
    "\n",
    "6. Write an `if-elif-else` statement that prints:\n",
    "    - `\"Excellent!\"` if the grade is `90` or above\n",
    "    - `\"Good job!\"` if the grade is between `70` and `89`\n",
    "    - `\"You need to study more.\"` if the grade is between `50` and `69`\n",
    "    - `\"Failed.\"` if the grade is below `50`\n",
    "\n",
    "**Nested conditionals:**\n",
    "\n",
    "7. Create two variables: `is_weekend` (boolean) and `has_homework` (boolean).\n",
    "\n",
    "8. Write a nested `if-else` statement that prints:\n",
    "    - `\"Time to relax!\"` if it's the weekend and there's no homework\n",
    "    - `\"Do your homework!\"` if it's the weekend but there is homework\n",
    "    - `\"It's a workday.\"` if it's not the weekend\n",
    "\n",
    "**Combining conditions:**\n",
    "\n",
    "9. Create two variables: `age` (integer) and `has_license` (boolean).\n",
    "\n",
    "10. Write an `if-elif-else` statement that prints:\n",
    "- `\"You can drive.\"` if the age is `18` or above and `has_license` is `True`\n",
    "- `\"You need to get a license.\"` if the `age` is `18` or above but `has_license` is `False`\n",
    "- `\"You're too young to drive.\"` if the `age` is below `18`"
   ]
  },
  {
   "cell_type": "markdown",
   "metadata": {},
   "source": [
    "*Basic if statements:*"
   ]
  },
  {
   "cell_type": "code",
   "execution_count": 1,
   "metadata": {},
   "outputs": [],
   "source": [
    "# 1. Create a variable 'temperature' and assign it a value between 0 and 40\n",
    "temperature = 35"
   ]
  },
  {
   "cell_type": "code",
   "execution_count": 2,
   "metadata": {},
   "outputs": [
    {
     "name": "stdout",
     "output_type": "stream",
     "text": [
      "It's hot!\n"
     ]
    }
   ],
   "source": [
    "# 2. Write an if statement that prints \"It's hot!\" if the temperature is above 30\n",
    "if temperature > 30:\n",
    "    print(\"It's hot!\")"
   ]
  },
  {
   "cell_type": "markdown",
   "metadata": {},
   "source": [
    "*if-else statements:*"
   ]
  },
  {
   "cell_type": "code",
   "execution_count": 3,
   "metadata": {},
   "outputs": [],
   "source": [
    "# 3. Create a variable 'is_raining' and assign it a boolean value\n",
    "is_raining = True"
   ]
  },
  {
   "cell_type": "code",
   "execution_count": 4,
   "metadata": {},
   "outputs": [
    {
     "name": "stdout",
     "output_type": "stream",
     "text": [
      "Bring an umbrella!\n"
     ]
    }
   ],
   "source": [
    "# 4. Write an if-else statement that prints \"Bring an umbrella!\" if 'is_raining' is True, and \"Enjoy the sun!\" otherwise\n",
    "if is_raining:\n",
    "    print(\"Bring an umbrella!\")\n",
    "else:\n",
    "    print(\"Enjoy the sun!\")"
   ]
  },
  {
   "cell_type": "markdown",
   "metadata": {},
   "source": [
    "*if-elif-else statements:*"
   ]
  },
  {
   "cell_type": "code",
   "execution_count": 5,
   "metadata": {},
   "outputs": [],
   "source": [
    "# 5. Create a variable 'grade' and assign it a value between 0 and 100\n",
    "grade = 85"
   ]
  },
  {
   "cell_type": "code",
   "execution_count": 6,
   "metadata": {},
   "outputs": [
    {
     "name": "stdout",
     "output_type": "stream",
     "text": [
      "Good job!\n"
     ]
    }
   ],
   "source": [
    "# 6. Write an if-elif-else statement for the grade conditions\n",
    "if grade >= 90:\n",
    "    print(\"Excellent!\")\n",
    "elif grade >= 70:\n",
    "    print(\"Good job!\")\n",
    "elif grade >= 50:\n",
    "    print(\"You need to study more.\")\n",
    "else:\n",
    "    print(\"Failed.\")"
   ]
  },
  {
   "cell_type": "markdown",
   "metadata": {},
   "source": [
    "*Nested conditionals:*"
   ]
  },
  {
   "cell_type": "code",
   "execution_count": 7,
   "metadata": {},
   "outputs": [],
   "source": [
    "# 7. Create two variables: 'is_weekend' (boolean) and 'has_homework' (boolean)\n",
    "is_weekend = True\n",
    "has_homework = False"
   ]
  },
  {
   "cell_type": "code",
   "execution_count": 8,
   "metadata": {},
   "outputs": [
    {
     "name": "stdout",
     "output_type": "stream",
     "text": [
      "Time to relax!\n"
     ]
    }
   ],
   "source": [
    "# 8. Write a nested if-else statement for the weekend and homework conditions\n",
    "if is_weekend:\n",
    "    if has_homework:\n",
    "        print(\"Do your homework!\")\n",
    "    else:\n",
    "        print(\"Time to relax!\")\n",
    "else:\n",
    "    print(\"It's a workday.\")"
   ]
  },
  {
   "cell_type": "markdown",
   "metadata": {},
   "source": [
    "*Combining conditions:*"
   ]
  },
  {
   "cell_type": "code",
   "execution_count": 9,
   "metadata": {},
   "outputs": [],
   "source": [
    "# 9. Create two variables: 'age' (integer) and 'has_license' (boolean)\n",
    "age = 20\n",
    "has_license = True"
   ]
  },
  {
   "cell_type": "code",
   "execution_count": 10,
   "metadata": {},
   "outputs": [
    {
     "name": "stdout",
     "output_type": "stream",
     "text": [
      "You can drive.\n"
     ]
    }
   ],
   "source": [
    "# 10. Write an if-elif-else statement for the driving conditions\n",
    "if age >= 18 and has_license:\n",
    "    print(\"You can drive.\")\n",
    "elif age >= 18 and not has_license:\n",
    "    print(\"You need to get a license.\")\n",
    "else:\n",
    "    print(\"You're too young to drive.\")"
   ]
  }
 ],
 "metadata": {
  "language_info": {
   "name": "python"
  }
 },
 "nbformat": 4,
 "nbformat_minor": 2
}
