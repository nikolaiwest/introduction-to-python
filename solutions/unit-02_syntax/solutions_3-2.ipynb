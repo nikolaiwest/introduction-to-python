{
 "cells": [
  {
   "cell_type": "markdown",
   "metadata": {},
   "source": [
    "### 👨‍💻 **Solutions 3.2:** Using Loops\n",
    "\n",
    "**For loops:**\n",
    "\n",
    "1. Create a list called `fruits` with at least `5` different fruit names.\n",
    "\n",
    "2. Use a `for` loop to print each fruit in the `fruits` list.\n",
    "\n",
    "3. Use a `for` loop with the `range()` function to print the numbers from `1` to `10`.\n",
    "\n",
    "**While loops:**\n",
    "\n",
    "4. Create a variable called `counter` and set it to `0`.\n",
    "\n",
    "5. Write a `while` loop that increments `counter` by `1` and prints its value each time. Stop the loop when counter reaches `5`.\n",
    "\n",
    "**Nested loops:**\n",
    "\n",
    "6. Use nested for loops to create a simple multiplication table for numbers 1 through 5. The output should look like this:\n",
    "\n",
    "    ```python \n",
    "    1 2 3 4 5\n",
    "    2 4 6 8 10\n",
    "    3 6 9 12 15\n",
    "    4 8 12 16 20\n",
    "    5 10 15 20 25\n",
    "    ```\n",
    "\n",
    "**Loop control statements:**\n",
    "\n",
    "7. Create a list of numbers from `1` to `10`.\n",
    "\n",
    "8. Write a for loop that prints each number, but:\n",
    "\n",
    "    * If the number is 3, skip it (use continue).\n",
    "    * If the number is 8, stop the loop (use break).\n",
    "\n",
    "**Combining loops and conditionals:**\n",
    "\n",
    "9. Create a list of temperatures (in Celsius) with at least 7 values, including some below 0 and some above 30.\n",
    "\n",
    "10. Write a for loop that prints:\n",
    "\n",
    "    * \"Freezing!\" if the temperature is below 0\n",
    "    * \"Boiling!\" if the temperature is above 30\n",
    "    * The actual temperature for any other value"
   ]
  },
  {
   "cell_type": "markdown",
   "metadata": {},
   "source": [
    "*For loops:*"
   ]
  },
  {
   "cell_type": "code",
   "execution_count": 1,
   "metadata": {},
   "outputs": [],
   "source": [
    "# 1. Create a list called 'fruits' with at least 5 different fruit names\n",
    "fruits = [\"apple\", \"banana\", \"cherry\", \"date\", \"elderberry\"]"
   ]
  },
  {
   "cell_type": "code",
   "execution_count": 2,
   "metadata": {},
   "outputs": [
    {
     "name": "stdout",
     "output_type": "stream",
     "text": [
      "apple\n",
      "banana\n",
      "cherry\n",
      "date\n",
      "elderberry\n"
     ]
    }
   ],
   "source": [
    "# 2. Use a for loop to print each fruit in the 'fruits' list\n",
    "for fruit in fruits:\n",
    "    print(fruit)"
   ]
  },
  {
   "cell_type": "code",
   "execution_count": 3,
   "metadata": {},
   "outputs": [
    {
     "name": "stdout",
     "output_type": "stream",
     "text": [
      "1\n",
      "2\n",
      "3\n",
      "4\n",
      "5\n",
      "6\n",
      "7\n",
      "8\n",
      "9\n",
      "10\n"
     ]
    }
   ],
   "source": [
    "# 3. Use a for loop with the range() function to print the numbers from 1 to 10\n",
    "for num in range(1, 11):\n",
    "    print(num)"
   ]
  },
  {
   "cell_type": "markdown",
   "metadata": {},
   "source": [
    "*While loops:*"
   ]
  },
  {
   "cell_type": "code",
   "execution_count": 4,
   "metadata": {},
   "outputs": [],
   "source": [
    "# 4. Create a variable called 'counter' and set it to 0\n",
    "counter = 0"
   ]
  },
  {
   "cell_type": "code",
   "execution_count": 5,
   "metadata": {},
   "outputs": [
    {
     "name": "stdout",
     "output_type": "stream",
     "text": [
      "1\n",
      "2\n",
      "3\n",
      "4\n",
      "5\n"
     ]
    }
   ],
   "source": [
    "# 5. Write a while loop that increments 'counter' by 1 and prints its value each time. Stop the loop when 'counter' reaches 5\n",
    "while counter < 5:\n",
    "    counter += 1\n",
    "    print(counter)"
   ]
  },
  {
   "cell_type": "markdown",
   "metadata": {},
   "source": [
    "*Nested loops:*"
   ]
  },
  {
   "cell_type": "code",
   "execution_count": 6,
   "metadata": {},
   "outputs": [
    {
     "name": "stdout",
     "output_type": "stream",
     "text": [
      "1 2 3 4 5 \n",
      "2 4 6 8 10 \n",
      "3 6 9 12 15 \n",
      "4 8 12 16 20 \n",
      "5 10 15 20 25 \n"
     ]
    }
   ],
   "source": [
    "# 6. Use nested for loops to create a simple multiplication table for numbers 1 through 5\n",
    "for i in range(1, 6):\n",
    "    for j in range(1, 6):\n",
    "        print(i * j, end=\" \")\n",
    "    print()  # This print() is for moving to the next line after each row"
   ]
  },
  {
   "cell_type": "markdown",
   "metadata": {},
   "source": [
    "*Loop control statements:*"
   ]
  },
  {
   "cell_type": "code",
   "execution_count": 7,
   "metadata": {},
   "outputs": [],
   "source": [
    "# 7. Create a list of numbers from 1 to 10\n",
    "numbers = list(range(1, 11))"
   ]
  },
  {
   "cell_type": "code",
   "execution_count": 8,
   "metadata": {},
   "outputs": [
    {
     "name": "stdout",
     "output_type": "stream",
     "text": [
      "1\n",
      "2\n",
      "4\n",
      "5\n",
      "6\n",
      "7\n"
     ]
    }
   ],
   "source": [
    "# 8. Write a for loop that prints each number, but skips 3 and stops at 8\n",
    "for num in numbers:\n",
    "    if num == 3:\n",
    "        continue\n",
    "    if num == 8:\n",
    "        break\n",
    "    print(num)"
   ]
  },
  {
   "cell_type": "markdown",
   "metadata": {},
   "source": [
    "*Combining loops and conditionals:*"
   ]
  },
  {
   "cell_type": "code",
   "execution_count": 9,
   "metadata": {},
   "outputs": [],
   "source": [
    "# 9. Create a list of temperatures (in Celsius) with at least 7 values\n",
    "temperatures = [-5, 0, 10, 20, 30, 35, 40]"
   ]
  },
  {
   "cell_type": "code",
   "execution_count": 10,
   "metadata": {},
   "outputs": [
    {
     "name": "stdout",
     "output_type": "stream",
     "text": [
      "Freezing!\n",
      "0°C\n",
      "10°C\n",
      "20°C\n",
      "30°C\n",
      "Boiling!\n",
      "Boiling!\n"
     ]
    }
   ],
   "source": [
    "# 10. Write a for loop that prints messages based on the temperature\n",
    "for temp in temperatures:\n",
    "    if temp < 0:\n",
    "        print(\"Freezing!\")\n",
    "    elif temp > 30:\n",
    "        print(\"Boiling!\")\n",
    "    else:\n",
    "        print(f\"{temp}°C\")"
   ]
  }
 ],
 "metadata": {
  "language_info": {
   "name": "python"
  }
 },
 "nbformat": 4,
 "nbformat_minor": 2
}
