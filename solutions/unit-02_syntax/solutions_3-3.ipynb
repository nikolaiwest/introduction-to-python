{
 "cells": [
  {
   "cell_type": "markdown",
   "metadata": {},
   "source": [
    "## 👨‍💻 **Solutions 3.3:** Using Error Handling and Exceptions\n",
    "\n",
    "**Basic exception handling:** \n",
    "\n",
    "1. Write a try-except block that attempts to convert a string to an integer. If successful, print the integer. If it fails, catch the `ValueError` and print \"Invalid input\".\n",
    "\n",
    "2. Create a list with 5 elements. Try to access the 6th element of the list. Use a try-except block to catch the `IndexError` and print `\"Index out of range\"`.\n",
    "\n",
    "**Multiple exceptions:**\n",
    "\n",
    "3. Write a program that asks the user to input two numbers and divides the first by the second. Use a try-except block to handle both `ValueError` (if the user doesn't enter a number) and `ZeroDivisionError` (if the second number is zero).\n",
    "\n",
    "**Using else and finally:**\n",
    "\n",
    "4. Modify the program from task 3 to include an `else` clause that prints the result of the division if no exceptions were raised.\n",
    "\n",
    "5. Add a `finally` clause to the program that prints \"Operation completed\" whether an exception occurred or not.\n",
    "\n",
    "**Raising exceptions:**\n",
    "\n",
    "6. Write a program that asks the user for their age. If the age is less than `0` or greater than `120`, raise a `ValueError` with an appropriate error message.\n",
    "\n",
    "**Combining control structures:**\n",
    "\n",
    "7. Create a loop that repeatedly asks the user for a number between `1` and `10`. Use a `try-except` block to handle invalid inputs. The loop should continue until the user enters a valid number or types 'quit'.\n",
    "\n",
    "**Custom exceptions:**\n",
    "\n",
    "8. Define a custom exception called `TemperatureError`. Then, write a program that asks the user for a temperature in Celsius. If the temperature is below `-273.15` (absolute zero), raise a `TemperatureError` with an appropriate error message."
   ]
  },
  {
   "cell_type": "markdown",
   "metadata": {},
   "source": [
    "*Basic exception handling:*"
   ]
  },
  {
   "cell_type": "code",
   "execution_count": 1,
   "metadata": {},
   "outputs": [
    {
     "name": "stdout",
     "output_type": "stream",
     "text": [
      "The number is: 1\n"
     ]
    }
   ],
   "source": [
    "# 1. Convert string to integer\n",
    "try:\n",
    "    num = int(input(\"Enter a number: \"))\n",
    "    print(f\"The number is: {num}\")\n",
    "except ValueError:\n",
    "    print(\"Invalid input\")"
   ]
  },
  {
   "cell_type": "code",
   "execution_count": 2,
   "metadata": {},
   "outputs": [
    {
     "name": "stdout",
     "output_type": "stream",
     "text": [
      "Index out of range\n"
     ]
    }
   ],
   "source": [
    "# 2. Access 6th element of a 5-element list\n",
    "my_list = [1, 2, 3, 4, 5]\n",
    "try:\n",
    "    print(my_list[5])\n",
    "except IndexError:\n",
    "    print(\"Index out of range\")"
   ]
  },
  {
   "cell_type": "markdown",
   "metadata": {},
   "source": [
    "*Multiple exceptions:*"
   ]
  },
  {
   "cell_type": "code",
   "execution_count": 3,
   "metadata": {},
   "outputs": [
    {
     "name": "stdout",
     "output_type": "stream",
     "text": [
      "The result is: 1.0\n"
     ]
    }
   ],
   "source": [
    "# 3. Division with multiple exception handling\n",
    "try:\n",
    "    num1 = float(input(\"Enter the first number: \"))\n",
    "    num2 = float(input(\"Enter the second number: \"))\n",
    "    result = num1 / num2\n",
    "    print(f\"The result is: {result}\")\n",
    "except ValueError:\n",
    "    print(\"Invalid input. Please enter numbers only.\")\n",
    "except ZeroDivisionError:\n",
    "    print(\"Error: Cannot divide by zero.\")"
   ]
  },
  {
   "cell_type": "markdown",
   "metadata": {},
   "source": [
    "*Use else and finally:*"
   ]
  },
  {
   "cell_type": "code",
   "execution_count": 4,
   "metadata": {},
   "outputs": [
    {
     "name": "stdout",
     "output_type": "stream",
     "text": [
      "The result is: 1.0\n",
      "Operation completed\n"
     ]
    }
   ],
   "source": [
    "# 4 & 5. Division with else and finally clauses\n",
    "try:\n",
    "    num1 = float(input(\"Enter the first number: \"))\n",
    "    num2 = float(input(\"Enter the second number: \"))\n",
    "    result = num1 / num2\n",
    "except ValueError:\n",
    "    print(\"Invalid input. Please enter numbers only.\")\n",
    "except ZeroDivisionError:\n",
    "    print(\"Error: Cannot divide by zero.\")\n",
    "else:\n",
    "    print(f\"The result is: {result}\")\n",
    "finally:\n",
    "    print(\"Operation completed\")"
   ]
  },
  {
   "cell_type": "markdown",
   "metadata": {},
   "source": [
    "*Raising exceptions:*"
   ]
  },
  {
   "cell_type": "code",
   "execution_count": 5,
   "metadata": {},
   "outputs": [
    {
     "name": "stdout",
     "output_type": "stream",
     "text": [
      "Your age is: 1\n"
     ]
    }
   ],
   "source": [
    "# 6. Age validation\n",
    "age = int(input(\"Enter your age: \"))\n",
    "if age < 0 or age > 120:\n",
    "    raise ValueError(\"Age must be between 0 and 120\")\n",
    "else:\n",
    "    print(f\"Your age is: {age}\")"
   ]
  },
  {
   "cell_type": "markdown",
   "metadata": {},
   "source": [
    "*Combining control structures:*"
   ]
  },
  {
   "cell_type": "code",
   "execution_count": 6,
   "metadata": {},
   "outputs": [
    {
     "name": "stdout",
     "output_type": "stream",
     "text": [
      "You entered: 1\n"
     ]
    }
   ],
   "source": [
    "# 7. Loop with exception handling\n",
    "while True:\n",
    "    user_input = input(\"Enter a number between 1 and 10 (or 'quit' to exit): \")\n",
    "    if user_input.lower() == 'quit':\n",
    "        break\n",
    "    try:\n",
    "        num = int(user_input)\n",
    "        if 1 <= num <= 10:\n",
    "            print(f\"You entered: {num}\")\n",
    "            break\n",
    "        else:\n",
    "            print(\"Number must be between 1 and 10\")\n",
    "    except ValueError:\n",
    "        print(\"Invalid input. Please enter a number or 'quit'.\")"
   ]
  },
  {
   "cell_type": "markdown",
   "metadata": {},
   "source": [
    "*Custom exceptions:*"
   ]
  },
  {
   "cell_type": "code",
   "execution_count": 7,
   "metadata": {},
   "outputs": [
    {
     "name": "stdout",
     "output_type": "stream",
     "text": [
      "The temperature is: 1.0°C\n"
     ]
    }
   ],
   "source": [
    "# 8. Custom TemperatureError\n",
    "class TemperatureError(Exception):\n",
    "    pass\n",
    "\n",
    "temp = float(input(\"Enter a temperature in Celsius: \"))\n",
    "if temp < -273.15:\n",
    "    raise TemperatureError(\"Temperature cannot be below absolute zero (-273.15°C)\")\n",
    "else:\n",
    "    print(f\"The temperature is: {temp}°C\")"
   ]
  }
 ],
 "metadata": {
  "language_info": {
   "name": "python"
  }
 },
 "nbformat": 4,
 "nbformat_minor": 2
}
