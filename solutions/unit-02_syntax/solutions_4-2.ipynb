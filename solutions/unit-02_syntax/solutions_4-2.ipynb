{
 "cells": [
  {
   "cell_type": "markdown",
   "metadata": {},
   "source": [
    "## 👨‍💻 **Practice Tasks 4.2:** Using Dictionaries\n",
    "\n",
    "\n",
    "Complete the following tasks to practice working with dictionaries in Python. Use a Jupyter Notebook or your preferred Python environment to write and test your code.\n",
    "\n",
    "\n",
    "**Basic dictionary operations:**\n",
    "\n",
    "1. Create a dictionary called person with keys for 'name', 'age', and 'city', assigning appropriate values.\n",
    "\n",
    "2. Print the value associated with the 'age' key in the person dictionary.\n",
    "\n",
    "3. Add a new key-value pair to the person dictionary for 'occupation'.\n",
    "\n",
    "4. Change the value associated with the 'city' key to a different city.\n",
    "\n",
    "5. Remove the 'age' key-value pair from the person dictionary.\n",
    "\n",
    "**Dictionary methods:**\n",
    "\n",
    "6. Print all the keys in the `person` dictionary.\n",
    "\n",
    "7. Print all the values in the `person` dictionary.\n",
    "\n",
    "8. Use the `get()` method to retrieve the value for 'occupation', providing a default value if it doesn't exist.\n",
    "\n",
    "9. Use the `pop()` method to remove and return the value associated with the 'city' key.\n",
    "\n",
    "10. Clear all items from the person dictionary using the appropriate method.\n",
    "\n",
    "**Iterating through dictionaries:**\n",
    "\n",
    "11. Create a new dictionary called grades with subject names as keys and grades as values.\n",
    "\n",
    "12. Use a for loop to print each key-value pair in the grades dictionary.\n",
    "\n",
    "13. Use a for loop to print only the keys from the grades dictionary.\n",
    "\n",
    "14. Use a for loop to print only the values from the grades dictionary.\n",
    "\n",
    "**Dictionary comprehensions:**\n",
    "\n",
    "15. Use a dictionary comprehension to create a new dictionary containing only the subjects from the grades dictionary where the grade is above 80.\n",
    "\n",
    "16. Use a dictionary comprehension to create a new dictionary with the same keys as the grades dictionary, but with all the grades increased by 5 points."
   ]
  },
  {
   "cell_type": "markdown",
   "metadata": {},
   "source": [
    "*Basic dictionary operations:*"
   ]
  },
  {
   "cell_type": "code",
   "execution_count": 1,
   "metadata": {},
   "outputs": [],
   "source": [
    "# 1. Create a dictionary called `person` with keys for 'name', 'age', and 'city', assigning appropriate values.\n",
    "person = {'name': 'John Doe', 'age': 30, 'city': 'New York'}"
   ]
  },
  {
   "cell_type": "code",
   "execution_count": 2,
   "metadata": {},
   "outputs": [
    {
     "data": {
      "text/plain": [
       "30"
      ]
     },
     "execution_count": 2,
     "metadata": {},
     "output_type": "execute_result"
    }
   ],
   "source": [
    "# 2. Print the value associated with the 'age' key in the person dictionary.\n",
    "person['age']"
   ]
  },
  {
   "cell_type": "code",
   "execution_count": 3,
   "metadata": {},
   "outputs": [],
   "source": [
    "# 3. Add a new key-value pair to the person dictionary for 'occupation'.\n",
    "person['occupation'] = 'Engineer'"
   ]
  },
  {
   "cell_type": "code",
   "execution_count": 4,
   "metadata": {},
   "outputs": [],
   "source": [
    "# 4. Change the value associated with the 'city' key to a different city.\n",
    "person['city'] = 'San Francisco'"
   ]
  },
  {
   "cell_type": "code",
   "execution_count": 5,
   "metadata": {},
   "outputs": [],
   "source": [
    "# 5. Remove the 'age' key-value pair from the person dictionary.\n",
    "del person['age']"
   ]
  },
  {
   "cell_type": "markdown",
   "metadata": {},
   "source": [
    "*Dictionary methods:*"
   ]
  },
  {
   "cell_type": "code",
   "execution_count": 6,
   "metadata": {},
   "outputs": [
    {
     "data": {
      "text/plain": [
       "dict_keys(['name', 'city', 'occupation'])"
      ]
     },
     "execution_count": 6,
     "metadata": {},
     "output_type": "execute_result"
    }
   ],
   "source": [
    "# 6. Print all the keys in the person dictionary.\n",
    "person.keys()"
   ]
  },
  {
   "cell_type": "code",
   "execution_count": 7,
   "metadata": {},
   "outputs": [
    {
     "data": {
      "text/plain": [
       "dict_values(['John Doe', 'San Francisco', 'Engineer'])"
      ]
     },
     "execution_count": 7,
     "metadata": {},
     "output_type": "execute_result"
    }
   ],
   "source": [
    "# 7. Print all the values in the person dictionary.\n",
    "person.values()"
   ]
  },
  {
   "cell_type": "code",
   "execution_count": 8,
   "metadata": {},
   "outputs": [
    {
     "data": {
      "text/plain": [
       "'Engineer'"
      ]
     },
     "execution_count": 8,
     "metadata": {},
     "output_type": "execute_result"
    }
   ],
   "source": [
    "# 8. Use the `get()` method to retrieve the value for 'occupation', providing a default value if it doesn't exist.\n",
    "person.get('occupation', 'Not specified')"
   ]
  },
  {
   "cell_type": "code",
   "execution_count": 9,
   "metadata": {},
   "outputs": [],
   "source": [
    "# 9. Use the `pop()` method to remove and return the value associated with the 'city' key.\n",
    "city = person.pop('city')"
   ]
  },
  {
   "cell_type": "code",
   "execution_count": 10,
   "metadata": {},
   "outputs": [],
   "source": [
    "# 10. Clear all items from the person dictionary using the appropriate method.\n",
    "person.clear()"
   ]
  },
  {
   "cell_type": "markdown",
   "metadata": {},
   "source": [
    "*Iterating through dictionaries:*"
   ]
  },
  {
   "cell_type": "code",
   "execution_count": 11,
   "metadata": {},
   "outputs": [],
   "source": [
    "# 11. Create a new dictionary called `grades` with subject names as keys and grades as values.\n",
    "grades = {'Math': 85, 'English': 92, 'Science': 78, 'History': 89}"
   ]
  },
  {
   "cell_type": "code",
   "execution_count": 12,
   "metadata": {},
   "outputs": [
    {
     "name": "stdout",
     "output_type": "stream",
     "text": [
      "Math: 85\n",
      "English: 92\n",
      "Science: 78\n",
      "History: 89\n"
     ]
    }
   ],
   "source": [
    "# 12. Use a for loop to print each key-value pair in the grades dictionary.\n",
    "for subject, grade in grades.items():\n",
    "    print(f\"{subject}: {grade}\")"
   ]
  },
  {
   "cell_type": "code",
   "execution_count": 13,
   "metadata": {},
   "outputs": [
    {
     "name": "stdout",
     "output_type": "stream",
     "text": [
      "Math\n",
      "English\n",
      "Science\n",
      "History\n"
     ]
    }
   ],
   "source": [
    "# 13. Use a for loop to print only the keys from the grades dictionary.\n",
    "for subject in grades:\n",
    "    print(subject)"
   ]
  },
  {
   "cell_type": "code",
   "execution_count": 14,
   "metadata": {},
   "outputs": [
    {
     "name": "stdout",
     "output_type": "stream",
     "text": [
      "85\n",
      "92\n",
      "78\n",
      "89\n"
     ]
    }
   ],
   "source": [
    "# 14. Use a for loop to print only the values from the grades dictionary.\n",
    "for grade in grades.values():\n",
    "    print(grade)"
   ]
  },
  {
   "cell_type": "markdown",
   "metadata": {},
   "source": [
    "*# Dictionary comprehensions:*"
   ]
  },
  {
   "cell_type": "code",
   "execution_count": 15,
   "metadata": {},
   "outputs": [],
   "source": [
    "# 15. Use a dictionary comprehension to create a new dictionary containing only the subjects from the grades dictionary where the grade is above 80.\n",
    "high_grades = {subject: grade for subject, grade in grades.items() if grade > 80}"
   ]
  },
  {
   "cell_type": "code",
   "execution_count": 16,
   "metadata": {},
   "outputs": [],
   "source": [
    "# 16. Use a dictionary comprehension to create a new dictionary with the same keys as the grades dictionary, but with all the grades increased by 5 points.\n",
    "improved_grades = {subject: grade + 5 for subject, grade in grades.items()}"
   ]
  }
 ],
 "metadata": {
  "language_info": {
   "name": "python"
  }
 },
 "nbformat": 4,
 "nbformat_minor": 2
}
