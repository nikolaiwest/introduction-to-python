{
 "cells": [
  {
   "cell_type": "markdown",
   "metadata": {},
   "source": [
    "## 👨‍💻 **Solutions 4.3:** Using Tuples and Sets\n",
    "\n",
    "**Tuple operations:**\n",
    "\n",
    "1. Create a tuple called point with x, y, and z coordinates of your choice.\n",
    "\n",
    "2. Print the y-coordinate (second element) of the point tuple.\n",
    "\n",
    "3. Try to change the x-coordinate of the point tuple (this should raise an error).\n",
    "\n",
    "4. Create a tuple called rgb with three values representing a color.\n",
    "\n",
    "5. Use tuple unpacking to assign the values of rgb to variables red, green, and blue.\n",
    "\n",
    "**Tuple methods:**\n",
    "\n",
    "6. Create a tuple called numbers with some repeated values.\n",
    "\n",
    "7. Use a tuple method to count how many times the number 3 appears in the numbers tuple.\n",
    "\n",
    "8. Use a tuple method to find the index of the first occurrence of the number 5 in the numbers tuple.\n",
    "\n",
    "**Set creation and modification:**\n",
    "\n",
    "9. Create a set called fruits with at least 5 different fruit names.\n",
    "\n",
    "10. Add a new fruit to the fruits set.\n",
    "\n",
    "11. Remove a fruit from the fruits set.\n",
    "\n",
    "12. Try to add a fruit that already exists in the set (notice that it doesn't create a duplicate).\n",
    "\n",
    "**Set operations:**\n",
    "\n",
    "13. Create two sets: set1 with numbers 1-5 and set2 with numbers 4-8.\n",
    "\n",
    "14. Find the union of set1 and set2.\n",
    "\n",
    "15. Find the intersection of set1 and set2.\n",
    "\n",
    "16. Find the difference between set1 and set2 (elements in set1 that are not in set2).\n",
    "\n",
    "**Set comprehension:**\n",
    "\n",
    "17. Use a set comprehension to create a set of the squares of numbers from 1 to 10.\n",
    "\n",
    "18. Use a set comprehension to create a set of all the consonants in the word \"python\" (exclude vowels)."
   ]
  },
  {
   "cell_type": "markdown",
   "metadata": {},
   "source": [
    "*Tuple operations:*"
   ]
  },
  {
   "cell_type": "code",
   "execution_count": null,
   "metadata": {},
   "outputs": [],
   "source": [
    "# 1. Create a tuple called `point` with x, y, and z coordinates of your choice.\n",
    "point = (3, 4, 5)"
   ]
  },
  {
   "cell_type": "code",
   "execution_count": null,
   "metadata": {},
   "outputs": [],
   "source": [
    "# 2. Print the y-coordinate (second element) of the point tuple.\n",
    "point[1]"
   ]
  },
  {
   "cell_type": "code",
   "execution_count": null,
   "metadata": {},
   "outputs": [],
   "source": [
    "# 3. Try to change the x-coordinate of the point tuple (this should raise an error).\n",
    "# Uncomment the following line to see the error:\n",
    "# point[0] = 10  # This will raise a TypeError"
   ]
  },
  {
   "cell_type": "code",
   "execution_count": null,
   "metadata": {},
   "outputs": [],
   "source": [
    "# 4. Create a tuple called `rgb` with three values representing a color.\n",
    "rgb = (255, 128, 0)"
   ]
  },
  {
   "cell_type": "code",
   "execution_count": null,
   "metadata": {},
   "outputs": [],
   "source": [
    "# 5. Use tuple unpacking to assign the values of `rgb` to variables `red`, `green`, and `blue`.\n",
    "red, green, blue = rgb"
   ]
  },
  {
   "cell_type": "markdown",
   "metadata": {},
   "source": [
    "*Tuple methods:*"
   ]
  },
  {
   "cell_type": "code",
   "execution_count": null,
   "metadata": {},
   "outputs": [],
   "source": [
    "# 6. Create a tuple called `numbers` with some repeated values.\n",
    "numbers = (1, 2, 3, 4, 3, 5, 3, 6, 7)"
   ]
  },
  {
   "cell_type": "code",
   "execution_count": null,
   "metadata": {},
   "outputs": [],
   "source": [
    "# 7. Use a tuple method to count how many times the number 3 appears in the `numbers` tuple.\n",
    "numbers.count(3)"
   ]
  },
  {
   "cell_type": "code",
   "execution_count": null,
   "metadata": {},
   "outputs": [],
   "source": [
    "# 8. Use a tuple method to find the index of the first occurrence of the number 5 in the `numbers` tuple.\n",
    "numbers.index(5)"
   ]
  },
  {
   "cell_type": "markdown",
   "metadata": {},
   "source": [
    "*Set creation and modification:*"
   ]
  },
  {
   "cell_type": "code",
   "execution_count": null,
   "metadata": {},
   "outputs": [],
   "source": [
    "# 9. Create a set called `fruits` with at least 5 different fruit names.\n",
    "fruits = {\"apple\", \"banana\", \"cherry\", \"date\", \"elderberry\"}"
   ]
  },
  {
   "cell_type": "code",
   "execution_count": null,
   "metadata": {},
   "outputs": [],
   "source": [
    "# 10. Add a new fruit to the `fruits` set.\n",
    "fruits.add(\"fig\")"
   ]
  },
  {
   "cell_type": "code",
   "execution_count": null,
   "metadata": {},
   "outputs": [],
   "source": [
    "# 11. Remove a fruit from the `fruits` set.\n",
    "fruits.remove(\"banana\")"
   ]
  },
  {
   "cell_type": "code",
   "execution_count": null,
   "metadata": {},
   "outputs": [],
   "source": [
    "# 12. Try to add a fruit that already exists in the set (notice that it doesn't create a duplicate).\n",
    "fruits.add(\"apple\")\n",
    "fruits  # The set remains unchanged"
   ]
  },
  {
   "cell_type": "markdown",
   "metadata": {},
   "source": [
    "*Set operation:*"
   ]
  },
  {
   "cell_type": "code",
   "execution_count": null,
   "metadata": {},
   "outputs": [],
   "source": [
    "# 13. Create two sets: `set1` with numbers 1-5 and `set2` with numbers 4-8.\n",
    "set1 = {1, 2, 3, 4, 5}\n",
    "set2 = {4, 5, 6, 7, 8}"
   ]
  },
  {
   "cell_type": "code",
   "execution_count": null,
   "metadata": {},
   "outputs": [],
   "source": [
    "# 14. Find the union of `set1` and `set2`.\n",
    "set1 | set2  # or set1.union(set2)"
   ]
  },
  {
   "cell_type": "code",
   "execution_count": null,
   "metadata": {},
   "outputs": [],
   "source": [
    "# 15. Find the intersection of `set1` and `set2`.\n",
    "set1 & set2  # or set1.intersection(set2)"
   ]
  },
  {
   "cell_type": "code",
   "execution_count": null,
   "metadata": {},
   "outputs": [],
   "source": [
    "# 16. Find the difference between `set1` and `set2` (elements in set1 that are not in set2).\n",
    "set1 - set2  # or set1.difference(set2)"
   ]
  },
  {
   "cell_type": "markdown",
   "metadata": {},
   "source": [
    "*Set comprehension:*"
   ]
  },
  {
   "cell_type": "code",
   "execution_count": null,
   "metadata": {},
   "outputs": [],
   "source": [
    "# 17. Use a set comprehension to create a set of the squares of numbers from 1 to 10.\n",
    "{x**2 for x in range(1, 11)}"
   ]
  },
  {
   "cell_type": "code",
   "execution_count": null,
   "metadata": {},
   "outputs": [],
   "source": [
    "# 18. Use a set comprehension to create a set of all the consonants in the word \"python\" (exclude vowels).\n",
    "{char for char in \"python\" if char not in \"aeiou\"}"
   ]
  }
 ],
 "metadata": {
  "language_info": {
   "name": "python"
  }
 },
 "nbformat": 4,
 "nbformat_minor": 2
}
