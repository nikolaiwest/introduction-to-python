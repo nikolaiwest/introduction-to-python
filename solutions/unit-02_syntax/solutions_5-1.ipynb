{
 "cells": [
  {
   "cell_type": "markdown",
   "metadata": {},
   "source": [
    "## 👨‍💻 Solutions 5.1: Creating and Using Functions\n",
    "\n",
    "**Basic function creation:**\n",
    "\n",
    "1. Write a function called `calculate_area` that takes the radius of a circle as a parameter and returns the area of the circle. (Hint: The formula for the area of a circle is π * r^2. You can use 3.14 for π.)\n",
    "\n",
    "2. Write a function called `is_even` that takes a number as a parameter and returns `True` if the number is even, and `False` if it's odd.\n",
    "\n",
    "3. Create a function called `print_n_times` that takes two parameters: a string and a number. The function should print the string the specified number of times.\n",
    "\n",
    "**Functions that return values:**\n",
    "\n",
    "4. Write a function called `absolute_value` that takes a number as a parameter and returns its absolute value. (*Hint:* The absolute value of a number is the number without its sign.)\n",
    "\n",
    "5. Create a function called `combine_strings` that takes two strings as parameters and returns them combined with a space in between."
   ]
  },
  {
   "cell_type": "markdown",
   "metadata": {},
   "source": [
    "*Basic function creation:*"
   ]
  },
  {
   "cell_type": "code",
   "execution_count": null,
   "metadata": {},
   "outputs": [
    {
     "name": "stdout",
     "output_type": "stream",
     "text": [
      "78.5\n"
     ]
    }
   ],
   "source": [
    "# 1. Calculate area of a circle\n",
    "def calculate_area(radius):\n",
    "    # Calculate and return the area of a circle given its radius\n",
    "    return 3.14 * radius ** 2\n",
    "\n",
    "print(calculate_area(5))  # Should print approximately 78.5"
   ]
  },
  {
   "cell_type": "code",
   "execution_count": null,
   "metadata": {},
   "outputs": [
    {
     "name": "stdout",
     "output_type": "stream",
     "text": [
      "True\n",
      "False\n"
     ]
    }
   ],
   "source": [
    "# 2. Check if a number is even\n",
    "def is_even(number):\n",
    "    # Return True if the number is even, False otherwise\n",
    "    return number % 2 == 0\n",
    "\n",
    "print(is_even(4))  # Should print True\n",
    "print(is_even(7))  # Should print False"
   ]
  },
  {
   "cell_type": "code",
   "execution_count": null,
   "metadata": {},
   "outputs": [
    {
     "name": "stdout",
     "output_type": "stream",
     "text": [
      "Hello\n",
      "Hello\n",
      "Hello\n"
     ]
    }
   ],
   "source": [
    "# 3. Print a string multiple times\n",
    "def print_n_times(string, n):\n",
    "    # Print the given string n times\n",
    "    for _ in range(n):\n",
    "        print(string)\n",
    "\n",
    "print_n_times(\"Hello\", 3)  # Should print \"Hello\" three times"
   ]
  },
  {
   "cell_type": "markdown",
   "metadata": {},
   "source": [
    "*Functions that return values:*"
   ]
  },
  {
   "cell_type": "code",
   "execution_count": null,
   "metadata": {},
   "outputs": [
    {
     "name": "stdout",
     "output_type": "stream",
     "text": [
      "15.0\n"
     ]
    }
   ],
   "source": [
    "# 4. Return the absolute value of a number\n",
    "def average(a, b):\n",
    "    # Return the average of two numbers\n",
    "    return (a + b) / 2\n",
    "\n",
    "print(average(10, 20))  # Should print 15.0"
   ]
  },
  {
   "cell_type": "code",
   "execution_count": null,
   "metadata": {},
   "outputs": [
    {
     "name": "stdout",
     "output_type": "stream",
     "text": [
      "Hello World\n"
     ]
    }
   ],
   "source": [
    "# 5. Combine two strings and return the result\n",
    "def combine_strings(str1, str2):\n",
    "    # Combine two strings and return the result\n",
    "    return str1 + \" \" + str2\n",
    "\n",
    "print(combine_strings(\"Hello\", \"World\"))  # Output: Hello World"
   ]
  }
 ],
 "metadata": {
  "language_info": {
   "name": "python"
  }
 },
 "nbformat": 4,
 "nbformat_minor": 2
}
