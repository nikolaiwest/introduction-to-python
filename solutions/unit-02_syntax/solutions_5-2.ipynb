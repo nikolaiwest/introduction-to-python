{
 "cells": [
  {
   "cell_type": "markdown",
   "metadata": {},
   "source": [
    "## 👨‍💻 Solutions 5.2: Function Arguments\n",
    "\n",
    "**Working with different types of arguments:**\n",
    "\n",
    "1. Write a function called `calculate_total` that takes a variable number of prices and returns their sum. Use *args to accomplish this.\n",
    "\n",
    "2. Create a function called `create_profile` that takes name and age as required arguments, and accepts additional arbitrary keyword arguments. The function should print out a person's profile.\n",
    "\n",
    "3. Modify the `describe_pet` function from earlier to have a default animal type of \"dog\". Then call the function in three different ways:\n",
    "    * With just a pet name\n",
    "    * With a pet name and animal type as positional arguments\n",
    "    * With a pet name and animal type as keyword arguments\n",
    "\n",
    "**Combining different argument types:**\n",
    "\n",
    "4. Write a function called `print_info` that takes two required arguments (`name` and `age`), one default argument (`city=\"Unknown\"`), and any number of additional keyword arguments. The function should print out all the information.\n",
    "\n",
    "5. Create a function called `calculate_discount` that takes the original price as a required argument and a discount percentage as an optional argument (default to `10%`). The function should return the discounted price."
   ]
  },
  {
   "cell_type": "markdown",
   "metadata": {},
   "source": [
    "*Working with different types of arguments:*"
   ]
  },
  {
   "cell_type": "code",
   "execution_count": 1,
   "metadata": {},
   "outputs": [
    {
     "name": "stdout",
     "output_type": "stream",
     "text": [
      "60\n",
      "40.0\n"
     ]
    }
   ],
   "source": [
    "# 1. Calculate total using *args\n",
    "def calculate_total(*args):\n",
    "    # Sum a variable number of prices\n",
    "    return sum(args)\n",
    "\n",
    "print(calculate_total(10, 20, 30))  # Output: 60\n",
    "print(calculate_total(15.5, 24.5))  # Output: 40.0"
   ]
  },
  {
   "cell_type": "code",
   "execution_count": 2,
   "metadata": {},
   "outputs": [
    {
     "name": "stdout",
     "output_type": "stream",
     "text": [
      "Name: Alice, Age: 30, occupation: Engineer, city: New York\n"
     ]
    }
   ],
   "source": [
    "# 2. Create a profile with arbitrary keyword arguments\n",
    "def create_profile(name, age, **kwargs):\n",
    "    # Create and print a person's profile\n",
    "    profile = f\"Name: {name}, Age: {age}\"\n",
    "    for key, value in kwargs.items():\n",
    "        profile += f\", {key}: {value}\"\n",
    "    print(profile)\n",
    "\n",
    "create_profile(\"Alice\", 30, occupation=\"Engineer\", city=\"New York\")\n",
    "# Output: Name: Alice, Age: 30, occupation: Engineer, city: New York\n"
   ]
  },
  {
   "cell_type": "code",
   "execution_count": 3,
   "metadata": {},
   "outputs": [
    {
     "name": "stdout",
     "output_type": "stream",
     "text": [
      "I have a dog named Buddy.\n",
      "I have a cat named Whiskers.\n",
      "I have a lizard named Rex.\n"
     ]
    }
   ],
   "source": [
    "# 3. Modify describe_pet function with default argument\n",
    "def describe_pet(pet_name, animal_type=\"dog\"):\n",
    "    # Describe a pet with a default animal type\n",
    "    print(f\"I have a {animal_type} named {pet_name}.\")\n",
    "\n",
    "describe_pet(\"Buddy\")  # Output: I have a dog named Buddy.\n",
    "describe_pet(\"Whiskers\", \"cat\")  # Output: I have a cat named Whiskers.\n",
    "describe_pet(pet_name=\"Rex\", animal_type=\"lizard\")  # Output: I have a lizard named Rex."
   ]
  },
  {
   "cell_type": "markdown",
   "metadata": {},
   "source": [
    "*Combining different argument types:*"
   ]
  },
  {
   "cell_type": "code",
   "execution_count": 4,
   "metadata": {},
   "outputs": [
    {
     "name": "stdout",
     "output_type": "stream",
     "text": [
      "Name: Bob, Age: 25, City: Unknown, hobby: painting, job: artist\n"
     ]
    }
   ],
   "source": [
    "# 4. Print info with multiple argument types\n",
    "def print_info(name, age, city=\"Unknown\", **kwargs):\n",
    "    # Print person's info with various argument types\n",
    "    info = f\"Name: {name}, Age: {age}, City: {city}\"\n",
    "    for key, value in kwargs.items():\n",
    "        info += f\", {key}: {value}\"\n",
    "    print(info)\n",
    "\n",
    "print_info(\"Bob\", 25, hobby=\"painting\", job=\"artist\")\n",
    "# Output: Name: Bob, Age: 25, City: Unknown, hobby: painting, job: artist"
   ]
  },
  {
   "cell_type": "code",
   "execution_count": 5,
   "metadata": {},
   "outputs": [
    {
     "name": "stdout",
     "output_type": "stream",
     "text": [
      "90.0\n",
      "80.0\n"
     ]
    }
   ],
   "source": [
    "# 5. Calculate discount with optional argument\n",
    "def calculate_discount(price, discount_percent=10):\n",
    "    # Calculate discounted price\n",
    "    discount = price * (discount_percent / 100)\n",
    "    return price - discount\n",
    "\n",
    "print(calculate_discount(100))  # Output: 90.0\n",
    "print(calculate_discount(100, 20))  # Output: 80.0"
   ]
  }
 ],
 "metadata": {
  "kernelspec": {
   "display_name": "python_in_kassel",
   "language": "python",
   "name": "python3"
  },
  "language_info": {
   "codemirror_mode": {
    "name": "ipython",
    "version": 3
   },
   "file_extension": ".py",
   "mimetype": "text/x-python",
   "name": "python",
   "nbconvert_exporter": "python",
   "pygments_lexer": "ipython3",
   "version": "3.12.4"
  }
 },
 "nbformat": 4,
 "nbformat_minor": 2
}
