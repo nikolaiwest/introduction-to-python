{
 "cells": [
  {
   "cell_type": "markdown",
   "metadata": {},
   "source": [
    "## 👨‍💻 Solutions 5.3: Advanced Function Concepts\n",
    "\n",
    "**Lambda functions and higher-order functions:**\n",
    "\n",
    "1. Write a lambda function that takes two parameters and returns their product. Use this lambda function with the `map()` function to multiply each element in a list by `2`.\n",
    "\n",
    "2. Create a higher-order function called `apply_operation` that takes a function and two numbers as arguments. It should apply the function to the two numbers and return the result. Test it with addition and multiplication functions.\n",
    "\n",
    "**Recursive functions:**\n",
    "\n",
    "3. Create a recursive function to calculate the nth Fibonacci number. (Hint: The Fibonacci sequence is 0, 1, 1, 2, 3, 5, 8, ..., where each number is the sum of the two preceding ones.)\n",
    "\n",
    "**Function documentation:**\n",
    "\n",
    "4. Write a function called `calculate_bmi` that takes `weight` (in kg) and `height` (in m) as parameters and returns the Body Mass Index (BMI). Include a proper docstring with a description, parameters, return value, and an example.\n",
    "\n",
    "**Closures:**\n",
    "\n",
    "5. Create a function called `create_multiplier` that takes a number n as an argument and returns a function. The returned function should take another number as an argument and return the product of this number and n."
   ]
  },
  {
   "cell_type": "markdown",
   "metadata": {},
   "source": [
    "*Lambda functions and higher-order functions:*"
   ]
  },
  {
   "cell_type": "code",
   "execution_count": null,
   "metadata": {},
   "outputs": [
    {
     "name": "stdout",
     "output_type": "stream",
     "text": [
      "[2, 4, 6, 8, 10]\n"
     ]
    }
   ],
   "source": [
    "# 1. Lambda function with map()\n",
    "numbers = [1, 2, 3, 4, 5]\n",
    "doubled = list(map(lambda x: x * 2, numbers))\n",
    "print(doubled)  # Output: [2, 4, 6, 8, 10]"
   ]
  },
  {
   "cell_type": "code",
   "execution_count": null,
   "metadata": {},
   "outputs": [
    {
     "name": "stdout",
     "output_type": "stream",
     "text": [
      "8\n",
      "15\n"
     ]
    }
   ],
   "source": [
    "# 2. Higher-order function\n",
    "def apply_operation(func, a, b):\n",
    "    return func(a, b)\n",
    "\n",
    "add = lambda x, y: x + y\n",
    "multiply = lambda x, y: x * y\n",
    "\n",
    "print(apply_operation(add, 5, 3))      # Output: 8\n",
    "print(apply_operation(multiply, 5, 3)) # Output: 15"
   ]
  },
  {
   "cell_type": "markdown",
   "metadata": {},
   "source": [
    "*Recursive functions:*"
   ]
  },
  {
   "cell_type": "code",
   "execution_count": null,
   "metadata": {},
   "outputs": [
    {
     "name": "stdout",
     "output_type": "stream",
     "text": [
      "13\n"
     ]
    }
   ],
   "source": [
    "# 3. Recursive Fibonacci function\n",
    "def fibonacci(n):\n",
    "    if n <= 1:\n",
    "        return n\n",
    "    else:\n",
    "        return fibonacci(n-1) + fibonacci(n-2)\n",
    "\n",
    "print(fibonacci(7))  # Output: 13"
   ]
  },
  {
   "cell_type": "markdown",
   "metadata": {},
   "source": [
    "*Function documentation and type hints:*"
   ]
  },
  {
   "cell_type": "code",
   "execution_count": null,
   "metadata": {},
   "outputs": [
    {
     "name": "stdout",
     "output_type": "stream",
     "text": [
      "22.857142857142858\n"
     ]
    }
   ],
   "source": [
    "# 4. Function with docstring and type hints\n",
    "def calculate_bmi(weight: float, height: float) -> float:\n",
    "    \"\"\"\n",
    "    Calculate the Body Mass Index (BMI).\n",
    "\n",
    "    Parameters:\n",
    "    weight (float): Weight in kilograms\n",
    "    height (float): Height in meters\n",
    "\n",
    "    Returns:\n",
    "    float: The calculated BMI\n",
    "\n",
    "    Example:\n",
    "    >>> calculate_bmi(70, 1.75)\n",
    "    22.86\n",
    "    \"\"\"\n",
    "    return weight / (height ** 2)\n",
    "\n",
    "print(calculate_bmi(70, 1.75))  # Output: 22.86"
   ]
  },
  {
   "cell_type": "markdown",
   "metadata": {},
   "source": [
    "*Closures:*"
   ]
  },
  {
   "cell_type": "code",
   "execution_count": null,
   "metadata": {},
   "outputs": [
    {
     "name": "stdout",
     "output_type": "stream",
     "text": [
      "10\n",
      "15\n"
     ]
    }
   ],
   "source": [
    "# 5. Closure\n",
    "def create_multiplier(n):\n",
    "    def multiplier(x):\n",
    "        return x * n\n",
    "    return multiplier\n",
    "\n",
    "double = create_multiplier(2)\n",
    "triple = create_multiplier(3)\n",
    "\n",
    "print(double(5))  # Output: 10\n",
    "print(triple(5))  # Output: 15"
   ]
  }
 ],
 "metadata": {
  "language_info": {
   "name": "python"
  }
 },
 "nbformat": 4,
 "nbformat_minor": 2
}
